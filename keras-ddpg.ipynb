{
 "cells": [
  {
   "cell_type": "code",
   "execution_count": 1,
   "metadata": {
    "ExecuteTime": {
     "end_time": "2017-07-19T00:18:19.655784Z",
     "start_time": "2017-07-19T08:18:18.451533+08:00"
    }
   },
   "outputs": [
    {
     "name": "stderr",
     "output_type": "stream",
     "text": [
      "INFO:__main__:__main__ logger started.\n"
     ]
    }
   ],
   "source": [
    "# plotting\n",
    "%matplotlib inline\n",
    "from matplotlib import pyplot as plt\n",
    "import seaborn as sns\n",
    "plt.style.use('ggplot')\n",
    "\n",
    "# numeric\n",
    "import numpy as np\n",
    "from numpy import random\n",
    "import pandas as pd\n",
    "\n",
    "# utils\n",
    "from tqdm import tqdm_notebook as tqdm\n",
    "from collections import Counter\n",
    "import tempfile\n",
    "import logging\n",
    "import time\n",
    "import datetime\n",
    "\n",
    "# logging\n",
    "logger = log = logging.getLogger(__name__)\n",
    "log.setLevel(logging.INFO)\n",
    "logging.basicConfig()\n",
    "log.info('%s logger started.', __name__)"
   ]
  },
  {
   "cell_type": "code",
   "execution_count": 2,
   "metadata": {
    "ExecuteTime": {
     "end_time": "2017-07-19T00:18:59.840242Z",
     "start_time": "2017-07-19T08:18:19.659037+08:00"
    }
   },
   "outputs": [
    {
     "name": "stderr",
     "output_type": "stream",
     "text": [
      "Using TensorFlow backend.\n"
     ]
    }
   ],
   "source": [
    "# reinforcement learning\n",
    "import gym\n",
    "from gym import error, spaces, utils\n",
    "from gym.utils import seeding\n",
    "\n",
    "from keras.models import Sequential\n",
    "from keras.layers import Flatten, Dense, Activation, BatchNormalization\n",
    "from keras.optimizers import Adam\n",
    "from keras.layers.advanced_activations import LeakyReLU\n",
    "from keras.models import Sequential\n",
    "from keras.layers import Flatten, Dense, Activation, BatchNormalization, Conv1D, InputLayer, Dropout, regularizers, Conv2D, Reshape\n",
    "from keras.optimizers import Adam\n",
    "from keras.layers.advanced_activations import LeakyReLU\n",
    "from keras.activations import relu"
   ]
  },
  {
   "cell_type": "code",
   "execution_count": null,
   "metadata": {
    "ExecuteTime": {
     "end_time": "2017-07-12T07:24:50.874995Z",
     "start_time": "2017-07-12T15:24:50.872400+08:00"
    },
    "collapsed": true
   },
   "outputs": [],
   "source": []
  },
  {
   "cell_type": "code",
   "execution_count": 3,
   "metadata": {
    "ExecuteTime": {
     "end_time": "2017-07-19T00:18:59.898222Z",
     "start_time": "2017-07-19T08:18:59.843115+08:00"
    },
    "collapsed": true
   },
   "outputs": [],
   "source": [
    "import os\n",
    "os.sys.path.append(os.path.abspath('.'))\n",
    "%reload_ext autoreload\n",
    "%autoreload 2\n",
    "\n",
    "# from src.callbacks.rl_callbacks import ReduceLROnPlateau, TrainIntervalLoggerTQDMNotebook"
   ]
  },
  {
   "cell_type": "code",
   "execution_count": 4,
   "metadata": {
    "ExecuteTime": {
     "end_time": "2017-07-19T00:18:59.957397Z",
     "start_time": "2017-07-19T08:18:59.916160+08:00"
    },
    "collapsed": true
   },
   "outputs": [],
   "source": [
    "window_length = 50"
   ]
  },
  {
   "cell_type": "markdown",
   "metadata": {},
   "source": [
    "# Environment\n",
    "\n",
    "Day trading over 256 days. We scale and augment the training data.\n",
    "\n",
    "You can see the base environment class [here](https://github.com/openai/gym/blob/master/gym/core.py#L13) and openai's nice docs [here](https://gym.openai.com/docs)\n"
   ]
  },
  {
   "cell_type": "code",
   "execution_count": 5,
   "metadata": {
    "ExecuteTime": {
     "end_time": "2017-07-19T00:19:00.011315Z",
     "start_time": "2017-07-19T08:18:59.960986+08:00"
    },
    "collapsed": true
   },
   "outputs": [],
   "source": [
    "from src.environments.portfolio import PortfolioEnv"
   ]
  },
  {
   "cell_type": "code",
   "execution_count": 6,
   "metadata": {
    "ExecuteTime": {
     "end_time": "2017-07-19T00:19:00.359655Z",
     "start_time": "2017-07-19T08:19:00.035323+08:00"
    },
    "collapsed": true
   },
   "outputs": [],
   "source": [
    "df_train = pd.read_hdf('./data/poloniex_30m.hf',key='train')\n",
    "env = PortfolioEnv(\n",
    "    df=df_train,\n",
    "    steps=30, \n",
    "    scale=True, \n",
    "    augment=0.0000, # let just overfit first,\n",
    "    trading_cost=0, # let just overfit first,\n",
    "    window_length = window_length,\n",
    "    \n",
    ")\n",
    "env.seed = 0   \n",
    "\n",
    "df_test = pd.read_hdf('./data/poloniex_30m.hf',key='test')\n",
    "env_test = PortfolioEnv(\n",
    "    df=df_test,\n",
    "    steps=30, \n",
    "    scale=True, \n",
    "    augment=0.00,\n",
    "    trading_cost=0, # let just overfit first\n",
    "    window_length=window_length,\n",
    ")\n",
    "env_test.seed = 0  "
   ]
  },
  {
   "cell_type": "markdown",
   "metadata": {
    "ExecuteTime": {
     "end_time": "2017-07-04T01:42:37.345932Z",
     "start_time": "2017-07-04T09:42:37.328860+08:00"
    },
    "collapsed": true
   },
   "source": [
    "# Model\n",
    "\n",
    "arXiv:1612.01277 indicated that CNN's are just as effective. That's great because I like them, they are fast so I can try more things and see the results faster. So we will be using a CNN model.\n"
   ]
  },
  {
   "cell_type": "code",
   "execution_count": 7,
   "metadata": {
    "ExecuteTime": {
     "end_time": "2017-07-19T00:19:00.607476Z",
     "start_time": "2017-07-19T08:19:00.368239+08:00"
    }
   },
   "outputs": [
    {
     "name": "stdout",
     "output_type": "stream",
     "text": [
      "_________________________________________________________________\n",
      "Layer (type)                 Output Shape              Param #   \n",
      "=================================================================\n",
      "input_1 (InputLayer)         (None, 1, 5, 50, 3)       0         \n",
      "_________________________________________________________________\n",
      "reshape_1 (Reshape)          (None, 5, 50, 3)          0         \n",
      "_________________________________________________________________\n",
      "conv2d_1 (Conv2D)            (None, 5, 48, 2)          20        \n",
      "_________________________________________________________________\n",
      "conv2d_2 (Conv2D)            (None, 5, 1, 20)          1940      \n",
      "_________________________________________________________________\n",
      "conv2d_3 (Conv2D)            (None, 5, 1, 1)           21        \n",
      "_________________________________________________________________\n",
      "flatten_1 (Flatten)          (None, 5)                 0         \n",
      "_________________________________________________________________\n",
      "dense_1 (Dense)              (None, 6)                 36        \n",
      "_________________________________________________________________\n",
      "activation_1 (Activation)    (None, 6)                 0         \n",
      "=================================================================\n",
      "Total params: 2,017\n",
      "Trainable params: 2,017\n",
      "Non-trainable params: 0\n",
      "_________________________________________________________________\n",
      "None\n",
      "____________________________________________________________________________________________________\n",
      "Layer (type)                     Output Shape          Param #     Connected to                     \n",
      "====================================================================================================\n",
      "observation_input (InputLayer)   (None, 1, 5, 50, 3)   0                                            \n",
      "____________________________________________________________________________________________________\n",
      "action_input (InputLayer)        (None, 6)             0                                            \n",
      "____________________________________________________________________________________________________\n",
      "flatten_2 (Flatten)              (None, 750)           0           observation_input[0][0]          \n",
      "____________________________________________________________________________________________________\n",
      "concatenate_1 (Concatenate)      (None, 756)           0           action_input[0][0]               \n",
      "                                                                   flatten_2[0][0]                  \n",
      "____________________________________________________________________________________________________\n",
      "dense_2 (Dense)                  (None, 64)            48448       concatenate_1[0][0]              \n",
      "____________________________________________________________________________________________________\n",
      "activation_2 (Activation)        (None, 64)            0           dense_2[0][0]                    \n",
      "____________________________________________________________________________________________________\n",
      "dense_3 (Dense)                  (None, 32)            2080        activation_2[0][0]               \n",
      "____________________________________________________________________________________________________\n",
      "activation_3 (Activation)        (None, 32)            0           dense_3[0][0]                    \n",
      "____________________________________________________________________________________________________\n",
      "dense_4 (Dense)                  (None, 32)            1056        activation_3[0][0]               \n",
      "____________________________________________________________________________________________________\n",
      "activation_4 (Activation)        (None, 32)            0           dense_4[0][0]                    \n",
      "____________________________________________________________________________________________________\n",
      "dense_5 (Dense)                  (None, 1)             33          activation_4[0][0]               \n",
      "____________________________________________________________________________________________________\n",
      "activation_5 (Activation)        (None, 1)             0           dense_5[0][0]                    \n",
      "====================================================================================================\n",
      "Total params: 51,617\n",
      "Trainable params: 51,617\n",
      "Non-trainable params: 0\n",
      "____________________________________________________________________________________________________\n",
      "None\n"
     ]
    }
   ],
   "source": [
    "from keras.layers import Input, merge, Reshape\n",
    "from keras.layers import concatenate, Conv2D\n",
    "from keras.regularizers import l2, l1_l2\n",
    "from keras.models import Model\n",
    "\n",
    "window_length=50\n",
    "nb_actions=env.action_space.shape[0]\n",
    "reg=1e-8\n",
    "\n",
    "# Next, we build a very simple model.\n",
    "actor = Sequential()\n",
    "actor.add(InputLayer(input_shape=(1,)+env.observation_space.shape))\n",
    "actor.add(Reshape(env.observation_space.shape))\n",
    "actor.add(Conv2D(\n",
    "    filters=2,\n",
    "    kernel_size=(1,3),\n",
    "    kernel_regularizer=l2(reg),\n",
    "    activation='relu'\n",
    "))\n",
    "actor.add(Conv2D(\n",
    "    filters=20,\n",
    "    kernel_size=(1,window_length-2),\n",
    "    kernel_regularizer=l2(reg),\n",
    "    activation='relu'\n",
    "))\n",
    "actor.add(Conv2D(\n",
    "    filters=1,\n",
    "    kernel_size=(1,1),\n",
    "    kernel_regularizer=l2(reg),\n",
    "    activation='relu'\n",
    "))\n",
    "actor.add(Flatten())\n",
    "actor.add(Dense(nb_actions))\n",
    "actor.add(Activation('softmax'))\n",
    "print(actor.summary())\n",
    "\n",
    "action_input = Input(shape=(nb_actions,), name='action_input')\n",
    "observation_input = Input(shape=(1,)+env.observation_space.shape, name='observation_input')\n",
    "flattened_observation = Flatten()(observation_input)\n",
    "x = concatenate([action_input, flattened_observation])\n",
    "x = Dense(64)(x)\n",
    "x = Activation('relu')(x)\n",
    "x = Dense(32)(x)\n",
    "x = Activation('relu')(x)\n",
    "x = Dense(32)(x)\n",
    "x = Activation('relu')(x)\n",
    "x = Dense(1)(x)\n",
    "x = Activation('linear')(x)\n",
    "critic = Model(inputs=[action_input, observation_input], outputs=x)\n",
    "print(critic.summary())"
   ]
  },
  {
   "cell_type": "markdown",
   "metadata": {},
   "source": [
    "# Agent"
   ]
  },
  {
   "cell_type": "code",
   "execution_count": 8,
   "metadata": {
    "ExecuteTime": {
     "end_time": "2017-07-19T00:19:01.457065Z",
     "start_time": "2017-07-19T08:19:00.610527+08:00"
    }
   },
   "outputs": [
    {
     "data": {
      "text/plain": [
       "<rl.agents.ddpg.DDPGAgent at 0x7f7b92681550>"
      ]
     },
     "execution_count": 8,
     "metadata": {},
     "output_type": "execute_result"
    }
   ],
   "source": [
    "from rl.agents.ddpg import DDPGAgent\n",
    "from rl.policy import BoltzmannQPolicy, EpsGreedyQPolicy, LinearAnnealedPolicy\n",
    "from rl.memory import SequentialMemory\n",
    "from rl.random import OrnsteinUhlenbeckProcess\n",
    "\n",
    "# Get the environment and extract the number of actions.\n",
    "np.random.seed(0)\n",
    "\n",
    "# Finally, we configure and compile our agent. You can use every built-in Keras optimizer and\n",
    "# even the metrics!\n",
    "\n",
    "# We are providing the last 50 steps so we don't need memory, use window_lenght=1 as placeholder\n",
    "memory = SequentialMemory(limit=10000, window_length=1)\n",
    "\n",
    "random_process = OrnsteinUhlenbeckProcess(\n",
    "    size=nb_actions, theta=.15, mu=0., sigma=.3)\n",
    "\n",
    "agent = DDPGAgent(\n",
    "    nb_actions=nb_actions,\n",
    "    actor=actor,\n",
    "    critic=critic,\n",
    "    critic_action_input=action_input,\n",
    "    random_process=random_process,\n",
    "    memory=memory,\n",
    "    batch_size=50,\n",
    "    nb_steps_warmup_critic=100,\n",
    "    nb_steps_warmup_actor=100,    \n",
    "    gamma=.00, # discounted factor of zero as per paper\n",
    "    target_model_update=1e-3\n",
    ")\n",
    "\n",
    "agent.compile(Adam(lr=3e-5), metrics=['mse'])\n",
    "agent"
   ]
  },
  {
   "cell_type": "markdown",
   "metadata": {},
   "source": [
    "# Train"
   ]
  },
  {
   "cell_type": "code",
   "execution_count": 9,
   "metadata": {
    "ExecuteTime": {
     "end_time": "2017-07-17T10:15:28.147738Z",
     "start_time": "2017-07-17T18:15:28.108160+08:00"
    },
    "collapsed": true
   },
   "outputs": [],
   "source": [
    "from src.callbacks.keras_rl_callbacks import TrainIntervalLoggerTQDMNotebook"
   ]
  },
  {
   "cell_type": "code",
   "execution_count": 17,
   "metadata": {
    "ExecuteTime": {
     "end_time": "2017-07-17T18:39:50.667954Z",
     "start_time": "2017-07-17T18:20:26.483073+08:00"
    },
    "scrolled": true
   },
   "outputs": [
    {
     "name": "stderr",
     "output_type": "stream",
     "text": [
      "Widget Javascript not detected.  It may not be installed or enabled properly.\n"
     ]
    },
    {
     "data": {
      "application/vnd.jupyter.widget-view+json": {
       "model_id": "01c016d24c104fd3b1e33e87401c0540"
      }
     },
     "metadata": {},
     "output_type": "display_data"
    },
    {
     "name": "stdout",
     "output_type": "stream",
     "text": [
      "Training for 2000000.0 steps ...\n",
      "Interval 1 (0 steps performed)\n",
      "15729/|/reward=-0.0000 info=(reward: -0.0000, log_return: -0.0004, portfolio_value: 0.9944, returns: 1.0010, rate_of_return: -0.0004, cost: 0.0000, steps: 10.0000, )  1%|| 15729/2000000.0 [05:00<12:15:35, 44.96it/s]\n",
      "333 episodes - episode_reward: 0.000 [-0.004, 0.005] - loss: 0.000 - mean_squared_error: 0.000 - mean_q: 0.000 - reward: 0.000 - log_return: 0.000 - portfolio_value: 1.004 - returns: 1.000 - rate_of_return: 0.000 - cost: 0.000 - steps: 16.490\n",
      "\n",
      "Interval 2 (10000 steps performed)\n",
      "333 episodes - episode_reward: 0.000 [-0.003, 0.004] - loss: 0.000 - mean_squared_error: 0.000 - mean_q: 0.000 - reward: 0.000 - log_return: 0.000 - portfolio_value: 1.004 - returns: 1.000 - rate_of_return: 0.000 - cost: 0.000 - steps: 16.500\n",
      "\n",
      "Interval 3 (20000 steps performed)\n",
      "334 episodes - episode_reward: 0.000 [-0.002, 0.004] - loss: 0.000 - mean_squared_error: 0.000 - mean_q: 0.000 - reward: 0.000 - log_return: 0.000 - portfolio_value: 1.006 - returns: 1.000 - rate_of_return: 0.000 - cost: 0.000 - steps: 16.510\n",
      "\n",
      "Interval 4 (30000 steps performed)\n",
      "333 episodes - episode_reward: 0.000 [-0.003, 0.004] - loss: 0.000 - mean_squared_error: 0.000 - mean_q: 0.000 - reward: 0.000 - log_return: 0.000 - portfolio_value: 1.005 - returns: 1.000 - rate_of_return: 0.000 - cost: 0.000 - steps: 16.490\n",
      "\n",
      "Interval 5 (40000 steps performed)\n",
      "333 episodes - episode_reward: 0.000 [-0.002, 0.004] - loss: 0.000 - mean_squared_error: 0.000 - mean_q: 0.000 - reward: 0.000 - log_return: 0.000 - portfolio_value: 1.005 - returns: 1.000 - rate_of_return: 0.000 - cost: 0.000 - steps: 16.500\n",
      "\n",
      "Interval 6 (50000 steps performed)\n",
      "334 episodes - episode_reward: 0.000 [-0.003, 0.004] - loss: 0.000 - mean_squared_error: 0.000 - mean_q: 0.000 - reward: 0.000 - log_return: 0.000 - portfolio_value: 1.005 - returns: 1.000 - rate_of_return: 0.000 - cost: 0.000 - steps: 16.510\n",
      "\n",
      "Interval 7 (60000 steps performed)\n",
      "333 episodes - episode_reward: 0.000 [-0.004, 0.004] - loss: 0.000 - mean_squared_error: 0.000 - mean_q: 0.000 - reward: 0.000 - log_return: 0.000 - portfolio_value: 1.007 - returns: 1.000 - rate_of_return: 0.000 - cost: 0.000 - steps: 16.490\n",
      "\n",
      "Interval 8 (70000 steps performed)\n",
      "333 episodes - episode_reward: 0.000 [-0.004, 0.005] - loss: 0.000 - mean_squared_error: 0.000 - mean_q: 0.000 - reward: 0.000 - log_return: 0.000 - portfolio_value: 1.005 - returns: 1.000 - rate_of_return: 0.000 - cost: 0.000 - steps: 16.500\n",
      "\n",
      "Interval 9 (80000 steps performed)\n",
      "334 episodes - episode_reward: 0.000 [-0.003, 0.007] - loss: 0.000 - mean_squared_error: 0.000 - mean_q: 0.000 - reward: 0.000 - log_return: 0.000 - portfolio_value: 1.006 - returns: 1.000 - rate_of_return: 0.000 - cost: 0.000 - steps: 16.510\n",
      "\n",
      "Interval 10 (90000 steps performed)\n",
      "333 episodes - episode_reward: 0.000 [-0.003, 0.005] - loss: 0.000 - mean_squared_error: 0.000 - mean_q: 0.000 - reward: 0.000 - log_return: 0.000 - portfolio_value: 1.007 - returns: 1.000 - rate_of_return: 0.000 - cost: 0.000 - steps: 16.490\n",
      "\n",
      "Interval 11 (100000 steps performed)\n",
      "333 episodes - episode_reward: 0.000 [-0.003, 0.003] - loss: 0.000 - mean_squared_error: 0.000 - mean_q: 0.000 - reward: 0.000 - log_return: 0.000 - portfolio_value: 1.007 - returns: 1.000 - rate_of_return: 0.000 - cost: 0.000 - steps: 16.500\n",
      "\n",
      "Interval 12 (110000 steps performed)\n",
      "334 episodes - episode_reward: 0.000 [-0.003, 0.005] - loss: 0.000 - mean_squared_error: 0.000 - mean_q: 0.000 - reward: 0.000 - log_return: 0.000 - portfolio_value: 1.007 - returns: 1.000 - rate_of_return: 0.000 - cost: 0.000 - steps: 16.510\n",
      "\n",
      "Interval 13 (120000 steps performed)\n",
      "333 episodes - episode_reward: 0.001 [-0.003, 0.004] - loss: 0.000 - mean_squared_error: 0.000 - mean_q: 0.000 - reward: 0.000 - log_return: 0.001 - portfolio_value: 1.009 - returns: 1.000 - rate_of_return: 0.001 - cost: 0.000 - steps: 16.490\n",
      "\n",
      "Interval 14 (130000 steps performed)\n",
      "333 episodes - episode_reward: 0.001 [-0.003, 0.010] - loss: 0.000 - mean_squared_error: 0.000 - mean_q: 0.000 - reward: 0.000 - log_return: 0.001 - portfolio_value: 1.009 - returns: 1.000 - rate_of_return: 0.001 - cost: 0.000 - steps: 16.500\n",
      "\n",
      "Interval 15 (140000 steps performed)\n",
      "334 episodes - episode_reward: 0.001 [-0.005, 0.006] - loss: 0.000 - mean_squared_error: 0.000 - mean_q: 0.000 - reward: 0.000 - log_return: 0.001 - portfolio_value: 1.009 - returns: 1.000 - rate_of_return: 0.001 - cost: 0.000 - steps: 16.510\n",
      "\n",
      "Interval 16 (150000 steps performed)\n",
      "333 episodes - episode_reward: 0.000 [-0.003, 0.005] - loss: 0.000 - mean_squared_error: 0.000 - mean_q: 0.000 - reward: 0.000 - log_return: 0.000 - portfolio_value: 1.007 - returns: 1.000 - rate_of_return: 0.000 - cost: 0.000 - steps: 16.490\n",
      "\n",
      "Interval 17 (160000 steps performed)\n",
      "333 episodes - episode_reward: 0.001 [-0.003, 0.005] - loss: 0.000 - mean_squared_error: 0.000 - mean_q: 0.000 - reward: 0.000 - log_return: 0.001 - portfolio_value: 1.009 - returns: 1.000 - rate_of_return: 0.001 - cost: 0.000 - steps: 16.500\n",
      "\n",
      "Interval 18 (170000 steps performed)\n",
      "334 episodes - episode_reward: 0.001 [-0.004, 0.004] - loss: 0.000 - mean_squared_error: 0.000 - mean_q: 0.000 - reward: 0.000 - log_return: 0.001 - portfolio_value: 1.008 - returns: 1.000 - rate_of_return: 0.001 - cost: 0.000 - steps: 16.510\n",
      "\n",
      "Interval 19 (180000 steps performed)\n",
      "333 episodes - episode_reward: 0.001 [-0.004, 0.010] - loss: 0.000 - mean_squared_error: 0.000 - mean_q: 0.000 - reward: 0.000 - log_return: 0.001 - portfolio_value: 1.010 - returns: 1.000 - rate_of_return: 0.001 - cost: 0.000 - steps: 16.490\n",
      "\n",
      "Interval 20 (190000 steps performed)\n",
      "333 episodes - episode_reward: 0.001 [-0.003, 0.007] - loss: 0.000 - mean_squared_error: 0.000 - mean_q: 0.000 - reward: 0.000 - log_return: 0.001 - portfolio_value: 1.010 - returns: 1.000 - rate_of_return: 0.001 - cost: 0.000 - steps: 16.500\n",
      "\n",
      "Interval 21 (200000 steps performed)\n",
      "334 episodes - episode_reward: 0.000 [-0.004, 0.004] - loss: 0.000 - mean_squared_error: 0.000 - mean_q: 0.000 - reward: 0.000 - log_return: 0.000 - portfolio_value: 1.006 - returns: 1.000 - rate_of_return: 0.000 - cost: 0.000 - steps: 16.510\n",
      "\n",
      "Interval 22 (210000 steps performed)\n",
      "333 episodes - episode_reward: 0.000 [-0.003, 0.006] - loss: 0.000 - mean_squared_error: 0.000 - mean_q: 0.000 - reward: 0.000 - log_return: 0.000 - portfolio_value: 1.007 - returns: 1.000 - rate_of_return: 0.000 - cost: 0.000 - steps: 16.490\n",
      "\n",
      "Interval 23 (220000 steps performed)\n",
      "333 episodes - episode_reward: 0.000 [-0.003, 0.004] - loss: 0.000 - mean_squared_error: 0.000 - mean_q: 0.000 - reward: 0.000 - log_return: 0.000 - portfolio_value: 1.004 - returns: 1.000 - rate_of_return: 0.000 - cost: 0.000 - steps: 16.500\n",
      "\n",
      "Interval 24 (230000 steps performed)\n",
      "334 episodes - episode_reward: 0.000 [-0.004, 0.003] - loss: 0.000 - mean_squared_error: 0.000 - mean_q: 0.000 - reward: 0.000 - log_return: 0.000 - portfolio_value: 1.004 - returns: 1.000 - rate_of_return: 0.000 - cost: 0.000 - steps: 16.510\n",
      "\n",
      "Interval 25 (240000 steps performed)\n",
      "333 episodes - episode_reward: 0.000 [-0.002, 0.003] - loss: 0.000 - mean_squared_error: 0.000 - mean_q: 0.000 - reward: 0.000 - log_return: 0.000 - portfolio_value: 1.004 - returns: 1.000 - rate_of_return: 0.000 - cost: 0.000 - steps: 16.490\n",
      "\n",
      "Interval 26 (250000 steps performed)\n",
      "333 episodes - episode_reward: 0.000 [-0.002, 0.003] - loss: 0.000 - mean_squared_error: 0.000 - mean_q: 0.000 - reward: 0.000 - log_return: 0.000 - portfolio_value: 1.004 - returns: 1.000 - rate_of_return: 0.000 - cost: 0.000 - steps: 16.500\n",
      "\n",
      "Interval 27 (260000 steps performed)\n",
      "334 episodes - episode_reward: 0.000 [-0.002, 0.002] - loss: 0.000 - mean_squared_error: 0.000 - mean_q: 0.000 - reward: 0.000 - log_return: 0.000 - portfolio_value: 1.003 - returns: 1.000 - rate_of_return: 0.000 - cost: 0.000 - steps: 16.510\n",
      "\n",
      "Interval 28 (270000 steps performed)\n",
      "333 episodes - episode_reward: 0.000 [-0.002, 0.003] - loss: 0.000 - mean_squared_error: 0.000 - mean_q: 0.000 - reward: 0.000 - log_return: 0.000 - portfolio_value: 1.003 - returns: 1.000 - rate_of_return: 0.000 - cost: 0.000 - steps: 16.490\n",
      "\n",
      "Interval 29 (280000 steps performed)\n",
      "333 episodes - episode_reward: 0.000 [-0.002, 0.003] - loss: 0.000 - mean_squared_error: 0.000 - mean_q: 0.000 - reward: 0.000 - log_return: 0.000 - portfolio_value: 1.002 - returns: 1.000 - rate_of_return: 0.000 - cost: 0.000 - steps: 16.500\n",
      "\n",
      "Interval 30 (290000 steps performed)\n"
     ]
    },
    {
     "name": "stdout",
     "output_type": "stream",
     "text": [
      "334 episodes - episode_reward: 0.000 [-0.001, 0.002] - loss: 0.000 - mean_squared_error: 0.000 - mean_q: 0.000 - reward: 0.000 - log_return: 0.000 - portfolio_value: 1.003 - returns: 1.000 - rate_of_return: 0.000 - cost: 0.000 - steps: 16.510\n",
      "\n",
      "Interval 31 (300000 steps performed)\n",
      "333 episodes - episode_reward: 0.000 [-0.004, 0.003] - loss: 0.000 - mean_squared_error: 0.000 - mean_q: 0.000 - reward: 0.000 - log_return: 0.000 - portfolio_value: 1.002 - returns: 1.000 - rate_of_return: 0.000 - cost: 0.000 - steps: 16.490\n",
      "\n",
      "Interval 32 (310000 steps performed)\n",
      "333 episodes - episode_reward: 0.000 [-0.002, 0.003] - loss: 0.000 - mean_squared_error: 0.000 - mean_q: 0.000 - reward: 0.000 - log_return: 0.000 - portfolio_value: 1.004 - returns: 1.000 - rate_of_return: 0.000 - cost: 0.000 - steps: 16.500\n",
      "\n",
      "Interval 33 (320000 steps performed)\n",
      "334 episodes - episode_reward: 0.000 [-0.006, 0.005] - loss: 0.000 - mean_squared_error: 0.000 - mean_q: 0.000 - reward: 0.000 - log_return: 0.000 - portfolio_value: 1.006 - returns: 1.000 - rate_of_return: 0.000 - cost: 0.000 - steps: 16.510\n",
      "\n",
      "Interval 34 (330000 steps performed)\n",
      "333 episodes - episode_reward: 0.000 [-0.002, 0.005] - loss: 0.000 - mean_squared_error: 0.000 - mean_q: 0.000 - reward: 0.000 - log_return: 0.000 - portfolio_value: 1.007 - returns: 1.000 - rate_of_return: 0.000 - cost: 0.000 - steps: 16.490\n",
      "\n",
      "Interval 35 (340000 steps performed)\n",
      "333 episodes - episode_reward: 0.000 [-0.004, 0.004] - loss: 0.000 - mean_squared_error: 0.000 - mean_q: 0.000 - reward: 0.000 - log_return: 0.000 - portfolio_value: 1.007 - returns: 1.000 - rate_of_return: 0.000 - cost: 0.000 - steps: 16.500\n",
      "\n",
      "Interval 36 (350000 steps performed)\n",
      "334 episodes - episode_reward: 0.001 [-0.005, 0.007] - loss: 0.000 - mean_squared_error: 0.000 - mean_q: 0.000 - reward: 0.000 - log_return: 0.001 - portfolio_value: 1.008 - returns: 1.000 - rate_of_return: 0.001 - cost: 0.000 - steps: 16.510\n",
      "\n",
      "Interval 37 (360000 steps performed)\n",
      "333 episodes - episode_reward: 0.001 [-0.006, 0.007] - loss: 0.000 - mean_squared_error: 0.000 - mean_q: 0.000 - reward: 0.000 - log_return: 0.001 - portfolio_value: 1.012 - returns: 1.000 - rate_of_return: 0.001 - cost: 0.000 - steps: 16.490\n",
      "\n",
      "Interval 38 (370000 steps performed)\n",
      "333 episodes - episode_reward: 0.001 [-0.004, 0.010] - loss: 0.000 - mean_squared_error: 0.000 - mean_q: 0.000 - reward: 0.000 - log_return: 0.001 - portfolio_value: 1.010 - returns: 1.000 - rate_of_return: 0.001 - cost: 0.000 - steps: 16.500\n",
      "\n",
      "Interval 39 (380000 steps performed)\n",
      "334 episodes - episode_reward: 0.001 [-0.004, 0.007] - loss: 0.000 - mean_squared_error: 0.000 - mean_q: 0.000 - reward: 0.000 - log_return: 0.001 - portfolio_value: 1.010 - returns: 1.000 - rate_of_return: 0.001 - cost: 0.000 - steps: 16.510\n",
      "\n",
      "Interval 40 (390000 steps performed)\n",
      "333 episodes - episode_reward: 0.001 [-0.004, 0.007] - loss: 0.000 - mean_squared_error: 0.000 - mean_q: 0.000 - reward: 0.000 - log_return: 0.001 - portfolio_value: 1.010 - returns: 1.000 - rate_of_return: 0.001 - cost: 0.000 - steps: 16.490\n",
      "\n",
      "Interval 41 (400000 steps performed)\n",
      "333 episodes - episode_reward: 0.001 [-0.005, 0.006] - loss: 0.000 - mean_squared_error: 0.000 - mean_q: 0.000 - reward: 0.000 - log_return: 0.001 - portfolio_value: 1.011 - returns: 1.000 - rate_of_return: 0.001 - cost: 0.000 - steps: 16.500\n",
      "\n",
      "Interval 42 (410000 steps performed)\n",
      "334 episodes - episode_reward: 0.001 [-0.006, 0.008] - loss: 0.000 - mean_squared_error: 0.000 - mean_q: 0.000 - reward: 0.000 - log_return: 0.001 - portfolio_value: 1.011 - returns: 1.000 - rate_of_return: 0.001 - cost: 0.000 - steps: 16.510\n",
      "\n",
      "Interval 43 (420000 steps performed)\n",
      "333 episodes - episode_reward: 0.001 [-0.004, 0.011] - loss: 0.000 - mean_squared_error: 0.000 - mean_q: 0.000 - reward: 0.000 - log_return: 0.001 - portfolio_value: 1.016 - returns: 1.000 - rate_of_return: 0.001 - cost: 0.000 - steps: 16.490\n",
      "\n",
      "Interval 44 (430000 steps performed)\n",
      "333 episodes - episode_reward: 0.000 [-0.008, 0.006] - loss: 0.000 - mean_squared_error: 0.000 - mean_q: 0.000 - reward: 0.000 - log_return: 0.000 - portfolio_value: 1.008 - returns: 1.000 - rate_of_return: 0.001 - cost: 0.000 - steps: 16.500\n",
      "\n",
      "Interval 45 (440000 steps performed)\n",
      "334 episodes - episode_reward: 0.001 [-0.004, 0.009] - loss: 0.000 - mean_squared_error: 0.000 - mean_q: 0.000 - reward: 0.000 - log_return: 0.001 - portfolio_value: 1.012 - returns: 1.000 - rate_of_return: 0.001 - cost: 0.000 - steps: 16.510\n",
      "\n",
      "Interval 46 (450000 steps performed)\n",
      "333 episodes - episode_reward: 0.001 [-0.007, 0.006] - loss: 0.000 - mean_squared_error: 0.000 - mean_q: 0.000 - reward: 0.000 - log_return: 0.001 - portfolio_value: 1.013 - returns: 1.000 - rate_of_return: 0.001 - cost: 0.000 - steps: 16.490\n",
      "\n",
      "Interval 47 (460000 steps performed)\n",
      "333 episodes - episode_reward: 0.001 [-0.006, 0.006] - loss: 0.000 - mean_squared_error: 0.000 - mean_q: 0.000 - reward: 0.000 - log_return: 0.001 - portfolio_value: 1.014 - returns: 1.000 - rate_of_return: 0.001 - cost: 0.000 - steps: 16.500\n",
      "\n",
      "Interval 48 (470000 steps performed)\n",
      "334 episodes - episode_reward: 0.001 [-0.006, 0.006] - loss: 0.000 - mean_squared_error: 0.000 - mean_q: 0.000 - reward: 0.000 - log_return: 0.001 - portfolio_value: 1.010 - returns: 1.000 - rate_of_return: 0.001 - cost: 0.000 - steps: 16.510\n",
      "\n",
      "Interval 49 (480000 steps performed)\n",
      "333 episodes - episode_reward: 0.001 [-0.005, 0.014] - loss: 0.000 - mean_squared_error: 0.000 - mean_q: 0.000 - reward: 0.000 - log_return: 0.001 - portfolio_value: 1.017 - returns: 1.000 - rate_of_return: 0.001 - cost: 0.000 - steps: 16.490\n",
      "\n",
      "Interval 50 (490000 steps performed)\n",
      "333 episodes - episode_reward: 0.001 [-0.004, 0.014] - loss: 0.000 - mean_squared_error: 0.000 - mean_q: 0.000 - reward: 0.000 - log_return: 0.001 - portfolio_value: 1.014 - returns: 1.000 - rate_of_return: 0.001 - cost: 0.000 - steps: 16.500\n",
      "\n",
      "Interval 51 (500000 steps performed)\n",
      "334 episodes - episode_reward: 0.001 [-0.004, 0.006] - loss: 0.000 - mean_squared_error: 0.000 - mean_q: 0.000 - reward: 0.000 - log_return: 0.001 - portfolio_value: 1.009 - returns: 1.000 - rate_of_return: 0.001 - cost: 0.000 - steps: 16.510\n",
      "\n",
      "Interval 52 (510000 steps performed)\n",
      "333 episodes - episode_reward: 0.001 [-0.006, 0.009] - loss: 0.000 - mean_squared_error: 0.000 - mean_q: 0.000 - reward: 0.000 - log_return: 0.001 - portfolio_value: 1.013 - returns: 1.000 - rate_of_return: 0.001 - cost: 0.000 - steps: 16.490\n",
      "\n",
      "Interval 53 (520000 steps performed)\n",
      "333 episodes - episode_reward: 0.001 [-0.004, 0.005] - loss: 0.000 - mean_squared_error: 0.000 - mean_q: 0.000 - reward: 0.000 - log_return: 0.001 - portfolio_value: 1.013 - returns: 1.000 - rate_of_return: 0.001 - cost: 0.000 - steps: 16.500\n",
      "\n",
      "Interval 54 (530000 steps performed)\n",
      "334 episodes - episode_reward: 0.001 [-0.005, 0.008] - loss: 0.000 - mean_squared_error: 0.000 - mean_q: 0.000 - reward: 0.000 - log_return: 0.001 - portfolio_value: 1.012 - returns: 1.000 - rate_of_return: 0.001 - cost: 0.000 - steps: 16.510\n",
      "\n",
      "Interval 55 (540000 steps performed)\n",
      "333 episodes - episode_reward: 0.001 [-0.004, 0.008] - loss: 0.000 - mean_squared_error: 0.000 - mean_q: 0.000 - reward: 0.000 - log_return: 0.001 - portfolio_value: 1.012 - returns: 1.000 - rate_of_return: 0.001 - cost: 0.000 - steps: 16.490\n",
      "\n",
      "Interval 56 (550000 steps performed)\n",
      "333 episodes - episode_reward: 0.001 [-0.004, 0.010] - loss: 0.000 - mean_squared_error: 0.000 - mean_q: 0.000 - reward: 0.000 - log_return: 0.001 - portfolio_value: 1.016 - returns: 1.000 - rate_of_return: 0.001 - cost: 0.000 - steps: 16.500\n",
      "\n",
      "Interval 57 (560000 steps performed)\n",
      "334 episodes - episode_reward: 0.001 [-0.006, 0.006] - loss: 0.000 - mean_squared_error: 0.000 - mean_q: 0.000 - reward: 0.000 - log_return: 0.001 - portfolio_value: 1.012 - returns: 1.000 - rate_of_return: 0.001 - cost: 0.000 - steps: 16.510\n",
      "\n",
      "Interval 58 (570000 steps performed)\n",
      "333 episodes - episode_reward: 0.001 [-0.005, 0.009] - loss: 0.000 - mean_squared_error: 0.000 - mean_q: 0.000 - reward: 0.000 - log_return: 0.001 - portfolio_value: 1.013 - returns: 1.000 - rate_of_return: 0.001 - cost: 0.000 - steps: 16.490\n",
      "\n",
      "Interval 59 (580000 steps performed)\n",
      "333 episodes - episode_reward: 0.001 [-0.006, 0.007] - loss: 0.000 - mean_squared_error: 0.000 - mean_q: 0.000 - reward: 0.000 - log_return: 0.001 - portfolio_value: 1.013 - returns: 1.000 - rate_of_return: 0.001 - cost: 0.000 - steps: 16.500\n",
      "\n",
      "Interval 60 (590000 steps performed)\n"
     ]
    },
    {
     "name": "stdout",
     "output_type": "stream",
     "text": [
      "334 episodes - episode_reward: 0.001 [-0.005, 0.007] - loss: 0.000 - mean_squared_error: 0.000 - mean_q: 0.000 - reward: 0.000 - log_return: 0.001 - portfolio_value: 1.012 - returns: 1.000 - rate_of_return: 0.001 - cost: 0.000 - steps: 16.510\n",
      "\n",
      "Interval 61 (600000 steps performed)\n",
      "333 episodes - episode_reward: 0.001 [-0.005, 0.013] - loss: 0.000 - mean_squared_error: 0.000 - mean_q: 0.000 - reward: 0.000 - log_return: 0.001 - portfolio_value: 1.015 - returns: 1.000 - rate_of_return: 0.001 - cost: 0.000 - steps: 16.490\n",
      "\n",
      "Interval 62 (610000 steps performed)\n",
      "333 episodes - episode_reward: 0.001 [-0.005, 0.009] - loss: 0.000 - mean_squared_error: 0.000 - mean_q: 0.000 - reward: 0.000 - log_return: 0.001 - portfolio_value: 1.012 - returns: 1.000 - rate_of_return: 0.001 - cost: 0.000 - steps: 16.500\n",
      "\n",
      "Interval 63 (620000 steps performed)\n",
      "334 episodes - episode_reward: 0.001 [-0.005, 0.011] - loss: 0.000 - mean_squared_error: 0.000 - mean_q: 0.000 - reward: 0.000 - log_return: 0.001 - portfolio_value: 1.013 - returns: 1.000 - rate_of_return: 0.001 - cost: 0.000 - steps: 16.510\n",
      "\n",
      "Interval 64 (630000 steps performed)\n",
      "333 episodes - episode_reward: 0.001 [-0.007, 0.010] - loss: 0.000 - mean_squared_error: 0.000 - mean_q: 0.000 - reward: 0.000 - log_return: 0.001 - portfolio_value: 1.013 - returns: 1.000 - rate_of_return: 0.001 - cost: 0.000 - steps: 16.490\n",
      "\n",
      "Interval 65 (640000 steps performed)\n",
      "333 episodes - episode_reward: 0.001 [-0.005, 0.009] - loss: 0.000 - mean_squared_error: 0.000 - mean_q: 0.000 - reward: 0.000 - log_return: 0.001 - portfolio_value: 1.014 - returns: 1.000 - rate_of_return: 0.001 - cost: 0.000 - steps: 16.500\n",
      "\n",
      "Interval 66 (650000 steps performed)\n",
      "334 episodes - episode_reward: 0.001 [-0.008, 0.017] - loss: 0.000 - mean_squared_error: 0.000 - mean_q: 0.000 - reward: 0.000 - log_return: 0.001 - portfolio_value: 1.013 - returns: 1.000 - rate_of_return: 0.001 - cost: 0.000 - steps: 16.510\n",
      "\n",
      "Interval 67 (660000 steps performed)\n",
      "333 episodes - episode_reward: 0.001 [-0.006, 0.010] - loss: 0.000 - mean_squared_error: 0.000 - mean_q: 0.000 - reward: 0.000 - log_return: 0.001 - portfolio_value: 1.010 - returns: 1.000 - rate_of_return: 0.001 - cost: 0.000 - steps: 16.490\n",
      "\n",
      "Interval 68 (670000 steps performed)\n",
      "333 episodes - episode_reward: 0.000 [-0.007, 0.010] - loss: 0.000 - mean_squared_error: 0.000 - mean_q: 0.000 - reward: 0.000 - log_return: 0.000 - portfolio_value: 1.007 - returns: 1.000 - rate_of_return: 0.001 - cost: 0.000 - steps: 16.500\n",
      "\n",
      "Interval 69 (680000 steps performed)\n",
      "334 episodes - episode_reward: 0.001 [-0.011, 0.011] - loss: 0.000 - mean_squared_error: 0.000 - mean_q: 0.000 - reward: 0.000 - log_return: 0.001 - portfolio_value: 1.010 - returns: 1.000 - rate_of_return: 0.001 - cost: 0.000 - steps: 16.510\n",
      "\n",
      "Interval 70 (690000 steps performed)\n",
      "333 episodes - episode_reward: 0.001 [-0.008, 0.008] - loss: 0.000 - mean_squared_error: 0.000 - mean_q: 0.000 - reward: 0.000 - log_return: 0.001 - portfolio_value: 1.012 - returns: 1.000 - rate_of_return: 0.001 - cost: 0.000 - steps: 16.490\n",
      "\n",
      "Interval 71 (700000 steps performed)\n",
      "333 episodes - episode_reward: 0.001 [-0.007, 0.009] - loss: 0.000 - mean_squared_error: 0.000 - mean_q: 0.000 - reward: 0.000 - log_return: 0.001 - portfolio_value: 1.014 - returns: 1.000 - rate_of_return: 0.001 - cost: 0.000 - steps: 16.500\n",
      "\n",
      "Interval 72 (710000 steps performed)\n",
      "334 episodes - episode_reward: 0.001 [-0.006, 0.007] - loss: 0.000 - mean_squared_error: 0.000 - mean_q: 0.000 - reward: 0.000 - log_return: 0.001 - portfolio_value: 1.013 - returns: 1.000 - rate_of_return: 0.001 - cost: 0.000 - steps: 16.510\n",
      "\n",
      "Interval 73 (720000 steps performed)\n",
      "333 episodes - episode_reward: 0.001 [-0.006, 0.012] - loss: 0.000 - mean_squared_error: 0.000 - mean_q: 0.000 - reward: 0.000 - log_return: 0.001 - portfolio_value: 1.013 - returns: 1.000 - rate_of_return: 0.001 - cost: 0.000 - steps: 16.490\n",
      "\n",
      "Interval 74 (730000 steps performed)\n",
      "333 episodes - episode_reward: 0.001 [-0.005, 0.011] - loss: 0.000 - mean_squared_error: 0.000 - mean_q: 0.000 - reward: 0.000 - log_return: 0.001 - portfolio_value: 1.011 - returns: 1.000 - rate_of_return: 0.001 - cost: 0.000 - steps: 16.500\n",
      "\n",
      "Interval 75 (740000 steps performed)\n",
      "334 episodes - episode_reward: 0.001 [-0.004, 0.007] - loss: 0.000 - mean_squared_error: 0.000 - mean_q: 0.000 - reward: 0.000 - log_return: 0.001 - portfolio_value: 1.014 - returns: 1.000 - rate_of_return: 0.001 - cost: 0.000 - steps: 16.510\n",
      "\n",
      "Interval 76 (750000 steps performed)\n",
      "333 episodes - episode_reward: 0.001 [-0.004, 0.012] - loss: 0.000 - mean_squared_error: 0.000 - mean_q: 0.000 - reward: 0.000 - log_return: 0.001 - portfolio_value: 1.013 - returns: 1.000 - rate_of_return: 0.001 - cost: 0.000 - steps: 16.490\n",
      "\n",
      "Interval 77 (760000 steps performed)\n",
      "333 episodes - episode_reward: 0.001 [-0.005, 0.006] - loss: 0.000 - mean_squared_error: 0.000 - mean_q: 0.000 - reward: 0.000 - log_return: 0.001 - portfolio_value: 1.010 - returns: 1.000 - rate_of_return: 0.001 - cost: 0.000 - steps: 16.500\n",
      "\n",
      "Interval 78 (770000 steps performed)\n",
      "334 episodes - episode_reward: 0.001 [-0.006, 0.006] - loss: 0.000 - mean_squared_error: 0.000 - mean_q: 0.000 - reward: 0.000 - log_return: 0.001 - portfolio_value: 1.012 - returns: 1.000 - rate_of_return: 0.001 - cost: 0.000 - steps: 16.510\n",
      "\n",
      "Interval 79 (780000 steps performed)\n",
      "333 episodes - episode_reward: 0.001 [-0.004, 0.007] - loss: 0.000 - mean_squared_error: 0.000 - mean_q: 0.000 - reward: 0.000 - log_return: 0.001 - portfolio_value: 1.011 - returns: 1.000 - rate_of_return: 0.001 - cost: 0.000 - steps: 16.490\n",
      "\n",
      "Interval 80 (790000 steps performed)\n",
      "333 episodes - episode_reward: 0.001 [-0.005, 0.009] - loss: 0.000 - mean_squared_error: 0.000 - mean_q: 0.000 - reward: 0.000 - log_return: 0.001 - portfolio_value: 1.013 - returns: 1.000 - rate_of_return: 0.001 - cost: 0.000 - steps: 16.500\n",
      "\n",
      "Interval 81 (800000 steps performed)\n",
      "334 episodes - episode_reward: 0.001 [-0.008, 0.010] - loss: 0.000 - mean_squared_error: 0.000 - mean_q: 0.000 - reward: 0.000 - log_return: 0.001 - portfolio_value: 1.013 - returns: 1.000 - rate_of_return: 0.001 - cost: 0.000 - steps: 16.510\n",
      "\n",
      "Interval 82 (810000 steps performed)\n",
      "333 episodes - episode_reward: 0.001 [-0.004, 0.013] - loss: 0.000 - mean_squared_error: 0.000 - mean_q: 0.000 - reward: 0.000 - log_return: 0.001 - portfolio_value: 1.016 - returns: 1.000 - rate_of_return: 0.001 - cost: 0.000 - steps: 16.490\n",
      "\n",
      "Interval 83 (820000 steps performed)\n",
      "333 episodes - episode_reward: 0.001 [-0.004, 0.014] - loss: 0.000 - mean_squared_error: 0.000 - mean_q: 0.000 - reward: 0.000 - log_return: 0.001 - portfolio_value: 1.015 - returns: 1.000 - rate_of_return: 0.001 - cost: 0.000 - steps: 16.500\n",
      "\n",
      "Interval 84 (830000 steps performed)\n",
      "334 episodes - episode_reward: 0.001 [-0.007, 0.008] - loss: 0.000 - mean_squared_error: 0.000 - mean_q: 0.000 - reward: 0.000 - log_return: 0.001 - portfolio_value: 1.013 - returns: 1.000 - rate_of_return: 0.001 - cost: 0.000 - steps: 16.510\n",
      "\n",
      "Interval 85 (840000 steps performed)\n",
      "333 episodes - episode_reward: 0.001 [-0.005, 0.012] - loss: 0.000 - mean_squared_error: 0.000 - mean_q: 0.000 - reward: 0.000 - log_return: 0.001 - portfolio_value: 1.013 - returns: 1.000 - rate_of_return: 0.001 - cost: 0.000 - steps: 16.490\n",
      "\n",
      "Interval 86 (850000 steps performed)\n",
      "333 episodes - episode_reward: 0.001 [-0.005, 0.009] - loss: 0.000 - mean_squared_error: 0.000 - mean_q: 0.000 - reward: 0.000 - log_return: 0.001 - portfolio_value: 1.011 - returns: 1.000 - rate_of_return: 0.001 - cost: 0.000 - steps: 16.500\n",
      "\n",
      "Interval 87 (860000 steps performed)\n",
      "334 episodes - episode_reward: 0.001 [-0.004, 0.010] - loss: 0.000 - mean_squared_error: 0.000 - mean_q: 0.000 - reward: 0.000 - log_return: 0.001 - portfolio_value: 1.011 - returns: 1.000 - rate_of_return: 0.001 - cost: 0.000 - steps: 16.510\n",
      "\n",
      "Interval 88 (870000 steps performed)\n",
      "333 episodes - episode_reward: 0.001 [-0.004, 0.011] - loss: 0.000 - mean_squared_error: 0.000 - mean_q: 0.000 - reward: 0.000 - log_return: 0.001 - portfolio_value: 1.010 - returns: 1.000 - rate_of_return: 0.001 - cost: 0.000 - steps: 16.490\n",
      "\n",
      "Interval 89 (880000 steps performed)\n",
      "333 episodes - episode_reward: 0.001 [-0.004, 0.009] - loss: 0.000 - mean_squared_error: 0.000 - mean_q: 0.000 - reward: 0.000 - log_return: 0.001 - portfolio_value: 1.013 - returns: 1.000 - rate_of_return: 0.001 - cost: 0.000 - steps: 16.500\n",
      "\n",
      "Interval 90 (890000 steps performed)\n"
     ]
    },
    {
     "name": "stdout",
     "output_type": "stream",
     "text": [
      "334 episodes - episode_reward: 0.001 [-0.005, 0.007] - loss: 0.000 - mean_squared_error: 0.000 - mean_q: 0.000 - reward: 0.000 - log_return: 0.001 - portfolio_value: 1.011 - returns: 1.000 - rate_of_return: 0.001 - cost: 0.000 - steps: 16.510\n",
      "\n",
      "Interval 91 (900000 steps performed)\n",
      "333 episodes - episode_reward: 0.001 [-0.007, 0.010] - loss: 0.000 - mean_squared_error: 0.000 - mean_q: 0.000 - reward: 0.000 - log_return: 0.001 - portfolio_value: 1.014 - returns: 1.000 - rate_of_return: 0.001 - cost: 0.000 - steps: 16.490\n",
      "\n",
      "Interval 92 (910000 steps performed)\n",
      "333 episodes - episode_reward: 0.001 [-0.006, 0.008] - loss: 0.000 - mean_squared_error: 0.000 - mean_q: 0.000 - reward: 0.000 - log_return: 0.001 - portfolio_value: 1.013 - returns: 1.000 - rate_of_return: 0.001 - cost: 0.000 - steps: 16.500\n",
      "\n",
      "Interval 93 (920000 steps performed)\n",
      "334 episodes - episode_reward: 0.001 [-0.009, 0.014] - loss: 0.000 - mean_squared_error: 0.000 - mean_q: 0.000 - reward: 0.000 - log_return: 0.001 - portfolio_value: 1.012 - returns: 1.000 - rate_of_return: 0.001 - cost: 0.000 - steps: 16.510\n",
      "\n",
      "Interval 94 (930000 steps performed)\n",
      "333 episodes - episode_reward: 0.001 [-0.006, 0.012] - loss: 0.000 - mean_squared_error: 0.000 - mean_q: 0.000 - reward: 0.000 - log_return: 0.001 - portfolio_value: 1.013 - returns: 1.000 - rate_of_return: 0.001 - cost: 0.000 - steps: 16.490\n",
      "\n",
      "Interval 95 (940000 steps performed)\n",
      "333 episodes - episode_reward: 0.001 [-0.005, 0.007] - loss: 0.000 - mean_squared_error: 0.000 - mean_q: 0.000 - reward: 0.000 - log_return: 0.001 - portfolio_value: 1.012 - returns: 1.000 - rate_of_return: 0.001 - cost: 0.000 - steps: 16.500\n",
      "\n",
      "Interval 96 (950000 steps performed)\n",
      "334 episodes - episode_reward: 0.001 [-0.007, 0.007] - loss: 0.000 - mean_squared_error: 0.000 - mean_q: 0.000 - reward: 0.000 - log_return: 0.001 - portfolio_value: 1.011 - returns: 1.000 - rate_of_return: 0.001 - cost: 0.000 - steps: 16.510\n",
      "\n",
      "Interval 97 (960000 steps performed)\n",
      "333 episodes - episode_reward: 0.001 [-0.005, 0.008] - loss: 0.000 - mean_squared_error: 0.000 - mean_q: 0.000 - reward: 0.000 - log_return: 0.001 - portfolio_value: 1.011 - returns: 1.000 - rate_of_return: 0.001 - cost: 0.000 - steps: 16.490\n",
      "\n",
      "Interval 98 (970000 steps performed)\n",
      "333 episodes - episode_reward: 0.001 [-0.005, 0.014] - loss: 0.000 - mean_squared_error: 0.000 - mean_q: 0.000 - reward: 0.000 - log_return: 0.001 - portfolio_value: 1.013 - returns: 1.000 - rate_of_return: 0.001 - cost: 0.000 - steps: 16.500\n",
      "\n",
      "Interval 99 (980000 steps performed)\n",
      "334 episodes - episode_reward: 0.001 [-0.003, 0.010] - loss: 0.000 - mean_squared_error: 0.000 - mean_q: 0.000 - reward: 0.000 - log_return: 0.001 - portfolio_value: 1.011 - returns: 1.000 - rate_of_return: 0.001 - cost: 0.000 - steps: 16.510\n",
      "\n",
      "Interval 100 (990000 steps performed)\n",
      "333 episodes - episode_reward: 0.001 [-0.006, 0.012] - loss: 0.000 - mean_squared_error: 0.000 - mean_q: 0.000 - reward: 0.000 - log_return: 0.001 - portfolio_value: 1.013 - returns: 1.000 - rate_of_return: 0.001 - cost: 0.000 - steps: 16.490\n",
      "\n",
      "Interval 101 (1000000 steps performed)\n",
      "333 episodes - episode_reward: 0.001 [-0.004, 0.013] - loss: 0.000 - mean_squared_error: 0.000 - mean_q: 0.000 - reward: 0.000 - log_return: 0.001 - portfolio_value: 1.013 - returns: 1.000 - rate_of_return: 0.001 - cost: 0.000 - steps: 16.500\n",
      "\n",
      "Interval 102 (1010000 steps performed)\n",
      "334 episodes - episode_reward: 0.001 [-0.003, 0.009] - loss: 0.000 - mean_squared_error: 0.000 - mean_q: 0.000 - reward: 0.000 - log_return: 0.001 - portfolio_value: 1.014 - returns: 1.000 - rate_of_return: 0.001 - cost: 0.000 - steps: 16.510\n",
      "\n",
      "Interval 103 (1020000 steps performed)\n",
      "333 episodes - episode_reward: 0.001 [-0.007, 0.007] - loss: 0.000 - mean_squared_error: 0.000 - mean_q: 0.000 - reward: 0.000 - log_return: 0.001 - portfolio_value: 1.010 - returns: 1.000 - rate_of_return: 0.001 - cost: 0.000 - steps: 16.490\n",
      "\n",
      "Interval 104 (1030000 steps performed)\n",
      "333 episodes - episode_reward: 0.001 [-0.006, 0.007] - loss: 0.000 - mean_squared_error: 0.000 - mean_q: 0.000 - reward: 0.000 - log_return: 0.001 - portfolio_value: 1.013 - returns: 1.000 - rate_of_return: 0.001 - cost: 0.000 - steps: 16.500\n",
      "\n",
      "Interval 105 (1040000 steps performed)\n",
      "334 episodes - episode_reward: 0.001 [-0.005, 0.010] - loss: 0.000 - mean_squared_error: 0.000 - mean_q: 0.000 - reward: 0.000 - log_return: 0.001 - portfolio_value: 1.015 - returns: 1.000 - rate_of_return: 0.001 - cost: 0.000 - steps: 16.510\n",
      "\n",
      "Interval 106 (1050000 steps performed)\n",
      "333 episodes - episode_reward: 0.001 [-0.005, 0.009] - loss: 0.000 - mean_squared_error: 0.000 - mean_q: 0.000 - reward: 0.000 - log_return: 0.001 - portfolio_value: 1.015 - returns: 1.000 - rate_of_return: 0.001 - cost: 0.000 - steps: 16.490\n",
      "\n",
      "Interval 107 (1060000 steps performed)\n",
      "333 episodes - episode_reward: 0.001 [-0.004, 0.008] - loss: 0.000 - mean_squared_error: 0.000 - mean_q: 0.000 - reward: 0.000 - log_return: 0.001 - portfolio_value: 1.011 - returns: 1.000 - rate_of_return: 0.001 - cost: 0.000 - steps: 16.500\n",
      "\n",
      "Interval 108 (1070000 steps performed)\n",
      "334 episodes - episode_reward: 0.001 [-0.004, 0.010] - loss: 0.000 - mean_squared_error: 0.000 - mean_q: 0.000 - reward: 0.000 - log_return: 0.001 - portfolio_value: 1.012 - returns: 1.000 - rate_of_return: 0.001 - cost: 0.000 - steps: 16.510\n",
      "\n",
      "Interval 109 (1080000 steps performed)\n",
      "333 episodes - episode_reward: 0.001 [-0.006, 0.006] - loss: 0.000 - mean_squared_error: 0.000 - mean_q: 0.000 - reward: 0.000 - log_return: 0.001 - portfolio_value: 1.013 - returns: 1.000 - rate_of_return: 0.001 - cost: 0.000 - steps: 16.490\n",
      "\n",
      "Interval 110 (1090000 steps performed)\n",
      "333 episodes - episode_reward: 0.001 [-0.006, 0.012] - loss: 0.000 - mean_squared_error: 0.000 - mean_q: 0.000 - reward: 0.000 - log_return: 0.001 - portfolio_value: 1.010 - returns: 1.000 - rate_of_return: 0.001 - cost: 0.000 - steps: 16.500\n",
      "\n",
      "Interval 111 (1100000 steps performed)\n",
      "334 episodes - episode_reward: 0.001 [-0.004, 0.008] - loss: 0.000 - mean_squared_error: 0.000 - mean_q: 0.000 - reward: 0.000 - log_return: 0.001 - portfolio_value: 1.012 - returns: 1.000 - rate_of_return: 0.001 - cost: 0.000 - steps: 16.510\n",
      "\n",
      "Interval 112 (1110000 steps performed)\n",
      "333 episodes - episode_reward: 0.001 [-0.005, 0.009] - loss: 0.000 - mean_squared_error: 0.000 - mean_q: 0.000 - reward: 0.000 - log_return: 0.001 - portfolio_value: 1.018 - returns: 1.000 - rate_of_return: 0.001 - cost: 0.000 - steps: 16.490\n",
      "\n",
      "Interval 113 (1120000 steps performed)\n",
      "333 episodes - episode_reward: 0.001 [-0.005, 0.006] - loss: 0.000 - mean_squared_error: 0.000 - mean_q: 0.000 - reward: 0.000 - log_return: 0.001 - portfolio_value: 1.010 - returns: 1.000 - rate_of_return: 0.001 - cost: 0.000 - steps: 16.500\n",
      "\n",
      "Interval 114 (1130000 steps performed)\n",
      "334 episodes - episode_reward: 0.001 [-0.003, 0.014] - loss: 0.000 - mean_squared_error: 0.000 - mean_q: 0.000 - reward: 0.000 - log_return: 0.001 - portfolio_value: 1.012 - returns: 1.000 - rate_of_return: 0.001 - cost: 0.000 - steps: 16.510\n",
      "\n",
      "Interval 115 (1140000 steps performed)\n",
      "333 episodes - episode_reward: 0.001 [-0.004, 0.006] - loss: 0.000 - mean_squared_error: 0.000 - mean_q: 0.000 - reward: 0.000 - log_return: 0.001 - portfolio_value: 1.011 - returns: 1.000 - rate_of_return: 0.001 - cost: 0.000 - steps: 16.490\n",
      "\n",
      "Interval 116 (1150000 steps performed)\n",
      "333 episodes - episode_reward: 0.001 [-0.006, 0.007] - loss: 0.000 - mean_squared_error: 0.000 - mean_q: 0.000 - reward: 0.000 - log_return: 0.001 - portfolio_value: 1.013 - returns: 1.000 - rate_of_return: 0.001 - cost: 0.000 - steps: 16.500\n",
      "\n",
      "Interval 117 (1160000 steps performed)\n",
      "334 episodes - episode_reward: 0.001 [-0.004, 0.007] - loss: 0.000 - mean_squared_error: 0.000 - mean_q: 0.000 - reward: 0.000 - log_return: 0.001 - portfolio_value: 1.013 - returns: 1.000 - rate_of_return: 0.001 - cost: 0.000 - steps: 16.510\n",
      "\n",
      "Interval 118 (1170000 steps performed)\n",
      "333 episodes - episode_reward: 0.001 [-0.004, 0.014] - loss: 0.000 - mean_squared_error: 0.000 - mean_q: 0.000 - reward: 0.000 - log_return: 0.001 - portfolio_value: 1.011 - returns: 1.000 - rate_of_return: 0.001 - cost: 0.000 - steps: 16.490\n",
      "\n",
      "Interval 119 (1180000 steps performed)\n",
      "333 episodes - episode_reward: 0.001 [-0.004, 0.008] - loss: 0.000 - mean_squared_error: 0.000 - mean_q: 0.000 - reward: 0.000 - log_return: 0.001 - portfolio_value: 1.012 - returns: 1.000 - rate_of_return: 0.001 - cost: 0.000 - steps: 16.500\n",
      "\n",
      "Interval 120 (1190000 steps performed)\n"
     ]
    },
    {
     "name": "stdout",
     "output_type": "stream",
     "text": [
      "334 episodes - episode_reward: 0.001 [-0.004, 0.011] - loss: 0.000 - mean_squared_error: 0.000 - mean_q: 0.000 - reward: 0.000 - log_return: 0.001 - portfolio_value: 1.013 - returns: 1.000 - rate_of_return: 0.001 - cost: 0.000 - steps: 16.510\n",
      "\n",
      "Interval 121 (1200000 steps performed)\n",
      "333 episodes - episode_reward: 0.001 [-0.005, 0.008] - loss: 0.000 - mean_squared_error: 0.000 - mean_q: 0.000 - reward: 0.000 - log_return: 0.001 - portfolio_value: 1.013 - returns: 1.000 - rate_of_return: 0.001 - cost: 0.000 - steps: 16.490\n",
      "\n",
      "Interval 122 (1210000 steps performed)\n",
      "333 episodes - episode_reward: 0.001 [-0.007, 0.010] - loss: 0.000 - mean_squared_error: 0.000 - mean_q: 0.000 - reward: 0.000 - log_return: 0.001 - portfolio_value: 1.012 - returns: 1.000 - rate_of_return: 0.001 - cost: 0.000 - steps: 16.500\n",
      "\n",
      "Interval 123 (1220000 steps performed)\n",
      "334 episodes - episode_reward: 0.001 [-0.010, 0.007] - loss: 0.000 - mean_squared_error: 0.000 - mean_q: 0.000 - reward: 0.000 - log_return: 0.001 - portfolio_value: 1.014 - returns: 1.000 - rate_of_return: 0.001 - cost: 0.000 - steps: 16.510\n",
      "\n",
      "Interval 124 (1230000 steps performed)\n",
      "333 episodes - episode_reward: 0.001 [-0.005, 0.015] - loss: 0.000 - mean_squared_error: 0.000 - mean_q: 0.000 - reward: 0.000 - log_return: 0.001 - portfolio_value: 1.017 - returns: 1.000 - rate_of_return: 0.001 - cost: 0.000 - steps: 16.490\n",
      "\n",
      "Interval 125 (1240000 steps performed)\n",
      "333 episodes - episode_reward: 0.001 [-0.005, 0.011] - loss: 0.000 - mean_squared_error: 0.000 - mean_q: 0.000 - reward: 0.000 - log_return: 0.001 - portfolio_value: 1.013 - returns: 1.000 - rate_of_return: 0.001 - cost: 0.000 - steps: 16.500\n",
      "\n",
      "Interval 126 (1250000 steps performed)\n",
      "334 episodes - episode_reward: 0.001 [-0.005, 0.006] - loss: 0.000 - mean_squared_error: 0.000 - mean_q: 0.000 - reward: 0.000 - log_return: 0.001 - portfolio_value: 1.012 - returns: 1.000 - rate_of_return: 0.001 - cost: 0.000 - steps: 16.510\n",
      "\n",
      "Interval 127 (1260000 steps performed)\n",
      "333 episodes - episode_reward: 0.001 [-0.007, 0.008] - loss: 0.000 - mean_squared_error: 0.000 - mean_q: 0.000 - reward: 0.000 - log_return: 0.001 - portfolio_value: 1.016 - returns: 1.000 - rate_of_return: 0.001 - cost: 0.000 - steps: 16.490\n",
      "\n",
      "Interval 128 (1270000 steps performed)\n",
      "333 episodes - episode_reward: 0.001 [-0.008, 0.007] - loss: 0.000 - mean_squared_error: 0.000 - mean_q: 0.000 - reward: 0.000 - log_return: 0.001 - portfolio_value: 1.012 - returns: 1.000 - rate_of_return: 0.001 - cost: 0.000 - steps: 16.500\n",
      "\n",
      "Interval 129 (1280000 steps performed)\n",
      "334 episodes - episode_reward: 0.001 [-0.004, 0.010] - loss: 0.000 - mean_squared_error: 0.000 - mean_q: 0.000 - reward: 0.000 - log_return: 0.001 - portfolio_value: 1.015 - returns: 1.000 - rate_of_return: 0.001 - cost: 0.000 - steps: 16.510\n",
      "\n",
      "Interval 130 (1290000 steps performed)\n",
      "333 episodes - episode_reward: 0.001 [-0.006, 0.015] - loss: 0.000 - mean_squared_error: 0.000 - mean_q: 0.000 - reward: 0.000 - log_return: 0.001 - portfolio_value: 1.010 - returns: 1.000 - rate_of_return: 0.001 - cost: 0.000 - steps: 16.490\n",
      "\n",
      "Interval 131 (1300000 steps performed)\n",
      "333 episodes - episode_reward: 0.001 [-0.007, 0.010] - loss: 0.000 - mean_squared_error: 0.000 - mean_q: 0.000 - reward: 0.000 - log_return: 0.001 - portfolio_value: 1.013 - returns: 1.000 - rate_of_return: 0.001 - cost: 0.000 - steps: 16.500\n",
      "\n",
      "Interval 132 (1310000 steps performed)\n",
      "334 episodes - episode_reward: 0.001 [-0.004, 0.014] - loss: 0.000 - mean_squared_error: 0.000 - mean_q: 0.000 - reward: 0.000 - log_return: 0.001 - portfolio_value: 1.015 - returns: 1.000 - rate_of_return: 0.001 - cost: 0.000 - steps: 16.510\n",
      "\n",
      "Interval 133 (1320000 steps performed)\n",
      "333 episodes - episode_reward: 0.001 [-0.004, 0.010] - loss: 0.000 - mean_squared_error: 0.000 - mean_q: 0.000 - reward: 0.000 - log_return: 0.001 - portfolio_value: 1.013 - returns: 1.000 - rate_of_return: 0.001 - cost: 0.000 - steps: 16.490\n",
      "\n",
      "Interval 134 (1330000 steps performed)\n",
      "333 episodes - episode_reward: 0.001 [-0.005, 0.007] - loss: 0.000 - mean_squared_error: 0.000 - mean_q: 0.000 - reward: 0.000 - log_return: 0.001 - portfolio_value: 1.012 - returns: 1.000 - rate_of_return: 0.001 - cost: 0.000 - steps: 16.500\n",
      "\n",
      "Interval 135 (1340000 steps performed)\n",
      "334 episodes - episode_reward: 0.001 [-0.004, 0.007] - loss: 0.000 - mean_squared_error: 0.000 - mean_q: 0.000 - reward: 0.000 - log_return: 0.001 - portfolio_value: 1.011 - returns: 1.000 - rate_of_return: 0.001 - cost: 0.000 - steps: 16.510\n",
      "\n",
      "Interval 136 (1350000 steps performed)\n",
      "333 episodes - episode_reward: 0.001 [-0.004, 0.012] - loss: 0.000 - mean_squared_error: 0.000 - mean_q: 0.000 - reward: 0.000 - log_return: 0.001 - portfolio_value: 1.010 - returns: 1.000 - rate_of_return: 0.001 - cost: 0.000 - steps: 16.490\n",
      "\n",
      "Interval 137 (1360000 steps performed)\n",
      "333 episodes - episode_reward: 0.001 [-0.007, 0.006] - loss: 0.000 - mean_squared_error: 0.000 - mean_q: 0.000 - reward: 0.000 - log_return: 0.001 - portfolio_value: 1.013 - returns: 1.000 - rate_of_return: 0.001 - cost: 0.000 - steps: 16.500\n",
      "\n",
      "Interval 138 (1370000 steps performed)\n",
      "334 episodes - episode_reward: 0.001 [-0.004, 0.008] - loss: 0.000 - mean_squared_error: 0.000 - mean_q: 0.000 - reward: 0.000 - log_return: 0.001 - portfolio_value: 1.014 - returns: 1.000 - rate_of_return: 0.001 - cost: 0.000 - steps: 16.510\n",
      "\n",
      "Interval 139 (1380000 steps performed)\n",
      "333 episodes - episode_reward: 0.001 [-0.006, 0.007] - loss: 0.000 - mean_squared_error: 0.000 - mean_q: 0.000 - reward: 0.000 - log_return: 0.001 - portfolio_value: 1.012 - returns: 1.000 - rate_of_return: 0.001 - cost: 0.000 - steps: 16.490\n",
      "\n",
      "Interval 140 (1390000 steps performed)\n",
      "333 episodes - episode_reward: 0.001 [-0.006, 0.006] - loss: 0.000 - mean_squared_error: 0.000 - mean_q: 0.000 - reward: 0.000 - log_return: 0.001 - portfolio_value: 1.014 - returns: 1.000 - rate_of_return: 0.001 - cost: 0.000 - steps: 16.500\n",
      "\n",
      "Interval 141 (1400000 steps performed)\n",
      "334 episodes - episode_reward: 0.001 [-0.005, 0.015] - loss: 0.000 - mean_squared_error: 0.000 - mean_q: 0.000 - reward: 0.000 - log_return: 0.001 - portfolio_value: 1.011 - returns: 1.000 - rate_of_return: 0.001 - cost: 0.000 - steps: 16.510\n",
      "\n",
      "Interval 142 (1410000 steps performed)\n",
      "333 episodes - episode_reward: 0.001 [-0.008, 0.009] - loss: 0.000 - mean_squared_error: 0.000 - mean_q: 0.000 - reward: 0.000 - log_return: 0.001 - portfolio_value: 1.010 - returns: 1.000 - rate_of_return: 0.001 - cost: 0.000 - steps: 16.490\n",
      "\n",
      "Interval 143 (1420000 steps performed)\n",
      "333 episodes - episode_reward: 0.001 [-0.004, 0.010] - loss: 0.000 - mean_squared_error: 0.000 - mean_q: 0.000 - reward: 0.000 - log_return: 0.001 - portfolio_value: 1.013 - returns: 1.000 - rate_of_return: 0.001 - cost: 0.000 - steps: 16.500\n",
      "\n",
      "Interval 144 (1430000 steps performed)\n",
      "334 episodes - episode_reward: 0.001 [-0.007, 0.011] - loss: 0.000 - mean_squared_error: 0.000 - mean_q: 0.000 - reward: 0.000 - log_return: 0.001 - portfolio_value: 1.012 - returns: 1.000 - rate_of_return: 0.001 - cost: 0.000 - steps: 16.510\n",
      "\n",
      "Interval 145 (1440000 steps performed)\n",
      "333 episodes - episode_reward: 0.001 [-0.004, 0.014] - loss: 0.000 - mean_squared_error: 0.000 - mean_q: 0.000 - reward: 0.000 - log_return: 0.001 - portfolio_value: 1.013 - returns: 1.000 - rate_of_return: 0.001 - cost: 0.000 - steps: 16.490\n",
      "\n",
      "Interval 146 (1450000 steps performed)\n",
      "333 episodes - episode_reward: 0.001 [-0.006, 0.007] - loss: 0.000 - mean_squared_error: 0.000 - mean_q: 0.000 - reward: 0.000 - log_return: 0.001 - portfolio_value: 1.012 - returns: 1.000 - rate_of_return: 0.001 - cost: 0.000 - steps: 16.500\n",
      "\n",
      "Interval 147 (1460000 steps performed)\n",
      "334 episodes - episode_reward: 0.001 [-0.006, 0.009] - loss: 0.000 - mean_squared_error: 0.000 - mean_q: 0.000 - reward: 0.000 - log_return: 0.001 - portfolio_value: 1.011 - returns: 1.000 - rate_of_return: 0.001 - cost: 0.000 - steps: 16.510\n",
      "\n",
      "Interval 148 (1470000 steps performed)\n",
      "333 episodes - episode_reward: 0.001 [-0.005, 0.012] - loss: 0.000 - mean_squared_error: 0.000 - mean_q: 0.000 - reward: 0.000 - log_return: 0.001 - portfolio_value: 1.014 - returns: 1.000 - rate_of_return: 0.001 - cost: 0.000 - steps: 16.490\n",
      "\n",
      "Interval 149 (1480000 steps performed)\n"
     ]
    },
    {
     "name": "stdout",
     "output_type": "stream",
     "text": [
      "333 episodes - episode_reward: 0.001 [-0.008, 0.007] - loss: 0.000 - mean_squared_error: 0.000 - mean_q: 0.000 - reward: 0.000 - log_return: 0.001 - portfolio_value: 1.013 - returns: 1.000 - rate_of_return: 0.001 - cost: 0.000 - steps: 16.500\n",
      "\n",
      "Interval 150 (1490000 steps performed)\n",
      "334 episodes - episode_reward: 0.001 [-0.006, 0.008] - loss: 0.000 - mean_squared_error: 0.000 - mean_q: 0.000 - reward: 0.000 - log_return: 0.001 - portfolio_value: 1.008 - returns: 1.000 - rate_of_return: 0.001 - cost: 0.000 - steps: 16.510\n",
      "\n",
      "Interval 151 (1500000 steps performed)\n",
      "333 episodes - episode_reward: 0.001 [-0.006, 0.009] - loss: 0.000 - mean_squared_error: 0.000 - mean_q: 0.000 - reward: 0.000 - log_return: 0.001 - portfolio_value: 1.014 - returns: 1.000 - rate_of_return: 0.001 - cost: 0.000 - steps: 16.490\n",
      "\n",
      "Interval 152 (1510000 steps performed)\n",
      "333 episodes - episode_reward: 0.001 [-0.005, 0.012] - loss: 0.000 - mean_squared_error: 0.000 - mean_q: 0.000 - reward: 0.000 - log_return: 0.001 - portfolio_value: 1.013 - returns: 1.000 - rate_of_return: 0.001 - cost: 0.000 - steps: 16.500\n",
      "\n",
      "Interval 153 (1520000 steps performed)\n",
      "334 episodes - episode_reward: 0.001 [-0.006, 0.006] - loss: 0.000 - mean_squared_error: 0.000 - mean_q: 0.000 - reward: 0.000 - log_return: 0.001 - portfolio_value: 1.013 - returns: 1.000 - rate_of_return: 0.001 - cost: 0.000 - steps: 16.510\n",
      "\n",
      "Interval 154 (1530000 steps performed)\n",
      "333 episodes - episode_reward: 0.001 [-0.005, 0.011] - loss: 0.000 - mean_squared_error: 0.000 - mean_q: 0.000 - reward: 0.000 - log_return: 0.001 - portfolio_value: 1.013 - returns: 1.000 - rate_of_return: 0.001 - cost: 0.000 - steps: 16.490\n",
      "\n",
      "Interval 155 (1540000 steps performed)\n",
      "333 episodes - episode_reward: 0.001 [-0.004, 0.009] - loss: 0.000 - mean_squared_error: 0.000 - mean_q: 0.000 - reward: 0.000 - log_return: 0.001 - portfolio_value: 1.012 - returns: 1.000 - rate_of_return: 0.001 - cost: 0.000 - steps: 16.500\n",
      "\n",
      "Interval 156 (1550000 steps performed)\n",
      "334 episodes - episode_reward: 0.001 [-0.006, 0.012] - loss: 0.000 - mean_squared_error: 0.000 - mean_q: 0.000 - reward: 0.000 - log_return: 0.001 - portfolio_value: 1.016 - returns: 1.000 - rate_of_return: 0.001 - cost: 0.000 - steps: 16.510\n",
      "\n",
      "Interval 157 (1560000 steps performed)\n",
      "333 episodes - episode_reward: 0.001 [-0.005, 0.011] - loss: 0.000 - mean_squared_error: 0.000 - mean_q: 0.000 - reward: 0.000 - log_return: 0.001 - portfolio_value: 1.011 - returns: 1.000 - rate_of_return: 0.001 - cost: 0.000 - steps: 16.490\n",
      "\n",
      "Interval 158 (1570000 steps performed)\n",
      "333 episodes - episode_reward: 0.001 [-0.008, 0.008] - loss: 0.000 - mean_squared_error: 0.000 - mean_q: 0.000 - reward: 0.000 - log_return: 0.001 - portfolio_value: 1.012 - returns: 1.000 - rate_of_return: 0.001 - cost: 0.000 - steps: 16.500\n",
      "\n",
      "Interval 159 (1580000 steps performed)\n",
      "334 episodes - episode_reward: 0.001 [-0.007, 0.012] - loss: 0.000 - mean_squared_error: 0.000 - mean_q: 0.000 - reward: 0.000 - log_return: 0.001 - portfolio_value: 1.010 - returns: 1.000 - rate_of_return: 0.001 - cost: 0.000 - steps: 16.510\n",
      "\n",
      "Interval 160 (1590000 steps performed)\n",
      "333 episodes - episode_reward: 0.001 [-0.007, 0.010] - loss: 0.000 - mean_squared_error: 0.000 - mean_q: 0.000 - reward: 0.000 - log_return: 0.001 - portfolio_value: 1.011 - returns: 1.000 - rate_of_return: 0.001 - cost: 0.000 - steps: 16.490\n",
      "\n",
      "Interval 161 (1600000 steps performed)\n",
      "333 episodes - episode_reward: 0.001 [-0.007, 0.017] - loss: 0.000 - mean_squared_error: 0.000 - mean_q: 0.000 - reward: 0.000 - log_return: 0.001 - portfolio_value: 1.011 - returns: 1.000 - rate_of_return: 0.001 - cost: 0.000 - steps: 16.500\n",
      "\n",
      "Interval 162 (1610000 steps performed)\n",
      "334 episodes - episode_reward: 0.001 [-0.006, 0.011] - loss: 0.000 - mean_squared_error: 0.000 - mean_q: 0.000 - reward: 0.000 - log_return: 0.001 - portfolio_value: 1.012 - returns: 1.000 - rate_of_return: 0.001 - cost: 0.000 - steps: 16.510\n",
      "\n",
      "Interval 163 (1620000 steps performed)\n",
      "333 episodes - episode_reward: 0.001 [-0.006, 0.014] - loss: 0.000 - mean_squared_error: 0.000 - mean_q: 0.000 - reward: 0.000 - log_return: 0.001 - portfolio_value: 1.014 - returns: 1.000 - rate_of_return: 0.001 - cost: 0.000 - steps: 16.490\n",
      "\n",
      "Interval 164 (1630000 steps performed)\n",
      "333 episodes - episode_reward: 0.001 [-0.005, 0.007] - loss: 0.000 - mean_squared_error: 0.000 - mean_q: 0.000 - reward: 0.000 - log_return: 0.001 - portfolio_value: 1.012 - returns: 1.000 - rate_of_return: 0.001 - cost: 0.000 - steps: 16.500\n",
      "\n",
      "Interval 165 (1640000 steps performed)\n",
      "334 episodes - episode_reward: 0.001 [-0.006, 0.008] - loss: 0.000 - mean_squared_error: 0.000 - mean_q: 0.000 - reward: 0.000 - log_return: 0.001 - portfolio_value: 1.011 - returns: 1.000 - rate_of_return: 0.001 - cost: 0.000 - steps: 16.510\n",
      "\n",
      "Interval 166 (1650000 steps performed)\n",
      "333 episodes - episode_reward: 0.001 [-0.006, 0.008] - loss: 0.000 - mean_squared_error: 0.000 - mean_q: 0.000 - reward: 0.000 - log_return: 0.001 - portfolio_value: 1.011 - returns: 1.000 - rate_of_return: 0.001 - cost: 0.000 - steps: 16.490\n",
      "\n",
      "Interval 167 (1660000 steps performed)\n",
      "333 episodes - episode_reward: 0.001 [-0.004, 0.008] - loss: 0.000 - mean_squared_error: 0.000 - mean_q: 0.000 - reward: 0.000 - log_return: 0.001 - portfolio_value: 1.014 - returns: 1.000 - rate_of_return: 0.001 - cost: 0.000 - steps: 16.500\n",
      "\n",
      "Interval 168 (1670000 steps performed)\n",
      "334 episodes - episode_reward: 0.001 [-0.005, 0.006] - loss: 0.000 - mean_squared_error: 0.000 - mean_q: 0.000 - reward: 0.000 - log_return: 0.001 - portfolio_value: 1.014 - returns: 1.000 - rate_of_return: 0.001 - cost: 0.000 - steps: 16.510\n",
      "\n",
      "Interval 169 (1680000 steps performed)\n",
      "333 episodes - episode_reward: 0.001 [-0.006, 0.008] - loss: 0.000 - mean_squared_error: 0.000 - mean_q: 0.000 - reward: 0.000 - log_return: 0.001 - portfolio_value: 1.012 - returns: 1.000 - rate_of_return: 0.001 - cost: 0.000 - steps: 16.490\n",
      "\n",
      "Interval 170 (1690000 steps performed)\n",
      "333 episodes - episode_reward: 0.001 [-0.005, 0.006] - loss: 0.000 - mean_squared_error: 0.000 - mean_q: 0.000 - reward: 0.000 - log_return: 0.001 - portfolio_value: 1.014 - returns: 1.000 - rate_of_return: 0.001 - cost: 0.000 - steps: 16.500\n",
      "\n",
      "Interval 171 (1700000 steps performed)\n",
      "334 episodes - episode_reward: 0.001 [-0.005, 0.010] - loss: 0.000 - mean_squared_error: 0.000 - mean_q: 0.000 - reward: 0.000 - log_return: 0.001 - portfolio_value: 1.013 - returns: 1.000 - rate_of_return: 0.001 - cost: 0.000 - steps: 16.510\n",
      "\n",
      "Interval 172 (1710000 steps performed)\n",
      "333 episodes - episode_reward: 0.001 [-0.004, 0.014] - loss: 0.000 - mean_squared_error: 0.000 - mean_q: 0.000 - reward: 0.000 - log_return: 0.001 - portfolio_value: 1.012 - returns: 1.000 - rate_of_return: 0.001 - cost: 0.000 - steps: 16.490\n",
      "\n",
      "Interval 173 (1720000 steps performed)\n",
      "333 episodes - episode_reward: 0.001 [-0.003, 0.009] - loss: 0.000 - mean_squared_error: 0.000 - mean_q: 0.000 - reward: 0.000 - log_return: 0.001 - portfolio_value: 1.013 - returns: 1.000 - rate_of_return: 0.001 - cost: 0.000 - steps: 16.500\n",
      "\n",
      "Interval 174 (1730000 steps performed)\n",
      "334 episodes - episode_reward: 0.001 [-0.005, 0.011] - loss: 0.000 - mean_squared_error: 0.000 - mean_q: 0.000 - reward: 0.000 - log_return: 0.001 - portfolio_value: 1.012 - returns: 1.000 - rate_of_return: 0.001 - cost: 0.000 - steps: 16.510\n",
      "\n",
      "Interval 175 (1740000 steps performed)\n",
      "333 episodes - episode_reward: 0.001 [-0.005, 0.007] - loss: 0.000 - mean_squared_error: 0.000 - mean_q: 0.000 - reward: 0.000 - log_return: 0.001 - portfolio_value: 1.011 - returns: 1.000 - rate_of_return: 0.001 - cost: 0.000 - steps: 16.490\n",
      "\n",
      "Interval 176 (1750000 steps performed)\n",
      "333 episodes - episode_reward: 0.001 [-0.005, 0.014] - loss: 0.000 - mean_squared_error: 0.000 - mean_q: 0.000 - reward: 0.000 - log_return: 0.001 - portfolio_value: 1.012 - returns: 1.000 - rate_of_return: 0.001 - cost: 0.000 - steps: 16.500\n",
      "\n",
      "Interval 177 (1760000 steps performed)\n",
      "334 episodes - episode_reward: 0.001 [-0.004, 0.013] - loss: 0.000 - mean_squared_error: 0.000 - mean_q: 0.000 - reward: 0.000 - log_return: 0.001 - portfolio_value: 1.014 - returns: 1.000 - rate_of_return: 0.001 - cost: 0.000 - steps: 16.510\n",
      "\n",
      "Interval 178 (1770000 steps performed)\n"
     ]
    },
    {
     "name": "stdout",
     "output_type": "stream",
     "text": [
      "333 episodes - episode_reward: 0.001 [-0.008, 0.007] - loss: 0.000 - mean_squared_error: 0.000 - mean_q: 0.000 - reward: 0.000 - log_return: 0.001 - portfolio_value: 1.013 - returns: 1.000 - rate_of_return: 0.001 - cost: 0.000 - steps: 16.490\n",
      "\n",
      "Interval 179 (1780000 steps performed)\n",
      "333 episodes - episode_reward: 0.001 [-0.004, 0.009] - loss: 0.000 - mean_squared_error: 0.000 - mean_q: 0.000 - reward: 0.000 - log_return: 0.001 - portfolio_value: 1.012 - returns: 1.000 - rate_of_return: 0.001 - cost: 0.000 - steps: 16.500\n",
      "\n",
      "Interval 180 (1790000 steps performed)\n",
      "334 episodes - episode_reward: 0.001 [-0.007, 0.009] - loss: 0.000 - mean_squared_error: 0.000 - mean_q: 0.000 - reward: 0.000 - log_return: 0.001 - portfolio_value: 1.014 - returns: 1.000 - rate_of_return: 0.001 - cost: 0.000 - steps: 16.510\n",
      "\n",
      "Interval 181 (1800000 steps performed)\n",
      "333 episodes - episode_reward: 0.001 [-0.005, 0.012] - loss: 0.000 - mean_squared_error: 0.000 - mean_q: 0.000 - reward: 0.000 - log_return: 0.001 - portfolio_value: 1.014 - returns: 1.000 - rate_of_return: 0.001 - cost: 0.000 - steps: 16.490\n",
      "\n",
      "Interval 182 (1810000 steps performed)\n",
      "333 episodes - episode_reward: 0.001 [-0.005, 0.009] - loss: 0.000 - mean_squared_error: 0.000 - mean_q: 0.000 - reward: 0.000 - log_return: 0.001 - portfolio_value: 1.016 - returns: 1.000 - rate_of_return: 0.001 - cost: 0.000 - steps: 16.500\n",
      "\n",
      "Interval 183 (1820000 steps performed)\n",
      "334 episodes - episode_reward: 0.001 [-0.004, 0.010] - loss: 0.000 - mean_squared_error: 0.000 - mean_q: 0.000 - reward: 0.000 - log_return: 0.001 - portfolio_value: 1.014 - returns: 1.000 - rate_of_return: 0.001 - cost: 0.000 - steps: 16.510\n",
      "\n",
      "Interval 184 (1830000 steps performed)\n",
      "333 episodes - episode_reward: 0.001 [-0.004, 0.009] - loss: 0.000 - mean_squared_error: 0.000 - mean_q: 0.000 - reward: 0.000 - log_return: 0.001 - portfolio_value: 1.014 - returns: 1.000 - rate_of_return: 0.001 - cost: 0.000 - steps: 16.490\n",
      "\n",
      "Interval 185 (1840000 steps performed)\n",
      "333 episodes - episode_reward: 0.001 [-0.007, 0.007] - loss: 0.000 - mean_squared_error: 0.000 - mean_q: 0.000 - reward: 0.000 - log_return: 0.001 - portfolio_value: 1.013 - returns: 1.000 - rate_of_return: 0.001 - cost: 0.000 - steps: 16.500\n",
      "\n",
      "Interval 186 (1850000 steps performed)\n",
      "334 episodes - episode_reward: 0.001 [-0.004, 0.014] - loss: 0.000 - mean_squared_error: 0.000 - mean_q: 0.000 - reward: 0.000 - log_return: 0.001 - portfolio_value: 1.014 - returns: 1.000 - rate_of_return: 0.001 - cost: 0.000 - steps: 16.510\n",
      "\n",
      "Interval 187 (1860000 steps performed)\n",
      "333 episodes - episode_reward: 0.001 [-0.005, 0.012] - loss: 0.000 - mean_squared_error: 0.000 - mean_q: 0.000 - reward: 0.000 - log_return: 0.001 - portfolio_value: 1.011 - returns: 1.000 - rate_of_return: 0.001 - cost: 0.000 - steps: 16.490\n",
      "\n",
      "Interval 188 (1870000 steps performed)\n",
      "333 episodes - episode_reward: 0.001 [-0.004, 0.007] - loss: 0.000 - mean_squared_error: 0.000 - mean_q: 0.000 - reward: 0.000 - log_return: 0.001 - portfolio_value: 1.013 - returns: 1.000 - rate_of_return: 0.001 - cost: 0.000 - steps: 16.500\n",
      "\n",
      "Interval 189 (1880000 steps performed)\n",
      "334 episodes - episode_reward: 0.001 [-0.003, 0.008] - loss: 0.000 - mean_squared_error: 0.000 - mean_q: 0.000 - reward: 0.000 - log_return: 0.001 - portfolio_value: 1.015 - returns: 1.000 - rate_of_return: 0.001 - cost: 0.000 - steps: 16.510\n",
      "\n",
      "Interval 190 (1890000 steps performed)\n",
      "333 episodes - episode_reward: 0.001 [-0.004, 0.007] - loss: 0.000 - mean_squared_error: 0.000 - mean_q: 0.000 - reward: 0.000 - log_return: 0.001 - portfolio_value: 1.013 - returns: 1.000 - rate_of_return: 0.001 - cost: 0.000 - steps: 16.490\n",
      "\n",
      "Interval 191 (1900000 steps performed)\n",
      "333 episodes - episode_reward: 0.001 [-0.005, 0.012] - loss: 0.000 - mean_squared_error: 0.000 - mean_q: 0.000 - reward: 0.000 - log_return: 0.001 - portfolio_value: 1.013 - returns: 1.000 - rate_of_return: 0.001 - cost: 0.000 - steps: 16.500\n",
      "\n",
      "Interval 192 (1910000 steps performed)\n",
      "334 episodes - episode_reward: 0.001 [-0.004, 0.010] - loss: 0.000 - mean_squared_error: 0.000 - mean_q: 0.000 - reward: 0.000 - log_return: 0.001 - portfolio_value: 1.013 - returns: 1.000 - rate_of_return: 0.001 - cost: 0.000 - steps: 16.510\n",
      "\n",
      "Interval 193 (1920000 steps performed)\n",
      "333 episodes - episode_reward: 0.001 [-0.006, 0.011] - loss: 0.000 - mean_squared_error: 0.000 - mean_q: 0.000 - reward: 0.000 - log_return: 0.001 - portfolio_value: 1.012 - returns: 1.000 - rate_of_return: 0.001 - cost: 0.000 - steps: 16.490\n",
      "\n",
      "Interval 194 (1930000 steps performed)\n",
      "333 episodes - episode_reward: 0.001 [-0.007, 0.009] - loss: 0.000 - mean_squared_error: 0.000 - mean_q: 0.000 - reward: 0.000 - log_return: 0.001 - portfolio_value: 1.011 - returns: 1.000 - rate_of_return: 0.001 - cost: 0.000 - steps: 16.500\n",
      "\n",
      "Interval 195 (1940000 steps performed)\n",
      "334 episodes - episode_reward: 0.001 [-0.004, 0.013] - loss: 0.000 - mean_squared_error: 0.000 - mean_q: 0.000 - reward: 0.000 - log_return: 0.001 - portfolio_value: 1.012 - returns: 1.000 - rate_of_return: 0.001 - cost: 0.000 - steps: 16.510\n",
      "\n",
      "Interval 196 (1950000 steps performed)\n",
      "333 episodes - episode_reward: 0.001 [-0.004, 0.011] - loss: 0.000 - mean_squared_error: 0.000 - mean_q: 0.000 - reward: 0.000 - log_return: 0.001 - portfolio_value: 1.010 - returns: 1.000 - rate_of_return: 0.001 - cost: 0.000 - steps: 16.490\n",
      "\n",
      "Interval 197 (1960000 steps performed)\n",
      "333 episodes - episode_reward: 0.001 [-0.005, 0.013] - loss: 0.000 - mean_squared_error: 0.000 - mean_q: 0.000 - reward: 0.000 - log_return: 0.001 - portfolio_value: 1.012 - returns: 1.000 - rate_of_return: 0.001 - cost: 0.000 - steps: 16.500\n",
      "\n",
      "Interval 198 (1970000 steps performed)\n",
      "334 episodes - episode_reward: 0.001 [-0.005, 0.011] - loss: 0.000 - mean_squared_error: 0.000 - mean_q: 0.000 - reward: 0.000 - log_return: 0.001 - portfolio_value: 1.012 - returns: 1.000 - rate_of_return: 0.001 - cost: 0.000 - steps: 16.510\n",
      "\n",
      "Interval 199 (1980000 steps performed)\n",
      "333 episodes - episode_reward: 0.001 [-0.005, 0.012] - loss: 0.000 - mean_squared_error: 0.000 - mean_q: 0.000 - reward: 0.000 - log_return: 0.001 - portfolio_value: 1.015 - returns: 1.000 - rate_of_return: 0.001 - cost: 0.000 - steps: 16.490\n",
      "\n",
      "Interval 200 (1990000 steps performed)\n",
      "done, took 29964.087 seconds\n",
      "2000000/|/reward= 0.0012 info=(reward: 0.0012, log_return: 0.0358, portfolio_value: 1.1382, returns: 1.0070, rate_of_return: 0.0365, cost: 0.0000, steps: 21.0000, )100%|| 2000000/2000000.0 [8:19:38<00:00, 68.26it/s]"
     ]
    }
   ],
   "source": [
    "# Okay, now it's time to learn something! We visualize the training here for show, but this\n",
    "# slows down training quite a lot. You can always safely abort the training prematurely using\n",
    "# Ctrl + C.\n",
    "history = agent.fit(env, \n",
    "                  nb_steps=2e6, \n",
    "                  visualize=False, \n",
    "                  verbose=0,\n",
    "                  callbacks=[\n",
    "                      TrainIntervalLoggerTQDMNotebook(),\n",
    "                    ]\n",
    "                 )\n",
    "\n",
    "# After training is done, we save the final weights.\n",
    "agent.save_weights('outputs/agent_portfolio-ddpg-keras/agent_{}_weights.h5f'.format('portfolio-ddpg-keras-rl'), overwrite=True)"
   ]
  },
  {
   "cell_type": "code",
   "execution_count": null,
   "metadata": {
    "ExecuteTime": {
     "start_time": "2017-07-17T00:08:54.105Z"
    },
    "collapsed": true
   },
   "outputs": [],
   "source": []
  },
  {
   "cell_type": "code",
   "execution_count": 18,
   "metadata": {
    "ExecuteTime": {
     "end_time": "2017-07-17T23:15:42.602887Z",
     "start_time": "2017-07-18T07:15:42.540861+08:00"
    },
    "collapsed": true
   },
   "outputs": [],
   "source": [
    "agent.save_weights('outputs/agent_portfolio-ddpg-keras/agent_{}_weights.h5f'.format('portfolio-ddpg-keras-rl'), overwrite=True)"
   ]
  },
  {
   "cell_type": "markdown",
   "metadata": {},
   "source": [
    "# Test"
   ]
  },
  {
   "cell_type": "code",
   "execution_count": 19,
   "metadata": {
    "ExecuteTime": {
     "end_time": "2017-07-19T00:23:16.506109Z",
     "start_time": "2017-07-19T08:23:16.460928+08:00"
    },
    "collapsed": true
   },
   "outputs": [],
   "source": [
    "def sharpe(returns, freq=30, rfr=0):\n",
    "    \"\"\"Given a set of returns, calculates naive (rfr=0) sharpe (eq 28) \"\"\"\n",
    "    return (np.sqrt(freq) * np.mean(returns-rfr)) / np.std(returns - rfr)\n",
    "\n",
    "\n",
    "def MDD(returns):\n",
    "    \"\"\"Max drawdown.\"\"\"\n",
    "    peak = returns.max()\n",
    "    i = returns.argmax()\n",
    "    trough = returns[returns.argmax():].min()\n",
    "    return (trough-peak)/trough "
   ]
  },
  {
   "cell_type": "code",
   "execution_count": 23,
   "metadata": {
    "ExecuteTime": {
     "end_time": "2017-07-19T00:25:50.576137Z",
     "start_time": "2017-07-19T08:24:33.101914+08:00"
    }
   },
   "outputs": [
    {
     "name": "stdout",
     "output_type": "stream",
     "text": [
      "Testing for 1 episodes ...\n",
      "Episode 1: reward: 0.000, steps: 7613\n",
      "APV (Accumulated portfolio value): \t 1.13\n",
      "SR (Sharpe ratio):                 \t 505.72\n",
      "MDD (max drawdown):                \t-62.99%\n",
      "\n"
     ]
    },
    {
     "data": {
      "text/plain": [
       "<matplotlib.legend.Legend at 0x7f7b84d8f978>"
      ]
     },
     "execution_count": 23,
     "metadata": {},
     "output_type": "execute_result"
    },
    {
     "data": {
      "image/png": "[encoded data removed]",
      "text/plain": [
       "<matplotlib.figure.Figure at 0x7f7b84d79e48>"
      ]
     },
     "metadata": {},
     "output_type": "display_data"
    }
   ],
   "source": [
    "# one big test\n",
    "df_test = pd.read_hdf('./data/poloniex_30m.hf',key='test')\n",
    "steps=len(df_test)-window_length-2\n",
    "env_test = PortfolioEnv(\n",
    "    df=df_test,\n",
    "    steps=steps, \n",
    "    scale=True, \n",
    "    augment=0.00,\n",
    "    trading_cost=0, # let just overfit first\n",
    "    window_length=window_length,\n",
    ")\n",
    "env_test.seed = 0  \n",
    "\n",
    "agent.load_weights('outputs/agent_portfolio-ddpg-keras/agent_{}_weights.h5f'.format('portfolio-ddpg-keras-rl'))\n",
    "\n",
    "agent.test(env_test, nb_episodes=1, visualize=False)\n",
    "\n",
    "df = pd.DataFrame(env_test.infos)\n",
    "df.index=df['index']\n",
    "\n",
    "s=sharpe(df.rate_of_return+1)\n",
    "mdd=MDD(df.rate_of_return+1)\n",
    "print('APV (Accumulated portfolio value): \\t{: 2.2f}'.format(df.portfolio_value.iloc[-1]))\n",
    "print('SR (Sharpe ratio):                 \\t{: 2.2f}'.format( s))\n",
    "print('MDD (max drawdown):                \\t{: 2.2%}'.format( mdd))\n",
    "print('')\n",
    "\n",
    "# show one run vs average market performance\n",
    "df.portfolio_value.plot()\n",
    "df.mean_market_returns.cumprod().plot(label='mean market performance')\n",
    "plt.legend()"
   ]
  },
  {
   "cell_type": "code",
   "execution_count": 31,
   "metadata": {
    "ExecuteTime": {
     "end_time": "2017-07-19T00:28:20.685587Z",
     "start_time": "2017-07-19T08:28:20.632941+08:00"
    }
   },
   "outputs": [
    {
     "data": {
      "text/plain": [
       "index\n",
       "2017-02-27 12:30:00    0.372678\n",
       "2017-02-27 13:00:00    0.351561\n",
       "2017-02-27 13:30:00    0.351561\n",
       "2017-02-27 14:00:00    0.351561\n",
       "2017-02-27 14:30:00    0.351561\n",
       "2017-02-27 15:00:00    0.351561\n",
       "2017-02-27 15:30:00    0.351561\n",
       "2017-02-27 16:00:00    0.351561\n",
       "2017-02-27 16:30:00    0.351561\n",
       "2017-02-27 17:00:00    0.351561\n",
       "2017-02-27 17:30:00    0.351561\n",
       "2017-02-27 18:00:00    0.351561\n",
       "2017-02-27 18:30:00    0.351561\n",
       "2017-02-27 19:00:00    0.351561\n",
       "2017-02-27 19:30:00    0.351561\n",
       "2017-02-27 20:00:00    0.351561\n",
       "2017-02-27 20:30:00    0.351561\n",
       "2017-02-27 21:00:00    0.351561\n",
       "2017-02-27 21:30:00    0.351561\n",
       "2017-02-27 22:00:00    0.351561\n",
       "2017-02-27 22:30:00    0.351561\n",
       "2017-02-27 23:00:00    0.351561\n",
       "2017-02-27 23:30:00    0.351561\n",
       "2017-02-28 00:00:00    0.351561\n",
       "2017-02-28 00:30:00    0.351561\n",
       "2017-02-28 01:00:00    0.351561\n",
       "2017-02-28 01:30:00    0.351561\n",
       "2017-02-28 02:00:00    0.351561\n",
       "2017-02-28 02:30:00    0.351561\n",
       "2017-02-28 03:00:00    0.351561\n",
       "2017-02-28 03:30:00    0.351561\n",
       "Name: weights, dtype: float64"
      ]
     },
     "execution_count": 31,
     "metadata": {},
     "output_type": "execute_result"
    }
   ],
   "source": [
    "# The weights appear to be static, so the model hasn't learnt much\n",
    "df.index = df['index']\n",
    "df.weights.apply(lambda x:x.std())"
   ]
  },
  {
   "cell_type": "code",
   "execution_count": 24,
   "metadata": {
    "ExecuteTime": {
     "end_time": "2017-07-19T00:26:09.012084Z",
     "start_time": "2017-07-19T08:26:08.863333+08:00"
    },
    "collapsed": true
   },
   "outputs": [],
   "source": [
    "df_test = pd.read_hdf('./data/poloniex_30m.hf',key='test')\n",
    "env_test = PortfolioEnv(\n",
    "    df=df_test,\n",
    "    steps=30, \n",
    "    scale=True, \n",
    "    augment=0.00,\n",
    "    trading_cost=0, # let just overfit first\n",
    "    window_length=window_length,\n",
    ")\n",
    "env_test.seed = 0  "
   ]
  },
  {
   "cell_type": "code",
   "execution_count": 25,
   "metadata": {
    "ExecuteTime": {
     "end_time": "2017-07-19T00:26:12.518306Z",
     "start_time": "2017-07-19T08:26:09.224038+08:00"
    }
   },
   "outputs": [
    {
     "name": "stdout",
     "output_type": "stream",
     "text": [
      "Testing for 10 episodes ...\n",
      "Episode 1: reward: 0.001, steps: 30\n",
      "Episode 2: reward: -0.000, steps: 30\n",
      "Episode 3: reward: 0.001, steps: 30\n",
      "Episode 4: reward: 0.000, steps: 30\n",
      "Episode 5: reward: -0.000, steps: 30\n",
      "Episode 6: reward: 0.001, steps: 30\n",
      "Episode 7: reward: -0.000, steps: 30\n",
      "Episode 8: reward: 0.000, steps: 30\n",
      "Episode 9: reward: 0.001, steps: 30\n",
      "Episode 10: reward: -0.000, steps: 30\n"
     ]
    },
    {
     "data": {
      "text/plain": [
       "<keras.callbacks.History at 0x7f7b84509b70>"
      ]
     },
     "execution_count": 25,
     "metadata": {},
     "output_type": "execute_result"
    }
   ],
   "source": [
    "# Finally, evaluate our algorithm for 5 episodes.\n",
    "agent.test(env_test, nb_episodes=10, visualize=False)"
   ]
  },
  {
   "cell_type": "code",
   "execution_count": 26,
   "metadata": {
    "ExecuteTime": {
     "end_time": "2017-07-19T00:26:16.847387Z",
     "start_time": "2017-07-19T08:26:12.521925+08:00"
    }
   },
   "outputs": [
    {
     "name": "stdout",
     "output_type": "stream",
     "text": [
      "Testing for 1 episodes ...\n",
      "Episode 1: reward: 0.002, steps: 30\n",
      "APV (Accumulated portfolio value): \t 1.07\n",
      "SR (Sharpe ratio):                 \t 669.63\n",
      "MDD (max drawdown):                \t-4.60%\n",
      "\n",
      "Testing for 1 episodes ...\n",
      "Episode 1: reward: 0.001, steps: 30\n",
      "APV (Accumulated portfolio value): \t 1.04\n",
      "SR (Sharpe ratio):                 \t 1006.51\n",
      "MDD (max drawdown):                \t-2.17%\n",
      "\n",
      "Testing for 1 episodes ...\n",
      "Episode 1: reward: -0.001, steps: 30\n",
      "APV (Accumulated portfolio value): \t 0.98\n",
      "SR (Sharpe ratio):                 \t 615.74\n",
      "MDD (max drawdown):                \t-3.08%\n",
      "\n",
      "Testing for 1 episodes ...\n",
      "Episode 1: reward: 0.002, steps: 30\n",
      "APV (Accumulated portfolio value): \t 1.05\n",
      "SR (Sharpe ratio):                 \t 536.83\n",
      "MDD (max drawdown):                \t-5.68%\n",
      "\n",
      "Testing for 1 episodes ...\n",
      "Episode 1: reward: 0.001, steps: 30\n",
      "APV (Accumulated portfolio value): \t 1.03\n",
      "SR (Sharpe ratio):                 \t 779.36\n",
      "MDD (max drawdown):                \t-3.96%\n",
      "\n",
      "Testing for 1 episodes ...\n",
      "Episode 1: reward: -0.007, steps: 30\n",
      "APV (Accumulated portfolio value): \t 0.81\n",
      "SR (Sharpe ratio):                 \t 154.37\n",
      "MDD (max drawdown):                \t-13.89%\n",
      "\n",
      "Testing for 1 episodes ...\n",
      "Episode 1: reward: -0.003, steps: 30\n",
      "APV (Accumulated portfolio value): \t 0.90\n",
      "SR (Sharpe ratio):                 \t 296.44\n",
      "MDD (max drawdown):                \t 0.00%\n",
      "\n",
      "Testing for 1 episodes ...\n",
      "Episode 1: reward: -0.001, steps: 30\n",
      "APV (Accumulated portfolio value): \t 0.98\n",
      "SR (Sharpe ratio):                 \t 639.99\n",
      "MDD (max drawdown):                \t-3.78%\n",
      "\n",
      "Testing for 1 episodes ...\n",
      "Episode 1: reward: -0.000, steps: 30\n",
      "APV (Accumulated portfolio value): \t 0.99\n",
      "SR (Sharpe ratio):                 \t 1455.98\n",
      "MDD (max drawdown):                \t-1.98%\n",
      "\n",
      "Testing for 1 episodes ...\n",
      "Episode 1: reward: 0.002, steps: 30\n",
      "APV (Accumulated portfolio value): \t 1.08\n",
      "SR (Sharpe ratio):                 \t 447.27\n",
      "MDD (max drawdown):                \t-5.61%\n",
      "\n"
     ]
    },
    {
     "data": {
      "text/plain": [
       "<matplotlib.legend.Legend at 0x7f7b64dde0f0>"
      ]
     },
     "execution_count": 26,
     "metadata": {},
     "output_type": "execute_result"
    },
    {
     "data": {
      "image/png": "[encoded data removed]",
      "text/plain": [
       "<matplotlib.figure.Figure at 0x7f7b64ddebe0>"
      ]
     },
     "metadata": {},
     "output_type": "display_data"
    }
   ],
   "source": [
    "\n",
    "for i in range(10):\n",
    "    agent.test(env_test, nb_episodes=1, visualize=False)\n",
    "    df = pd.DataFrame(env_test.infos)\n",
    "    s=sharpe(df.rate_of_return+1)\n",
    "    mdd=MDD(df.rate_of_return+1)\n",
    "    print('APV (Accumulated portfolio value): \\t{: 2.2f}'.format(df.portfolio_value.iloc[-1]))\n",
    "    print('SR (Sharpe ratio):                 \\t{: 2.2f}'.format( s))\n",
    "    print('MDD (max drawdown):                \\t{: 2.2%}'.format( mdd))\n",
    "    print('')\n",
    "    df.portfolio_value.plot(label=str(i))\n",
    "plt.legend()"
   ]
  },
  {
   "cell_type": "markdown",
   "metadata": {},
   "source": [
    "# Visualise"
   ]
  },
  {
   "cell_type": "code",
   "execution_count": 23,
   "metadata": {
    "ExecuteTime": {
     "end_time": "2017-07-17T23:16:24.097139Z",
     "start_time": "2017-07-18T07:16:16.348453+08:00"
    }
   },
   "outputs": [
    {
     "data": {
      "image/png": "[encoded data removed]",
      "text/plain": [
       "<matplotlib.figure.Figure at 0x7fe053461898>"
      ]
     },
     "metadata": {},
     "output_type": "display_data"
    }
   ],
   "source": [
    "# history\n",
    "df_hist = pd.DataFrame(history.history)\n",
    "df_hist\n",
    "df_hist['episodes'] = df_hist.index\n",
    "\n",
    "g = sns.jointplot(x=\"episodes\", y=\"episode_reward\", data=df_hist, kind=\"reg\", size=10)\n",
    "plt.show()\n",
    "\n",
    "# g = sns.jointplot(x=\"episodes\", y=\"rewards\", data=history, kind=\"reg\")"
   ]
  },
  {
   "cell_type": "markdown",
   "metadata": {
    "ExecuteTime": {
     "end_time": "2017-07-01T03:02:19.820742Z",
     "start_time": "2017-07-01T11:02:19.740692+08:00"
    }
   },
   "source": [
    "# dummy metrics"
   ]
  },
  {
   "cell_type": "code",
   "execution_count": null,
   "metadata": {
    "collapsed": true
   },
   "outputs": [],
   "source": []
  }
 ],
 "metadata": {
  "kernelspec": {
   "display_name": "jupyter3",
   "language": "python",
   "name": "jupyter3"
  },
  "language_info": {
   "codemirror_mode": {
    "name": "ipython",
    "version": 3
   },
   "file_extension": ".py",
   "mimetype": "text/x-python",
   "name": "python",
   "nbconvert_exporter": "python",
   "pygments_lexer": "ipython3",
   "version": "3.6.0"
  }
 },
 "nbformat": 4,
 "nbformat_minor": 2
}
