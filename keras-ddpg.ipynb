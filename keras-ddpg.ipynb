{
 "cells": [
  {
   "cell_type": "code",
   "execution_count": 1,
   "metadata": {
    "ExecuteTime": {
     "end_time": "2017-07-21T22:44:31.840071Z",
     "start_time": "2017-07-22T06:44:29.318392+08:00"
    }
   },
   "outputs": [
    {
     "name": "stderr",
     "output_type": "stream",
     "text": [
      "INFO:__main__:__main__ logger started.\n"
     ]
    }
   ],
   "source": [
    "# plotting\n",
    "%matplotlib inline\n",
    "from matplotlib import pyplot as plt\n",
    "import seaborn as sns\n",
    "plt.style.use('ggplot')\n",
    "\n",
    "# numeric\n",
    "import numpy as np\n",
    "from numpy import random\n",
    "import pandas as pd\n",
    "\n",
    "# utils\n",
    "from tqdm import tqdm_notebook as tqdm\n",
    "from collections import Counter\n",
    "import tempfile\n",
    "import logging\n",
    "import time\n",
    "import datetime\n",
    "\n",
    "# logging\n",
    "logger = log = logging.getLogger(__name__)\n",
    "log.setLevel(logging.INFO)\n",
    "logging.basicConfig()\n",
    "log.info('%s logger started.', __name__)"
   ]
  },
  {
   "cell_type": "code",
   "execution_count": 2,
   "metadata": {
    "ExecuteTime": {
     "end_time": "2017-07-21T22:44:50.345515Z",
     "start_time": "2017-07-22T06:44:31.841961+08:00"
    }
   },
   "outputs": [
    {
     "name": "stderr",
     "output_type": "stream",
     "text": [
      "Using TensorFlow backend.\n"
     ]
    }
   ],
   "source": [
    "# reinforcement learning\n",
    "import gym\n",
    "from gym import error, spaces, utils\n",
    "from gym.utils import seeding\n",
    "\n",
    "from keras.models import Sequential\n",
    "from keras.layers import Flatten, Dense, Activation, BatchNormalization\n",
    "from keras.optimizers import Adam\n",
    "from keras.layers.advanced_activations import LeakyReLU\n",
    "from keras.models import Sequential\n",
    "from keras.layers import Flatten, Dense, Activation, BatchNormalization, Conv1D, InputLayer, Dropout, regularizers, Conv2D, Reshape\n",
    "from keras.optimizers import Adam\n",
    "from keras.layers.advanced_activations import LeakyReLU\n",
    "from keras.activations import relu"
   ]
  },
  {
   "cell_type": "code",
   "execution_count": 3,
   "metadata": {
    "ExecuteTime": {
     "end_time": "2017-07-21T22:44:50.372998Z",
     "start_time": "2017-07-22T06:44:50.347438+08:00"
    },
    "collapsed": true
   },
   "outputs": [],
   "source": [
    "import os\n",
    "os.sys.path.append(os.path.abspath('.'))\n",
    "%reload_ext autoreload\n",
    "%autoreload 2"
   ]
  },
  {
   "cell_type": "code",
   "execution_count": 4,
   "metadata": {
    "ExecuteTime": {
     "end_time": "2017-07-21T22:44:51.235603Z",
     "start_time": "2017-07-22T06:44:50.374433+08:00"
    },
    "collapsed": true
   },
   "outputs": [],
   "source": [
    "window_length = 50"
   ]
  },
  {
   "cell_type": "markdown",
   "metadata": {},
   "source": [
    "# Environment\n",
    "\n",
    "You can see the base environment class [here](https://github.com/openai/gym/blob/master/gym/core.py#L13) and openai's nice docs [here](https://gym.openai.com/docs). My environment is in `src/environments/portfolio.py` and the PortfolioEnvironment load a datasource and simulation subclass.\n"
   ]
  },
  {
   "cell_type": "code",
   "execution_count": 5,
   "metadata": {
    "ExecuteTime": {
     "end_time": "2017-07-21T22:44:51.785866Z",
     "start_time": "2017-07-22T06:44:51.237294+08:00"
    },
    "collapsed": true
   },
   "outputs": [],
   "source": [
    "from src.environments.portfolio import PortfolioEnv"
   ]
  },
  {
   "cell_type": "code",
   "execution_count": 6,
   "metadata": {
    "ExecuteTime": {
     "end_time": "2017-07-21T22:44:53.317597Z",
     "start_time": "2017-07-22T06:44:51.787705+08:00"
    },
    "collapsed": true
   },
   "outputs": [],
   "source": [
    "df_train = pd.read_hdf('./data/poloniex_30m.hf',key='train')\n",
    "env = PortfolioEnv(\n",
    "    df=df_train,\n",
    "    steps=1440, \n",
    "    scale=True, \n",
    "    augment=0.0000, # let just overfit first,\n",
    "    trading_cost=0, # let just overfit first,\n",
    "    window_length = window_length,\n",
    "    \n",
    ")\n",
    "env.seed = 0   \n",
    "\n",
    "df_test = pd.read_hdf('./data/poloniex_30m.hf',key='test')\n",
    "env_test = PortfolioEnv(\n",
    "    df=df_test,\n",
    "    steps=1440, \n",
    "    scale=True, \n",
    "    augment=0.00,\n",
    "    trading_cost=0, # let just overfit first\n",
    "    window_length=window_length,\n",
    ")\n",
    "env_test.seed = 0  "
   ]
  },
  {
   "cell_type": "markdown",
   "metadata": {
    "ExecuteTime": {
     "end_time": "2017-07-04T01:42:37.345932Z",
     "start_time": "2017-07-04T09:42:37.328860+08:00"
    },
    "collapsed": true
   },
   "source": [
    "# Model\n",
    "\n",
    "arXiv:1612.01277 indicated that CNN's are just as effective. That's great because I like them, they are fast so I can try more things and see the results faster. So we will be using a CNN model.\n"
   ]
  },
  {
   "cell_type": "code",
   "execution_count": 14,
   "metadata": {
    "ExecuteTime": {
     "end_time": "2017-07-21T22:45:48.162286Z",
     "start_time": "2017-07-22T06:45:47.642688+08:00"
    },
    "scrolled": true
   },
   "outputs": [
    {
     "name": "stdout",
     "output_type": "stream",
     "text": [
      "_________________________________________________________________\n",
      "Layer (type)                 Output Shape              Param #   \n",
      "=================================================================\n",
      "input_2 (InputLayer)         (None, 1, 5, 50, 3)       0         \n",
      "_________________________________________________________________\n",
      "reshape_3 (Reshape)          (None, 5, 50, 3)          0         \n",
      "_________________________________________________________________\n",
      "conv2d_6 (Conv2D)            (None, 5, 48, 2)          20        \n",
      "_________________________________________________________________\n",
      "batch_normalization_9 (Batch (None, 5, 48, 2)          8         \n",
      "_________________________________________________________________\n",
      "conv2d_7 (Conv2D)            (None, 5, 1, 20)          1940      \n",
      "_________________________________________________________________\n",
      "batch_normalization_10 (Batc (None, 5, 1, 20)          80        \n",
      "_________________________________________________________________\n",
      "conv2d_8 (Conv2D)            (None, 5, 1, 1)           21        \n",
      "_________________________________________________________________\n",
      "batch_normalization_11 (Batc (None, 5, 1, 1)           4         \n",
      "_________________________________________________________________\n",
      "flatten_3 (Flatten)          (None, 5)                 0         \n",
      "_________________________________________________________________\n",
      "dense_6 (Dense)              (None, 6)                 36        \n",
      "_________________________________________________________________\n",
      "activation_6 (Activation)    (None, 6)                 0         \n",
      "=================================================================\n",
      "Total params: 2,109\n",
      "Trainable params: 2,063\n",
      "Non-trainable params: 46\n",
      "_________________________________________________________________\n",
      "None\n",
      "____________________________________________________________________________________________________\n",
      "Layer (type)                     Output Shape          Param #     Connected to                     \n",
      "====================================================================================================\n",
      "observation_input (InputLayer)   (None, 1, 5, 50, 3)   0                                            \n",
      "____________________________________________________________________________________________________\n",
      "reshape_4 (Reshape)              (None, 5, 50, 3)      0           observation_input[0][0]          \n",
      "____________________________________________________________________________________________________\n",
      "conv2d_9 (Conv2D)                (None, 5, 48, 2)      20          reshape_4[0][0]                  \n",
      "____________________________________________________________________________________________________\n",
      "batch_normalization_12 (BatchNor (None, 5, 48, 2)      8           conv2d_9[0][0]                   \n",
      "____________________________________________________________________________________________________\n",
      "conv2d_10 (Conv2D)               (None, 5, 1, 20)      1940        batch_normalization_12[0][0]     \n",
      "____________________________________________________________________________________________________\n",
      "batch_normalization_13 (BatchNor (None, 5, 1, 20)      80          conv2d_10[0][0]                  \n",
      "____________________________________________________________________________________________________\n",
      "action_input (InputLayer)        (None, 6)             0                                            \n",
      "____________________________________________________________________________________________________\n",
      "flatten_4 (Flatten)              (None, 100)           0           batch_normalization_13[0][0]     \n",
      "____________________________________________________________________________________________________\n",
      "concatenate_2 (Concatenate)      (None, 106)           0           action_input[0][0]               \n",
      "                                                                   flatten_4[0][0]                  \n",
      "____________________________________________________________________________________________________\n",
      "dense_7 (Dense)                  (None, 128)           13696       concatenate_2[0][0]              \n",
      "____________________________________________________________________________________________________\n",
      "activation_7 (Activation)        (None, 128)           0           dense_7[0][0]                    \n",
      "____________________________________________________________________________________________________\n",
      "batch_normalization_14 (BatchNor (None, 128)           512         activation_7[0][0]               \n",
      "____________________________________________________________________________________________________\n",
      "dense_8 (Dense)                  (None, 64)            8256        batch_normalization_14[0][0]     \n",
      "____________________________________________________________________________________________________\n",
      "activation_8 (Activation)        (None, 64)            0           dense_8[0][0]                    \n",
      "____________________________________________________________________________________________________\n",
      "batch_normalization_15 (BatchNor (None, 64)            256         activation_8[0][0]               \n",
      "____________________________________________________________________________________________________\n",
      "dense_9 (Dense)                  (None, 32)            2080        batch_normalization_15[0][0]     \n",
      "____________________________________________________________________________________________________\n",
      "activation_9 (Activation)        (None, 32)            0           dense_9[0][0]                    \n",
      "____________________________________________________________________________________________________\n",
      "batch_normalization_16 (BatchNor (None, 32)            128         activation_9[0][0]               \n",
      "____________________________________________________________________________________________________\n",
      "dense_10 (Dense)                 (None, 1)             33          batch_normalization_16[0][0]     \n",
      "____________________________________________________________________________________________________\n",
      "activation_10 (Activation)       (None, 1)             0           dense_10[0][0]                   \n",
      "====================================================================================================\n",
      "Total params: 27,009\n",
      "Trainable params: 26,517\n",
      "Non-trainable params: 492\n",
      "____________________________________________________________________________________________________\n",
      "None\n"
     ]
    }
   ],
   "source": [
    "from keras.layers import Input, merge, Reshape\n",
    "from keras.layers import concatenate, Conv2D\n",
    "from keras.regularizers import l2, l1_l2\n",
    "from keras.models import Model\n",
    "\n",
    "window_length=50\n",
    "nb_actions=env.action_space.shape[0]\n",
    "reg=1e-8\n",
    "\n",
    "# Simple CNN actor model\n",
    "actor = Sequential()\n",
    "actor.add(InputLayer(input_shape=(1,)+env.observation_space.shape))\n",
    "actor.add(Reshape(env.observation_space.shape))\n",
    "actor.add(Conv2D(\n",
    "    filters=2,\n",
    "    kernel_size=(1,3),\n",
    "    kernel_regularizer=l2(reg),\n",
    "    activation='relu'\n",
    "))\n",
    "actor.add(BatchNormalization()) # lets add batch norm to decrease training time\n",
    "\n",
    "actor.add(Conv2D(\n",
    "    filters=20,\n",
    "    kernel_size=(1,window_length-2),\n",
    "    kernel_regularizer=l2(reg),\n",
    "    activation='relu'\n",
    "))\n",
    "actor.add(BatchNormalization())\n",
    "\n",
    "actor.add(Conv2D(\n",
    "    filters=1,\n",
    "    kernel_size=(1,1),\n",
    "    kernel_regularizer=l2(reg),\n",
    "    activation='relu'\n",
    "))\n",
    "actor.add(BatchNormalization())\n",
    "\n",
    "actor.add(Flatten())\n",
    "actor.add(Dense(\n",
    "    nb_actions, \n",
    "    kernel_regularizer=l2(reg)\n",
    ")) # this adds cash bias\n",
    "actor.add(Activation('softmax'))\n",
    "print(actor.summary())\n",
    "\n",
    "# Lets have nice flexible critic so it can approximate the Q-function\n",
    "action_input = Input(shape=(nb_actions,), name='action_input')\n",
    "\n",
    "observation_input = Input(shape=(1,)+env.observation_space.shape, name='observation_input')\n",
    "y = Reshape(env.observation_space.shape)(observation_input)\n",
    "\n",
    "y = Conv2D(\n",
    "    filters=2,\n",
    "    kernel_size=(1,3),\n",
    "    kernel_regularizer=l2(reg),\n",
    "    activation='relu'\n",
    ")(y)\n",
    "y = BatchNormalization()(y) # lets add batch norm to decrease training time\n",
    "\n",
    "y = Conv2D(\n",
    "    filters=20,\n",
    "    kernel_size=(1,window_length-2),\n",
    "    kernel_regularizer=l2(reg),\n",
    "    activation='relu'\n",
    ")(y)\n",
    "y = BatchNormalization()(y)\n",
    "\n",
    "y = Flatten()(y)\n",
    "\n",
    "x = concatenate([action_input, y])\n",
    "x = Dense(128)(x)\n",
    "x = Activation('relu')(x)\n",
    "x = BatchNormalization()(x)\n",
    "\n",
    "x = Dense(64)(x)\n",
    "x = Activation('relu')(x)\n",
    "x = BatchNormalization()(x)\n",
    "\n",
    "x = Dense(32)(x)\n",
    "x = Activation('relu')(x)\n",
    "x = BatchNormalization()(x)\n",
    "\n",
    "x = Dense(1)(x)\n",
    "x = Activation('linear')(x)\n",
    "critic = Model(inputs=[action_input, observation_input], outputs=x)\n",
    "print(critic.summary())"
   ]
  },
  {
   "cell_type": "markdown",
   "metadata": {},
   "source": [
    "# Agent"
   ]
  },
  {
   "cell_type": "code",
   "execution_count": 15,
   "metadata": {
    "ExecuteTime": {
     "end_time": "2017-07-21T22:45:51.940197Z",
     "start_time": "2017-07-22T06:45:49.715257+08:00"
    }
   },
   "outputs": [
    {
     "data": {
      "text/plain": [
       "<rl.agents.ddpg.DDPGAgent at 0x7f1279ff32e8>"
      ]
     },
     "execution_count": 15,
     "metadata": {},
     "output_type": "execute_result"
    }
   ],
   "source": [
    "from rl.agents.ddpg import DDPGAgent\n",
    "from rl.policy import BoltzmannQPolicy, EpsGreedyQPolicy, LinearAnnealedPolicy\n",
    "from rl.memory import SequentialMemory\n",
    "from rl.random import OrnsteinUhlenbeckProcess\n",
    "\n",
    "# We configure and compile our agent.\n",
    "\n",
    "# We are providing the last 50 steps so we don't need memory, use window_lenght=1 as placeholder\n",
    "memory = SequentialMemory(limit=1000, window_length=1)\n",
    "\n",
    "random_process = OrnsteinUhlenbeckProcess(\n",
    "    size=nb_actions, theta=.15, mu=0., sigma=.3)\n",
    "\n",
    "agent = DDPGAgent(\n",
    "    nb_actions=nb_actions,\n",
    "    actor=actor,\n",
    "    critic=critic,\n",
    "    critic_action_input=action_input,\n",
    "    random_process=random_process,\n",
    "    memory=memory,\n",
    "    batch_size=50,\n",
    "    nb_steps_warmup_critic=30,\n",
    "    nb_steps_warmup_actor=30,    \n",
    "    gamma=.00, # discounted factor of zero as per paper\n",
    "    target_model_update=1e-3\n",
    ")\n",
    "\n",
    "agent.compile(Adam(lr=3e-5), metrics=['mse'])\n",
    "agent"
   ]
  },
  {
   "cell_type": "markdown",
   "metadata": {},
   "source": [
    "# Train"
   ]
  },
  {
   "cell_type": "code",
   "execution_count": 16,
   "metadata": {
    "ExecuteTime": {
     "end_time": "2017-07-21T22:45:51.967418Z",
     "start_time": "2017-07-22T06:45:51.941864+08:00"
    },
    "collapsed": true
   },
   "outputs": [],
   "source": [
    "from src.callbacks.keras_rl_callbacks import TrainIntervalLoggerTQDMNotebook"
   ]
  },
  {
   "cell_type": "code",
   "execution_count": 17,
   "metadata": {
    "ExecuteTime": {
     "end_time": "2017-07-21T22:45:52.907859Z",
     "start_time": "2017-07-22T06:45:52.866949+08:00"
    },
    "collapsed": true
   },
   "outputs": [],
   "source": [
    "def sharpe(returns, freq=30, rfr=0):\n",
    "    \"\"\"Given a set of returns, calculates naive (rfr=0) sharpe (eq 28) \"\"\"\n",
    "    return (np.sqrt(freq) * np.mean(returns-rfr)) / np.std(returns - rfr)\n",
    "\n",
    "\n",
    "def MDD(returns):\n",
    "    \"\"\"Max drawdown.\"\"\"\n",
    "    peak = returns.max()\n",
    "    i = returns.argmax()\n",
    "    trough = returns[returns.argmax():].min()\n",
    "    return (trough-peak)/trough "
   ]
  },
  {
   "cell_type": "code",
   "execution_count": 18,
   "metadata": {
    "ExecuteTime": {
     "end_time": "2017-07-21T22:45:53.125434Z",
     "start_time": "2017-07-22T06:45:53.090579+08:00"
    },
    "collapsed": true
   },
   "outputs": [],
   "source": [
    "# # https://github.com/matthiasplappert/keras-rl/blob/master/rl/callbacks.py#L104\n",
    "from rl.callbacks import TrainEpisodeLogger\n",
    "class TrainEpisodeLoggerPortfolio(TrainEpisodeLogger):\n",
    "    \"\"\"Print custom stats every <log_intv> episode.\"\"\"\n",
    "    def __init__(self, log_intv):\n",
    "        super().__init__()\n",
    "        self.log_intv=log_intv\n",
    "        self.episode_metrics={} # custom metrics\n",
    "    def on_episode_end(self, episode, logs):\n",
    "        \n",
    "        # save custom metrics\n",
    "        df = pd.DataFrame(self.env.infos)\n",
    "        self.episode_metrics[episode]=dict(\n",
    "            max_drawdown=MDD(df.portfolio_value), \n",
    "            sharpe=sharpe(df.rate_of_return), \n",
    "            accumulated_portfolio_value=df.portfolio_value.iloc[-1],\n",
    "            mean_market_return=df.mean_market_returns.cumprod().iloc[-1],\n",
    "            cash_bias=df.weights.apply(lambda x:x[0]).mean()\n",
    "        )\n",
    "        \n",
    "        if episode%self.log_intv==0:\n",
    "            # print normal metrics\n",
    "            super().on_episode_end(episode, logs)\n",
    "            \n",
    "            # print custom metrics for last N episodes\n",
    "            df = pd.DataFrame(self.episode_metrics).T[-self.log_intv:]          \n",
    "            for col in df.columns:\n",
    "                print('{name:25.25s}: {mean: 10.6f} [{min: 10.6f}, {max: 10.6f}]'.format(\n",
    "                    name=df[col].name, \n",
    "                    min=df[col].min(), \n",
    "                    mean=df[col].mean(), \n",
    "                    max=df[col].max(), \n",
    "                ))\n",
    "            print('')           \n",
    "        "
   ]
  },
  {
   "cell_type": "code",
   "execution_count": 19,
   "metadata": {
    "ExecuteTime": {
     "end_time": "2017-07-21T22:45:53.880121Z",
     "start_time": "2017-07-22T06:45:53.858142+08:00"
    },
    "collapsed": true
   },
   "outputs": [],
   "source": [
    "from rl.callbacks import ModelIntervalCheckpoint\n",
    "save_path= 'outputs/agent_portfolio-ddpg-keras/agent_{}_weights.h5f'.format('portfolio-ddpg-keras-rl')"
   ]
  },
  {
   "cell_type": "code",
   "execution_count": 21,
   "metadata": {
    "ExecuteTime": {
     "end_time": "2017-07-21T22:46:06.253031Z",
     "start_time": "2017-07-22T06:46:06.202048+08:00"
    }
   },
   "outputs": [],
   "source": [
    "agent.load_weights(save_path)"
   ]
  },
  {
   "cell_type": "code",
   "execution_count": 30,
   "metadata": {
    "ExecuteTime": {
     "end_time": "2017-07-22T03:53:15.782271Z",
     "start_time": "2017-07-22T07:01:45.394772+08:00"
    },
    "scrolled": true
   },
   "outputs": [
    {
     "data": {
      "application/vnd.jupyter.widget-view+json": {
       "model_id": "0344e493c55244b6b076571c2168917f"
      }
     },
     "metadata": {},
     "output_type": "display_data"
    },
    {
     "name": "stdout",
     "output_type": "stream",
     "text": [
      "Training for 2000000.0 steps ...\n",
      "Training for 2000000.0 steps ...\n",
      "Interval 1 (0 steps performed)\n",
      "\n",
      "    1440/2000000.0: episode: 1, duration: 44.183s, episode steps: 1440, steps per second: 33, episode reward: 0.000, mean reward: 0.000 [-0.000, 0.000], mean action: 0.181 [-1.304, 1.332], mean observation: 1.003 [0.691, 2.192], loss: 0.000000, mean_squared_error: 0.000000, mean_q: -0.000000\n",
      "accumulated_portfolio_val:   1.594360 [  1.594360,   1.594360]\n",
      "cash_bias                :   0.290511 [  0.290511,   0.290511]\n",
      "max_drawdown             :  -0.017700 [ -0.017700,  -0.017700]\n",
      "mean_market_return       :   1.503227 [  1.503227,   1.503227]\n",
      "sharpe                   :   0.279051 [  0.279051,   0.279051]\n",
      "\n",
      "6 episodes - episode_reward: 0.000 [-0.001, 0.001] - loss: 0.000 - mean_squared_error: 0.000 - mean_q: 0.000 - reward: 0.000 - log_return: 0.000 - portfolio_value: 1.085 - rate_of_return: 0.000 - cost: 0.000 - steps: 716.060 - cash_bias: 0.207 - mean_market_returns: 1.000\n",
      "\n",
      "Interval 2 (10000 steps performed)\n",
      "Step 14400: saving model to outputs/agent_portfolio-ddpg-keras/agent_portfolio-ddpg-keras-rl_weights.h5f\n",
      "   15840/2000000.0: episode: 11, duration: 80.006s, episode steps: 1440, steps per second: 18, episode reward: -0.000, mean reward: -0.000 [-0.000, 0.000], mean action: -0.118 [-1.671, 1.564], mean observation: 1.005 [0.574, 1.602], loss: 0.000000, mean_squared_error: 0.000000, mean_q: -0.000000\n",
      "accumulated_portfolio_val:   1.473923 [  0.407480,   3.806590]\n",
      "cash_bias                :   0.180586 [  0.013128,   0.365315]\n",
      "max_drawdown             :  -0.458343 [ -1.612398,  -0.025062]\n",
      "mean_market_return       :   1.479344 [  0.637105,   2.680602]\n",
      "sharpe                   :   0.139583 [ -0.739532,   0.851367]\n",
      "\n",
      "7 episodes - episode_reward: 0.000 [-0.000, 0.001] - loss: 0.000 - mean_squared_error: 0.000 - mean_q: 0.000 - reward: 0.000 - log_return: 0.000 - portfolio_value: 1.227 - rate_of_return: 0.000 - cost: 0.000 - steps: 716.700 - cash_bias: 0.178 - mean_market_returns: 1.000\n",
      "\n",
      "Interval 3 (20000 steps performed)\n",
      "Step 28800: saving model to outputs/agent_portfolio-ddpg-keras/agent_portfolio-ddpg-keras-rl_weights.h5f\n",
      "7 episodes - episode_reward: 0.000 [-0.000, 0.001] - loss: 0.000 - mean_squared_error: 0.000 - mean_q: 0.000 - reward: 0.000 - log_return: 0.000 - portfolio_value: 1.229 - rate_of_return: 0.000 - cost: 0.000 - steps: 717.340 - cash_bias: 0.159 - mean_market_returns: 1.000\n",
      "\n",
      "Interval 4 (30000 steps performed)\n",
      "   30240/2000000.0: episode: 21, duration: 62.486s, episode steps: 1440, steps per second: 23, episode reward: 0.000, mean reward: 0.000 [-0.000, 0.000], mean action: -0.029 [-1.237, 1.200], mean observation: 1.006 [0.768, 1.602], loss: 0.000000, mean_squared_error: 0.000000, mean_q: 0.000000\n",
      "accumulated_portfolio_val:   1.511885 [  0.818089,   3.297632]\n",
      "cash_bias                :   0.170617 [  0.030225,   0.310242]\n",
      "max_drawdown             :  -0.105082 [ -0.370219,  -0.000250]\n",
      "mean_market_return       :   1.408426 [  0.769638,   2.520138]\n",
      "sharpe                   :   0.246085 [ -0.120012,   0.731422]\n",
      "\n",
      "7 episodes - episode_reward: 0.000 [-0.000, 0.001] - loss: 0.000 - mean_squared_error: 0.000 - mean_q: 0.000 - reward: 0.000 - log_return: 0.000 - portfolio_value: 1.352 - rate_of_return: 0.000 - cost: 0.000 - steps: 717.980 - cash_bias: 0.137 - mean_market_returns: 1.000\n",
      "\n",
      "Interval 5 (40000 steps performed)\n",
      "Step 43200: saving model to outputs/agent_portfolio-ddpg-keras/agent_portfolio-ddpg-keras-rl_weights.h5f\n",
      "   44640/2000000.0: episode: 31, duration: 60.532s, episode steps: 1440, steps per second: 24, episode reward: -0.000, mean reward: -0.000 [-0.000, 0.000], mean action: 0.432 [-0.730, 1.601], mean observation: 1.003 [0.859, 1.200], loss: 0.000000, mean_squared_error: 0.000000, mean_q: 0.000000\n",
      "accumulated_portfolio_val:   1.654337 [  0.734315,   2.529743]\n",
      "cash_bias                :   0.149719 [  0.028282,   0.386525]\n",
      "max_drawdown             :  -0.216970 [ -0.663005,  -0.021538]\n",
      "mean_market_return       :   1.519005 [  0.442962,   2.432682]\n",
      "sharpe                   :   0.240032 [ -0.089893,   0.532936]\n",
      "\n",
      "7 episodes - episode_reward: 0.000 [-0.000, 0.001] - loss: 0.000 - mean_squared_error: 0.000 - mean_q: 0.000 - reward: 0.000 - log_return: 0.000 - portfolio_value: 1.219 - rate_of_return: 0.000 - cost: 0.000 - steps: 718.620 - cash_bias: 0.194 - mean_market_returns: 1.000\n",
      "\n",
      "Interval 6 (50000 steps performed)\n",
      "Step 57600: saving model to outputs/agent_portfolio-ddpg-keras/agent_portfolio-ddpg-keras-rl_weights.h5f\n",
      "   59040/2000000.0: episode: 41, duration: 58.156s, episode steps: 1440, steps per second: 25, episode reward: 0.000, mean reward: 0.000 [-0.000, 0.000], mean action: 0.021 [-0.927, 1.287], mean observation: 0.995 [0.488, 1.464], loss: 0.000000, mean_squared_error: 0.000000, mean_q: 0.000000\n",
      "accumulated_portfolio_val:   1.466347 [  1.026329,   1.903196]\n",
      "cash_bias                :   0.208635 [  0.016432,   0.491537]\n",
      "max_drawdown             :  -0.069684 [ -0.212431,   0.000000]\n",
      "mean_market_return       :   1.624505 [  1.028553,   2.206736]\n",
      "sharpe                   :   0.213490 [  0.035250,   0.320303]\n",
      "\n",
      "7 episodes - episode_reward: 0.000 [0.000, 0.000] - loss: 0.000 - mean_squared_error: 0.000 - mean_q: 0.000 - reward: 0.000 - log_return: 0.000 - portfolio_value: 1.244 - rate_of_return: 0.000 - cost: 0.000 - steps: 719.260 - cash_bias: 0.188 - mean_market_returns: 1.000\n",
      "\n",
      "Interval 7 (60000 steps performed)\n",
      "7 episodes - episode_reward: 0.000 [-0.000, 0.000] - loss: 0.000 - mean_squared_error: 0.000 - mean_q: 0.000 - reward: 0.000 - log_return: 0.000 - portfolio_value: 1.159 - rate_of_return: 0.000 - cost: 0.000 - steps: 719.900 - cash_bias: 0.154 - mean_market_returns: 1.000\n",
      "\n",
      "Interval 8 (70000 steps performed)\n",
      "Step 72000: saving model to outputs/agent_portfolio-ddpg-keras/agent_portfolio-ddpg-keras-rl_weights.h5f\n",
      "   73440/2000000.0: episode: 51, duration: 60.020s, episode steps: 1440, steps per second: 24, episode reward: 0.000, mean reward: 0.000 [-0.000, 0.000], mean action: 0.207 [-1.130, 1.337], mean observation: 0.999 [0.793, 1.189], loss: 0.000000, mean_squared_error: 0.000000, mean_q: 0.000000\n",
      "accumulated_portfolio_val:   1.350455 [  0.860484,   1.950396]\n",
      "cash_bias                :   0.149423 [  0.007750,   0.339040]\n",
      "max_drawdown             :  -0.242860 [ -0.788709,  -0.007982]\n",
      "mean_market_return       :   1.543903 [  1.088251,   1.978090]\n",
      "sharpe                   :   0.223853 [ -0.045842,   0.701498]\n",
      "\n",
      "7 episodes - episode_reward: 0.000 [0.000, 0.001] - loss: 0.000 - mean_squared_error: 0.000 - mean_q: 0.000 - reward: 0.000 - log_return: 0.000 - portfolio_value: 1.360 - rate_of_return: 0.000 - cost: 0.000 - steps: 720.540 - cash_bias: 0.153 - mean_market_returns: 1.000\n",
      "\n",
      "Interval 9 (80000 steps performed)\n",
      "Step 86400: saving model to outputs/agent_portfolio-ddpg-keras/agent_portfolio-ddpg-keras-rl_weights.h5f\n",
      "   87840/2000000.0: episode: 61, duration: 60.764s, episode steps: 1440, steps per second: 24, episode reward: -0.000, mean reward: -0.000 [-0.000, 0.000], mean action: 0.311 [-1.169, 1.319], mean observation: 1.002 [0.859, 1.200], loss: 0.000000, mean_squared_error: 0.000000, mean_q: 0.000000\n",
      "accumulated_portfolio_val:   1.516538 [  0.617458,   2.975510]\n",
      "cash_bias                :   0.157411 [  0.048918,   0.337389]\n",
      "max_drawdown             :  -0.242529 [ -0.764312,  -0.013177]\n",
      "mean_market_return       :   1.384925 [  0.748278,   1.983123]\n",
      "sharpe                   :   0.190810 [ -0.190192,   0.551999]\n",
      "\n",
      "7 episodes - episode_reward: 0.000 [-0.000, 0.001] - loss: 0.000 - mean_squared_error: 0.000 - mean_q: 0.000 - reward: 0.000 - log_return: 0.000 - portfolio_value: 1.281 - rate_of_return: 0.000 - cost: 0.000 - steps: 721.180 - cash_bias: 0.142 - mean_market_returns: 1.000\n",
      "\n",
      "Interval 10 (90000 steps performed)\n",
      "7 episodes - episode_reward: 0.000 [-0.000, 0.001] - loss: 0.000 - mean_squared_error: 0.000 - mean_q: 0.000 - reward: 0.000 - log_return: 0.000 - portfolio_value: 1.463 - rate_of_return: 0.000 - cost: 0.000 - steps: 721.820 - cash_bias: 0.196 - mean_market_returns: 1.000\n",
      "\n",
      "Interval 11 (100000 steps performed)\n",
      "Step 100800: saving model to outputs/agent_portfolio-ddpg-keras/agent_portfolio-ddpg-keras-rl_weights.h5f\n"
     ]
    },
    {
     "name": "stdout",
     "output_type": "stream",
     "text": [
      "  102240/2000000.0: episode: 71, duration: 60.173s, episode steps: 1440, steps per second: 24, episode reward: -0.000, mean reward: -0.000 [-0.000, 0.000], mean action: 0.338 [-0.593, 2.013], mean observation: 1.006 [0.768, 1.602], loss: 0.000000, mean_squared_error: 0.000000, mean_q: -0.000000\n",
      "accumulated_portfolio_val:   1.712620 [  0.586262,   3.524364]\n",
      "cash_bias                :   0.177027 [  0.013535,   0.400723]\n",
      "max_drawdown             :  -0.201248 [ -0.793034,  -0.007775]\n",
      "mean_market_return       :   1.449890 [  0.535093,   2.789479]\n",
      "sharpe                   :   0.206406 [ -0.347600,   0.618238]\n",
      "\n",
      "7 episodes - episode_reward: 0.000 [-0.001, 0.001] - loss: 0.000 - mean_squared_error: 0.000 - mean_q: 0.000 - reward: 0.000 - log_return: 0.000 - portfolio_value: 1.554 - rate_of_return: 0.000 - cost: 0.000 - steps: 722.460 - cash_bias: 0.164 - mean_market_returns: 1.000\n",
      "\n",
      "Interval 12 (110000 steps performed)\n",
      "Step 115200: saving model to outputs/agent_portfolio-ddpg-keras/agent_portfolio-ddpg-keras-rl_weights.h5f\n",
      "  116640/2000000.0: episode: 81, duration: 59.677s, episode steps: 1440, steps per second: 24, episode reward: -0.000, mean reward: -0.000 [-0.000, 0.000], mean action: 0.112 [-1.194, 1.259], mean observation: 1.002 [0.714, 1.329], loss: 0.000000, mean_squared_error: 0.000000, mean_q: 0.000000\n",
      "accumulated_portfolio_val:   1.944039 [  0.155057,   4.785229]\n",
      "cash_bias                :   0.183107 [  0.017985,   0.389856]\n",
      "max_drawdown             :  -0.732234 [ -6.409485,   0.000000]\n",
      "mean_market_return       :   1.484428 [  0.836086,   2.307973]\n",
      "sharpe                   :   0.174402 [ -0.801079,   0.776428]\n",
      "\n",
      "7 episodes - episode_reward: 0.000 [-0.000, 0.001] - loss: 0.000 - mean_squared_error: 0.000 - mean_q: 0.000 - reward: 0.000 - log_return: 0.000 - portfolio_value: 1.161 - rate_of_return: 0.000 - cost: 0.000 - steps: 723.100 - cash_bias: 0.171 - mean_market_returns: 1.000\n",
      "\n",
      "Interval 13 (120000 steps performed)\n",
      "Step 129600: saving model to outputs/agent_portfolio-ddpg-keras/agent_portfolio-ddpg-keras-rl_weights.h5f\n",
      "7 episodes - episode_reward: 0.000 [0.000, 0.001] - loss: 0.000 - mean_squared_error: 0.000 - mean_q: 0.000 - reward: 0.000 - log_return: 0.000 - portfolio_value: 1.254 - rate_of_return: 0.000 - cost: 0.000 - steps: 723.740 - cash_bias: 0.236 - mean_market_returns: 1.000\n",
      "\n",
      "Interval 14 (130000 steps performed)\n",
      "  131040/2000000.0: episode: 91, duration: 60.622s, episode steps: 1440, steps per second: 24, episode reward: 0.000, mean reward: 0.000 [-0.000, 0.000], mean action: 0.456 [-0.691, 1.501], mean observation: 1.000 [0.456, 2.151], loss: 0.000000, mean_squared_error: 0.000000, mean_q: 0.000000\n",
      "accumulated_portfolio_val:   1.705976 [  1.037533,   3.111603]\n",
      "cash_bias                :   0.202714 [  0.003384,   0.404770]\n",
      "max_drawdown             :  -0.105421 [ -0.375535,  -0.011562]\n",
      "mean_market_return       :   1.548067 [  1.024713,   2.073652]\n",
      "sharpe                   :   0.310354 [  0.040457,   0.572844]\n",
      "\n",
      "7 episodes - episode_reward: 0.000 [-0.001, 0.001] - loss: 0.000 - mean_squared_error: 0.000 - mean_q: 0.000 - reward: 0.000 - log_return: 0.000 - portfolio_value: 1.374 - rate_of_return: 0.000 - cost: 0.000 - steps: 724.380 - cash_bias: 0.154 - mean_market_returns: 1.000\n",
      "\n",
      "Interval 15 (140000 steps performed)\n",
      "Step 144000: saving model to outputs/agent_portfolio-ddpg-keras/agent_portfolio-ddpg-keras-rl_weights.h5f\n",
      "  145440/2000000.0: episode: 101, duration: 59.694s, episode steps: 1440, steps per second: 24, episode reward: -0.001, mean reward: -0.000 [-0.000, 0.000], mean action: -0.091 [-1.061, 0.905], mean observation: 1.002 [0.772, 1.398], loss: 0.000000, mean_squared_error: 0.000000, mean_q: -0.000000\n",
      "accumulated_portfolio_val:   1.726148 [  0.202543,   6.728255]\n",
      "cash_bias                :   0.153086 [  0.036917,   0.466260]\n",
      "max_drawdown             :  -0.983703 [ -4.524803,  -0.033152]\n",
      "mean_market_return       :   1.415627 [  0.457147,   1.906132]\n",
      "sharpe                   :   0.058999 [ -0.898475,   0.699889]\n",
      "\n",
      "7 episodes - episode_reward: -0.000 [-0.001, 0.000] - loss: 0.000 - mean_squared_error: 0.000 - mean_q: -0.000 - reward: -0.000 - log_return: -0.000 - portfolio_value: 1.027 - rate_of_return: 0.000 - cost: 0.000 - steps: 725.020 - cash_bias: 0.148 - mean_market_returns: 1.000\n",
      "\n",
      "Interval 16 (150000 steps performed)\n",
      "Step 158400: saving model to outputs/agent_portfolio-ddpg-keras/agent_portfolio-ddpg-keras-rl_weights.h5f\n",
      "  159840/2000000.0: episode: 111, duration: 59.441s, episode steps: 1440, steps per second: 24, episode reward: 0.001, mean reward: 0.000 [-0.000, 0.000], mean action: 0.290 [-1.227, 2.213], mean observation: 0.999 [0.668, 1.411], loss: 0.000000, mean_squared_error: 0.000000, mean_q: 0.000000\n",
      "accumulated_portfolio_val:   1.341393 [  0.179996,   2.772761]\n",
      "cash_bias                :   0.160683 [  0.044232,   0.321196]\n",
      "max_drawdown             :  -0.966955 [ -6.810792,   0.000000]\n",
      "mean_market_return       :   1.421045 [  0.437170,   2.379175]\n",
      "sharpe                   :   0.160655 [ -0.872273,   0.988650]\n",
      "\n",
      "7 episodes - episode_reward: 0.000 [-0.001, 0.001] - loss: 0.000 - mean_squared_error: 0.000 - mean_q: 0.000 - reward: 0.000 - log_return: 0.000 - portfolio_value: 1.200 - rate_of_return: 0.000 - cost: 0.000 - steps: 725.660 - cash_bias: 0.177 - mean_market_returns: 1.000\n",
      "\n",
      "Interval 17 (160000 steps performed)\n",
      "7 episodes - episode_reward: 0.000 [0.000, 0.001] - loss: 0.000 - mean_squared_error: 0.000 - mean_q: 0.000 - reward: 0.000 - log_return: 0.000 - portfolio_value: 1.357 - rate_of_return: 0.000 - cost: 0.000 - steps: 726.300 - cash_bias: 0.129 - mean_market_returns: 1.000\n",
      "\n",
      "Interval 18 (170000 steps performed)\n",
      "Step 172800: saving model to outputs/agent_portfolio-ddpg-keras/agent_portfolio-ddpg-keras-rl_weights.h5f\n",
      "  174240/2000000.0: episode: 121, duration: 59.761s, episode steps: 1440, steps per second: 24, episode reward: 0.000, mean reward: 0.000 [-0.000, 0.000], mean action: 0.074 [-0.954, 1.756], mean observation: 1.000 [0.671, 1.591], loss: 0.000000, mean_squared_error: 0.000000, mean_q: -0.000000\n",
      "accumulated_portfolio_val:   1.886839 [  1.234943,   3.395351]\n",
      "cash_bias                :   0.117782 [  0.013228,   0.212199]\n",
      "max_drawdown             :  -0.158390 [ -0.784111,  -0.003584]\n",
      "mean_market_return       :   1.507486 [  0.912888,   2.115239]\n",
      "sharpe                   :   0.354955 [  0.097402,   0.523312]\n",
      "\n",
      "7 episodes - episode_reward: 0.000 [-0.000, 0.001] - loss: 0.000 - mean_squared_error: 0.000 - mean_q: 0.000 - reward: 0.000 - log_return: 0.000 - portfolio_value: 1.493 - rate_of_return: 0.000 - cost: 0.000 - steps: 726.940 - cash_bias: 0.144 - mean_market_returns: 1.000\n",
      "\n",
      "Interval 19 (180000 steps performed)\n",
      "Step 187200: saving model to outputs/agent_portfolio-ddpg-keras/agent_portfolio-ddpg-keras-rl_weights.h5f\n",
      "  188640/2000000.0: episode: 131, duration: 42.758s, episode steps: 1440, steps per second: 34, episode reward: -0.001, mean reward: -0.000 [-0.000, 0.000], mean action: 0.389 [-0.615, 1.244], mean observation: 1.002 [0.802, 1.398], loss: 0.000000, mean_squared_error: 0.000000, mean_q: -0.000000\n",
      "accumulated_portfolio_val:   1.668626 [  0.125406,   3.654824]\n",
      "cash_bias                :   0.138927 [  0.021738,   0.465522]\n",
      "max_drawdown             :  -0.793350 [ -7.263991,   0.000000]\n",
      "mean_market_return       :   1.500480 [  0.475625,   2.307281]\n",
      "sharpe                   :   0.090682 [ -1.260924,   0.513489]\n",
      "\n",
      "6 episodes - episode_reward: -0.000 [-0.001, 0.001] - loss: 0.000 - mean_squared_error: 0.000 - mean_q: 0.000 - reward: -0.000 - log_return: -0.000 - portfolio_value: 1.103 - rate_of_return: -0.000 - cost: 0.000 - steps: 716.060 - cash_bias: 0.150 - mean_market_returns: 1.000\n",
      "\n",
      "Interval 20 (190000 steps performed)\n",
      "7 episodes - episode_reward: 0.000 [-0.000, 0.001] - loss: 0.000 - mean_squared_error: 0.000 - mean_q: 0.000 - reward: 0.000 - log_return: 0.000 - portfolio_value: 1.244 - rate_of_return: 0.000 - cost: 0.000 - steps: 716.700 - cash_bias: 0.124 - mean_market_returns: 1.000\n",
      "\n",
      "Interval 21 (200000 steps performed)\n",
      "Step 201600: saving model to outputs/agent_portfolio-ddpg-keras/agent_portfolio-ddpg-keras-rl_weights.h5f\n",
      "  203040/2000000.0: episode: 141, duration: 42.946s, episode steps: 1440, steps per second: 34, episode reward: 0.000, mean reward: 0.000 [-0.000, 0.000], mean action: -0.323 [-1.935, 0.664], mean observation: 0.995 [0.411, 1.859], loss: 0.000000, mean_squared_error: 0.000000, mean_q: 0.000000\n",
      "accumulated_portfolio_val:   1.521499 [  0.617075,   3.622397]\n",
      "cash_bias                :   0.178781 [  0.022048,   0.386592]\n",
      "max_drawdown             :  -0.312852 [ -1.840343,   0.000000]\n",
      "mean_market_return       :   1.389151 [  0.705657,   1.988626]\n",
      "sharpe                   :   0.152642 [ -0.317682,   0.501527]\n",
      "\n"
     ]
    },
    {
     "name": "stdout",
     "output_type": "stream",
     "text": [
      "7 episodes - episode_reward: 0.000 [-0.000, 0.001] - loss: 0.000 - mean_squared_error: 0.000 - mean_q: 0.000 - reward: 0.000 - log_return: 0.000 - portfolio_value: 1.510 - rate_of_return: 0.001 - cost: 0.000 - steps: 717.340 - cash_bias: 0.167 - mean_market_returns: 1.000\n",
      "\n",
      "Interval 22 (210000 steps performed)\n",
      "Step 216000: saving model to outputs/agent_portfolio-ddpg-keras/agent_portfolio-ddpg-keras-rl_weights.h5f\n",
      "  217440/2000000.0: episode: 151, duration: 42.111s, episode steps: 1440, steps per second: 34, episode reward: 0.000, mean reward: 0.000 [-0.000, 0.000], mean action: 0.130 [-1.287, 1.493], mean observation: 1.001 [0.614, 1.391], loss: 0.000000, mean_squared_error: 0.000000, mean_q: -0.000000\n",
      "accumulated_portfolio_val:   2.085229 [  0.592355,   4.187601]\n",
      "cash_bias                :   0.144383 [  0.023876,   0.300895]\n",
      "max_drawdown             :  -0.312512 [ -1.341535,   0.000000]\n",
      "mean_market_return       :   1.682785 [  0.800379,   2.945651]\n",
      "sharpe                   :   0.328789 [ -0.171059,   1.072071]\n",
      "\n",
      "7 episodes - episode_reward: 0.000 [-0.000, 0.001] - loss: 0.000 - mean_squared_error: 0.000 - mean_q: 0.000 - reward: 0.000 - log_return: 0.000 - portfolio_value: 1.143 - rate_of_return: 0.000 - cost: 0.000 - steps: 717.980 - cash_bias: 0.202 - mean_market_returns: 1.000\n",
      "\n",
      "Interval 23 (220000 steps performed)\n",
      "7 episodes - episode_reward: 0.000 [-0.000, 0.001] - loss: 0.000 - mean_squared_error: 0.000 - mean_q: 0.000 - reward: 0.000 - log_return: 0.000 - portfolio_value: 1.188 - rate_of_return: 0.000 - cost: 0.000 - steps: 718.620 - cash_bias: 0.140 - mean_market_returns: 1.000\n",
      "\n",
      "Interval 24 (230000 steps performed)\n",
      "Step 230400: saving model to outputs/agent_portfolio-ddpg-keras/agent_portfolio-ddpg-keras-rl_weights.h5f\n",
      "  231840/2000000.0: episode: 161, duration: 42.223s, episode steps: 1440, steps per second: 34, episode reward: 0.000, mean reward: 0.000 [-0.000, 0.000], mean action: 0.153 [-0.957, 1.603], mean observation: 1.003 [0.859, 1.200], loss: 0.000000, mean_squared_error: 0.000000, mean_q: 0.000000\n",
      "accumulated_portfolio_val:   1.353041 [  0.730177,   2.855037]\n",
      "cash_bias                :   0.175942 [  0.054925,   0.333919]\n",
      "max_drawdown             :  -0.302326 [ -1.052090,  -0.006299]\n",
      "mean_market_return       :   1.343597 [  1.028168,   2.516642]\n",
      "sharpe                   :   0.145916 [ -0.154478,   0.600302]\n",
      "\n",
      "7 episodes - episode_reward: 0.000 [0.000, 0.001] - loss: 0.000 - mean_squared_error: 0.000 - mean_q: 0.000 - reward: 0.000 - log_return: 0.000 - portfolio_value: 1.406 - rate_of_return: 0.000 - cost: 0.000 - steps: 719.260 - cash_bias: 0.169 - mean_market_returns: 1.000\n",
      "\n",
      "Interval 25 (240000 steps performed)\n",
      "Step 244800: saving model to outputs/agent_portfolio-ddpg-keras/agent_portfolio-ddpg-keras-rl_weights.h5f\n",
      "  246240/2000000.0: episode: 171, duration: 42.063s, episode steps: 1440, steps per second: 34, episode reward: 0.000, mean reward: 0.000 [-0.000, 0.000], mean action: 0.180 [-1.193, 1.280], mean observation: 1.002 [0.772, 1.428], loss: 0.000000, mean_squared_error: 0.000000, mean_q: 0.000000\n",
      "accumulated_portfolio_val:   2.097437 [  1.024634,   5.160928]\n",
      "cash_bias                :   0.159316 [  0.052932,   0.398416]\n",
      "max_drawdown             :  -0.182138 [ -0.626646,  -0.010866]\n",
      "mean_market_return       :   1.438233 [  0.978891,   2.244525]\n",
      "sharpe                   :   0.295053 [  0.035800,   0.816552]\n",
      "\n",
      "7 episodes - episode_reward: 0.000 [0.000, 0.001] - loss: 0.000 - mean_squared_error: 0.000 - mean_q: 0.000 - reward: 0.000 - log_return: 0.000 - portfolio_value: 1.379 - rate_of_return: 0.000 - cost: 0.000 - steps: 719.900 - cash_bias: 0.143 - mean_market_returns: 1.000\n",
      "\n",
      "Interval 26 (250000 steps performed)\n",
      "Step 259200: saving model to outputs/agent_portfolio-ddpg-keras/agent_portfolio-ddpg-keras-rl_weights.h5f\n",
      "7 episodes - episode_reward: 0.000 [0.000, 0.001] - loss: 0.000 - mean_squared_error: 0.000 - mean_q: 0.000 - reward: 0.000 - log_return: 0.000 - portfolio_value: 1.323 - rate_of_return: 0.000 - cost: 0.000 - steps: 720.540 - cash_bias: 0.173 - mean_market_returns: 1.000\n",
      "\n",
      "Interval 27 (260000 steps performed)\n",
      "  260640/2000000.0: episode: 181, duration: 42.456s, episode steps: 1440, steps per second: 34, episode reward: 0.000, mean reward: 0.000 [-0.000, 0.000], mean action: 0.239 [-1.008, 1.703], mean observation: 1.001 [0.546, 1.568], loss: 0.000000, mean_squared_error: 0.000000, mean_q: 0.000000\n",
      "accumulated_portfolio_val:   1.699592 [  1.027996,   2.904053]\n",
      "cash_bias                :   0.164674 [  0.016774,   0.335168]\n",
      "max_drawdown             :  -0.166984 [ -0.511628,  -0.023091]\n",
      "mean_market_return       :   1.492718 [  0.973269,   2.229736]\n",
      "sharpe                   :   0.243357 [  0.034102,   0.536610]\n",
      "\n",
      "7 episodes - episode_reward: 0.000 [0.000, 0.001] - loss: 0.000 - mean_squared_error: 0.000 - mean_q: 0.000 - reward: 0.000 - log_return: 0.000 - portfolio_value: 1.438 - rate_of_return: 0.000 - cost: 0.000 - steps: 721.180 - cash_bias: 0.160 - mean_market_returns: 1.000\n",
      "\n",
      "Interval 28 (270000 steps performed)\n",
      "Step 273600: saving model to outputs/agent_portfolio-ddpg-keras/agent_portfolio-ddpg-keras-rl_weights.h5f\n",
      "  275040/2000000.0: episode: 191, duration: 45.147s, episode steps: 1440, steps per second: 32, episode reward: 0.000, mean reward: 0.000 [-0.000, 0.000], mean action: 0.113 [-1.084, 1.275], mean observation: 1.003 [0.772, 1.428], loss: 0.000000, mean_squared_error: 0.000000, mean_q: 0.000000\n",
      "accumulated_portfolio_val:   1.664715 [  0.456854,   3.918273]\n",
      "cash_bias                :   0.176635 [  0.023738,   0.350580]\n",
      "max_drawdown             :  -0.372458 [ -1.261264,  -0.002640]\n",
      "mean_market_return       :   1.352173 [  0.743006,   2.146232]\n",
      "sharpe                   :   0.148712 [ -0.568148,   0.671670]\n",
      "\n",
      "7 episodes - episode_reward: -0.000 [-0.001, 0.001] - loss: 0.000 - mean_squared_error: 0.000 - mean_q: -0.000 - reward: -0.000 - log_return: -0.000 - portfolio_value: 0.941 - rate_of_return: -0.000 - cost: 0.000 - steps: 721.820 - cash_bias: 0.211 - mean_market_returns: 1.000\n",
      "\n",
      "Interval 29 (280000 steps performed)\n",
      "Step 288000: saving model to outputs/agent_portfolio-ddpg-keras/agent_portfolio-ddpg-keras-rl_weights.h5f\n",
      "  289440/2000000.0: episode: 201, duration: 42.208s, episode steps: 1440, steps per second: 34, episode reward: 0.000, mean reward: 0.000 [-0.000, 0.000], mean action: 0.078 [-1.482, 1.855], mean observation: 1.001 [0.766, 1.246], loss: 0.000000, mean_squared_error: 0.000000, mean_q: 0.000000\n",
      "accumulated_portfolio_val:   1.235595 [  0.148613,   2.305946]\n",
      "cash_bias                :   0.211139 [  0.074015,   0.471638]\n",
      "max_drawdown             :  -2.047347 [ -8.332630,  -0.038622]\n",
      "mean_market_return       :   1.368645 [  0.442962,   2.289416]\n",
      "sharpe                   :  -0.052367 [ -1.056789,   0.495186]\n",
      "\n",
      "7 episodes - episode_reward: -0.000 [-0.001, 0.001] - loss: 0.000 - mean_squared_error: 0.000 - mean_q: -0.000 - reward: -0.000 - log_return: -0.000 - portfolio_value: 1.232 - rate_of_return: -0.000 - cost: 0.000 - steps: 722.460 - cash_bias: 0.201 - mean_market_returns: 1.000\n",
      "\n",
      "Interval 30 (290000 steps performed)\n",
      "7 episodes - episode_reward: 0.000 [-0.000, 0.001] - loss: 0.000 - mean_squared_error: 0.000 - mean_q: 0.000 - reward: 0.000 - log_return: 0.000 - portfolio_value: 1.266 - rate_of_return: 0.000 - cost: 0.000 - steps: 723.100 - cash_bias: 0.161 - mean_market_returns: 1.000\n",
      "\n",
      "Interval 31 (300000 steps performed)\n",
      "Step 302400: saving model to outputs/agent_portfolio-ddpg-keras/agent_portfolio-ddpg-keras-rl_weights.h5f\n",
      "  303840/2000000.0: episode: 211, duration: 42.686s, episode steps: 1440, steps per second: 34, episode reward: 0.000, mean reward: 0.000 [-0.000, 0.000], mean action: 0.306 [-0.916, 1.498], mean observation: 1.003 [0.772, 1.428], loss: 0.000000, mean_squared_error: 0.000000, mean_q: -0.000000\n",
      "accumulated_portfolio_val:   1.458586 [  0.699235,   3.038908]\n",
      "cash_bias                :   0.146996 [  0.012374,   0.292332]\n",
      "max_drawdown             :  -0.377410 [ -0.972476,  -0.007392]\n",
      "mean_market_return       :   1.412244 [  0.513334,   2.086550]\n",
      "sharpe                   :   0.191899 [ -0.045680,   0.492600]\n",
      "\n",
      "7 episodes - episode_reward: 0.000 [0.000, 0.000] - loss: 0.000 - mean_squared_error: 0.000 - mean_q: 0.000 - reward: 0.000 - log_return: 0.000 - portfolio_value: 1.350 - rate_of_return: 0.000 - cost: 0.000 - steps: 723.740 - cash_bias: 0.143 - mean_market_returns: 1.000\n",
      "\n",
      "Interval 32 (310000 steps performed)\n"
     ]
    },
    {
     "name": "stdout",
     "output_type": "stream",
     "text": [
      "Step 316800: saving model to outputs/agent_portfolio-ddpg-keras/agent_portfolio-ddpg-keras-rl_weights.h5f\n",
      "  318240/2000000.0: episode: 221, duration: 42.251s, episode steps: 1440, steps per second: 34, episode reward: 0.000, mean reward: 0.000 [-0.000, 0.000], mean action: 0.181 [-0.633, 1.385], mean observation: 1.004 [0.763, 1.483], loss: 0.000000, mean_squared_error: 0.000000, mean_q: 0.000000\n",
      "accumulated_portfolio_val:   1.481975 [  1.056092,   2.392722]\n",
      "cash_bias                :   0.134164 [  0.011564,   0.241617]\n",
      "max_drawdown             :  -0.186229 [ -0.612553,   0.000000]\n",
      "mean_market_return       :   1.509745 [  1.049210,   1.992326]\n",
      "sharpe                   :   0.207329 [  0.048098,   0.435800]\n",
      "\n",
      "7 episodes - episode_reward: 0.000 [-0.000, 0.001] - loss: 0.000 - mean_squared_error: 0.000 - mean_q: 0.000 - reward: 0.000 - log_return: 0.000 - portfolio_value: 1.076 - rate_of_return: 0.000 - cost: 0.000 - steps: 724.380 - cash_bias: 0.121 - mean_market_returns: 1.000\n",
      "\n",
      "Interval 33 (320000 steps performed)\n",
      "7 episodes - episode_reward: 0.000 [-0.000, 0.001] - loss: 0.000 - mean_squared_error: 0.000 - mean_q: 0.000 - reward: 0.000 - log_return: 0.000 - portfolio_value: 1.392 - rate_of_return: 0.000 - cost: 0.000 - steps: 725.020 - cash_bias: 0.203 - mean_market_returns: 1.000\n",
      "\n",
      "Interval 34 (330000 steps performed)\n",
      "Step 331200: saving model to outputs/agent_portfolio-ddpg-keras/agent_portfolio-ddpg-keras-rl_weights.h5f\n",
      "  332640/2000000.0: episode: 231, duration: 42.619s, episode steps: 1440, steps per second: 34, episode reward: 0.001, mean reward: 0.000 [-0.000, 0.000], mean action: 0.248 [-1.148, 1.632], mean observation: 0.998 [0.712, 1.470], loss: 0.000000, mean_squared_error: 0.000000, mean_q: 0.000000\n",
      "accumulated_portfolio_val:   1.760146 [  0.736961,   3.929010]\n",
      "cash_bias                :   0.196908 [  0.042936,   0.454713]\n",
      "max_drawdown             :  -0.182094 [ -0.503999,   0.000000]\n",
      "mean_market_return       :   1.449485 [  1.063526,   1.767541]\n",
      "sharpe                   :   0.247821 [ -0.158185,   0.693678]\n",
      "\n",
      "7 episodes - episode_reward: 0.000 [-0.000, 0.001] - loss: 0.000 - mean_squared_error: 0.000 - mean_q: 0.000 - reward: 0.000 - log_return: 0.000 - portfolio_value: 1.156 - rate_of_return: 0.000 - cost: 0.000 - steps: 725.660 - cash_bias: 0.198 - mean_market_returns: 1.000\n",
      "\n",
      "Interval 35 (340000 steps performed)\n",
      "Step 345600: saving model to outputs/agent_portfolio-ddpg-keras/agent_portfolio-ddpg-keras-rl_weights.h5f\n",
      "  347040/2000000.0: episode: 241, duration: 42.203s, episode steps: 1440, steps per second: 34, episode reward: 0.000, mean reward: 0.000 [-0.000, 0.000], mean action: 0.186 [-1.318, 1.250], mean observation: 1.000 [0.766, 1.246], loss: 0.000000, mean_squared_error: 0.000000, mean_q: 0.000000\n",
      "accumulated_portfolio_val:   1.249129 [  0.567965,   2.093722]\n",
      "cash_bias                :   0.189499 [  0.094086,   0.384870]\n",
      "max_drawdown             :  -0.392140 [ -0.895713,  -0.020708]\n",
      "mean_market_return       :   1.513570 [  0.788024,   2.092774]\n",
      "sharpe                   :   0.126834 [ -0.280125,   0.422638]\n",
      "\n",
      "7 episodes - episode_reward: 0.000 [0.000, 0.001] - loss: 0.000 - mean_squared_error: 0.000 - mean_q: 0.000 - reward: 0.000 - log_return: 0.000 - portfolio_value: 1.376 - rate_of_return: 0.000 - cost: 0.000 - steps: 726.300 - cash_bias: 0.160 - mean_market_returns: 1.000\n",
      "\n",
      "Interval 36 (350000 steps performed)\n",
      "Step 360000: saving model to outputs/agent_portfolio-ddpg-keras/agent_portfolio-ddpg-keras-rl_weights.h5f\n",
      "7 episodes - episode_reward: 0.000 [0.000, 0.001] - loss: 0.000 - mean_squared_error: 0.000 - mean_q: 0.000 - reward: 0.000 - log_return: 0.000 - portfolio_value: 1.443 - rate_of_return: 0.000 - cost: 0.000 - steps: 726.940 - cash_bias: 0.219 - mean_market_returns: 1.000\n",
      "\n",
      "Interval 37 (360000 steps performed)\n",
      "  361440/2000000.0: episode: 251, duration: 42.375s, episode steps: 1440, steps per second: 34, episode reward: 0.000, mean reward: 0.000 [-0.000, 0.000], mean action: 0.138 [-1.144, 1.560], mean observation: 1.001 [0.671, 1.591], loss: 0.000000, mean_squared_error: 0.000000, mean_q: 0.000000\n",
      "accumulated_portfolio_val:   1.886477 [  1.071135,   3.063326]\n",
      "cash_bias                :   0.209227 [  0.014727,   0.504668]\n",
      "max_drawdown             :  -0.159543 [ -0.473520,   0.000000]\n",
      "mean_market_return       :   1.685075 [  0.867424,   2.338639]\n",
      "sharpe                   :   0.314631 [  0.057232,   0.690450]\n",
      "\n",
      "6 episodes - episode_reward: 0.000 [-0.001, 0.000] - loss: 0.000 - mean_squared_error: 0.000 - mean_q: 0.000 - reward: 0.000 - log_return: 0.000 - portfolio_value: 1.147 - rate_of_return: 0.000 - cost: 0.000 - steps: 716.060 - cash_bias: 0.208 - mean_market_returns: 1.000\n",
      "\n",
      "Interval 38 (370000 steps performed)\n",
      "Step 374400: saving model to outputs/agent_portfolio-ddpg-keras/agent_portfolio-ddpg-keras-rl_weights.h5f\n",
      "  375840/2000000.0: episode: 261, duration: 42.855s, episode steps: 1440, steps per second: 34, episode reward: 0.000, mean reward: 0.000 [-0.000, 0.000], mean action: 0.203 [-1.165, 1.308], mean observation: 1.002 [0.859, 1.200], loss: 0.000000, mean_squared_error: 0.000000, mean_q: 0.000000\n",
      "accumulated_portfolio_val:   1.272924 [  0.466934,   1.997194]\n",
      "cash_bias                :   0.178286 [  0.005000,   0.482554]\n",
      "max_drawdown             :  -0.473871 [ -2.888397,  -0.016942]\n",
      "mean_market_return       :   1.458548 [  0.723609,   2.365090]\n",
      "sharpe                   :   0.145703 [ -0.106682,   0.495587]\n",
      "\n",
      "7 episodes - episode_reward: 0.000 [-0.000, 0.001] - loss: 0.000 - mean_squared_error: 0.000 - mean_q: 0.000 - reward: 0.000 - log_return: 0.000 - portfolio_value: 1.156 - rate_of_return: 0.000 - cost: 0.000 - steps: 716.700 - cash_bias: 0.147 - mean_market_returns: 1.000\n",
      "\n",
      "Interval 39 (380000 steps performed)\n",
      "Step 388800: saving model to outputs/agent_portfolio-ddpg-keras/agent_portfolio-ddpg-keras-rl_weights.h5f\n",
      "7 episodes - episode_reward: 0.000 [-0.000, 0.001] - loss: 0.000 - mean_squared_error: 0.000 - mean_q: 0.000 - reward: 0.000 - log_return: 0.000 - portfolio_value: 1.341 - rate_of_return: 0.000 - cost: 0.000 - steps: 717.340 - cash_bias: 0.191 - mean_market_returns: 1.000\n",
      "\n",
      "Interval 40 (390000 steps performed)\n",
      "  390240/2000000.0: episode: 271, duration: 42.399s, episode steps: 1440, steps per second: 34, episode reward: 0.000, mean reward: 0.000 [-0.000, 0.000], mean action: 0.356 [-0.611, 1.708], mean observation: 0.999 [0.689, 1.290], loss: 0.000000, mean_squared_error: 0.000000, mean_q: 0.000000\n",
      "accumulated_portfolio_val:   1.604714 [  0.647251,   4.117594]\n",
      "cash_bias                :   0.173673 [  0.054629,   0.359980]\n",
      "max_drawdown             :  -0.225534 [ -1.014057,   0.000000]\n",
      "mean_market_return       :   1.402600 [  1.036820,   1.995323]\n",
      "sharpe                   :   0.240530 [ -0.261323,   0.761704]\n",
      "\n",
      "7 episodes - episode_reward: 0.001 [0.000, 0.001] - loss: 0.000 - mean_squared_error: 0.000 - mean_q: 0.000 - reward: 0.000 - log_return: 0.001 - portfolio_value: 1.634 - rate_of_return: 0.001 - cost: 0.000 - steps: 717.980 - cash_bias: 0.194 - mean_market_returns: 1.000\n",
      "\n",
      "Interval 41 (400000 steps performed)\n",
      "Step 403200: saving model to outputs/agent_portfolio-ddpg-keras/agent_portfolio-ddpg-keras-rl_weights.h5f\n",
      "  404640/2000000.0: episode: 281, duration: 42.360s, episode steps: 1440, steps per second: 34, episode reward: 0.000, mean reward: 0.000 [-0.000, 0.000], mean action: 0.086 [-1.368, 1.515], mean observation: 1.008 [0.772, 1.398], loss: 0.000000, mean_squared_error: 0.000000, mean_q: 0.000000\n",
      "accumulated_portfolio_val:   2.179579 [  0.921390,   5.055359]\n",
      "cash_bias                :   0.209474 [  0.076302,   0.495757]\n",
      "max_drawdown             :  -0.084817 [ -0.370159,  -0.005763]\n",
      "mean_market_return       :   1.774603 [  1.074900,   2.547459]\n",
      "sharpe                   :   0.400088 [ -0.028347,   1.070872]\n",
      "\n",
      "7 episodes - episode_reward: 0.000 [-0.000, 0.001] - loss: 0.000 - mean_squared_error: 0.000 - mean_q: 0.000 - reward: 0.000 - log_return: 0.000 - portfolio_value: 1.208 - rate_of_return: 0.000 - cost: 0.000 - steps: 718.620 - cash_bias: 0.201 - mean_market_returns: 1.000\n",
      "\n",
      "Interval 42 (410000 steps performed)\n",
      "Step 417600: saving model to outputs/agent_portfolio-ddpg-keras/agent_portfolio-ddpg-keras-rl_weights.h5f\n"
     ]
    },
    {
     "name": "stdout",
     "output_type": "stream",
     "text": [
      "  419040/2000000.0: episode: 291, duration: 42.139s, episode steps: 1440, steps per second: 34, episode reward: 0.000, mean reward: 0.000 [-0.000, 0.000], mean action: 0.128 [-1.396, 0.936], mean observation: 1.000 [0.766, 1.194], loss: 0.000000, mean_squared_error: 0.000000, mean_q: 0.000000\n",
      "accumulated_portfolio_val:   1.558873 [  0.954473,   2.200340]\n",
      "cash_bias                :   0.129541 [  0.018046,   0.312375]\n",
      "max_drawdown             :  -0.109754 [ -0.401263,  -0.004708]\n",
      "mean_market_return       :   1.525105 [  0.966760,   2.533780]\n",
      "sharpe                   :   0.271823 [ -0.014139,   0.623485]\n",
      "\n",
      "7 episodes - episode_reward: 0.000 [0.000, 0.001] - loss: 0.000 - mean_squared_error: 0.000 - mean_q: 0.000 - reward: 0.000 - log_return: 0.000 - portfolio_value: 1.205 - rate_of_return: 0.000 - cost: 0.000 - steps: 719.260 - cash_bias: 0.124 - mean_market_returns: 1.000\n",
      "\n",
      "Interval 43 (420000 steps performed)\n",
      "7 episodes - episode_reward: 0.000 [-0.000, 0.001] - loss: 0.000 - mean_squared_error: 0.000 - mean_q: 0.000 - reward: 0.000 - log_return: 0.000 - portfolio_value: 1.286 - rate_of_return: 0.000 - cost: 0.000 - steps: 719.900 - cash_bias: 0.112 - mean_market_returns: 1.000\n",
      "\n",
      "Interval 44 (430000 steps performed)\n",
      "Step 432000: saving model to outputs/agent_portfolio-ddpg-keras/agent_portfolio-ddpg-keras-rl_weights.h5f\n",
      "  433440/2000000.0: episode: 301, duration: 42.714s, episode steps: 1440, steps per second: 34, episode reward: 0.000, mean reward: 0.000 [-0.000, 0.000], mean action: 0.355 [-0.796, 1.905], mean observation: 0.999 [0.668, 1.411], loss: 0.000000, mean_squared_error: 0.000000, mean_q: 0.000000\n",
      "accumulated_portfolio_val:   1.972488 [  0.871072,   5.175903]\n",
      "cash_bias                :   0.124588 [  0.012806,   0.307573]\n",
      "max_drawdown             :  -0.150890 [ -0.449867,   0.000000]\n",
      "mean_market_return       :   1.707258 [  1.078934,   2.232539]\n",
      "sharpe                   :   0.270019 [ -0.091228,   0.832003]\n",
      "\n",
      "7 episodes - episode_reward: 0.000 [-0.000, 0.001] - loss: 0.000 - mean_squared_error: 0.000 - mean_q: 0.000 - reward: 0.000 - log_return: 0.000 - portfolio_value: 1.310 - rate_of_return: 0.000 - cost: 0.000 - steps: 720.540 - cash_bias: 0.121 - mean_market_returns: 1.000\n",
      "\n",
      "Interval 45 (440000 steps performed)\n",
      "Step 446400: saving model to outputs/agent_portfolio-ddpg-keras/agent_portfolio-ddpg-keras-rl_weights.h5f\n",
      "  447840/2000000.0: episode: 311, duration: 42.680s, episode steps: 1440, steps per second: 34, episode reward: -0.001, mean reward: -0.000 [-0.000, 0.000], mean action: 0.142 [-0.896, 1.331], mean observation: 1.007 [0.772, 1.398], loss: 0.000000, mean_squared_error: 0.000000, mean_q: -0.000000\n",
      "accumulated_portfolio_val:   1.568627 [  0.353850,   3.015279]\n",
      "cash_bias                :   0.208563 [  0.002246,   0.530852]\n",
      "max_drawdown             :  -0.383691 [ -2.063175,   0.000000]\n",
      "mean_market_return       :   1.573757 [  0.790430,   2.778477]\n",
      "sharpe                   :   0.218243 [ -0.563946,   0.970981]\n",
      "\n",
      "7 episodes - episode_reward: 0.000 [-0.001, 0.001] - loss: 0.000 - mean_squared_error: 0.000 - mean_q: 0.000 - reward: 0.000 - log_return: 0.000 - portfolio_value: 1.310 - rate_of_return: 0.000 - cost: 0.000 - steps: 721.180 - cash_bias: 0.246 - mean_market_returns: 1.000\n",
      "\n",
      "Interval 46 (450000 steps performed)\n",
      "7 episodes - episode_reward: -0.000 [-0.003, 0.001] - loss: 0.000 - mean_squared_error: 0.000 - mean_q: -0.000 - reward: -0.000 - log_return: -0.000 - portfolio_value: 1.140 - rate_of_return: -0.000 - cost: 0.000 - steps: 721.820 - cash_bias: 0.195 - mean_market_returns: 1.000\n",
      "\n",
      "Interval 47 (460000 steps performed)\n",
      "Step 460800: saving model to outputs/agent_portfolio-ddpg-keras/agent_portfolio-ddpg-keras-rl_weights.h5f\n",
      "  462240/2000000.0: episode: 321, duration: 42.485s, episode steps: 1440, steps per second: 34, episode reward: -0.000, mean reward: -0.000 [-0.000, 0.000], mean action: 0.247 [-1.043, 1.280], mean observation: 1.005 [0.772, 1.398], loss: 0.000000, mean_squared_error: 0.000000, mean_q: -0.000000\n",
      "accumulated_portfolio_val:   1.176019 [  0.026074,   2.268019]\n",
      "cash_bias                :   0.194184 [  0.032218,   0.372472]\n",
      "max_drawdown             :  -4.835699 [-45.547742,  -0.001152]\n",
      "mean_market_return       :   1.377317 [  0.449037,   2.246230]\n",
      "sharpe                   :  -0.021666 [ -1.512051,   0.411277]\n",
      "\n",
      "7 episodes - episode_reward: 0.000 [-0.000, 0.000] - loss: 0.000 - mean_squared_error: 0.000 - mean_q: 0.000 - reward: 0.000 - log_return: 0.000 - portfolio_value: 1.118 - rate_of_return: 0.000 - cost: 0.000 - steps: 722.460 - cash_bias: 0.204 - mean_market_returns: 1.000\n",
      "\n",
      "Interval 48 (470000 steps performed)\n",
      "Step 475200: saving model to outputs/agent_portfolio-ddpg-keras/agent_portfolio-ddpg-keras-rl_weights.h5f\n",
      "  476640/2000000.0: episode: 331, duration: 42.080s, episode steps: 1440, steps per second: 34, episode reward: 0.000, mean reward: 0.000 [-0.000, 0.000], mean action: 0.189 [-1.061, 1.542], mean observation: 1.001 [0.725, 1.261], loss: 0.000000, mean_squared_error: 0.000000, mean_q: 0.000000\n",
      "accumulated_portfolio_val:   1.447233 [  1.009390,   2.110690]\n",
      "cash_bias                :   0.167687 [  0.029594,   0.310451]\n",
      "max_drawdown             :  -0.127205 [ -0.486266,   0.000000]\n",
      "mean_market_return       :   1.552742 [  1.068996,   1.916538]\n",
      "sharpe                   :   0.252990 [  0.022084,   0.482918]\n",
      "\n",
      "7 episodes - episode_reward: 0.000 [0.000, 0.001] - loss: 0.000 - mean_squared_error: 0.000 - mean_q: 0.000 - reward: 0.000 - log_return: 0.000 - portfolio_value: 1.210 - rate_of_return: 0.000 - cost: 0.000 - steps: 723.100 - cash_bias: 0.139 - mean_market_returns: 1.000\n",
      "\n",
      "Interval 49 (480000 steps performed)\n",
      "Step 489600: saving model to outputs/agent_portfolio-ddpg-keras/agent_portfolio-ddpg-keras-rl_weights.h5f\n",
      "7 episodes - episode_reward: 0.000 [-0.000, 0.001] - loss: 0.000 - mean_squared_error: 0.000 - mean_q: 0.000 - reward: 0.000 - log_return: 0.000 - portfolio_value: 1.251 - rate_of_return: 0.000 - cost: 0.000 - steps: 723.740 - cash_bias: 0.167 - mean_market_returns: 1.000\n",
      "\n",
      "Interval 50 (490000 steps performed)\n",
      "  491040/2000000.0: episode: 341, duration: 42.530s, episode steps: 1440, steps per second: 34, episode reward: 0.000, mean reward: 0.000 [-0.000, 0.000], mean action: 0.242 [-1.067, 1.733], mean observation: 1.003 [0.708, 1.300], loss: 0.000000, mean_squared_error: 0.000000, mean_q: 0.000000\n",
      "accumulated_portfolio_val:   1.490374 [  0.904625,   2.649029]\n",
      "cash_bias                :   0.154503 [  0.033904,   0.402609]\n",
      "max_drawdown             :  -0.179765 [ -0.407778,  -0.030432]\n",
      "mean_market_return       :   1.365217 [  0.569160,   2.328922]\n",
      "sharpe                   :   0.199229 [ -0.130794,   0.529057]\n",
      "\n",
      "7 episodes - episode_reward: 0.000 [-0.000, 0.000] - loss: 0.000 - mean_squared_error: 0.000 - mean_q: 0.000 - reward: 0.000 - log_return: 0.000 - portfolio_value: 1.195 - rate_of_return: 0.000 - cost: 0.000 - steps: 724.380 - cash_bias: 0.104 - mean_market_returns: 1.000\n",
      "\n",
      "Interval 51 (500000 steps performed)\n",
      "Step 504000: saving model to outputs/agent_portfolio-ddpg-keras/agent_portfolio-ddpg-keras-rl_weights.h5f\n",
      "  505440/2000000.0: episode: 351, duration: 42.255s, episode steps: 1440, steps per second: 34, episode reward: -0.000, mean reward: -0.000 [-0.000, 0.000], mean action: 0.097 [-1.023, 1.095], mean observation: 1.004 [0.755, 1.263], loss: 0.000000, mean_squared_error: 0.000000, mean_q: 0.000000\n",
      "accumulated_portfolio_val:   1.305904 [  0.741632,   1.963140]\n",
      "cash_bias                :   0.150030 [  0.005510,   0.275642]\n",
      "max_drawdown             :  -0.165588 [ -0.636185,   0.000000]\n",
      "mean_market_return       :   1.295655 [  0.882587,   1.798812]\n",
      "sharpe                   :   0.151015 [ -0.170254,   0.448210]\n",
      "\n",
      "7 episodes - episode_reward: 0.000 [-0.000, 0.001] - loss: 0.000 - mean_squared_error: 0.000 - mean_q: 0.000 - reward: 0.000 - log_return: 0.000 - portfolio_value: 1.140 - rate_of_return: 0.000 - cost: 0.000 - steps: 725.020 - cash_bias: 0.239 - mean_market_returns: 1.000\n",
      "\n",
      "Interval 52 (510000 steps performed)\n",
      "done, took 17489.548 seconds\n",
      "done, took 17489.548 seconds\n"
     ]
    }
   ],
   "source": [
    "history = agent.fit(env, \n",
    "                  nb_steps=2e6, \n",
    "                  visualize=False, \n",
    "                  verbose=0,\n",
    "                  callbacks=[\n",
    "                      TrainIntervalLoggerTQDMNotebook(),\n",
    "                      TrainEpisodeLoggerPortfolio(10),\n",
    "                      ModelIntervalCheckpoint(save_path, 10*1440, 1)\n",
    "                    ]\n",
    "                 )\n",
    "\n",
    "# After training is done, we save the final weights.\n",
    "agent.save_weights(save_path, overwrite=True)"
   ]
  },
  {
   "cell_type": "code",
   "execution_count": null,
   "metadata": {
    "ExecuteTime": {
     "start_time": "2017-07-17T00:08:54.105Z"
    },
    "collapsed": true
   },
   "outputs": [],
   "source": []
  },
  {
   "cell_type": "code",
   "execution_count": 31,
   "metadata": {
    "ExecuteTime": {
     "end_time": "2017-07-22T03:53:20.259190Z",
     "start_time": "2017-07-22T11:53:19.888141+08:00"
    }
   },
   "outputs": [],
   "source": [
    "agent.save_weights('outputs/agent_portfolio-ddpg-keras/agent_{}_weights.h5f'.format('portfolio-ddpg-keras-rl'), overwrite=True)"
   ]
  },
  {
   "cell_type": "markdown",
   "metadata": {},
   "source": [
    "# Test"
   ]
  },
  {
   "cell_type": "code",
   "execution_count": null,
   "metadata": {
    "ExecuteTime": {
     "end_time": "2017-07-22T03:58:21.062800Z",
     "start_time": "2017-07-22T11:58:21.017919+08:00"
    },
    "collapsed": true
   },
   "outputs": [],
   "source": []
  },
  {
   "cell_type": "code",
   "execution_count": 45,
   "metadata": {
    "ExecuteTime": {
     "end_time": "2017-07-22T03:59:29.899909Z",
     "start_time": "2017-07-22T11:58:34.306922+08:00"
    }
   },
   "outputs": [
    {
     "name": "stdout",
     "output_type": "stream",
     "text": [
      "Testing for 1 episodes ...\n",
      "Episode 1: reward: 0.000, steps: 7613\n",
      "APV (Accumulated portfolio value): \t 27.828025\n",
      "SR (Sharpe ratio):                 \t 687.421653\n",
      "MDD (max drawdown):                \t-17.182768%\n",
      "MDR (mean_market_return):          \t 2798.541859%\n",
      "\n"
     ]
    },
    {
     "data": {
      "text/plain": [
       "<matplotlib.legend.Legend at 0x7f12315c8fd0>"
      ]
     },
     "execution_count": 45,
     "metadata": {},
     "output_type": "execute_result"
    },
    {
     "data": {
      "image/png": "[encoded data removed]",
      "text/plain": [
       "<matplotlib.figure.Figure at 0x7f12315c8940>"
      ]
     },
     "metadata": {},
     "output_type": "display_data"
    }
   ],
   "source": [
    "# one big test\n",
    "df_test = pd.read_hdf('./data/poloniex_30m.hf',key='test')\n",
    "steps=len(df_test)-window_length-2\n",
    "env_test = PortfolioEnv(\n",
    "    df=df_test,\n",
    "    steps=steps, \n",
    "    scale=True, \n",
    "    augment=0.00,\n",
    "    trading_cost=0, # let just overfit first\n",
    "    window_length=window_length,\n",
    ")\n",
    "env_test.seed = 0  \n",
    "agent.test(env_test, nb_episodes=1, visualize=False)\n",
    "\n",
    "df = pd.DataFrame(env_test.infos)\n",
    "df.index=df['index']\n",
    "\n",
    "s=sharpe(df.rate_of_return+1)\n",
    "mdd=MDD(df.rate_of_return+1)\n",
    "mean_market_return=df.mean_market_returns.cumprod().iloc[-1]\n",
    "print('APV (Accumulated portfolio value): \\t{: 2.6f}'.format(df.portfolio_value.iloc[-1]))\n",
    "print('SR (Sharpe ratio):                 \\t{: 2.6f}'.format( s))\n",
    "print('MDD (max drawdown):                \\t{: 2.6%}'.format( mdd))\n",
    "print('MDR (mean_market_return):          \\t{: 2.6f}'.format( mean_market_return))\n",
    "print('')\n",
    "\n",
    "# show one run vs average market performance\n",
    "df.portfolio_value.plot()\n",
    "df.mean_market_returns.cumprod().plot(label='mean market performance')\n",
    "plt.legend()"
   ]
  },
  {
   "cell_type": "code",
   "execution_count": 47,
   "metadata": {
    "ExecuteTime": {
     "end_time": "2017-07-22T04:00:11.951167Z",
     "start_time": "2017-07-22T12:00:11.886758+08:00"
    }
   },
   "outputs": [
    {
     "data": {
      "text/plain": [
       "index\n",
       "2017-02-04 08:00:00                       [1.0, 0.0, 0.0, 0.0, 0.0, 0.0]\n",
       "2017-02-04 08:30:00    [0.166613, 0.166793, 0.166595, 0.166476, 0.166...\n",
       "2017-02-04 09:00:00    [0.166613, 0.166793, 0.166595, 0.166476, 0.166...\n",
       "2017-02-04 09:30:00    [0.166613, 0.166793, 0.166595, 0.166476, 0.166...\n",
       "2017-02-04 10:00:00    [0.166613, 0.166793, 0.166595, 0.166476, 0.166...\n",
       "2017-02-04 10:30:00    [0.166613, 0.166793, 0.166595, 0.166476, 0.166...\n",
       "2017-02-04 11:00:00    [0.166613, 0.166793, 0.166595, 0.166476, 0.166...\n",
       "2017-02-04 11:30:00    [0.166613, 0.166793, 0.166595, 0.166476, 0.166...\n",
       "2017-02-04 12:00:00    [0.166613, 0.166793, 0.166595, 0.166476, 0.166...\n",
       "2017-02-04 12:30:00    [0.166613, 0.166793, 0.166595, 0.166476, 0.166...\n",
       "2017-02-04 13:00:00    [0.166613, 0.166793, 0.166595, 0.166476, 0.166...\n",
       "2017-02-04 13:30:00    [0.166613, 0.166793, 0.166595, 0.166476, 0.166...\n",
       "2017-02-04 14:00:00    [0.166613, 0.166793, 0.166595, 0.166476, 0.166...\n",
       "2017-02-04 14:30:00    [0.166613, 0.166793, 0.166595, 0.166476, 0.166...\n",
       "2017-02-04 15:00:00    [0.166613, 0.166793, 0.166595, 0.166476, 0.166...\n",
       "2017-02-04 15:30:00    [0.166613, 0.166793, 0.166595, 0.166476, 0.166...\n",
       "2017-02-04 16:00:00    [0.166613, 0.166793, 0.166595, 0.166476, 0.166...\n",
       "2017-02-04 16:30:00    [0.166613, 0.166793, 0.166595, 0.166476, 0.166...\n",
       "2017-02-04 17:00:00    [0.166613, 0.166793, 0.166595, 0.166476, 0.166...\n",
       "2017-02-04 17:30:00    [0.166613, 0.166793, 0.166595, 0.166476, 0.166...\n",
       "2017-02-04 18:00:00    [0.166613, 0.166793, 0.166595, 0.166476, 0.166...\n",
       "2017-02-04 18:30:00    [0.166613, 0.166793, 0.166595, 0.166476, 0.166...\n",
       "2017-02-04 19:00:00    [0.166613, 0.166793, 0.166595, 0.166476, 0.166...\n",
       "2017-02-04 19:30:00    [0.166613, 0.166793, 0.166595, 0.166476, 0.166...\n",
       "2017-02-04 20:00:00    [0.166613, 0.166793, 0.166595, 0.166476, 0.166...\n",
       "2017-02-04 20:30:00    [0.166613, 0.166793, 0.166595, 0.166476, 0.166...\n",
       "2017-02-04 21:00:00    [0.166613, 0.166793, 0.166595, 0.166476, 0.166...\n",
       "2017-02-04 21:30:00    [0.166613, 0.166793, 0.166595, 0.166476, 0.166...\n",
       "2017-02-04 22:00:00    [0.166613, 0.166793, 0.166595, 0.166476, 0.166...\n",
       "2017-02-04 22:30:00    [0.166613, 0.166793, 0.166595, 0.166476, 0.166...\n",
       "                                             ...                        \n",
       "2017-07-12 08:00:00    [0.166613, 0.166793, 0.166595, 0.166476, 0.166...\n",
       "2017-07-12 08:30:00    [0.166613, 0.166793, 0.166595, 0.166476, 0.166...\n",
       "2017-07-12 09:00:00    [0.166613, 0.166793, 0.166595, 0.166476, 0.166...\n",
       "2017-07-12 09:30:00    [0.166613, 0.166793, 0.166595, 0.166476, 0.166...\n",
       "2017-07-12 10:00:00    [0.166613, 0.166793, 0.166595, 0.166476, 0.166...\n",
       "2017-07-12 10:30:00    [0.166613, 0.166793, 0.166595, 0.166476, 0.166...\n",
       "2017-07-12 11:00:00    [0.166613, 0.166793, 0.166595, 0.166476, 0.166...\n",
       "2017-07-12 11:30:00    [0.166613, 0.166793, 0.166595, 0.166476, 0.166...\n",
       "2017-07-12 12:00:00    [0.166613, 0.166793, 0.166595, 0.166476, 0.166...\n",
       "2017-07-12 12:30:00    [0.166613, 0.166793, 0.166595, 0.166476, 0.166...\n",
       "2017-07-12 13:00:00    [0.166613, 0.166793, 0.166595, 0.166476, 0.166...\n",
       "2017-07-12 13:30:00    [0.166613, 0.166793, 0.166595, 0.166476, 0.166...\n",
       "2017-07-12 14:00:00    [0.166613, 0.166793, 0.166595, 0.166476, 0.166...\n",
       "2017-07-12 14:30:00    [0.166613, 0.166793, 0.166595, 0.166476, 0.166...\n",
       "2017-07-12 15:00:00    [0.166613, 0.166793, 0.166595, 0.166476, 0.166...\n",
       "2017-07-12 15:30:00    [0.166613, 0.166793, 0.166595, 0.166476, 0.166...\n",
       "2017-07-12 16:00:00    [0.166613, 0.166793, 0.166595, 0.166476, 0.166...\n",
       "2017-07-12 16:30:00    [0.166613, 0.166793, 0.166595, 0.166476, 0.166...\n",
       "2017-07-12 17:00:00    [0.166613, 0.166793, 0.166595, 0.166476, 0.166...\n",
       "2017-07-12 17:30:00    [0.166613, 0.166793, 0.166595, 0.166476, 0.166...\n",
       "2017-07-12 18:00:00    [0.166613, 0.166793, 0.166595, 0.166476, 0.166...\n",
       "2017-07-12 18:30:00    [0.166613, 0.166793, 0.166595, 0.166476, 0.166...\n",
       "2017-07-12 19:00:00    [0.166613, 0.166793, 0.166595, 0.166476, 0.166...\n",
       "2017-07-12 19:30:00    [0.166613, 0.166793, 0.166595, 0.166476, 0.166...\n",
       "2017-07-12 20:00:00    [0.166613, 0.166793, 0.166595, 0.166476, 0.166...\n",
       "2017-07-12 20:30:00    [0.166613, 0.166793, 0.166595, 0.166476, 0.166...\n",
       "2017-07-12 21:00:00    [0.166613, 0.166793, 0.166595, 0.166476, 0.166...\n",
       "2017-07-12 21:30:00    [0.166613, 0.166793, 0.166595, 0.166476, 0.166...\n",
       "2017-07-12 22:00:00    [0.166613, 0.166793, 0.166595, 0.166476, 0.166...\n",
       "2017-07-12 22:30:00    [0.166613, 0.166793, 0.166595, 0.166476, 0.166...\n",
       "Name: weights, Length: 7614, dtype: object"
      ]
     },
     "execution_count": 47,
     "metadata": {},
     "output_type": "execute_result"
    }
   ],
   "source": [
    "# The weights appear to be static, so the model hasn't learnt much :(\n",
    "df = pd.DataFrame(env_test.infos)\n",
    "df.index=df['index']\n",
    "df.weights"
   ]
  },
  {
   "cell_type": "code",
   "execution_count": 48,
   "metadata": {
    "ExecuteTime": {
     "end_time": "2017-07-22T04:00:38.853812Z",
     "start_time": "2017-07-22T12:00:35.693506+08:00"
    }
   },
   "outputs": [
    {
     "name": "stdout",
     "output_type": "stream",
     "text": [
      "Testing for 1 episodes ...\n",
      "Episode 1: reward: 0.001, steps: 30\n",
      "APV (Accumulated portfolio value): \t 1.022566\n",
      "SR (Sharpe ratio):                 \t 1338.412318\n",
      "MDD (max drawdown):                \t-1.431222%\n",
      "\n",
      "Testing for 1 episodes ...\n",
      "Episode 1: reward: -0.000, steps: 30\n",
      "APV (Accumulated portfolio value): \t 0.998612\n",
      "SR (Sharpe ratio):                 \t 1486.265133\n",
      "MDD (max drawdown):                \t-0.841634%\n",
      "\n",
      "Testing for 1 episodes ...\n",
      "Episode 1: reward: 0.001, steps: 30\n",
      "APV (Accumulated portfolio value): \t 1.021422\n",
      "SR (Sharpe ratio):                 \t 846.340593\n",
      "MDD (max drawdown):                \t-2.532473%\n",
      "\n",
      "Testing for 1 episodes ...\n",
      "Episode 1: reward: 0.001, steps: 30\n",
      "APV (Accumulated portfolio value): \t 1.031772\n",
      "SR (Sharpe ratio):                 \t 1346.222680\n",
      "MDD (max drawdown):                \t-2.232542%\n",
      "\n",
      "Testing for 1 episodes ...\n",
      "Episode 1: reward: 0.001, steps: 30\n",
      "APV (Accumulated portfolio value): \t 1.020095\n",
      "SR (Sharpe ratio):                 \t 1186.772388\n",
      "MDD (max drawdown):                \t-1.806113%\n",
      "\n",
      "Testing for 1 episodes ...\n",
      "Episode 1: reward: 0.000, steps: 30\n",
      "APV (Accumulated portfolio value): \t 1.005496\n",
      "SR (Sharpe ratio):                 \t 1799.999325\n",
      "MDD (max drawdown):                \t-1.132944%\n",
      "\n",
      "Testing for 1 episodes ...\n",
      "Episode 1: reward: 0.002, steps: 30\n",
      "APV (Accumulated portfolio value): \t 1.064011\n",
      "SR (Sharpe ratio):                 \t 731.235092\n",
      "MDD (max drawdown):                \t-3.207236%\n",
      "\n",
      "Testing for 1 episodes ...\n",
      "Episode 1: reward: 0.001, steps: 30\n",
      "APV (Accumulated portfolio value): \t 1.026627\n",
      "SR (Sharpe ratio):                 \t 1020.265170\n",
      "MDD (max drawdown):                \t-1.122229%\n",
      "\n",
      "Testing for 1 episodes ...\n",
      "Episode 1: reward: 0.001, steps: 30\n",
      "APV (Accumulated portfolio value): \t 1.021451\n",
      "SR (Sharpe ratio):                 \t 2545.496061\n",
      "MDD (max drawdown):                \t-0.860392%\n",
      "\n",
      "Testing for 1 episodes ...\n",
      "Episode 1: reward: -0.001, steps: 30\n",
      "APV (Accumulated portfolio value): \t 0.976392\n",
      "SR (Sharpe ratio):                 \t 1089.003243\n",
      "MDD (max drawdown):                \t-2.371002%\n",
      "\n"
     ]
    },
    {
     "data": {
      "text/plain": [
       "<matplotlib.legend.Legend at 0x7f1232109780>"
      ]
     },
     "execution_count": 48,
     "metadata": {},
     "output_type": "execute_result"
    },
    {
     "data": {
      "image/png": "[encoded data removed]",
      "text/plain": [
       "<matplotlib.figure.Figure at 0x7f1231f52fd0>"
      ]
     },
     "metadata": {},
     "output_type": "display_data"
    }
   ],
   "source": [
    "# Lets evaluate a few 30 step intervals\n",
    "df_test = pd.read_hdf('./data/poloniex_30m.hf',key='test')\n",
    "env_test = PortfolioEnv(\n",
    "    df=df_test,\n",
    "    steps=30, \n",
    "    scale=True, \n",
    "    augment=0.00,\n",
    "    trading_cost=0, # let just overfit first\n",
    "    window_length=window_length,\n",
    ")\n",
    "env_test.seed = 0  \n",
    "\n",
    "for i in range(10):\n",
    "    agent.test(env_test, nb_episodes=1, visualize=False)\n",
    "    df = pd.DataFrame(env_test.infos)\n",
    "    s=sharpe(df.rate_of_return+1)\n",
    "    mdd=MDD(df.rate_of_return+1)\n",
    "    print('APV (Accumulated portfolio value): \\t{: 2.6f}'.format(df.portfolio_value.iloc[-1]))\n",
    "    print('SR (Sharpe ratio):                 \\t{: 2.6f}'.format( s))\n",
    "    print('MDD (max drawdown):                \\t{: 2.6%}'.format( mdd))\n",
    "    print('')\n",
    "    df.portfolio_value.plot(label=str(i))\n",
    "plt.legend()"
   ]
  },
  {
   "cell_type": "code",
   "execution_count": null,
   "metadata": {
    "ExecuteTime": {
     "end_time": "2017-07-19T00:26:16.847387Z",
     "start_time": "2017-07-19T08:26:12.521925+08:00"
    },
    "collapsed": true
   },
   "outputs": [],
   "source": []
  },
  {
   "cell_type": "markdown",
   "metadata": {},
   "source": [
    "# Visualise"
   ]
  },
  {
   "cell_type": "code",
   "execution_count": 30,
   "metadata": {
    "ExecuteTime": {
     "end_time": "2017-07-21T06:26:38.467490Z",
     "start_time": "2017-07-21T14:26:38.428113+08:00"
    }
   },
   "outputs": [
    {
     "ename": "NameError",
     "evalue": "name 'history' is not defined",
     "output_type": "error",
     "traceback": [
      "\u001b[0;31m---------------------------------------------------------------------------\u001b[0m",
      "\u001b[0;31mNameError\u001b[0m                                 Traceback (most recent call last)",
      "\u001b[0;32m<ipython-input-30-646ed2c5de5d>\u001b[0m in \u001b[0;36m<module>\u001b[0;34m()\u001b[0m\n\u001b[1;32m      1\u001b[0m \u001b[0;31m# history\u001b[0m\u001b[0;34m\u001b[0m\u001b[0;34m\u001b[0m\u001b[0m\n\u001b[0;32m----> 2\u001b[0;31m \u001b[0mdf_hist\u001b[0m \u001b[0;34m=\u001b[0m \u001b[0mpd\u001b[0m\u001b[0;34m.\u001b[0m\u001b[0mDataFrame\u001b[0m\u001b[0;34m(\u001b[0m\u001b[0mhistory\u001b[0m\u001b[0;34m.\u001b[0m\u001b[0mhistory\u001b[0m\u001b[0;34m)\u001b[0m\u001b[0;34m\u001b[0m\u001b[0m\n\u001b[0m\u001b[1;32m      3\u001b[0m \u001b[0mdf_hist\u001b[0m\u001b[0;34m\u001b[0m\u001b[0m\n\u001b[1;32m      4\u001b[0m \u001b[0mdf_hist\u001b[0m\u001b[0;34m[\u001b[0m\u001b[0;34m'episodes'\u001b[0m\u001b[0;34m]\u001b[0m \u001b[0;34m=\u001b[0m \u001b[0mdf_hist\u001b[0m\u001b[0;34m.\u001b[0m\u001b[0mindex\u001b[0m\u001b[0;34m\u001b[0m\u001b[0m\n\u001b[1;32m      5\u001b[0m \u001b[0;34m\u001b[0m\u001b[0m\n",
      "\u001b[0;31mNameError\u001b[0m: name 'history' is not defined"
     ]
    }
   ],
   "source": [
    "# history\n",
    "df_hist = pd.DataFrame(history.history)\n",
    "df_hist\n",
    "df_hist['episodes'] = df_hist.index\n",
    "\n",
    "g = sns.jointplot(x=\"episodes\", y=\"episode_reward\", data=df_hist, kind=\"reg\", size=10)\n",
    "plt.show()\n",
    "\n",
    "# g = sns.jointplot(x=\"episodes\", y=\"rewards\", data=history, kind=\"reg\")"
   ]
  },
  {
   "cell_type": "markdown",
   "metadata": {
    "ExecuteTime": {
     "end_time": "2017-07-01T03:02:19.820742Z",
     "start_time": "2017-07-01T11:02:19.740692+08:00"
    }
   },
   "source": [
    "# dummy metrics\n",
    "\n",
    "TODO"
   ]
  },
  {
   "cell_type": "code",
   "execution_count": null,
   "metadata": {
    "collapsed": true
   },
   "outputs": [],
   "source": []
  }
 ],
 "metadata": {
  "kernelspec": {
   "display_name": "jupyter3",
   "language": "python",
   "name": "jupyter3"
  },
  "language_info": {
   "codemirror_mode": {
    "name": "ipython",
    "version": 3
   },
   "file_extension": ".py",
   "mimetype": "text/x-python",
   "name": "python",
   "nbconvert_exporter": "python",
   "pygments_lexer": "ipython3",
   "version": "3.6.0"
  }
 },
 "nbformat": 4,
 "nbformat_minor": 2
}
