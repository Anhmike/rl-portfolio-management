{
 "cells": [
  {
   "cell_type": "code",
   "execution_count": 1,
   "metadata": {
    "ExecuteTime": {
     "end_time": "2017-07-23T06:09:38.432291Z",
     "start_time": "2017-07-23T14:09:37.784671+08:00"
    }
   },
   "outputs": [
    {
     "name": "stderr",
     "output_type": "stream",
     "text": [
      "INFO:__main__:__main__ logger started.\n"
     ]
    }
   ],
   "source": [
    "# plotting\n",
    "%matplotlib inline\n",
    "from matplotlib import pyplot as plt\n",
    "import seaborn as sns\n",
    "plt.style.use('ggplot')\n",
    "\n",
    "# numeric\n",
    "import numpy as np\n",
    "from numpy import random\n",
    "import pandas as pd\n",
    "\n",
    "# utils\n",
    "from tqdm import tqdm_notebook as tqdm\n",
    "from collections import Counter\n",
    "import tempfile\n",
    "import logging\n",
    "import time\n",
    "import datetime\n",
    "\n",
    "# logging\n",
    "logger = log = logging.getLogger(__name__)\n",
    "log.setLevel(logging.INFO)\n",
    "logging.basicConfig()\n",
    "log.info('%s logger started.', __name__)"
   ]
  },
  {
   "cell_type": "code",
   "execution_count": 2,
   "metadata": {
    "ExecuteTime": {
     "end_time": "2017-07-23T06:09:54.958396Z",
     "start_time": "2017-07-23T14:09:38.433930+08:00"
    }
   },
   "outputs": [
    {
     "name": "stderr",
     "output_type": "stream",
     "text": [
      "Using TensorFlow backend.\n"
     ]
    }
   ],
   "source": [
    "# reinforcement learning\n",
    "import gym\n",
    "from gym import error, spaces, utils\n",
    "from gym.utils import seeding\n",
    "\n",
    "from keras.models import Sequential\n",
    "from keras.layers import Flatten, Dense, Activation, BatchNormalization\n",
    "from keras.optimizers import Adam\n",
    "from keras.layers.advanced_activations import LeakyReLU\n",
    "from keras.models import Sequential\n",
    "from keras.layers import Flatten, Dense, Activation, BatchNormalization, Conv1D, InputLayer, Dropout, regularizers, Conv2D, Reshape\n",
    "from keras.optimizers import Adam\n",
    "from keras.layers.advanced_activations import LeakyReLU\n",
    "from keras.activations import relu"
   ]
  },
  {
   "cell_type": "code",
   "execution_count": 3,
   "metadata": {
    "ExecuteTime": {
     "end_time": "2017-07-23T06:09:54.990899Z",
     "start_time": "2017-07-23T14:09:54.960526+08:00"
    },
    "collapsed": true
   },
   "outputs": [],
   "source": [
    "import os\n",
    "os.sys.path.append(os.path.abspath('.'))\n",
    "%reload_ext autoreload\n",
    "%autoreload 2"
   ]
  },
  {
   "cell_type": "code",
   "execution_count": 4,
   "metadata": {
    "ExecuteTime": {
     "end_time": "2017-07-23T06:09:55.020046Z",
     "start_time": "2017-07-23T14:09:54.993182+08:00"
    }
   },
   "outputs": [
    {
     "data": {
      "text/plain": [
       "'outputs/agent_portfolio-ddpg-keras/2017-07-21__weights.h5f'"
      ]
     },
     "execution_count": 4,
     "metadata": {},
     "output_type": "execute_result"
    }
   ],
   "source": [
    "window_length = 50\n",
    "batch_size=250\n",
    "save_path= 'outputs/agent_portfolio-ddpg-keras/{}_weights.h5f'.format('2017-07-21_')\n",
    "save_path"
   ]
  },
  {
   "cell_type": "markdown",
   "metadata": {},
   "source": [
    "# Environment\n",
    "\n",
    "You can see the base environment class [here](https://github.com/openai/gym/blob/master/gym/core.py#L13) and openai's nice docs [here](https://gym.openai.com/docs). My environment is in `src/environments/portfolio.py` and the PortfolioEnvironment load a datasource and simulation subclass.\n"
   ]
  },
  {
   "cell_type": "code",
   "execution_count": 5,
   "metadata": {
    "ExecuteTime": {
     "end_time": "2017-07-23T06:09:55.050521Z",
     "start_time": "2017-07-23T14:09:55.021418+08:00"
    },
    "collapsed": true
   },
   "outputs": [],
   "source": [
    "from src.environments.portfolio import PortfolioEnv"
   ]
  },
  {
   "cell_type": "code",
   "execution_count": 6,
   "metadata": {
    "ExecuteTime": {
     "end_time": "2017-07-23T06:09:55.223396Z",
     "start_time": "2017-07-23T14:09:55.052342+08:00"
    },
    "collapsed": true
   },
   "outputs": [],
   "source": [
    "df_train = pd.read_hdf('./data/poloniex_30m.hf',key='train')\n",
    "env = PortfolioEnv(\n",
    "    df=df_train,\n",
    "    steps=1440, \n",
    "    scale=True, \n",
    "    augment=0.0000, # let just overfit first,\n",
    "    trading_cost=0, # let just overfit first,\n",
    "    window_length = window_length,\n",
    "    \n",
    ")\n",
    "env.seed = 0   \n",
    "\n",
    "df_test = pd.read_hdf('./data/poloniex_30m.hf',key='test')\n",
    "env_test = PortfolioEnv(\n",
    "    df=df_test,\n",
    "    steps=1440, \n",
    "    scale=True, \n",
    "    augment=0.00,\n",
    "    trading_cost=0, # let just overfit first\n",
    "    window_length=window_length,\n",
    ")\n",
    "env_test.seed = 0  "
   ]
  },
  {
   "cell_type": "markdown",
   "metadata": {
    "ExecuteTime": {
     "end_time": "2017-07-04T01:42:37.345932Z",
     "start_time": "2017-07-04T09:42:37.328860+08:00"
    },
    "collapsed": true
   },
   "source": [
    "# Model\n",
    "\n",
    "arXiv:1612.01277 indicated that CNN's are just as effective. That's great because I like them, they are fast so I can try more things and see the results faster. So we will be using a CNN model.\n"
   ]
  },
  {
   "cell_type": "code",
   "execution_count": 7,
   "metadata": {
    "ExecuteTime": {
     "end_time": "2017-07-23T06:09:55.628200Z",
     "start_time": "2017-07-23T14:09:55.225321+08:00"
    },
    "scrolled": true
   },
   "outputs": [
    {
     "name": "stdout",
     "output_type": "stream",
     "text": [
      "_________________________________________________________________\n",
      "Layer (type)                 Output Shape              Param #   \n",
      "=================================================================\n",
      "input_1 (InputLayer)         (None, 1, 5, 50, 3)       0         \n",
      "_________________________________________________________________\n",
      "reshape_1 (Reshape)          (None, 5, 50, 3)          0         \n",
      "_________________________________________________________________\n",
      "conv2d_1 (Conv2D)            (None, 5, 48, 2)          20        \n",
      "_________________________________________________________________\n",
      "batch_normalization_1 (Batch (None, 5, 48, 2)          8         \n",
      "_________________________________________________________________\n",
      "conv2d_2 (Conv2D)            (None, 5, 1, 20)          1940      \n",
      "_________________________________________________________________\n",
      "batch_normalization_2 (Batch (None, 5, 1, 20)          80        \n",
      "_________________________________________________________________\n",
      "conv2d_3 (Conv2D)            (None, 5, 1, 1)           21        \n",
      "_________________________________________________________________\n",
      "batch_normalization_3 (Batch (None, 5, 1, 1)           4         \n",
      "_________________________________________________________________\n",
      "flatten_1 (Flatten)          (None, 5)                 0         \n",
      "_________________________________________________________________\n",
      "dense_1 (Dense)              (None, 6)                 36        \n",
      "_________________________________________________________________\n",
      "activation_1 (Activation)    (None, 6)                 0         \n",
      "=================================================================\n",
      "Total params: 2,109\n",
      "Trainable params: 2,063\n",
      "Non-trainable params: 46\n",
      "_________________________________________________________________\n",
      "None\n",
      "____________________________________________________________________________________________________\n",
      "Layer (type)                     Output Shape          Param #     Connected to                     \n",
      "====================================================================================================\n",
      "observation_input (InputLayer)   (None, 1, 5, 50, 3)   0                                            \n",
      "____________________________________________________________________________________________________\n",
      "reshape_2 (Reshape)              (None, 5, 50, 3)      0           observation_input[0][0]          \n",
      "____________________________________________________________________________________________________\n",
      "conv2d_4 (Conv2D)                (None, 5, 48, 2)      20          reshape_2[0][0]                  \n",
      "____________________________________________________________________________________________________\n",
      "batch_normalization_4 (BatchNorm (None, 5, 48, 2)      8           conv2d_4[0][0]                   \n",
      "____________________________________________________________________________________________________\n",
      "conv2d_5 (Conv2D)                (None, 5, 1, 20)      1940        batch_normalization_4[0][0]      \n",
      "____________________________________________________________________________________________________\n",
      "batch_normalization_5 (BatchNorm (None, 5, 1, 20)      80          conv2d_5[0][0]                   \n",
      "____________________________________________________________________________________________________\n",
      "action_input (InputLayer)        (None, 6)             0                                            \n",
      "____________________________________________________________________________________________________\n",
      "flatten_2 (Flatten)              (None, 100)           0           batch_normalization_5[0][0]      \n",
      "____________________________________________________________________________________________________\n",
      "concatenate_1 (Concatenate)      (None, 106)           0           action_input[0][0]               \n",
      "                                                                   flatten_2[0][0]                  \n",
      "____________________________________________________________________________________________________\n",
      "dense_2 (Dense)                  (None, 64)            6848        concatenate_1[0][0]              \n",
      "____________________________________________________________________________________________________\n",
      "activation_2 (Activation)        (None, 64)            0           dense_2[0][0]                    \n",
      "____________________________________________________________________________________________________\n",
      "batch_normalization_6 (BatchNorm (None, 64)            256         activation_2[0][0]               \n",
      "____________________________________________________________________________________________________\n",
      "dense_3 (Dense)                  (None, 32)            2080        batch_normalization_6[0][0]      \n",
      "____________________________________________________________________________________________________\n",
      "activation_3 (Activation)        (None, 32)            0           dense_3[0][0]                    \n",
      "____________________________________________________________________________________________________\n",
      "batch_normalization_7 (BatchNorm (None, 32)            128         activation_3[0][0]               \n",
      "____________________________________________________________________________________________________\n",
      "dense_4 (Dense)                  (None, 16)            528         batch_normalization_7[0][0]      \n",
      "____________________________________________________________________________________________________\n",
      "activation_4 (Activation)        (None, 16)            0           dense_4[0][0]                    \n",
      "____________________________________________________________________________________________________\n",
      "batch_normalization_8 (BatchNorm (None, 16)            64          activation_4[0][0]               \n",
      "____________________________________________________________________________________________________\n",
      "dense_5 (Dense)                  (None, 1)             17          batch_normalization_8[0][0]      \n",
      "____________________________________________________________________________________________________\n",
      "activation_5 (Activation)        (None, 1)             0           dense_5[0][0]                    \n",
      "====================================================================================================\n",
      "Total params: 11,969\n",
      "Trainable params: 11,701\n",
      "Non-trainable params: 268\n",
      "____________________________________________________________________________________________________\n",
      "None\n"
     ]
    }
   ],
   "source": [
    "from keras.layers import Input, merge, Reshape\n",
    "from keras.layers import concatenate, Conv2D\n",
    "from keras.regularizers import l2, l1_l2\n",
    "from keras.models import Model\n",
    "\n",
    "window_length=50\n",
    "nb_actions=env.action_space.shape[0]\n",
    "reg=1e-8\n",
    "\n",
    "# Simple CNN actor model\n",
    "actor = Sequential()\n",
    "actor.add(InputLayer(input_shape=(1,)+env.observation_space.shape))\n",
    "actor.add(Reshape(env.observation_space.shape))\n",
    "actor.add(Conv2D(\n",
    "    filters=2,\n",
    "    kernel_size=(1,3),\n",
    "    kernel_regularizer=l2(reg),\n",
    "    activation='elu'\n",
    "))\n",
    "actor.add(BatchNormalization()) # lets add batch norm to decrease training time\n",
    "\n",
    "actor.add(Conv2D(\n",
    "    filters=20,\n",
    "    kernel_size=(1,window_length-2),\n",
    "    kernel_regularizer=l2(reg),\n",
    "    activation='elu'\n",
    "))\n",
    "actor.add(BatchNormalization())\n",
    "\n",
    "actor.add(Conv2D(\n",
    "    filters=1,\n",
    "    kernel_size=(1,1),\n",
    "    kernel_regularizer=l2(reg),\n",
    "    activation='elu'\n",
    "))\n",
    "actor.add(BatchNormalization())\n",
    "\n",
    "actor.add(Flatten())\n",
    "actor.add(Dense(\n",
    "    nb_actions, \n",
    "    kernel_regularizer=l2(reg)\n",
    ")) # this adds cash bias\n",
    "actor.add(Activation('softmax'))\n",
    "print(actor.summary())\n",
    "\n",
    "# Lets have nice flexible critic so it can approximate the Q-function\n",
    "action_input = Input(shape=(nb_actions,), name='action_input')\n",
    "\n",
    "observation_input = Input(shape=(1,)+env.observation_space.shape, name='observation_input')\n",
    "y = Reshape(env.observation_space.shape)(observation_input)\n",
    "\n",
    "y = Conv2D(\n",
    "    filters=2,\n",
    "    kernel_size=(1,3),\n",
    "    kernel_regularizer=l2(reg),\n",
    "    activation='elu'\n",
    ")(y)\n",
    "y = BatchNormalization()(y) # lets add batch norm to decrease training time\n",
    "\n",
    "y = Conv2D(\n",
    "    filters=20,\n",
    "    kernel_size=(1,window_length-2),\n",
    "    kernel_regularizer=l2(reg),\n",
    "    activation='elu'\n",
    ")(y)\n",
    "y = BatchNormalization()(y)\n",
    "\n",
    "y = Flatten()(y)\n",
    "\n",
    "x = concatenate([action_input, y])\n",
    "x = Dense(64)(x)\n",
    "x = Activation('elu')(x)\n",
    "x = BatchNormalization()(x)\n",
    "\n",
    "x = Dense(32)(x)\n",
    "x = Activation('elu')(x)\n",
    "x = BatchNormalization()(x)\n",
    "\n",
    "x = Dense(16)(x)\n",
    "x = Activation('elu')(x)\n",
    "x = BatchNormalization()(x)\n",
    "\n",
    "x = Dense(1)(x)\n",
    "x = Activation('linear')(x)\n",
    "critic = Model(inputs=[action_input, observation_input], outputs=x)\n",
    "print(critic.summary())"
   ]
  },
  {
   "cell_type": "markdown",
   "metadata": {},
   "source": [
    "# Agent"
   ]
  },
  {
   "cell_type": "code",
   "execution_count": 8,
   "metadata": {
    "ExecuteTime": {
     "end_time": "2017-07-23T06:09:55.660715Z",
     "start_time": "2017-07-23T14:09:55.630064+08:00"
    },
    "collapsed": true
   },
   "outputs": [],
   "source": [
    "# # prioritised experience memory, lets make the tensorforce one work for keras-rl\n",
    "# # https://github.com/matthiasplappert/keras-rl/blob/master/rl/memory.py#L115\n",
    "# # https://github.com/reinforceio/tensorforce/blob/master/tensorforce/core/memories/prioritized_replay.py\n",
    "# from tensorforce.core.memories import PrioritizedReplay\n",
    "# from collections import namedtuple\n",
    "# Experience = namedtuple('Experience',\n",
    "#                         'state0, action, reward, state1, terminal1')\n",
    "\n",
    "\n",
    "# class KRLPrioritizedReplay(PrioritizedReplay):\n",
    "#     def get_recent_state(self, current_observation):\n",
    "#         return current_observation\n",
    "\n",
    "#     def sample(self, batch_size, batch_idxs=None):\n",
    "#         tensorforce_batch = super().get_batch(batch_size)\n",
    "#         experiences = []\n",
    "#         # now convert dict(states=states, actions=actions, rewards=rewards, terminals=terminals, internals=internals)\n",
    "#         # into Experience = namedtuple('Experience', 'state0, action, reward, state1, terminal1')\n",
    "#         for i in range(len(tensorforce_batch['states'])-1):\n",
    "#             experiences.append(\n",
    "#                 Experience(\n",
    "#                     state0=tensorforce_batch['states'][i],\n",
    "#                     action=tensorforce_batch['action'][i],\n",
    "#                     reward=tensorforce_batch['reward'][i],\n",
    "#                     state1=tensorforce_batch['states'][i+1],\n",
    "#                     terminal1=tensorforce_batch['terminals'][i+1],\n",
    "#                 ))\n",
    "#         return experiences\n",
    "\n",
    "#     def append(self, observation, action, reward, terminal, training=True):\n",
    "#         \"\"\"Backwards: Store most recent experience in memory.\"\"\"\n",
    "#         actions = dict([(name, action[i]) for i, name in enumerate(self.action_spec.keys())])\n",
    "#         states = dict([(name, state[i]) for i, name in enumerate(self.state_spec.keys())])\n",
    "#         return super().add_observation(\n",
    "#             state=states,\n",
    "#             action=actions,\n",
    "#             reward=reward,\n",
    "#             terminal=terminal,\n",
    "#             internal=[])\n",
    "\n",
    "#     @property\n",
    "#     def nb_entries(self):\n",
    "#         return len(self.observations)\n",
    "\n",
    "#     def get_config(self):\n",
    "#         config = {\n",
    "#             'window_length': self.window_length,\n",
    "#             'ignore_episode_boundaries': self.ignore_episode_boundaries,\n",
    "#             'limit': self.limit\n",
    "#         }\n",
    "#         return config\n",
    "    \n",
    "    \n",
    "# # test\n",
    "# from tensorforce.config import Configuration\n",
    "# # Configuration.from_json\n",
    "# states={\n",
    "#     'state':dict(shape=tuple(env.observation_space.shape), type='float'),\n",
    "# }\n",
    "# actions={'action' + str(n): dict(continuous=True) for n in range(env.action_space.shape[0])}\n",
    "# config = Configuration(\n",
    "#     states=states,\n",
    "#     actions=actions,\n",
    "# )\n",
    "\n",
    "# from rl.memory import SequentialMemory\n",
    "# memory0 = SequentialMemory(limit=10000, window_length=1)\n",
    "# memory1 = KRLPrioritizedReplay(\n",
    "#     capacity=10000,\n",
    "#     states_config=config.states,\n",
    "#     actions_config=config.actions,\n",
    "#     prioritization_weight=1.0\n",
    "# )\n",
    "\n",
    "\n",
    "# observation = np.zeros(states['state']['shape'])\n",
    "# action = [0.5 for i in actions]\n",
    "# reward=0.5\n",
    "# terminal=False\n",
    "\n",
    "# for _ in range(10):\n",
    "#     memory0.append(observation, action, reward, terminal, training=True)\n",
    "#     state0 = memory0.get_recent_state(observation)\n",
    "# sample0 = memory0.sample(1)\n",
    "\n",
    "\n",
    "# for _ in range(10):\n",
    "#     memory1.append(observation, action, reward, terminal, training=True)\n",
    "#     state1 = memory1.get_recent_state(observation)\n",
    "# sample1 = memory1.sample(1)\n",
    "\n",
    "# assert sample0==sample1\n",
    "\n",
    "\n",
    "# TODO make batch return state1 https://github.com/matthiasplappert/keras-rl/blob/master/rl/memory.py#L153"
   ]
  },
  {
   "cell_type": "code",
   "execution_count": null,
   "metadata": {
    "collapsed": true
   },
   "outputs": [],
   "source": []
  },
  {
   "cell_type": "code",
   "execution_count": null,
   "metadata": {
    "collapsed": true
   },
   "outputs": [],
   "source": []
  },
  {
   "cell_type": "code",
   "execution_count": 9,
   "metadata": {
    "ExecuteTime": {
     "end_time": "2017-07-23T06:09:57.619763Z",
     "start_time": "2017-07-23T14:09:55.662424+08:00"
    }
   },
   "outputs": [
    {
     "data": {
      "text/plain": [
       "<rl.agents.ddpg.DDPGAgent at 0x7f4e8263bf28>"
      ]
     },
     "execution_count": 9,
     "metadata": {},
     "output_type": "execute_result"
    }
   ],
   "source": [
    "from rl.agents.ddpg import DDPGAgent\n",
    "from rl.policy import BoltzmannQPolicy, EpsGreedyQPolicy, LinearAnnealedPolicy\n",
    "from rl.memory import SequentialMemory\n",
    "from rl.random import OrnsteinUhlenbeckProcess\n",
    "\n",
    "# We configure and compile our agent.\n",
    "\n",
    "# We are providing the last 50 steps so we don't need memory, use window_lenght=1 as placeholder\n",
    "memory = SequentialMemory(limit=100000, window_length=1)\n",
    "\n",
    "random_process = OrnsteinUhlenbeckProcess(\n",
    "    size=nb_actions, theta=.15, mu=0., sigma=.1)\n",
    "\n",
    "agent = DDPGAgent(\n",
    "    nb_actions=nb_actions,\n",
    "    actor=actor,\n",
    "    critic=critic,\n",
    "    critic_action_input=action_input,\n",
    "    random_process=random_process,\n",
    "    memory=memory,\n",
    "    batch_size=batch_size,\n",
    "    nb_steps_warmup_critic=150,\n",
    "    nb_steps_warmup_actor=150,    \n",
    "    gamma=.00, # discounted factor of zero as per paper\n",
    "    target_model_update=1e-3\n",
    ")\n",
    "\n",
    "# agent.compile(Adam(lr=3e-5), metrics=['mse'])\n",
    "# agent.compile(Adam(lr=1e-3), metrics=['mse'])\n",
    "agent.compile(Adam(lr=.001, clipnorm=1.), metrics=['mae'])\n",
    "agent"
   ]
  },
  {
   "cell_type": "code",
   "execution_count": null,
   "metadata": {
    "ExecuteTime": {
     "end_time": "2017-07-23T06:06:00.585378Z",
     "start_time": "2017-07-23T14:06:00.562162+08:00"
    },
    "collapsed": true
   },
   "outputs": [],
   "source": []
  },
  {
   "cell_type": "markdown",
   "metadata": {},
   "source": [
    "# Train"
   ]
  },
  {
   "cell_type": "code",
   "execution_count": 10,
   "metadata": {
    "ExecuteTime": {
     "end_time": "2017-07-23T06:09:57.647349Z",
     "start_time": "2017-07-23T14:09:57.621300+08:00"
    },
    "collapsed": true
   },
   "outputs": [],
   "source": [
    "from src.callbacks.keras_rl_callbacks import TrainIntervalLoggerTQDMNotebook"
   ]
  },
  {
   "cell_type": "code",
   "execution_count": 11,
   "metadata": {
    "ExecuteTime": {
     "end_time": "2017-07-23T06:09:57.675197Z",
     "start_time": "2017-07-23T14:09:57.649151+08:00"
    },
    "collapsed": true
   },
   "outputs": [],
   "source": [
    "def sharpe(returns, freq=30, rfr=0):\n",
    "    \"\"\"Given a set of returns, calculates naive (rfr=0) sharpe (eq 28) \"\"\"\n",
    "    return (np.sqrt(freq) * np.mean(returns-rfr)) / np.std(returns - rfr)\n",
    "\n",
    "\n",
    "def MDD(returns):\n",
    "    \"\"\"Max drawdown.\"\"\"\n",
    "    peak = returns.max()\n",
    "    i = returns.argmax()\n",
    "    trough = returns[returns.argmax():].min()\n",
    "    return (trough-peak)/trough "
   ]
  },
  {
   "cell_type": "code",
   "execution_count": 12,
   "metadata": {
    "ExecuteTime": {
     "end_time": "2017-07-23T06:09:57.719372Z",
     "start_time": "2017-07-23T14:09:57.676651+08:00"
    },
    "collapsed": true
   },
   "outputs": [],
   "source": [
    "# # https://github.com/matthiasplappert/keras-rl/blob/master/rl/callbacks.py#L104\n",
    "from rl.callbacks import TrainEpisodeLogger\n",
    "class TrainEpisodeLoggerPortfolio(TrainEpisodeLogger):\n",
    "    \"\"\"Print custom stats every <log_intv> episode.\"\"\"\n",
    "    def __init__(self, log_intv):\n",
    "        super().__init__()\n",
    "        self.log_intv=log_intv\n",
    "        self.episode_metrics={} # custom metrics\n",
    "    def on_episode_end(self, episode, logs):\n",
    "        \n",
    "        # save custom metrics\n",
    "        df = pd.DataFrame(self.env.infos)\n",
    "        self.episode_metrics[episode]=dict(\n",
    "            max_drawdown=MDD(df.portfolio_value), \n",
    "            sharpe=sharpe(df.rate_of_return), \n",
    "            accumulated_portfolio_value=df.portfolio_value.iloc[-1],\n",
    "            mean_market_return=df.mean_market_returns.cumprod().iloc[-1],\n",
    "            cash_bias=df.weights.apply(lambda x:x[0]).mean()\n",
    "        )\n",
    "        \n",
    "        if episode%self.log_intv==0:\n",
    "            # print normal metrics\n",
    "            super().on_episode_end(episode, logs)\n",
    "            \n",
    "            # print custom metrics for last N episodes\n",
    "            df = pd.DataFrame(self.episode_metrics).T[-self.log_intv:]          \n",
    "            for col in df.columns:\n",
    "                print('{name:25.25s}: {mean: 10.6f} [{min: 10.6f}, {max: 10.6f}]'.format(\n",
    "                    name=df[col].name, \n",
    "                    min=df[col].min(), \n",
    "                    mean=df[col].mean(), \n",
    "                    max=df[col].max(), \n",
    "                ))\n",
    "            print('')           \n",
    "        "
   ]
  },
  {
   "cell_type": "code",
   "execution_count": 13,
   "metadata": {
    "ExecuteTime": {
     "end_time": "2017-07-23T06:09:57.743581Z",
     "start_time": "2017-07-23T14:09:57.720934+08:00"
    },
    "collapsed": true
   },
   "outputs": [],
   "source": [
    "from rl.callbacks import ModelIntervalCheckpoint\n"
   ]
  },
  {
   "cell_type": "code",
   "execution_count": 14,
   "metadata": {
    "ExecuteTime": {
     "end_time": "2017-07-23T06:09:58.248540Z",
     "start_time": "2017-07-23T14:09:57.745131+08:00"
    },
    "collapsed": true
   },
   "outputs": [],
   "source": [
    "agent.load_weights(save_path)"
   ]
  },
  {
   "cell_type": "code",
   "execution_count": null,
   "metadata": {
    "ExecuteTime": {
     "end_time": "2017-07-23T06:52:21.893146Z",
     "start_time": "2017-07-23T14:09:58.251708+08:00"
    },
    "scrolled": true
   },
   "outputs": [],
   "source": [
    "history = agent.fit(env, \n",
    "                  nb_steps=2e6, \n",
    "                  visualize=False, \n",
    "                  verbose=0,\n",
    "                  callbacks=[\n",
    "                      TrainIntervalLoggerTQDMNotebook(),\n",
    "                      TrainEpisodeLoggerPortfolio(10),\n",
    "                      ModelIntervalCheckpoint(save_path, 10*1440, 1)\n",
    "                    ]\n",
    "                 )\n",
    "\n",
    "# After training is done, we save the final weights.\n",
    "agent.save_weights(save_path, overwrite=True)"
   ]
  },
  {
   "cell_type": "code",
   "execution_count": null,
   "metadata": {
    "ExecuteTime": {
     "start_time": "2017-07-17T00:08:54.105Z"
    },
    "collapsed": true
   },
   "outputs": [],
   "source": []
  },
  {
   "cell_type": "code",
   "execution_count": null,
   "metadata": {
    "ExecuteTime": {
     "end_time": "2017-07-23T06:52:22.264835Z",
     "start_time": "2017-07-23T14:52:21.895982+08:00"
    },
    "collapsed": true
   },
   "outputs": [],
   "source": [
    "agent.save_weights('outputs/agent_portfolio-ddpg-keras/agent_{}_weights.h5f'.format('portfolio-ddpg-keras-rl'), overwrite=True)"
   ]
  },
  {
   "cell_type": "markdown",
   "metadata": {},
   "source": [
    "# Test"
   ]
  },
  {
   "cell_type": "code",
   "execution_count": 15,
   "metadata": {
    "ExecuteTime": {
     "start_time": "2017-07-23T06:09:37.798Z"
    }
   },
   "outputs": [
    {
     "data": {
      "text/plain": [
       "<module 'tensorforce' from '/media/oldhome/wassname/Documents/projects/tensorforce/tensorforce/__init__.py'>"
      ]
     },
     "execution_count": 15,
     "metadata": {},
     "output_type": "execute_result"
    }
   ],
   "source": [
    "import tensorforce\n",
    "tensorforce"
   ]
  },
  {
   "cell_type": "code",
   "execution_count": 16,
   "metadata": {
    "ExecuteTime": {
     "start_time": "2017-07-23T06:09:37.800Z"
    }
   },
   "outputs": [
    {
     "name": "stdout",
     "output_type": "stream",
     "text": [
      "Testing for 1 episodes ...\n",
      "Episode 1: reward: 0.001, steps: 7613\n",
      "APV (Accumulated portfolio value): \t 92.828116\n",
      "SR (Sharpe ratio):                 \t 319.907740\n",
      "MDD (max drawdown):                \t-44.889138%\n",
      "MDR (mean_market_return):          \t 27.985419\n",
      "\n"
     ]
    },
    {
     "data": {
      "text/plain": [
       "<matplotlib.legend.Legend at 0x7f4e85190080>"
      ]
     },
     "execution_count": 16,
     "metadata": {},
     "output_type": "execute_result"
    },
    {
     "data": {
      "image/png": "[encoded data removed]",
      "text/plain": [
       "<matplotlib.figure.Figure at 0x7f4e73c1ee10>"
      ]
     },
     "metadata": {},
     "output_type": "display_data"
    }
   ],
   "source": [
    "# one big test\n",
    "df_test = pd.read_hdf('./data/poloniex_30m.hf',key='test')\n",
    "steps=len(df_test)-window_length-2\n",
    "env_test = PortfolioEnv(\n",
    "    df=df_test,\n",
    "    steps=steps, \n",
    "    scale=True, \n",
    "    augment=0.00,\n",
    "    trading_cost=0, # let just overfit first\n",
    "    window_length=window_length,\n",
    ")\n",
    "env_test.seed = 0  \n",
    "agent.test(env_test, nb_episodes=1, visualize=False)\n",
    "\n",
    "df = pd.DataFrame(env_test.infos)\n",
    "df.index=df['index']\n",
    "\n",
    "s=sharpe(df.rate_of_return+1)\n",
    "mdd=MDD(df.rate_of_return+1)\n",
    "mean_market_return=df.mean_market_returns.cumprod().iloc[-1]\n",
    "print('APV (Accumulated portfolio value): \\t{: 2.6f}'.format(df.portfolio_value.iloc[-1]))\n",
    "print('SR (Sharpe ratio):                 \\t{: 2.6f}'.format( s))\n",
    "print('MDD (max drawdown):                \\t{: 2.6%}'.format( mdd))\n",
    "print('MDR (mean_market_return):          \\t{: 2.6f}'.format( mean_market_return))\n",
    "print('')\n",
    "\n",
    "# show one run vs average market performance\n",
    "df.portfolio_value.plot()\n",
    "df.mean_market_returns.cumprod().plot(label='mean market performance')\n",
    "plt.legend()"
   ]
  },
  {
   "cell_type": "code",
   "execution_count": 17,
   "metadata": {
    "ExecuteTime": {
     "start_time": "2017-07-23T06:09:37.802Z"
    },
    "scrolled": true
   },
   "outputs": [
    {
     "data": {
      "text/plain": [
       "index\n",
       "2017-02-04 08:00:00                       [1.0, 0.0, 0.0, 0.0, 0.0, 0.0]\n",
       "2017-02-04 08:30:00    [0.00865557, 0.00110006, 0.951742, 0.000918664...\n",
       "2017-02-04 09:00:00    [0.057492, 0.00626509, 0.829551, 0.0212247, 0....\n",
       "2017-02-04 09:30:00    [0.100245, 0.00626042, 0.466111, 0.0652311, 0....\n",
       "2017-02-04 10:00:00    [0.106339, 0.00920318, 0.510932, 0.0633594, 0....\n",
       "2017-02-04 10:30:00    [0.0371128, 0.0048639, 0.89435, 0.0138165, 0.0...\n",
       "2017-02-04 11:00:00    [0.00708043, 0.000437998, 0.913605, 0.00087486...\n",
       "2017-02-04 11:30:00    [0.00326109, 0.00021969, 0.969981, 0.000257646...\n",
       "2017-02-04 12:00:00    [0.0392776, 0.0033031, 0.87455, 0.0119707, 0.0...\n",
       "2017-02-04 12:30:00    [0.034708, 0.00401877, 0.894576, 0.0128741, 0....\n",
       "2017-02-04 13:00:00    [0.00613269, 0.000368084, 0.9394, 0.000830841,...\n",
       "2017-02-04 13:30:00    [0.0125223, 0.000743487, 0.855948, 0.00188548,...\n",
       "2017-02-04 14:00:00    [0.0737567, 0.00769707, 0.748746, 0.0350862, 0...\n",
       "2017-02-04 14:30:00    [0.110897, 0.0110767, 0.547648, 0.0724425, 0.0...\n",
       "2017-02-04 15:00:00    [0.0371056, 0.00474534, 0.537365, 0.0115113, 0...\n",
       "2017-02-04 15:30:00    [0.1381, 0.0300722, 0.414724, 0.137893, 0.0736...\n",
       "2017-02-04 16:00:00    [0.154593, 0.0552771, 0.244196, 0.230542, 0.08...\n",
       "2017-02-04 16:30:00    [0.147377, 0.0592159, 0.159326, 0.272458, 0.09...\n",
       "2017-02-04 17:00:00    [0.0465221, 0.0157945, 0.192169, 0.0404188, 0....\n",
       "2017-02-04 17:30:00    [0.0599509, 0.0423475, 0.173783, 0.0680759, 0....\n",
       "2017-02-04 18:00:00    [0.106824, 0.126502, 0.0164212, 0.439652, 0.07...\n",
       "2017-02-04 18:30:00    [0.0459585, 0.03727, 0.0209985, 0.0986873, 0.1...\n",
       "2017-02-04 19:00:00    [0.0762619, 0.15753, 0.00635484, 0.534467, 0.0...\n",
       "2017-02-04 19:30:00    [0.0631806, 0.216796, 0.0013208, 0.519701, 0.0...\n",
       "2017-02-04 20:00:00    [0.0644073, 0.16311, 0.00177846, 0.52526, 0.05...\n",
       "2017-02-04 20:30:00    [0.0380256, 0.0921025, 0.0046086, 0.127614, 0....\n",
       "2017-02-04 21:00:00    [0.0359191, 0.156686, 0.00314622, 0.155055, 0....\n",
       "2017-02-04 21:30:00    [0.0463907, 0.342976, 0.000562472, 0.466178, 0...\n",
       "2017-02-04 22:00:00    [0.0503498, 0.257653, 0.00033924, 0.478309, 0....\n",
       "2017-02-04 22:30:00    [0.050167, 0.29346, 0.000288962, 0.433687, 0.0...\n",
       "                                             ...                        \n",
       "2017-07-12 08:00:00    [0.0108861, 0.212014, 0.704594, 0.00770436, 0....\n",
       "2017-07-12 08:30:00    [0.000935194, 0.0590829, 0.93346, 0.000457497,...\n",
       "2017-07-12 09:00:00    [0.00338853, 0.736944, 0.239377, 0.00238468, 0...\n",
       "2017-07-12 09:30:00    [0.00466911, 0.832934, 0.128953, 0.00439574, 0...\n",
       "2017-07-12 10:00:00    [0.00323811, 0.724355, 0.250355, 0.0024803, 0....\n",
       "2017-07-12 10:30:00    [0.00296775, 0.653027, 0.320731, 0.00223059, 0...\n",
       "2017-07-12 11:00:00    [0.00258328, 0.649966, 0.328731, 0.00163289, 0...\n",
       "2017-07-12 11:30:00    [0.0029804, 0.778815, 0.195086, 0.00190185, 0....\n",
       "2017-07-12 12:00:00    [0.00555969, 0.788587, 0.150007, 0.00431887, 0...\n",
       "2017-07-12 12:30:00    [0.0103679, 0.735546, 0.127199, 0.00942948, 0....\n",
       "2017-07-12 13:00:00    [0.0115347, 0.656875, 0.182395, 0.00985312, 0....\n",
       "2017-07-12 13:30:00    [0.0127833, 0.716832, 0.0761265, 0.0134214, 0....\n",
       "2017-07-12 14:00:00    [0.0139764, 0.623226, 0.161374, 0.0137652, 0.1...\n",
       "2017-07-12 14:30:00    [0.0167824, 0.760513, 0.0881053, 0.0281498, 0....\n",
       "2017-07-12 15:00:00    [0.0147562, 0.614254, 0.175327, 0.0164055, 0.1...\n",
       "2017-07-12 15:30:00    [0.0157517, 0.656241, 0.124777, 0.0170026, 0.1...\n",
       "2017-07-12 16:00:00    [0.0124341, 0.781918, 0.0609158, 0.0144336, 0....\n",
       "2017-07-12 16:30:00    [0.00596649, 0.887236, 0.04093, 0.00595949, 0....\n",
       "2017-07-12 17:00:00    [0.0112161, 0.795178, 0.0672934, 0.0147856, 0....\n",
       "2017-07-12 17:30:00    [0.0179376, 0.618974, 0.0908598, 0.0222899, 0....\n",
       "2017-07-12 18:00:00    [0.0293976, 0.294186, 0.178662, 0.0477433, 0.3...\n",
       "2017-07-12 18:30:00    [0.0285621, 0.498563, 0.0950846, 0.0713752, 0....\n",
       "2017-07-12 19:00:00    [0.0426091, 0.484516, 0.08783, 0.16577, 0.1673...\n",
       "2017-07-12 19:30:00    [0.062748, 0.232708, 0.115121, 0.386226, 0.148...\n",
       "2017-07-12 20:00:00    [0.0595263, 0.134755, 0.297129, 0.259107, 0.18...\n",
       "2017-07-12 20:30:00    [0.0482296, 0.116626, 0.556657, 0.145551, 0.10...\n",
       "2017-07-12 21:00:00    [0.0792951, 0.154121, 0.194174, 0.332105, 0.16...\n",
       "2017-07-12 21:30:00    [0.123692, 0.0441295, 0.0385741, 0.298072, 0.1...\n",
       "2017-07-12 22:00:00    [0.0885431, 0.0148858, 0.0198444, 0.118079, 0....\n",
       "2017-07-12 22:30:00    [0.119259, 0.0128349, 0.0119433, 0.226873, 0.0...\n",
       "Name: weights, Length: 7614, dtype: object"
      ]
     },
     "execution_count": 17,
     "metadata": {},
     "output_type": "execute_result"
    }
   ],
   "source": [
    "# The weights appear to be static, so the model hasn't learnt much :(\n",
    "df = pd.DataFrame(env_test.infos)\n",
    "df.index=df['index']\n",
    "df.weights"
   ]
  },
  {
   "cell_type": "code",
   "execution_count": 18,
   "metadata": {
    "ExecuteTime": {
     "start_time": "2017-07-23T06:09:37.804Z"
    }
   },
   "outputs": [
    {
     "name": "stdout",
     "output_type": "stream",
     "text": [
      "Testing for 1 episodes ...\n",
      "Episode 1: reward: 0.003, steps: 30\n",
      "APV (Accumulated portfolio value): \t 1.087438\n",
      "MMR (mean_market_return):          \t 1.000073\n",
      "SR (Sharpe ratio):                 \t 0.983594\n",
      "MDD (max drawdown):                \t-7.604488%\n",
      "\n",
      "Testing for 1 episodes ...\n",
      "Episode 1: reward: 0.015, steps: 30\n",
      "APV (Accumulated portfolio value): \t 1.556455\n",
      "MMR (mean_market_return):          \t 1.164588\n",
      "SR (Sharpe ratio):                 \t 2.415509\n",
      "MDD (max drawdown):                \t-15.463636%\n",
      "\n",
      "Testing for 1 episodes ...\n",
      "Episode 1: reward: -0.001, steps: 30\n",
      "APV (Accumulated portfolio value): \t 0.959698\n",
      "MMR (mean_market_return):          \t 0.986745\n",
      "SR (Sharpe ratio):                 \t-0.850572\n",
      "MDD (max drawdown):                \t-4.306289%\n",
      "\n",
      "Testing for 1 episodes ...\n",
      "Episode 1: reward: 0.000, steps: 30\n",
      "APV (Accumulated portfolio value): \t 1.000012\n",
      "MMR (mean_market_return):          \t 0.991742\n",
      "SR (Sharpe ratio):                 \t 0.031870\n",
      "MDD (max drawdown):                \t-7.043344%\n",
      "\n",
      "Testing for 1 episodes ...\n",
      "Episode 1: reward: -0.000, steps: 30\n",
      "APV (Accumulated portfolio value): \t 0.999681\n",
      "MMR (mean_market_return):          \t 1.036567\n",
      "SR (Sharpe ratio):                 \t-0.003792\n",
      "MDD (max drawdown):                \t-1.702279%\n",
      "\n",
      "Testing for 1 episodes ...\n",
      "Episode 1: reward: 0.003, steps: 30\n",
      "APV (Accumulated portfolio value): \t 1.096229\n",
      "MMR (mean_market_return):          \t 1.025963\n",
      "SR (Sharpe ratio):                 \t 1.054953\n",
      "MDD (max drawdown):                \t-8.425704%\n",
      "\n",
      "Testing for 1 episodes ...\n",
      "Episode 1: reward: 0.002, steps: 30\n",
      "APV (Accumulated portfolio value): \t 1.063957\n",
      "MMR (mean_market_return):          \t 1.003125\n",
      "SR (Sharpe ratio):                 \t 0.979891\n",
      "MDD (max drawdown):                \t-5.980247%\n",
      "\n",
      "Testing for 1 episodes ...\n",
      "Episode 1: reward: -0.003, steps: 30\n",
      "APV (Accumulated portfolio value): \t 0.903800\n",
      "MMR (mean_market_return):          \t 0.989266\n",
      "SR (Sharpe ratio):                 \t-1.301276\n",
      "MDD (max drawdown):                \t-7.334489%\n",
      "\n",
      "Testing for 1 episodes ...\n",
      "Episode 1: reward: 0.001, steps: 30\n",
      "APV (Accumulated portfolio value): \t 1.020830\n",
      "MMR (mean_market_return):          \t 1.041902\n",
      "SR (Sharpe ratio):                 \t 0.315838\n",
      "MDD (max drawdown):                \t-5.829217%\n",
      "\n",
      "Testing for 1 episodes ...\n",
      "Episode 1: reward: -0.000, steps: 30\n",
      "APV (Accumulated portfolio value): \t 0.995676\n",
      "MMR (mean_market_return):          \t 1.045137\n",
      "SR (Sharpe ratio):                 \t 0.026025\n",
      "MDD (max drawdown):                \t-11.778643%\n",
      "\n"
     ]
    },
    {
     "data": {
      "text/plain": [
       "<matplotlib.legend.Legend at 0x7f4e7c163630>"
      ]
     },
     "execution_count": 18,
     "metadata": {},
     "output_type": "execute_result"
    },
    {
     "data": {
      "image/png": "[encoded data removed]",
      "text/plain": [
       "<matplotlib.figure.Figure at 0x7f4e7c01a630>"
      ]
     },
     "metadata": {},
     "output_type": "display_data"
    }
   ],
   "source": [
    "# Lets evaluate a few 30 step intervals\n",
    "df_test = pd.read_hdf('./data/poloniex_30m.hf',key='test')\n",
    "env_test = PortfolioEnv(\n",
    "    df=df_test,\n",
    "    steps=30, \n",
    "    scale=True, \n",
    "    augment=0.00,\n",
    "    trading_cost=0, # let just overfit first\n",
    "    window_length=window_length,\n",
    ")\n",
    "env_test.seed = 0  \n",
    "\n",
    "for i in range(10):\n",
    "    agent.test(env_test, nb_episodes=1, visualize=False)\n",
    "    df = pd.DataFrame(env_test.infos)\n",
    "    s=sharpe(df.rate_of_return)\n",
    "    mdd=MDD(df.rate_of_return+1)\n",
    "    mean_market_return=df.mean_market_returns.cumprod().iloc[-1]\n",
    "    print('APV (Accumulated portfolio value): \\t{: 2.6f}'.format(df.portfolio_value.iloc[-1]))\n",
    "    print('MMR (mean_market_return):          \\t{: 2.6f}'.format(mean_market_return))    \n",
    "    print('SR (Sharpe ratio):                 \\t{: 2.6f}'.format( s))\n",
    "    print('MDD (max drawdown):                \\t{: 2.6%}'.format( mdd))\n",
    "    print('')\n",
    "    df.portfolio_value.plot(label=str(i))\n",
    "plt.legend()"
   ]
  },
  {
   "cell_type": "code",
   "execution_count": null,
   "metadata": {
    "ExecuteTime": {
     "end_time": "2017-07-19T00:26:16.847387Z",
     "start_time": "2017-07-19T08:26:12.521925+08:00"
    },
    "collapsed": true
   },
   "outputs": [],
   "source": []
  },
  {
   "cell_type": "markdown",
   "metadata": {},
   "source": [
    "# Visualise"
   ]
  },
  {
   "cell_type": "code",
   "execution_count": 19,
   "metadata": {
    "ExecuteTime": {
     "start_time": "2017-07-23T06:09:37.807Z"
    }
   },
   "outputs": [
    {
     "ename": "NameError",
     "evalue": "name 'history' is not defined",
     "output_type": "error",
     "traceback": [
      "\u001b[0;31m---------------------------------------------------------------------------\u001b[0m",
      "\u001b[0;31mNameError\u001b[0m                                 Traceback (most recent call last)",
      "\u001b[0;32m<ipython-input-19-646ed2c5de5d>\u001b[0m in \u001b[0;36m<module>\u001b[0;34m()\u001b[0m\n\u001b[1;32m      1\u001b[0m \u001b[0;31m# history\u001b[0m\u001b[0;34m\u001b[0m\u001b[0;34m\u001b[0m\u001b[0m\n\u001b[0;32m----> 2\u001b[0;31m \u001b[0mdf_hist\u001b[0m \u001b[0;34m=\u001b[0m \u001b[0mpd\u001b[0m\u001b[0;34m.\u001b[0m\u001b[0mDataFrame\u001b[0m\u001b[0;34m(\u001b[0m\u001b[0mhistory\u001b[0m\u001b[0;34m.\u001b[0m\u001b[0mhistory\u001b[0m\u001b[0;34m)\u001b[0m\u001b[0;34m\u001b[0m\u001b[0m\n\u001b[0m\u001b[1;32m      3\u001b[0m \u001b[0mdf_hist\u001b[0m\u001b[0;34m\u001b[0m\u001b[0m\n\u001b[1;32m      4\u001b[0m \u001b[0mdf_hist\u001b[0m\u001b[0;34m[\u001b[0m\u001b[0;34m'episodes'\u001b[0m\u001b[0;34m]\u001b[0m \u001b[0;34m=\u001b[0m \u001b[0mdf_hist\u001b[0m\u001b[0;34m.\u001b[0m\u001b[0mindex\u001b[0m\u001b[0;34m\u001b[0m\u001b[0m\n\u001b[1;32m      5\u001b[0m \u001b[0;34m\u001b[0m\u001b[0m\n",
      "\u001b[0;31mNameError\u001b[0m: name 'history' is not defined"
     ]
    }
   ],
   "source": [
    "# history\n",
    "df_hist = pd.DataFrame(history.history)\n",
    "df_hist\n",
    "df_hist['episodes'] = df_hist.index\n",
    "\n",
    "g = sns.jointplot(x=\"episodes\", y=\"episode_reward\", data=df_hist, kind=\"reg\", size=10)\n",
    "plt.show()\n",
    "\n",
    "# g = sns.jointplot(x=\"episodes\", y=\"rewards\", data=history, kind=\"reg\")"
   ]
  },
  {
   "cell_type": "code",
   "execution_count": null,
   "metadata": {
    "collapsed": true
   },
   "outputs": [],
   "source": []
  }
 ],
 "metadata": {
  "kernelspec": {
   "display_name": "Python 3",
   "language": "python",
   "name": "python3"
  },
  "language_info": {
   "codemirror_mode": {
    "name": "ipython",
    "version": 3
   },
   "file_extension": ".py",
   "mimetype": "text/x-python",
   "name": "python",
   "nbconvert_exporter": "python",
   "pygments_lexer": "ipython3",
   "version": "3.6.2"
  }
 },
 "nbformat": 4,
 "nbformat_minor": 2
}
