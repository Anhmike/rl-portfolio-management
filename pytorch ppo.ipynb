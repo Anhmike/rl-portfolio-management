{
 "cells": [
  {
   "cell_type": "markdown",
   "metadata": {},
   "source": [
    "Pytorch is easier to debug, I like it.\n",
    "\n",
    "TODO:\n",
    "- [x] prioritised experience replay, need to grab loss for each sample, and sample based on loss\n",
    "- [ ] check it for my data, can it overfit?, does the normalisation make sense?\n",
    "- [x] better metrics\n",
    "- [ ] do cnn model\n",
    "- [x] read papers\n",
    "- [ ] check i'm prioristising by the right things, should lead to lowest loss\n",
    "- [ ] test on cartpole\n",
    "\n",
    "Refs: \n",
    "- implementations:\n",
    "    - PPO\n",
    "        - **pytorch implementation https://github.com/alexis-jacq/Pytorch-DPPO/blob/master/ppo.py**\n",
    "        - tensorflow implementation https://github.com/reinforceio/tensorforce/blob/master/tensorforce/models/ppo_model.py\n",
    "    - Prioritised memory\n",
    "    - Other\n",
    "        - http://pytorch.org/tutorials/intermediate/reinforcement_q_learning.html#training\n",
    "        - https://github.com/pytorch/examples/blob/master/reinforcement_learning/reinforce.py\n",
    "- papers:\n",
    "    - DPPO https://arxiv.org/pdf/1707.02286.pdf\n",
    "    - PPO \n",
    "        - https://arxiv.org/abs/1707.06347\n",
    "        - https://blog.openai.com/openai-baselines-ppo/\n",
    "    - TRPO https://arxiv.org/abs/1502.05477"
   ]
  },
  {
   "cell_type": "code",
   "execution_count": 1,
   "metadata": {
    "ExecuteTime": {
     "end_time": "2017-08-05T08:02:50.626113Z",
     "start_time": "2017-08-05T08:02:49.851346Z"
    }
   },
   "outputs": [
    {
     "name": "stderr",
     "output_type": "stream",
     "text": [
      "INFO:__main__:__main__ logger started.\n"
     ]
    }
   ],
   "source": [
    "# plotting\n",
    "%matplotlib inline\n",
    "from matplotlib import pyplot as plt\n",
    "import seaborn as sns\n",
    "plt.style.use('ggplot')\n",
    "\n",
    "# numeric\n",
    "import numpy as np\n",
    "from numpy import random\n",
    "import pandas as pd\n",
    "\n",
    "# utils\n",
    "from tqdm import tqdm_notebook as tqdm\n",
    "from collections import Counter\n",
    "import tempfile\n",
    "import logging\n",
    "import time\n",
    "import datetime\n",
    "import random\n",
    "\n",
    "from collections import OrderedDict\n",
    "from IPython.display import display\n",
    "from pprint import pprint\n",
    "\n",
    "# logging\n",
    "logger = log = logging.getLogger(__name__)\n",
    "log.setLevel(logging.INFO)\n",
    "logging.basicConfig()\n",
    "log.info('%s logger started.', __name__)"
   ]
  },
  {
   "cell_type": "code",
   "execution_count": 2,
   "metadata": {
    "ExecuteTime": {
     "end_time": "2017-08-05T08:02:50.876315Z",
     "start_time": "2017-08-05T08:02:50.627935Z"
    },
    "collapsed": true
   },
   "outputs": [],
   "source": [
    "import argparse\n",
    "import os\n",
    "import sys\n",
    "import gym\n",
    "from gym import wrappers\n",
    "import random\n",
    "import numpy as np\n",
    "\n",
    "import torch\n",
    "import torch.optim as optim\n",
    "import torch.multiprocessing as mp\n",
    "import torch.nn as nn\n",
    "import torch.nn.functional as F\n",
    "from torch.autograd import Variable"
   ]
  },
  {
   "cell_type": "code",
   "execution_count": 3,
   "metadata": {
    "ExecuteTime": {
     "end_time": "2017-08-05T08:02:50.928708Z",
     "start_time": "2017-08-05T08:02:50.877693Z"
    },
    "collapsed": true
   },
   "outputs": [],
   "source": [
    "import os\n",
    "os.sys.path.append(os.path.abspath('.'))\n",
    "%reload_ext autoreload\n",
    "%autoreload 2"
   ]
  },
  {
   "cell_type": "code",
   "execution_count": 4,
   "metadata": {
    "ExecuteTime": {
     "end_time": "2017-08-05T08:02:50.990960Z",
     "start_time": "2017-08-05T08:02:50.930677Z"
    }
   },
   "outputs": [
    {
     "data": {
      "text/plain": [
       "'outputs/agent_portfolio-ddpo/2017-07-21_weights.pickle'"
      ]
     },
     "execution_count": 4,
     "metadata": {},
     "output_type": "execute_result"
    }
   ],
   "source": [
    "class Params():\n",
    "    def __init__(self):\n",
    "        # env\n",
    "        self.window_length = 50\n",
    "        # Model\n",
    "        self.batch_size = 250\n",
    "        self.lr = 3e-4\n",
    "        self.gamma = 0.05\n",
    "        self.gae_param = 0.95\n",
    "        self.clip = 0.2 # epsilon from eq 7, default 0.2\n",
    "        self.ent_coeff = 0.\n",
    "        self.num_epoch = 20\n",
    "        self.num_steps = 2048\n",
    "        self.time_horizon = 1000000\n",
    "        self.max_episode_length = 10000\n",
    "        self.seed = 1\n",
    "\n",
    "params = Params()\n",
    "\n",
    "save_path= 'outputs/agent_portfolio-ddpo/{}_weights.pickle'.format('2017-07-21')\n",
    "try:\n",
    "    os.makedirs(os.path.dirname(save_path))\n",
    "except OSError:\n",
    "    pass\n",
    "save_path"
   ]
  },
  {
   "cell_type": "markdown",
   "metadata": {},
   "source": [
    "# Memory\n",
    "refs\n",
    "- https://github.com/openai/baselines/blob/master/baselines/deepq/replay_buffer.py\n",
    "- https://github.com/jaara/AI-blog/blob/master/Seaquest-DDQN-PER.py"
   ]
  },
  {
   "cell_type": "code",
   "execution_count": 5,
   "metadata": {
    "ExecuteTime": {
     "end_time": "2017-08-05T08:02:51.049262Z",
     "start_time": "2017-08-05T08:02:50.992981Z"
    },
    "collapsed": true
   },
   "outputs": [],
   "source": [
    "class ReplayMemory(object):\n",
    "    def __init__(self, capacity):\n",
    "        self.capacity = capacity\n",
    "        self.memory = []\n",
    "\n",
    "    def push(self, events):\n",
    "        for event in zip(*events):\n",
    "            self.memory.append(event)\n",
    "            if len(self.memory)>self.capacity:\n",
    "                del self.memory[0]\n",
    "\n",
    "    def clear(self):\n",
    "        self.memory = []\n",
    "\n",
    "    def sample(self, batch_size):\n",
    "        samples = zip(*random.sample(self.memory, batch_size))\n",
    "        return map(lambda x: torch.cat(x, 0), samples)"
   ]
  },
  {
   "cell_type": "code",
   "execution_count": null,
   "metadata": {
    "collapsed": true
   },
   "outputs": [],
   "source": []
  },
  {
   "cell_type": "code",
   "execution_count": 6,
   "metadata": {
    "ExecuteTime": {
     "end_time": "2017-08-05T08:02:51.165537Z",
     "start_time": "2017-08-05T08:02:51.050814Z"
    },
    "collapsed": true
   },
   "outputs": [],
   "source": [
    "import torch.utils.data.sampler\n",
    "\n",
    "class PrioritisedReplayMemory(object):\n",
    "    def __init__(self, capacity):\n",
    "        self.capacity = capacity\n",
    "        self.memory = []\n",
    "\n",
    "    def push(self, events):\n",
    "        # event is [states, actions, returns, advantages]\n",
    "        # [1x3x5x50,1x6,1x1,1x1]\n",
    "        for event in zip(*events):\n",
    "            self.memory.append(event)\n",
    "            if len(self.memory)>self.capacity:\n",
    "                del self.memory[0]\n",
    "\n",
    "    def clear(self):\n",
    "        self.memory = []\n",
    "\n",
    "    def sample(self, batch_size, beta=0.5):\n",
    "        \"\"\"\n",
    "        Take a weighted sample based on advantages.\n",
    "        \n",
    "        Half hearted implementation of algorithm 1 from https://arxiv.org/pdf/1511.05952.pdf\n",
    "        \n",
    "        Better one here https://github.com/openai/baselines/blob/master/baselines/deepq/replay_buffer.py#L157\n",
    "        \n",
    "        Parameters\n",
    "        ----------\n",
    "        batch_size: int\n",
    "            How many transitions to sample.\n",
    "        beta: float\n",
    "            To what degree to use importance weights\n",
    "            (0 - minimal corrections, 1 - full correction)\n",
    "            \n",
    "        Returns\n",
    "        ----------\n",
    "        states\n",
    "        actions\n",
    "        returns\n",
    "        advantages\n",
    "        \n",
    "        \"\"\"\n",
    "        # Sample transition\n",
    "        # we want to minimise loss so\n",
    "        #     weights ~ -loss (bigger the weight when the loss is lower)\n",
    "        # and\n",
    "        #     loss ~= -batch_advantages\n",
    "        # so \n",
    "        #     weights ~ batch_advantages\n",
    "        ps1 = torch.FloatTensor([m[-1].squeeze().data[0] for m in self.memory])        \n",
    "        ps1 -= ps1.min()\n",
    "        ps1 /= ps1.sum()\n",
    "        \n",
    "        # batch_returns\n",
    "#         ps2 = torch.FloatTensor([m[-2].squeeze().data[0] for m in self.memory])             \n",
    "#         ps2 -= ps2.min()\n",
    "#         ps2 /= ps2.sum()\n",
    "        \n",
    "        ps = ps1#+ps2 # priority        \n",
    "        ps -= ps.min() - 1.0\n",
    "        P = ps/ps.sum() # normalize\n",
    "        \n",
    "        # Compute importance-sampling weight\n",
    "        P = (len(P) * P) ** (-beta)\n",
    "        w = P / P.max()\n",
    "        \n",
    "        # to list and remove nans\n",
    "        w = w.numpy()\n",
    "#         w[np.isfinite(w)==False] = 0\n",
    "        w = w.tolist()\n",
    "        \n",
    "        idxs = torch.utils.data.sampler.WeightedRandomSampler(w, params.batch_size, replacement=False)\n",
    "        \n",
    "        # concatenate it into batches\n",
    "        samples = zip(*[self.memory[n] for n in idxs])        \n",
    "        return map(lambda x: torch.cat(x, 0), samples)"
   ]
  },
  {
   "cell_type": "code",
   "execution_count": null,
   "metadata": {
    "ExecuteTime": {
     "end_time": "2017-08-04T12:46:15.785326Z",
     "start_time": "2017-08-04T20:46:15.643789+08:00"
    },
    "collapsed": true
   },
   "outputs": [],
   "source": []
  },
  {
   "cell_type": "code",
   "execution_count": 7,
   "metadata": {
    "ExecuteTime": {
     "end_time": "2017-08-05T08:02:51.209445Z",
     "start_time": "2017-08-05T08:02:51.166883Z"
    },
    "collapsed": true
   },
   "outputs": [],
   "source": [
    "# # Test by making sure the sample has a higher returns than the mean\n",
    "# batch_states, batch_actions, batch_returns, batch_advantages = memory.sample(200)\n",
    "\n",
    "# ps1 = torch.FloatTensor([m[-1].squeeze().data[0] for m in memory.memory])        \n",
    "# print(batch_advantages.mean(),ps1.mean())\n",
    "# assert batch_advantages.mean().data[0]>ps1.mean()\n",
    "\n",
    "# # ps2 = torch.FloatTensor([m[-2].squeeze().data[0] for m in memory.memory]) \n",
    "# # assert batch_returns.mean().data[0]>ps2.mean()\n"
   ]
  },
  {
   "cell_type": "markdown",
   "metadata": {
    "ExecuteTime": {
     "end_time": "2017-08-02T00:55:29.885772Z",
     "start_time": "2017-08-02T08:55:29.883459+08:00"
    }
   },
   "source": [
    "# Enviroment"
   ]
  },
  {
   "cell_type": "code",
   "execution_count": 19,
   "metadata": {
    "ExecuteTime": {
     "end_time": "2017-08-05T09:16:27.571713Z",
     "start_time": "2017-08-05T09:16:27.315606Z"
    }
   },
   "outputs": [
    {
     "data": {
      "text/plain": [
       "(3, 5, 50)"
      ]
     },
     "execution_count": 19,
     "metadata": {},
     "output_type": "execute_result"
    }
   ],
   "source": [
    "from src.environments.portfolio import PortfolioEnv, sharpe, max_drawdown\n",
    "\n",
    "# we want to pemute the channels a little\n",
    "\n",
    "class PermutedPortfolioEnv(PortfolioEnv):\n",
    "    def reset(self, *args, **kwargs):\n",
    "        return np.transpose(super().reset(*args, **kwargs),(0,1,2))\n",
    "    def step(self, *args, **kwargs):\n",
    "        observation, reward, done, info = super().step(*args, **kwargs)\n",
    "        observation = np.transpose(observation,(2,0,1))\n",
    "        return observation, reward, done, info\n",
    "\n",
    "\n",
    "df_train = pd.read_hdf('./data/poloniex_30m.hf',key='train')\n",
    "env = PermutedPortfolioEnv(\n",
    "    df=df_train,\n",
    "    steps=128, \n",
    "    scale=True, \n",
    "    augment=0.00025, # let just overfit first,\n",
    "    trading_cost=0, #0.0025, # let just overfit first,\n",
    "    window_length = params.window_length,   \n",
    ")\n",
    "env.seed(params.seed)\n",
    "env.reset().shape\n",
    "\n",
    "df_test = pd.read_hdf('./data/poloniex_30m.hf',key='test')\n",
    "env_test = PermutedPortfolioEnv(\n",
    "    df=df_test,\n",
    "    steps=128, \n",
    "    scale=True, \n",
    "    augment=0.00025, # let just overfit first,\n",
    "    trading_cost=0, #0.0025, # let just overfit first,\n",
    "    window_length = params.window_length,   \n",
    ")\n",
    "env_test.seed(params.seed)\n",
    "env_test.reset().shape"
   ]
  },
  {
   "cell_type": "markdown",
   "metadata": {},
   "source": [
    "# Model"
   ]
  },
  {
   "cell_type": "code",
   "execution_count": null,
   "metadata": {
    "ExecuteTime": {
     "end_time": "2017-08-02T01:11:38.199434Z",
     "start_time": "2017-08-02T09:11:38.155811+08:00"
    },
    "collapsed": true
   },
   "outputs": [],
   "source": []
  },
  {
   "cell_type": "code",
   "execution_count": 9,
   "metadata": {
    "ExecuteTime": {
     "end_time": "2017-08-05T08:02:51.493374Z",
     "start_time": "2017-08-05T08:02:51.405559Z"
    },
    "collapsed": true
   },
   "outputs": [],
   "source": [
    "\n",
    "class EIIE_CNN(nn.Module):\n",
    "    \"\"\"\n",
    "    CNN implementation of Ensemble of Identical Independent Evaluators (EIIE).\n",
    "    \n",
    "    https://arxiv.org/abs/1706.10059\n",
    "    \"\"\"\n",
    "#     def __init__(self, price_his_len, nb_actions):\n",
    "    def __init__(self, inputs, outputs):\n",
    "        self.inputs=inputs\n",
    "        self.outputs=outputs\n",
    "        super(EIIE_CNN, self).__init__()\n",
    "        self.conv1 = nn.Conv2d(3, 2, (1, 3))\n",
    "        self.conv2 = nn.Conv2d(2, 20, (1, inputs[1] - 2))\n",
    "        self.conv3 = nn.Conv2d(20, 1, (1, 1))        \n",
    "        self.head  = nn.Linear(outputs[0]-1,outputs[0]) # add cash bias?\n",
    "        \n",
    "        self.log_std = nn.Parameter(torch.zeros(num_outputs))\n",
    "        \n",
    "        self.v = nn.Linear(outputs[0]-1,1)\n",
    "\n",
    "    def forward(self, inputs):\n",
    "        # actor\n",
    "        x = F.relu(self.conv1(inputs))\n",
    "        x = F.relu(self.conv2(x))\n",
    "        x = F.relu(self.conv3(x))\n",
    "        h = x.view(x.size(0),self.outputs[0]-1) # Flatten\n",
    "        \n",
    "        mu = F.softmax(self.head(h)) # action\n",
    "        log_std = torch.exp(self.log_std).unsqueeze(0).expand_as(mu) # exploration param?\n",
    "        v = self.v(h) # critic\n",
    "        \n",
    "        \n",
    "        # critic\n",
    "        return mu, log_std, v"
   ]
  },
  {
   "cell_type": "code",
   "execution_count": 10,
   "metadata": {
    "ExecuteTime": {
     "end_time": "2017-08-05T08:02:51.608129Z",
     "start_time": "2017-08-05T08:02:51.495261Z"
    },
    "collapsed": true
   },
   "outputs": [],
   "source": [
    "class GenericSharedModel(nn.Module):\n",
    "    def __init__(self, inputs, outputs):\n",
    "        super(GenericSharedModel, self).__init__()\n",
    "        num_inputs = int(np.prod(env.observation_space.shape))\n",
    "        num_outputs = int(np.prod(env.action_space.shape))\n",
    "        \n",
    "        # hidden layer sizes\n",
    "        h_size_1 = 128\n",
    "        h_size_2 = 128\n",
    "        \n",
    "        self.fc1 = nn.Linear(num_inputs, h_size_1)\n",
    "        self.fc2 = nn.Linear(h_size_1, h_size_2)\n",
    "        self.mu = nn.Linear(h_size_2, num_outputs)\n",
    "        self.log_std = nn.Parameter(torch.zeros(num_outputs))\n",
    "        self.v = nn.Linear(h_size_2,1)\n",
    "        \n",
    "        for name, p in self.named_parameters():\n",
    "            # init parameters\n",
    "            if 'bias' in name:\n",
    "                p.data.fill_(0)\n",
    "            '''\n",
    "            if 'mu.weight' in name:\n",
    "                p.data.normal_()\n",
    "                p.data /= torch.sum(p.data**2,0).expand_as(p.data)'''\n",
    "        \n",
    "        # mode\n",
    "        self.train()\n",
    "\n",
    "    def forward(self, inputs):\n",
    "        # flatten\n",
    "        inputs = inputs.view((inputs.size()[0],-1))\n",
    "        \n",
    "        # actor\n",
    "        x = F.tanh(self.fc1(inputs))\n",
    "        h = F.tanh(self.fc2(x))\n",
    "        \n",
    "        # the action\n",
    "        mu = F.softmax(self.mu(h))\n",
    "        \n",
    "        # exploration multiplier\n",
    "        log_std = F.sigmoid(torch.exp(self.log_std).unsqueeze(0).expand_as(mu))\n",
    "        \n",
    "        # critic\n",
    "        v = self.v(h)\n",
    "        return mu, log_std, v"
   ]
  },
  {
   "cell_type": "markdown",
   "metadata": {},
   "source": [
    "# Train"
   ]
  },
  {
   "cell_type": "code",
   "execution_count": 11,
   "metadata": {
    "ExecuteTime": {
     "end_time": "2017-08-05T08:02:51.657902Z",
     "start_time": "2017-08-05T08:02:51.609628Z"
    },
    "collapsed": true
   },
   "outputs": [],
   "source": [
    "def mkdir(base, name):\n",
    "    path = os.path.join(base, name)\n",
    "    if not os.path.exists(path):\n",
    "        os.makedirs(path)\n",
    "    return path"
   ]
  },
  {
   "cell_type": "code",
   "execution_count": 12,
   "metadata": {
    "ExecuteTime": {
     "end_time": "2017-08-05T08:02:51.723228Z",
     "start_time": "2017-08-05T08:02:51.659522Z"
    },
    "collapsed": true
   },
   "outputs": [],
   "source": [
    "\n",
    "# class Shared_grad_buffers():\n",
    "#     def __init__(self, model):\n",
    "#         self.grads = {}\n",
    "#         for name, p in model.named_parameters():\n",
    "#             self.grads[name+'_grad'] = torch.ones(p.size()).share_memory_()\n",
    "\n",
    "#     def add_gradient(self, model):\n",
    "#         for name, p in model.named_parameters():\n",
    "#             self.grads[name+'_grad'] += p.grad.data\n",
    "\n",
    "#     def reset(self):\n",
    "#         for name,grad in self.grads.items():\n",
    "#             self.grads[name].fill_(0)\n",
    "\n",
    "class Shared_obs_stats():\n",
    "    \"\"\"Like batchnorm for input data\"\"\"\n",
    "    def __init__(self, num_inputs):\n",
    "        self.n = torch.zeros(num_inputs).share_memory_()\n",
    "        self.mean = torch.zeros(num_inputs).share_memory_()\n",
    "        self.mean_diff = torch.zeros(num_inputs).share_memory_()\n",
    "        self.var = torch.zeros(num_inputs).share_memory_()\n",
    "\n",
    "    def observes(self, obs):\n",
    "        # observation mean var updates\n",
    "        x = obs.data.squeeze()\n",
    "        self.n += 1.\n",
    "        last_mean = self.mean.clone()\n",
    "        self.mean += (x-self.mean)/self.n\n",
    "        self.mean_diff += (x-last_mean)*(x-self.mean)\n",
    "        self.var = torch.clamp(self.mean_diff/self.n, min=1e-2)\n",
    "\n",
    "    def normalize(self, inputs):\n",
    "        obs_mean = Variable(self.mean.unsqueeze(0).expand_as(inputs))\n",
    "        obs_std = Variable(torch.sqrt(self.var).unsqueeze(0).expand_as(inputs))\n",
    "        return torch.clamp((inputs-obs_mean)/obs_std, -5., 5.)"
   ]
  },
  {
   "cell_type": "code",
   "execution_count": 13,
   "metadata": {
    "ExecuteTime": {
     "end_time": "2017-08-05T08:02:51.769363Z",
     "start_time": "2017-08-05T08:02:51.724740Z"
    },
    "collapsed": true
   },
   "outputs": [],
   "source": [
    "def normal(x, mu, sigma_sq):\n",
    "    a = (-1*(x-mu).pow(2)/(2*sigma_sq)).exp()\n",
    "    b = 1/(2*sigma_sq*np.pi).sqrt()\n",
    "    return a*b"
   ]
  },
  {
   "cell_type": "code",
   "execution_count": 14,
   "metadata": {
    "ExecuteTime": {
     "end_time": "2017-08-05T08:02:51.853005Z",
     "start_time": "2017-08-05T08:02:51.770791Z"
    }
   },
   "outputs": [
    {
     "data": {
      "text/plain": [
       "EIIE_CNN (\n",
       "  (conv1): Conv2d(3, 2, kernel_size=(1, 3), stride=(1, 1))\n",
       "  (conv2): Conv2d(2, 20, kernel_size=(1, 48), stride=(1, 1))\n",
       "  (conv3): Conv2d(20, 1, kernel_size=(1, 1), stride=(1, 1))\n",
       "  (head): Linear (5 -> 6)\n",
       "  (v): Linear (5 -> 1)\n",
       ")"
      ]
     },
     "execution_count": 14,
     "metadata": {},
     "output_type": "execute_result"
    }
   ],
   "source": [
    "\n",
    "cuda = False\n",
    "torch.manual_seed(params.seed)\n",
    "work_dir = mkdir('exp', 'ppo')\n",
    "monitor_dir = mkdir(work_dir, 'monitor')\n",
    "\n",
    "# env = gym.make(params.env_name)\n",
    "#env = wrappers.Monitor(env, monitor_dir, force=True)\n",
    "\n",
    "num_inputs = env.observation_space.shape[0]\n",
    "num_outputs = env.action_space.shape[0]\n",
    "\n",
    "\n",
    "#initialize network and optimizer\n",
    "Model = GenericSharedModel\n",
    "Model = EIIE_CNN\n",
    "model = Model(env.observation_space.shape, env.action_space.shape)\n",
    "if cuda: model.cuda()\n",
    "\n",
    "# shared_obs_stats = Shared_obs_stats(num_inputs)\n",
    "optimizer = optim.Adam(model.parameters(), lr=params.lr)\n",
    "model"
   ]
  },
  {
   "cell_type": "code",
   "execution_count": null,
   "metadata": {
    "ExecuteTime": {
     "end_time": "2017-08-04T02:50:27.128726Z",
     "start_time": "2017-08-04T10:50:01.031402+08:00"
    },
    "collapsed": true
   },
   "outputs": [],
   "source": []
  },
  {
   "cell_type": "code",
   "execution_count": 16,
   "metadata": {
    "ExecuteTime": {
     "end_time": "2017-08-05T09:15:59.425276Z",
     "start_time": "2017-08-05T08:04:12.082685Z"
    }
   },
   "outputs": [
    {
     "name": "stdout",
     "output_type": "stream",
     "text": [
      "episode=15, loss=9.719e-06, cash_bias=0.1576, market_value=1.023, portfolio_value=1.036, reward=-5.649e-06\n"
     ]
    },
    {
     "name": "stderr",
     "output_type": "stream",
     "text": [
      "/home/isisilon/.pyenv/versions/3.6.0/envs/jupyter3/lib/python3.6/site-packages/torch/serialization.py:147: UserWarning: Couldn't retrieve source code for container of type EIIE_CNN. It won't be checked for correctness upon loading.\n",
      "  \"type \" + obj.__name__ + \". It won't be checked \"\n"
     ]
    },
    {
     "name": "stdout",
     "output_type": "stream",
     "text": [
      "episode=31, loss=0.0001381, cash_bias=0.1966, market_value=1.042, portfolio_value=1.052, reward=7.133e-06\n",
      "episode=47, loss=0.0002781, cash_bias=0.1989, market_value=1.042, portfolio_value=1.045, reward=-1.019e-06\n",
      "episode=63, loss=0.0001417, cash_bias=0.2253, market_value=1.051, portfolio_value=1.049, reward=6.361e-06\n",
      "episode=79, loss=5.829e-05, cash_bias=0.1883, market_value=1.029, portfolio_value=1.033, reward=2.362e-05\n",
      "episode=95, loss=3.899e-05, cash_bias=0.1925, market_value=1.051, portfolio_value=1.069, reward=3.269e-06\n",
      "episode=111, loss=4.012e-05, cash_bias=0.1828, market_value=1.059, portfolio_value=1.059, reward=2.533e-06\n",
      "episode=127, loss=4.866e-05, cash_bias=0.3374, market_value=1.016, portfolio_value=1.034, reward=5.887e-06\n",
      "episode=143, loss=5.706e-05, cash_bias=0.2415, market_value=1.044, portfolio_value=1.03, reward=1.553e-05\n",
      "episode=159, loss=4.973e-05, cash_bias=0.1724, market_value=1.036, portfolio_value=1.042, reward=1.092e-05\n",
      "episode=175, loss=4.329e-05, cash_bias=0.2812, market_value=1.03, portfolio_value=1.008, reward=-1.396e-05\n",
      "episode=191, loss=3.363e-05, cash_bias=0.269, market_value=1.022, portfolio_value=0.9982, reward=-7.393e-06\n",
      "episode=207, loss=2.331e-05, cash_bias=0.2075, market_value=1.042, portfolio_value=1.033, reward=1.259e-05\n",
      "episode=223, loss=1.733e-05, cash_bias=0.1812, market_value=1.068, portfolio_value=1.062, reward=1.421e-05\n",
      "episode=239, loss=1.367e-05, cash_bias=0.1185, market_value=1.033, portfolio_value=1.07, reward=4.348e-05\n",
      "episode=255, loss=9.83e-06, cash_bias=0.1196, market_value=1.043, portfolio_value=1.034, reward=5.893e-06\n",
      "episode=271, loss=8.681e-06, cash_bias=0.1785, market_value=1.027, portfolio_value=1.013, reward=1.019e-05\n",
      "episode=287, loss=9.708e-06, cash_bias=0.2493, market_value=1.02, portfolio_value=1.03, reward=1.493e-05\n",
      "episode=303, loss=6.095e-06, cash_bias=0.1618, market_value=1.045, portfolio_value=1.061, reward=1.379e-05\n",
      "episode=319, loss=3.4e-06, cash_bias=0.2196, market_value=1.051, portfolio_value=1.06, reward=1.304e-05\n",
      "episode=335, loss=2.664e-06, cash_bias=0.1819, market_value=1.034, portfolio_value=1.04, reward=-8.854e-06\n",
      "episode=351, loss=2.45e-06, cash_bias=0.1681, market_value=1.013, portfolio_value=0.9938, reward=1.268e-05\n",
      "episode=367, loss=2.298e-06, cash_bias=0.1588, market_value=1.039, portfolio_value=1.045, reward=1.856e-05\n",
      "episode=383, loss=2.516e-06, cash_bias=0.08414, market_value=1.024, portfolio_value=1.05, reward=-4.661e-06\n",
      "episode=399, loss=3.538e-06, cash_bias=0.1423, market_value=1.014, portfolio_value=1.045, reward=1.982e-05\n",
      "episode=415, loss=3.943e-06, cash_bias=0.1699, market_value=1.031, portfolio_value=1.012, reward=2.443e-05\n",
      "episode=431, loss=5.225e-06, cash_bias=0.1844, market_value=1.013, portfolio_value=1.019, reward=-7.907e-06\n",
      "episode=447, loss=7.845e-06, cash_bias=0.1174, market_value=1.042, portfolio_value=1.041, reward=-7.996e-07\n",
      "episode=463, loss=1.051e-05, cash_bias=0.09644, market_value=1.008, portfolio_value=1.001, reward=-4.708e-06\n",
      "episode=479, loss=1.385e-05, cash_bias=0.2407, market_value=1.025, portfolio_value=0.9878, reward=2.19e-05\n",
      "episode=495, loss=1.311e-05, cash_bias=0.09056, market_value=1.042, portfolio_value=1.05, reward=1.359e-05\n",
      "episode=511, loss=1.151e-05, cash_bias=0.1332, market_value=1.046, portfolio_value=1.031, reward=-1.609e-05\n",
      "episode=527, loss=9.768e-06, cash_bias=0.1144, market_value=1.038, portfolio_value=1.023, reward=-2.461e-06\n",
      "episode=543, loss=1.104e-05, cash_bias=0.2107, market_value=1.064, portfolio_value=1.028, reward=1.669e-05\n",
      "episode=559, loss=1.51e-05, cash_bias=0.1418, market_value=1.034, portfolio_value=1.043, reward=4.713e-06\n",
      "episode=575, loss=1.527e-05, cash_bias=0.09662, market_value=1.039, portfolio_value=1.022, reward=8.044e-06\n",
      "episode=591, loss=1.149e-05, cash_bias=0.2528, market_value=1.066, portfolio_value=1.081, reward=1.694e-05\n",
      "episode=607, loss=8.339e-06, cash_bias=0.1027, market_value=1.02, portfolio_value=1.01, reward=2.052e-05\n",
      "episode=623, loss=7.454e-06, cash_bias=0.3493, market_value=1.017, portfolio_value=1.032, reward=2.072e-05\n",
      "episode=639, loss=8.586e-06, cash_bias=0.2922, market_value=1.037, portfolio_value=1.018, reward=2.574e-05\n",
      "episode=655, loss=7.801e-06, cash_bias=0.1131, market_value=1.038, portfolio_value=1.052, reward=2.444e-06\n",
      "episode=671, loss=8.807e-06, cash_bias=0.1068, market_value=1.051, portfolio_value=1.033, reward=-1.114e-05\n",
      "episode=687, loss=7.608e-06, cash_bias=0.1793, market_value=1.007, portfolio_value=0.9866, reward=-6.258e-06\n",
      "episode=703, loss=5.228e-06, cash_bias=0.1771, market_value=1.021, portfolio_value=0.9835, reward=-1.553e-05\n",
      "episode=719, loss=4.687e-06, cash_bias=0.04639, market_value=1.034, portfolio_value=1.035, reward=-8.806e-06\n",
      "episode=735, loss=2.862e-06, cash_bias=0.1449, market_value=1.049, portfolio_value=1.085, reward=3.02e-05\n",
      "episode=751, loss=1.168e-06, cash_bias=0.1572, market_value=1.039, portfolio_value=1.054, reward=8.411e-06\n",
      "episode=767, loss=8.27e-07, cash_bias=0.1818, market_value=1.059, portfolio_value=1.053, reward=5.634e-06\n",
      "episode=783, loss=7.095e-07, cash_bias=0.2748, market_value=1.066, portfolio_value=1.068, reward=-3.955e-06\n",
      "episode=799, loss=6.994e-07, cash_bias=0.1681, market_value=1.044, portfolio_value=1.042, reward=1.805e-05\n",
      "episode=815, loss=4.586e-07, cash_bias=0.2524, market_value=1.048, portfolio_value=1.041, reward=-8.016e-06\n",
      "episode=831, loss=2.019e-07, cash_bias=0.1101, market_value=1.054, portfolio_value=1.086, reward=-3.308e-06\n",
      "episode=847, loss=2.292e-07, cash_bias=0.1575, market_value=1.024, portfolio_value=1.023, reward=-2.917e-06\n",
      "episode=863, loss=3.291e-07, cash_bias=0.1384, market_value=1.033, portfolio_value=1.041, reward=-8.712e-06\n",
      "episode=879, loss=3.559e-07, cash_bias=0.25, market_value=1.047, portfolio_value=1.048, reward=-8.839e-06\n",
      "episode=895, loss=3.101e-07, cash_bias=0.1359, market_value=1.052, portfolio_value=1.027, reward=-6.901e-06\n",
      "episode=911, loss=3.64e-07, cash_bias=0.1054, market_value=1.041, portfolio_value=1.039, reward=-3.593e-06\n",
      "episode=927, loss=4.17e-07, cash_bias=0.1341, market_value=1.038, portfolio_value=1.037, reward=-5.346e-06\n",
      "episode=943, loss=4.986e-07, cash_bias=0.1028, market_value=1.018, portfolio_value=1.037, reward=1.352e-05\n",
      "episode=959, loss=5.584e-07, cash_bias=0.1695, market_value=1.044, portfolio_value=1.045, reward=1.394e-05\n",
      "episode=975, loss=6.081e-07, cash_bias=0.1929, market_value=1.037, portfolio_value=1.015, reward=-6.042e-06\n",
      "episode=991, loss=7.257e-07, cash_bias=0.1238, market_value=1.04, portfolio_value=1.036, reward=6.518e-06\n",
      "episode=1007, loss=1.008e-06, cash_bias=0.09522, market_value=1.034, portfolio_value=1.033, reward=-1.205e-05\n",
      "episode=1023, loss=1.299e-06, cash_bias=0.1065, market_value=1.021, portfolio_value=0.9992, reward=-7.847e-06\n",
      "episode=1039, loss=1.668e-06, cash_bias=0.2408, market_value=1.034, portfolio_value=1.061, reward=1.264e-05\n",
      "episode=1055, loss=1.78e-06, cash_bias=0.1553, market_value=1.065, portfolio_value=1.051, reward=-1.575e-05\n",
      "episode=1071, loss=1.09e-06, cash_bias=0.1263, market_value=1.047, portfolio_value=1.036, reward=-2.021e-06\n",
      "episode=1087, loss=4.128e-07, cash_bias=0.2229, market_value=1.035, portfolio_value=1.025, reward=1.27e-05\n",
      "episode=1103, loss=3.616e-07, cash_bias=0.1148, market_value=1.034, portfolio_value=1.029, reward=2.685e-06\n",
      "episode=1119, loss=3.794e-07, cash_bias=0.287, market_value=1.05, portfolio_value=1.062, reward=1.835e-05\n",
      "episode=1135, loss=4.149e-07, cash_bias=0.1437, market_value=1.028, portfolio_value=1.017, reward=2.083e-05\n",
      "episode=1151, loss=3.232e-07, cash_bias=0.2754, market_value=1.006, portfolio_value=0.9867, reward=1.988e-05\n",
      "episode=1167, loss=2.643e-07, cash_bias=0.2678, market_value=1.024, portfolio_value=1.027, reward=-1.659e-05\n",
      "episode=1183, loss=4.696e-07, cash_bias=0.1024, market_value=1.048, portfolio_value=1.051, reward=2.024e-05\n",
      "episode=1199, loss=6.236e-07, cash_bias=0.211, market_value=1.032, portfolio_value=1.046, reward=2.721e-06\n",
      "episode=1215, loss=5.019e-07, cash_bias=0.09391, market_value=1.032, portfolio_value=1.014, reward=1.136e-05\n",
      "episode=1231, loss=4.018e-07, cash_bias=0.1849, market_value=1.024, portfolio_value=1.018, reward=4.282e-06\n",
      "episode=1247, loss=4.074e-07, cash_bias=0.183, market_value=1.025, portfolio_value=1.017, reward=-2.053e-05\n"
     ]
    },
    {
     "name": "stdout",
     "output_type": "stream",
     "text": [
      "episode=1263, loss=5.396e-07, cash_bias=0.1329, market_value=1.029, portfolio_value=1.036, reward=6.234e-06\n",
      "episode=1279, loss=3.465e-07, cash_bias=0.3526, market_value=1.032, portfolio_value=1.032, reward=-3.478e-06\n",
      "episode=1295, loss=2.824e-07, cash_bias=0.2131, market_value=1.055, portfolio_value=1.05, reward=6.46e-06\n",
      "episode=1311, loss=2.507e-07, cash_bias=0.1547, market_value=1.022, portfolio_value=1.037, reward=4.743e-06\n",
      "episode=1327, loss=3.843e-07, cash_bias=0.1305, market_value=1.037, portfolio_value=1.016, reward=4.283e-06\n",
      "episode=1343, loss=5.836e-07, cash_bias=0.2379, market_value=1.064, portfolio_value=1.05, reward=1.099e-05\n",
      "episode=1359, loss=5.833e-07, cash_bias=0.2705, market_value=1.052, portfolio_value=1.025, reward=-3.292e-05\n",
      "episode=1375, loss=5.023e-07, cash_bias=0.1208, market_value=1.061, portfolio_value=1.064, reward=1.694e-06\n",
      "episode=1391, loss=2.013e-07, cash_bias=0.2177, market_value=1.011, portfolio_value=1.004, reward=5.853e-06\n",
      "episode=1407, loss=6.508e-08, cash_bias=0.2172, market_value=1.039, portfolio_value=1.031, reward=-2.606e-05\n",
      "episode=1423, loss=3.293e-07, cash_bias=0.2175, market_value=1.06, portfolio_value=1.016, reward=-1.216e-05\n",
      "episode=1439, loss=2.727e-07, cash_bias=0.1471, market_value=1.032, portfolio_value=0.9984, reward=1.089e-05\n",
      "episode=1455, loss=2.824e-07, cash_bias=0.2058, market_value=1.058, portfolio_value=1.043, reward=4.657e-06\n",
      "episode=1471, loss=1.715e-07, cash_bias=0.2148, market_value=1.031, portfolio_value=1.047, reward=1.395e-05\n",
      "episode=1487, loss=7.531e-08, cash_bias=0.2404, market_value=1.041, portfolio_value=1.043, reward=2.089e-05\n",
      "episode=1503, loss=9.68e-08, cash_bias=0.1197, market_value=1.031, portfolio_value=1.031, reward=-1.982e-06\n",
      "episode=1519, loss=9.37e-08, cash_bias=0.2173, market_value=1.035, portfolio_value=1.023, reward=3.74e-06\n",
      "episode=1535, loss=7.076e-08, cash_bias=0.1916, market_value=1.027, portfolio_value=1.022, reward=-1.317e-05\n",
      "episode=1551, loss=9.072e-08, cash_bias=0.1171, market_value=1.017, portfolio_value=1.018, reward=-1.357e-05\n",
      "episode=1567, loss=1.099e-07, cash_bias=0.1453, market_value=1.038, portfolio_value=1.016, reward=7.318e-06\n",
      "episode=1583, loss=1.953e-07, cash_bias=0.145, market_value=1.044, portfolio_value=1.052, reward=2.565e-05\n",
      "episode=1599, loss=2.23e-07, cash_bias=0.2026, market_value=1.025, portfolio_value=1.016, reward=-7.294e-06\n",
      "episode=1615, loss=1.822e-07, cash_bias=0.1762, market_value=1.037, portfolio_value=1.044, reward=9.527e-07\n",
      "episode=1631, loss=1.35e-07, cash_bias=0.0914, market_value=1.044, portfolio_value=1.052, reward=6.074e-06\n",
      "episode=1647, loss=2.241e-07, cash_bias=0.1614, market_value=1.012, portfolio_value=1.012, reward=-2.03e-05\n",
      "episode=1663, loss=2.329e-07, cash_bias=0.3179, market_value=1.048, portfolio_value=1.017, reward=-4.682e-06\n",
      "episode=1679, loss=1.151e-07, cash_bias=0.2109, market_value=1.02, portfolio_value=1.019, reward=9.562e-06\n",
      "episode=1695, loss=5.969e-08, cash_bias=0.216, market_value=1.041, portfolio_value=1.041, reward=2.849e-05\n",
      "episode=1711, loss=4.698e-08, cash_bias=0.2005, market_value=1.029, portfolio_value=1.046, reward=-2.702e-05\n",
      "episode=1727, loss=4.017e-08, cash_bias=0.2397, market_value=1.024, portfolio_value=1.043, reward=1.92e-05\n",
      "episode=1743, loss=4.791e-08, cash_bias=0.1695, market_value=1.027, portfolio_value=1.022, reward=5.703e-06\n",
      "episode=1759, loss=4.837e-08, cash_bias=0.2134, market_value=1.043, portfolio_value=1.026, reward=4.584e-06\n",
      "episode=1775, loss=3.912e-08, cash_bias=0.1607, market_value=1.032, portfolio_value=1.021, reward=-1.378e-05\n",
      "episode=1791, loss=4.517e-08, cash_bias=0.1117, market_value=0.9992, portfolio_value=1.016, reward=-5.306e-06\n",
      "episode=1807, loss=8.349e-08, cash_bias=0.1511, market_value=1.014, portfolio_value=1.016, reward=-2.248e-07\n",
      "episode=1823, loss=1.166e-07, cash_bias=0.1743, market_value=1.025, portfolio_value=1.011, reward=-7.068e-06\n",
      "episode=1839, loss=1.868e-07, cash_bias=0.2667, market_value=1.06, portfolio_value=1.052, reward=1.116e-05\n",
      "episode=1855, loss=3.765e-07, cash_bias=0.1121, market_value=1.046, portfolio_value=1.052, reward=2.294e-05\n",
      "episode=1871, loss=5.235e-07, cash_bias=0.1512, market_value=1.066, portfolio_value=1.098, reward=5.817e-07\n",
      "episode=1887, loss=1.087e-06, cash_bias=0.1515, market_value=1.04, portfolio_value=1.013, reward=1.79e-05\n",
      "episode=1903, loss=1.119e-06, cash_bias=0.1913, market_value=1.027, portfolio_value=1.027, reward=1.733e-06\n",
      "episode=1919, loss=1.297e-06, cash_bias=0.2213, market_value=1.037, portfolio_value=1.033, reward=-3.949e-06\n",
      "episode=1935, loss=1.935e-06, cash_bias=0.1932, market_value=1.045, portfolio_value=1.07, reward=3.374e-05\n",
      "episode=1951, loss=2.124e-06, cash_bias=0.1303, market_value=1.029, portfolio_value=1.014, reward=4.729e-06\n",
      "episode=1967, loss=2.666e-06, cash_bias=0.173, market_value=1.024, portfolio_value=1.014, reward=-6.69e-07\n",
      "episode=1983, loss=1.684e-06, cash_bias=0.13, market_value=1.038, portfolio_value=1.033, reward=7.993e-06\n",
      "episode=1999, loss=9.791e-07, cash_bias=0.1569, market_value=1.048, portfolio_value=1.027, reward=1.334e-05\n",
      "episode=2015, loss=1.002e-06, cash_bias=0.2715, market_value=1.046, portfolio_value=1.04, reward=1.391e-05\n",
      "episode=2031, loss=9.319e-07, cash_bias=0.1717, market_value=1.028, portfolio_value=1.033, reward=-1.608e-05\n",
      "episode=2047, loss=1.007e-06, cash_bias=0.08331, market_value=1.033, portfolio_value=1.053, reward=1.728e-05\n",
      "episode=2063, loss=9.724e-07, cash_bias=0.1487, market_value=1.005, portfolio_value=0.9965, reward=1.65e-05\n",
      "episode=2079, loss=6.788e-07, cash_bias=0.1304, market_value=1.025, portfolio_value=1.022, reward=-2.112e-06\n",
      "episode=2095, loss=4.972e-07, cash_bias=0.1568, market_value=1.054, portfolio_value=1.068, reward=1.872e-06\n",
      "episode=2111, loss=2.66e-07, cash_bias=0.1933, market_value=1.018, portfolio_value=1.031, reward=8.228e-06\n",
      "episode=2127, loss=1.491e-07, cash_bias=0.2437, market_value=1.053, portfolio_value=1.03, reward=1.473e-05\n",
      "episode=2143, loss=2.632e-07, cash_bias=0.1542, market_value=1.037, portfolio_value=1.055, reward=-7.194e-06\n",
      "episode=2159, loss=4.394e-07, cash_bias=0.06188, market_value=1.035, portfolio_value=1.01, reward=-9.957e-06\n",
      "episode=2175, loss=4.817e-07, cash_bias=0.2341, market_value=1.038, portfolio_value=1.048, reward=7.309e-06\n",
      "episode=2191, loss=6.996e-07, cash_bias=0.07794, market_value=1.022, portfolio_value=1.038, reward=1.942e-06\n",
      "episode=2207, loss=5.567e-07, cash_bias=0.2646, market_value=1.051, portfolio_value=1.081, reward=7.263e-06\n",
      "episode=2223, loss=1.803e-07, cash_bias=0.1394, market_value=1.028, portfolio_value=1.053, reward=5.756e-06\n",
      "episode=2239, loss=9.63e-08, cash_bias=0.1173, market_value=1.019, portfolio_value=1.023, reward=1.764e-05\n",
      "episode=2255, loss=1.725e-07, cash_bias=0.1631, market_value=1.027, portfolio_value=1.053, reward=3.61e-06\n",
      "episode=2271, loss=1.813e-07, cash_bias=0.1435, market_value=1.029, portfolio_value=1.052, reward=1.009e-05\n",
      "episode=2287, loss=1.185e-07, cash_bias=0.1245, market_value=1.044, portfolio_value=1.073, reward=-3.952e-07\n",
      "episode=2303, loss=2.394e-08, cash_bias=0.1262, market_value=1.025, portfolio_value=1.042, reward=-7.366e-06\n",
      "episode=2319, loss=1.461e-08, cash_bias=0.2666, market_value=1.055, portfolio_value=1.06, reward=1.587e-05\n",
      "episode=2335, loss=1.875e-08, cash_bias=0.2555, market_value=1.055, portfolio_value=1.028, reward=8.074e-06\n",
      "episode=2351, loss=1.371e-08, cash_bias=0.1835, market_value=1.039, portfolio_value=1.038, reward=1.625e-05\n",
      "episode=2367, loss=2.605e-09, cash_bias=0.08092, market_value=1.066, portfolio_value=1.065, reward=2.183e-06\n",
      "episode=2383, loss=3.74e-09, cash_bias=0.2368, market_value=1.036, portfolio_value=1.053, reward=1.976e-05\n",
      "episode=2399, loss=7.191e-09, cash_bias=0.1492, market_value=1.038, portfolio_value=1.051, reward=-4.787e-06\n",
      "episode=2415, loss=1.293e-08, cash_bias=0.2685, market_value=1.045, portfolio_value=1.057, reward=9.748e-06\n",
      "episode=2431, loss=3.616e-08, cash_bias=0.191, market_value=1.036, portfolio_value=1.034, reward=-8.151e-06\n",
      "episode=2447, loss=1.482e-08, cash_bias=0.2049, market_value=1.028, portfolio_value=1.015, reward=6.08e-06\n",
      "episode=2463, loss=3.906e-09, cash_bias=0.1249, market_value=1.034, portfolio_value=1.008, reward=5.39e-06\n"
     ]
    },
    {
     "name": "stdout",
     "output_type": "stream",
     "text": [
      "episode=2479, loss=2.096e-08, cash_bias=0.143, market_value=1.029, portfolio_value=1.006, reward=9.711e-06\n",
      "episode=2495, loss=4.603e-08, cash_bias=0.156, market_value=1.028, portfolio_value=1.025, reward=1.01e-05\n",
      "episode=2511, loss=6.008e-08, cash_bias=0.09307, market_value=1.045, portfolio_value=1.047, reward=3.771e-05\n",
      "episode=2527, loss=7.697e-08, cash_bias=0.1685, market_value=1.031, portfolio_value=1.037, reward=-2.185e-05\n",
      "episode=2543, loss=1.643e-08, cash_bias=0.2049, market_value=1.033, portfolio_value=1.008, reward=-1.196e-05\n",
      "episode=2559, loss=6.044e-09, cash_bias=0.1816, market_value=1.034, portfolio_value=1.044, reward=2.133e-05\n",
      "episode=2575, loss=4.816e-09, cash_bias=0.2035, market_value=1.049, portfolio_value=1.038, reward=1.255e-05\n",
      "episode=2591, loss=1.615e-07, cash_bias=0.1026, market_value=1.043, portfolio_value=1.035, reward=5.64e-06\n",
      "episode=2607, loss=1.903e-08, cash_bias=0.09658, market_value=1.019, portfolio_value=1.021, reward=2.561e-06\n",
      "episode=2623, loss=2.801e-08, cash_bias=0.175, market_value=1.037, portfolio_value=1.034, reward=-1.113e-05\n",
      "episode=2639, loss=3.812e-08, cash_bias=0.06637, market_value=1.054, portfolio_value=1.056, reward=2.549e-05\n",
      "episode=2655, loss=3.511e-08, cash_bias=0.1459, market_value=1.025, portfolio_value=1.046, reward=-3.178e-06\n",
      "episode=2671, loss=4.848e-08, cash_bias=0.2266, market_value=1.055, portfolio_value=1.038, reward=-5.498e-06\n",
      "episode=2687, loss=4.146e-08, cash_bias=0.2478, market_value=1.031, portfolio_value=1.034, reward=2.729e-05\n",
      "episode=2703, loss=5.108e-08, cash_bias=0.09168, market_value=1.024, portfolio_value=1.008, reward=-8.518e-06\n",
      "episode=2719, loss=3.367e-08, cash_bias=0.1389, market_value=1.043, portfolio_value=1.07, reward=1.101e-05\n",
      "episode=2735, loss=5.237e-08, cash_bias=0.2203, market_value=1.059, portfolio_value=1.04, reward=-6.147e-06\n",
      "episode=2751, loss=7.638e-08, cash_bias=0.09885, market_value=1.036, portfolio_value=1.028, reward=-4.593e-06\n"
     ]
    },
    {
     "ename": "KeyboardInterrupt",
     "evalue": "",
     "output_type": "error",
     "traceback": [
      "\u001b[0;31m---------------------------------------------------------------------------\u001b[0m",
      "\u001b[0;31mKeyboardInterrupt\u001b[0m                         Traceback (most recent call last)",
      "\u001b[0;32m<ipython-input-16-8b517cf5393f>\u001b[0m in \u001b[0;36m<module>\u001b[0;34m()\u001b[0m\n\u001b[1;32m     36\u001b[0m                 \u001b[0mstates\u001b[0m\u001b[0;34m.\u001b[0m\u001b[0mappend\u001b[0m\u001b[0;34m(\u001b[0m\u001b[0mstate\u001b[0m\u001b[0;34m)\u001b[0m\u001b[0;34m\u001b[0m\u001b[0m\n\u001b[1;32m     37\u001b[0m \u001b[0;34m\u001b[0m\u001b[0m\n\u001b[0;32m---> 38\u001b[0;31m                 \u001b[0mmu\u001b[0m\u001b[0;34m,\u001b[0m \u001b[0msigma_sq\u001b[0m\u001b[0;34m,\u001b[0m \u001b[0mv\u001b[0m \u001b[0;34m=\u001b[0m \u001b[0mmodel\u001b[0m\u001b[0;34m(\u001b[0m\u001b[0mstate\u001b[0m\u001b[0;34m)\u001b[0m\u001b[0;34m\u001b[0m\u001b[0m\n\u001b[0m\u001b[1;32m     39\u001b[0m                 \u001b[0meps\u001b[0m \u001b[0;34m=\u001b[0m \u001b[0mtorch\u001b[0m\u001b[0;34m.\u001b[0m\u001b[0mrandn\u001b[0m\u001b[0;34m(\u001b[0m\u001b[0mmu\u001b[0m\u001b[0;34m.\u001b[0m\u001b[0msize\u001b[0m\u001b[0;34m(\u001b[0m\u001b[0;34m)\u001b[0m\u001b[0;34m)\u001b[0m\u001b[0;34m\u001b[0m\u001b[0m\n\u001b[1;32m     40\u001b[0m                 \u001b[0maction\u001b[0m \u001b[0;34m=\u001b[0m \u001b[0;34m(\u001b[0m\u001b[0mmu\u001b[0m \u001b[0;34m+\u001b[0m \u001b[0msigma_sq\u001b[0m\u001b[0;34m.\u001b[0m\u001b[0msqrt\u001b[0m\u001b[0;34m(\u001b[0m\u001b[0;34m)\u001b[0m \u001b[0;34m*\u001b[0m \u001b[0mVariable\u001b[0m\u001b[0;34m(\u001b[0m\u001b[0meps\u001b[0m\u001b[0;34m)\u001b[0m\u001b[0;34m)\u001b[0m\u001b[0;34m\u001b[0m\u001b[0m\n",
      "\u001b[0;32m~/.pyenv/versions/3.6.0/envs/jupyter3/lib/python3.6/site-packages/torch/nn/modules/module.py\u001b[0m in \u001b[0;36m__call__\u001b[0;34m(self, *input, **kwargs)\u001b[0m\n\u001b[1;32m    204\u001b[0m \u001b[0;34m\u001b[0m\u001b[0m\n\u001b[1;32m    205\u001b[0m     \u001b[0;32mdef\u001b[0m \u001b[0m__call__\u001b[0m\u001b[0;34m(\u001b[0m\u001b[0mself\u001b[0m\u001b[0;34m,\u001b[0m \u001b[0;34m*\u001b[0m\u001b[0minput\u001b[0m\u001b[0;34m,\u001b[0m \u001b[0;34m**\u001b[0m\u001b[0mkwargs\u001b[0m\u001b[0;34m)\u001b[0m\u001b[0;34m:\u001b[0m\u001b[0;34m\u001b[0m\u001b[0m\n\u001b[0;32m--> 206\u001b[0;31m         \u001b[0mresult\u001b[0m \u001b[0;34m=\u001b[0m \u001b[0mself\u001b[0m\u001b[0;34m.\u001b[0m\u001b[0mforward\u001b[0m\u001b[0;34m(\u001b[0m\u001b[0;34m*\u001b[0m\u001b[0minput\u001b[0m\u001b[0;34m,\u001b[0m \u001b[0;34m**\u001b[0m\u001b[0mkwargs\u001b[0m\u001b[0;34m)\u001b[0m\u001b[0;34m\u001b[0m\u001b[0m\n\u001b[0m\u001b[1;32m    207\u001b[0m         \u001b[0;32mfor\u001b[0m \u001b[0mhook\u001b[0m \u001b[0;32min\u001b[0m \u001b[0mself\u001b[0m\u001b[0;34m.\u001b[0m\u001b[0m_forward_hooks\u001b[0m\u001b[0;34m.\u001b[0m\u001b[0mvalues\u001b[0m\u001b[0;34m(\u001b[0m\u001b[0;34m)\u001b[0m\u001b[0;34m:\u001b[0m\u001b[0;34m\u001b[0m\u001b[0m\n\u001b[1;32m    208\u001b[0m             \u001b[0mhook_result\u001b[0m \u001b[0;34m=\u001b[0m \u001b[0mhook\u001b[0m\u001b[0;34m(\u001b[0m\u001b[0mself\u001b[0m\u001b[0;34m,\u001b[0m \u001b[0minput\u001b[0m\u001b[0;34m,\u001b[0m \u001b[0mresult\u001b[0m\u001b[0;34m)\u001b[0m\u001b[0;34m\u001b[0m\u001b[0m\n",
      "\u001b[0;32m<ipython-input-9-bdef69afc62b>\u001b[0m in \u001b[0;36mforward\u001b[0;34m(self, inputs)\u001b[0m\n\u001b[1;32m     22\u001b[0m     \u001b[0;32mdef\u001b[0m \u001b[0mforward\u001b[0m\u001b[0;34m(\u001b[0m\u001b[0mself\u001b[0m\u001b[0;34m,\u001b[0m \u001b[0minputs\u001b[0m\u001b[0;34m)\u001b[0m\u001b[0;34m:\u001b[0m\u001b[0;34m\u001b[0m\u001b[0m\n\u001b[1;32m     23\u001b[0m         \u001b[0;31m# actor\u001b[0m\u001b[0;34m\u001b[0m\u001b[0;34m\u001b[0m\u001b[0m\n\u001b[0;32m---> 24\u001b[0;31m         \u001b[0mx\u001b[0m \u001b[0;34m=\u001b[0m \u001b[0mF\u001b[0m\u001b[0;34m.\u001b[0m\u001b[0mrelu\u001b[0m\u001b[0;34m(\u001b[0m\u001b[0mself\u001b[0m\u001b[0;34m.\u001b[0m\u001b[0mconv1\u001b[0m\u001b[0;34m(\u001b[0m\u001b[0minputs\u001b[0m\u001b[0;34m)\u001b[0m\u001b[0;34m)\u001b[0m\u001b[0;34m\u001b[0m\u001b[0m\n\u001b[0m\u001b[1;32m     25\u001b[0m         \u001b[0mx\u001b[0m \u001b[0;34m=\u001b[0m \u001b[0mF\u001b[0m\u001b[0;34m.\u001b[0m\u001b[0mrelu\u001b[0m\u001b[0;34m(\u001b[0m\u001b[0mself\u001b[0m\u001b[0;34m.\u001b[0m\u001b[0mconv2\u001b[0m\u001b[0;34m(\u001b[0m\u001b[0mx\u001b[0m\u001b[0;34m)\u001b[0m\u001b[0;34m)\u001b[0m\u001b[0;34m\u001b[0m\u001b[0m\n\u001b[1;32m     26\u001b[0m         \u001b[0mx\u001b[0m \u001b[0;34m=\u001b[0m \u001b[0mF\u001b[0m\u001b[0;34m.\u001b[0m\u001b[0mrelu\u001b[0m\u001b[0;34m(\u001b[0m\u001b[0mself\u001b[0m\u001b[0;34m.\u001b[0m\u001b[0mconv3\u001b[0m\u001b[0;34m(\u001b[0m\u001b[0mx\u001b[0m\u001b[0;34m)\u001b[0m\u001b[0;34m)\u001b[0m\u001b[0;34m\u001b[0m\u001b[0m\n",
      "\u001b[0;32m~/.pyenv/versions/3.6.0/envs/jupyter3/lib/python3.6/site-packages/torch/nn/modules/module.py\u001b[0m in \u001b[0;36m__call__\u001b[0;34m(self, *input, **kwargs)\u001b[0m\n\u001b[1;32m    204\u001b[0m \u001b[0;34m\u001b[0m\u001b[0m\n\u001b[1;32m    205\u001b[0m     \u001b[0;32mdef\u001b[0m \u001b[0m__call__\u001b[0m\u001b[0;34m(\u001b[0m\u001b[0mself\u001b[0m\u001b[0;34m,\u001b[0m \u001b[0;34m*\u001b[0m\u001b[0minput\u001b[0m\u001b[0;34m,\u001b[0m \u001b[0;34m**\u001b[0m\u001b[0mkwargs\u001b[0m\u001b[0;34m)\u001b[0m\u001b[0;34m:\u001b[0m\u001b[0;34m\u001b[0m\u001b[0m\n\u001b[0;32m--> 206\u001b[0;31m         \u001b[0mresult\u001b[0m \u001b[0;34m=\u001b[0m \u001b[0mself\u001b[0m\u001b[0;34m.\u001b[0m\u001b[0mforward\u001b[0m\u001b[0;34m(\u001b[0m\u001b[0;34m*\u001b[0m\u001b[0minput\u001b[0m\u001b[0;34m,\u001b[0m \u001b[0;34m**\u001b[0m\u001b[0mkwargs\u001b[0m\u001b[0;34m)\u001b[0m\u001b[0;34m\u001b[0m\u001b[0m\n\u001b[0m\u001b[1;32m    207\u001b[0m         \u001b[0;32mfor\u001b[0m \u001b[0mhook\u001b[0m \u001b[0;32min\u001b[0m \u001b[0mself\u001b[0m\u001b[0;34m.\u001b[0m\u001b[0m_forward_hooks\u001b[0m\u001b[0;34m.\u001b[0m\u001b[0mvalues\u001b[0m\u001b[0;34m(\u001b[0m\u001b[0;34m)\u001b[0m\u001b[0;34m:\u001b[0m\u001b[0;34m\u001b[0m\u001b[0m\n\u001b[1;32m    208\u001b[0m             \u001b[0mhook_result\u001b[0m \u001b[0;34m=\u001b[0m \u001b[0mhook\u001b[0m\u001b[0;34m(\u001b[0m\u001b[0mself\u001b[0m\u001b[0;34m,\u001b[0m \u001b[0minput\u001b[0m\u001b[0;34m,\u001b[0m \u001b[0mresult\u001b[0m\u001b[0;34m)\u001b[0m\u001b[0;34m\u001b[0m\u001b[0m\n",
      "\u001b[0;32m~/.pyenv/versions/3.6.0/envs/jupyter3/lib/python3.6/site-packages/torch/nn/modules/conv.py\u001b[0m in \u001b[0;36mforward\u001b[0;34m(self, input)\u001b[0m\n\u001b[1;32m    235\u001b[0m     \u001b[0;32mdef\u001b[0m \u001b[0mforward\u001b[0m\u001b[0;34m(\u001b[0m\u001b[0mself\u001b[0m\u001b[0;34m,\u001b[0m \u001b[0minput\u001b[0m\u001b[0;34m)\u001b[0m\u001b[0;34m:\u001b[0m\u001b[0;34m\u001b[0m\u001b[0m\n\u001b[1;32m    236\u001b[0m         return F.conv2d(input, self.weight, self.bias, self.stride,\n\u001b[0;32m--> 237\u001b[0;31m                         self.padding, self.dilation, self.groups)\n\u001b[0m\u001b[1;32m    238\u001b[0m \u001b[0;34m\u001b[0m\u001b[0m\n\u001b[1;32m    239\u001b[0m \u001b[0;34m\u001b[0m\u001b[0m\n",
      "\u001b[0;32m~/.pyenv/versions/3.6.0/envs/jupyter3/lib/python3.6/site-packages/torch/nn/functional.py\u001b[0m in \u001b[0;36mconv2d\u001b[0;34m(input, weight, bias, stride, padding, dilation, groups)\u001b[0m\n\u001b[1;32m     38\u001b[0m     f = ConvNd(_pair(stride), _pair(padding), _pair(dilation), False,\n\u001b[1;32m     39\u001b[0m                _pair(0), groups, torch.backends.cudnn.benchmark, torch.backends.cudnn.enabled)\n\u001b[0;32m---> 40\u001b[0;31m     \u001b[0;32mreturn\u001b[0m \u001b[0mf\u001b[0m\u001b[0;34m(\u001b[0m\u001b[0minput\u001b[0m\u001b[0;34m,\u001b[0m \u001b[0mweight\u001b[0m\u001b[0;34m,\u001b[0m \u001b[0mbias\u001b[0m\u001b[0;34m)\u001b[0m\u001b[0;34m\u001b[0m\u001b[0m\n\u001b[0m\u001b[1;32m     41\u001b[0m \u001b[0;34m\u001b[0m\u001b[0m\n\u001b[1;32m     42\u001b[0m \u001b[0;34m\u001b[0m\u001b[0m\n",
      "\u001b[0;31mKeyboardInterrupt\u001b[0m: "
     ]
    }
   ],
   "source": [
    "memory = ReplayMemory(params.num_steps)\n",
    "# memory = PrioritisedReplayMemory(params.num_steps)\n",
    "\n",
    "num_inputs = int(np.prod(env.observation_space.shape))\n",
    "num_outputs = int(np.prod(env.action_space.shape))\n",
    "\n",
    "state = env.reset()\n",
    "state = Variable(torch.Tensor(state).unsqueeze(0))\n",
    "done = True\n",
    "episode_length = 0\n",
    "reports = []\n",
    "\n",
    "while True:\n",
    "#     episode_length += 1\n",
    "    episode = -1\n",
    "    \n",
    "    # horizon loop\n",
    "    for t in range(params.time_horizon):\n",
    "        infos = []\n",
    "        episode_length = 0\n",
    "        # Sample data from the policy\n",
    "        while (len(memory.memory) < params.num_steps):\n",
    "            states = []\n",
    "            actions = []\n",
    "            rewards = []\n",
    "            values = []\n",
    "            returns = []\n",
    "            advantages = []\n",
    "            av_reward = 0\n",
    "            cum_reward = 0\n",
    "            cum_done = 0\n",
    "            # n steps loops\n",
    "            for step in range(params.num_steps):\n",
    "                #                 shared_obs_stats.observes(state)\n",
    "                #                 state = shared_obs_stats.normalize(state)\n",
    "                states.append(state)\n",
    "                \n",
    "                mu, sigma_sq, v = model(state)\n",
    "                eps = torch.randn(mu.size())\n",
    "                action = (mu + sigma_sq.sqrt() * Variable(eps))\n",
    "                env_action = action.data.squeeze().numpy()\n",
    "                state, reward, done, info = env.step(env_action)\n",
    "                done = (done or episode_length >= params.max_episode_length)\n",
    "                \n",
    "                cum_reward += reward\n",
    "                reward = max(min(reward, 1), -1)\n",
    "                rewards.append(reward)\n",
    "                actions.append(action)\n",
    "                values.append(v)\n",
    "                \n",
    "                if done:\n",
    "                    episode += 1\n",
    "                    cum_done += 1\n",
    "                    av_reward += cum_reward\n",
    "                    cum_reward = 0\n",
    "                    episode_length = 0\n",
    "                    infos.append(info)\n",
    "                    state = env.reset()\n",
    "                \n",
    "                state = Variable(torch.Tensor(state).unsqueeze(0))\n",
    "                \n",
    "                if done:\n",
    "                    break\n",
    "            \n",
    "            # one last step\n",
    "            R = torch.zeros(1, 1)\n",
    "            if not done:\n",
    "                _, _, v = model(state)\n",
    "                R = v.data\n",
    "            \n",
    "            # compute returns and GAE(lambda) advantages:\n",
    "            values.append(Variable(R))\n",
    "            R = Variable(R)\n",
    "            A = Variable(torch.zeros(1, 1))\n",
    "            for i in reversed(range(len(rewards))):\n",
    "                td = rewards[i] + params.gamma*values[i+1].data[0,0] - values[i].data[0,0]\n",
    "                A = float(td) + params.gamma * params.gae_param * A\n",
    "                advantages.insert(0, A)\n",
    "                R = A + values[i]\n",
    "                returns.insert(0, R)\n",
    "            \n",
    "            # store useful info:\n",
    "            memory.push([states, actions, returns, advantages])\n",
    "\n",
    "        # perform several epochs of optimization on the sampled data\n",
    "        model_old = Model(env.observation_space.shape,\n",
    "                             env.action_space.shape)\n",
    "        model_old.load_state_dict(model.state_dict())\n",
    "        av_loss = 0\n",
    "        for k in range(params.num_epoch):\n",
    "            # cf https://github.com/openai/baselines/blob/master/baselines/pposgd/pposgd_simple.py\n",
    "            batch_states, batch_actions, batch_returns, batch_advantages = memory.sample(\n",
    "                params.batch_size)\n",
    "            \n",
    "            # old probas\n",
    "            mu_old, sigma_sq_old, v_pred_old = model_old(batch_states.detach())\n",
    "            probs_old = normal(batch_actions, mu_old, sigma_sq_old)\n",
    "            \n",
    "            # new probas\n",
    "            mu, sigma_sq, v_pred = model(batch_states)\n",
    "            probs = normal(batch_actions, mu, sigma_sq)\n",
    "            \n",
    "            # ratio\n",
    "            ratio = probs / (1e-15 + probs_old)\n",
    "            \n",
    "            # surrogate clip loss\n",
    "            surr1 = ratio * torch.cat([batch_advantages]*num_outputs,1) # surrogate from conservative policy iteration\n",
    "            surr2 = ratio.clamp(1-params.clip, 1+params.clip) * torch.cat([batch_advantages]*num_outputs,1)\n",
    "            loss_clip = -torch.mean(torch.min(surr1, surr2))\n",
    "            # should this be a mean along axis 0?\n",
    "            \n",
    "            # state-value function loss, do we even need this if they don't share params?\n",
    "            vfloss1 = (v_pred - batch_returns)**2\n",
    "            v_pred_clipped = v_pred_old + (v_pred - v_pred_old).clamp(-params.clip, params.clip)\n",
    "            vfloss2 = (v_pred_clipped - batch_returns)**2\n",
    "            loss_value = 0.5 * torch.mean(torch.max(vfloss1, vfloss2))\n",
    "            # should this be a mean along axis 0?\n",
    "            \n",
    "            # loss on entropy bonus to ensure sufficient exploration\n",
    "            loss_ent = -params.ent_coeff*torch.mean(probs*torch.log(probs+1e-5))\n",
    "            \n",
    "            # total\n",
    "            total_loss = (loss_clip + loss_value + loss_ent)\n",
    "#             total_loss = (loss_clip - loss_value + loss_ent)\n",
    "            av_loss += loss_value.data[0] / float(params.num_epoch)\n",
    "            \n",
    "            # before step, update old_model:\n",
    "            model_old.load_state_dict(model.state_dict())\n",
    "            \n",
    "            # step\n",
    "            optimizer.zero_grad()\n",
    "            total_loss.backward(retain_variables=True)\n",
    "            optimizer.step()\n",
    "        \n",
    "        # t finish, print:\n",
    "        df_infos = pd.DataFrame(infos)\n",
    "        \n",
    "        # show stats?\n",
    "#         display(df_infos[[\"cash_bias\",\"return\",\"portfolio_value\",\"market_value\"]].describe().loc[[\"min\",\"mean\",\"max\"]])\n",
    "        \n",
    "        report=OrderedDict(\n",
    "            episode=episode,\n",
    "#             reward=av_reward / float(cum_done),\n",
    "            loss=av_loss,\n",
    "            cash_bias=df_infos.cash_bias.mean(),\n",
    "            market_value=df_infos.market_value.mean(),\n",
    "            portfolio_value=df_infos.portfolio_value.mean(),\n",
    "            reward=df_infos.reward.mean()\n",
    "        )\n",
    "        \n",
    "        s = ', '.join(['{}={:2.4g}'.format(key,value) for key,value in report.items()])\n",
    "        print(s)\n",
    "        \n",
    "        reports.append(report)\n",
    "    \n",
    "        memory.clear()\n",
    "        torch.save(model_old, save_path)\n"
   ]
  },
  {
   "cell_type": "code",
   "execution_count": 17,
   "metadata": {
    "ExecuteTime": {
     "end_time": "2017-08-05T09:16:02.066371Z",
     "start_time": "2017-08-05T09:16:01.156337Z"
    }
   },
   "outputs": [
    {
     "data": {
      "image/png": "[encoded data removed]",
      "text/plain": [
       "<matplotlib.figure.Figure at 0x7ffaebe4e940>"
      ]
     },
     "metadata": {},
     "output_type": "display_data"
    }
   ],
   "source": [
    "# show progress\n",
    "df=pd.DataFrame(reports)\n",
    "g = sns.jointplot(x=\"episode\", y=\"loss\", data=df, kind=\"reg\", size=10)\n",
    "plt.show()"
   ]
  },
  {
   "cell_type": "code",
   "execution_count": null,
   "metadata": {
    "ExecuteTime": {
     "end_time": "2017-08-05T07:57:14.883453Z",
     "start_time": "2017-08-05T07:57:14.841057Z"
    },
    "collapsed": true
   },
   "outputs": [],
   "source": []
  },
  {
   "cell_type": "code",
   "execution_count": 23,
   "metadata": {
    "ExecuteTime": {
     "end_time": "2017-08-05T09:16:55.712008Z",
     "start_time": "2017-08-05T09:16:52.740838Z"
    }
   },
   "outputs": [
    {
     "data": {
      "image/png": "[encoded data removed]",
      "text/plain": [
       "<matplotlib.figure.Figure at 0x7ffb08e33470>"
      ]
     },
     "metadata": {},
     "output_type": "display_data"
    }
   ],
   "source": [
    "# env_test = env\n",
    "\n",
    "# Test\n",
    "model.train(False)\n",
    "state = env_test.reset()\n",
    "for i in range(250):\n",
    "    state = Variable(torch.Tensor(state).unsqueeze(0))\n",
    "    mu, sigma_sq, v = model(state)\n",
    "    eps = torch.randn(mu.size())\n",
    "    action = (mu + sigma_sq.sqrt() * Variable(eps))\n",
    "    env_action = action.data.squeeze().numpy()\n",
    "    state, reward, done, info = env_test.step(env_action)\n",
    "    if done:\n",
    "        break\n",
    "        \n",
    "env_test.plot()"
   ]
  },
  {
   "cell_type": "code",
   "execution_count": null,
   "metadata": {
    "ExecuteTime": {
     "end_time": "2017-08-05T08:03:17.463005Z",
     "start_time": "2017-08-05T08:02:49.857Z"
    },
    "collapsed": true
   },
   "outputs": [],
   "source": []
  },
  {
   "cell_type": "code",
   "execution_count": null,
   "metadata": {
    "ExecuteTime": {
     "end_time": "2017-08-05T06:59:47.486363Z",
     "start_time": "2017-08-05T06:59:47.404265Z"
    },
    "collapsed": true
   },
   "outputs": [],
   "source": []
  },
  {
   "cell_type": "code",
   "execution_count": null,
   "metadata": {
    "ExecuteTime": {
     "end_time": "2017-08-05T06:55:09.249081Z",
     "start_time": "2017-08-05T06:55:09.199392Z"
    },
    "collapsed": true
   },
   "outputs": [],
   "source": []
  },
  {
   "cell_type": "code",
   "execution_count": null,
   "metadata": {
    "collapsed": true
   },
   "outputs": [],
   "source": []
  }
 ],
 "metadata": {
  "kernelspec": {
   "display_name": "jupyter3",
   "language": "python",
   "name": "jupyter3"
  },
  "language_info": {
   "codemirror_mode": {
    "name": "ipython",
    "version": 3
   },
   "file_extension": ".py",
   "mimetype": "text/x-python",
   "name": "python",
   "nbconvert_exporter": "python",
   "pygments_lexer": "ipython3",
   "version": "3.6.0"
  }
 },
 "nbformat": 4,
 "nbformat_minor": 2
}
