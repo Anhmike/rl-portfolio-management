{
 "cells": [
  {
   "cell_type": "code",
   "execution_count": 1,
   "metadata": {
    "ExecuteTime": {
     "end_time": "2017-07-23T10:09:11.251965Z",
     "start_time": "2017-07-23T18:09:10.587905+08:00"
    }
   },
   "outputs": [
    {
     "name": "stderr",
     "output_type": "stream",
     "text": [
      "INFO:__main__:__main__ logger started.\n"
     ]
    }
   ],
   "source": [
    "# plotting\n",
    "%matplotlib inline\n",
    "from matplotlib import pyplot as plt\n",
    "import seaborn as sns\n",
    "plt.style.use('ggplot')\n",
    "\n",
    "# numeric\n",
    "import numpy as np\n",
    "from numpy import random\n",
    "import pandas as pd\n",
    "\n",
    "# utils\n",
    "from tqdm import tqdm_notebook as tqdm\n",
    "from collections import Counter\n",
    "import tempfile\n",
    "import logging\n",
    "import time\n",
    "import datetime\n",
    "\n",
    "# logging\n",
    "logger = log = logging.getLogger(__name__)\n",
    "log.setLevel(logging.INFO)\n",
    "logging.basicConfig()\n",
    "log.info('%s logger started.', __name__)"
   ]
  },
  {
   "cell_type": "code",
   "execution_count": 2,
   "metadata": {
    "ExecuteTime": {
     "end_time": "2017-07-23T10:09:11.269736Z",
     "start_time": "2017-07-23T18:09:11.253715+08:00"
    },
    "collapsed": true
   },
   "outputs": [],
   "source": [
    "import os\n",
    "os.sys.path.append(os.path.abspath('.'))\n",
    "%reload_ext autoreload\n",
    "%autoreload 2"
   ]
  },
  {
   "cell_type": "code",
   "execution_count": 3,
   "metadata": {
    "ExecuteTime": {
     "end_time": "2017-07-23T10:09:11.284126Z",
     "start_time": "2017-07-23T18:09:11.271919+08:00"
    },
    "collapsed": true
   },
   "outputs": [],
   "source": [
    "# reinforcement learning"
   ]
  },
  {
   "cell_type": "code",
   "execution_count": 4,
   "metadata": {
    "ExecuteTime": {
     "end_time": "2017-07-23T10:09:11.445252Z",
     "start_time": "2017-07-23T18:09:11.285854+08:00"
    }
   },
   "outputs": [],
   "source": [
    "from baselines.common import set_global_seeds\n",
    "from baselines import bench\n",
    "from baselines.common.mpi_fork import mpi_fork\n",
    "import os.path as osp\n",
    "import gym, logging\n",
    "from baselines import logger\n",
    "import sys"
   ]
  },
  {
   "cell_type": "code",
   "execution_count": 5,
   "metadata": {
    "ExecuteTime": {
     "end_time": "2017-07-23T10:09:11.466415Z",
     "start_time": "2017-07-23T18:09:11.448177+08:00"
    },
    "collapsed": true
   },
   "outputs": [],
   "source": [
    "window_length = 50\n",
    "seed=0\n",
    "num_timesteps=2e6\n",
    "save_path= 'outputs/baselines_PPO/{}/'.format('2017-07-22_')"
   ]
  },
  {
   "cell_type": "markdown",
   "metadata": {},
   "source": [
    "# Env"
   ]
  },
  {
   "cell_type": "code",
   "execution_count": 6,
   "metadata": {
    "ExecuteTime": {
     "end_time": "2017-07-23T10:09:11.617740Z",
     "start_time": "2017-07-23T18:09:11.468059+08:00"
    }
   },
   "outputs": [],
   "source": [
    "from src.environments.portfolio import PortfolioEnv\n",
    "df_train = pd.read_hdf('./data/poloniex_30m.hf',key='train')\n",
    "env_raw = PortfolioEnv(\n",
    "    df=df_train,\n",
    "    steps=1440, \n",
    "    scale=True, \n",
    "    augment=0.0000, # let just overfit first,\n",
    "    trading_cost=0, # let just overfit first,\n",
    "    window_length = window_length,\n",
    "    \n",
    ") "
   ]
  },
  {
   "cell_type": "markdown",
   "metadata": {},
   "source": [
    "# Model"
   ]
  },
  {
   "cell_type": "code",
   "execution_count": 7,
   "metadata": {
    "ExecuteTime": {
     "end_time": "2017-07-23T10:09:12.765737Z",
     "start_time": "2017-07-23T18:09:11.620218+08:00"
    },
    "collapsed": true
   },
   "outputs": [],
   "source": [
    "# layer helpers from:\n",
    "# https://github.com/reinforceio/tensorforce/blob/0d07fadec03f76537a2431e17c51cd759d53b5e9/tensorforce/core/networks/layers.py#L90\n",
    "import tensorflow as tf\n",
    "from math import sqrt\n",
    "from tensorforce import util\n",
    "from tensorforce import TensorForceError\n",
    "\n",
    "def linear(x, size, bias=True, l2_regularization=0.0):\n",
    "    if util.rank(x) != 2:\n",
    "        raise TensorForceError('Invalid input rank for linear layer.')\n",
    "    with tf.variable_scope('linear'):\n",
    "        weights = tf.Variable(initial_value=tf.random_normal(shape=(x.get_shape()[1].value, size), stddev=sqrt(2.0 / (x.get_shape()[1].value + size))))\n",
    "        if l2_regularization > 0.0:\n",
    "            tf.losses.add_loss(l2_regularization * tf.nn.l2_loss(t=weights))\n",
    "        x = tf.matmul(a=x, b=weights)\n",
    "        if bias:\n",
    "            bias = tf.Variable(initial_value=tf.zeros(shape=(size,)))\n",
    "            if l2_regularization > 0.0:\n",
    "                tf.losses.add_loss(l2_regularization * tf.nn.l2_loss(t=bias))\n",
    "            x = tf.nn.bias_add(value=x, bias=bias)\n",
    "    return x\n",
    "\n",
    "def nonlinearity(x, name='relu'):\n",
    "    with tf.variable_scope('nonlinearity'):\n",
    "        if name == 'elu':\n",
    "            x = tf.nn.elu(features=x)\n",
    "        elif name == 'relu':\n",
    "            x = tf.nn.relu(features=x)\n",
    "        elif name == 'selu':\n",
    "            # https://arxiv.org/pdf/1706.02515.pdf\n",
    "            alpha = 1.6732632423543772848170429916717\n",
    "            scale = 1.0507009873554804934193349852946\n",
    "            negative = alpha * tf.nn.elu(features=x)\n",
    "            x = scale * tf.where(condition=(x >= 0.0), x=x, y=negative)\n",
    "        elif name == 'sigmoid':\n",
    "            x = tf.sigmoid(x=x)\n",
    "        elif name == 'softmax':\n",
    "            x = tf.nn.softmax(logits=x)\n",
    "        elif name == 'tanh':\n",
    "            x = tf.nn.tanh(x=x)\n",
    "        else:\n",
    "            raise TensorForceError('Invalid nonlinearity.')\n",
    "    return x\n",
    "\n",
    "def dense(x, size, bias=True, activation='relu', l2_regularization=0.0):\n",
    "    if util.rank(x) != 2:\n",
    "        raise TensorForceError('Invalid input rank for dense layer.')\n",
    "    with tf.variable_scope('dense'):\n",
    "        x = linear(x=x, size=size, bias=bias, l2_regularization=l2_regularization)\n",
    "        x = nonlinearity(x=x, name=activation)\n",
    "    return x\n",
    "\n",
    "def flatten(x):\n",
    "    with tf.variable_scope('flatten'):\n",
    "        x = tf.reshape(tensor=x, shape=(-1, util.prod(x.get_shape().as_list()[1:])))\n",
    "    return x\n",
    "\n",
    "def conv2d(x, size, window=(3,3), stride=(1,1), bias=False, activation='relu', l2_regularization=0.0, padding='SAME'):\n",
    "    if util.rank(x) != 4:\n",
    "        raise TensorForceError('Invalid input rank for conv2d layer.')\n",
    "    with tf.variable_scope('conv2d'):\n",
    "        filters = tf.Variable(initial_value=tf.random_normal(shape=(window[0], window[1], x.get_shape()[3].value, size), stddev=sqrt(2.0 / size)))\n",
    "        if l2_regularization > 0.0:\n",
    "            tf.losses.add_loss(l2_regularization * tf.nn.l2_loss(t=filters))\n",
    "        x = tf.nn.conv2d(input=x, filter=filters, strides=(1, stride[0], stride[1], 1), padding=padding)\n",
    "        if bias:\n",
    "            bias = tf.Variable(initial_value=tf.zeros(shape=(size,)))\n",
    "            if l2_regularization > 0.0:\n",
    "                tf.losses.add_loss(l2_regularization * tf.nn.l2_loss(t=bias))\n",
    "            x = tf.nn.bias_add(value=x, bias=bias)\n",
    "        x = nonlinearity(x=x, name=activation)\n",
    "    return x\n"
   ]
  },
  {
   "cell_type": "code",
   "execution_count": 8,
   "metadata": {
    "ExecuteTime": {
     "end_time": "2017-07-23T10:09:12.904604Z",
     "start_time": "2017-07-23T18:09:12.767548+08:00"
    },
    "collapsed": true
   },
   "outputs": [],
   "source": [
    "from baselines.common.mpi_running_mean_std import RunningMeanStd\n",
    "import baselines.common.tf_util as U\n",
    "import tensorflow as tf\n",
    "import gym\n",
    "from baselines.common.distributions import make_pdtype\n",
    "\n",
    "\n",
    "class CnnPolicy(object):\n",
    "    recurrent = False\n",
    "    def __init__(self, name, ob_space, ac_space, reuse=False):\n",
    "        with tf.variable_scope(name,  reuse=reuse):\n",
    "            self._init(ob_space, ac_space)\n",
    "            self.scope = tf.get_variable_scope().name\n",
    "\n",
    "    def _init(self, ob_space, ac_space):\n",
    "        assert isinstance(ob_space, gym.spaces.Box)\n",
    "\n",
    "        self.pdtype = pdtype = make_pdtype(ac_space)\n",
    "        sequence_length = None\n",
    "\n",
    "        ob = U.get_placeholder(name=\"ob\", dtype=tf.float32, shape=[sequence_length] + list(ob_space.shape))\n",
    "    \n",
    "        x = ob / 255.0\n",
    "        \n",
    "        x = conv2d(x=x, size=2, window=(1,3), bias=True, activation='relu', l2_regularization=1e-8, padding='VALID')\n",
    "        x = conv2d(x=x, size=20, window=(1,window_length-2), bias=True, activation='relu', l2_regularization=1e-8, padding='VALID')\n",
    "        x = conv2d(x=x, size=1, window=(1,1), bias=True, activation='relu', l2_regularization=1e-8, padding='VALID')\n",
    "        x = flatten(x)\n",
    "        x = dense(x, size=env.action_space.shape[0],activation='relu', l2_regularization=1e-8)\n",
    "        x = nonlinearity(x,name='softmax')\n",
    "\n",
    "\n",
    "        logits = U.dense(x, pdtype.param_shape()[0], \"logits\", U.normc_initializer(0.01))\n",
    "        self.pd = pdtype.pdfromflat(logits)\n",
    "        self.vpred = U.dense(x, 1, \"value\", U.normc_initializer(1.0))[:,0]\n",
    "\n",
    "        self.state_in = []\n",
    "        self.state_out = []\n",
    "\n",
    "        stochastic = tf.placeholder(dtype=tf.bool, shape=())\n",
    "        ac = self.pd.sample() # XXX\n",
    "        self._act = U.function([stochastic, ob], [ac, self.vpred])\n",
    "\n",
    "    def act(self, stochastic, ob):\n",
    "        ac1, vpred1 =  self._act(stochastic, ob[None])\n",
    "        return ac1[0], vpred1[0]\n",
    "    def get_variables(self):\n",
    "        return tf.get_collection(tf.GraphKeys.VARIABLES, self.scope)\n",
    "    def get_trainable_variables(self):\n",
    "        return tf.get_collection(tf.GraphKeys.TRAINABLE_VARIABLES, self.scope)\n",
    "    def get_initial_state(self):\n",
    "        return []\n",
    "\n",
    "    \n",
    "def policy_fn(name, ob_space, ac_space):  #pylint: disable=W0613\n",
    "    return CnnPolicy(\n",
    "        name=name, ob_space=ob_space, ac_space=ac_space)"
   ]
  },
  {
   "cell_type": "markdown",
   "metadata": {},
   "source": [
    "# Train"
   ]
  },
  {
   "cell_type": "code",
   "execution_count": 9,
   "metadata": {
    "ExecuteTime": {
     "end_time": "2017-07-23T10:09:12.941241Z",
     "start_time": "2017-07-23T18:09:12.909883+08:00"
    }
   },
   "outputs": [
    {
     "name": "stdout",
     "output_type": "stream",
     "text": [
      "Logging to /tmp/openai-2017-07-23-18-09-12-937124\n"
     ]
    }
   ],
   "source": [
    "from baselines.pposgd import pposgd_simple, cnn_policy, mlp_policy\n",
    "import baselines.common.tf_util as U\n",
    "\n",
    "\n",
    "sess = U.single_threaded_session()\n",
    "sess.__enter__()\n",
    "logger.session().__enter__()\n",
    "gym.logger.setLevel(logging.WARN)\n",
    "\n",
    "env = bench.Monitor(env_raw, osp.join(logger.get_dir(), \"%i.monitor.json\" % 0))\n",
    "env.seed(seed)\n",
    "\n",
    "rank=0\n",
    "set_global_seeds(seed)"
   ]
  },
  {
   "cell_type": "code",
   "execution_count": 10,
   "metadata": {
    "ExecuteTime": {
     "end_time": "2017-07-23T10:09:12.963477Z",
     "start_time": "2017-07-23T18:09:12.943064+08:00"
    },
    "collapsed": true
   },
   "outputs": [],
   "source": [
    "# U.load_state(os.path.join(save_path, \"saved\"))"
   ]
  },
  {
   "cell_type": "code",
   "execution_count": 11,
   "metadata": {
    "ExecuteTime": {
     "end_time": "2017-07-23T10:09:12.985759Z",
     "start_time": "2017-07-23T18:09:12.965000+08:00"
    },
    "collapsed": true
   },
   "outputs": [],
   "source": [
    "from baselines.common.mpi_adam import MpiAdam\n",
    "from baselines.common.mpi_moments import mpi_moments\n",
    "from baselines.common import Dataset, explained_variance, fmt_row, zipsame\n",
    "from baselines import logger\n",
    "from collections import deque"
   ]
  },
  {
   "cell_type": "code",
   "execution_count": 12,
   "metadata": {
    "ExecuteTime": {
     "end_time": "2017-07-23T10:09:13.658564Z",
     "start_time": "2017-07-23T18:09:12.987480+08:00"
    }
   },
   "outputs": [
    {
     "name": "stdout",
     "output_type": "stream",
     "text": [
      "WARNING:tensorflow:VARIABLES collection name is deprecated, please use GLOBAL_VARIABLES instead; VARIABLES will be removed after 2017-03-02.\n"
     ]
    },
    {
     "name": "stderr",
     "output_type": "stream",
     "text": [
      "WARNING:tensorflow:VARIABLES collection name is deprecated, please use GLOBAL_VARIABLES instead; VARIABLES will be removed after 2017-03-02.\n",
      "[2017-07-23 18:09:13,597] VARIABLES collection name is deprecated, please use GLOBAL_VARIABLES instead; VARIABLES will be removed after 2017-03-02.\n"
     ]
    },
    {
     "name": "stdout",
     "output_type": "stream",
     "text": [
      "WARNING:tensorflow:VARIABLES collection name is deprecated, please use GLOBAL_VARIABLES instead; VARIABLES will be removed after 2017-03-02.\n"
     ]
    },
    {
     "name": "stderr",
     "output_type": "stream",
     "text": [
      "WARNING:tensorflow:VARIABLES collection name is deprecated, please use GLOBAL_VARIABLES instead; VARIABLES will be removed after 2017-03-02.\n",
      "[2017-07-23 18:09:13,599] VARIABLES collection name is deprecated, please use GLOBAL_VARIABLES instead; VARIABLES will be removed after 2017-03-02.\n"
     ]
    }
   ],
   "source": [
    "# modified from https://github.com/openai/baselines/blob/master/baselines/pposgd/pposgd_simple.py#L90\n",
    "\n",
    "# env\n",
    "# policy_fn\n",
    "max_timesteps=num_timesteps\n",
    "timesteps_per_batch=256\n",
    "clip_param=0.2\n",
    "entcoeff=0.01\n",
    "optim_epochs=4\n",
    "optim_stepsize=1e-3\n",
    "optim_batchsize=64\n",
    "gamma=0.99\n",
    "lam=0.95\n",
    "schedule='linear'\n",
    "max_episodes=0\n",
    "max_iters=0\n",
    "max_seconds=0  # time constraint\n",
    "callback=None # you can do anything in the callback, since it takes locals(), globals()\n",
    "        \n",
    "# Setup losses and stuff\n",
    "# ----------------------------------------\n",
    "ob_space = env.observation_space\n",
    "ac_space = env.action_space\n",
    "pi = policy_fn(\"pi\", ob_space, ac_space) # Construct network for new policy\n",
    "oldpi = policy_fn(\"oldpi\", ob_space, ac_space) # Network for old policy\n",
    "atarg = tf.placeholder(dtype=tf.float32, shape=[None]) # Target advantage function (if applicable)\n",
    "ret = tf.placeholder(dtype=tf.float32, shape=[None]) # Empirical return\n",
    "\n",
    "lrmult = tf.placeholder(name='lrmult', dtype=tf.float32, shape=[]) # learning rate multiplier, updated with schedule\n",
    "clip_param = clip_param * lrmult # Annealed cliping parameter epislon\n",
    "\n",
    "ob = U.get_placeholder_cached(name=\"ob\")\n",
    "ac = pi.pdtype.sample_placeholder([None])\n",
    "\n",
    "kloldnew = oldpi.pd.kl(pi.pd)\n",
    "ent = pi.pd.entropy()\n",
    "meankl = U.mean(kloldnew)\n",
    "meanent = U.mean(ent)\n",
    "pol_entpen = (-entcoeff) * meanent\n",
    "\n",
    "ratio = tf.exp(pi.pd.logp(ac) - oldpi.pd.logp(ac)) # pnew / pold\n",
    "surr1 = ratio * atarg # surrogate from conservative policy iteration\n",
    "surr2 = U.clip(ratio, 1.0 - clip_param, 1.0 + clip_param) * atarg #\n",
    "pol_surr = - U.mean(tf.minimum(surr1, surr2)) # PPO's pessimistic surrogate (L^CLIP)\n",
    "vfloss1 = tf.square(pi.vpred - ret)\n",
    "vpredclipped = oldpi.vpred + tf.clip_by_value(pi.vpred - oldpi.vpred, -clip_param, clip_param)\n",
    "vfloss2 = tf.square(vpredclipped - ret)\n",
    "vf_loss = .5 * U.mean(tf.maximum(vfloss1, vfloss2)) # we do the same clipping-based trust region for the value function\n",
    "total_loss = pol_surr + pol_entpen + vf_loss\n",
    "losses = [pol_surr, pol_entpen, vf_loss, meankl, meanent]\n",
    "loss_names = [\"pol_surr\", \"pol_entpen\", \"vf_loss\", \"kl\", \"ent\"]\n",
    "\n",
    "var_list = pi.get_trainable_variables()\n",
    "lossandgrad = U.function([ob, ac, atarg, ret, lrmult], losses + [U.flatgrad(total_loss, var_list)])\n",
    "adam = MpiAdam(var_list)\n",
    "\n",
    "assign_old_eq_new = U.function([],[], updates=[tf.assign(oldv, newv)\n",
    "    for (oldv, newv) in zipsame(oldpi.get_variables(), pi.get_variables())])\n",
    "compute_losses = U.function([ob, ac, atarg, ret, lrmult], losses)\n",
    "\n",
    "U.initialize()\n",
    "adam.sync()\n",
    "\n",
    "# Prepare for rollouts\n",
    "# ----------------------------------------\n",
    "seg_gen = pposgd_simple.traj_segment_generator(pi, env, timesteps_per_batch, stochastic=True)\n",
    "\n",
    "episodes_so_far = 0\n",
    "timesteps_so_far = 0\n",
    "iters_so_far = 0\n",
    "tstart = time.time()\n",
    "lenbuffer = deque(maxlen=100) # rolling buffer for episode lengths\n",
    "rewbuffer = deque(maxlen=100) # rolling buffer for episode rewards\n",
    "\n",
    "assert sum([max_iters>0, max_timesteps>0, max_episodes>0, max_seconds>0])==1, \"Only one time constraint permitted\"\n",
    "\n"
   ]
  },
  {
   "cell_type": "code",
   "execution_count": 13,
   "metadata": {
    "ExecuteTime": {
     "end_time": "2017-07-23T10:09:13.692052Z",
     "start_time": "2017-07-23T18:09:13.660699+08:00"
    },
    "collapsed": true
   },
   "outputs": [],
   "source": [
    "from mpi4py import MPI"
   ]
  },
  {
   "cell_type": "code",
   "execution_count": 14,
   "metadata": {
    "ExecuteTime": {
     "end_time": "2017-07-23T10:10:17.287802Z",
     "start_time": "2017-07-23T18:09:13.694505+08:00"
    }
   },
   "outputs": [
    {
     "name": "stdout",
     "output_type": "stream",
     "text": [
      "********** Iteration 0 ************\n",
      "------------------------------\n",
      "| loss_pol_surr   | -0.00949 |\n",
      "| loss_pol_entpen | -0.0856  |\n",
      "| loss_vf_loss    | 1.39e-05 |\n",
      "| loss_kl         | 0.00168  |\n",
      "| loss_ent        | 8.56     |\n",
      "| ev_tdlam_before | 0        |\n",
      "| EpLenMean       | nan      |\n",
      "| EpRewMean       | nan      |\n",
      "| EpThisIter      | 0        |\n",
      "| EpisodesSoFar   | 0        |\n",
      "| TimestepsSoFar  | 0        |\n",
      "| TimeElapsed     | 1.69     |\n",
      "------------------------------\n",
      "********** Iteration 1 ************\n"
     ]
    },
    {
     "name": "stderr",
     "output_type": "stream",
     "text": [
      "/home/isisilon/.pyenv/versions/3.6.0/envs/jupyter3/lib/python3.6/site-packages/numpy/core/fromnumeric.py:2909: RuntimeWarning: Mean of empty slice.\n",
      "  out=out, **kwargs)\n",
      "/home/isisilon/.pyenv/versions/3.6.0/envs/jupyter3/lib/python3.6/site-packages/numpy/core/_methods.py:80: RuntimeWarning: invalid value encountered in double_scalars\n",
      "  ret = ret.dtype.type(ret / rcount)\n"
     ]
    },
    {
     "name": "stdout",
     "output_type": "stream",
     "text": [
      "------------------------------\n",
      "| loss_pol_surr   | -0.004   |\n",
      "| loss_pol_entpen | -0.0859  |\n",
      "| loss_vf_loss    | 1.01e-05 |\n",
      "| loss_kl         | 0.000693 |\n",
      "| loss_ent        | 8.59     |\n",
      "| ev_tdlam_before | -0.289   |\n",
      "| EpLenMean       | nan      |\n",
      "| EpRewMean       | nan      |\n",
      "| EpThisIter      | 0        |\n",
      "| EpisodesSoFar   | 0        |\n",
      "| TimestepsSoFar  | 0        |\n",
      "| TimeElapsed     | 3.19     |\n",
      "------------------------------\n",
      "********** Iteration 2 ************\n",
      "------------------------------\n",
      "| loss_pol_surr   | -0.00613 |\n",
      "| loss_pol_entpen | -0.0859  |\n",
      "| loss_vf_loss    | 1.06e-05 |\n",
      "| loss_kl         | 0.0009   |\n",
      "| loss_ent        | 8.59     |\n",
      "| ev_tdlam_before | -0.297   |\n",
      "| EpLenMean       | nan      |\n",
      "| EpRewMean       | nan      |\n",
      "| EpThisIter      | 0        |\n",
      "| EpisodesSoFar   | 0        |\n",
      "| TimestepsSoFar  | 0        |\n",
      "| TimeElapsed     | 4.57     |\n",
      "------------------------------\n",
      "********** Iteration 3 ************\n",
      "------------------------------\n",
      "| loss_pol_surr   | -0.015   |\n",
      "| loss_pol_entpen | -0.0861  |\n",
      "| loss_vf_loss    | 7.72e-06 |\n",
      "| loss_kl         | 0.00128  |\n",
      "| loss_ent        | 8.61     |\n",
      "| ev_tdlam_before | -0.347   |\n",
      "| EpLenMean       | nan      |\n",
      "| EpRewMean       | nan      |\n",
      "| EpThisIter      | 0        |\n",
      "| EpisodesSoFar   | 0        |\n",
      "| TimestepsSoFar  | 0        |\n",
      "| TimeElapsed     | 5.93     |\n",
      "------------------------------\n",
      "********** Iteration 4 ************\n",
      "------------------------------\n",
      "| loss_pol_surr   | -0.00715 |\n",
      "| loss_pol_entpen | -0.0865  |\n",
      "| loss_vf_loss    | 5.87e-06 |\n",
      "| loss_kl         | 0.00104  |\n",
      "| loss_ent        | 8.65     |\n",
      "| ev_tdlam_before | -0.363   |\n",
      "| EpLenMean       | nan      |\n",
      "| EpRewMean       | nan      |\n",
      "| EpThisIter      | 0        |\n",
      "| EpisodesSoFar   | 0        |\n",
      "| TimestepsSoFar  | 0        |\n",
      "| TimeElapsed     | 7.32     |\n",
      "------------------------------\n",
      "********** Iteration 5 ************\n",
      "********** Iteration 6 ************\n",
      "********** Iteration 7 ************\n",
      "********** Iteration 8 ************\n",
      "********** Iteration 9 ************\n",
      "********** Iteration 10 ************\n",
      "********** Iteration 11 ************\n",
      "------------------------------\n",
      "| loss_pol_surr   | -0.00861 |\n",
      "| loss_pol_entpen | -0.0867  |\n",
      "| loss_vf_loss    | 1.57e-06 |\n",
      "| loss_kl         | 0.000838 |\n",
      "| loss_ent        | 8.67     |\n",
      "| ev_tdlam_before | -0.0115  |\n",
      "| EpLenMean       | 1.44e+03 |\n",
      "| EpRewMean       | 0.000385 |\n",
      "| EpThisIter      | 1        |\n",
      "| EpisodesSoFar   | 2        |\n",
      "| TimestepsSoFar  | 2.88e+03 |\n",
      "| TimeElapsed     | 17.5     |\n",
      "------------------------------\n",
      "********** Iteration 12 ************\n",
      "------------------------------\n",
      "| loss_pol_surr   | -0.0144  |\n",
      "| loss_pol_entpen | -0.0869  |\n",
      "| loss_vf_loss    | 1.34e-07 |\n",
      "| loss_kl         | 0.00151  |\n",
      "| loss_ent        | 8.69     |\n",
      "| ev_tdlam_before | -0.994   |\n",
      "| EpLenMean       | 1.44e+03 |\n",
      "| EpRewMean       | 0.000385 |\n",
      "| EpThisIter      | 0        |\n",
      "| EpisodesSoFar   | 2        |\n",
      "| TimestepsSoFar  | 2.88e+03 |\n",
      "| TimeElapsed     | 19       |\n",
      "------------------------------\n",
      "********** Iteration 13 ************\n",
      "------------------------------\n",
      "| loss_pol_surr   | -0.0104  |\n",
      "| loss_pol_entpen | -0.0875  |\n",
      "| loss_vf_loss    | 8.07e-08 |\n",
      "| loss_kl         | 0.00167  |\n",
      "| loss_ent        | 8.75     |\n",
      "| ev_tdlam_before | -0.474   |\n",
      "| EpLenMean       | 1.44e+03 |\n",
      "| EpRewMean       | 0.000385 |\n",
      "| EpThisIter      | 0        |\n",
      "| EpisodesSoFar   | 2        |\n",
      "| TimestepsSoFar  | 2.88e+03 |\n",
      "| TimeElapsed     | 20.6     |\n",
      "------------------------------\n",
      "********** Iteration 14 ************\n",
      "------------------------------\n",
      "| loss_pol_surr   | -0.011   |\n",
      "| loss_pol_entpen | -0.0878  |\n",
      "| loss_vf_loss    | 4.94e-08 |\n",
      "| loss_kl         | 0.00148  |\n",
      "| loss_ent        | 8.78     |\n",
      "| ev_tdlam_before | -0.491   |\n",
      "| EpLenMean       | 1.44e+03 |\n",
      "| EpRewMean       | 0.000385 |\n",
      "| EpThisIter      | 0        |\n",
      "| EpisodesSoFar   | 2        |\n",
      "| TimestepsSoFar  | 2.88e+03 |\n",
      "| TimeElapsed     | 22.4     |\n",
      "------------------------------\n",
      "********** Iteration 15 ************\n",
      "------------------------------\n",
      "| loss_pol_surr   | -0.00717 |\n",
      "| loss_pol_entpen | -0.0878  |\n",
      "| loss_vf_loss    | 3.1e-08  |\n",
      "| loss_kl         | 0.000637 |\n",
      "| loss_ent        | 8.78     |\n",
      "| ev_tdlam_before | -0.432   |\n",
      "| EpLenMean       | 1.44e+03 |\n",
      "| EpRewMean       | 0.000385 |\n",
      "| EpThisIter      | 0        |\n",
      "| EpisodesSoFar   | 2        |\n",
      "| TimestepsSoFar  | 2.88e+03 |\n",
      "| TimeElapsed     | 23.8     |\n",
      "------------------------------\n",
      "********** Iteration 16 ************\n",
      "********** Iteration 17 ************\n",
      "********** Iteration 18 ************\n",
      "********** Iteration 19 ************\n",
      "********** Iteration 20 ************\n",
      "********** Iteration 21 ************\n",
      "********** Iteration 22 ************\n",
      "------------------------------\n",
      "| loss_pol_surr   | -0.00539 |\n",
      "| loss_pol_entpen | -0.0891  |\n",
      "| loss_vf_loss    | 3.3e-09  |\n",
      "| loss_kl         | 0.00037  |\n",
      "| loss_ent        | 8.91     |\n",
      "| ev_tdlam_before | -0.00757 |\n",
      "| EpLenMean       | 1.44e+03 |\n",
      "| EpRewMean       | 0.00032  |\n",
      "| EpThisIter      | 1        |\n",
      "| EpisodesSoFar   | 4        |\n",
      "| TimestepsSoFar  | 5.76e+03 |\n",
      "| TimeElapsed     | 34.7     |\n",
      "------------------------------\n",
      "********** Iteration 23 ************\n",
      "------------------------------\n",
      "| loss_pol_surr   | -0.00551 |\n",
      "| loss_pol_entpen | -0.0891  |\n",
      "| loss_vf_loss    | 3.72e-10 |\n",
      "| loss_kl         | 0.000734 |\n",
      "| loss_ent        | 8.91     |\n",
      "| ev_tdlam_before | -0.476   |\n",
      "| EpLenMean       | 1.44e+03 |\n",
      "| EpRewMean       | 0.00032  |\n",
      "| EpThisIter      | 0        |\n",
      "| EpisodesSoFar   | 4        |\n",
      "| TimestepsSoFar  | 5.76e+03 |\n",
      "| TimeElapsed     | 36.4     |\n",
      "------------------------------\n",
      "********** Iteration 24 ************\n",
      "------------------------------\n",
      "| loss_pol_surr   | -0.00499 |\n",
      "| loss_pol_entpen | -0.089   |\n",
      "| loss_vf_loss    | 2.45e-10 |\n",
      "| loss_kl         | 0.000571 |\n",
      "| loss_ent        | 8.9      |\n",
      "| ev_tdlam_before | -0.197   |\n",
      "| EpLenMean       | 1.44e+03 |\n",
      "| EpRewMean       | 0.00032  |\n",
      "| EpThisIter      | 0        |\n",
      "| EpisodesSoFar   | 4        |\n",
      "| TimestepsSoFar  | 5.76e+03 |\n",
      "| TimeElapsed     | 38.2     |\n",
      "------------------------------\n",
      "********** Iteration 25 ************\n",
      "------------------------------\n",
      "| loss_pol_surr   | -0.0121  |\n",
      "| loss_pol_entpen | -0.0891  |\n",
      "| loss_vf_loss    | 1.74e-10 |\n",
      "| loss_kl         | 0.00136  |\n",
      "| loss_ent        | 8.91     |\n",
      "| ev_tdlam_before | -0.214   |\n",
      "| EpLenMean       | 1.44e+03 |\n",
      "| EpRewMean       | 0.00032  |\n",
      "| EpThisIter      | 0        |\n",
      "| EpisodesSoFar   | 4        |\n",
      "| TimestepsSoFar  | 5.76e+03 |\n",
      "| TimeElapsed     | 39.8     |\n",
      "------------------------------\n",
      "********** Iteration 26 ************\n",
      "------------------------------\n",
      "| loss_pol_surr   | -0.00409 |\n",
      "| loss_pol_entpen | -0.0891  |\n",
      "| loss_vf_loss    | 1.23e-10 |\n",
      "| loss_kl         | 0.00075  |\n",
      "| loss_ent        | 8.91     |\n",
      "| ev_tdlam_before | -0.0843  |\n",
      "| EpLenMean       | 1.44e+03 |\n",
      "| EpRewMean       | 0.00032  |\n",
      "| EpThisIter      | 0        |\n",
      "| EpisodesSoFar   | 4        |\n",
      "| TimestepsSoFar  | 5.76e+03 |\n",
      "| TimeElapsed     | 41.3     |\n",
      "------------------------------\n",
      "********** Iteration 27 ************\n",
      "------------------------------\n",
      "| loss_pol_surr   | -0.00851 |\n",
      "| loss_pol_entpen | -0.0892  |\n",
      "| loss_vf_loss    | 9.05e-11 |\n",
      "| loss_kl         | 0.000744 |\n",
      "| loss_ent        | 8.92     |\n",
      "| ev_tdlam_before | -0.0598  |\n",
      "| EpLenMean       | 1.44e+03 |\n",
      "| EpRewMean       | 0.00032  |\n",
      "| EpThisIter      | 0        |\n",
      "| EpisodesSoFar   | 4        |\n",
      "| TimestepsSoFar  | 5.76e+03 |\n",
      "| TimeElapsed     | 42.7     |\n",
      "------------------------------\n",
      "********** Iteration 28 ************\n",
      "********** Iteration 29 ************\n",
      "********** Iteration 30 ************\n",
      "********** Iteration 31 ************\n",
      "********** Iteration 32 ************\n",
      "********** Iteration 33 ************\n",
      "------------------------------\n",
      "| loss_pol_surr   | -0.0106  |\n",
      "| loss_pol_entpen | -0.0909  |\n",
      "| loss_vf_loss    | 4.12e-11 |\n",
      "| loss_kl         | 0.00119  |\n",
      "| loss_ent        | 9.09     |\n",
      "| ev_tdlam_before | 0.000464 |\n",
      "| EpLenMean       | 1.44e+03 |\n",
      "| EpRewMean       | 0.000318 |\n",
      "| EpThisIter      | 1        |\n",
      "| EpisodesSoFar   | 6        |\n",
      "| TimestepsSoFar  | 8.64e+03 |\n",
      "| TimeElapsed     | 52       |\n",
      "------------------------------\n",
      "********** Iteration 34 ************\n",
      "-------------------------------\n",
      "| loss_pol_surr   | -0.00551  |\n",
      "| loss_pol_entpen | -0.0913   |\n",
      "| loss_vf_loss    | 6.68e-11  |\n",
      "| loss_kl         | 0.000818  |\n",
      "| loss_ent        | 9.13      |\n",
      "| ev_tdlam_before | -0.000927 |\n",
      "| EpLenMean       | 1.44e+03  |\n",
      "| EpRewMean       | 0.000318  |\n",
      "| EpThisIter      | 0         |\n",
      "| EpisodesSoFar   | 6         |\n",
      "| TimestepsSoFar  | 8.64e+03  |\n",
      "| TimeElapsed     | 53.7      |\n",
      "-------------------------------\n"
     ]
    },
    {
     "name": "stdout",
     "output_type": "stream",
     "text": [
      "********** Iteration 35 ************\n",
      "------------------------------\n",
      "| loss_pol_surr   | -0.00297 |\n",
      "| loss_pol_entpen | -0.0915  |\n",
      "| loss_vf_loss    | 1.59e-10 |\n",
      "| loss_kl         | 0.000625 |\n",
      "| loss_ent        | 9.15     |\n",
      "| ev_tdlam_before | 0.000338 |\n",
      "| EpLenMean       | 1.44e+03 |\n",
      "| EpRewMean       | 0.000318 |\n",
      "| EpThisIter      | 0        |\n",
      "| EpisodesSoFar   | 6        |\n",
      "| TimestepsSoFar  | 8.64e+03 |\n",
      "| TimeElapsed     | 55.2     |\n",
      "------------------------------\n",
      "********** Iteration 36 ************\n",
      "------------------------------\n",
      "| loss_pol_surr   | -0.0122  |\n",
      "| loss_pol_entpen | -0.0923  |\n",
      "| loss_vf_loss    | 1.07e-10 |\n",
      "| loss_kl         | 0.00126  |\n",
      "| loss_ent        | 9.23     |\n",
      "| ev_tdlam_before | 0.00511  |\n",
      "| EpLenMean       | 1.44e+03 |\n",
      "| EpRewMean       | 0.000318 |\n",
      "| EpThisIter      | 0        |\n",
      "| EpisodesSoFar   | 6        |\n",
      "| TimestepsSoFar  | 8.64e+03 |\n",
      "| TimeElapsed     | 56.6     |\n",
      "------------------------------\n",
      "********** Iteration 37 ************\n",
      "------------------------------\n",
      "| loss_pol_surr   | -0.00597 |\n",
      "| loss_pol_entpen | -0.0928  |\n",
      "| loss_vf_loss    | 1.41e-10 |\n",
      "| loss_kl         | 0.000967 |\n",
      "| loss_ent        | 9.28     |\n",
      "| ev_tdlam_before | 0.000305 |\n",
      "| EpLenMean       | 1.44e+03 |\n",
      "| EpRewMean       | 0.000318 |\n",
      "| EpThisIter      | 0        |\n",
      "| EpisodesSoFar   | 6        |\n",
      "| TimestepsSoFar  | 8.64e+03 |\n",
      "| TimeElapsed     | 58       |\n",
      "------------------------------\n",
      "********** Iteration 38 ************\n",
      "------------------------------\n",
      "| loss_pol_surr   | -0.00415 |\n",
      "| loss_pol_entpen | -0.0929  |\n",
      "| loss_vf_loss    | 7.12e-11 |\n",
      "| loss_kl         | 0.000346 |\n",
      "| loss_ent        | 9.29     |\n",
      "| ev_tdlam_before | -0.00165 |\n",
      "| EpLenMean       | 1.44e+03 |\n",
      "| EpRewMean       | 0.000318 |\n",
      "| EpThisIter      | 0        |\n",
      "| EpisodesSoFar   | 6        |\n",
      "| TimestepsSoFar  | 8.64e+03 |\n",
      "| TimeElapsed     | 59.4     |\n",
      "------------------------------\n",
      "********** Iteration 39 ************\n",
      "********** Iteration 40 ************\n",
      "********** Iteration 41 ************\n"
     ]
    },
    {
     "ename": "KeyboardInterrupt",
     "evalue": "",
     "output_type": "error",
     "traceback": [
      "\u001b[0;31m---------------------------------------------------------------------------\u001b[0m",
      "\u001b[0;31mKeyboardInterrupt\u001b[0m                         Traceback (most recent call last)",
      "\u001b[0;32m<ipython-input-14-4e262bb9e3a6>\u001b[0m in \u001b[0;36m<module>\u001b[0;34m()\u001b[0m\n\u001b[1;32m     20\u001b[0m     \u001b[0mlogger\u001b[0m\u001b[0;34m.\u001b[0m\u001b[0mlog\u001b[0m\u001b[0;34m(\u001b[0m\u001b[0;34m\"********** Iteration %i ************\"\u001b[0m\u001b[0;34m%\u001b[0m\u001b[0miters_so_far\u001b[0m\u001b[0;34m)\u001b[0m\u001b[0;34m\u001b[0m\u001b[0m\n\u001b[1;32m     21\u001b[0m \u001b[0;34m\u001b[0m\u001b[0m\n\u001b[0;32m---> 22\u001b[0;31m     \u001b[0mseg\u001b[0m \u001b[0;34m=\u001b[0m \u001b[0mseg_gen\u001b[0m\u001b[0;34m.\u001b[0m\u001b[0m__next__\u001b[0m\u001b[0;34m(\u001b[0m\u001b[0;34m)\u001b[0m\u001b[0;34m\u001b[0m\u001b[0m\n\u001b[0m\u001b[1;32m     23\u001b[0m     \u001b[0mpposgd_simple\u001b[0m\u001b[0;34m.\u001b[0m\u001b[0madd_vtarg_and_adv\u001b[0m\u001b[0;34m(\u001b[0m\u001b[0mseg\u001b[0m\u001b[0;34m,\u001b[0m \u001b[0mgamma\u001b[0m\u001b[0;34m,\u001b[0m \u001b[0mlam\u001b[0m\u001b[0;34m)\u001b[0m\u001b[0;34m\u001b[0m\u001b[0m\n\u001b[1;32m     24\u001b[0m \u001b[0;34m\u001b[0m\u001b[0m\n",
      "\u001b[0;32m/home/isisilon/.pyenv/versions/3.6.0/envs/jupyter3/lib/python3.6/site-packages/baselines/pposgd/pposgd_simple.py\u001b[0m in \u001b[0;36mtraj_segment_generator\u001b[0;34m(pi, env, horizon, stochastic)\u001b[0m\n\u001b[1;32m     30\u001b[0m     \u001b[0;32mwhile\u001b[0m \u001b[0;32mTrue\u001b[0m\u001b[0;34m:\u001b[0m\u001b[0;34m\u001b[0m\u001b[0m\n\u001b[1;32m     31\u001b[0m         \u001b[0mprevac\u001b[0m \u001b[0;34m=\u001b[0m \u001b[0mac\u001b[0m\u001b[0;34m\u001b[0m\u001b[0m\n\u001b[0;32m---> 32\u001b[0;31m         \u001b[0mac\u001b[0m\u001b[0;34m,\u001b[0m \u001b[0mvpred\u001b[0m \u001b[0;34m=\u001b[0m \u001b[0mpi\u001b[0m\u001b[0;34m.\u001b[0m\u001b[0mact\u001b[0m\u001b[0;34m(\u001b[0m\u001b[0mstochastic\u001b[0m\u001b[0;34m,\u001b[0m \u001b[0mob\u001b[0m\u001b[0;34m)\u001b[0m\u001b[0;34m\u001b[0m\u001b[0m\n\u001b[0m\u001b[1;32m     33\u001b[0m         \u001b[0;31m# Slight weirdness here because we need value function at time T\u001b[0m\u001b[0;34m\u001b[0m\u001b[0;34m\u001b[0m\u001b[0m\n\u001b[1;32m     34\u001b[0m         \u001b[0;31m# before returning segment [0, T-1] so we get the correct\u001b[0m\u001b[0;34m\u001b[0m\u001b[0;34m\u001b[0m\u001b[0m\n",
      "\u001b[0;32m<ipython-input-8-06a38cadb478>\u001b[0m in \u001b[0;36mact\u001b[0;34m(self, stochastic, ob)\u001b[0m\n\u001b[1;32m     43\u001b[0m \u001b[0;34m\u001b[0m\u001b[0m\n\u001b[1;32m     44\u001b[0m     \u001b[0;32mdef\u001b[0m \u001b[0mact\u001b[0m\u001b[0;34m(\u001b[0m\u001b[0mself\u001b[0m\u001b[0;34m,\u001b[0m \u001b[0mstochastic\u001b[0m\u001b[0;34m,\u001b[0m \u001b[0mob\u001b[0m\u001b[0;34m)\u001b[0m\u001b[0;34m:\u001b[0m\u001b[0;34m\u001b[0m\u001b[0m\n\u001b[0;32m---> 45\u001b[0;31m         \u001b[0mac1\u001b[0m\u001b[0;34m,\u001b[0m \u001b[0mvpred1\u001b[0m \u001b[0;34m=\u001b[0m  \u001b[0mself\u001b[0m\u001b[0;34m.\u001b[0m\u001b[0m_act\u001b[0m\u001b[0;34m(\u001b[0m\u001b[0mstochastic\u001b[0m\u001b[0;34m,\u001b[0m \u001b[0mob\u001b[0m\u001b[0;34m[\u001b[0m\u001b[0;32mNone\u001b[0m\u001b[0;34m]\u001b[0m\u001b[0;34m)\u001b[0m\u001b[0;34m\u001b[0m\u001b[0m\n\u001b[0m\u001b[1;32m     46\u001b[0m         \u001b[0;32mreturn\u001b[0m \u001b[0mac1\u001b[0m\u001b[0;34m[\u001b[0m\u001b[0;36m0\u001b[0m\u001b[0;34m]\u001b[0m\u001b[0;34m,\u001b[0m \u001b[0mvpred1\u001b[0m\u001b[0;34m[\u001b[0m\u001b[0;36m0\u001b[0m\u001b[0;34m]\u001b[0m\u001b[0;34m\u001b[0m\u001b[0m\n\u001b[1;32m     47\u001b[0m     \u001b[0;32mdef\u001b[0m \u001b[0mget_variables\u001b[0m\u001b[0;34m(\u001b[0m\u001b[0mself\u001b[0m\u001b[0;34m)\u001b[0m\u001b[0;34m:\u001b[0m\u001b[0;34m\u001b[0m\u001b[0m\n",
      "\u001b[0;32m/home/isisilon/.pyenv/versions/3.6.0/envs/jupyter3/lib/python3.6/site-packages/baselines/common/tf_util.py\u001b[0m in \u001b[0;36m__call__\u001b[0;34m(self, *args, **kwargs)\u001b[0m\n\u001b[1;32m    443\u001b[0m         \u001b[0;32mfor\u001b[0m \u001b[0minpt\u001b[0m \u001b[0;32min\u001b[0m \u001b[0mself\u001b[0m\u001b[0;34m.\u001b[0m\u001b[0mgivens\u001b[0m\u001b[0;34m:\u001b[0m\u001b[0;34m\u001b[0m\u001b[0m\n\u001b[1;32m    444\u001b[0m             \u001b[0mfeed_dict\u001b[0m\u001b[0;34m[\u001b[0m\u001b[0minpt\u001b[0m\u001b[0;34m]\u001b[0m \u001b[0;34m=\u001b[0m \u001b[0mfeed_dict\u001b[0m\u001b[0;34m.\u001b[0m\u001b[0mget\u001b[0m\u001b[0;34m(\u001b[0m\u001b[0minpt\u001b[0m\u001b[0;34m,\u001b[0m \u001b[0mself\u001b[0m\u001b[0;34m.\u001b[0m\u001b[0mgivens\u001b[0m\u001b[0;34m[\u001b[0m\u001b[0minpt\u001b[0m\u001b[0;34m]\u001b[0m\u001b[0;34m)\u001b[0m\u001b[0;34m\u001b[0m\u001b[0m\n\u001b[0;32m--> 445\u001b[0;31m         \u001b[0mresults\u001b[0m \u001b[0;34m=\u001b[0m \u001b[0mget_session\u001b[0m\u001b[0;34m(\u001b[0m\u001b[0;34m)\u001b[0m\u001b[0;34m.\u001b[0m\u001b[0mrun\u001b[0m\u001b[0;34m(\u001b[0m\u001b[0mself\u001b[0m\u001b[0;34m.\u001b[0m\u001b[0moutputs_update\u001b[0m\u001b[0;34m,\u001b[0m \u001b[0mfeed_dict\u001b[0m\u001b[0;34m=\u001b[0m\u001b[0mfeed_dict\u001b[0m\u001b[0;34m)\u001b[0m\u001b[0;34m[\u001b[0m\u001b[0;34m:\u001b[0m\u001b[0;34m-\u001b[0m\u001b[0;36m1\u001b[0m\u001b[0;34m]\u001b[0m\u001b[0;34m\u001b[0m\u001b[0m\n\u001b[0m\u001b[1;32m    446\u001b[0m         \u001b[0;32mif\u001b[0m \u001b[0mself\u001b[0m\u001b[0;34m.\u001b[0m\u001b[0mcheck_nan\u001b[0m\u001b[0;34m:\u001b[0m\u001b[0;34m\u001b[0m\u001b[0m\n\u001b[1;32m    447\u001b[0m             \u001b[0;32mif\u001b[0m \u001b[0many\u001b[0m\u001b[0;34m(\u001b[0m\u001b[0mnp\u001b[0m\u001b[0;34m.\u001b[0m\u001b[0misnan\u001b[0m\u001b[0;34m(\u001b[0m\u001b[0mr\u001b[0m\u001b[0;34m)\u001b[0m\u001b[0;34m.\u001b[0m\u001b[0many\u001b[0m\u001b[0;34m(\u001b[0m\u001b[0;34m)\u001b[0m \u001b[0;32mfor\u001b[0m \u001b[0mr\u001b[0m \u001b[0;32min\u001b[0m \u001b[0mresults\u001b[0m\u001b[0;34m)\u001b[0m\u001b[0;34m:\u001b[0m\u001b[0;34m\u001b[0m\u001b[0m\n",
      "\u001b[0;32m/home/isisilon/.pyenv/versions/3.6.0/envs/jupyter3/lib/python3.6/site-packages/tensorflow/python/client/session.py\u001b[0m in \u001b[0;36mrun\u001b[0;34m(self, fetches, feed_dict, options, run_metadata)\u001b[0m\n\u001b[1;32m    787\u001b[0m     \u001b[0;32mtry\u001b[0m\u001b[0;34m:\u001b[0m\u001b[0;34m\u001b[0m\u001b[0m\n\u001b[1;32m    788\u001b[0m       result = self._run(None, fetches, feed_dict, options_ptr,\n\u001b[0;32m--> 789\u001b[0;31m                          run_metadata_ptr)\n\u001b[0m\u001b[1;32m    790\u001b[0m       \u001b[0;32mif\u001b[0m \u001b[0mrun_metadata\u001b[0m\u001b[0;34m:\u001b[0m\u001b[0;34m\u001b[0m\u001b[0m\n\u001b[1;32m    791\u001b[0m         \u001b[0mproto_data\u001b[0m \u001b[0;34m=\u001b[0m \u001b[0mtf_session\u001b[0m\u001b[0;34m.\u001b[0m\u001b[0mTF_GetBuffer\u001b[0m\u001b[0;34m(\u001b[0m\u001b[0mrun_metadata_ptr\u001b[0m\u001b[0;34m)\u001b[0m\u001b[0;34m\u001b[0m\u001b[0m\n",
      "\u001b[0;32m/home/isisilon/.pyenv/versions/3.6.0/envs/jupyter3/lib/python3.6/site-packages/tensorflow/python/client/session.py\u001b[0m in \u001b[0;36m_run\u001b[0;34m(self, handle, fetches, feed_dict, options, run_metadata)\u001b[0m\n\u001b[1;32m    995\u001b[0m     \u001b[0;32mif\u001b[0m \u001b[0mfinal_fetches\u001b[0m \u001b[0;32mor\u001b[0m \u001b[0mfinal_targets\u001b[0m\u001b[0;34m:\u001b[0m\u001b[0;34m\u001b[0m\u001b[0m\n\u001b[1;32m    996\u001b[0m       results = self._do_run(handle, final_targets, final_fetches,\n\u001b[0;32m--> 997\u001b[0;31m                              feed_dict_string, options, run_metadata)\n\u001b[0m\u001b[1;32m    998\u001b[0m     \u001b[0;32melse\u001b[0m\u001b[0;34m:\u001b[0m\u001b[0;34m\u001b[0m\u001b[0m\n\u001b[1;32m    999\u001b[0m       \u001b[0mresults\u001b[0m \u001b[0;34m=\u001b[0m \u001b[0;34m[\u001b[0m\u001b[0;34m]\u001b[0m\u001b[0;34m\u001b[0m\u001b[0m\n",
      "\u001b[0;32m/home/isisilon/.pyenv/versions/3.6.0/envs/jupyter3/lib/python3.6/site-packages/tensorflow/python/client/session.py\u001b[0m in \u001b[0;36m_do_run\u001b[0;34m(self, handle, target_list, fetch_list, feed_dict, options, run_metadata)\u001b[0m\n\u001b[1;32m   1130\u001b[0m     \u001b[0;32mif\u001b[0m \u001b[0mhandle\u001b[0m \u001b[0;32mis\u001b[0m \u001b[0;32mNone\u001b[0m\u001b[0;34m:\u001b[0m\u001b[0;34m\u001b[0m\u001b[0m\n\u001b[1;32m   1131\u001b[0m       return self._do_call(_run_fn, self._session, feed_dict, fetch_list,\n\u001b[0;32m-> 1132\u001b[0;31m                            target_list, options, run_metadata)\n\u001b[0m\u001b[1;32m   1133\u001b[0m     \u001b[0;32melse\u001b[0m\u001b[0;34m:\u001b[0m\u001b[0;34m\u001b[0m\u001b[0m\n\u001b[1;32m   1134\u001b[0m       return self._do_call(_prun_fn, self._session, handle, feed_dict,\n",
      "\u001b[0;32m/home/isisilon/.pyenv/versions/3.6.0/envs/jupyter3/lib/python3.6/site-packages/tensorflow/python/client/session.py\u001b[0m in \u001b[0;36m_do_call\u001b[0;34m(self, fn, *args)\u001b[0m\n\u001b[1;32m   1137\u001b[0m   \u001b[0;32mdef\u001b[0m \u001b[0m_do_call\u001b[0m\u001b[0;34m(\u001b[0m\u001b[0mself\u001b[0m\u001b[0;34m,\u001b[0m \u001b[0mfn\u001b[0m\u001b[0;34m,\u001b[0m \u001b[0;34m*\u001b[0m\u001b[0margs\u001b[0m\u001b[0;34m)\u001b[0m\u001b[0;34m:\u001b[0m\u001b[0;34m\u001b[0m\u001b[0m\n\u001b[1;32m   1138\u001b[0m     \u001b[0;32mtry\u001b[0m\u001b[0;34m:\u001b[0m\u001b[0;34m\u001b[0m\u001b[0m\n\u001b[0;32m-> 1139\u001b[0;31m       \u001b[0;32mreturn\u001b[0m \u001b[0mfn\u001b[0m\u001b[0;34m(\u001b[0m\u001b[0;34m*\u001b[0m\u001b[0margs\u001b[0m\u001b[0;34m)\u001b[0m\u001b[0;34m\u001b[0m\u001b[0m\n\u001b[0m\u001b[1;32m   1140\u001b[0m     \u001b[0;32mexcept\u001b[0m \u001b[0merrors\u001b[0m\u001b[0;34m.\u001b[0m\u001b[0mOpError\u001b[0m \u001b[0;32mas\u001b[0m \u001b[0me\u001b[0m\u001b[0;34m:\u001b[0m\u001b[0;34m\u001b[0m\u001b[0m\n\u001b[1;32m   1141\u001b[0m       \u001b[0mmessage\u001b[0m \u001b[0;34m=\u001b[0m \u001b[0mcompat\u001b[0m\u001b[0;34m.\u001b[0m\u001b[0mas_text\u001b[0m\u001b[0;34m(\u001b[0m\u001b[0me\u001b[0m\u001b[0;34m.\u001b[0m\u001b[0mmessage\u001b[0m\u001b[0;34m)\u001b[0m\u001b[0;34m\u001b[0m\u001b[0m\n",
      "\u001b[0;32m/home/isisilon/.pyenv/versions/3.6.0/envs/jupyter3/lib/python3.6/site-packages/tensorflow/python/client/session.py\u001b[0m in \u001b[0;36m_run_fn\u001b[0;34m(session, feed_dict, fetch_list, target_list, options, run_metadata)\u001b[0m\n\u001b[1;32m   1119\u001b[0m         return tf_session.TF_Run(session, options,\n\u001b[1;32m   1120\u001b[0m                                  \u001b[0mfeed_dict\u001b[0m\u001b[0;34m,\u001b[0m \u001b[0mfetch_list\u001b[0m\u001b[0;34m,\u001b[0m \u001b[0mtarget_list\u001b[0m\u001b[0;34m,\u001b[0m\u001b[0;34m\u001b[0m\u001b[0m\n\u001b[0;32m-> 1121\u001b[0;31m                                  status, run_metadata)\n\u001b[0m\u001b[1;32m   1122\u001b[0m \u001b[0;34m\u001b[0m\u001b[0m\n\u001b[1;32m   1123\u001b[0m     \u001b[0;32mdef\u001b[0m \u001b[0m_prun_fn\u001b[0m\u001b[0;34m(\u001b[0m\u001b[0msession\u001b[0m\u001b[0;34m,\u001b[0m \u001b[0mhandle\u001b[0m\u001b[0;34m,\u001b[0m \u001b[0mfeed_dict\u001b[0m\u001b[0;34m,\u001b[0m \u001b[0mfetch_list\u001b[0m\u001b[0;34m)\u001b[0m\u001b[0;34m:\u001b[0m\u001b[0;34m\u001b[0m\u001b[0m\n",
      "\u001b[0;31mKeyboardInterrupt\u001b[0m: "
     ]
    }
   ],
   "source": [
    "verbose=False\n",
    "while True:\n",
    "    if callback: callback(locals(), globals())\n",
    "    if max_timesteps and timesteps_so_far >= max_timesteps:\n",
    "        break\n",
    "    elif max_episodes and episodes_so_far >= max_episodes:\n",
    "        break\n",
    "    elif max_iters and iters_so_far >= max_iters:\n",
    "        break\n",
    "    elif max_seconds and time.time() - tstart >= max_seconds:\n",
    "        break\n",
    "\n",
    "    if schedule == 'constant':\n",
    "        cur_lrmult = 1.0\n",
    "    elif schedule == 'linear':\n",
    "        cur_lrmult =  max(1.0 - float(timesteps_so_far) / max_timesteps, 0)\n",
    "    else:\n",
    "        raise NotImplementedError\n",
    "\n",
    "    if verbose: logger.log(\"********** Iteration %i ************\"%iters_so_far)\n",
    "\n",
    "    seg = seg_gen.__next__()\n",
    "    pposgd_simple.add_vtarg_and_adv(seg, gamma, lam)\n",
    "\n",
    "    # ob, ac, atarg, ret, td1ret = map(np.concatenate, (obs, acs, atargs, rets, td1rets))\n",
    "    ob, ac, atarg, tdlamret = seg[\"ob\"], seg[\"ac\"], seg[\"adv\"], seg[\"tdlamret\"]\n",
    "    vpredbefore = seg[\"vpred\"] # predicted value function before udpate\n",
    "    atarg = (atarg - atarg.mean()) / atarg.std() # standardized advantage function estimate\n",
    "    d = Dataset(dict(ob=ob, ac=ac, atarg=atarg, vtarg=tdlamret), shuffle=not pi.recurrent)\n",
    "    optim_batchsize = optim_batchsize or ob.shape[0]\n",
    "\n",
    "    if hasattr(pi, \"ob_rms\"): pi.ob_rms.update(ob) # update running mean/std for policy\n",
    "\n",
    "    assign_old_eq_new() # set old parameter values to new parameter values\n",
    "    if verbose: logger.log(\"Optimizing...\")\n",
    "    if verbose: logger.log(fmt_row(13, loss_names))\n",
    "    # Here we do a bunch of optimization epochs over the data\n",
    "    for _ in range(optim_epochs):\n",
    "        losses = [] # list of tuples, each of which gives the loss for a minibatch\n",
    "        for batch in d.iterate_once(optim_batchsize):\n",
    "            *newlosses, g = lossandgrad(batch[\"ob\"], batch[\"ac\"], batch[\"atarg\"], batch[\"vtarg\"], cur_lrmult)\n",
    "            adam.update(g, optim_stepsize * cur_lrmult) \n",
    "            losses.append(newlosses)\n",
    "        if verbose: logger.log(fmt_row(13, np.mean(losses, axis=0)))\n",
    "\n",
    "    if verbose: logger.log(\"Evaluating losses...\")\n",
    "    losses = []\n",
    "    for batch in d.iterate_once(optim_batchsize):\n",
    "        newlosses = compute_losses(batch[\"ob\"], batch[\"ac\"], batch[\"atarg\"], batch[\"vtarg\"], cur_lrmult)\n",
    "        losses.append(newlosses)            \n",
    "    meanlosses,_,_ = mpi_moments(losses, axis=0)\n",
    "    if verbose: logger.log(fmt_row(13, meanlosses))\n",
    "        \n",
    "    \n",
    "    for (lossval, name) in zipsame(meanlosses, loss_names):\n",
    "        logger.record_tabular(\"loss_\"+name, lossval)\n",
    "    logger.record_tabular(\"ev_tdlam_before\", explained_variance(vpredbefore, tdlamret))\n",
    "    lrlocal = (seg[\"ep_lens\"], seg[\"ep_rets\"]) # local values\n",
    "    listoflrpairs = MPI.COMM_WORLD.allgather(lrlocal) # list of tuples\n",
    "    listoflrpairs = [lrlocal]\n",
    "    lens, rews = map(pposgd_simple.flatten_lists, zip(*listoflrpairs))\n",
    "#     lens, rews = [seg[\"ep_lens\"]], [seg[\"ep_rets\"]]\n",
    "    lenbuffer.extend(lens)\n",
    "    rewbuffer.extend(rews)\n",
    "    logger.record_tabular(\"EpLenMean\", np.mean(lenbuffer))\n",
    "    logger.record_tabular(\"EpRewMean\", np.mean(rewbuffer))\n",
    "    logger.record_tabular(\"EpThisIter\", len(lens))\n",
    "    episodes_so_far += len(lens)\n",
    "    timesteps_so_far += sum(lens)\n",
    "    iters_so_far += 1\n",
    "    logger.record_tabular(\"EpisodesSoFar\", episodes_so_far)\n",
    "    logger.record_tabular(\"TimestepsSoFar\", timesteps_so_far)\n",
    "    logger.record_tabular(\"TimeElapsed\", time.time() - tstart)\n",
    "    if episodes_so_far%2==0:\n",
    "        logger.dump_tabular()"
   ]
  },
  {
   "cell_type": "code",
   "execution_count": 20,
   "metadata": {
    "ExecuteTime": {
     "end_time": "2017-07-23T10:11:06.821845Z",
     "start_time": "2017-07-23T18:11:06.804030+08:00"
    }
   },
   "outputs": [
    {
     "data": {
      "text/plain": [
       "([], [])"
      ]
     },
     "execution_count": 20,
     "metadata": {},
     "output_type": "execute_result"
    }
   ],
   "source": [
    "(seg[\"ep_lens\"], seg[\"ep_rets\"])"
   ]
  },
  {
   "cell_type": "code",
   "execution_count": 21,
   "metadata": {
    "ExecuteTime": {
     "end_time": "2017-07-23T10:11:39.509712Z",
     "start_time": "2017-07-23T18:11:39.492070+08:00"
    }
   },
   "outputs": [],
   "source": [
    "# pposgd_simple.learn(\n",
    "#     env,\n",
    "#     policy_fn,\n",
    "#     max_timesteps=num_timesteps,\n",
    "#     timesteps_per_batch=256,\n",
    "#     clip_param=0.2,\n",
    "#     entcoeff=0.01,\n",
    "#     optim_epochs=4,\n",
    "#     optim_stepsize=1e-3,\n",
    "#     optim_batchsize=64,\n",
    "#     gamma=0.99,\n",
    "#     lam=0.95,\n",
    "#     schedule='linear'\n",
    "# )\n",
    "# env.close()"
   ]
  },
  {
   "cell_type": "code",
   "execution_count": 22,
   "metadata": {
    "ExecuteTime": {
     "end_time": "2017-07-23T10:11:40.496974Z",
     "start_time": "2017-07-23T18:11:40.338213+08:00"
    }
   },
   "outputs": [],
   "source": [
    "U.save_state(os.path.join(save_path, \"saved\"))"
   ]
  },
  {
   "cell_type": "markdown",
   "metadata": {
    "ExecuteTime": {
     "end_time": "2017-07-23T09:36:26.757900Z",
     "start_time": "2017-07-23T17:36:26.728285+08:00"
    }
   },
   "source": [
    "# Test"
   ]
  },
  {
   "cell_type": "code",
   "execution_count": 23,
   "metadata": {
    "ExecuteTime": {
     "end_time": "2017-07-23T10:11:41.789382Z",
     "start_time": "2017-07-23T18:11:41.769164+08:00"
    },
    "collapsed": true
   },
   "outputs": [],
   "source": [
    "def sharpe(returns, freq=30, rfr=0):\n",
    "    \"\"\"Given a set of returns, calculates naive (rfr=0) sharpe (eq 28) \"\"\"\n",
    "    return (np.sqrt(freq) * np.mean(returns-rfr)) / np.std(returns - rfr)\n",
    "\n",
    "\n",
    "def MDD(returns):\n",
    "    \"\"\"Max drawdown.\"\"\"\n",
    "    peak = returns.max()\n",
    "    i = returns.argmax()\n",
    "    trough = returns[returns.argmax():].min()\n",
    "    return (trough-peak)/trough "
   ]
  },
  {
   "cell_type": "code",
   "execution_count": 24,
   "metadata": {
    "ExecuteTime": {
     "end_time": "2017-07-23T10:11:42.186269Z",
     "start_time": "2017-07-23T18:11:42.169431+08:00"
    },
    "collapsed": true
   },
   "outputs": [],
   "source": [
    "# U.load_state(os.path.join(save_path, \"saved\"))"
   ]
  },
  {
   "cell_type": "code",
   "execution_count": 25,
   "metadata": {
    "ExecuteTime": {
     "end_time": "2017-07-23T10:11:46.509356Z",
     "start_time": "2017-07-23T18:11:46.481675+08:00"
    },
    "collapsed": true
   },
   "outputs": [],
   "source": [
    "def policy_fn2(name, ob_space, ac_space):  #pylint: disable=W0613\n",
    "    return CnnPolicy(\n",
    "        name=name, ob_space=ob_space, ac_space=ac_space, reuse=True)"
   ]
  },
  {
   "cell_type": "code",
   "execution_count": 26,
   "metadata": {
    "ExecuteTime": {
     "end_time": "2017-07-23T10:11:47.531819Z",
     "start_time": "2017-07-23T18:11:47.449602+08:00"
    }
   },
   "outputs": [
    {
     "data": {
      "text/plain": [
       "7613"
      ]
     },
     "execution_count": 26,
     "metadata": {},
     "output_type": "execute_result"
    }
   ],
   "source": [
    "# one big test\n",
    "df_test = pd.read_hdf('./data/poloniex_30m.hf',key='test')\n",
    "steps=len(df_test)-window_length-2\n",
    "env_test = PortfolioEnv(\n",
    "    df=df_test,\n",
    "    steps=steps, \n",
    "    scale=True, \n",
    "    augment=0.00,\n",
    "    trading_cost=0, # let just overfit first\n",
    "    window_length=window_length,\n",
    ") \n",
    "steps"
   ]
  },
  {
   "cell_type": "code",
   "execution_count": 27,
   "metadata": {
    "ExecuteTime": {
     "end_time": "2017-07-23T10:11:53.770343Z",
     "start_time": "2017-07-23T18:11:53.753539+08:00"
    }
   },
   "outputs": [],
   "source": [
    "# # ----------------------------------------\n",
    "# ob_space = env.observation_space\n",
    "# ac_space = env.action_space\n",
    "\n",
    "# pi = policy_fn2(\"pi\", ob_space, ac_space) # Construct network for new policy\n",
    "# U.initialize()\n",
    "\n",
    "stochastic=False\n"
   ]
  },
  {
   "cell_type": "code",
   "execution_count": null,
   "metadata": {
    "ExecuteTime": {
     "start_time": "2017-07-23T10:11:54.679Z"
    }
   },
   "outputs": [],
   "source": [
    "ob = env_test.reset()\n",
    "new = True # marks if we're on first timestep of an episode\n",
    "for i in range(steps):\n",
    "    ac, vpred = pi.act(stochastic, ob)\n",
    "    ob, rew, new, _ = env_test.step(ac)"
   ]
  },
  {
   "cell_type": "code",
   "execution_count": null,
   "metadata": {
    "ExecuteTime": {
     "start_time": "2017-07-23T10:11:59.800Z"
    }
   },
   "outputs": [],
   "source": [
    "df = pd.DataFrame(env_test.infos)\n",
    "df.index=df['index']\n",
    "\n",
    "s=sharpe(df.rate_of_return+1)\n",
    "mdd=MDD(df.rate_of_return+1)\n",
    "mean_market_return=df.mean_market_returns.cumprod().iloc[-1]\n",
    "print('APV (Accumulated portfolio value): \\t{: 2.6f}'.format(df.portfolio_value.iloc[-1]))\n",
    "print('SR (Sharpe ratio):                 \\t{: 2.6f}'.format( s))\n",
    "print('MDD (max drawdown):                \\t{: 2.6%}'.format( mdd))\n",
    "print('MDR (mean_market_return):          \\t{: 2.6f}'.format( mean_market_return))\n",
    "print('')\n",
    "\n",
    "# show one run vs average market performance\n",
    "df.portfolio_value.plot()\n",
    "df.mean_market_returns.cumprod().plot(label='mean market performance')\n",
    "plt.legend()"
   ]
  },
  {
   "cell_type": "code",
   "execution_count": null,
   "metadata": {
    "collapsed": true
   },
   "outputs": [],
   "source": []
  }
 ],
 "metadata": {
  "kernelspec": {
   "display_name": "jupyter3",
   "language": "python",
   "name": "jupyter3"
  },
  "language_info": {
   "codemirror_mode": {
    "name": "ipython",
    "version": 3
   },
   "file_extension": ".py",
   "mimetype": "text/x-python",
   "name": "python",
   "nbconvert_exporter": "python",
   "pygments_lexer": "ipython3",
   "version": "3.6.0"
  }
 },
 "nbformat": 4,
 "nbformat_minor": 2
}
