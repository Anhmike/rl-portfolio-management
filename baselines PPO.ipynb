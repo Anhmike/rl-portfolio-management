{
 "cells": [
  {
   "cell_type": "code",
   "execution_count": 1,
   "metadata": {
    "ExecuteTime": {
     "end_time": "2017-07-23T10:19:05.277167Z",
     "start_time": "2017-07-23T18:19:04.545650+08:00"
    }
   },
   "outputs": [
    {
     "name": "stderr",
     "output_type": "stream",
     "text": [
      "INFO:__main__:__main__ logger started.\n"
     ]
    }
   ],
   "source": [
    "# plotting\n",
    "%matplotlib inline\n",
    "from matplotlib import pyplot as plt\n",
    "import seaborn as sns\n",
    "plt.style.use('ggplot')\n",
    "\n",
    "# numeric\n",
    "import numpy as np\n",
    "from numpy import random\n",
    "import pandas as pd\n",
    "\n",
    "# utils\n",
    "from tqdm import tqdm_notebook as tqdm\n",
    "from collections import Counter\n",
    "import tempfile\n",
    "import logging\n",
    "import time\n",
    "import datetime\n",
    "\n",
    "# logging\n",
    "logger = log = logging.getLogger(__name__)\n",
    "log.setLevel(logging.INFO)\n",
    "logging.basicConfig()\n",
    "log.info('%s logger started.', __name__)"
   ]
  },
  {
   "cell_type": "code",
   "execution_count": 2,
   "metadata": {
    "ExecuteTime": {
     "end_time": "2017-07-23T10:19:05.294255Z",
     "start_time": "2017-07-23T18:19:05.278788+08:00"
    },
    "collapsed": true
   },
   "outputs": [],
   "source": [
    "import os\n",
    "os.sys.path.append(os.path.abspath('.'))\n",
    "%reload_ext autoreload\n",
    "%autoreload 2"
   ]
  },
  {
   "cell_type": "code",
   "execution_count": 3,
   "metadata": {
    "ExecuteTime": {
     "end_time": "2017-07-23T10:19:05.309090Z",
     "start_time": "2017-07-23T18:19:05.295668+08:00"
    },
    "collapsed": true
   },
   "outputs": [],
   "source": [
    "# reinforcement learning"
   ]
  },
  {
   "cell_type": "code",
   "execution_count": 4,
   "metadata": {
    "ExecuteTime": {
     "end_time": "2017-07-23T10:19:05.463111Z",
     "start_time": "2017-07-23T18:19:05.310829+08:00"
    },
    "collapsed": true
   },
   "outputs": [],
   "source": [
    "from baselines.common import set_global_seeds\n",
    "from baselines import bench\n",
    "from baselines.common.mpi_fork import mpi_fork\n",
    "import os.path as osp\n",
    "import gym, logging\n",
    "from baselines import logger\n",
    "import sys"
   ]
  },
  {
   "cell_type": "code",
   "execution_count": 16,
   "metadata": {
    "ExecuteTime": {
     "end_time": "2017-07-23T10:19:05.480928Z",
     "start_time": "2017-07-23T18:19:05.464967+08:00"
    },
    "collapsed": true
   },
   "outputs": [],
   "source": [
    "window_length = 50\n",
    "seed=0\n",
    "steps=2222\n",
    "num_timesteps=10e6\n",
    "save_path= 'outputs/baselines_PPO/{}/saved'.format('2017-07-22')"
   ]
  },
  {
   "cell_type": "markdown",
   "metadata": {},
   "source": [
    "# Env"
   ]
  },
  {
   "cell_type": "code",
   "execution_count": 6,
   "metadata": {
    "ExecuteTime": {
     "end_time": "2017-07-23T10:19:05.601246Z",
     "start_time": "2017-07-23T18:19:05.482642+08:00"
    },
    "collapsed": true
   },
   "outputs": [],
   "source": [
    "from src.environments.portfolio import PortfolioEnv\n",
    "df_train = pd.read_hdf('./data/poloniex_30m.hf',key='train')\n",
    "env_raw = PortfolioEnv(\n",
    "    df=df_train,\n",
    "    steps=steps, \n",
    "    scale=True, \n",
    "    augment=0.0005, # let just overfit first,\n",
    "    trading_cost=0, # let just overfit first,\n",
    "    window_length = window_length,\n",
    "    \n",
    ") "
   ]
  },
  {
   "cell_type": "markdown",
   "metadata": {},
   "source": [
    "# Model"
   ]
  },
  {
   "cell_type": "code",
   "execution_count": 7,
   "metadata": {
    "ExecuteTime": {
     "end_time": "2017-07-23T10:19:06.520542Z",
     "start_time": "2017-07-23T18:19:05.602960+08:00"
    },
    "collapsed": true
   },
   "outputs": [],
   "source": [
    "# layer helpers from:\n",
    "# https://github.com/reinforceio/tensorforce/blob/0d07fadec03f76537a2431e17c51cd759d53b5e9/tensorforce/core/networks/layers.py#L90\n",
    "import tensorflow as tf\n",
    "from math import sqrt\n",
    "from tensorforce import util\n",
    "from tensorforce import TensorForceError\n",
    "\n",
    "def linear(x, size, bias=True, l2_regularization=0.0):\n",
    "    if util.rank(x) != 2:\n",
    "        raise TensorForceError('Invalid input rank for linear layer.')\n",
    "    with tf.variable_scope('linear'):\n",
    "        weights = tf.Variable(initial_value=tf.random_normal(shape=(x.get_shape()[1].value, size), stddev=sqrt(2.0 / (x.get_shape()[1].value + size))))\n",
    "        if l2_regularization > 0.0:\n",
    "            tf.losses.add_loss(l2_regularization * tf.nn.l2_loss(t=weights))\n",
    "        x = tf.matmul(a=x, b=weights)\n",
    "        if bias:\n",
    "            bias = tf.Variable(initial_value=tf.zeros(shape=(size,)))\n",
    "            if l2_regularization > 0.0:\n",
    "                tf.losses.add_loss(l2_regularization * tf.nn.l2_loss(t=bias))\n",
    "            x = tf.nn.bias_add(value=x, bias=bias)\n",
    "    return x\n",
    "\n",
    "def nonlinearity(x, name='relu'):\n",
    "    with tf.variable_scope('nonlinearity'):\n",
    "        if name == 'elu':\n",
    "            x = tf.nn.elu(features=x)\n",
    "        elif name == 'relu':\n",
    "            x = tf.nn.relu(features=x)\n",
    "        elif name == 'selu':\n",
    "            # https://arxiv.org/pdf/1706.02515.pdf\n",
    "            alpha = 1.6732632423543772848170429916717\n",
    "            scale = 1.0507009873554804934193349852946\n",
    "            negative = alpha * tf.nn.elu(features=x)\n",
    "            x = scale * tf.where(condition=(x >= 0.0), x=x, y=negative)\n",
    "        elif name == 'sigmoid':\n",
    "            x = tf.sigmoid(x=x)\n",
    "        elif name == 'softmax':\n",
    "            x = tf.nn.softmax(logits=x)\n",
    "        elif name == 'tanh':\n",
    "            x = tf.nn.tanh(x=x)\n",
    "        else:\n",
    "            raise TensorForceError('Invalid nonlinearity.')\n",
    "    return x\n",
    "\n",
    "def dense(x, size, bias=True, activation='relu', l2_regularization=0.0):\n",
    "    if util.rank(x) != 2:\n",
    "        raise TensorForceError('Invalid input rank for dense layer.')\n",
    "    with tf.variable_scope('dense'):\n",
    "        x = linear(x=x, size=size, bias=bias, l2_regularization=l2_regularization)\n",
    "        x = nonlinearity(x=x, name=activation)\n",
    "    return x\n",
    "\n",
    "def flatten(x):\n",
    "    with tf.variable_scope('flatten'):\n",
    "        x = tf.reshape(tensor=x, shape=(-1, util.prod(x.get_shape().as_list()[1:])))\n",
    "    return x\n",
    "\n",
    "def conv2d(x, size, window=(3,3), stride=(1,1), bias=False, activation='relu', l2_regularization=0.0, padding='SAME'):\n",
    "    if util.rank(x) != 4:\n",
    "        raise TensorForceError('Invalid input rank for conv2d layer.')\n",
    "    with tf.variable_scope('conv2d'):\n",
    "        filters = tf.Variable(initial_value=tf.random_normal(shape=(window[0], window[1], x.get_shape()[3].value, size), stddev=sqrt(2.0 / size)))\n",
    "        if l2_regularization > 0.0:\n",
    "            tf.losses.add_loss(l2_regularization * tf.nn.l2_loss(t=filters))\n",
    "        x = tf.nn.conv2d(input=x, filter=filters, strides=(1, stride[0], stride[1], 1), padding=padding)\n",
    "        if bias:\n",
    "            bias = tf.Variable(initial_value=tf.zeros(shape=(size,)))\n",
    "            if l2_regularization > 0.0:\n",
    "                tf.losses.add_loss(l2_regularization * tf.nn.l2_loss(t=bias))\n",
    "            x = tf.nn.bias_add(value=x, bias=bias)\n",
    "        x = nonlinearity(x=x, name=activation)\n",
    "    return x\n"
   ]
  },
  {
   "cell_type": "code",
   "execution_count": 8,
   "metadata": {
    "ExecuteTime": {
     "end_time": "2017-07-23T10:19:06.630212Z",
     "start_time": "2017-07-23T18:19:06.522316+08:00"
    },
    "collapsed": true
   },
   "outputs": [],
   "source": [
    "from baselines.common.mpi_running_mean_std import RunningMeanStd\n",
    "import baselines.common.tf_util as U\n",
    "import tensorflow as tf\n",
    "import gym\n",
    "from baselines.common.distributions import make_pdtype\n",
    "\n",
    "\n",
    "class CnnPolicy(object):\n",
    "    recurrent = False\n",
    "    def __init__(self, name, ob_space, ac_space, reuse=False):\n",
    "        with tf.variable_scope(name,  reuse=reuse):\n",
    "            self._init(ob_space, ac_space)\n",
    "            self.scope = tf.get_variable_scope().name\n",
    "\n",
    "    def _init(self, ob_space, ac_space):\n",
    "        assert isinstance(ob_space, gym.spaces.Box)\n",
    "\n",
    "        self.pdtype = pdtype = make_pdtype(ac_space)\n",
    "        sequence_length = None\n",
    "\n",
    "        ob = U.get_placeholder(name=\"ob\", dtype=tf.float32, shape=[sequence_length] + list(ob_space.shape))\n",
    "    \n",
    "        x = ob / 255.0\n",
    "        \n",
    "        x = conv2d(x=x, size=2, window=(1,3), bias=True, activation='selu', l2_regularization=1e-8, padding='VALID')\n",
    "        x = conv2d(x=x, size=20, window=(1,window_length-2), bias=True, activation='selu', l2_regularization=1e-8, padding='VALID')\n",
    "        x = conv2d(x=x, size=1, window=(1,1), bias=True, activation='selu', l2_regularization=1e-8, padding='VALID')\n",
    "        x = flatten(x)\n",
    "        x = dense(x, size=env.action_space.shape[0],activation='selu', l2_regularization=1e-8)\n",
    "        x = nonlinearity(x,name='softmax')\n",
    "\n",
    "\n",
    "        logits = U.dense(x, pdtype.param_shape()[0], \"logits\", U.normc_initializer(0.01))\n",
    "        self.pd = pdtype.pdfromflat(logits)\n",
    "        self.vpred = U.dense(x, 1, \"value\", U.normc_initializer(1.0))[:,0]\n",
    "\n",
    "        self.state_in = []\n",
    "        self.state_out = []\n",
    "\n",
    "        stochastic = tf.placeholder(dtype=tf.bool, shape=())\n",
    "        ac = self.pd.sample() # XXX\n",
    "        self._act = U.function([stochastic, ob], [ac, self.vpred])\n",
    "\n",
    "    def act(self, stochastic, ob):\n",
    "        ac1, vpred1 =  self._act(stochastic, ob[None])\n",
    "        return ac1[0], vpred1[0]\n",
    "    def get_variables(self):\n",
    "        return tf.get_collection(tf.GraphKeys.VARIABLES, self.scope)\n",
    "    def get_trainable_variables(self):\n",
    "        return tf.get_collection(tf.GraphKeys.TRAINABLE_VARIABLES, self.scope)\n",
    "    def get_initial_state(self):\n",
    "        return []\n",
    "\n",
    "    \n",
    "def policy_fn(name, ob_space, ac_space):  #pylint: disable=W0613\n",
    "    return CnnPolicy(\n",
    "        name=name, ob_space=ob_space, ac_space=ac_space)"
   ]
  },
  {
   "cell_type": "markdown",
   "metadata": {},
   "source": [
    "# Train"
   ]
  },
  {
   "cell_type": "code",
   "execution_count": 9,
   "metadata": {
    "ExecuteTime": {
     "end_time": "2017-07-23T10:19:06.662265Z",
     "start_time": "2017-07-23T18:19:06.632383+08:00"
    }
   },
   "outputs": [
    {
     "name": "stdout",
     "output_type": "stream",
     "text": [
      "Logging to /tmp/openai-2017-07-25-12-08-08-913893\n"
     ]
    }
   ],
   "source": [
    "from baselines.pposgd import pposgd_simple, cnn_policy, mlp_policy\n",
    "import baselines.common.tf_util as U\n",
    "\n",
    "\n",
    "sess = U.single_threaded_session()\n",
    "sess.__enter__()\n",
    "logger.session().__enter__()\n",
    "gym.logger.setLevel(logging.WARN)\n",
    "\n",
    "env = bench.Monitor(env_raw, osp.join(logger.get_dir(), \"%i.monitor.json\" % 0))\n",
    "env.seed(seed)\n",
    "\n",
    "rank=0\n",
    "set_global_seeds(seed)"
   ]
  },
  {
   "cell_type": "code",
   "execution_count": null,
   "metadata": {
    "ExecuteTime": {
     "end_time": "2017-07-23T10:19:06.684183Z",
     "start_time": "2017-07-23T18:19:06.664617+08:00"
    }
   },
   "outputs": [],
   "source": []
  },
  {
   "cell_type": "code",
   "execution_count": 11,
   "metadata": {
    "ExecuteTime": {
     "end_time": "2017-07-23T10:19:06.705374Z",
     "start_time": "2017-07-23T18:19:06.686530+08:00"
    },
    "collapsed": true
   },
   "outputs": [],
   "source": [
    "from baselines.common.mpi_adam import MpiAdam\n",
    "from baselines.common.mpi_moments import mpi_moments\n",
    "from baselines.common import Dataset, explained_variance, fmt_row, zipsame\n",
    "from baselines import logger\n",
    "from collections import deque"
   ]
  },
  {
   "cell_type": "code",
   "execution_count": 12,
   "metadata": {
    "ExecuteTime": {
     "end_time": "2017-07-23T10:19:07.233152Z",
     "start_time": "2017-07-23T18:19:06.707196+08:00"
    }
   },
   "outputs": [
    {
     "name": "stdout",
     "output_type": "stream",
     "text": [
      "WARNING:tensorflow:VARIABLES collection name is deprecated, please use GLOBAL_VARIABLES instead; VARIABLES will be removed after 2017-03-02.\n"
     ]
    },
    {
     "name": "stderr",
     "output_type": "stream",
     "text": [
      "WARNING:tensorflow:VARIABLES collection name is deprecated, please use GLOBAL_VARIABLES instead; VARIABLES will be removed after 2017-03-02.\n",
      "[2017-07-25 12:08:31,448] VARIABLES collection name is deprecated, please use GLOBAL_VARIABLES instead; VARIABLES will be removed after 2017-03-02.\n"
     ]
    },
    {
     "name": "stdout",
     "output_type": "stream",
     "text": [
      "WARNING:tensorflow:VARIABLES collection name is deprecated, please use GLOBAL_VARIABLES instead; VARIABLES will be removed after 2017-03-02.\n"
     ]
    },
    {
     "name": "stderr",
     "output_type": "stream",
     "text": [
      "WARNING:tensorflow:VARIABLES collection name is deprecated, please use GLOBAL_VARIABLES instead; VARIABLES will be removed after 2017-03-02.\n",
      "[2017-07-25 12:08:31,451] VARIABLES collection name is deprecated, please use GLOBAL_VARIABLES instead; VARIABLES will be removed after 2017-03-02.\n"
     ]
    }
   ],
   "source": [
    "# modified from https://github.com/openai/baselines/blob/master/baselines/pposgd/pposgd_simple.py#L90\n",
    "\n",
    "# env\n",
    "# policy_fn\n",
    "max_timesteps=num_timesteps\n",
    "timesteps_per_batch=512\n",
    "clip_param=0.2\n",
    "entcoeff=0.01\n",
    "optim_epochs=4\n",
    "optim_stepsize=1e-3\n",
    "optim_batchsize=128\n",
    "gamma=0.00\n",
    "lam=0.95\n",
    "schedule='linear'\n",
    "max_episodes=0\n",
    "max_iters=0\n",
    "max_seconds=0  # time constraint\n",
    "callback=None # you can do anything in the callback, since it takes locals(), globals()\n",
    "        \n",
    "# Setup losses and stuff\n",
    "# ----------------------------------------\n",
    "ob_space = env.observation_space\n",
    "ac_space = env.action_space\n",
    "pi = policy_fn(\"pi\", ob_space, ac_space) # Construct network for new policy\n",
    "oldpi = policy_fn(\"oldpi\", ob_space, ac_space) # Network for old policy\n",
    "atarg = tf.placeholder(dtype=tf.float32, shape=[None]) # Target advantage function (if applicable)\n",
    "ret = tf.placeholder(dtype=tf.float32, shape=[None]) # Empirical return\n",
    "\n",
    "lrmult = tf.placeholder(name='lrmult', dtype=tf.float32, shape=[]) # learning rate multiplier, updated with schedule\n",
    "clip_param = clip_param * lrmult # Annealed cliping parameter epislon\n",
    "\n",
    "ob = U.get_placeholder_cached(name=\"ob\")\n",
    "ac = pi.pdtype.sample_placeholder([None])\n",
    "\n",
    "kloldnew = oldpi.pd.kl(pi.pd)\n",
    "ent = pi.pd.entropy()\n",
    "meankl = U.mean(kloldnew)\n",
    "meanent = U.mean(ent)\n",
    "pol_entpen = (-entcoeff) * meanent\n",
    "\n",
    "ratio = tf.exp(pi.pd.logp(ac) - oldpi.pd.logp(ac)) # pnew / pold\n",
    "surr1 = ratio * atarg # surrogate from conservative policy iteration\n",
    "surr2 = U.clip(ratio, 1.0 - clip_param, 1.0 + clip_param) * atarg #\n",
    "pol_surr = - U.mean(tf.minimum(surr1, surr2)) # PPO's pessimistic surrogate (L^CLIP)\n",
    "vfloss1 = tf.square(pi.vpred - ret)\n",
    "vpredclipped = oldpi.vpred + tf.clip_by_value(pi.vpred - oldpi.vpred, -clip_param, clip_param)\n",
    "vfloss2 = tf.square(vpredclipped - ret)\n",
    "vf_loss = .5 * U.mean(tf.maximum(vfloss1, vfloss2)) # we do the same clipping-based trust region for the value function\n",
    "total_loss = pol_surr + pol_entpen + vf_loss\n",
    "losses = [pol_surr, pol_entpen, vf_loss, meankl, meanent]\n",
    "loss_names = [\"pol_surr\", \"pol_entpen\", \"vf_loss\", \"kl\", \"ent\"]\n",
    "\n",
    "var_list = pi.get_trainable_variables()\n",
    "lossandgrad = U.function([ob, ac, atarg, ret, lrmult], losses + [U.flatgrad(total_loss, var_list)])\n",
    "adam = MpiAdam(var_list)\n",
    "\n",
    "assign_old_eq_new = U.function([],[], updates=[tf.assign(oldv, newv)\n",
    "    for (oldv, newv) in zipsame(oldpi.get_variables(), pi.get_variables())])\n",
    "compute_losses = U.function([ob, ac, atarg, ret, lrmult], losses)\n",
    "\n",
    "U.initialize()\n",
    "adam.sync()\n",
    "\n",
    "# Prepare for rollouts\n",
    "# ----------------------------------------\n",
    "seg_gen = pposgd_simple.traj_segment_generator(pi, env, timesteps_per_batch, stochastic=True)\n",
    "\n",
    "episodes_so_far = 0\n",
    "timesteps_so_far = 0\n",
    "iters_so_far = 0\n",
    "tstart = time.time()\n",
    "lenbuffer = deque(maxlen=100) # rolling buffer for episode lengths\n",
    "rewbuffer = deque(maxlen=100) # rolling buffer for episode rewards\n",
    "\n",
    "assert sum([max_iters>0, max_timesteps>0, max_episodes>0, max_seconds>0])==1, \"Only one time constraint permitted\"\n",
    "\n"
   ]
  },
  {
   "cell_type": "code",
   "execution_count": 18,
   "metadata": {
    "ExecuteTime": {
     "end_time": "2017-07-23T10:19:07.254158Z",
     "start_time": "2017-07-23T18:19:07.235136+08:00"
    },
    "collapsed": true
   },
   "outputs": [],
   "source": [
    "from mpi4py import MPI"
   ]
  },
  {
   "cell_type": "code",
   "execution_count": 14,
   "metadata": {},
   "outputs": [
    {
     "name": "stdout",
     "output_type": "stream",
     "text": [
      "INFO:tensorflow:Restoring parameters from outputs/baselines_PPO/2017-07-22/saved\n"
     ]
    },
    {
     "name": "stderr",
     "output_type": "stream",
     "text": [
      "INFO:tensorflow:Restoring parameters from outputs/baselines_PPO/2017-07-22/saved\n",
      "[2017-07-25 12:08:51,122] Restoring parameters from outputs/baselines_PPO/2017-07-22/saved\n"
     ]
    }
   ],
   "source": [
    "U.load_state(save_path)"
   ]
  },
  {
   "cell_type": "code",
   "execution_count": 15,
   "metadata": {
    "ExecuteTime": {
     "end_time": "2017-07-23T13:16:32.762154Z",
     "start_time": "2017-07-23T21:16:32.736927+08:00"
    },
    "collapsed": true
   },
   "outputs": [],
   "source": [
    "def sharpe(returns, freq=30, rfr=0):\n",
    "    \"\"\"Given a set of returns, calculates naive (rfr=0) sharpe (eq 28) \"\"\"\n",
    "    return (np.sqrt(freq) * np.mean(returns-rfr)) / np.std(returns - rfr)\n",
    "\n",
    "\n",
    "def MDD(returns):\n",
    "    \"\"\"Max drawdown.\"\"\"\n",
    "    peak = returns.max()\n",
    "    i = returns.argmax()\n",
    "    trough = returns[returns.argmax():].min()\n",
    "    return (trough-peak)/trough "
   ]
  },
  {
   "cell_type": "code",
   "execution_count": null,
   "metadata": {
    "ExecuteTime": {
     "end_time": "2017-07-23T13:16:32.444698Z",
     "start_time": "2017-07-23T18:19:07.255881+08:00"
    }
   },
   "outputs": [
    {
     "data": {
      "application/vnd.jupyter.widget-view+json": {
       "model_id": "a8ed3787f0a8414c9e753907577b297c"
      }
     },
     "metadata": {},
     "output_type": "display_data"
    }
   ],
   "source": [
    "verbose=False\n",
    "log_intv=10\n",
    "metrics={}\n",
    "\n",
    "with tqdm(total=max_timesteps, leave=True, mininterval=1) as t:\n",
    "    while True:        \n",
    "        if callback: callback(locals(), globals())\n",
    "            \n",
    "        # stop conditions\n",
    "        if max_timesteps and timesteps_so_far >= max_timesteps:\n",
    "            break\n",
    "        elif max_episodes and episodes_so_far >= max_episodes:\n",
    "            break\n",
    "        elif max_iters and iters_so_far >= max_iters:\n",
    "            break\n",
    "        elif max_seconds and time.time() - tstart >= max_seconds:\n",
    "            break\n",
    "\n",
    "        # schedule learning rate\n",
    "        if schedule == 'constant':\n",
    "            cur_lrmult = 1.0\n",
    "        elif schedule == 'linear':\n",
    "            cur_lrmult =  max(1.0 - float(timesteps_so_far) / max_timesteps, 0)\n",
    "        else:\n",
    "            raise NotImplementedError\n",
    "\n",
    "        if verbose: logger.log(\"********** Iteration %i ************\"%iters_so_far)\n",
    "\n",
    "        seg = seg_gen.__next__()\n",
    "        pposgd_simple.add_vtarg_and_adv(seg, gamma, lam)\n",
    "\n",
    "        # ob, ac, atarg, ret, td1ret = map(np.concatenate, (obs, acs, atargs, rets, td1rets))\n",
    "        ob, ac, atarg, tdlamret = seg[\"ob\"], seg[\"ac\"], seg[\"adv\"], seg[\"tdlamret\"]\n",
    "        vpredbefore = seg[\"vpred\"] # predicted value function before udpate\n",
    "        atarg = (atarg - atarg.mean()) / atarg.std() # standardized advantage function estimate\n",
    "        d = Dataset(dict(ob=ob, ac=ac, atarg=atarg, vtarg=tdlamret), shuffle=not pi.recurrent)\n",
    "        optim_batchsize = optim_batchsize or ob.shape[0]\n",
    "\n",
    "        if hasattr(pi, \"ob_rms\"): pi.ob_rms.update(ob) # update running mean/std for policy\n",
    "\n",
    "        assign_old_eq_new() # set old parameter values to new parameter values\n",
    "        if verbose: logger.log(\"Optimizing...\")\n",
    "        if verbose: logger.log(fmt_row(13, loss_names))\n",
    "        # Here we do a bunch of optimization epochs over the data\n",
    "        for _ in range(optim_epochs):\n",
    "            losses = [] # list of tuples, each of which gives the loss for a minibatch\n",
    "            for batch in d.iterate_once(optim_batchsize):\n",
    "                *newlosses, g = lossandgrad(batch[\"ob\"], batch[\"ac\"], batch[\"atarg\"], batch[\"vtarg\"], cur_lrmult)\n",
    "                adam.update(g, optim_stepsize * cur_lrmult) \n",
    "                losses.append(newlosses)\n",
    "            if verbose: logger.log(fmt_row(13, np.mean(losses, axis=0)))\n",
    "\n",
    "        if verbose: logger.log(\"Evaluating losses...\")\n",
    "        losses = []\n",
    "        for batch in d.iterate_once(optim_batchsize):\n",
    "            newlosses = compute_losses(batch[\"ob\"], batch[\"ac\"], batch[\"atarg\"], batch[\"vtarg\"], cur_lrmult)\n",
    "            losses.append(newlosses)            \n",
    "        meanlosses,_,_ = mpi_moments(losses, axis=0)\n",
    "        if verbose: logger.log(fmt_row(13, meanlosses))\n",
    "\n",
    "        lrlocal = (seg[\"ep_lens\"], seg[\"ep_rets\"]) # local values\n",
    "        listoflrpairs = MPI.COMM_WORLD.allgather(lrlocal) # list of tuples\n",
    "        listoflrpairs = [lrlocal]\n",
    "        lens, rews = map(pposgd_simple.flatten_lists, zip(*listoflrpairs))\n",
    "        lenbuffer.extend(lens)\n",
    "        rewbuffer.extend(rews)\n",
    "\n",
    "        episodes_so_far += len(lens)\n",
    "        timesteps_so_far += sum(lens)\n",
    "        iters_so_far += 1\n",
    "\n",
    "        if len(lens)>0:\n",
    "            # record episode stats\n",
    "            df = pd.DataFrame(env.env.infos)\n",
    "            df.index=df['index']\n",
    "            metrics[episodes_so_far]=dict(\n",
    "                max_drawdown=MDD(df.portfolio_value), \n",
    "                sharpe=sharpe(df.rate_of_return), \n",
    "                accumulated_portfolio_value=df.portfolio_value.iloc[-1],\n",
    "                mean_market_return=df.mean_market_returns.cumprod().iloc[-1],\n",
    "                cash_bias=df.weights.apply(lambda x:x[0]).mean(),\n",
    "                EpRewMean=np.mean(rewbuffer),\n",
    "                EpLenMean=np.mean(lenbuffer),\n",
    "            )\n",
    "            \n",
    "            # update progbar\n",
    "            desc=''\n",
    "            for k, v in metrics[episodes_so_far].items():\n",
    "                if isinstance(v, float) or isinstance(v, int):\n",
    "                    desc += '{}: {:2.4f}, '.format(k, v)\n",
    "                elif hasattr(v, 'tolist'):\n",
    "                    desc+='{}: {:2.4f}, '.format(k, v.tolist())\n",
    "            t.desc = desc\n",
    "            t.update(sum(lens))\n",
    "        \n",
    "        # log the mean every N episodes (and save)\n",
    "        if len(lens)>0 and episodes_so_far%log_intv==0:\n",
    "            for (lossval, name) in zipsame(meanlosses, loss_names):\n",
    "                logger.record_tabular(\"loss_\"+name, lossval)\n",
    "            logger.record_tabular(\"ev_tdlam_before\", explained_variance(vpredbefore, tdlamret))\n",
    "            logger.record_tabular(\"EpThisIter\", len(lens))\n",
    "            logger.record_tabular(\"EpisodesSoFar\", episodes_so_far)\n",
    "            logger.record_tabular(\"TimestepsSoFar\", timesteps_so_far)\n",
    "            logger.record_tabular(\"TimeElapsed\", time.time() - tstart)\n",
    "            logger.dump_tabular()\n",
    "\n",
    "            # print custom metrics for last N episodes\n",
    "            df = pd.DataFrame(metrics).T[-log_intv:]          \n",
    "            for col in df.columns:\n",
    "                print('{name:25.25s}: {mean: 10.6f} [{min: 10.6f}, {max: 10.6f}]'.format(\n",
    "                    name=df[col].name, \n",
    "                    min=df[col].min(), \n",
    "                    mean=df[col].mean(), \n",
    "                    max=df[col].max(), \n",
    "                ))\n",
    "            \n",
    "            # save\n",
    "            U.save_state(save_path)\n",
    "            print('saved', save_path)"
   ]
  },
  {
   "cell_type": "code",
   "execution_count": 23,
   "metadata": {
    "ExecuteTime": {
     "end_time": "2017-07-23T13:16:32.735152Z",
     "start_time": "2017-07-23T21:16:32.507531+08:00"
    }
   },
   "outputs": [
    {
     "data": {
      "text/plain": [
       "'outputs/baselines_PPO/2017-07-22/saved'"
      ]
     },
     "execution_count": 23,
     "metadata": {},
     "output_type": "execute_result"
    }
   ],
   "source": [
    "U.save_state(save_path)\n",
    "save_path"
   ]
  },
  {
   "cell_type": "markdown",
   "metadata": {
    "ExecuteTime": {
     "end_time": "2017-07-23T09:36:26.757900Z",
     "start_time": "2017-07-23T17:36:26.728285+08:00"
    }
   },
   "source": [
    "# Test"
   ]
  },
  {
   "cell_type": "code",
   "execution_count": 24,
   "metadata": {
    "ExecuteTime": {
     "end_time": "2017-07-23T13:16:32.794613Z",
     "start_time": "2017-07-23T21:16:32.765489+08:00"
    },
    "collapsed": true
   },
   "outputs": [],
   "source": [
    "# U.load_state(save_path)"
   ]
  },
  {
   "cell_type": "code",
   "execution_count": 25,
   "metadata": {
    "ExecuteTime": {
     "end_time": "2017-07-23T23:11:21.111411Z",
     "start_time": "2017-07-24T07:11:21.027828+08:00"
    }
   },
   "outputs": [
    {
     "data": {
      "text/plain": [
       "7613"
      ]
     },
     "execution_count": 25,
     "metadata": {},
     "output_type": "execute_result"
    }
   ],
   "source": [
    "# one big test\n",
    "df_test = pd.read_hdf('./data/poloniex_30m.hf',key='test')\n",
    "steps=len(df_test)-window_length-2\n",
    "env_test = PortfolioEnv(\n",
    "    df=df_test,\n",
    "    steps=steps, \n",
    "    scale=True, \n",
    "    augment=0.00,\n",
    "    trading_cost=0, # let just overfit first\n",
    "    window_length=window_length,\n",
    ") \n",
    "steps"
   ]
  },
  {
   "cell_type": "code",
   "execution_count": 26,
   "metadata": {
    "ExecuteTime": {
     "end_time": "2017-07-23T23:11:21.265014Z",
     "start_time": "2017-07-24T07:11:21.246915+08:00"
    },
    "collapsed": true
   },
   "outputs": [],
   "source": [
    "# # ----------------------------------------\n",
    "# ob_space = env.observation_space\n",
    "# ac_space = env.action_space\n",
    "\n",
    "# pi = policy_fn2(\"pi\", ob_space, ac_space) # Construct network for new policy\n",
    "# U.initialize()\n",
    "\n",
    "stochastic=False\n"
   ]
  },
  {
   "cell_type": "code",
   "execution_count": 27,
   "metadata": {
    "ExecuteTime": {
     "end_time": "2017-07-23T23:12:01.515980Z",
     "start_time": "2017-07-24T07:11:21.424480+08:00"
    },
    "collapsed": true
   },
   "outputs": [],
   "source": [
    "ob = env_test.reset()\n",
    "new = True # marks if we're on first timestep of an episode\n",
    "for i in range(steps):\n",
    "    ac, vpred = pi.act(stochastic, ob)\n",
    "    ob, rew, new, _ = env_test.step(ac)"
   ]
  },
  {
   "cell_type": "code",
   "execution_count": 28,
   "metadata": {
    "ExecuteTime": {
     "end_time": "2017-07-24T00:06:22.397473Z",
     "start_time": "2017-07-24T08:06:21.620356+08:00"
    }
   },
   "outputs": [
    {
     "name": "stdout",
     "output_type": "stream",
     "text": [
      "APV (Accumulated portfolio value): \t 36.297128\n",
      "SR (Sharpe ratio):                 \t 0.268928\n",
      "MDD (max drawdown):                \t-40.422953%\n",
      "MDR (mean_market_return):          \t 27.985419\n",
      "\n"
     ]
    },
    {
     "data": {
      "text/plain": [
       "<matplotlib.legend.Legend at 0x7f7e69c656a0>"
      ]
     },
     "execution_count": 28,
     "metadata": {},
     "output_type": "execute_result"
    },
    {
     "data": {
      "image/png": "[encoded data removed]",
      "text/plain": [
       "<matplotlib.figure.Figure at 0x7f7e6c70a320>"
      ]
     },
     "metadata": {},
     "output_type": "display_data"
    }
   ],
   "source": [
    "df = pd.DataFrame(env_test.infos)\n",
    "df.index=df['index']\n",
    "\n",
    "s=sharpe(df.rate_of_return)\n",
    "mdd=MDD(df.rate_of_return+1)\n",
    "mean_market_return=df.mean_market_returns.cumprod().iloc[-1]\n",
    "print('APV (Accumulated portfolio value): \\t{: 2.6f}'.format(df.portfolio_value.iloc[-1]))\n",
    "print('SR (Sharpe ratio):                 \\t{: 2.6f}'.format( s))\n",
    "print('MDD (max drawdown):                \\t{: 2.6%}'.format( mdd))\n",
    "print('MDR (mean_market_return):          \\t{: 2.6f}'.format( mean_market_return))\n",
    "print('')\n",
    "\n",
    "# show one run vs average market performance\n",
    "df.portfolio_value.plot()\n",
    "df.mean_market_returns.cumprod().plot(label='mean market performance')\n",
    "plt.legend()"
   ]
  },
  {
   "cell_type": "code",
   "execution_count": null,
   "metadata": {
    "collapsed": true
   },
   "outputs": [],
   "source": []
  },
  {
   "cell_type": "code",
   "execution_count": null,
   "metadata": {
    "collapsed": true
   },
   "outputs": [],
   "source": []
  }
 ],
 "metadata": {
  "kernelspec": {
   "display_name": "Python 3",
   "language": "python",
   "name": "python3"
  },
  "language_info": {
   "codemirror_mode": {
    "name": "ipython",
    "version": 3
   },
   "file_extension": ".py",
   "mimetype": "text/x-python",
   "name": "python",
   "nbconvert_exporter": "python",
   "pygments_lexer": "ipython3",
   "version": "3.6.2"
  }
 },
 "nbformat": 4,
 "nbformat_minor": 2
}
