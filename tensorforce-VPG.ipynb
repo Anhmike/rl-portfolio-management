{
 "cells": [
  {
   "cell_type": "code",
   "execution_count": 1,
   "metadata": {
    "ExecuteTime": {
     "end_time": "2017-07-18T23:33:53.216398Z",
     "start_time": "2017-07-19T07:33:52.043506+08:00"
    },
    "collapsed": true
   },
   "outputs": [],
   "source": [
    "# plotting\n",
    "%matplotlib inline\n",
    "from matplotlib import pyplot as plt\n",
    "import seaborn as sns\n",
    "plt.style.use('ggplot')\n",
    "\n",
    "# numeric\n",
    "import quandl\n",
    "import numpy as np\n",
    "from numpy import random\n",
    "import pandas as pd\n",
    "\n",
    "# util\n",
    "from collections import Counter\n",
    "import pdb\n",
    "import time\n",
    "import tempfile\n",
    "import itertools\n",
    "from tqdm import tqdm_notebook as tqdm\n",
    "import datetime\n",
    "\n",
    "# logging\n",
    "import logging\n",
    "logger = log = logging.getLogger(__name__)\n",
    "# log.setLevel(logging.INFO)\n",
    "logging.basicConfig()\n",
    "log.info('%s logger started.', __name__)"
   ]
  },
  {
   "cell_type": "code",
   "execution_count": 2,
   "metadata": {
    "ExecuteTime": {
     "end_time": "2017-07-18T23:33:53.256374Z",
     "start_time": "2017-07-19T07:33:53.219378+08:00"
    },
    "collapsed": true
   },
   "outputs": [],
   "source": [
    "import gym\n",
    "from gym import error, spaces, utils\n",
    "from gym.utils import seeding"
   ]
  },
  {
   "cell_type": "code",
   "execution_count": 3,
   "metadata": {
    "ExecuteTime": {
     "end_time": "2017-07-18T23:33:53.334706Z",
     "start_time": "2017-07-19T07:33:53.312674+08:00"
    },
    "collapsed": true
   },
   "outputs": [],
   "source": [
    "import os\n",
    "os.sys.path.append(os.path.abspath('.'))\n",
    "%reload_ext autoreload\n",
    "%autoreload 2"
   ]
  },
  {
   "cell_type": "code",
   "execution_count": 19,
   "metadata": {
    "ExecuteTime": {
     "end_time": "2017-07-18T23:35:50.571504Z",
     "start_time": "2017-07-19T07:35:50.533547+08:00"
    }
   },
   "outputs": [
    {
     "data": {
      "text/plain": [
       "'./outputs/tensorforce-VPG/tensorforce-VPG_20170717_04-42-55.model'"
      ]
     },
     "execution_count": 19,
     "metadata": {},
     "output_type": "execute_result"
    }
   ],
   "source": [
    "# params\n",
    "window_length = 50\n",
    "\n",
    "save_path = './outputs/tensorforce-VPG/tensorforce-VPG_20170717_04-42-55.model'\n",
    "save_path"
   ]
  },
  {
   "cell_type": "markdown",
   "metadata": {},
   "source": [
    "# Enviroment"
   ]
  },
  {
   "cell_type": "code",
   "execution_count": 5,
   "metadata": {
    "ExecuteTime": {
     "end_time": "2017-07-18T23:33:55.549359Z",
     "start_time": "2017-07-19T07:33:55.518494+08:00"
    },
    "collapsed": true
   },
   "outputs": [],
   "source": [
    "from src.environments.portfolio import PortfolioEnv"
   ]
  },
  {
   "cell_type": "code",
   "execution_count": 6,
   "metadata": {
    "ExecuteTime": {
     "end_time": "2017-07-18T23:33:55.970244Z",
     "start_time": "2017-07-19T07:33:55.921863+08:00"
    },
    "collapsed": true
   },
   "outputs": [],
   "source": [
    "from rl.memory import  SequentialMemory, Memory\n",
    "from collections import deque\n",
    "\n",
    "class EnvWrapper(PortfolioEnv):\n",
    "    \"\"\"Wraps env to normalise and reshape action.\"\"\"\n",
    "    def __init__(self, window_length=50, *args, **kwargs):\n",
    "        super().__init__(*args, **kwargs)\n",
    "        \n",
    "    def step(self, action):\n",
    "        # also it puts it in a list\n",
    "        if isinstance(action, list):\n",
    "            action = action[0]\n",
    "        \n",
    "        # we have to normalise for some reason softmax wont work\n",
    "        if isinstance(action, dict):\n",
    "            action = np.abs(list(action.values()))\n",
    "            action /= action.sum()        \n",
    "        \n",
    "        return super().step(action) "
   ]
  },
  {
   "cell_type": "code",
   "execution_count": 7,
   "metadata": {
    "ExecuteTime": {
     "end_time": "2017-07-18T23:33:56.770052Z",
     "start_time": "2017-07-19T07:33:56.472706+08:00"
    }
   },
   "outputs": [
    {
     "name": "stderr",
     "output_type": "stream",
     "text": [
      "INFO:gym.envs.registration:Making new env: CartPole-v0\n",
      "[2017-07-19 07:33:56,754] Making new env: CartPole-v0\n",
      "INFO:gym.envs.registration:Making new env: CartPole-v0\n",
      "[2017-07-19 07:33:56,762] Making new env: CartPole-v0\n"
     ]
    }
   ],
   "source": [
    "df_train = pd.read_hdf('./data/poloniex_30m.hf',key='train')\n",
    "env = EnvWrapper(\n",
    "    df=df_train,\n",
    "    steps=30, \n",
    "    scale=True, \n",
    "    augment=0.000,\n",
    "    trading_cost=0, # let just overfit first,\n",
    "    window_length = window_length,\n",
    "    \n",
    ")\n",
    "env.seed = 0   \n",
    "\n",
    "df_test = pd.read_hdf('./data/poloniex_30m.hf',key='test')\n",
    "env_test = EnvWrapper(\n",
    "    df=df_test,\n",
    "    steps=30, \n",
    "    scale=True, \n",
    "    augment=0.00,\n",
    "    trading_cost=0, # let just overfit first\n",
    "    window_length=window_length,\n",
    ")\n",
    "env_test.seed = 0  \n",
    "\n",
    "from tensorforce.environments.openai_gym import OpenAIGym\n",
    "environment = OpenAIGym('CartPole-v0')\n",
    "environment.gym = env\n",
    "\n",
    "environment_test = OpenAIGym('CartPole-v0')\n",
    "environment_test.gym = env_test"
   ]
  },
  {
   "cell_type": "code",
   "execution_count": 8,
   "metadata": {
    "ExecuteTime": {
     "end_time": "2017-07-18T23:33:57.409802Z",
     "start_time": "2017-07-19T07:33:57.344037+08:00"
    }
   },
   "outputs": [
    {
     "name": "stdout",
     "output_type": "stream",
     "text": [
      "0.0 False {'reward': 0.0, 'log_return': 0.0, 'portfolio_value': 1.0, 'returns': 1.002080046461342, 'rate_of_return': 0.0, 'cost': 0.0, 'steps': 2}\n",
      "(5, 50, 3) (5, 50, 3)\n"
     ]
    }
   ],
   "source": [
    "# check shapes\n",
    "obs1, reward, done, info=env.step(np.random.random(env.action_space.shape))\n",
    "print(reward, done, info)\n",
    "obs2 = env.reset()\n",
    "print(obs1.shape,obs2.shape)"
   ]
  },
  {
   "cell_type": "markdown",
   "metadata": {
    "ExecuteTime": {
     "end_time": "2017-07-16T04:41:21.116729Z",
     "start_time": "2017-07-16T12:41:21.086620+08:00"
    }
   },
   "source": [
    "# Model\n",
    "\n",
    "Derived from  https://github.com/reinforceio/tensorforce/blob/0d07fadec03f76537a2431e17c51cd759d53b5e9/tensorforce/core/networks/layers.py#L90"
   ]
  },
  {
   "cell_type": "code",
   "execution_count": 9,
   "metadata": {
    "ExecuteTime": {
     "end_time": "2017-07-18T23:34:00.130454Z",
     "start_time": "2017-07-19T07:33:58.522915+08:00"
    },
    "collapsed": true
   },
   "outputs": [],
   "source": [
    "from tensorforce import Configuration\n",
    "from tensorforce.agents import VPGAgent\n",
    "from tensorforce.core.networks import layered_network_builder"
   ]
  },
  {
   "cell_type": "code",
   "execution_count": 10,
   "metadata": {
    "ExecuteTime": {
     "end_time": "2017-07-18T23:34:00.270034Z",
     "start_time": "2017-07-19T07:34:00.132722+08:00"
    },
    "collapsed": true
   },
   "outputs": [],
   "source": [
    "# layer helpers from:\n",
    "# https://github.com/reinforceio/tensorforce/blob/0d07fadec03f76537a2431e17c51cd759d53b5e9/tensorforce/core/networks/layers.py#L90\n",
    "import tensorflow as tf\n",
    "from math import sqrt\n",
    "from tensorforce import util\n",
    "from tensorforce import TensorForceError\n",
    "\n",
    "def linear(x, size, bias=True, l2_regularization=0.0):\n",
    "    if util.rank(x) != 2:\n",
    "        raise TensorForceError('Invalid input rank for linear layer.')\n",
    "    with tf.variable_scope('linear'):\n",
    "        weights = tf.Variable(initial_value=tf.random_normal(shape=(x.get_shape()[1].value, size), stddev=sqrt(2.0 / (x.get_shape()[1].value + size))))\n",
    "        if l2_regularization > 0.0:\n",
    "            tf.losses.add_loss(l2_regularization * tf.nn.l2_loss(t=weights))\n",
    "        x = tf.matmul(a=x, b=weights)\n",
    "        if bias:\n",
    "            bias = tf.Variable(initial_value=tf.zeros(shape=(size,)))\n",
    "            if l2_regularization > 0.0:\n",
    "                tf.losses.add_loss(l2_regularization * tf.nn.l2_loss(t=bias))\n",
    "            x = tf.nn.bias_add(value=x, bias=bias)\n",
    "    return x\n",
    "\n",
    "def nonlinearity(x, name='relu'):\n",
    "    with tf.variable_scope('nonlinearity'):\n",
    "        if name == 'elu':\n",
    "            x = tf.nn.elu(features=x)\n",
    "        elif name == 'relu':\n",
    "            x = tf.nn.relu(features=x)\n",
    "        elif name == 'selu':\n",
    "            # https://arxiv.org/pdf/1706.02515.pdf\n",
    "            alpha = 1.6732632423543772848170429916717\n",
    "            scale = 1.0507009873554804934193349852946\n",
    "            negative = alpha * tf.nn.elu(features=x)\n",
    "            x = scale * tf.where(condition=(x >= 0.0), x=x, y=negative)\n",
    "        elif name == 'sigmoid':\n",
    "            x = tf.sigmoid(x=x)\n",
    "        elif name == 'softmax':\n",
    "            x = tf.nn.softmax(logits=x)\n",
    "        elif name == 'tanh':\n",
    "            x = tf.nn.tanh(x=x)\n",
    "        else:\n",
    "            raise TensorForceError('Invalid nonlinearity.')\n",
    "    return x\n",
    "\n",
    "def dense(x, size, bias=True, activation='relu', l2_regularization=0.0):\n",
    "    if util.rank(x) != 2:\n",
    "        raise TensorForceError('Invalid input rank for dense layer.')\n",
    "    with tf.variable_scope('dense'):\n",
    "        x = linear(x=x, size=size, bias=bias, l2_regularization=l2_regularization)\n",
    "        x = nonlinearity(x=x, name=activation)\n",
    "    return x\n",
    "\n",
    "def flatten(x):\n",
    "    with tf.variable_scope('flatten'):\n",
    "        x = tf.reshape(tensor=x, shape=(-1, util.prod(x.get_shape().as_list()[1:])))\n",
    "    return x\n",
    "\n",
    "def conv2d(x, size, window=(3,3), stride=(1,1), bias=False, activation='relu', l2_regularization=0.0, padding='SAME'):\n",
    "    if util.rank(x) != 4:\n",
    "        raise TensorForceError('Invalid input rank for conv2d layer.')\n",
    "    with tf.variable_scope('conv2d'):\n",
    "        filters = tf.Variable(initial_value=tf.random_normal(shape=(window[0], window[1], x.get_shape()[3].value, size), stddev=sqrt(2.0 / size)))\n",
    "        if l2_regularization > 0.0:\n",
    "            tf.losses.add_loss(l2_regularization * tf.nn.l2_loss(t=filters))\n",
    "        x = tf.nn.conv2d(input=x, filter=filters, strides=(1, stride[0], stride[1], 1), padding=padding)\n",
    "        if bias:\n",
    "            bias = tf.Variable(initial_value=tf.zeros(shape=(size,)))\n",
    "            if l2_regularization > 0.0:\n",
    "                tf.losses.add_loss(l2_regularization * tf.nn.l2_loss(t=bias))\n",
    "            x = tf.nn.bias_add(value=x, bias=bias)\n",
    "        x = nonlinearity(x=x, name=activation)\n",
    "    return x\n"
   ]
  },
  {
   "cell_type": "code",
   "execution_count": 11,
   "metadata": {
    "ExecuteTime": {
     "end_time": "2017-07-18T23:34:00.316522Z",
     "start_time": "2017-07-19T07:34:00.272099+08:00"
    },
    "collapsed": true
   },
   "outputs": [],
   "source": [
    "# build a network for a given input\n",
    "def network_builder(inputs):\n",
    "    if len(inputs) != 1:\n",
    "        raise TensorForceError('Layered network must have only one input.')\n",
    "    x = next(iter(inputs.values()))\n",
    "    \n",
    "    x = conv2d(x=x, size=2, window=(1,3), bias=True, activation='relu', l2_regularization=1e-8, padding='VALID')\n",
    "    x = conv2d(x=x, size=20, window=(1,window_length-2), bias=True, activation='relu', l2_regularization=1e-8, padding='VALID')\n",
    "    x = conv2d(x=x, size=1, window=(1,1), bias=True, activation='relu', l2_regularization=1e-8, padding='VALID')\n",
    "    x = flatten(x)\n",
    "    x = dense(x, size=env.action_space.shape[0],activation='relu', l2_regularization=1e-8)\n",
    "    x = nonlinearity(x,name='softmax')\n",
    "    \n",
    "    return x\n",
    "network=network_builder"
   ]
  },
  {
   "cell_type": "markdown",
   "metadata": {},
   "source": [
    "# Agent"
   ]
  },
  {
   "cell_type": "code",
   "execution_count": 12,
   "metadata": {
    "ExecuteTime": {
     "end_time": "2017-07-18T23:34:03.536267Z",
     "start_time": "2017-07-19T07:34:01.897688+08:00"
    },
    "collapsed": true
   },
   "outputs": [],
   "source": [
    "config = Configuration(   \n",
    "    # Each model requires the following configuration parameters:\n",
    "    discount=0,  # float of discount factor (gamma).\n",
    "    learning_rate=3e-5,  # float of learning rate (alpha).\n",
    "    optimizer='adam',  # string of optimizer to use (e.g. 'adam').\n",
    "#     optimizer_args= ,  # list of arguments for optimizer.\n",
    "#     optimizer_kwargs= ,  # dict of keyword arguments for optimizer.\n",
    "#     device= ,  # string of tensorflow device name.\n",
    "    tf_saver=True,  # boolean whether to save model parameters.\n",
    "#     tf_summary= ,  # boolean indicating whether to use tensorflow summary file writer.\n",
    "    log_level='info',  # string containing logleve (e.g. 'info').\n",
    "    distributed=False ,  # boolean indicating whether to use distributed tensorflow.\n",
    "#     global_model= ,  # global model.\n",
    "#     session= ,  # session to use.\n",
    "    \n",
    "    # Each agent requires the following ``Configuration`` parameters:\n",
    "    network=network,\n",
    "    states=dict(shape=tuple(env.observation_space.shape), type='float'),\n",
    "    actions={'action' + str(n): dict(continuous=True) for n in range(env.action_space.shape[0])},\n",
    "    preprocessing = None,# dict or list containing state preprocessing configuration.\n",
    "    exploration = dict(\n",
    "        type='EpsilonDecay',\n",
    "        kwargs=dict(epsilon=1, epsilon_final=0.01, epsilon_timesteps=1e4)\n",
    "    ),\n",
    "\n",
    "    # The `BatchAgent` class additionally requires the following parameters:\n",
    "    batch_size = 50,# integer of the batch size.\n",
    "\n",
    "    # A Policy Gradient Model expects the following additional configuration parameters:\n",
    "    sample_actions= True,# boolean of whether to sample actions.\n",
    "#     baseline='mlp' ,# string indicating the baseline value function (currently 'linear' or 'mlp').\n",
    "#     baseline_args=dict(size=100, repeat_update=100) ,# list of arguments for the baseline value function.\n",
    "    override_line_search=False,\n",
    "    \n",
    "#     baseline_kwargs= ,# dict of keyword arguments for the baseline value function.\n",
    "    generalized_advantage_estimation= True ,# boolean indicating whether to use GAE.\n",
    "    gae_lambda= 0.97,# float of the Generalized Advantage Estimation lambda.\n",
    "    normalize_advantage= False,# boolean indicating whether to normalize the advantage or not.\n",
    "    cg_iterations=20,\n",
    "    max_kl_divergence=0.005,\n",
    "    cg_damping=0.001,\n",
    "    line_search_steps=20,\n",
    "    loglevel=\"info\",\n",
    ")\n",
    "\n",
    "# Create a Trust Region Policy Optimization agent\n",
    "agent = VPGAgent(config=config)"
   ]
  },
  {
   "cell_type": "markdown",
   "metadata": {},
   "source": [
    "# Train"
   ]
  },
  {
   "cell_type": "code",
   "execution_count": 13,
   "metadata": {
    "ExecuteTime": {
     "end_time": "2017-07-18T23:34:03.573173Z",
     "start_time": "2017-07-19T07:34:03.538004+08:00"
    },
    "collapsed": true
   },
   "outputs": [],
   "source": [
    "def sharpe(returns, freq=30, rfr=0):\n",
    "    \"\"\"Given a set of returns, calculates naive (rfr=0) sharpe (eq 28) \"\"\"\n",
    "    return (np.sqrt(freq) * np.mean(returns-rfr)) / np.std(returns - rfr)\n",
    "\n",
    "def MDD(returns):\n",
    "    \"\"\"Max drawdown.\"\"\"\n",
    "    peak = returns.max()\n",
    "    i = returns.argmax()\n",
    "    trough = returns[returns.argmax():].min()\n",
    "    return (trough-peak)/trough "
   ]
  },
  {
   "cell_type": "code",
   "execution_count": 28,
   "metadata": {
    "ExecuteTime": {
     "end_time": "2017-07-18T23:37:56.111189Z",
     "start_time": "2017-07-19T07:37:56.058910+08:00"
    },
    "code_folding": [],
    "collapsed": true
   },
   "outputs": [],
   "source": [
    "# Callback function printing episode statistics\n",
    "class EpisodeFinished(object):\n",
    "    \"\"\"Logger callback for tensorforce runner\"\"\"\n",
    "    \n",
    "    def __init__(self, log_intv):\n",
    "        self.log_intv = log_intv\n",
    "        self.portfolio_values = [] \n",
    "        self.mdds=[]\n",
    "        self.sharpes=[]\n",
    "    \n",
    "    def __call__(self, r):\n",
    "        if len(r.environment.gym.sim.infos):\n",
    "            self.portfolio_values.append(r.environment.gym.sim.infos[-1]['portfolio_value'])\n",
    "            \n",
    "            df = pd.DataFrame(r.environment.gym.sim.infos)\n",
    "            self.mdds.append(MDD(df.rate_of_return+1))\n",
    "            self.sharpes.append(sharpe(df.rate_of_return+1))\n",
    "        if r.episode % self.log_intv == 0:\n",
    "            print(\n",
    "                \"Finished episode {ep} after {ts} timesteps (reward: {reward: 2.4f} [{rewards_min: 2.4f}, {rewards_max: 2.4f}]) portfolio_value: {portfolio_value: 2.4f} [{portfolio_value_min: 2.4f}, {portfolio_value_max: 2.4f}] mdd={mdd: 2.2%} sharpe={sharpe: 2.2f}\".\n",
    "                format(\n",
    "                    ep=r.episode,\n",
    "                    ts=r.timestep,\n",
    "                    reward=np.mean(r.episode_rewards[-self.log_intv:]),\n",
    "                    rewards_min=np.min(r.episode_rewards[-self.log_intv:]),\n",
    "                    rewards_max=np.max(r.episode_rewards[-self.log_intv:]),\n",
    "                    portfolio_value=np.mean(self.portfolio_values[-self.log_intv:]),\n",
    "                    portfolio_value_min=np.min(self.portfolio_values[-self.log_intv:]),\n",
    "                    portfolio_value_max=np.max(self.portfolio_values[-self.log_intv:]),\n",
    "                    mdd=np.mean(self.mdds[-self.log_intv:]),\n",
    "                    sharpe=np.mean(self.sharpes[-self.log_intv:]),\n",
    "                )\n",
    "            )\n",
    "        return True"
   ]
  },
  {
   "cell_type": "code",
   "execution_count": 15,
   "metadata": {
    "ExecuteTime": {
     "end_time": "2017-07-18T23:34:05.506599Z",
     "start_time": "2017-07-19T07:34:05.465057+08:00"
    },
    "code_folding": [],
    "collapsed": true
   },
   "outputs": [],
   "source": [
    "# Callback EpisodeFinishedTQDM\n",
    "from tqdm import tqdm_notebook\n",
    "class EpisodeFinishedTQDM(EpisodeFinished):\n",
    "    \"\"\"Logger for tensorforce using tqdm_notebook for jupyter-notebook.\"\"\"\n",
    "    \n",
    "    def __init__(self, episodes, log_intv):\n",
    "        \"\"\"\n",
    "        log_intv - print the mean metrics every log_intv episodes\n",
    "        \"\"\"\n",
    "        super().__init__(log_intv=log_intv)\n",
    "        self.episodes = episodes\n",
    "        self.progbar = tqdm_notebook(desc='', \n",
    "                                     total=episodes, \n",
    "                                     leave=True, mininterval=5)\n",
    "    \n",
    "    def __call__(self, r):\n",
    "        super().__call__(r)\n",
    "        desc = \"reward: {reward: 2.4f} [{rewards_min: 2.4f}, {rewards_max: 2.4f}], portfolio_value: {portfolio_value: 2.4f} [{portfolio_value_min: 2.4f}, {portfolio_value_max: 2.4f}]\".        format(\n",
    "            reward=np.mean(r.episode_rewards[-1:]),\n",
    "            rewards_min=np.min(r.episode_rewards[-1:]),\n",
    "            rewards_max=np.max(r.episode_rewards[-1:]),\n",
    "            portfolio_value=np.mean(self.portfolio_values[-1:]),\n",
    "            portfolio_value_min=np.min(self.portfolio_values[-1:]),\n",
    "            portfolio_value_max=np.max(self.portfolio_values[-1:])\n",
    "        )\n",
    "        self.progbar.desc = desc\n",
    "        self.progbar.update(1)  # update\n",
    "        return True"
   ]
  },
  {
   "cell_type": "code",
   "execution_count": 16,
   "metadata": {
    "ExecuteTime": {
     "end_time": "2017-07-18T23:34:07.847504Z",
     "start_time": "2017-07-19T07:34:07.808241+08:00"
    },
    "collapsed": true
   },
   "outputs": [],
   "source": [
    "from tensorforce.execution import Runner\n",
    "runner = Runner(agent=agent, environment=environment, save_path=save_path, save_episodes=10000)"
   ]
  },
  {
   "cell_type": "code",
   "execution_count": 20,
   "metadata": {
    "ExecuteTime": {
     "end_time": "2017-07-18T23:35:58.312363Z",
     "start_time": "2017-07-19T07:35:58.165555+08:00"
    }
   },
   "outputs": [
    {
     "name": "stdout",
     "output_type": "stream",
     "text": [
      "INFO:tensorflow:Restoring parameters from ./outputs/tensorforce-VPG/tensorforce-VPG_20170717_04-42-55.model\n"
     ]
    },
    {
     "name": "stderr",
     "output_type": "stream",
     "text": [
      "INFO:tensorflow:Restoring parameters from ./outputs/tensorforce-VPG/tensorforce-VPG_20170717_04-42-55.model\n",
      "[2017-07-19 07:35:58,198] Restoring parameters from ./outputs/tensorforce-VPG/tensorforce-VPG_20170717_04-42-55.model\n"
     ]
    }
   ],
   "source": [
    "agent.load_model(save_path)"
   ]
  },
  {
   "cell_type": "code",
   "execution_count": 29,
   "metadata": {
    "ExecuteTime": {
     "end_time": "2017-07-17T23:17:20.075066Z",
     "start_time": "2017-07-17T12:48:09.689422+08:00"
    },
    "scrolled": true
   },
   "outputs": [
    {
     "data": {
      "application/vnd.jupyter.widget-view+json": {
       "model_id": "fbefc0e52425476f9f2ecaf6cc6da2dc"
      }
     },
     "metadata": {},
     "output_type": "display_data"
    },
    {
     "name": "stdout",
     "output_type": "stream",
     "text": [
      "Finished episode 1000 after 30 timesteps (reward:  0.0003 [-0.0034,  0.0062]) portfolio_value:  1.0089 [ 0.9031,  1.2030]\n",
      "Finished episode 2000 after 30 timesteps (reward:  0.0002 [-0.0033,  0.0031]) portfolio_value:  1.0071 [ 0.9063,  1.0977]\n",
      "Finished episode 3000 after 30 timesteps (reward:  0.0002 [-0.0054,  0.0060]) portfolio_value:  1.0068 [ 0.8503,  1.1988]\n",
      "Finished episode 4000 after 30 timesteps (reward:  0.0003 [-0.0069,  0.0036]) portfolio_value:  1.0090 [ 0.8120,  1.1129]\n",
      "Finished episode 5000 after 30 timesteps (reward:  0.0003 [-0.0042,  0.0042]) portfolio_value:  1.0082 [ 0.8827,  1.1359]\n",
      "Finished episode 6000 after 30 timesteps (reward:  0.0003 [-0.0029,  0.0044]) portfolio_value:  1.0084 [ 0.9167,  1.1396]\n",
      "Finished episode 7000 after 30 timesteps (reward:  0.0002 [-0.0039,  0.0067]) portfolio_value:  1.0062 [ 0.8884,  1.2209]\n",
      "Finished episode 8000 after 30 timesteps (reward:  0.0002 [-0.0186,  0.0041]) portfolio_value:  1.0077 [ 0.5715,  1.1307]\n",
      "Finished episode 9000 after 30 timesteps (reward:  0.0002 [-0.0073,  0.0039]) portfolio_value:  1.0068 [ 0.8041,  1.1232]\n",
      "Saving agent after episode 10000\n",
      "Finished episode 10000 after 30 timesteps (reward:  0.0003 [-0.0036,  0.0058]) portfolio_value:  1.0091 [ 0.8973,  1.1887]\n",
      "Finished episode 11000 after 30 timesteps (reward:  0.0002 [-0.0101,  0.0058]) portfolio_value:  1.0060 [ 0.7384,  1.1909]\n",
      "Finished episode 12000 after 30 timesteps (reward:  0.0002 [-0.0066,  0.0052]) portfolio_value:  1.0060 [ 0.8208,  1.1673]\n",
      "Finished episode 13000 after 30 timesteps (reward:  0.0003 [-0.0037,  0.0046]) portfolio_value:  1.0094 [ 0.8955,  1.1478]\n",
      "Finished episode 14000 after 30 timesteps (reward:  0.0002 [-0.0092,  0.0058]) portfolio_value:  1.0074 [ 0.7590,  1.1916]\n",
      "Finished episode 15000 after 30 timesteps (reward:  0.0002 [-0.0083,  0.0041]) portfolio_value:  1.0073 [ 0.7790,  1.1297]\n",
      "Finished episode 16000 after 30 timesteps (reward:  0.0002 [-0.0048,  0.0045]) portfolio_value:  1.0056 [ 0.8658,  1.1437]\n",
      "Finished episode 17000 after 30 timesteps (reward:  0.0002 [-0.0032,  0.0055]) portfolio_value:  1.0075 [ 0.9081,  1.1795]\n",
      "Finished episode 18000 after 30 timesteps (reward:  0.0002 [-0.0067,  0.0064]) portfolio_value:  1.0060 [ 0.8175,  1.2123]\n",
      "Finished episode 19000 after 30 timesteps (reward:  0.0002 [-0.0033,  0.0040]) portfolio_value:  1.0055 [ 0.9047,  1.1288]\n",
      "Saving agent after episode 20000\n",
      "Finished episode 20000 after 30 timesteps (reward:  0.0002 [-0.0113,  0.0055]) portfolio_value:  1.0060 [ 0.7130,  1.1783]\n",
      "Finished episode 21000 after 30 timesteps (reward:  0.0003 [-0.0087,  0.0066]) portfolio_value:  1.0092 [ 0.7696,  1.2194]\n",
      "Finished episode 22000 after 30 timesteps (reward:  0.0002 [-0.0146,  0.0045]) portfolio_value:  1.0060 [ 0.6462,  1.1449]\n",
      "Finished episode 23000 after 30 timesteps (reward:  0.0002 [-0.0051,  0.0041]) portfolio_value:  1.0063 [ 0.8587,  1.1316]\n",
      "Finished episode 24000 after 30 timesteps (reward:  0.0002 [-0.0041,  0.0042]) portfolio_value:  1.0068 [ 0.8838,  1.1327]\n",
      "Finished episode 25000 after 30 timesteps (reward:  0.0002 [-0.0048,  0.0054]) portfolio_value:  1.0068 [ 0.8652,  1.1770]\n",
      "Finished episode 26000 after 30 timesteps (reward:  0.0003 [-0.0078,  0.0053]) portfolio_value:  1.0087 [ 0.7913,  1.1716]\n",
      "Finished episode 27000 after 30 timesteps (reward:  0.0002 [-0.0132,  0.0043]) portfolio_value:  1.0072 [ 0.6725,  1.1369]\n",
      "Finished episode 28000 after 30 timesteps (reward:  0.0002 [-0.0063,  0.0050]) portfolio_value:  1.0069 [ 0.8266,  1.1626]\n",
      "Finished episode 29000 after 30 timesteps (reward:  0.0002 [-0.0051,  0.0050]) portfolio_value:  1.0079 [ 0.8569,  1.1606]\n",
      "Saving agent after episode 30000\n",
      "Finished episode 30000 after 30 timesteps (reward:  0.0002 [-0.0041,  0.0049]) portfolio_value:  1.0060 [ 0.8836,  1.1601]\n",
      "Finished episode 31000 after 30 timesteps (reward:  0.0002 [-0.0089,  0.0055]) portfolio_value:  1.0073 [ 0.7647,  1.1801]\n",
      "Finished episode 32000 after 30 timesteps (reward:  0.0003 [-0.0072,  0.0058]) portfolio_value:  1.0080 [ 0.8053,  1.1914]\n",
      "Finished episode 33000 after 30 timesteps (reward:  0.0002 [-0.0056,  0.0082]) portfolio_value:  1.0060 [ 0.8466,  1.2791]\n",
      "Finished episode 34000 after 30 timesteps (reward:  0.0003 [-0.0037,  0.0063]) portfolio_value:  1.0087 [ 0.8946,  1.2094]\n",
      "Finished episode 35000 after 30 timesteps (reward:  0.0002 [-0.0102,  0.0035]) portfolio_value:  1.0066 [ 0.7354,  1.1093]\n",
      "Finished episode 36000 after 30 timesteps (reward:  0.0002 [-0.0112,  0.0059]) portfolio_value:  1.0061 [ 0.7149,  1.1924]\n",
      "Finished episode 37000 after 30 timesteps (reward:  0.0002 [-0.0033,  0.0038]) portfolio_value:  1.0077 [ 0.9068,  1.1191]\n",
      "Finished episode 38000 after 30 timesteps (reward:  0.0002 [-0.0041,  0.0047]) portfolio_value:  1.0066 [ 0.8835,  1.1517]\n",
      "Finished episode 39000 after 30 timesteps (reward:  0.0002 [-0.0035,  0.0066]) portfolio_value:  1.0075 [ 0.9005,  1.2191]\n",
      "Saving agent after episode 40000\n",
      "Finished episode 40000 after 30 timesteps (reward:  0.0002 [-0.0034,  0.0040]) portfolio_value:  1.0056 [ 0.9037,  1.1285]\n",
      "Finished episode 41000 after 30 timesteps (reward:  0.0002 [-0.0051,  0.0039]) portfolio_value:  1.0059 [ 0.8592,  1.1249]\n",
      "Finished episode 42000 after 30 timesteps (reward:  0.0003 [-0.0031,  0.0064]) portfolio_value:  1.0083 [ 0.9099,  1.2106]\n",
      "Finished episode 43000 after 30 timesteps (reward:  0.0002 [-0.0045,  0.0041]) portfolio_value:  1.0071 [ 0.8730,  1.1304]\n",
      "Finished episode 44000 after 30 timesteps (reward:  0.0002 [-0.0120,  0.0064]) portfolio_value:  1.0079 [ 0.6982,  1.2099]\n",
      "Finished episode 45000 after 30 timesteps (reward:  0.0003 [-0.0037,  0.0052]) portfolio_value:  1.0086 [ 0.8950,  1.1676]\n",
      "Finished episode 46000 after 30 timesteps (reward:  0.0002 [-0.0039,  0.0062]) portfolio_value:  1.0075 [ 0.8883,  1.2053]\n",
      "Finished episode 47000 after 30 timesteps (reward:  0.0002 [-0.0038,  0.0081]) portfolio_value:  1.0072 [ 0.8916,  1.2757]\n",
      "Finished episode 48000 after 30 timesteps (reward:  0.0002 [-0.0048,  0.0053]) portfolio_value:  1.0058 [ 0.8663,  1.1738]\n",
      "Finished episode 49000 after 30 timesteps (reward:  0.0003 [-0.0038,  0.0050]) portfolio_value:  1.0081 [ 0.8928,  1.1621]\n",
      "Saving agent after episode 50000\n",
      "Finished episode 50000 after 30 timesteps (reward:  0.0002 [-0.0041,  0.0089]) portfolio_value:  1.0056 [ 0.8853,  1.3050]\n",
      "Finished episode 51000 after 30 timesteps (reward:  0.0002 [-0.0036,  0.0081]) portfolio_value:  1.0079 [ 0.8990,  1.2739]\n",
      "Finished episode 52000 after 30 timesteps (reward:  0.0002 [-0.0109,  0.0055]) portfolio_value:  1.0068 [ 0.7207,  1.1804]\n",
      "Finished episode 53000 after 30 timesteps (reward:  0.0002 [-0.0053,  0.0056]) portfolio_value:  1.0074 [ 0.8536,  1.1831]\n",
      "Finished episode 54000 after 30 timesteps (reward:  0.0002 [-0.0077,  0.0035]) portfolio_value:  1.0072 [ 0.7941,  1.1115]\n",
      "Finished episode 55000 after 30 timesteps (reward:  0.0002 [-0.0055,  0.0068]) portfolio_value:  1.0070 [ 0.8471,  1.2260]\n",
      "Finished episode 56000 after 30 timesteps (reward:  0.0002 [-0.0038,  0.0063]) portfolio_value:  1.0065 [ 0.8926,  1.2075]\n",
      "Finished episode 57000 after 30 timesteps (reward:  0.0002 [-0.0035,  0.0055]) portfolio_value:  1.0073 [ 0.9006,  1.1811]\n",
      "Finished episode 58000 after 30 timesteps (reward:  0.0003 [-0.0035,  0.0036]) portfolio_value:  1.0080 [ 0.9015,  1.1127]\n",
      "Finished episode 59000 after 30 timesteps (reward:  0.0003 [-0.0060,  0.0105]) portfolio_value:  1.0092 [ 0.8363,  1.3693]\n",
      "Saving agent after episode 60000\n",
      "Finished episode 60000 after 30 timesteps (reward:  0.0002 [-0.0138,  0.0050]) portfolio_value:  1.0059 [ 0.6619,  1.1617]\n",
      "Finished episode 61000 after 30 timesteps (reward:  0.0002 [-0.0068,  0.0060]) portfolio_value:  1.0076 [ 0.8150,  1.1974]\n",
      "Finished episode 62000 after 30 timesteps (reward:  0.0003 [-0.0039,  0.0047]) portfolio_value:  1.0090 [ 0.8886,  1.1505]\n",
      "Finished episode 63000 after 30 timesteps (reward:  0.0002 [-0.0041,  0.0035]) portfolio_value:  1.0072 [ 0.8855,  1.1105]\n",
      "Finished episode 64000 after 30 timesteps (reward:  0.0003 [-0.0036,  0.0058]) portfolio_value:  1.0086 [ 0.8987,  1.1893]\n",
      "Finished episode 65000 after 30 timesteps (reward:  0.0002 [-0.0032,  0.0052]) portfolio_value:  1.0056 [ 0.9073,  1.1671]\n",
      "Finished episode 66000 after 30 timesteps (reward:  0.0002 [-0.0028,  0.0060]) portfolio_value:  1.0060 [ 0.9199,  1.1981]\n"
     ]
    },
    {
     "name": "stdout",
     "output_type": "stream",
     "text": [
      "Finished episode 67000 after 30 timesteps (reward:  0.0003 [-0.0040,  0.0044]) portfolio_value:  1.0083 [ 0.8858,  1.1395]\n",
      "Finished episode 68000 after 30 timesteps (reward:  0.0002 [-0.0070,  0.0045]) portfolio_value:  1.0061 [ 0.8096,  1.1429]\n",
      "Finished episode 69000 after 30 timesteps (reward:  0.0002 [-0.0081,  0.0038]) portfolio_value:  1.0077 [ 0.7849,  1.1209]\n",
      "Saving agent after episode 70000\n",
      "Finished episode 70000 after 30 timesteps (reward:  0.0002 [-0.0040,  0.0055]) portfolio_value:  1.0073 [ 0.8867,  1.1801]\n",
      "Finished episode 71000 after 30 timesteps (reward:  0.0002 [-0.0028,  0.0048]) portfolio_value:  1.0074 [ 0.9198,  1.1562]\n",
      "Finished episode 72000 after 30 timesteps (reward:  0.0002 [-0.0046,  0.0065]) portfolio_value:  1.0074 [ 0.8712,  1.2163]\n",
      "Finished episode 73000 after 30 timesteps (reward:  0.0003 [-0.0039,  0.0036]) portfolio_value:  1.0082 [ 0.8893,  1.1153]\n",
      "Finished episode 74000 after 30 timesteps (reward:  0.0002 [-0.0038,  0.0048]) portfolio_value:  1.0072 [ 0.8934,  1.1566]\n",
      "Finished episode 75000 after 30 timesteps (reward:  0.0002 [-0.0036,  0.0055]) portfolio_value:  1.0064 [ 0.8989,  1.1782]\n",
      "Finished episode 76000 after 30 timesteps (reward:  0.0002 [-0.0044,  0.0036]) portfolio_value:  1.0073 [ 0.8759,  1.1128]\n",
      "Finished episode 77000 after 30 timesteps (reward:  0.0002 [-0.0089,  0.0059]) portfolio_value:  1.0065 [ 0.7667,  1.1939]\n",
      "Finished episode 78000 after 30 timesteps (reward:  0.0002 [-0.0033,  0.0061]) portfolio_value:  1.0077 [ 0.9044,  1.1997]\n",
      "Finished episode 79000 after 30 timesteps (reward:  0.0003 [-0.0036,  0.0045]) portfolio_value:  1.0089 [ 0.8971,  1.1447]\n",
      "Saving agent after episode 80000\n",
      "Finished episode 80000 after 30 timesteps (reward:  0.0002 [-0.0042,  0.0042]) portfolio_value:  1.0072 [ 0.8808,  1.1354]\n",
      "Finished episode 81000 after 30 timesteps (reward:  0.0002 [-0.0046,  0.0053]) portfolio_value:  1.0075 [ 0.8718,  1.1711]\n",
      "Finished episode 82000 after 30 timesteps (reward:  0.0002 [-0.0034,  0.0042]) portfolio_value:  1.0078 [ 0.9024,  1.1345]\n",
      "Finished episode 83000 after 30 timesteps (reward:  0.0002 [-0.0043,  0.0032]) portfolio_value:  1.0052 [ 0.8779,  1.0998]\n",
      "Finished episode 84000 after 30 timesteps (reward:  0.0002 [-0.0037,  0.0055]) portfolio_value:  1.0079 [ 0.8949,  1.1794]\n",
      "Finished episode 85000 after 30 timesteps (reward:  0.0002 [-0.0030,  0.0057]) portfolio_value:  1.0077 [ 0.9129,  1.1856]\n",
      "Finished episode 86000 after 30 timesteps (reward:  0.0002 [-0.0090,  0.0065]) portfolio_value:  1.0072 [ 0.7631,  1.2151]\n",
      "Finished episode 87000 after 30 timesteps (reward:  0.0002 [-0.0036,  0.0040]) portfolio_value:  1.0063 [ 0.8963,  1.1292]\n",
      "Finished episode 88000 after 30 timesteps (reward:  0.0002 [-0.0117,  0.0047]) portfolio_value:  1.0068 [ 0.7039,  1.1500]\n",
      "Finished episode 89000 after 30 timesteps (reward:  0.0002 [-0.0065,  0.0041]) portfolio_value:  1.0058 [ 0.8235,  1.1322]\n",
      "Saving agent after episode 90000\n",
      "Finished episode 90000 after 30 timesteps (reward:  0.0002 [-0.0029,  0.0051]) portfolio_value:  1.0078 [ 0.9171,  1.1659]\n",
      "Finished episode 91000 after 30 timesteps (reward:  0.0002 [-0.0055,  0.0041]) portfolio_value:  1.0058 [ 0.8489,  1.1294]\n",
      "Finished episode 92000 after 30 timesteps (reward:  0.0002 [-0.0033,  0.0036]) portfolio_value:  1.0076 [ 0.9064,  1.1126]\n",
      "Finished episode 93000 after 30 timesteps (reward:  0.0002 [-0.0053,  0.0053]) portfolio_value:  1.0079 [ 0.8517,  1.1733]\n",
      "Finished episode 94000 after 30 timesteps (reward:  0.0002 [-0.0039,  0.0088]) portfolio_value:  1.0076 [ 0.8907,  1.3024]\n",
      "Finished episode 95000 after 30 timesteps (reward:  0.0002 [-0.0037,  0.0077]) portfolio_value:  1.0058 [ 0.8951,  1.2616]\n",
      "Finished episode 96000 after 30 timesteps (reward:  0.0002 [-0.0155,  0.0047]) portfolio_value:  1.0064 [ 0.6287,  1.1498]\n",
      "Finished episode 97000 after 30 timesteps (reward:  0.0003 [-0.0031,  0.0051]) portfolio_value:  1.0083 [ 0.9106,  1.1643]\n",
      "Finished episode 98000 after 30 timesteps (reward:  0.0003 [-0.0038,  0.0053]) portfolio_value:  1.0089 [ 0.8935,  1.1721]\n",
      "Finished episode 99000 after 30 timesteps (reward:  0.0002 [-0.0064,  0.0042]) portfolio_value:  1.0068 [ 0.8255,  1.1347]\n",
      "Saving agent after episode 100000\n",
      "Finished episode 100000 after 30 timesteps (reward:  0.0002 [-0.0035,  0.0044]) portfolio_value:  1.0066 [ 0.8998,  1.1403]\n",
      "Finished episode 101000 after 30 timesteps (reward:  0.0002 [-0.0039,  0.0035]) portfolio_value:  1.0071 [ 0.8884,  1.1113]\n",
      "Finished episode 102000 after 30 timesteps (reward:  0.0002 [-0.0059,  0.0047]) portfolio_value:  1.0067 [ 0.8381,  1.1524]\n",
      "Finished episode 103000 after 30 timesteps (reward:  0.0002 [-0.0034,  0.0077]) portfolio_value:  1.0071 [ 0.9020,  1.2604]\n",
      "Finished episode 104000 after 30 timesteps (reward:  0.0003 [-0.0043,  0.0049]) portfolio_value:  1.0082 [ 0.8781,  1.1600]\n",
      "Finished episode 105000 after 30 timesteps (reward:  0.0003 [-0.0037,  0.0052]) portfolio_value:  1.0087 [ 0.8955,  1.1676]\n",
      "Finished episode 106000 after 30 timesteps (reward:  0.0002 [-0.0043,  0.0047]) portfolio_value:  1.0072 [ 0.8778,  1.1528]\n",
      "Finished episode 107000 after 30 timesteps (reward:  0.0002 [-0.0063,  0.0040]) portfolio_value:  1.0066 [ 0.8276,  1.1274]\n",
      "Finished episode 108000 after 30 timesteps (reward:  0.0003 [-0.0085,  0.0049]) portfolio_value:  1.0083 [ 0.7741,  1.1595]\n",
      "Finished episode 109000 after 30 timesteps (reward:  0.0002 [-0.0042,  0.0044]) portfolio_value:  1.0065 [ 0.8826,  1.1426]\n",
      "Saving agent after episode 110000\n",
      "Finished episode 110000 after 30 timesteps (reward:  0.0003 [-0.0033,  0.0037]) portfolio_value:  1.0086 [ 0.9058,  1.1175]\n",
      "Finished episode 111000 after 30 timesteps (reward:  0.0002 [-0.0064,  0.0056]) portfolio_value:  1.0068 [ 0.8258,  1.1834]\n",
      "Finished episode 112000 after 30 timesteps (reward:  0.0002 [-0.0056,  0.0047]) portfolio_value:  1.0074 [ 0.8447,  1.1505]\n",
      "Finished episode 113000 after 30 timesteps (reward:  0.0003 [-0.0062,  0.0041]) portfolio_value:  1.0084 [ 0.8311,  1.1300]\n",
      "Finished episode 114000 after 30 timesteps (reward:  0.0003 [-0.0033,  0.0045]) portfolio_value:  1.0080 [ 0.9051,  1.1429]\n",
      "Finished episode 115000 after 30 timesteps (reward:  0.0002 [-0.0040,  0.0047]) portfolio_value:  1.0060 [ 0.8861,  1.1512]\n",
      "Finished episode 116000 after 30 timesteps (reward:  0.0002 [-0.0044,  0.0061]) portfolio_value:  1.0078 [ 0.8773,  1.2003]\n",
      "Finished episode 117000 after 30 timesteps (reward:  0.0002 [-0.0033,  0.0039]) portfolio_value:  1.0061 [ 0.9051,  1.1232]\n",
      "Finished episode 118000 after 30 timesteps (reward:  0.0002 [-0.0088,  0.0053]) portfolio_value:  1.0067 [ 0.7682,  1.1727]\n",
      "Finished episode 119000 after 30 timesteps (reward:  0.0002 [-0.0107,  0.0044]) portfolio_value:  1.0055 [ 0.7255,  1.1423]\n",
      "Saving agent after episode 120000\n",
      "Finished episode 120000 after 30 timesteps (reward:  0.0002 [-0.0081,  0.0042]) portfolio_value:  1.0061 [ 0.7842,  1.1338]\n",
      "Finished episode 121000 after 30 timesteps (reward:  0.0002 [-0.0065,  0.0043]) portfolio_value:  1.0068 [ 0.8230,  1.1388]\n",
      "Finished episode 122000 after 30 timesteps (reward:  0.0003 [-0.0037,  0.0045]) portfolio_value:  1.0083 [ 0.8942,  1.1454]\n",
      "Finished episode 123000 after 30 timesteps (reward:  0.0002 [-0.0040,  0.0038]) portfolio_value:  1.0063 [ 0.8874,  1.1224]\n",
      "Finished episode 124000 after 30 timesteps (reward:  0.0002 [-0.0051,  0.0047]) portfolio_value:  1.0057 [ 0.8585,  1.1524]\n",
      "Finished episode 125000 after 30 timesteps (reward:  0.0002 [-0.0087,  0.0049]) portfolio_value:  1.0072 [ 0.7708,  1.1580]\n",
      "Finished episode 126000 after 30 timesteps (reward:  0.0002 [-0.0038,  0.0041]) portfolio_value:  1.0073 [ 0.8935,  1.1313]\n",
      "Finished episode 127000 after 30 timesteps (reward:  0.0002 [-0.0109,  0.0053]) portfolio_value:  1.0076 [ 0.7202,  1.1712]\n",
      "Finished episode 128000 after 30 timesteps (reward:  0.0002 [-0.0044,  0.0032]) portfolio_value:  1.0073 [ 0.8757,  1.1001]\n",
      "Finished episode 129000 after 30 timesteps (reward:  0.0001 [-0.0303,  0.0045]) portfolio_value:  1.0048 [ 0.4029,  1.1438]\n",
      "Saving agent after episode 130000\n",
      "Finished episode 130000 after 30 timesteps (reward:  0.0002 [-0.0059,  0.0080]) portfolio_value:  1.0065 [ 0.8384,  1.2710]\n",
      "Finished episode 131000 after 30 timesteps (reward:  0.0002 [-0.0059,  0.0058]) portfolio_value:  1.0079 [ 0.8390,  1.1900]\n"
     ]
    },
    {
     "name": "stdout",
     "output_type": "stream",
     "text": [
      "Finished episode 132000 after 30 timesteps (reward:  0.0002 [-0.0041,  0.0052]) portfolio_value:  1.0076 [ 0.8855,  1.1687]\n",
      "Finished episode 133000 after 30 timesteps (reward:  0.0003 [-0.0071,  0.0057]) portfolio_value:  1.0087 [ 0.8086,  1.1879]\n",
      "Finished episode 134000 after 30 timesteps (reward:  0.0002 [-0.0033,  0.0052]) portfolio_value:  1.0076 [ 0.9059,  1.1695]\n",
      "Finished episode 135000 after 30 timesteps (reward:  0.0002 [-0.0047,  0.0045]) portfolio_value:  1.0080 [ 0.8688,  1.1441]\n",
      "Finished episode 136000 after 30 timesteps (reward:  0.0002 [-0.0148,  0.0048]) portfolio_value:  1.0062 [ 0.6414,  1.1549]\n",
      "Finished episode 137000 after 30 timesteps (reward:  0.0003 [-0.0042,  0.0057]) portfolio_value:  1.0081 [ 0.8826,  1.1863]\n",
      "Finished episode 138000 after 30 timesteps (reward:  0.0002 [-0.0092,  0.0060]) portfolio_value:  1.0068 [ 0.7591,  1.1973]\n",
      "Finished episode 139000 after 30 timesteps (reward:  0.0002 [-0.0032,  0.0035]) portfolio_value:  1.0075 [ 0.9072,  1.1101]\n",
      "Saving agent after episode 140000\n",
      "Finished episode 140000 after 30 timesteps (reward:  0.0002 [-0.0049,  0.0073]) portfolio_value:  1.0075 [ 0.8636,  1.2456]\n",
      "Finished episode 141000 after 30 timesteps (reward:  0.0002 [-0.0146,  0.0036]) portfolio_value:  1.0056 [ 0.6460,  1.1150]\n",
      "Finished episode 142000 after 30 timesteps (reward:  0.0002 [-0.0032,  0.0041]) portfolio_value:  1.0058 [ 0.9095,  1.1301]\n",
      "Finished episode 143000 after 30 timesteps (reward:  0.0003 [-0.0029,  0.0050]) portfolio_value:  1.0083 [ 0.9157,  1.1613]\n",
      "Finished episode 144000 after 30 timesteps (reward:  0.0002 [-0.0053,  0.0053]) portfolio_value:  1.0063 [ 0.8539,  1.1718]\n",
      "Finished episode 145000 after 30 timesteps (reward:  0.0002 [-0.0041,  0.0081]) portfolio_value:  1.0064 [ 0.8854,  1.2767]\n",
      "Finished episode 146000 after 30 timesteps (reward:  0.0002 [-0.0059,  0.0068]) portfolio_value:  1.0065 [ 0.8387,  1.2278]\n",
      "Finished episode 147000 after 30 timesteps (reward:  0.0002 [-0.0081,  0.0052]) portfolio_value:  1.0059 [ 0.7840,  1.1694]\n",
      "Finished episode 148000 after 30 timesteps (reward:  0.0002 [-0.0035,  0.0049]) portfolio_value:  1.0068 [ 0.8991,  1.1574]\n",
      "Finished episode 149000 after 30 timesteps (reward:  0.0003 [-0.0037,  0.0044]) portfolio_value:  1.0087 [ 0.8943,  1.1405]\n",
      "Saving agent after episode 150000\n",
      "Finished episode 150000 after 30 timesteps (reward:  0.0002 [-0.0031,  0.0052]) portfolio_value:  1.0071 [ 0.9124,  1.1678]\n",
      "Finished episode 151000 after 30 timesteps (reward:  0.0002 [-0.0066,  0.0040]) portfolio_value:  1.0056 [ 0.8209,  1.1284]\n",
      "Finished episode 152000 after 30 timesteps (reward:  0.0002 [-0.0038,  0.0042]) portfolio_value:  1.0070 [ 0.8915,  1.1334]\n",
      "Finished episode 153000 after 30 timesteps (reward:  0.0002 [-0.0043,  0.0051]) portfolio_value:  1.0070 [ 0.8781,  1.1655]\n",
      "Finished episode 154000 after 30 timesteps (reward:  0.0003 [-0.0028,  0.0058]) portfolio_value:  1.0088 [ 0.9196,  1.1885]\n",
      "Finished episode 155000 after 30 timesteps (reward:  0.0003 [-0.0048,  0.0043]) portfolio_value:  1.0080 [ 0.8659,  1.1368]\n",
      "Finished episode 156000 after 30 timesteps (reward:  0.0001 [-0.0141,  0.0033]) portfolio_value:  1.0043 [ 0.6560,  1.1034]\n",
      "Finished episode 157000 after 30 timesteps (reward:  0.0003 [-0.0044,  0.0093]) portfolio_value:  1.0082 [ 0.8759,  1.3204]\n",
      "Finished episode 158000 after 30 timesteps (reward:  0.0002 [-0.0061,  0.0045]) portfolio_value:  1.0066 [ 0.8333,  1.1442]\n",
      "Finished episode 159000 after 30 timesteps (reward:  0.0002 [-0.0101,  0.0040]) portfolio_value:  1.0058 [ 0.7385,  1.1271]\n",
      "Saving agent after episode 160000\n",
      "Finished episode 160000 after 30 timesteps (reward:  0.0002 [-0.0059,  0.0053]) portfolio_value:  1.0079 [ 0.8382,  1.1719]\n",
      "Finished episode 161000 after 30 timesteps (reward:  0.0002 [-0.0056,  0.0061]) portfolio_value:  1.0068 [ 0.8459,  1.2014]\n",
      "Finished episode 162000 after 30 timesteps (reward:  0.0002 [-0.0058,  0.0056]) portfolio_value:  1.0055 [ 0.8397,  1.1824]\n",
      "Finished episode 163000 after 30 timesteps (reward:  0.0002 [-0.0043,  0.0037]) portfolio_value:  1.0078 [ 0.8797,  1.1158]\n",
      "Finished episode 164000 after 30 timesteps (reward:  0.0002 [-0.0108,  0.0054]) portfolio_value:  1.0064 [ 0.7229,  1.1770]\n",
      "Finished episode 165000 after 30 timesteps (reward:  0.0002 [-0.0063,  0.0048]) portfolio_value:  1.0072 [ 0.8275,  1.1553]\n",
      "Finished episode 166000 after 30 timesteps (reward:  0.0002 [-0.0036,  0.0055]) portfolio_value:  1.0074 [ 0.8966,  1.1794]\n",
      "Finished episode 167000 after 30 timesteps (reward:  0.0002 [-0.0080,  0.0064]) portfolio_value:  1.0077 [ 0.7859,  1.2122]\n",
      "Finished episode 168000 after 30 timesteps (reward:  0.0002 [-0.0040,  0.0042]) portfolio_value:  1.0060 [ 0.8867,  1.1357]\n",
      "Finished episode 169000 after 30 timesteps (reward:  0.0002 [-0.0047,  0.0074]) portfolio_value:  1.0068 [ 0.8672,  1.2496]\n",
      "Saving agent after episode 170000\n",
      "Finished episode 170000 after 30 timesteps (reward:  0.0002 [-0.0034,  0.0066]) portfolio_value:  1.0076 [ 0.9036,  1.2191]\n",
      "Finished episode 171000 after 30 timesteps (reward:  0.0002 [-0.0030,  0.0079]) portfolio_value:  1.0064 [ 0.9133,  1.2681]\n",
      "Finished episode 172000 after 30 timesteps (reward:  0.0002 [-0.0063,  0.0056]) portfolio_value:  1.0061 [ 0.8279,  1.1815]\n",
      "Finished episode 173000 after 30 timesteps (reward:  0.0002 [-0.0050,  0.0055]) portfolio_value:  1.0074 [ 0.8620,  1.1788]\n",
      "Finished episode 174000 after 30 timesteps (reward:  0.0002 [-0.0115,  0.0062]) portfolio_value:  1.0056 [ 0.7075,  1.2040]\n",
      "Finished episode 175000 after 30 timesteps (reward:  0.0002 [-0.0030,  0.0060]) portfolio_value:  1.0078 [ 0.9137,  1.1969]\n",
      "Finished episode 176000 after 30 timesteps (reward:  0.0002 [-0.0031,  0.0037]) portfolio_value:  1.0066 [ 0.9104,  1.1176]\n",
      "Finished episode 177000 after 30 timesteps (reward:  0.0002 [-0.0036,  0.0039]) portfolio_value:  1.0079 [ 0.8982,  1.1225]\n",
      "Finished episode 178000 after 30 timesteps (reward:  0.0002 [-0.0104,  0.0049]) portfolio_value:  1.0070 [ 0.7330,  1.1569]\n",
      "Finished episode 179000 after 30 timesteps (reward:  0.0002 [-0.0046,  0.0047]) portfolio_value:  1.0057 [ 0.8707,  1.1501]\n",
      "Saving agent after episode 180000\n",
      "Finished episode 180000 after 30 timesteps (reward:  0.0002 [-0.0059,  0.0068]) portfolio_value:  1.0080 [ 0.8378,  1.2252]\n",
      "Finished episode 181000 after 30 timesteps (reward:  0.0002 [-0.0036,  0.0041]) portfolio_value:  1.0069 [ 0.8987,  1.1300]\n",
      "Finished episode 182000 after 30 timesteps (reward:  0.0003 [-0.0036,  0.0050]) portfolio_value:  1.0086 [ 0.8986,  1.1604]\n",
      "Finished episode 183000 after 30 timesteps (reward:  0.0002 [-0.0043,  0.0038]) portfolio_value:  1.0074 [ 0.8780,  1.1205]\n",
      "Finished episode 184000 after 30 timesteps (reward:  0.0002 [-0.0037,  0.0039]) portfolio_value:  1.0063 [ 0.8948,  1.1241]\n",
      "Finished episode 185000 after 30 timesteps (reward:  0.0002 [-0.0051,  0.0055]) portfolio_value:  1.0061 [ 0.8578,  1.1783]\n",
      "Finished episode 186000 after 30 timesteps (reward:  0.0002 [-0.0034,  0.0047]) portfolio_value:  1.0074 [ 0.9037,  1.1512]\n",
      "Finished episode 187000 after 30 timesteps (reward:  0.0003 [-0.0034,  0.0045]) portfolio_value:  1.0090 [ 0.9021,  1.1442]\n",
      "Finished episode 188000 after 30 timesteps (reward:  0.0003 [-0.0037,  0.0080]) portfolio_value:  1.0081 [ 0.8943,  1.2714]\n",
      "Finished episode 189000 after 30 timesteps (reward:  0.0002 [-0.0097,  0.0038]) portfolio_value:  1.0059 [ 0.7482,  1.1204]\n",
      "Saving agent after episode 190000\n",
      "Finished episode 190000 after 30 timesteps (reward:  0.0002 [-0.0048,  0.0046]) portfolio_value:  1.0058 [ 0.8664,  1.1480]\n",
      "Finished episode 191000 after 30 timesteps (reward:  0.0002 [-0.0040,  0.0040]) portfolio_value:  1.0073 [ 0.8871,  1.1290]\n",
      "Finished episode 192000 after 30 timesteps (reward:  0.0002 [-0.0117,  0.0047]) portfolio_value:  1.0056 [ 0.7043,  1.1525]\n",
      "Finished episode 193000 after 30 timesteps (reward:  0.0002 [-0.0121,  0.0051]) portfolio_value:  1.0060 [ 0.6964,  1.1666]\n",
      "Finished episode 194000 after 30 timesteps (reward:  0.0001 [-0.0047,  0.0042]) portfolio_value:  1.0047 [ 0.8680,  1.1339]\n",
      "Finished episode 195000 after 30 timesteps (reward:  0.0002 [-0.0042,  0.0049]) portfolio_value:  1.0066 [ 0.8816,  1.1595]\n",
      "Finished episode 196000 after 30 timesteps (reward:  0.0002 [-0.0038,  0.0051]) portfolio_value:  1.0062 [ 0.8911,  1.1664]\n"
     ]
    },
    {
     "name": "stdout",
     "output_type": "stream",
     "text": [
      "Finished episode 197000 after 30 timesteps (reward:  0.0002 [-0.0038,  0.0041]) portfolio_value:  1.0073 [ 0.8910,  1.1296]\n",
      "Finished episode 198000 after 30 timesteps (reward:  0.0002 [-0.0172,  0.0046]) portfolio_value:  1.0077 [ 0.5962,  1.1463]\n",
      "Finished episode 199000 after 30 timesteps (reward:  0.0002 [-0.0027,  0.0035]) portfolio_value:  1.0072 [ 0.9222,  1.1109]\n",
      "Saving agent after episode 200000\n",
      "Finished episode 200000 after 30 timesteps (reward:  0.0002 [-0.0058,  0.0041]) portfolio_value:  1.0072 [ 0.8414,  1.1313]\n",
      "Finished episode 201000 after 30 timesteps (reward:  0.0002 [-0.0045,  0.0044]) portfolio_value:  1.0079 [ 0.8738,  1.1417]\n",
      "Finished episode 202000 after 30 timesteps (reward:  0.0002 [-0.0032,  0.0055]) portfolio_value:  1.0080 [ 0.9088,  1.1783]\n",
      "Finished episode 203000 after 30 timesteps (reward:  0.0002 [-0.0057,  0.0041]) portfolio_value:  1.0059 [ 0.8440,  1.1308]\n",
      "Finished episode 204000 after 30 timesteps (reward:  0.0002 [-0.0058,  0.0079]) portfolio_value:  1.0057 [ 0.8409,  1.2685]\n",
      "Finished episode 205000 after 30 timesteps (reward:  0.0002 [-0.0056,  0.0035]) portfolio_value:  1.0072 [ 0.8453,  1.1122]\n",
      "Finished episode 206000 after 30 timesteps (reward:  0.0003 [-0.0043,  0.0051]) portfolio_value:  1.0099 [ 0.8799,  1.1654]\n",
      "Finished episode 207000 after 30 timesteps (reward:  0.0002 [-0.0044,  0.0038]) portfolio_value:  1.0072 [ 0.8766,  1.1223]\n",
      "Finished episode 208000 after 30 timesteps (reward:  0.0002 [-0.0034,  0.0043]) portfolio_value:  1.0056 [ 0.9028,  1.1392]\n",
      "Finished episode 209000 after 30 timesteps (reward:  0.0002 [-0.0044,  0.0056]) portfolio_value:  1.0070 [ 0.8769,  1.1824]\n",
      "Saving agent after episode 210000\n",
      "Finished episode 210000 after 30 timesteps (reward:  0.0002 [-0.0046,  0.0043]) portfolio_value:  1.0073 [ 0.8709,  1.1368]\n",
      "Finished episode 211000 after 30 timesteps (reward:  0.0002 [-0.0055,  0.0037]) portfolio_value:  1.0070 [ 0.8471,  1.1180]\n",
      "Finished episode 212000 after 30 timesteps (reward:  0.0002 [-0.0048,  0.0056]) portfolio_value:  1.0050 [ 0.8664,  1.1837]\n",
      "Finished episode 213000 after 30 timesteps (reward:  0.0002 [-0.0038,  0.0053]) portfolio_value:  1.0065 [ 0.8916,  1.1720]\n",
      "Finished episode 214000 after 30 timesteps (reward:  0.0002 [-0.0032,  0.0063]) portfolio_value:  1.0069 [ 0.9096,  1.2086]\n",
      "Finished episode 215000 after 30 timesteps (reward:  0.0002 [-0.0031,  0.0046]) portfolio_value:  1.0071 [ 0.9103,  1.1495]\n",
      "Finished episode 216000 after 30 timesteps (reward:  0.0002 [-0.0067,  0.0040]) portfolio_value:  1.0064 [ 0.8185,  1.1266]\n",
      "Finished episode 217000 after 30 timesteps (reward:  0.0002 [-0.0029,  0.0049]) portfolio_value:  1.0078 [ 0.9176,  1.1599]\n",
      "Finished episode 218000 after 30 timesteps (reward:  0.0002 [-0.0101,  0.0070]) portfolio_value:  1.0070 [ 0.7392,  1.2331]\n",
      "Finished episode 219000 after 30 timesteps (reward:  0.0002 [-0.0034,  0.0052]) portfolio_value:  1.0079 [ 0.9037,  1.1674]\n",
      "Saving agent after episode 220000\n",
      "Finished episode 220000 after 30 timesteps (reward:  0.0002 [-0.0047,  0.0052]) portfolio_value:  1.0070 [ 0.8685,  1.1686]\n",
      "Finished episode 221000 after 30 timesteps (reward:  0.0003 [-0.0066,  0.0039]) portfolio_value:  1.0080 [ 0.8197,  1.1235]\n",
      "Finished episode 222000 after 30 timesteps (reward:  0.0002 [-0.0030,  0.0038]) portfolio_value:  1.0054 [ 0.9128,  1.1218]\n",
      "Finished episode 223000 after 30 timesteps (reward:  0.0002 [-0.0038,  0.0039]) portfolio_value:  1.0066 [ 0.8935,  1.1233]\n",
      "Finished episode 224000 after 30 timesteps (reward:  0.0002 [-0.0034,  0.0085]) portfolio_value:  1.0070 [ 0.9023,  1.2899]\n",
      "Finished episode 225000 after 30 timesteps (reward:  0.0002 [-0.0126,  0.0063]) portfolio_value:  1.0076 [ 0.6851,  1.2070]\n",
      "Finished episode 226000 after 30 timesteps (reward:  0.0002 [-0.0064,  0.0060]) portfolio_value:  1.0075 [ 0.8247,  1.1960]\n",
      "Finished episode 227000 after 30 timesteps (reward:  0.0002 [-0.0031,  0.0051]) portfolio_value:  1.0063 [ 0.9107,  1.1651]\n",
      "Finished episode 228000 after 30 timesteps (reward:  0.0002 [-0.0052,  0.0072]) portfolio_value:  1.0066 [ 0.8543,  1.2398]\n",
      "Finished episode 229000 after 30 timesteps (reward:  0.0002 [-0.0077,  0.0048]) portfolio_value:  1.0077 [ 0.7947,  1.1550]\n",
      "Saving agent after episode 230000\n",
      "Finished episode 230000 after 30 timesteps (reward:  0.0002 [-0.0043,  0.0067]) portfolio_value:  1.0080 [ 0.8781,  1.2235]\n",
      "Finished episode 231000 after 30 timesteps (reward:  0.0002 [-0.0077,  0.0070]) portfolio_value:  1.0070 [ 0.7928,  1.2346]\n",
      "Finished episode 232000 after 30 timesteps (reward:  0.0002 [-0.0164,  0.0072]) portfolio_value:  1.0070 [ 0.6117,  1.2396]\n",
      "Finished episode 233000 after 30 timesteps (reward:  0.0002 [-0.0031,  0.0037]) portfolio_value:  1.0076 [ 0.9120,  1.1174]\n",
      "Finished episode 234000 after 30 timesteps (reward:  0.0002 [-0.0033,  0.0048]) portfolio_value:  1.0064 [ 0.9046,  1.1536]\n",
      "Finished episode 235000 after 30 timesteps (reward:  0.0002 [-0.0031,  0.0043]) portfolio_value:  1.0075 [ 0.9104,  1.1369]\n",
      "Finished episode 236000 after 30 timesteps (reward:  0.0002 [-0.0054,  0.0035]) portfolio_value:  1.0074 [ 0.8514,  1.1120]\n",
      "Finished episode 237000 after 30 timesteps (reward:  0.0002 [-0.0030,  0.0041]) portfolio_value:  1.0075 [ 0.9144,  1.1324]\n",
      "Finished episode 238000 after 30 timesteps (reward:  0.0002 [-0.0074,  0.0098]) portfolio_value:  1.0063 [ 0.8006,  1.3412]\n",
      "Finished episode 239000 after 30 timesteps (reward:  0.0002 [-0.0030,  0.0036]) portfolio_value:  1.0073 [ 0.9126,  1.1156]\n",
      "Saving agent after episode 240000\n",
      "Finished episode 240000 after 30 timesteps (reward:  0.0002 [-0.0057,  0.0069]) portfolio_value:  1.0064 [ 0.8427,  1.2309]\n",
      "Finished episode 241000 after 30 timesteps (reward:  0.0002 [-0.0031,  0.0042]) portfolio_value:  1.0078 [ 0.9108,  1.1335]\n",
      "Finished episode 242000 after 30 timesteps (reward:  0.0002 [-0.0048,  0.0043]) portfolio_value:  1.0064 [ 0.8671,  1.1380]\n",
      "Finished episode 243000 after 30 timesteps (reward:  0.0002 [-0.0057,  0.0043]) portfolio_value:  1.0062 [ 0.8432,  1.1385]\n",
      "Finished episode 244000 after 30 timesteps (reward:  0.0002 [-0.0073,  0.0036]) portfolio_value:  1.0051 [ 0.8025,  1.1146]\n",
      "Finished episode 245000 after 30 timesteps (reward:  0.0003 [-0.0065,  0.0056]) portfolio_value:  1.0084 [ 0.8234,  1.1825]\n",
      "Finished episode 246000 after 30 timesteps (reward:  0.0002 [-0.0087,  0.0050]) portfolio_value:  1.0064 [ 0.7712,  1.1622]\n",
      "Finished episode 247000 after 30 timesteps (reward:  0.0002 [-0.0037,  0.0065]) portfolio_value:  1.0074 [ 0.8958,  1.2150]\n",
      "Finished episode 248000 after 30 timesteps (reward:  0.0002 [-0.0053,  0.0042]) portfolio_value:  1.0079 [ 0.8523,  1.1328]\n",
      "Finished episode 249000 after 30 timesteps (reward:  0.0002 [-0.0252,  0.0061]) portfolio_value:  1.0071 [ 0.4691,  1.2016]\n",
      "Saving agent after episode 250000\n",
      "Finished episode 250000 after 30 timesteps (reward:  0.0002 [-0.0074,  0.0064]) portfolio_value:  1.0069 [ 0.8020,  1.2131]\n",
      "Finished episode 251000 after 30 timesteps (reward:  0.0002 [-0.0038,  0.0055]) portfolio_value:  1.0072 [ 0.8916,  1.1797]\n",
      "Finished episode 252000 after 30 timesteps (reward:  0.0002 [-0.0070,  0.0058]) portfolio_value:  1.0060 [ 0.8094,  1.1909]\n",
      "Finished episode 253000 after 30 timesteps (reward:  0.0002 [-0.0062,  0.0061]) portfolio_value:  1.0074 [ 0.8297,  1.2024]\n",
      "Finished episode 254000 after 30 timesteps (reward:  0.0002 [-0.0030,  0.0053]) portfolio_value:  1.0055 [ 0.9132,  1.1739]\n",
      "Finished episode 255000 after 30 timesteps (reward:  0.0002 [-0.0038,  0.0067]) portfolio_value:  1.0068 [ 0.8909,  1.2241]\n",
      "Finished episode 256000 after 30 timesteps (reward:  0.0002 [-0.0048,  0.0040]) portfolio_value:  1.0068 [ 0.8665,  1.1281]\n",
      "Finished episode 257000 after 30 timesteps (reward:  0.0002 [-0.0168,  0.0047]) portfolio_value:  1.0060 [ 0.6038,  1.1529]\n",
      "Finished episode 258000 after 30 timesteps (reward:  0.0003 [-0.0031,  0.0038]) portfolio_value:  1.0081 [ 0.9099,  1.1223]\n",
      "Finished episode 259000 after 30 timesteps (reward:  0.0003 [-0.0051,  0.0037]) portfolio_value:  1.0080 [ 0.8583,  1.1180]\n",
      "Saving agent after episode 260000\n",
      "Finished episode 260000 after 30 timesteps (reward:  0.0002 [-0.0071,  0.0044]) portfolio_value:  1.0071 [ 0.8082,  1.1417]\n",
      "Finished episode 261000 after 30 timesteps (reward:  0.0002 [-0.0053,  0.0043]) portfolio_value:  1.0066 [ 0.8536,  1.1376]\n"
     ]
    },
    {
     "name": "stdout",
     "output_type": "stream",
     "text": [
      "Finished episode 262000 after 30 timesteps (reward:  0.0002 [-0.0079,  0.0043]) portfolio_value:  1.0059 [ 0.7892,  1.1391]\n",
      "Finished episode 263000 after 30 timesteps (reward:  0.0003 [-0.0045,  0.0045]) portfolio_value:  1.0081 [ 0.8742,  1.1458]\n",
      "Finished episode 264000 after 30 timesteps (reward:  0.0002 [-0.0038,  0.0033]) portfolio_value:  1.0067 [ 0.8920,  1.1054]\n",
      "Finished episode 265000 after 30 timesteps (reward:  0.0002 [-0.0037,  0.0055]) portfolio_value:  1.0069 [ 0.8962,  1.1781]\n",
      "Finished episode 266000 after 30 timesteps (reward:  0.0002 [-0.0065,  0.0073]) portfolio_value:  1.0076 [ 0.8231,  1.2440]\n",
      "Finished episode 267000 after 30 timesteps (reward:  0.0002 [-0.0038,  0.0041]) portfolio_value:  1.0056 [ 0.8921,  1.1293]\n",
      "Finished episode 268000 after 30 timesteps (reward:  0.0002 [-0.0041,  0.0055]) portfolio_value:  1.0072 [ 0.8847,  1.1782]\n",
      "Finished episode 269000 after 30 timesteps (reward:  0.0003 [-0.0050,  0.0144]) portfolio_value:  1.0095 [ 0.8615,  1.5384]\n",
      "Saving agent after episode 270000\n",
      "Finished episode 270000 after 30 timesteps (reward:  0.0002 [-0.0040,  0.0051]) portfolio_value:  1.0078 [ 0.8862,  1.1645]\n",
      "Finished episode 271000 after 30 timesteps (reward:  0.0003 [-0.0040,  0.0050]) portfolio_value:  1.0082 [ 0.8881,  1.1635]\n",
      "Finished episode 272000 after 30 timesteps (reward:  0.0003 [-0.0102,  0.0048]) portfolio_value:  1.0088 [ 0.7354,  1.1543]\n",
      "Finished episode 273000 after 30 timesteps (reward:  0.0002 [-0.0032,  0.0040]) portfolio_value:  1.0067 [ 0.9080,  1.1263]\n",
      "Finished episode 274000 after 30 timesteps (reward:  0.0002 [-0.0055,  0.0049]) portfolio_value:  1.0074 [ 0.8487,  1.1595]\n",
      "Finished episode 275000 after 30 timesteps (reward:  0.0002 [-0.0041,  0.0046]) portfolio_value:  1.0067 [ 0.8843,  1.1491]\n",
      "Finished episode 276000 after 30 timesteps (reward:  0.0003 [-0.0040,  0.0083]) portfolio_value:  1.0087 [ 0.8872,  1.2830]\n",
      "Finished episode 277000 after 30 timesteps (reward:  0.0002 [-0.0049,  0.0046]) portfolio_value:  1.0062 [ 0.8645,  1.1476]\n",
      "Finished episode 278000 after 30 timesteps (reward:  0.0003 [-0.0074,  0.0042]) portfolio_value:  1.0097 [ 0.8006,  1.1355]\n",
      "Finished episode 279000 after 30 timesteps (reward:  0.0002 [-0.0037,  0.0054]) portfolio_value:  1.0079 [ 0.8946,  1.1763]\n",
      "Saving agent after episode 280000\n",
      "Finished episode 280000 after 30 timesteps (reward:  0.0002 [-0.0098,  0.0043]) portfolio_value:  1.0067 [ 0.7458,  1.1392]\n",
      "Finished episode 281000 after 30 timesteps (reward:  0.0002 [-0.0043,  0.0051]) portfolio_value:  1.0066 [ 0.8799,  1.1661]\n",
      "Finished episode 282000 after 30 timesteps (reward:  0.0002 [-0.0077,  0.0040]) portfolio_value:  1.0065 [ 0.7948,  1.1273]\n",
      "Finished episode 283000 after 30 timesteps (reward:  0.0002 [-0.0040,  0.0051]) portfolio_value:  1.0077 [ 0.8874,  1.1665]\n",
      "Finished episode 284000 after 30 timesteps (reward:  0.0002 [-0.0112,  0.0036]) portfolio_value:  1.0055 [ 0.7154,  1.1137]\n",
      "Finished episode 285000 after 30 timesteps (reward:  0.0002 [-0.0118,  0.0034]) portfolio_value:  1.0057 [ 0.7028,  1.1088]\n",
      "Finished episode 286000 after 30 timesteps (reward:  0.0002 [-0.0119,  0.0046]) portfolio_value:  1.0056 [ 0.7005,  1.1474]\n",
      "Finished episode 287000 after 30 timesteps (reward:  0.0002 [-0.0055,  0.0044]) portfolio_value:  1.0073 [ 0.8486,  1.1408]\n",
      "Finished episode 288000 after 30 timesteps (reward:  0.0002 [-0.0054,  0.0066]) portfolio_value:  1.0073 [ 0.8517,  1.2202]\n",
      "Finished episode 289000 after 30 timesteps (reward:  0.0003 [-0.0036,  0.0045]) portfolio_value:  1.0090 [ 0.8977,  1.1438]\n",
      "Saving agent after episode 290000\n",
      "Finished episode 290000 after 30 timesteps (reward:  0.0002 [-0.0037,  0.0069]) portfolio_value:  1.0073 [ 0.8947,  1.2292]\n",
      "Finished episode 291000 after 30 timesteps (reward:  0.0002 [-0.0030,  0.0056]) portfolio_value:  1.0076 [ 0.9137,  1.1817]\n",
      "Finished episode 292000 after 30 timesteps (reward:  0.0002 [-0.0028,  0.0053]) portfolio_value:  1.0079 [ 0.9185,  1.1712]\n",
      "Finished episode 293000 after 30 timesteps (reward:  0.0002 [-0.0071,  0.0057]) portfolio_value:  1.0076 [ 0.8079,  1.1849]\n",
      "Finished episode 294000 after 30 timesteps (reward:  0.0002 [-0.0071,  0.0053]) portfolio_value:  1.0073 [ 0.8092,  1.1720]\n",
      "Finished episode 295000 after 30 timesteps (reward:  0.0003 [-0.0031,  0.0046]) portfolio_value:  1.0082 [ 0.9099,  1.1496]\n",
      "Finished episode 296000 after 30 timesteps (reward:  0.0002 [-0.0039,  0.0044]) portfolio_value:  1.0072 [ 0.8900,  1.1411]\n",
      "Finished episode 297000 after 30 timesteps (reward:  0.0002 [-0.0065,  0.0069]) portfolio_value:  1.0061 [ 0.8230,  1.2303]\n",
      "Finished episode 298000 after 30 timesteps (reward:  0.0002 [-0.0036,  0.0062]) portfolio_value:  1.0064 [ 0.8979,  1.2032]\n",
      "Finished episode 299000 after 30 timesteps (reward:  0.0002 [-0.0068,  0.0055]) portfolio_value:  1.0078 [ 0.8149,  1.1810]\n",
      "Saving agent after episode 300000\n",
      "Finished episode 300000 after 30 timesteps (reward:  0.0002 [-0.0061,  0.0054]) portfolio_value:  1.0071 [ 0.8322,  1.1764]\n",
      "Finished episode 301000 after 30 timesteps (reward:  0.0002 [-0.0042,  0.0049]) portfolio_value:  1.0072 [ 0.8812,  1.1580]\n",
      "Finished episode 302000 after 30 timesteps (reward:  0.0002 [-0.0040,  0.0062]) portfolio_value:  1.0057 [ 0.8878,  1.2031]\n",
      "Finished episode 303000 after 30 timesteps (reward:  0.0003 [-0.0043,  0.0056]) portfolio_value:  1.0093 [ 0.8791,  1.1843]\n",
      "Finished episode 304000 after 30 timesteps (reward:  0.0003 [-0.0035,  0.0062]) portfolio_value:  1.0083 [ 0.9005,  1.2045]\n",
      "Finished episode 305000 after 30 timesteps (reward:  0.0003 [-0.0036,  0.0045]) portfolio_value:  1.0082 [ 0.8986,  1.1453]\n",
      "Finished episode 306000 after 30 timesteps (reward:  0.0002 [-0.0038,  0.0054]) portfolio_value:  1.0076 [ 0.8924,  1.1763]\n",
      "Finished episode 307000 after 30 timesteps (reward:  0.0003 [-0.0230,  0.0049]) portfolio_value:  1.0092 [ 0.5021,  1.1601]\n",
      "Finished episode 308000 after 30 timesteps (reward:  0.0002 [-0.0100,  0.0051]) portfolio_value:  1.0075 [ 0.7399,  1.1666]\n",
      "Finished episode 309000 after 30 timesteps (reward:  0.0002 [-0.0035,  0.0045]) portfolio_value:  1.0073 [ 0.8991,  1.1432]\n",
      "Saving agent after episode 310000\n",
      "Finished episode 310000 after 30 timesteps (reward:  0.0002 [-0.0054,  0.0058]) portfolio_value:  1.0058 [ 0.8494,  1.1917]\n",
      "Finished episode 311000 after 30 timesteps (reward:  0.0002 [-0.0031,  0.0052]) portfolio_value:  1.0068 [ 0.9100,  1.1687]\n",
      "Finished episode 312000 after 30 timesteps (reward:  0.0003 [-0.0036,  0.0045]) portfolio_value:  1.0085 [ 0.8963,  1.1449]\n",
      "Finished episode 313000 after 30 timesteps (reward:  0.0002 [-0.0034,  0.0047]) portfolio_value:  1.0064 [ 0.9028,  1.1518]\n",
      "Finished episode 314000 after 30 timesteps (reward:  0.0002 [-0.0038,  0.0043]) portfolio_value:  1.0071 [ 0.8921,  1.1376]\n",
      "Finished episode 315000 after 30 timesteps (reward:  0.0002 [-0.0048,  0.0043]) portfolio_value:  1.0077 [ 0.8669,  1.1384]\n",
      "Finished episode 316000 after 30 timesteps (reward:  0.0002 [-0.0220,  0.0064]) portfolio_value:  1.0067 [ 0.5175,  1.2109]\n",
      "Finished episode 317000 after 30 timesteps (reward:  0.0002 [-0.0084,  0.0057]) portfolio_value:  1.0055 [ 0.7774,  1.1881]\n",
      "Finished episode 318000 after 30 timesteps (reward:  0.0002 [-0.0037,  0.0045]) portfolio_value:  1.0076 [ 0.8957,  1.1453]\n",
      "Finished episode 319000 after 30 timesteps (reward:  0.0002 [-0.0049,  0.0044]) portfolio_value:  1.0075 [ 0.8636,  1.1396]\n",
      "Saving agent after episode 320000\n",
      "Finished episode 320000 after 30 timesteps (reward:  0.0002 [-0.0059,  0.0041]) portfolio_value:  1.0056 [ 0.8370,  1.1300]\n",
      "Finished episode 321000 after 30 timesteps (reward:  0.0003 [-0.0028,  0.0054]) portfolio_value:  1.0081 [ 0.9182,  1.1756]\n",
      "Finished episode 322000 after 30 timesteps (reward:  0.0003 [-0.0096,  0.0043]) portfolio_value:  1.0084 [ 0.7497,  1.1368]\n",
      "Finished episode 323000 after 30 timesteps (reward:  0.0003 [-0.0033,  0.0046]) portfolio_value:  1.0082 [ 0.9050,  1.1486]\n",
      "Finished episode 324000 after 30 timesteps (reward:  0.0002 [-0.0048,  0.0051]) portfolio_value:  1.0072 [ 0.8661,  1.1648]\n"
     ]
    },
    {
     "ename": "KeyboardInterrupt",
     "evalue": "",
     "output_type": "error",
     "traceback": [
      "\u001b[0;31m---------------------------------------------------------------------------\u001b[0m",
      "\u001b[0;31mKeyboardInterrupt\u001b[0m                         Traceback (most recent call last)",
      "\u001b[0;32m<ipython-input-29-2ba424347c6b>\u001b[0m in \u001b[0;36m<module>\u001b[0;34m()\u001b[0m\n\u001b[1;32m      1\u001b[0m runner.run(\n\u001b[0;32m----> 2\u001b[0;31m     episodes=2e6, max_timesteps=200, episode_finished=EpisodeFinishedTQDM(log_intv=1000, episodes=2e6))\n\u001b[0m",
      "\u001b[0;32m/media/isisilon/Data/linuxOpt/tensorforce/tensorforce/execution/runner.py\u001b[0m in \u001b[0;36mrun\u001b[0;34m(self, episodes, max_timesteps, episode_finished)\u001b[0m\n\u001b[1;32m    139\u001b[0m                             \u001b[0;32mbreak\u001b[0m\u001b[0;34m\u001b[0m\u001b[0m\n\u001b[1;32m    140\u001b[0m                 \u001b[0;32melse\u001b[0m\u001b[0;34m:\u001b[0m\u001b[0;34m\u001b[0m\u001b[0m\n\u001b[0;32m--> 141\u001b[0;31m                     \u001b[0mstate\u001b[0m\u001b[0;34m,\u001b[0m \u001b[0mreward\u001b[0m\u001b[0;34m,\u001b[0m \u001b[0mterminal\u001b[0m \u001b[0;34m=\u001b[0m \u001b[0mself\u001b[0m\u001b[0;34m.\u001b[0m\u001b[0menvironment\u001b[0m\u001b[0;34m.\u001b[0m\u001b[0mexecute\u001b[0m\u001b[0;34m(\u001b[0m\u001b[0maction\u001b[0m\u001b[0;34m=\u001b[0m\u001b[0maction\u001b[0m\u001b[0;34m)\u001b[0m\u001b[0;34m\u001b[0m\u001b[0m\n\u001b[0m\u001b[1;32m    142\u001b[0m \u001b[0;34m\u001b[0m\u001b[0m\n\u001b[1;32m    143\u001b[0m                 \u001b[0mself\u001b[0m\u001b[0;34m.\u001b[0m\u001b[0magent\u001b[0m\u001b[0;34m.\u001b[0m\u001b[0mobserve\u001b[0m\u001b[0;34m(\u001b[0m\u001b[0mreward\u001b[0m\u001b[0;34m=\u001b[0m\u001b[0mreward\u001b[0m\u001b[0;34m,\u001b[0m \u001b[0mterminal\u001b[0m\u001b[0;34m=\u001b[0m\u001b[0mterminal\u001b[0m\u001b[0;34m)\u001b[0m\u001b[0;34m\u001b[0m\u001b[0m\n",
      "\u001b[0;32m/media/isisilon/Data/linuxOpt/tensorforce/tensorforce/environments/openai_gym.py\u001b[0m in \u001b[0;36mexecute\u001b[0;34m(self, action)\u001b[0m\n\u001b[1;32m     65\u001b[0m         \u001b[0;32mif\u001b[0m \u001b[0misinstance\u001b[0m\u001b[0;34m(\u001b[0m\u001b[0mself\u001b[0m\u001b[0;34m.\u001b[0m\u001b[0mgym\u001b[0m\u001b[0;34m.\u001b[0m\u001b[0maction_space\u001b[0m\u001b[0;34m,\u001b[0m \u001b[0mgym\u001b[0m\u001b[0;34m.\u001b[0m\u001b[0mspaces\u001b[0m\u001b[0;34m.\u001b[0m\u001b[0mBox\u001b[0m\u001b[0;34m)\u001b[0m\u001b[0;34m:\u001b[0m\u001b[0;34m\u001b[0m\u001b[0m\n\u001b[1;32m     66\u001b[0m             \u001b[0maction\u001b[0m \u001b[0;34m=\u001b[0m \u001b[0;34m[\u001b[0m\u001b[0maction\u001b[0m\u001b[0;34m]\u001b[0m  \u001b[0;31m# some gym environments expect a list (f.i. Pendulum-v0)\u001b[0m\u001b[0;34m\u001b[0m\u001b[0m\n\u001b[0;32m---> 67\u001b[0;31m         \u001b[0mstate\u001b[0m\u001b[0;34m,\u001b[0m \u001b[0mreward\u001b[0m\u001b[0;34m,\u001b[0m \u001b[0mterminal\u001b[0m\u001b[0;34m,\u001b[0m \u001b[0m_\u001b[0m \u001b[0;34m=\u001b[0m \u001b[0mself\u001b[0m\u001b[0;34m.\u001b[0m\u001b[0mgym\u001b[0m\u001b[0;34m.\u001b[0m\u001b[0mstep\u001b[0m\u001b[0;34m(\u001b[0m\u001b[0maction\u001b[0m\u001b[0;34m)\u001b[0m\u001b[0;34m\u001b[0m\u001b[0m\n\u001b[0m\u001b[1;32m     68\u001b[0m         \u001b[0;32mreturn\u001b[0m \u001b[0mstate\u001b[0m\u001b[0;34m,\u001b[0m \u001b[0mreward\u001b[0m\u001b[0;34m,\u001b[0m \u001b[0mterminal\u001b[0m\u001b[0;34m\u001b[0m\u001b[0m\n\u001b[1;32m     69\u001b[0m \u001b[0;34m\u001b[0m\u001b[0m\n",
      "\u001b[0;32m<ipython-input-6-368e3da9ea5a>\u001b[0m in \u001b[0;36mstep\u001b[0;34m(self, action)\u001b[0m\n\u001b[1;32m     17\u001b[0m             \u001b[0maction\u001b[0m \u001b[0;34m/=\u001b[0m \u001b[0maction\u001b[0m\u001b[0;34m.\u001b[0m\u001b[0msum\u001b[0m\u001b[0;34m(\u001b[0m\u001b[0;34m)\u001b[0m\u001b[0;34m\u001b[0m\u001b[0m\n\u001b[1;32m     18\u001b[0m \u001b[0;34m\u001b[0m\u001b[0m\n\u001b[0;32m---> 19\u001b[0;31m         \u001b[0;32mreturn\u001b[0m \u001b[0msuper\u001b[0m\u001b[0;34m(\u001b[0m\u001b[0;34m)\u001b[0m\u001b[0;34m.\u001b[0m\u001b[0mstep\u001b[0m\u001b[0;34m(\u001b[0m\u001b[0maction\u001b[0m\u001b[0;34m)\u001b[0m\u001b[0;34m\u001b[0m\u001b[0m\n\u001b[0m",
      "\u001b[0;32m/home/isisilon/.pyenv/versions/3.6.0/envs/jupyter3/lib/python3.6/site-packages/gym/core.py\u001b[0m in \u001b[0;36mstep\u001b[0;34m(self, action)\u001b[0m\n\u001b[1;32m     94\u001b[0m             \u001b[0minfo\u001b[0m \u001b[0;34m(\u001b[0m\u001b[0mdict\u001b[0m\u001b[0;34m)\u001b[0m\u001b[0;34m:\u001b[0m \u001b[0mcontains\u001b[0m \u001b[0mauxiliary\u001b[0m \u001b[0mdiagnostic\u001b[0m \u001b[0minformation\u001b[0m \u001b[0;34m(\u001b[0m\u001b[0mhelpful\u001b[0m \u001b[0;32mfor\u001b[0m \u001b[0mdebugging\u001b[0m\u001b[0;34m,\u001b[0m \u001b[0;32mand\u001b[0m \u001b[0msometimes\u001b[0m \u001b[0mlearning\u001b[0m\u001b[0;34m)\u001b[0m\u001b[0;34m\u001b[0m\u001b[0m\n\u001b[1;32m     95\u001b[0m         \"\"\"\n\u001b[0;32m---> 96\u001b[0;31m         \u001b[0;32mreturn\u001b[0m \u001b[0mself\u001b[0m\u001b[0;34m.\u001b[0m\u001b[0m_step\u001b[0m\u001b[0;34m(\u001b[0m\u001b[0maction\u001b[0m\u001b[0;34m)\u001b[0m\u001b[0;34m\u001b[0m\u001b[0m\n\u001b[0m\u001b[1;32m     97\u001b[0m \u001b[0;34m\u001b[0m\u001b[0m\n\u001b[1;32m     98\u001b[0m     \u001b[0;32mdef\u001b[0m \u001b[0mreset\u001b[0m\u001b[0;34m(\u001b[0m\u001b[0mself\u001b[0m\u001b[0;34m)\u001b[0m\u001b[0;34m:\u001b[0m\u001b[0;34m\u001b[0m\u001b[0m\n",
      "\u001b[0;32m/media/isisilon/Data/My_Documents/Documents/eclipse-workspace/rl_keras_finance/portfolio-rl-jiang_2017/src/environments/portfolio.py\u001b[0m in \u001b[0;36m_step\u001b[0;34m(self, action)\u001b[0m\n\u001b[1;32m    226\u001b[0m             np.sum(weights), 1.0, 3, err_msg='weights should sum to 1. action=\"%s\"' % weights)\n\u001b[1;32m    227\u001b[0m \u001b[0;34m\u001b[0m\u001b[0m\n\u001b[0;32m--> 228\u001b[0;31m         \u001b[0mobservation\u001b[0m\u001b[0;34m,\u001b[0m \u001b[0mdone1\u001b[0m \u001b[0;34m=\u001b[0m \u001b[0mself\u001b[0m\u001b[0;34m.\u001b[0m\u001b[0msrc\u001b[0m\u001b[0;34m.\u001b[0m\u001b[0m_step\u001b[0m\u001b[0;34m(\u001b[0m\u001b[0;34m)\u001b[0m\u001b[0;34m\u001b[0m\u001b[0m\n\u001b[0m\u001b[1;32m    229\u001b[0m \u001b[0;34m\u001b[0m\u001b[0m\n\u001b[1;32m    230\u001b[0m         \u001b[0my1\u001b[0m \u001b[0;34m=\u001b[0m \u001b[0mobservation\u001b[0m\u001b[0;34m[\u001b[0m\u001b[0;34m:\u001b[0m\u001b[0;34m,\u001b[0m \u001b[0;34m-\u001b[0m\u001b[0;36m1\u001b[0m\u001b[0;34m,\u001b[0m \u001b[0;36m0\u001b[0m\u001b[0;34m]\u001b[0m  \u001b[0;31m# relative price vector (open/close)\u001b[0m\u001b[0;34m\u001b[0m\u001b[0m\n",
      "\u001b[0;32m/media/isisilon/Data/My_Documents/Documents/eclipse-workspace/rl_keras_finance/portfolio-rl-jiang_2017/src/environments/portfolio.py\u001b[0m in \u001b[0;36m_step\u001b[0;34m(self)\u001b[0m\n\u001b[1;32m     48\u001b[0m             \u001b[0mopen\u001b[0m \u001b[0;34m=\u001b[0m \u001b[0mdata_window\u001b[0m\u001b[0;34m.\u001b[0m\u001b[0mxs\u001b[0m\u001b[0;34m(\u001b[0m\u001b[0;34m'open'\u001b[0m\u001b[0;34m,\u001b[0m \u001b[0maxis\u001b[0m\u001b[0;34m=\u001b[0m\u001b[0;36m1\u001b[0m\u001b[0;34m,\u001b[0m \u001b[0mlevel\u001b[0m\u001b[0;34m=\u001b[0m\u001b[0;34m'Price'\u001b[0m\u001b[0;34m)\u001b[0m\u001b[0;34m\u001b[0m\u001b[0m\n\u001b[1;32m     49\u001b[0m             \u001b[0mdata_window\u001b[0m \u001b[0;34m=\u001b[0m \u001b[0mdata_window\u001b[0m\u001b[0;34m.\u001b[0m\u001b[0mdivide\u001b[0m\u001b[0;34m(\u001b[0m\u001b[0mopen\u001b[0m\u001b[0;34m.\u001b[0m\u001b[0miloc\u001b[0m\u001b[0;34m[\u001b[0m\u001b[0;34m-\u001b[0m\u001b[0;36m1\u001b[0m\u001b[0;34m]\u001b[0m\u001b[0;34m,\u001b[0m \u001b[0mlevel\u001b[0m\u001b[0;34m=\u001b[0m\u001b[0;34m'Pair'\u001b[0m\u001b[0;34m)\u001b[0m\u001b[0;34m\u001b[0m\u001b[0m\n\u001b[0;32m---> 50\u001b[0;31m             \u001b[0mdata_window\u001b[0m \u001b[0;34m=\u001b[0m \u001b[0mdata_window\u001b[0m\u001b[0;34m.\u001b[0m\u001b[0mdrop\u001b[0m\u001b[0;34m(\u001b[0m\u001b[0;34m'open'\u001b[0m\u001b[0;34m,\u001b[0m \u001b[0maxis\u001b[0m\u001b[0;34m=\u001b[0m\u001b[0;36m1\u001b[0m\u001b[0;34m,\u001b[0m \u001b[0mlevel\u001b[0m\u001b[0;34m=\u001b[0m\u001b[0;34m'Price'\u001b[0m\u001b[0;34m)\u001b[0m\u001b[0;34m\u001b[0m\u001b[0m\n\u001b[0m\u001b[1;32m     51\u001b[0m \u001b[0;34m\u001b[0m\u001b[0m\n\u001b[1;32m     52\u001b[0m         \u001b[0;31m# convert to matrix (window, assets, prices)\u001b[0m\u001b[0;34m\u001b[0m\u001b[0;34m\u001b[0m\u001b[0m\n",
      "\u001b[0;32m/home/isisilon/.pyenv/versions/3.6.0/envs/jupyter3/lib/python3.6/site-packages/pandas/core/generic.py\u001b[0m in \u001b[0;36mdrop\u001b[0;34m(self, labels, axis, level, inplace, errors)\u001b[0m\n\u001b[1;32m   2160\u001b[0m             \u001b[0;32melse\u001b[0m\u001b[0;34m:\u001b[0m\u001b[0;34m\u001b[0m\u001b[0m\n\u001b[1;32m   2161\u001b[0m                 \u001b[0mnew_axis\u001b[0m \u001b[0;34m=\u001b[0m \u001b[0maxis\u001b[0m\u001b[0;34m.\u001b[0m\u001b[0mdrop\u001b[0m\u001b[0;34m(\u001b[0m\u001b[0mlabels\u001b[0m\u001b[0;34m,\u001b[0m \u001b[0merrors\u001b[0m\u001b[0;34m=\u001b[0m\u001b[0merrors\u001b[0m\u001b[0;34m)\u001b[0m\u001b[0;34m\u001b[0m\u001b[0m\n\u001b[0;32m-> 2162\u001b[0;31m             \u001b[0mdropped\u001b[0m \u001b[0;34m=\u001b[0m \u001b[0mself\u001b[0m\u001b[0;34m.\u001b[0m\u001b[0mreindex\u001b[0m\u001b[0;34m(\u001b[0m\u001b[0;34m**\u001b[0m\u001b[0;34m{\u001b[0m\u001b[0maxis_name\u001b[0m\u001b[0;34m:\u001b[0m \u001b[0mnew_axis\u001b[0m\u001b[0;34m}\u001b[0m\u001b[0;34m)\u001b[0m\u001b[0;34m\u001b[0m\u001b[0m\n\u001b[0m\u001b[1;32m   2163\u001b[0m             \u001b[0;32mtry\u001b[0m\u001b[0;34m:\u001b[0m\u001b[0;34m\u001b[0m\u001b[0m\n\u001b[1;32m   2164\u001b[0m                 \u001b[0mdropped\u001b[0m\u001b[0;34m.\u001b[0m\u001b[0maxes\u001b[0m\u001b[0;34m[\u001b[0m\u001b[0maxis_\u001b[0m\u001b[0;34m]\u001b[0m\u001b[0;34m.\u001b[0m\u001b[0mset_names\u001b[0m\u001b[0;34m(\u001b[0m\u001b[0maxis\u001b[0m\u001b[0;34m.\u001b[0m\u001b[0mnames\u001b[0m\u001b[0;34m,\u001b[0m \u001b[0minplace\u001b[0m\u001b[0;34m=\u001b[0m\u001b[0;32mTrue\u001b[0m\u001b[0;34m)\u001b[0m\u001b[0;34m\u001b[0m\u001b[0m\n",
      "\u001b[0;32m/home/isisilon/.pyenv/versions/3.6.0/envs/jupyter3/lib/python3.6/site-packages/pandas/core/frame.py\u001b[0m in \u001b[0;36mreindex\u001b[0;34m(self, index, columns, **kwargs)\u001b[0m\n\u001b[1;32m   2731\u001b[0m     \u001b[0;32mdef\u001b[0m \u001b[0mreindex\u001b[0m\u001b[0;34m(\u001b[0m\u001b[0mself\u001b[0m\u001b[0;34m,\u001b[0m \u001b[0mindex\u001b[0m\u001b[0;34m=\u001b[0m\u001b[0;32mNone\u001b[0m\u001b[0;34m,\u001b[0m \u001b[0mcolumns\u001b[0m\u001b[0;34m=\u001b[0m\u001b[0;32mNone\u001b[0m\u001b[0;34m,\u001b[0m \u001b[0;34m**\u001b[0m\u001b[0mkwargs\u001b[0m\u001b[0;34m)\u001b[0m\u001b[0;34m:\u001b[0m\u001b[0;34m\u001b[0m\u001b[0m\n\u001b[1;32m   2732\u001b[0m         return super(DataFrame, self).reindex(index=index, columns=columns,\n\u001b[0;32m-> 2733\u001b[0;31m                                               **kwargs)\n\u001b[0m\u001b[1;32m   2734\u001b[0m \u001b[0;34m\u001b[0m\u001b[0m\n\u001b[1;32m   2735\u001b[0m     \u001b[0;34m@\u001b[0m\u001b[0mAppender\u001b[0m\u001b[0;34m(\u001b[0m\u001b[0m_shared_docs\u001b[0m\u001b[0;34m[\u001b[0m\u001b[0;34m'reindex_axis'\u001b[0m\u001b[0;34m]\u001b[0m \u001b[0;34m%\u001b[0m \u001b[0m_shared_doc_kwargs\u001b[0m\u001b[0;34m)\u001b[0m\u001b[0;34m\u001b[0m\u001b[0m\n",
      "\u001b[0;32m/home/isisilon/.pyenv/versions/3.6.0/envs/jupyter3/lib/python3.6/site-packages/pandas/core/generic.py\u001b[0m in \u001b[0;36mreindex\u001b[0;34m(self, *args, **kwargs)\u001b[0m\n\u001b[1;32m   2513\u001b[0m         \u001b[0;31m# perform the reindex on the axes\u001b[0m\u001b[0;34m\u001b[0m\u001b[0;34m\u001b[0m\u001b[0m\n\u001b[1;32m   2514\u001b[0m         return self._reindex_axes(axes, level, limit, tolerance, method,\n\u001b[0;32m-> 2515\u001b[0;31m                                   fill_value, copy).__finalize__(self)\n\u001b[0m\u001b[1;32m   2516\u001b[0m \u001b[0;34m\u001b[0m\u001b[0m\n\u001b[1;32m   2517\u001b[0m     def _reindex_axes(self, axes, level, limit, tolerance, method, fill_value,\n",
      "\u001b[0;32m/home/isisilon/.pyenv/versions/3.6.0/envs/jupyter3/lib/python3.6/site-packages/pandas/core/frame.py\u001b[0m in \u001b[0;36m_reindex_axes\u001b[0;34m(self, axes, level, limit, tolerance, method, fill_value, copy)\u001b[0m\n\u001b[1;32m   2672\u001b[0m         \u001b[0;32mif\u001b[0m \u001b[0mcolumns\u001b[0m \u001b[0;32mis\u001b[0m \u001b[0;32mnot\u001b[0m \u001b[0;32mNone\u001b[0m\u001b[0;34m:\u001b[0m\u001b[0;34m\u001b[0m\u001b[0m\n\u001b[1;32m   2673\u001b[0m             frame = frame._reindex_columns(columns, method, copy, level,\n\u001b[0;32m-> 2674\u001b[0;31m                                            fill_value, limit, tolerance)\n\u001b[0m\u001b[1;32m   2675\u001b[0m \u001b[0;34m\u001b[0m\u001b[0m\n\u001b[1;32m   2676\u001b[0m         \u001b[0mindex\u001b[0m \u001b[0;34m=\u001b[0m \u001b[0maxes\u001b[0m\u001b[0;34m[\u001b[0m\u001b[0;34m'index'\u001b[0m\u001b[0;34m]\u001b[0m\u001b[0;34m\u001b[0m\u001b[0m\n",
      "\u001b[0;32m/home/isisilon/.pyenv/versions/3.6.0/envs/jupyter3/lib/python3.6/site-packages/pandas/core/frame.py\u001b[0m in \u001b[0;36m_reindex_columns\u001b[0;34m(self, new_columns, method, copy, level, fill_value, limit, tolerance)\u001b[0m\n\u001b[1;32m   2697\u001b[0m         return self._reindex_with_indexers({1: [new_columns, indexer]},\n\u001b[1;32m   2698\u001b[0m                                            \u001b[0mcopy\u001b[0m\u001b[0;34m=\u001b[0m\u001b[0mcopy\u001b[0m\u001b[0;34m,\u001b[0m \u001b[0mfill_value\u001b[0m\u001b[0;34m=\u001b[0m\u001b[0mfill_value\u001b[0m\u001b[0;34m,\u001b[0m\u001b[0;34m\u001b[0m\u001b[0m\n\u001b[0;32m-> 2699\u001b[0;31m                                            allow_dups=False)\n\u001b[0m\u001b[1;32m   2700\u001b[0m \u001b[0;34m\u001b[0m\u001b[0m\n\u001b[1;32m   2701\u001b[0m     \u001b[0;32mdef\u001b[0m \u001b[0m_reindex_multi\u001b[0m\u001b[0;34m(\u001b[0m\u001b[0mself\u001b[0m\u001b[0;34m,\u001b[0m \u001b[0maxes\u001b[0m\u001b[0;34m,\u001b[0m \u001b[0mcopy\u001b[0m\u001b[0;34m,\u001b[0m \u001b[0mfill_value\u001b[0m\u001b[0;34m)\u001b[0m\u001b[0;34m:\u001b[0m\u001b[0;34m\u001b[0m\u001b[0m\n",
      "\u001b[0;32m/home/isisilon/.pyenv/versions/3.6.0/envs/jupyter3/lib/python3.6/site-packages/pandas/core/generic.py\u001b[0m in \u001b[0;36m_reindex_with_indexers\u001b[0;34m(self, reindexers, fill_value, copy, allow_dups)\u001b[0m\n\u001b[1;32m   2625\u001b[0m                                                 \u001b[0mfill_value\u001b[0m\u001b[0;34m=\u001b[0m\u001b[0mfill_value\u001b[0m\u001b[0;34m,\u001b[0m\u001b[0;34m\u001b[0m\u001b[0m\n\u001b[1;32m   2626\u001b[0m                                                 \u001b[0mallow_dups\u001b[0m\u001b[0;34m=\u001b[0m\u001b[0mallow_dups\u001b[0m\u001b[0;34m,\u001b[0m\u001b[0;34m\u001b[0m\u001b[0m\n\u001b[0;32m-> 2627\u001b[0;31m                                                 copy=copy)\n\u001b[0m\u001b[1;32m   2628\u001b[0m \u001b[0;34m\u001b[0m\u001b[0m\n\u001b[1;32m   2629\u001b[0m         \u001b[0;32mif\u001b[0m \u001b[0mcopy\u001b[0m \u001b[0;32mand\u001b[0m \u001b[0mnew_data\u001b[0m \u001b[0;32mis\u001b[0m \u001b[0mself\u001b[0m\u001b[0;34m.\u001b[0m\u001b[0m_data\u001b[0m\u001b[0;34m:\u001b[0m\u001b[0;34m\u001b[0m\u001b[0m\n",
      "\u001b[0;32m/home/isisilon/.pyenv/versions/3.6.0/envs/jupyter3/lib/python3.6/site-packages/pandas/core/internals.py\u001b[0m in \u001b[0;36mreindex_indexer\u001b[0;34m(self, new_axis, indexer, axis, fill_value, allow_dups, copy)\u001b[0m\n\u001b[1;32m   3891\u001b[0m         \u001b[0;32mif\u001b[0m \u001b[0maxis\u001b[0m \u001b[0;34m==\u001b[0m \u001b[0;36m0\u001b[0m\u001b[0;34m:\u001b[0m\u001b[0;34m\u001b[0m\u001b[0m\n\u001b[1;32m   3892\u001b[0m             new_blocks = self._slice_take_blocks_ax0(indexer,\n\u001b[0;32m-> 3893\u001b[0;31m                                                      fill_tuple=(fill_value,))\n\u001b[0m\u001b[1;32m   3894\u001b[0m         \u001b[0;32melse\u001b[0m\u001b[0;34m:\u001b[0m\u001b[0;34m\u001b[0m\u001b[0m\n\u001b[1;32m   3895\u001b[0m             new_blocks = [blk.take_nd(indexer, axis=axis, fill_tuple=(\n",
      "\u001b[0;32m/home/isisilon/.pyenv/versions/3.6.0/envs/jupyter3/lib/python3.6/site-packages/pandas/core/internals.py\u001b[0m in \u001b[0;36m_slice_take_blocks_ax0\u001b[0;34m(self, slice_or_indexer, fill_tuple)\u001b[0m\n\u001b[1;32m   3916\u001b[0m \u001b[0;34m\u001b[0m\u001b[0m\n\u001b[1;32m   3917\u001b[0m         sl_type, slobj, sllen = _preprocess_slice_or_indexer(\n\u001b[0;32m-> 3918\u001b[0;31m             slice_or_indexer, self.shape[0], allow_fill=allow_fill)\n\u001b[0m\u001b[1;32m   3919\u001b[0m \u001b[0;34m\u001b[0m\u001b[0m\n\u001b[1;32m   3920\u001b[0m         \u001b[0;32mif\u001b[0m \u001b[0mself\u001b[0m\u001b[0;34m.\u001b[0m\u001b[0m_is_single_block\u001b[0m\u001b[0;34m:\u001b[0m\u001b[0;34m\u001b[0m\u001b[0m\n",
      "\u001b[0;32m/home/isisilon/.pyenv/versions/3.6.0/envs/jupyter3/lib/python3.6/site-packages/pandas/core/internals.py\u001b[0m in \u001b[0;36m_preprocess_slice_or_indexer\u001b[0;34m(slice_or_indexer, length, allow_fill)\u001b[0m\n\u001b[1;32m   5263\u001b[0m         \u001b[0;32mreturn\u001b[0m \u001b[0;34m'mask'\u001b[0m\u001b[0;34m,\u001b[0m \u001b[0mslice_or_indexer\u001b[0m\u001b[0;34m,\u001b[0m \u001b[0mslice_or_indexer\u001b[0m\u001b[0;34m.\u001b[0m\u001b[0msum\u001b[0m\u001b[0;34m(\u001b[0m\u001b[0;34m)\u001b[0m\u001b[0;34m\u001b[0m\u001b[0m\n\u001b[1;32m   5264\u001b[0m     \u001b[0;32melse\u001b[0m\u001b[0;34m:\u001b[0m\u001b[0;34m\u001b[0m\u001b[0m\n\u001b[0;32m-> 5265\u001b[0;31m         \u001b[0mindexer\u001b[0m \u001b[0;34m=\u001b[0m \u001b[0mnp\u001b[0m\u001b[0;34m.\u001b[0m\u001b[0masanyarray\u001b[0m\u001b[0;34m(\u001b[0m\u001b[0mslice_or_indexer\u001b[0m\u001b[0;34m,\u001b[0m \u001b[0mdtype\u001b[0m\u001b[0;34m=\u001b[0m\u001b[0mnp\u001b[0m\u001b[0;34m.\u001b[0m\u001b[0mint64\u001b[0m\u001b[0;34m)\u001b[0m\u001b[0;34m\u001b[0m\u001b[0m\n\u001b[0m\u001b[1;32m   5266\u001b[0m         \u001b[0;32mif\u001b[0m \u001b[0;32mnot\u001b[0m \u001b[0mallow_fill\u001b[0m\u001b[0;34m:\u001b[0m\u001b[0;34m\u001b[0m\u001b[0m\n\u001b[1;32m   5267\u001b[0m             \u001b[0mindexer\u001b[0m \u001b[0;34m=\u001b[0m \u001b[0mmaybe_convert_indices\u001b[0m\u001b[0;34m(\u001b[0m\u001b[0mindexer\u001b[0m\u001b[0;34m,\u001b[0m \u001b[0mlength\u001b[0m\u001b[0;34m)\u001b[0m\u001b[0;34m\u001b[0m\u001b[0m\n",
      "\u001b[0;32m/home/isisilon/.pyenv/versions/3.6.0/envs/jupyter3/lib/python3.6/site-packages/numpy/core/numeric.py\u001b[0m in \u001b[0;36masanyarray\u001b[0;34m(a, dtype, order)\u001b[0m\n\u001b[1;32m    532\u001b[0m \u001b[0;34m\u001b[0m\u001b[0m\n\u001b[1;32m    533\u001b[0m \u001b[0;34m\u001b[0m\u001b[0m\n\u001b[0;32m--> 534\u001b[0;31m \u001b[0;32mdef\u001b[0m \u001b[0masanyarray\u001b[0m\u001b[0;34m(\u001b[0m\u001b[0ma\u001b[0m\u001b[0;34m,\u001b[0m \u001b[0mdtype\u001b[0m\u001b[0;34m=\u001b[0m\u001b[0;32mNone\u001b[0m\u001b[0;34m,\u001b[0m \u001b[0morder\u001b[0m\u001b[0;34m=\u001b[0m\u001b[0;32mNone\u001b[0m\u001b[0;34m)\u001b[0m\u001b[0;34m:\u001b[0m\u001b[0;34m\u001b[0m\u001b[0m\n\u001b[0m\u001b[1;32m    535\u001b[0m     \"\"\"Convert the input to an ndarray, but pass ndarray subclasses through.\n\u001b[1;32m    536\u001b[0m \u001b[0;34m\u001b[0m\u001b[0m\n",
      "\u001b[0;31mKeyboardInterrupt\u001b[0m: "
     ]
    }
   ],
   "source": [
    "runner.run(\n",
    "    episodes=2e6, max_timesteps=200, episode_finished=EpisodeFinishedTQDM(log_intv=1000, episodes=2e6))"
   ]
  },
  {
   "cell_type": "code",
   "execution_count": 37,
   "metadata": {
    "ExecuteTime": {
     "end_time": "2017-07-17T23:18:42.055026Z",
     "start_time": "2017-07-18T07:18:41.886868+08:00"
    }
   },
   "outputs": [
    {
     "data": {
      "text/plain": [
       "'./outputs/tensorforce-VPG_20170717_04-42-55.model'"
      ]
     },
     "execution_count": 37,
     "metadata": {},
     "output_type": "execute_result"
    }
   ],
   "source": [
    "# save\n",
    "agent.save_model(save_path)\n",
    "save_path"
   ]
  },
  {
   "cell_type": "markdown",
   "metadata": {},
   "source": [
    "# Test"
   ]
  },
  {
   "cell_type": "code",
   "execution_count": null,
   "metadata": {
    "ExecuteTime": {
     "end_time": "2017-07-19T00:09:54.262405Z",
     "start_time": "2017-07-19T08:09:54.226639+08:00"
    }
   },
   "outputs": [],
   "source": []
  },
  {
   "cell_type": "code",
   "execution_count": 103,
   "metadata": {
    "ExecuteTime": {
     "end_time": "2017-07-19T00:12:31.618216Z",
     "start_time": "2017-07-19T08:11:11.960245+08:00"
    }
   },
   "outputs": [
    {
     "name": "stderr",
     "output_type": "stream",
     "text": [
      "INFO:gym.envs.registration:Making new env: CartPole-v0\n",
      "[2017-07-19 08:11:12,136] Making new env: CartPole-v0\n"
     ]
    },
    {
     "name": "stdout",
     "output_type": "stream",
     "text": [
      "INFO:tensorflow:Restoring parameters from ./outputs/tensorforce-VPG/tensorforce-VPG_20170717_04-42-55.model\n"
     ]
    },
    {
     "name": "stderr",
     "output_type": "stream",
     "text": [
      "INFO:tensorflow:Restoring parameters from ./outputs/tensorforce-VPG/tensorforce-VPG_20170717_04-42-55.model\n",
      "[2017-07-19 08:11:12,145] Restoring parameters from ./outputs/tensorforce-VPG/tensorforce-VPG_20170717_04-42-55.model\n"
     ]
    },
    {
     "name": "stdout",
     "output_type": "stream",
     "text": [
      "APV (Accumulated portfolio value): \t 20.01\n",
      "SR (Sharpe ratio):                 \t 599.91\n",
      "MDD (max drawdown):                \t-18.22%\n",
      "\n"
     ]
    },
    {
     "data": {
      "text/plain": [
       "<matplotlib.legend.Legend at 0x7f8875434cc0>"
      ]
     },
     "execution_count": 103,
     "metadata": {},
     "output_type": "execute_result"
    },
    {
     "data": {
      "image/png": "[encoded data removed]",
      "text/plain": [
       "<matplotlib.figure.Figure at 0x7f8889bc3ac8>"
      ]
     },
     "metadata": {},
     "output_type": "display_data"
    }
   ],
   "source": [
    "# one big test\n",
    "df_test = pd.read_hdf('./data/poloniex_30m.hf',key='test')\n",
    "steps=len(df_test)-window_length-2\n",
    "env_test = EnvWrapper(\n",
    "    df=df_test,\n",
    "    steps=steps, \n",
    "    scale=True, \n",
    "    augment=0.00,\n",
    "    trading_cost=0, # let just overfit first\n",
    "    window_length=window_length,\n",
    ")\n",
    "env_test.seed = 0  \n",
    "environment_test = OpenAIGym('CartPole-v0')\n",
    "environment_test.gym = env_test\n",
    "\n",
    "agent.load_model(save_path)\n",
    "runner_test = Runner(agent=agent, environment=environment_test)\n",
    "runner_test.run(\n",
    "episodes=1, max_timesteps=steps, episode_finished=EpisodeFinished(10))\n",
    "\n",
    "df = pd.DataFrame(env_test.infos)\n",
    "df.index=df['index']\n",
    "\n",
    "s=sharpe(df.rate_of_return+1)\n",
    "mdd=MDD(df.rate_of_return+1)\n",
    "print('APV (Accumulated portfolio value): \\t{: 2.2f}'.format(df.portfolio_value.iloc[-1]))\n",
    "print('SR (Sharpe ratio):                 \\t{: 2.2f}'.format( s))\n",
    "print('MDD (max drawdown):                \\t{: 2.2%}'.format( mdd))\n",
    "print('')\n",
    "\n",
    "# show one run vs average market performance\n",
    "df.portfolio_value.plot()\n",
    "df.mean_market_returns.cumprod().plot(label='mean market performance')\n",
    "plt.legend()"
   ]
  },
  {
   "cell_type": "code",
   "execution_count": null,
   "metadata": {
    "ExecuteTime": {
     "end_time": "2017-07-19T00:29:25.147844Z",
     "start_time": "2017-07-19T08:29:25.086489+08:00"
    }
   },
   "outputs": [],
   "source": []
  },
  {
   "cell_type": "code",
   "execution_count": 114,
   "metadata": {
    "ExecuteTime": {
     "end_time": "2017-07-19T00:31:47.249042Z",
     "start_time": "2017-07-19T08:31:39.043185+08:00"
    }
   },
   "outputs": [
    {
     "name": "stdout",
     "output_type": "stream",
     "text": [
      "INFO:tensorflow:Restoring parameters from ./outputs/tensorforce-VPG/tensorforce-VPG_20170717_04-42-55.model\n"
     ]
    },
    {
     "name": "stderr",
     "output_type": "stream",
     "text": [
      "INFO:tensorflow:Restoring parameters from ./outputs/tensorforce-VPG/tensorforce-VPG_20170717_04-42-55.model\n",
      "[2017-07-19 08:31:39,085] Restoring parameters from ./outputs/tensorforce-VPG/tensorforce-VPG_20170717_04-42-55.model\n"
     ]
    },
    {
     "name": "stdout",
     "output_type": "stream",
     "text": [
      "APV (Accumulated portfolio value): \t 1.00\n",
      "SR (Sharpe ratio):                 \t 809.26\n",
      "MDD (max drawdown):                \t-4.06%\n",
      "\n",
      "APV (Accumulated portfolio value): \t 1.00\n",
      "SR (Sharpe ratio):                 \t 791.37\n",
      "MDD (max drawdown):                \t-2.51%\n",
      "\n",
      "APV (Accumulated portfolio value): \t 0.99\n",
      "SR (Sharpe ratio):                 \t 946.75\n",
      "MDD (max drawdown):                \t-2.71%\n",
      "\n",
      "APV (Accumulated portfolio value): \t 1.01\n",
      "SR (Sharpe ratio):                 \t 999.40\n",
      "MDD (max drawdown):                \t-3.05%\n",
      "\n",
      "APV (Accumulated portfolio value): \t 1.01\n",
      "SR (Sharpe ratio):                 \t 1216.19\n",
      "MDD (max drawdown):                \t-1.91%\n",
      "\n",
      "APV (Accumulated portfolio value): \t 0.99\n",
      "SR (Sharpe ratio):                 \t 745.02\n",
      "MDD (max drawdown):                \t-3.63%\n",
      "\n",
      "APV (Accumulated portfolio value): \t 0.98\n",
      "SR (Sharpe ratio):                 \t 829.13\n",
      "MDD (max drawdown):                \t-3.21%\n",
      "\n",
      "APV (Accumulated portfolio value): \t 1.01\n",
      "SR (Sharpe ratio):                 \t 715.65\n",
      "MDD (max drawdown):                \t-4.08%\n",
      "\n",
      "APV (Accumulated portfolio value): \t 1.01\n",
      "SR (Sharpe ratio):                 \t 1214.23\n",
      "MDD (max drawdown):                \t-1.83%\n",
      "\n",
      "APV (Accumulated portfolio value): \t 0.99\n",
      "SR (Sharpe ratio):                 \t 868.21\n",
      "MDD (max drawdown):                \t-3.38%\n",
      "\n"
     ]
    },
    {
     "data": {
      "text/plain": [
       "<matplotlib.legend.Legend at 0x7f87a9002e48>"
      ]
     },
     "execution_count": 114,
     "metadata": {},
     "output_type": "execute_result"
    },
    {
     "data": {
      "image/png": "[encoded data removed]",
      "text/plain": [
       "<matplotlib.figure.Figure at 0x7f87a90345c0>"
      ]
     },
     "metadata": {},
     "output_type": "display_data"
    }
   ],
   "source": [
    "agent.load_model(save_path)\n",
    "runner_test = Runner(agent=agent, environment=environment_test)\n",
    "data=[]\n",
    "for i in range(10):\n",
    "    environment_test.gym.seed=i\n",
    "    runner_test.run(\n",
    "    episodes=2, max_timesteps=32, episode_finished=EpisodeFinished(10))\n",
    "    df = pd.DataFrame(environment_test.gym.infos)\n",
    "    df.index=df['index']\n",
    "    \n",
    "    s=sharpe(df.rate_of_return+1)\n",
    "    mdd=MDD(df.rate_of_return+1)\n",
    "    data.append(dict(sharpe=s,mdd=mdd))\n",
    "    print('APV (Accumulated portfolio value): \\t{: 2.2f}'.format(df.portfolio_value.iloc[-1]))\n",
    "    print('SR (Sharpe ratio):                 \\t{: 2.2f}'.format( s))\n",
    "    print('MDD (max drawdown):                \\t{: 2.2%}'.format( mdd))\n",
    "    print('')\n",
    "    df.portfolio_value.plot(label=str(i))\n",
    "plt.legend()"
   ]
  },
  {
   "cell_type": "code",
   "execution_count": 106,
   "metadata": {
    "ExecuteTime": {
     "end_time": "2017-07-19T00:20:04.645322Z",
     "start_time": "2017-07-19T08:12:36.061586+08:00"
    }
   },
   "outputs": [
    {
     "name": "stderr",
     "output_type": "stream",
     "text": [
      "INFO:gym.envs.registration:Making new env: CartPole-v0\n",
      "[2017-07-19 08:12:36,358] Making new env: CartPole-v0\n"
     ]
    },
    {
     "name": "stdout",
     "output_type": "stream",
     "text": [
      "INFO:tensorflow:Restoring parameters from ./outputs/tensorforce-VPG/tensorforce-VPG_20170717_04-42-55.model\n"
     ]
    },
    {
     "name": "stderr",
     "output_type": "stream",
     "text": [
      "INFO:tensorflow:Restoring parameters from ./outputs/tensorforce-VPG/tensorforce-VPG_20170717_04-42-55.model\n",
      "[2017-07-19 08:12:36,364] Restoring parameters from ./outputs/tensorforce-VPG/tensorforce-VPG_20170717_04-42-55.model\n"
     ]
    },
    {
     "name": "stdout",
     "output_type": "stream",
     "text": [
      "APV (Accumulated portfolio value): \t 55083.66\n",
      "SR (Sharpe ratio):                 \t 1010.75\n",
      "MDD (max drawdown):                \t-13.01%\n",
      "\n"
     ]
    },
    {
     "data": {
      "text/plain": [
       "<matplotlib.legend.Legend at 0x7f8875502f28>"
      ]
     },
     "execution_count": 106,
     "metadata": {},
     "output_type": "execute_result"
    },
    {
     "data": {
      "image/png": "[encoded data removed]",
      "text/plain": [
       "<matplotlib.figure.Figure at 0x7f87a9e5a0f0>"
      ]
     },
     "metadata": {},
     "output_type": "display_data"
    }
   ],
   "source": [
    "# one big test over train\n",
    "# one big test\n",
    "df_train = pd.read_hdf('./data/poloniex_30m.hf',key='train')\n",
    "steps=len(df_train)-window_length-2\n",
    "env = EnvWrapper(\n",
    "    df=df_train,\n",
    "    steps=steps, \n",
    "    scale=True, \n",
    "    augment=0.00,\n",
    "    trading_cost=0, # let just overfit first\n",
    "    window_length=window_length,\n",
    ")\n",
    "env.seed = 0  \n",
    "environment = OpenAIGym('CartPole-v0')\n",
    "environment.gym = env\n",
    "\n",
    "agent.load_model(save_path)\n",
    "runner = Runner(agent=agent, environment=environment)\n",
    "runner.run(\n",
    "episodes=1, max_timesteps=steps, episode_finished=EpisodeFinished(10))\n",
    "\n",
    "df = pd.DataFrame(env.infos)\n",
    "df.index=df['index']\n",
    "\n",
    "s=sharpe(df.rate_of_return+1)\n",
    "mdd=MDD(df.rate_of_return+1)\n",
    "data.append(dict(sharpe=s,mdd=mdd))\n",
    "print('APV (Accumulated portfolio value): \\t{: 2.2f}'.format(df.portfolio_value.iloc[-1]))\n",
    "print('SR (Sharpe ratio):                 \\t{: 2.2f}'.format( s))\n",
    "print('MDD (max drawdown):                \\t{: 2.2%}'.format( mdd))\n",
    "print('')\n",
    "df.portfolio_value.plot(label=str(i))\n",
    "\n",
    "# show one run vs average market performance\n",
    "df.portfolio_value.plot()\n",
    "df.mean_market_returns.cumprod().plot(label='mean market performance')\n",
    "plt.legend()"
   ]
  },
  {
   "cell_type": "code",
   "execution_count": null,
   "metadata": {
    "collapsed": true
   },
   "outputs": [],
   "source": []
  }
 ],
 "metadata": {
  "kernelspec": {
   "display_name": "jupyter3",
   "language": "python",
   "name": "jupyter3"
  },
  "language_info": {
   "codemirror_mode": {
    "name": "ipython",
    "version": 3
   },
   "file_extension": ".py",
   "mimetype": "text/x-python",
   "name": "python",
   "nbconvert_exporter": "python",
   "pygments_lexer": "ipython3",
   "version": "3.6.0"
  }
 },
 "nbformat": 4,
 "nbformat_minor": 2
}
