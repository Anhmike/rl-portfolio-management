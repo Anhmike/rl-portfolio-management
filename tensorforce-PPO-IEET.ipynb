{
 "cells": [
  {
   "cell_type": "markdown",
   "metadata": {},
   "source": [
    "Uses tensorforce tensorforce-0.3.0\n",
    "\n",
    "Took 8 million steps over about a day to warm up. Got 1.6e-4 which is about 25% a month, 25x a year.\n"
   ]
  },
  {
   "cell_type": "code",
   "execution_count": 1,
   "metadata": {
    "ExecuteTime": {
     "end_time": "2017-11-12T04:19:37.423032Z",
     "start_time": "2017-11-12T04:19:35.616652Z"
    },
    "collapsed": true
   },
   "outputs": [],
   "source": [
    "# plotting\n",
    "%matplotlib inline\n",
    "from matplotlib import pyplot as plt\n",
    "import seaborn as sns\n",
    "plt.style.use('ggplot')\n",
    "\n",
    "# numeric\n",
    "import numpy as np\n",
    "from numpy import random\n",
    "import pandas as pd\n",
    "import tensorflow as tf\n",
    "\n",
    "# util\n",
    "from collections import Counter\n",
    "import pdb\n",
    "import glob\n",
    "import time\n",
    "import tempfile\n",
    "import itertools\n",
    "from tqdm import tqdm_notebook as tqdm\n",
    "import datetime\n",
    "\n",
    "# logging\n",
    "import logging\n",
    "logger = log = logging.getLogger(__name__)\n",
    "# log.setLevel(logging.INFO)\n",
    "logging.basicConfig()\n",
    "log.info('%s logger started.', __name__)"
   ]
  },
  {
   "cell_type": "code",
   "execution_count": 2,
   "metadata": {
    "ExecuteTime": {
     "end_time": "2017-11-12T04:19:37.516583Z",
     "start_time": "2017-11-12T04:19:37.428893Z"
    },
    "collapsed": true
   },
   "outputs": [],
   "source": [
    "import gym\n",
    "from gym import error, spaces, utils\n",
    "from gym.utils import seeding"
   ]
  },
  {
   "cell_type": "code",
   "execution_count": 3,
   "metadata": {
    "ExecuteTime": {
     "end_time": "2017-11-12T04:19:40.291461Z",
     "start_time": "2017-11-12T04:19:40.259250Z"
    },
    "collapsed": true
   },
   "outputs": [],
   "source": [
    "import os\n",
    "os.sys.path.append(os.path.abspath('.'))\n",
    "%reload_ext autoreload\n",
    "%autoreload 2"
   ]
  },
  {
   "cell_type": "code",
   "execution_count": 4,
   "metadata": {
    "ExecuteTime": {
     "end_time": "2017-11-12T04:19:40.501765Z",
     "start_time": "2017-11-12T04:19:40.471795Z"
    }
   },
   "outputs": [
    {
     "data": {
      "text/plain": [
       "'./outputs/tensorforce-PPO/tensorforce_PPO_crypto_20171105_06-50-31'"
      ]
     },
     "execution_count": 4,
     "metadata": {},
     "output_type": "execute_result"
    }
   ],
   "source": [
    "# params\n",
    "window_length = 50\n",
    "cash_bias = 0.0\n",
    "batch_size=128\n",
    "import datetime\n",
    "ts = datetime.datetime.utcnow().strftime('%Y%m%d_%H-%M-%S')\n",
    "save_path = './outputs/tensorforce-PPO/tensorforce_PPO_crypto-%s' % ts\n",
    "save_path = './outputs/tensorforce-PPO/tensorforce_PPO_crypto_20171105_06-50-31'\n",
    "save_path"
   ]
  },
  {
   "cell_type": "code",
   "execution_count": null,
   "metadata": {
    "collapsed": true
   },
   "outputs": [],
   "source": []
  },
  {
   "cell_type": "code",
   "execution_count": 5,
   "metadata": {
    "ExecuteTime": {
     "end_time": "2017-11-12T04:19:40.999732Z",
     "start_time": "2017-11-12T04:19:40.967934Z"
    }
   },
   "outputs": [
    {
     "data": {
      "text/plain": [
       "'logs/tensorforce_PPO_crypto_20171105_06-50-31/run-20171112_04-19-40'"
      ]
     },
     "execution_count": 5,
     "metadata": {},
     "output_type": "execute_result"
    }
   ],
   "source": [
    "log_dir = os.path.join('logs', os.path.splitext(os.path.basename(save_path))[0], 'run-' + ts)\n",
    "try:\n",
    "    os.makedirs(log_dir)\n",
    "except OSError:\n",
    "    pass\n",
    "log_dir"
   ]
  },
  {
   "cell_type": "markdown",
   "metadata": {},
   "source": [
    "# Enviroment\n",
    "\n",
    "We will wrap out environment so we can modify the inputs, outputs, and attributes for tensorforce.\n",
    "\n",
    "- tensorforce doesn't like dual outputs so we will concat them\n",
    "- we need to softmax the weights since tensorforce doesn't do this"
   ]
  },
  {
   "cell_type": "code",
   "execution_count": 6,
   "metadata": {
    "ExecuteTime": {
     "end_time": "2017-11-12T04:19:41.642642Z",
     "start_time": "2017-11-12T04:19:41.548893Z"
    },
    "collapsed": true
   },
   "outputs": [],
   "source": [
    "from rl_portfolio_management.environments.portfolio import PortfolioEnv"
   ]
  },
  {
   "cell_type": "code",
   "execution_count": 7,
   "metadata": {
    "ExecuteTime": {
     "end_time": "2017-11-12T04:19:41.869824Z",
     "start_time": "2017-11-12T04:19:41.746284Z"
    }
   },
   "outputs": [],
   "source": [
    "# We need to wrap the env to make sure the output is softmaxed\n",
    "\n",
    "import gym.spaces\n",
    "df_train = pd.read_hdf('./data/poloniex_30m.hf',key='train')\n",
    "    \n",
    "def softmax(w, t = 1.0):\n",
    "    w = np.clip(w, -10, 10) # same as clipping to 1e-5 1e5\n",
    "    e = np.exp(np.array(w) / t)\n",
    "    dist = e / np.sum(e + 1e-7)\n",
    "    return dist\n",
    "\n",
    "class EnvWrapper(PortfolioEnv):\n",
    "    \"\"\"Wraps env to normalise and reshape action.\"\"\"\n",
    "    def __init__(self, window_length=50, *args, **kwargs):\n",
    "        super().__init__(*args, **kwargs)\n",
    "        \n",
    "        hist_space = self.observation_space.spaces[\"history\"]\n",
    "        hist_shape = hist_space.shape\n",
    "        self.observation_space = gym.spaces.Box(-10,10,shape=(hist_shape[0],hist_shape[1]+1,hist_shape[2]))\n",
    "        \n",
    "    def step(self, action):\n",
    "        # also it puts it in a list\n",
    "        if isinstance(action, list):\n",
    "            action = action[0]\n",
    "        \n",
    "        if isinstance(action, dict):\n",
    "            action = list(action[k] for k in sorted(action.keys()))\n",
    "        \n",
    "        action = softmax(action, t=1)\n",
    "        \n",
    "        state, reward, done, info = super().step(action)\n",
    "        history = state[\"history\"]\n",
    "        weights = state[\"weights\"]\n",
    "        weight_insert_shape = (history.shape[0], 1, history.shape[2])\n",
    "        weight_insert = np.ones(\n",
    "            weight_insert_shape) * weights[1:, np.newaxis, np.newaxis]\n",
    "        state = np.concatenate([history, weight_insert], axis=1)\n",
    "\n",
    "        return state, reward, done, info"
   ]
  },
  {
   "cell_type": "code",
   "execution_count": null,
   "metadata": {
    "ExecuteTime": {
     "end_time": "2017-11-11T08:21:34.369989Z",
     "start_time": "2017-11-11T08:21:34.300597Z"
    }
   },
   "outputs": [],
   "source": []
  },
  {
   "cell_type": "code",
   "execution_count": null,
   "metadata": {
    "ExecuteTime": {
     "end_time": "2017-11-11T08:18:06.548603Z",
     "start_time": "2017-11-11T08:18:06.458022Z"
    }
   },
   "outputs": [],
   "source": []
  },
  {
   "cell_type": "code",
   "execution_count": 8,
   "metadata": {
    "ExecuteTime": {
     "end_time": "2017-11-12T04:19:42.782046Z",
     "start_time": "2017-11-12T04:19:42.650024Z"
    },
    "collapsed": true
   },
   "outputs": [],
   "source": [
    "# tensorforce wants us to use this wrapper, our subclass lets us pass in an env as an object\n",
    "from tensorforce.contrib.openai_gym import OpenAIGym\n",
    "class CustomOpenAIGym(OpenAIGym):\n",
    "    def __init__(self, gym_id, gym):\n",
    "        self.gym_id = gym_id\n",
    "        self.gym = gym"
   ]
  },
  {
   "cell_type": "code",
   "execution_count": 14,
   "metadata": {
    "ExecuteTime": {
     "end_time": "2017-11-12T04:20:24.504699Z",
     "start_time": "2017-11-12T04:20:24.446934Z"
    }
   },
   "outputs": [],
   "source": [
    "df_train = pd.read_hdf('./data/poloniex_30m.hf',key='train')\n",
    "env = EnvWrapper(\n",
    "    df=df_train,\n",
    "    steps=40, \n",
    "    scale=True, \n",
    "    trading_cost=0.0025, \n",
    "    window_length = window_length,\n",
    "    output_mode='EIIE',\n",
    ")\n",
    "env.seed(0)\n",
    "environment = CustomOpenAIGym('CryptoPortfolioEIIE-v0', env)"
   ]
  },
  {
   "cell_type": "code",
   "execution_count": 15,
   "metadata": {
    "ExecuteTime": {
     "end_time": "2017-11-12T04:20:24.955032Z",
     "start_time": "2017-11-12T04:20:24.920794Z"
    }
   },
   "outputs": [
    {
     "data": {
      "text/plain": [
       "(3, 51, 3)"
      ]
     },
     "execution_count": 15,
     "metadata": {},
     "output_type": "execute_result"
    }
   ],
   "source": [
    "# sanity check out environment is working\n",
    "state = env.reset()\n",
    "state, reward, done, info=env.step(env.action_space.sample())\n",
    "state.shape"
   ]
  },
  {
   "cell_type": "markdown",
   "metadata": {
    "ExecuteTime": {
     "end_time": "2017-07-16T04:41:21.116729Z",
     "start_time": "2017-07-16T12:41:21.086620+08:00"
    }
   },
   "source": [
    "# Model\n",
    "\n",
    "Derived from  https://github.com/reinforceio/tensorforce/blob/0d07fadec03f76537a2431e17c51cd759d53b5e9/tensorforce/core/networks/layers.py#L90\n",
    "\n",
    "Implemented as per CNN version of https://arxiv.org/abs/1706.10059 "
   ]
  },
  {
   "cell_type": "code",
   "execution_count": 16,
   "metadata": {
    "ExecuteTime": {
     "end_time": "2017-11-12T04:20:26.232444Z",
     "start_time": "2017-11-12T04:20:26.197473Z"
    },
    "collapsed": true
   },
   "outputs": [],
   "source": [
    "from tensorforce import Configuration\n",
    "from tensorforce.agents import PPOAgent\n",
    "from tensorforce.core.networks import LayeredNetwork, layers, Network, network"
   ]
  },
  {
   "cell_type": "code",
   "execution_count": null,
   "metadata": {
    "ExecuteTime": {
     "end_time": "2017-11-05T08:59:45.251938Z",
     "start_time": "2017-11-05T08:59:45.184678Z"
    },
    "collapsed": true
   },
   "outputs": [],
   "source": []
  },
  {
   "cell_type": "code",
   "execution_count": 17,
   "metadata": {
    "ExecuteTime": {
     "end_time": "2017-11-12T04:20:27.530745Z",
     "start_time": "2017-11-12T04:20:27.101913Z"
    },
    "collapsed": true
   },
   "outputs": [],
   "source": [
    "from tensorforce.core.networks import Layer, Conv2d, Nonlinearity\n",
    "class EIIE(Layer):\n",
    "    \"\"\"\n",
    "    EIIE layer\n",
    "    \"\"\"\n",
    "\n",
    "    def __init__(self,\n",
    "                 size=20,\n",
    "                 bias=True,\n",
    "                 activation='relu',\n",
    "                 l2_regularization=0.0,\n",
    "                 l1_regularization=0.0,\n",
    "                 scope='EIIE',\n",
    "                 summary_labels=()):\n",
    "        self.size = size\n",
    "        # Expectation is broadcast back over advantage values so output is of size 1\n",
    "        self.conv1 = Conv2d(\n",
    "            size=3,\n",
    "            bias=bias,\n",
    "            stride=(1,1),\n",
    "            window=(1,3),\n",
    "            padding='VALID',\n",
    "            l2_regularization=l2_regularization,\n",
    "            l1_regularization=l1_regularization,\n",
    "            summary_labels=summary_labels)\n",
    "        self.conv2 = Conv2d(\n",
    "            size=size,\n",
    "            bias=bias,\n",
    "            stride=(1,window_length-2-1),\n",
    "            window=(1,window_length-2-1),\n",
    "            padding='VALID',\n",
    "            l2_regularization=l2_regularization,\n",
    "            l1_regularization=l1_regularization,\n",
    "            summary_labels=summary_labels)\n",
    "        self.conv3 = Conv2d(\n",
    "            size=1,\n",
    "            bias=bias,\n",
    "            stride=(1,1),\n",
    "            window=(1,1),\n",
    "            l2_regularization=l2_regularization,\n",
    "            l1_regularization=l1_regularization,\n",
    "            summary_labels=summary_labels)\n",
    "        self.nonlinearity = Nonlinearity(\n",
    "            name=activation, summary_labels=summary_labels)\n",
    "        self.nonlinearity2 = Nonlinearity(\n",
    "            name=activation, summary_labels=summary_labels)\n",
    "        super(EIIE, self).__init__(\n",
    "            scope=scope, summary_labels=summary_labels)\n",
    "\n",
    "    def tf_apply(self, x0, update):\n",
    "        # where window_size=50, actions=4 (giving the 3), data cols=5\n",
    "        # x0 = (None,3,50,5)\n",
    "        # x = (None,3,49,5)\n",
    "        # x = (None,3,1,1)\n",
    "        # conv1 => (None,3, 47,3)\n",
    "        # conv2 => (None,3, 1, 20)\n",
    "        # concat=> (None,3, 1, 21)\n",
    "        # conv3 => (None,3, 1, 1)\n",
    "        # concat=> (None,2, 1, 1)\n",
    "\n",
    "        w0 = x0[:,:,:1,:1]\n",
    "        x = x0[:,:,1:,:]\n",
    "        \n",
    "        x = self.conv1.apply(x, update=update)\n",
    "        x = self.nonlinearity.apply(x=x, update=update)\n",
    "        \n",
    "        x = self.conv2.apply(x, update=update)\n",
    "        x = self.nonlinearity2.apply(x=x, update=update)\n",
    "        \n",
    "        x = tf.concat([x, w0], 3)\n",
    "        x = self.conv3.apply(x, update=update)\n",
    "        \n",
    "        # concat on cash_bias\n",
    "        cash_bias_int = 0\n",
    "        # FIXME not sure how to make shape with a flexible size in tensorflow but this works for now\n",
    "        # cash_bias = tf.ones(shape=(batch_size,1,1,1)) * cash_bias_int\n",
    "        cash_bias = x[:,:1,:1,:1]*0 \n",
    "        x = tf.concat([cash_bias, x], 1)\n",
    "\n",
    "        if 'activations' in self.summary_labels:\n",
    "            summary = tf.summary.histogram(name='activations', values=x)\n",
    "            self.summaries.append(summary)\n",
    "\n",
    "        return x\n",
    "\n",
    "    def tf_regularization_loss(self):\n",
    "        if super(EIIE, self).tf_regularization_loss() is None:\n",
    "            losses = list()\n",
    "        else:\n",
    "            losses = [super(EIIE, self).tf_regularization_loss()]\n",
    "\n",
    "        if self.conv1.regularization_loss() is not None:\n",
    "            losses.append(self.conv1.regularization_loss())\n",
    "        if self.conv2.regularization_loss() is not None:\n",
    "            losses.append(self.conv2.regularization_loss())\n",
    "        if self.conv1.regularization_loss() is not None:\n",
    "            losses.append(self.conv3.regularization_loss())\n",
    "\n",
    "        if len(losses) > 0:\n",
    "            return tf.add_n(inputs=losses)\n",
    "        else:\n",
    "            return None\n",
    "\n",
    "    def get_variables(self, include_non_trainable=False):\n",
    "        layer_variables = super(EIIE, self).get_variables(\n",
    "            include_non_trainable=include_non_trainable)\n",
    "\n",
    "        layer_variables += self.conv1.get_variables(\n",
    "            include_non_trainable=include_non_trainable)\n",
    "        layer_variables += self.conv2.get_variables(\n",
    "            include_non_trainable=include_non_trainable)\n",
    "        layer_variables += self.conv3.get_variables(\n",
    "            include_non_trainable=include_non_trainable)\n",
    "\n",
    "        layer_variables += self.nonlinearity.get_variables(\n",
    "            include_non_trainable=include_non_trainable)\n",
    "        layer_variables += self.nonlinearity.get_variables(\n",
    "            include_non_trainable=include_non_trainable)\n",
    "\n",
    "        return layer_variables\n",
    "    \n",
    "# Add our custom layer\n",
    "layers['EIIE'] = EIIE\n",
    "\n",
    "# Network as list of layers\n",
    "network_spec = [\n",
    "    dict(type='EIIE', \n",
    "         l1_regularization=1e-8,\n",
    "        l2_regularization=1e-8),\n",
    "    dict(type='flatten')\n",
    "]"
   ]
  },
  {
   "cell_type": "code",
   "execution_count": 18,
   "metadata": {
    "ExecuteTime": {
     "end_time": "2017-11-12T04:20:27.788540Z",
     "start_time": "2017-11-12T04:20:27.750707Z"
    },
    "collapsed": true
   },
   "outputs": [],
   "source": [
    "# also add a custom baseline\n",
    "from tensorforce.core.baselines import NetworkBaseline\n",
    "from tensorforce.core.baselines import baselines\n",
    "\n",
    "\n",
    "class EIIEBaseline(NetworkBaseline):\n",
    "    \"\"\"\n",
    "    CNN baseline (single-state) consisting of convolutional layers followed by dense layers.\n",
    "    \"\"\"\n",
    "\n",
    "    def __init__(self, layers_spec, scope='eiie-baseline', summary_labels=()):\n",
    "        \"\"\"\n",
    "        CNN baseline.\n",
    "        Args:\n",
    "            conv_sizes: List of convolutional layer sizes\n",
    "            dense_sizes: List of dense layer sizes\n",
    "        \"\"\"\n",
    "\n",
    "        super(EIIEBaseline, self).__init__(layers_spec, scope, summary_labels)\n",
    "        \n",
    "# Add our custom baseline\n",
    "baselines['EIIE']=EIIEBaseline"
   ]
  },
  {
   "cell_type": "markdown",
   "metadata": {},
   "source": [
    "# Agent\n"
   ]
  },
  {
   "cell_type": "code",
   "execution_count": 19,
   "metadata": {
    "ExecuteTime": {
     "end_time": "2017-11-12T04:20:35.334501Z",
     "start_time": "2017-11-12T04:20:28.522247Z"
    },
    "scrolled": true
   },
   "outputs": [
    {
     "name": "stdout",
     "output_type": "stream",
     "text": [
      "INFO:tensorflow:Create CheckpointSaverHook.\n"
     ]
    },
    {
     "name": "stderr",
     "output_type": "stream",
     "text": [
      "INFO:tensorflow:Create CheckpointSaverHook.\n",
      "[2017-11-12 12:20:32,888] Create CheckpointSaverHook.\n"
     ]
    },
    {
     "name": "stdout",
     "output_type": "stream",
     "text": [
      "INFO:tensorflow:Restoring parameters from ./outputs/tensorforce-PPO/tensorforce_PPO_crypto_20171105_06-50-31/model.ckpt-1820000\n"
     ]
    },
    {
     "name": "stderr",
     "output_type": "stream",
     "text": [
      "INFO:tensorflow:Restoring parameters from ./outputs/tensorforce-PPO/tensorforce_PPO_crypto_20171105_06-50-31/model.ckpt-1820000\n",
      "[2017-11-12 12:20:34,362] Restoring parameters from ./outputs/tensorforce-PPO/tensorforce_PPO_crypto_20171105_06-50-31/model.ckpt-1820000\n",
      "WARNING:PPOAgent:Configuration values not accessed: summary_logdir, distributions, parameter_server, local_model, cluster_spec, replica_model, summary_labels, summary_frequency, task_index\n",
      "[2017-11-12 12:20:34,641] Configuration values not accessed: summary_logdir, distributions, parameter_server, local_model, cluster_spec, replica_model, summary_labels, summary_frequency, task_index\n"
     ]
    },
    {
     "name": "stdout",
     "output_type": "stream",
     "text": [
      "INFO:tensorflow:Saving checkpoints for 1820000 into ./outputs/tensorforce-PPO/tensorforce_PPO_crypto_20171105_06-50-31/model.ckpt.\n"
     ]
    },
    {
     "name": "stderr",
     "output_type": "stream",
     "text": [
      "INFO:tensorflow:Saving checkpoints for 1820000 into ./outputs/tensorforce-PPO/tensorforce_PPO_crypto_20171105_06-50-31/model.ckpt.\n",
      "[2017-11-12 12:20:34,671] Saving checkpoints for 1820000 into ./outputs/tensorforce-PPO/tensorforce_PPO_crypto_20171105_06-50-31/model.ckpt.\n"
     ]
    },
    {
     "data": {
      "text/plain": [
       "<tensorforce.agents.ppo_agent.PPOAgent at 0x7fdf4312de80>"
      ]
     },
     "execution_count": 19,
     "metadata": {},
     "output_type": "execute_result"
    }
   ],
   "source": [
    "\n",
    "exploration=dict(\n",
    "    type=\"epsilon_anneal\",\n",
    "    epsilon=1,\n",
    "    epsilon_final= 0.005,\n",
    "    epsilon_timesteps= 1e5,\n",
    "    start_after=0,\n",
    ")\n",
    "\n",
    "# exploration = tensorforce.core.explorations.EpsilonAnneal(**exploration)\n",
    "config = Configuration( \n",
    "    batch_size=batch_size,\n",
    "    \n",
    "    # Each agent requires the following ``Configuration`` parameters:\n",
    "    preprocessing = None,# dict or list containing state preprocessing configuration.\n",
    "    exploration = exploration, #{'action' + str(n): exploration for n in range(env.action_space.shape[0])}, # dict containing action exploration configuration.\n",
    "    reward_preprocessing=None,\n",
    "    \n",
    "    # BatchAgent\n",
    "    keep_last_timestep=True,\n",
    "\n",
    "    # PPOAgent\n",
    "    step_optimizer=dict(\n",
    "        type='adam',\n",
    "        learning_rate = 1e-3, # float of learning rate (alpha). (3e-4 in paper 1e-3 (atari) and 3e-4 in baselines)\n",
    "    ),\n",
    "    optimization_steps=4,\n",
    "    \n",
    "    # Each model requires the following configuration parameters:\n",
    "    # https://github.com/reinforceio/tensorforce/blob/master/tensorforce/models/model.py#L33\n",
    "    scope='ppo',\n",
    "    discount = 0.97, # float of discount factor (gamma).\n",
    "    saver_spec = dict(\n",
    "        directory=save_path, \n",
    "        steps=100000, \n",
    "#         basename=os.path.basename(save_path)\n",
    "    ),\n",
    "    \n",
    "    # DistributionModel\n",
    "    distributions=dict(action=dict(type='gaussian', mean=0.25, log_stddev=np.log(5e-2))),\n",
    "    entropy_regularization=0.01, # 0 and 0.01 in baselines\n",
    "    \n",
    "    # PGModel\n",
    "#     baseline_mode='network', # states or network\n",
    "    baseline_mode='states',\n",
    "    baseline=dict(\n",
    "        type=\"EIIE\",\n",
    "        layers_spec=network_spec\n",
    "#         update_batch_size=512,\n",
    "    ), # string indicating the baseline value function (currently 'linear' or 'mlp').\n",
    "    baseline_optimizer=dict(type='adam', learning_rate=0.003),\n",
    "    gae_lambda=0.5,\n",
    "    normalize_rewards=False,\n",
    "    \n",
    "    # PGLRModel\n",
    "    likelihood_ratio_clipping=0.2,  # Trust region clipping 0.2 in paper\n",
    "    \n",
    "    # Logging\n",
    "    log_level = 'info', # string containing log level (e.g. 'info').\n",
    "    \n",
    "    # Tensorflow summaries\n",
    "    summary_logdir = log_dir, # string directory to write tensorflow summaries. Default None\n",
    "    summary_labels=['total-loss'],\n",
    "    summary_frequency=10,\n",
    "    \n",
    "    # TensorFlow distributed configuration\n",
    "    cluster_spec=None,\n",
    "    parameter_server=False,\n",
    "    task_index=0,\n",
    "    device=None,\n",
    "    local_model=False,\n",
    "    replica_model=False,\n",
    ")\n",
    "\n",
    "# I want to use a gaussian dist instead of beta, we will apply post processing to scale everything\n",
    "actions_spec = environment.actions.copy()\n",
    "del actions_spec[\"min_value\"]\n",
    "del actions_spec[\"max_value\"]\n",
    "\n",
    "# Create an agent\n",
    "agent = PPOAgent(\n",
    "    states_spec=environment.states,\n",
    "    actions_spec=actions_spec,\n",
    "    network_spec=network_spec,\n",
    "    config=config\n",
    ")\n",
    "agent"
   ]
  },
  {
   "cell_type": "markdown",
   "metadata": {},
   "source": [
    "# Train\n",
    "\n",
    "## Callbacks"
   ]
  },
  {
   "cell_type": "code",
   "execution_count": 20,
   "metadata": {
    "ExecuteTime": {
     "end_time": "2017-11-12T04:20:35.402423Z",
     "start_time": "2017-11-12T04:20:35.337389Z"
    },
    "collapsed": true
   },
   "outputs": [],
   "source": [
    "from rl_portfolio_management.callbacks.tensorforce import EpisodeFinishedTQDM, EpisodeFinished\n",
    "from rl_portfolio_management.util import MDD, sharpe"
   ]
  },
  {
   "cell_type": "markdown",
   "metadata": {
    "ExecuteTime": {
     "end_time": "2017-10-15T02:19:28.278977Z",
     "start_time": "2017-10-15T02:19:28.132177Z"
    }
   },
   "source": [
    "## Train"
   ]
  },
  {
   "cell_type": "code",
   "execution_count": null,
   "metadata": {
    "ExecuteTime": {
     "start_time": "2017-11-12T04:20:29.952Z"
    },
    "collapsed": true
   },
   "outputs": [],
   "source": [
    "from tensorforce.execution import Runner\n",
    "runner = Runner(agent=agent, environment=environment)"
   ]
  },
  {
   "cell_type": "code",
   "execution_count": null,
   "metadata": {
    "ExecuteTime": {
     "start_time": "2017-11-12T04:20:30.154Z"
    },
    "scrolled": true
   },
   "outputs": [
    {
     "data": {
      "application/vnd.jupyter.widget-view+json": {
       "model_id": "13880b8b2e03414ca09005a18632a58b"
      }
     },
     "metadata": {},
     "output_type": "display_data"
    },
    {
     "name": "stdout",
     "output_type": "stream",
     "text": [
      "TensorBoardLogger started. Run `tensorboard --logdir=/media/oldhome/wassname/Documents/projects/rl-portfolio-gh/rl-portfolio-management/logs/tensorforce_PPO_crypto_20171105_06-50-31` to visualize\n"
     ]
    }
   ],
   "source": [
    "%matplotlib notebook\n",
    "steps=12e6\n",
    "env._plot = env._plot2 = env._plot3 = None\n",
    "episodes = int(steps / 30)\n",
    "runner.run(\n",
    "    timesteps=steps,\n",
    "    episode_finished=EpisodeFinishedTQDM(\n",
    "        log_intv=1000,\n",
    "        steps=steps,\n",
    "        mean_of=1000,\n",
    "        log_dir=log_dir,\n",
    "        session=runner.agent.model.session,\n",
    "    )\n",
    ")"
   ]
  },
  {
   "cell_type": "code",
   "execution_count": null,
   "metadata": {
    "ExecuteTime": {
     "start_time": "2017-11-12T04:20:30.343Z"
    }
   },
   "outputs": [],
   "source": [
    "# read history, might be slow\n",
    "import collections\n",
    "import glob\n",
    "from tensorflow.python.summary import summary_iterator\n",
    "event_paths = glob.glob(os.path.join(log_dir, \"event*\"))\n",
    "data = collections.defaultdict(dict)\n",
    "for file in event_paths:\n",
    "    event_reader = summary_iterator.summary_iterator(file)\n",
    "    for event in tqdm(event_reader):\n",
    "        try:\n",
    "            step=event.step\n",
    "            name=event.summary.value[0].tag\n",
    "            val=event.summary.value[0].simple_value\n",
    "            data[step][name]=val\n",
    "        except:\n",
    "            pass\n"
   ]
  },
  {
   "cell_type": "code",
   "execution_count": 23,
   "metadata": {
    "ExecuteTime": {
     "end_time": "2017-11-12T01:38:00.684263Z",
     "start_time": "2017-11-12T01:37:59.133553Z"
    }
   },
   "outputs": [
    {
     "data": {
      "application/javascript": [
       "/* Put everything inside the global mpl namespace */\n",
       "window.mpl = {};\n",
       "\n",
       "\n",
       "mpl.get_websocket_type = function() {\n",
       "    if (typeof(WebSocket) !== 'undefined') {\n",
       "        return WebSocket;\n",
       "    } else if (typeof(MozWebSocket) !== 'undefined') {\n",
       "        return MozWebSocket;\n",
       "    } else {\n",
       "        alert('Your browser does not have WebSocket support.' +\n",
       "              'Please try Chrome, Safari or Firefox ≥ 6. ' +\n",
       "              'Firefox 4 and 5 are also supported but you ' +\n",
       "              'have to enable WebSockets in about:config.');\n",
       "    };\n",
       "}\n",
       "\n",
       "mpl.figure = function(figure_id, websocket, ondownload, parent_element) {\n",
       "    this.id = figure_id;\n",
       "\n",
       "    this.ws = websocket;\n",
       "\n",
       "    this.supports_binary = (this.ws.binaryType != undefined);\n",
       "\n",
       "    if (!this.supports_binary) {\n",
       "        var warnings = document.getElementById(\"mpl-warnings\");\n",
       "        if (warnings) {\n",
       "            warnings.style.display = 'block';\n",
       "            warnings.textContent = (\n",
       "                \"This browser does not support binary websocket messages. \" +\n",
       "                    \"Performance may be slow.\");\n",
       "        }\n",
       "    }\n",
       "\n",
       "    this.imageObj = new Image();\n",
       "\n",
       "    this.context = undefined;\n",
       "    this.message = undefined;\n",
       "    this.canvas = undefined;\n",
       "    this.rubberband_canvas = undefined;\n",
       "    this.rubberband_context = undefined;\n",
       "    this.format_dropdown = undefined;\n",
       "\n",
       "    this.image_mode = 'full';\n",
       "\n",
       "    this.root = $('<div/>');\n",
       "    this._root_extra_style(this.root)\n",
       "    this.root.attr('style', 'display: inline-block');\n",
       "\n",
       "    $(parent_element).append(this.root);\n",
       "\n",
       "    this._init_header(this);\n",
       "    this._init_canvas(this);\n",
       "    this._init_toolbar(this);\n",
       "\n",
       "    var fig = this;\n",
       "\n",
       "    this.waiting = false;\n",
       "\n",
       "    this.ws.onopen =  function () {\n",
       "            fig.send_message(\"supports_binary\", {value: fig.supports_binary});\n",
       "            fig.send_message(\"send_image_mode\", {});\n",
       "            if (mpl.ratio != 1) {\n",
       "                fig.send_message(\"set_dpi_ratio\", {'dpi_ratio': mpl.ratio});\n",
       "            }\n",
       "            fig.send_message(\"refresh\", {});\n",
       "        }\n",
       "\n",
       "    this.imageObj.onload = function() {\n",
       "            if (fig.image_mode == 'full') {\n",
       "                // Full images could contain transparency (where diff images\n",
       "                // almost always do), so we need to clear the canvas so that\n",
       "                // there is no ghosting.\n",
       "                fig.context.clearRect(0, 0, fig.canvas.width, fig.canvas.height);\n",
       "            }\n",
       "            fig.context.drawImage(fig.imageObj, 0, 0);\n",
       "        };\n",
       "\n",
       "    this.imageObj.onunload = function() {\n",
       "        this.ws.close();\n",
       "    }\n",
       "\n",
       "    this.ws.onmessage = this._make_on_message_function(this);\n",
       "\n",
       "    this.ondownload = ondownload;\n",
       "}\n",
       "\n",
       "mpl.figure.prototype._init_header = function() {\n",
       "    var titlebar = $(\n",
       "        '<div class=\"ui-dialog-titlebar ui-widget-header ui-corner-all ' +\n",
       "        'ui-helper-clearfix\"/>');\n",
       "    var titletext = $(\n",
       "        '<div class=\"ui-dialog-title\" style=\"width: 100%; ' +\n",
       "        'text-align: center; padding: 3px;\"/>');\n",
       "    titlebar.append(titletext)\n",
       "    this.root.append(titlebar);\n",
       "    this.header = titletext[0];\n",
       "}\n",
       "\n",
       "\n",
       "\n",
       "mpl.figure.prototype._canvas_extra_style = function(canvas_div) {\n",
       "\n",
       "}\n",
       "\n",
       "\n",
       "mpl.figure.prototype._root_extra_style = function(canvas_div) {\n",
       "\n",
       "}\n",
       "\n",
       "mpl.figure.prototype._init_canvas = function() {\n",
       "    var fig = this;\n",
       "\n",
       "    var canvas_div = $('<div/>');\n",
       "\n",
       "    canvas_div.attr('style', 'position: relative; clear: both; outline: 0');\n",
       "\n",
       "    function canvas_keyboard_event(event) {\n",
       "        return fig.key_event(event, event['data']);\n",
       "    }\n",
       "\n",
       "    canvas_div.keydown('key_press', canvas_keyboard_event);\n",
       "    canvas_div.keyup('key_release', canvas_keyboard_event);\n",
       "    this.canvas_div = canvas_div\n",
       "    this._canvas_extra_style(canvas_div)\n",
       "    this.root.append(canvas_div);\n",
       "\n",
       "    var canvas = $('<canvas/>');\n",
       "    canvas.addClass('mpl-canvas');\n",
       "    canvas.attr('style', \"left: 0; top: 0; z-index: 0; outline: 0\")\n",
       "\n",
       "    this.canvas = canvas[0];\n",
       "    this.context = canvas[0].getContext(\"2d\");\n",
       "\n",
       "    var backingStore = this.context.backingStorePixelRatio ||\n",
       "\tthis.context.webkitBackingStorePixelRatio ||\n",
       "\tthis.context.mozBackingStorePixelRatio ||\n",
       "\tthis.context.msBackingStorePixelRatio ||\n",
       "\tthis.context.oBackingStorePixelRatio ||\n",
       "\tthis.context.backingStorePixelRatio || 1;\n",
       "\n",
       "    mpl.ratio = (window.devicePixelRatio || 1) / backingStore;\n",
       "\n",
       "    var rubberband = $('<canvas/>');\n",
       "    rubberband.attr('style', \"position: absolute; left: 0; top: 0; z-index: 1;\")\n",
       "\n",
       "    var pass_mouse_events = true;\n",
       "\n",
       "    canvas_div.resizable({\n",
       "        start: function(event, ui) {\n",
       "            pass_mouse_events = false;\n",
       "        },\n",
       "        resize: function(event, ui) {\n",
       "            fig.request_resize(ui.size.width, ui.size.height);\n",
       "        },\n",
       "        stop: function(event, ui) {\n",
       "            pass_mouse_events = true;\n",
       "            fig.request_resize(ui.size.width, ui.size.height);\n",
       "        },\n",
       "    });\n",
       "\n",
       "    function mouse_event_fn(event) {\n",
       "        if (pass_mouse_events)\n",
       "            return fig.mouse_event(event, event['data']);\n",
       "    }\n",
       "\n",
       "    rubberband.mousedown('button_press', mouse_event_fn);\n",
       "    rubberband.mouseup('button_release', mouse_event_fn);\n",
       "    // Throttle sequential mouse events to 1 every 20ms.\n",
       "    rubberband.mousemove('motion_notify', mouse_event_fn);\n",
       "\n",
       "    rubberband.mouseenter('figure_enter', mouse_event_fn);\n",
       "    rubberband.mouseleave('figure_leave', mouse_event_fn);\n",
       "\n",
       "    canvas_div.on(\"wheel\", function (event) {\n",
       "        event = event.originalEvent;\n",
       "        event['data'] = 'scroll'\n",
       "        if (event.deltaY < 0) {\n",
       "            event.step = 1;\n",
       "        } else {\n",
       "            event.step = -1;\n",
       "        }\n",
       "        mouse_event_fn(event);\n",
       "    });\n",
       "\n",
       "    canvas_div.append(canvas);\n",
       "    canvas_div.append(rubberband);\n",
       "\n",
       "    this.rubberband = rubberband;\n",
       "    this.rubberband_canvas = rubberband[0];\n",
       "    this.rubberband_context = rubberband[0].getContext(\"2d\");\n",
       "    this.rubberband_context.strokeStyle = \"#000000\";\n",
       "\n",
       "    this._resize_canvas = function(width, height) {\n",
       "        // Keep the size of the canvas, canvas container, and rubber band\n",
       "        // canvas in synch.\n",
       "        canvas_div.css('width', width)\n",
       "        canvas_div.css('height', height)\n",
       "\n",
       "        canvas.attr('width', width * mpl.ratio);\n",
       "        canvas.attr('height', height * mpl.ratio);\n",
       "        canvas.attr('style', 'width: ' + width + 'px; height: ' + height + 'px;');\n",
       "\n",
       "        rubberband.attr('width', width);\n",
       "        rubberband.attr('height', height);\n",
       "    }\n",
       "\n",
       "    // Set the figure to an initial 600x600px, this will subsequently be updated\n",
       "    // upon first draw.\n",
       "    this._resize_canvas(600, 600);\n",
       "\n",
       "    // Disable right mouse context menu.\n",
       "    $(this.rubberband_canvas).bind(\"contextmenu\",function(e){\n",
       "        return false;\n",
       "    });\n",
       "\n",
       "    function set_focus () {\n",
       "        canvas.focus();\n",
       "        canvas_div.focus();\n",
       "    }\n",
       "\n",
       "    window.setTimeout(set_focus, 100);\n",
       "}\n",
       "\n",
       "mpl.figure.prototype._init_toolbar = function() {\n",
       "    var fig = this;\n",
       "\n",
       "    var nav_element = $('<div/>')\n",
       "    nav_element.attr('style', 'width: 100%');\n",
       "    this.root.append(nav_element);\n",
       "\n",
       "    // Define a callback function for later on.\n",
       "    function toolbar_event(event) {\n",
       "        return fig.toolbar_button_onclick(event['data']);\n",
       "    }\n",
       "    function toolbar_mouse_event(event) {\n",
       "        return fig.toolbar_button_onmouseover(event['data']);\n",
       "    }\n",
       "\n",
       "    for(var toolbar_ind in mpl.toolbar_items) {\n",
       "        var name = mpl.toolbar_items[toolbar_ind][0];\n",
       "        var tooltip = mpl.toolbar_items[toolbar_ind][1];\n",
       "        var image = mpl.toolbar_items[toolbar_ind][2];\n",
       "        var method_name = mpl.toolbar_items[toolbar_ind][3];\n",
       "\n",
       "        if (!name) {\n",
       "            // put a spacer in here.\n",
       "            continue;\n",
       "        }\n",
       "        var button = $('<button/>');\n",
       "        button.addClass('ui-button ui-widget ui-state-default ui-corner-all ' +\n",
       "                        'ui-button-icon-only');\n",
       "        button.attr('role', 'button');\n",
       "        button.attr('aria-disabled', 'false');\n",
       "        button.click(method_name, toolbar_event);\n",
       "        button.mouseover(tooltip, toolbar_mouse_event);\n",
       "\n",
       "        var icon_img = $('<span/>');\n",
       "        icon_img.addClass('ui-button-icon-primary ui-icon');\n",
       "        icon_img.addClass(image);\n",
       "        icon_img.addClass('ui-corner-all');\n",
       "\n",
       "        var tooltip_span = $('<span/>');\n",
       "        tooltip_span.addClass('ui-button-text');\n",
       "        tooltip_span.html(tooltip);\n",
       "\n",
       "        button.append(icon_img);\n",
       "        button.append(tooltip_span);\n",
       "\n",
       "        nav_element.append(button);\n",
       "    }\n",
       "\n",
       "    var fmt_picker_span = $('<span/>');\n",
       "\n",
       "    var fmt_picker = $('<select/>');\n",
       "    fmt_picker.addClass('mpl-toolbar-option ui-widget ui-widget-content');\n",
       "    fmt_picker_span.append(fmt_picker);\n",
       "    nav_element.append(fmt_picker_span);\n",
       "    this.format_dropdown = fmt_picker[0];\n",
       "\n",
       "    for (var ind in mpl.extensions) {\n",
       "        var fmt = mpl.extensions[ind];\n",
       "        var option = $(\n",
       "            '<option/>', {selected: fmt === mpl.default_extension}).html(fmt);\n",
       "        fmt_picker.append(option)\n",
       "    }\n",
       "\n",
       "    // Add hover states to the ui-buttons\n",
       "    $( \".ui-button\" ).hover(\n",
       "        function() { $(this).addClass(\"ui-state-hover\");},\n",
       "        function() { $(this).removeClass(\"ui-state-hover\");}\n",
       "    );\n",
       "\n",
       "    var status_bar = $('<span class=\"mpl-message\"/>');\n",
       "    nav_element.append(status_bar);\n",
       "    this.message = status_bar[0];\n",
       "}\n",
       "\n",
       "mpl.figure.prototype.request_resize = function(x_pixels, y_pixels) {\n",
       "    // Request matplotlib to resize the figure. Matplotlib will then trigger a resize in the client,\n",
       "    // which will in turn request a refresh of the image.\n",
       "    this.send_message('resize', {'width': x_pixels, 'height': y_pixels});\n",
       "}\n",
       "\n",
       "mpl.figure.prototype.send_message = function(type, properties) {\n",
       "    properties['type'] = type;\n",
       "    properties['figure_id'] = this.id;\n",
       "    this.ws.send(JSON.stringify(properties));\n",
       "}\n",
       "\n",
       "mpl.figure.prototype.send_draw_message = function() {\n",
       "    if (!this.waiting) {\n",
       "        this.waiting = true;\n",
       "        this.ws.send(JSON.stringify({type: \"draw\", figure_id: this.id}));\n",
       "    }\n",
       "}\n",
       "\n",
       "\n",
       "mpl.figure.prototype.handle_save = function(fig, msg) {\n",
       "    var format_dropdown = fig.format_dropdown;\n",
       "    var format = format_dropdown.options[format_dropdown.selectedIndex].value;\n",
       "    fig.ondownload(fig, format);\n",
       "}\n",
       "\n",
       "\n",
       "mpl.figure.prototype.handle_resize = function(fig, msg) {\n",
       "    var size = msg['size'];\n",
       "    if (size[0] != fig.canvas.width || size[1] != fig.canvas.height) {\n",
       "        fig._resize_canvas(size[0], size[1]);\n",
       "        fig.send_message(\"refresh\", {});\n",
       "    };\n",
       "}\n",
       "\n",
       "mpl.figure.prototype.handle_rubberband = function(fig, msg) {\n",
       "    var x0 = msg['x0'] / mpl.ratio;\n",
       "    var y0 = (fig.canvas.height - msg['y0']) / mpl.ratio;\n",
       "    var x1 = msg['x1'] / mpl.ratio;\n",
       "    var y1 = (fig.canvas.height - msg['y1']) / mpl.ratio;\n",
       "    x0 = Math.floor(x0) + 0.5;\n",
       "    y0 = Math.floor(y0) + 0.5;\n",
       "    x1 = Math.floor(x1) + 0.5;\n",
       "    y1 = Math.floor(y1) + 0.5;\n",
       "    var min_x = Math.min(x0, x1);\n",
       "    var min_y = Math.min(y0, y1);\n",
       "    var width = Math.abs(x1 - x0);\n",
       "    var height = Math.abs(y1 - y0);\n",
       "\n",
       "    fig.rubberband_context.clearRect(\n",
       "        0, 0, fig.canvas.width, fig.canvas.height);\n",
       "\n",
       "    fig.rubberband_context.strokeRect(min_x, min_y, width, height);\n",
       "}\n",
       "\n",
       "mpl.figure.prototype.handle_figure_label = function(fig, msg) {\n",
       "    // Updates the figure title.\n",
       "    fig.header.textContent = msg['label'];\n",
       "}\n",
       "\n",
       "mpl.figure.prototype.handle_cursor = function(fig, msg) {\n",
       "    var cursor = msg['cursor'];\n",
       "    switch(cursor)\n",
       "    {\n",
       "    case 0:\n",
       "        cursor = 'pointer';\n",
       "        break;\n",
       "    case 1:\n",
       "        cursor = 'default';\n",
       "        break;\n",
       "    case 2:\n",
       "        cursor = 'crosshair';\n",
       "        break;\n",
       "    case 3:\n",
       "        cursor = 'move';\n",
       "        break;\n",
       "    }\n",
       "    fig.rubberband_canvas.style.cursor = cursor;\n",
       "}\n",
       "\n",
       "mpl.figure.prototype.handle_message = function(fig, msg) {\n",
       "    fig.message.textContent = msg['message'];\n",
       "}\n",
       "\n",
       "mpl.figure.prototype.handle_draw = function(fig, msg) {\n",
       "    // Request the server to send over a new figure.\n",
       "    fig.send_draw_message();\n",
       "}\n",
       "\n",
       "mpl.figure.prototype.handle_image_mode = function(fig, msg) {\n",
       "    fig.image_mode = msg['mode'];\n",
       "}\n",
       "\n",
       "mpl.figure.prototype.updated_canvas_event = function() {\n",
       "    // Called whenever the canvas gets updated.\n",
       "    this.send_message(\"ack\", {});\n",
       "}\n",
       "\n",
       "// A function to construct a web socket function for onmessage handling.\n",
       "// Called in the figure constructor.\n",
       "mpl.figure.prototype._make_on_message_function = function(fig) {\n",
       "    return function socket_on_message(evt) {\n",
       "        if (evt.data instanceof Blob) {\n",
       "            /* FIXME: We get \"Resource interpreted as Image but\n",
       "             * transferred with MIME type text/plain:\" errors on\n",
       "             * Chrome.  But how to set the MIME type?  It doesn't seem\n",
       "             * to be part of the websocket stream */\n",
       "            evt.data.type = \"image/png\";\n",
       "\n",
       "            /* Free the memory for the previous frames */\n",
       "            if (fig.imageObj.src) {\n",
       "                (window.URL || window.webkitURL).revokeObjectURL(\n",
       "                    fig.imageObj.src);\n",
       "            }\n",
       "\n",
       "            fig.imageObj.src = (window.URL || window.webkitURL).createObjectURL(\n",
       "                evt.data);\n",
       "            fig.updated_canvas_event();\n",
       "            fig.waiting = false;\n",
       "            return;\n",
       "        }\n",
       "        else if (typeof evt.data === 'string' && evt.data.slice(0, 21) == \"data:image/png;base64\") {\n",
       "            fig.imageObj.src = evt.data;\n",
       "            fig.updated_canvas_event();\n",
       "            fig.waiting = false;\n",
       "            return;\n",
       "        }\n",
       "\n",
       "        var msg = JSON.parse(evt.data);\n",
       "        var msg_type = msg['type'];\n",
       "\n",
       "        // Call the  \"handle_{type}\" callback, which takes\n",
       "        // the figure and JSON message as its only arguments.\n",
       "        try {\n",
       "            var callback = fig[\"handle_\" + msg_type];\n",
       "        } catch (e) {\n",
       "            console.log(\"No handler for the '\" + msg_type + \"' message type: \", msg);\n",
       "            return;\n",
       "        }\n",
       "\n",
       "        if (callback) {\n",
       "            try {\n",
       "                // console.log(\"Handling '\" + msg_type + \"' message: \", msg);\n",
       "                callback(fig, msg);\n",
       "            } catch (e) {\n",
       "                console.log(\"Exception inside the 'handler_\" + msg_type + \"' callback:\", e, e.stack, msg);\n",
       "            }\n",
       "        }\n",
       "    };\n",
       "}\n",
       "\n",
       "// from http://stackoverflow.com/questions/1114465/getting-mouse-location-in-canvas\n",
       "mpl.findpos = function(e) {\n",
       "    //this section is from http://www.quirksmode.org/js/events_properties.html\n",
       "    var targ;\n",
       "    if (!e)\n",
       "        e = window.event;\n",
       "    if (e.target)\n",
       "        targ = e.target;\n",
       "    else if (e.srcElement)\n",
       "        targ = e.srcElement;\n",
       "    if (targ.nodeType == 3) // defeat Safari bug\n",
       "        targ = targ.parentNode;\n",
       "\n",
       "    // jQuery normalizes the pageX and pageY\n",
       "    // pageX,Y are the mouse positions relative to the document\n",
       "    // offset() returns the position of the element relative to the document\n",
       "    var x = e.pageX - $(targ).offset().left;\n",
       "    var y = e.pageY - $(targ).offset().top;\n",
       "\n",
       "    return {\"x\": x, \"y\": y};\n",
       "};\n",
       "\n",
       "/*\n",
       " * return a copy of an object with only non-object keys\n",
       " * we need this to avoid circular references\n",
       " * http://stackoverflow.com/a/24161582/3208463\n",
       " */\n",
       "function simpleKeys (original) {\n",
       "  return Object.keys(original).reduce(function (obj, key) {\n",
       "    if (typeof original[key] !== 'object')\n",
       "        obj[key] = original[key]\n",
       "    return obj;\n",
       "  }, {});\n",
       "}\n",
       "\n",
       "mpl.figure.prototype.mouse_event = function(event, name) {\n",
       "    var canvas_pos = mpl.findpos(event)\n",
       "\n",
       "    if (name === 'button_press')\n",
       "    {\n",
       "        this.canvas.focus();\n",
       "        this.canvas_div.focus();\n",
       "    }\n",
       "\n",
       "    var x = canvas_pos.x * mpl.ratio;\n",
       "    var y = canvas_pos.y * mpl.ratio;\n",
       "\n",
       "    this.send_message(name, {x: x, y: y, button: event.button,\n",
       "                             step: event.step,\n",
       "                             guiEvent: simpleKeys(event)});\n",
       "\n",
       "    /* This prevents the web browser from automatically changing to\n",
       "     * the text insertion cursor when the button is pressed.  We want\n",
       "     * to control all of the cursor setting manually through the\n",
       "     * 'cursor' event from matplotlib */\n",
       "    event.preventDefault();\n",
       "    return false;\n",
       "}\n",
       "\n",
       "mpl.figure.prototype._key_event_extra = function(event, name) {\n",
       "    // Handle any extra behaviour associated with a key event\n",
       "}\n",
       "\n",
       "mpl.figure.prototype.key_event = function(event, name) {\n",
       "\n",
       "    // Prevent repeat events\n",
       "    if (name == 'key_press')\n",
       "    {\n",
       "        if (event.which === this._key)\n",
       "            return;\n",
       "        else\n",
       "            this._key = event.which;\n",
       "    }\n",
       "    if (name == 'key_release')\n",
       "        this._key = null;\n",
       "\n",
       "    var value = '';\n",
       "    if (event.ctrlKey && event.which != 17)\n",
       "        value += \"ctrl+\";\n",
       "    if (event.altKey && event.which != 18)\n",
       "        value += \"alt+\";\n",
       "    if (event.shiftKey && event.which != 16)\n",
       "        value += \"shift+\";\n",
       "\n",
       "    value += 'k';\n",
       "    value += event.which.toString();\n",
       "\n",
       "    this._key_event_extra(event, name);\n",
       "\n",
       "    this.send_message(name, {key: value,\n",
       "                             guiEvent: simpleKeys(event)});\n",
       "    return false;\n",
       "}\n",
       "\n",
       "mpl.figure.prototype.toolbar_button_onclick = function(name) {\n",
       "    if (name == 'download') {\n",
       "        this.handle_save(this, null);\n",
       "    } else {\n",
       "        this.send_message(\"toolbar_button\", {name: name});\n",
       "    }\n",
       "};\n",
       "\n",
       "mpl.figure.prototype.toolbar_button_onmouseover = function(tooltip) {\n",
       "    this.message.textContent = tooltip;\n",
       "};\n",
       "mpl.toolbar_items = [[\"Home\", \"Reset original view\", \"fa fa-home icon-home\", \"home\"], [\"Back\", \"Back to  previous view\", \"fa fa-arrow-left icon-arrow-left\", \"back\"], [\"Forward\", \"Forward to next view\", \"fa fa-arrow-right icon-arrow-right\", \"forward\"], [\"\", \"\", \"\", \"\"], [\"Pan\", \"Pan axes with left mouse, zoom with right\", \"fa fa-arrows icon-move\", \"pan\"], [\"Zoom\", \"Zoom to rectangle\", \"fa fa-square-o icon-check-empty\", \"zoom\"], [\"\", \"\", \"\", \"\"], [\"Download\", \"Download plot\", \"fa fa-floppy-o icon-save\", \"download\"]];\n",
       "\n",
       "mpl.extensions = [\"eps\", \"jpeg\", \"pdf\", \"png\", \"ps\", \"raw\", \"svg\", \"tif\"];\n",
       "\n",
       "mpl.default_extension = \"png\";var comm_websocket_adapter = function(comm) {\n",
       "    // Create a \"websocket\"-like object which calls the given IPython comm\n",
       "    // object with the appropriate methods. Currently this is a non binary\n",
       "    // socket, so there is still some room for performance tuning.\n",
       "    var ws = {};\n",
       "\n",
       "    ws.close = function() {\n",
       "        comm.close()\n",
       "    };\n",
       "    ws.send = function(m) {\n",
       "        //console.log('sending', m);\n",
       "        comm.send(m);\n",
       "    };\n",
       "    // Register the callback with on_msg.\n",
       "    comm.on_msg(function(msg) {\n",
       "        //console.log('receiving', msg['content']['data'], msg);\n",
       "        // Pass the mpl event to the overriden (by mpl) onmessage function.\n",
       "        ws.onmessage(msg['content']['data'])\n",
       "    });\n",
       "    return ws;\n",
       "}\n",
       "\n",
       "mpl.mpl_figure_comm = function(comm, msg) {\n",
       "    // This is the function which gets called when the mpl process\n",
       "    // starts-up an IPython Comm through the \"matplotlib\" channel.\n",
       "\n",
       "    var id = msg.content.data.id;\n",
       "    // Get hold of the div created by the display call when the Comm\n",
       "    // socket was opened in Python.\n",
       "    var element = $(\"#\" + id);\n",
       "    var ws_proxy = comm_websocket_adapter(comm)\n",
       "\n",
       "    function ondownload(figure, format) {\n",
       "        window.open(figure.imageObj.src);\n",
       "    }\n",
       "\n",
       "    var fig = new mpl.figure(id, ws_proxy,\n",
       "                           ondownload,\n",
       "                           element.get(0));\n",
       "\n",
       "    // Call onopen now - mpl needs it, as it is assuming we've passed it a real\n",
       "    // web socket which is closed, not our websocket->open comm proxy.\n",
       "    ws_proxy.onopen();\n",
       "\n",
       "    fig.parent_element = element.get(0);\n",
       "    fig.cell_info = mpl.find_output_cell(\"<div id='\" + id + \"'></div>\");\n",
       "    if (!fig.cell_info) {\n",
       "        console.error(\"Failed to find cell for figure\", id, fig);\n",
       "        return;\n",
       "    }\n",
       "\n",
       "    var output_index = fig.cell_info[2]\n",
       "    var cell = fig.cell_info[0];\n",
       "\n",
       "};\n",
       "\n",
       "mpl.figure.prototype.handle_close = function(fig, msg) {\n",
       "    var width = fig.canvas.width/mpl.ratio\n",
       "    fig.root.unbind('remove')\n",
       "\n",
       "    // Update the output cell to use the data from the current canvas.\n",
       "    fig.push_to_output();\n",
       "    var dataURL = fig.canvas.toDataURL();\n",
       "    // Re-enable the keyboard manager in IPython - without this line, in FF,\n",
       "    // the notebook keyboard shortcuts fail.\n",
       "    IPython.keyboard_manager.enable()\n",
       "    $(fig.parent_element).html('<img src=\"' + dataURL + '\" width=\"' + width + '\">');\n",
       "    fig.close_ws(fig, msg);\n",
       "}\n",
       "\n",
       "mpl.figure.prototype.close_ws = function(fig, msg){\n",
       "    fig.send_message('closing', msg);\n",
       "    // fig.ws.close()\n",
       "}\n",
       "\n",
       "mpl.figure.prototype.push_to_output = function(remove_interactive) {\n",
       "    // Turn the data on the canvas into data in the output cell.\n",
       "    var width = this.canvas.width/mpl.ratio\n",
       "    var dataURL = this.canvas.toDataURL();\n",
       "    this.cell_info[1]['text/html'] = '<img src=\"' + dataURL + '\" width=\"' + width + '\">';\n",
       "}\n",
       "\n",
       "mpl.figure.prototype.updated_canvas_event = function() {\n",
       "    // Tell IPython that the notebook contents must change.\n",
       "    IPython.notebook.set_dirty(true);\n",
       "    this.send_message(\"ack\", {});\n",
       "    var fig = this;\n",
       "    // Wait a second, then push the new image to the DOM so\n",
       "    // that it is saved nicely (might be nice to debounce this).\n",
       "    setTimeout(function () { fig.push_to_output() }, 1000);\n",
       "}\n",
       "\n",
       "mpl.figure.prototype._init_toolbar = function() {\n",
       "    var fig = this;\n",
       "\n",
       "    var nav_element = $('<div/>')\n",
       "    nav_element.attr('style', 'width: 100%');\n",
       "    this.root.append(nav_element);\n",
       "\n",
       "    // Define a callback function for later on.\n",
       "    function toolbar_event(event) {\n",
       "        return fig.toolbar_button_onclick(event['data']);\n",
       "    }\n",
       "    function toolbar_mouse_event(event) {\n",
       "        return fig.toolbar_button_onmouseover(event['data']);\n",
       "    }\n",
       "\n",
       "    for(var toolbar_ind in mpl.toolbar_items){\n",
       "        var name = mpl.toolbar_items[toolbar_ind][0];\n",
       "        var tooltip = mpl.toolbar_items[toolbar_ind][1];\n",
       "        var image = mpl.toolbar_items[toolbar_ind][2];\n",
       "        var method_name = mpl.toolbar_items[toolbar_ind][3];\n",
       "\n",
       "        if (!name) { continue; };\n",
       "\n",
       "        var button = $('<button class=\"btn btn-default\" href=\"#\" title=\"' + name + '\"><i class=\"fa ' + image + ' fa-lg\"></i></button>');\n",
       "        button.click(method_name, toolbar_event);\n",
       "        button.mouseover(tooltip, toolbar_mouse_event);\n",
       "        nav_element.append(button);\n",
       "    }\n",
       "\n",
       "    // Add the status bar.\n",
       "    var status_bar = $('<span class=\"mpl-message\" style=\"text-align:right; float: right;\"/>');\n",
       "    nav_element.append(status_bar);\n",
       "    this.message = status_bar[0];\n",
       "\n",
       "    // Add the close button to the window.\n",
       "    var buttongrp = $('<div class=\"btn-group inline pull-right\"></div>');\n",
       "    var button = $('<button class=\"btn btn-mini btn-primary\" href=\"#\" title=\"Stop Interaction\"><i class=\"fa fa-power-off icon-remove icon-large\"></i></button>');\n",
       "    button.click(function (evt) { fig.handle_close(fig, {}); } );\n",
       "    button.mouseover('Stop Interaction', toolbar_mouse_event);\n",
       "    buttongrp.append(button);\n",
       "    var titlebar = this.root.find($('.ui-dialog-titlebar'));\n",
       "    titlebar.prepend(buttongrp);\n",
       "}\n",
       "\n",
       "mpl.figure.prototype._root_extra_style = function(el){\n",
       "    var fig = this\n",
       "    el.on(\"remove\", function(){\n",
       "\tfig.close_ws(fig, {});\n",
       "    });\n",
       "}\n",
       "\n",
       "mpl.figure.prototype._canvas_extra_style = function(el){\n",
       "    // this is important to make the div 'focusable\n",
       "    el.attr('tabindex', 0)\n",
       "    // reach out to IPython and tell the keyboard manager to turn it's self\n",
       "    // off when our div gets focus\n",
       "\n",
       "    // location in version 3\n",
       "    if (IPython.notebook.keyboard_manager) {\n",
       "        IPython.notebook.keyboard_manager.register_events(el);\n",
       "    }\n",
       "    else {\n",
       "        // location in version 2\n",
       "        IPython.keyboard_manager.register_events(el);\n",
       "    }\n",
       "\n",
       "}\n",
       "\n",
       "mpl.figure.prototype._key_event_extra = function(event, name) {\n",
       "    var manager = IPython.notebook.keyboard_manager;\n",
       "    if (!manager)\n",
       "        manager = IPython.keyboard_manager;\n",
       "\n",
       "    // Check for shift+enter\n",
       "    if (event.shiftKey && event.which == 13) {\n",
       "        this.canvas_div.blur();\n",
       "        // select the cell after this one\n",
       "        var index = IPython.notebook.find_cell_index(this.cell_info[0]);\n",
       "        IPython.notebook.select(index + 1);\n",
       "    }\n",
       "}\n",
       "\n",
       "mpl.figure.prototype.handle_save = function(fig, msg) {\n",
       "    fig.ondownload(fig, null);\n",
       "}\n",
       "\n",
       "\n",
       "mpl.find_output_cell = function(html_output) {\n",
       "    // Return the cell and output element which can be found *uniquely* in the notebook.\n",
       "    // Note - this is a bit hacky, but it is done because the \"notebook_saving.Notebook\"\n",
       "    // IPython event is triggered only after the cells have been serialised, which for\n",
       "    // our purposes (turning an active figure into a static one), is too late.\n",
       "    var cells = IPython.notebook.get_cells();\n",
       "    var ncells = cells.length;\n",
       "    for (var i=0; i<ncells; i++) {\n",
       "        var cell = cells[i];\n",
       "        if (cell.cell_type === 'code'){\n",
       "            for (var j=0; j<cell.output_area.outputs.length; j++) {\n",
       "                var data = cell.output_area.outputs[j];\n",
       "                if (data.data) {\n",
       "                    // IPython >= 3 moved mimebundle to data attribute of output\n",
       "                    data = data.data;\n",
       "                }\n",
       "                if (data['text/html'] == html_output) {\n",
       "                    return [cell, data, j];\n",
       "                }\n",
       "            }\n",
       "        }\n",
       "    }\n",
       "}\n",
       "\n",
       "// Register the function which deals with the matplotlib target/channel.\n",
       "// The kernel may be null if the page has been refreshed.\n",
       "if (IPython.notebook.kernel != null) {\n",
       "    IPython.notebook.kernel.comm_manager.register_target('matplotlib', mpl.mpl_figure_comm);\n",
       "}\n"
      ],
      "text/plain": [
       "<IPython.core.display.Javascript object>"
      ]
     },
     "metadata": {},
     "output_type": "display_data"
    },
    {
     "data": {
      "text/html": [
       "<img src=\"data:image/png;base64,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\" width=\"576\">"
      ],
      "text/plain": [
       "<IPython.core.display.HTML object>"
      ]
     },
     "metadata": {},
     "output_type": "display_data"
    },
    {
     "data": {
      "text/plain": [
       "<matplotlib.axes._subplots.AxesSubplot at 0x7f49e4a800f0>"
      ]
     },
     "execution_count": 23,
     "metadata": {},
     "output_type": "execute_result"
    }
   ],
   "source": [
    "# View history\n",
    "df = pd.DataFrame(data).T\n",
    "df\n",
    "\n",
    "df[\"steps\"]=df.index\n",
    "plt.figure(figsize=(8,8))\n",
    "sns.regplot(x=\"steps\", y=\"reward\", data=df, order=1)"
   ]
  },
  {
   "cell_type": "code",
   "execution_count": 24,
   "metadata": {
    "ExecuteTime": {
     "end_time": "2017-11-12T01:38:01.603448Z",
     "start_time": "2017-11-12T01:38:00.685893Z"
    }
   },
   "outputs": [
    {
     "data": {
      "text/plain": [
       "'./outputs/tensorforce-PPO-prioritised/tensorforcePPO-1827053'"
      ]
     },
     "execution_count": 24,
     "metadata": {},
     "output_type": "execute_result"
    }
   ],
   "source": [
    "agent.save_model('./outputs/tensorforce-PPO-prioritised/tensorforcePPO')"
   ]
  },
  {
   "cell_type": "markdown",
   "metadata": {
    "ExecuteTime": {
     "end_time": "2017-11-11T14:18:45.083902Z",
     "start_time": "2017-11-11T14:18:45.054430Z"
    }
   },
   "source": [
    "# Test"
   ]
  },
  {
   "cell_type": "code",
   "execution_count": 18,
   "metadata": {
    "ExecuteTime": {
     "end_time": "2017-11-12T02:00:32.592382Z",
     "start_time": "2017-11-12T02:00:32.452435Z"
    },
    "collapsed": true
   },
   "outputs": [],
   "source": [
    "df_test = pd.read_hdf('./data/poloniex_30m.hf',key='test')\n",
    "env_test = EnvWrapper(\n",
    "    df=df_test,\n",
    "    steps=48*7, # run for a week at a time \n",
    "    scale=True, \n",
    "    trading_cost=0.0025, \n",
    "    window_length=window_length,\n",
    "    output_mode='EIIE',\n",
    ")\n",
    "env_test.seed(0)\n",
    "\n",
    "environment_test = CustomOpenAIGym('CryptoPortfolioEIIETest-v0', env_test)"
   ]
  },
  {
   "cell_type": "code",
   "execution_count": 25,
   "metadata": {
    "ExecuteTime": {
     "end_time": "2017-11-12T02:02:48.474304Z",
     "start_time": "2017-11-12T02:02:43.186543Z"
    }
   },
   "outputs": [
    {
     "name": "stdout",
     "output_type": "stream",
     "text": [
      "\n",
      "INFO:tensorflow:Create CheckpointSaverHook.\n"
     ]
    },
    {
     "name": "stderr",
     "output_type": "stream",
     "text": [
      "INFO:tensorflow:Create CheckpointSaverHook.\n",
      "[2017-11-12 10:02:47,128] Create CheckpointSaverHook.\n"
     ]
    },
    {
     "name": "stdout",
     "output_type": "stream",
     "text": [
      "INFO:tensorflow:Restoring parameters from ./outputs/tensorforce-PPO/tensorforce_PPO_crypto_20171105_06-50-31/model.ckpt-1820000\n"
     ]
    },
    {
     "name": "stderr",
     "output_type": "stream",
     "text": [
      "INFO:tensorflow:Restoring parameters from ./outputs/tensorforce-PPO/tensorforce_PPO_crypto_20171105_06-50-31/model.ckpt-1820000\n",
      "[2017-11-12 10:02:47,535] Restoring parameters from ./outputs/tensorforce-PPO/tensorforce_PPO_crypto_20171105_06-50-31/model.ckpt-1820000\n",
      "WARNING:PPOAgent:Configuration values not accessed: summary_logdir, replica_model, summary_frequency, local_model, distributions, parameter_server, cluster_spec, summary_labels, task_index\n",
      "[2017-11-12 10:02:47,848] Configuration values not accessed: summary_logdir, replica_model, summary_frequency, local_model, distributions, parameter_server, cluster_spec, summary_labels, task_index\n"
     ]
    },
    {
     "name": "stdout",
     "output_type": "stream",
     "text": [
      "INFO:tensorflow:Saving checkpoints for 1820000 into ./outputs/tensorforce-PPO/tensorforce_PPO_crypto_20171105_06-50-31/model.ckpt.\n"
     ]
    },
    {
     "name": "stderr",
     "output_type": "stream",
     "text": [
      "INFO:tensorflow:Saving checkpoints for 1820000 into ./outputs/tensorforce-PPO/tensorforce_PPO_crypto_20171105_06-50-31/model.ckpt.\n",
      "[2017-11-12 10:02:47,895] Saving checkpoints for 1820000 into ./outputs/tensorforce-PPO/tensorforce_PPO_crypto_20171105_06-50-31/model.ckpt.\n"
     ]
    }
   ],
   "source": [
    "# Create an agent\n",
    "agent = PPOAgent(\n",
    "    states_spec=environment.states,\n",
    "    actions_spec=actions_spec,\n",
    "    network_spec=network_spec,\n",
    "    config=config\n",
    ")"
   ]
  },
  {
   "cell_type": "code",
   "execution_count": 26,
   "metadata": {
    "ExecuteTime": {
     "end_time": "2017-11-12T02:02:48.540674Z",
     "start_time": "2017-11-12T02:02:48.475847Z"
    },
    "collapsed": true
   },
   "outputs": [],
   "source": [
    "runner_test = Runner(agent=agent, environment=environment_test)"
   ]
  },
  {
   "cell_type": "code",
   "execution_count": 27,
   "metadata": {
    "ExecuteTime": {
     "end_time": "2017-11-12T02:02:48.576647Z",
     "start_time": "2017-11-12T02:02:48.542987Z"
    }
   },
   "outputs": [],
   "source": [
    "%matplotlib notebook"
   ]
  },
  {
   "cell_type": "code",
   "execution_count": 33,
   "metadata": {
    "ExecuteTime": {
     "end_time": "2017-11-12T02:30:35.334384Z",
     "start_time": "2017-11-12T02:30:00.103032Z"
    },
    "scrolled": true
   },
   "outputs": [
    {
     "name": "stdout",
     "output_type": "stream",
     "text": [
      "Finished episode 45497 after 1820336 timesteps (reward:  0.000217 [ 0.000217,  0.000217]) portfolio_value:  1.0742 [ 1.0742,  1.0742] mdd=-4.92% sharpe= 0.38\n",
      "Finished episode 45498 after 1820672 timesteps (reward:  0.000325 [ 0.000325,  0.000325]) portfolio_value:  1.1139 [ 1.1139,  1.1139] mdd=-5.58% sharpe= 0.34\n",
      "Finished episode 45499 after 1821008 timesteps (reward: -0.000106 [-0.000106, -0.000106]) portfolio_value:  0.9637 [ 0.9637,  0.9637] mdd=-2.11% sharpe=-0.13\n",
      "Finished episode 45500 after 1821344 timesteps (reward: -0.000083 [-0.000083, -0.000083]) portfolio_value:  0.9712 [ 0.9712,  0.9712] mdd=-3.21% sharpe=-0.11\n",
      "Finished episode 45501 after 1821680 timesteps (reward: -0.000030 [-0.000030, -0.000030]) portfolio_value:  0.9887 [ 0.9887,  0.9887] mdd=-4.34% sharpe=-0.02\n"
     ]
    },
    {
     "ename": "TypeError",
     "evalue": "Fetch argument None has invalid type <class 'NoneType'>",
     "output_type": "error",
     "traceback": [
      "\u001b[0;31m---------------------------------------------------------------------------\u001b[0m",
      "\u001b[0;31mTypeError\u001b[0m                                 Traceback (most recent call last)",
      "\u001b[0;32m<ipython-input-33-ee865a43ac08>\u001b[0m in \u001b[0;36m<module>\u001b[0;34m()\u001b[0m\n\u001b[1;32m      6\u001b[0m     \u001b[0mdeterministic\u001b[0m\u001b[0;34m=\u001b[0m\u001b[0;32mTrue\u001b[0m\u001b[0;34m,\u001b[0m\u001b[0;34m\u001b[0m\u001b[0m\n\u001b[1;32m      7\u001b[0m     episode_finished=EpisodeFinished(\n\u001b[0;32m----> 8\u001b[0;31m         \u001b[0mlog_intv\u001b[0m\u001b[0;34m=\u001b[0m\u001b[0;36m1\u001b[0m\u001b[0;34m,\u001b[0m\u001b[0;34m\u001b[0m\u001b[0m\n\u001b[0m\u001b[1;32m      9\u001b[0m \u001b[0;31m#         steps=steps*1e9,\u001b[0m\u001b[0;34m\u001b[0m\u001b[0;34m\u001b[0m\u001b[0m\n\u001b[1;32m     10\u001b[0m \u001b[0;31m#         mean_of=1,\u001b[0m\u001b[0;34m\u001b[0m\u001b[0;34m\u001b[0m\u001b[0m\n",
      "\u001b[0;32m/media/oldhome/wassname/Documents/projects/tensorforce2/tensorforce0.3.1/tensorforce/execution/runner.py\u001b[0m in \u001b[0;36mrun\u001b[0;34m(self, timesteps, episodes, max_episode_timesteps, deterministic, episode_finished)\u001b[0m\n\u001b[1;32m    133\u001b[0m                 \u001b[0;32mbreak\u001b[0m\u001b[0;34m\u001b[0m\u001b[0m\n\u001b[1;32m    134\u001b[0m \u001b[0;34m\u001b[0m\u001b[0m\n\u001b[0;32m--> 135\u001b[0;31m         \u001b[0mself\u001b[0m\u001b[0;34m.\u001b[0m\u001b[0magent\u001b[0m\u001b[0;34m.\u001b[0m\u001b[0mclose\u001b[0m\u001b[0;34m(\u001b[0m\u001b[0;34m)\u001b[0m\u001b[0;34m\u001b[0m\u001b[0m\n\u001b[0m\u001b[1;32m    136\u001b[0m         \u001b[0mself\u001b[0m\u001b[0;34m.\u001b[0m\u001b[0menvironment\u001b[0m\u001b[0;34m.\u001b[0m\u001b[0mclose\u001b[0m\u001b[0;34m(\u001b[0m\u001b[0;34m)\u001b[0m\u001b[0;34m\u001b[0m\u001b[0m\n",
      "\u001b[0;32m/media/oldhome/wassname/Documents/projects/tensorforce2/tensorforce0.3.1/tensorforce/agents/agent.py\u001b[0m in \u001b[0;36mclose\u001b[0;34m(self)\u001b[0m\n\u001b[1;32m    194\u001b[0m \u001b[0;34m\u001b[0m\u001b[0m\n\u001b[1;32m    195\u001b[0m     \u001b[0;32mdef\u001b[0m \u001b[0mclose\u001b[0m\u001b[0;34m(\u001b[0m\u001b[0mself\u001b[0m\u001b[0;34m)\u001b[0m\u001b[0;34m:\u001b[0m\u001b[0;34m\u001b[0m\u001b[0m\n\u001b[0;32m--> 196\u001b[0;31m         \u001b[0mself\u001b[0m\u001b[0;34m.\u001b[0m\u001b[0mmodel\u001b[0m\u001b[0;34m.\u001b[0m\u001b[0mclose\u001b[0m\u001b[0;34m(\u001b[0m\u001b[0;34m)\u001b[0m\u001b[0;34m\u001b[0m\u001b[0m\n\u001b[0m\u001b[1;32m    197\u001b[0m \u001b[0;34m\u001b[0m\u001b[0m\n\u001b[1;32m    198\u001b[0m     \u001b[0;32mdef\u001b[0m \u001b[0minitialize_model\u001b[0m\u001b[0;34m(\u001b[0m\u001b[0mself\u001b[0m\u001b[0;34m,\u001b[0m \u001b[0mstates_spec\u001b[0m\u001b[0;34m,\u001b[0m \u001b[0mactions_spec\u001b[0m\u001b[0;34m,\u001b[0m \u001b[0mconfig\u001b[0m\u001b[0;34m)\u001b[0m\u001b[0;34m:\u001b[0m\u001b[0;34m\u001b[0m\u001b[0m\n",
      "\u001b[0;32m/media/oldhome/wassname/Documents/projects/tensorforce2/tensorforce0.3.1/tensorforce/models/model.py\u001b[0m in \u001b[0;36mclose\u001b[0;34m(self)\u001b[0m\n\u001b[1;32m    417\u001b[0m         \u001b[0;32mif\u001b[0m \u001b[0mself\u001b[0m\u001b[0;34m.\u001b[0m\u001b[0msaver_directory\u001b[0m \u001b[0;32mis\u001b[0m \u001b[0;32mnot\u001b[0m \u001b[0;32mNone\u001b[0m\u001b[0;34m:\u001b[0m\u001b[0;34m\u001b[0m\u001b[0m\n\u001b[1;32m    418\u001b[0m             \u001b[0mself\u001b[0m\u001b[0;34m.\u001b[0m\u001b[0msave\u001b[0m\u001b[0;34m(\u001b[0m\u001b[0mappend_timestep\u001b[0m\u001b[0;34m=\u001b[0m\u001b[0;32mTrue\u001b[0m\u001b[0;34m)\u001b[0m\u001b[0;34m\u001b[0m\u001b[0m\n\u001b[0;32m--> 419\u001b[0;31m         \u001b[0mself\u001b[0m\u001b[0;34m.\u001b[0m\u001b[0mmonitored_session\u001b[0m\u001b[0;34m.\u001b[0m\u001b[0mclose\u001b[0m\u001b[0;34m(\u001b[0m\u001b[0;34m)\u001b[0m\u001b[0;34m\u001b[0m\u001b[0m\n\u001b[0m\u001b[1;32m    420\u001b[0m \u001b[0;34m\u001b[0m\u001b[0m\n\u001b[1;32m    421\u001b[0m     \u001b[0;32mdef\u001b[0m \u001b[0minitialize\u001b[0m\u001b[0;34m(\u001b[0m\u001b[0mself\u001b[0m\u001b[0;34m,\u001b[0m \u001b[0mcustom_getter\u001b[0m\u001b[0;34m)\u001b[0m\u001b[0;34m:\u001b[0m\u001b[0;34m\u001b[0m\u001b[0m\n",
      "\u001b[0;32m~/.pyenv/versions/3.5.3/envs/jupyter3/lib/python3.5/site-packages/tensorflow/python/training/monitored_session.py\u001b[0m in \u001b[0;36mclose\u001b[0;34m(self)\u001b[0m\n\u001b[1;32m    524\u001b[0m \u001b[0;34m\u001b[0m\u001b[0m\n\u001b[1;32m    525\u001b[0m   \u001b[0;32mdef\u001b[0m \u001b[0mclose\u001b[0m\u001b[0;34m(\u001b[0m\u001b[0mself\u001b[0m\u001b[0;34m)\u001b[0m\u001b[0;34m:\u001b[0m\u001b[0;34m\u001b[0m\u001b[0m\n\u001b[0;32m--> 526\u001b[0;31m     \u001b[0mself\u001b[0m\u001b[0;34m.\u001b[0m\u001b[0m_close_internal\u001b[0m\u001b[0;34m(\u001b[0m\u001b[0;34m)\u001b[0m\u001b[0;34m\u001b[0m\u001b[0m\n\u001b[0m\u001b[1;32m    527\u001b[0m \u001b[0;34m\u001b[0m\u001b[0m\n\u001b[1;32m    528\u001b[0m   \u001b[0;32mdef\u001b[0m \u001b[0m__enter__\u001b[0m\u001b[0;34m(\u001b[0m\u001b[0mself\u001b[0m\u001b[0;34m)\u001b[0m\u001b[0;34m:\u001b[0m\u001b[0;34m\u001b[0m\u001b[0m\n",
      "\u001b[0;32m~/.pyenv/versions/3.5.3/envs/jupyter3/lib/python3.5/site-packages/tensorflow/python/training/monitored_session.py\u001b[0m in \u001b[0;36m_close_internal\u001b[0;34m(self, exception_type)\u001b[0m\n\u001b[1;32m    564\u001b[0m       \u001b[0;32mif\u001b[0m \u001b[0;32mnot\u001b[0m \u001b[0mexception_type\u001b[0m\u001b[0;34m:\u001b[0m\u001b[0;34m\u001b[0m\u001b[0m\n\u001b[1;32m    565\u001b[0m         \u001b[0;32mfor\u001b[0m \u001b[0mh\u001b[0m \u001b[0;32min\u001b[0m \u001b[0mself\u001b[0m\u001b[0;34m.\u001b[0m\u001b[0m_hooks\u001b[0m\u001b[0;34m:\u001b[0m\u001b[0;34m\u001b[0m\u001b[0m\n\u001b[0;32m--> 566\u001b[0;31m           \u001b[0mh\u001b[0m\u001b[0;34m.\u001b[0m\u001b[0mend\u001b[0m\u001b[0;34m(\u001b[0m\u001b[0mself\u001b[0m\u001b[0;34m.\u001b[0m\u001b[0m_coordinated_creator\u001b[0m\u001b[0;34m.\u001b[0m\u001b[0mtf_sess\u001b[0m\u001b[0;34m)\u001b[0m\u001b[0;34m\u001b[0m\u001b[0m\n\u001b[0m\u001b[1;32m    567\u001b[0m     \u001b[0;32mfinally\u001b[0m\u001b[0;34m:\u001b[0m\u001b[0;34m\u001b[0m\u001b[0m\n\u001b[1;32m    568\u001b[0m       \u001b[0;32mtry\u001b[0m\u001b[0;34m:\u001b[0m\u001b[0;34m\u001b[0m\u001b[0m\n",
      "\u001b[0;32m~/.pyenv/versions/3.5.3/envs/jupyter3/lib/python3.5/site-packages/tensorflow/python/training/basic_session_run_hooks.py\u001b[0m in \u001b[0;36mend\u001b[0;34m(self, session)\u001b[0m\n\u001b[1;32m    443\u001b[0m \u001b[0;34m\u001b[0m\u001b[0m\n\u001b[1;32m    444\u001b[0m   \u001b[0;32mdef\u001b[0m \u001b[0mend\u001b[0m\u001b[0;34m(\u001b[0m\u001b[0mself\u001b[0m\u001b[0;34m,\u001b[0m \u001b[0msession\u001b[0m\u001b[0;34m)\u001b[0m\u001b[0;34m:\u001b[0m\u001b[0;34m\u001b[0m\u001b[0m\n\u001b[0;32m--> 445\u001b[0;31m     \u001b[0mlast_step\u001b[0m \u001b[0;34m=\u001b[0m \u001b[0msession\u001b[0m\u001b[0;34m.\u001b[0m\u001b[0mrun\u001b[0m\u001b[0;34m(\u001b[0m\u001b[0mtraining_util\u001b[0m\u001b[0;34m.\u001b[0m\u001b[0mget_global_step\u001b[0m\u001b[0;34m(\u001b[0m\u001b[0;34m)\u001b[0m\u001b[0;34m)\u001b[0m\u001b[0;34m\u001b[0m\u001b[0m\n\u001b[0m\u001b[1;32m    446\u001b[0m     \u001b[0;32mif\u001b[0m \u001b[0mlast_step\u001b[0m \u001b[0;34m!=\u001b[0m \u001b[0mself\u001b[0m\u001b[0;34m.\u001b[0m\u001b[0m_timer\u001b[0m\u001b[0;34m.\u001b[0m\u001b[0mlast_triggered_step\u001b[0m\u001b[0;34m(\u001b[0m\u001b[0;34m)\u001b[0m\u001b[0;34m:\u001b[0m\u001b[0;34m\u001b[0m\u001b[0m\n\u001b[1;32m    447\u001b[0m       \u001b[0mself\u001b[0m\u001b[0;34m.\u001b[0m\u001b[0m_save\u001b[0m\u001b[0;34m(\u001b[0m\u001b[0mlast_step\u001b[0m\u001b[0;34m,\u001b[0m \u001b[0msession\u001b[0m\u001b[0;34m)\u001b[0m\u001b[0;34m\u001b[0m\u001b[0m\n",
      "\u001b[0;32m~/.pyenv/versions/3.5.3/envs/jupyter3/lib/python3.5/site-packages/tensorflow/python/client/session.py\u001b[0m in \u001b[0;36mrun\u001b[0;34m(self, fetches, feed_dict, options, run_metadata)\u001b[0m\n\u001b[1;32m    893\u001b[0m     \u001b[0;32mtry\u001b[0m\u001b[0;34m:\u001b[0m\u001b[0;34m\u001b[0m\u001b[0m\n\u001b[1;32m    894\u001b[0m       result = self._run(None, fetches, feed_dict, options_ptr,\n\u001b[0;32m--> 895\u001b[0;31m                          run_metadata_ptr)\n\u001b[0m\u001b[1;32m    896\u001b[0m       \u001b[0;32mif\u001b[0m \u001b[0mrun_metadata\u001b[0m\u001b[0;34m:\u001b[0m\u001b[0;34m\u001b[0m\u001b[0m\n\u001b[1;32m    897\u001b[0m         \u001b[0mproto_data\u001b[0m \u001b[0;34m=\u001b[0m \u001b[0mtf_session\u001b[0m\u001b[0;34m.\u001b[0m\u001b[0mTF_GetBuffer\u001b[0m\u001b[0;34m(\u001b[0m\u001b[0mrun_metadata_ptr\u001b[0m\u001b[0;34m)\u001b[0m\u001b[0;34m\u001b[0m\u001b[0m\n",
      "\u001b[0;32m~/.pyenv/versions/3.5.3/envs/jupyter3/lib/python3.5/site-packages/tensorflow/python/client/session.py\u001b[0m in \u001b[0;36m_run\u001b[0;34m(self, handle, fetches, feed_dict, options, run_metadata)\u001b[0m\n\u001b[1;32m   1107\u001b[0m     \u001b[0;31m# Create a fetch handler to take care of the structure of fetches.\u001b[0m\u001b[0;34m\u001b[0m\u001b[0;34m\u001b[0m\u001b[0m\n\u001b[1;32m   1108\u001b[0m     fetch_handler = _FetchHandler(\n\u001b[0;32m-> 1109\u001b[0;31m         self._graph, fetches, feed_dict_tensor, feed_handles=feed_handles)\n\u001b[0m\u001b[1;32m   1110\u001b[0m \u001b[0;34m\u001b[0m\u001b[0m\n\u001b[1;32m   1111\u001b[0m     \u001b[0;31m# Run request and get response.\u001b[0m\u001b[0;34m\u001b[0m\u001b[0;34m\u001b[0m\u001b[0m\n",
      "\u001b[0;32m~/.pyenv/versions/3.5.3/envs/jupyter3/lib/python3.5/site-packages/tensorflow/python/client/session.py\u001b[0m in \u001b[0;36m__init__\u001b[0;34m(self, graph, fetches, feeds, feed_handles)\u001b[0m\n\u001b[1;32m    411\u001b[0m     \"\"\"\n\u001b[1;32m    412\u001b[0m     \u001b[0;32mwith\u001b[0m \u001b[0mgraph\u001b[0m\u001b[0;34m.\u001b[0m\u001b[0mas_default\u001b[0m\u001b[0;34m(\u001b[0m\u001b[0;34m)\u001b[0m\u001b[0;34m:\u001b[0m\u001b[0;34m\u001b[0m\u001b[0m\n\u001b[0;32m--> 413\u001b[0;31m       \u001b[0mself\u001b[0m\u001b[0;34m.\u001b[0m\u001b[0m_fetch_mapper\u001b[0m \u001b[0;34m=\u001b[0m \u001b[0m_FetchMapper\u001b[0m\u001b[0;34m.\u001b[0m\u001b[0mfor_fetch\u001b[0m\u001b[0;34m(\u001b[0m\u001b[0mfetches\u001b[0m\u001b[0;34m)\u001b[0m\u001b[0;34m\u001b[0m\u001b[0m\n\u001b[0m\u001b[1;32m    414\u001b[0m     \u001b[0mself\u001b[0m\u001b[0;34m.\u001b[0m\u001b[0m_fetches\u001b[0m \u001b[0;34m=\u001b[0m \u001b[0;34m[\u001b[0m\u001b[0;34m]\u001b[0m\u001b[0;34m\u001b[0m\u001b[0m\n\u001b[1;32m    415\u001b[0m     \u001b[0mself\u001b[0m\u001b[0;34m.\u001b[0m\u001b[0m_targets\u001b[0m \u001b[0;34m=\u001b[0m \u001b[0;34m[\u001b[0m\u001b[0;34m]\u001b[0m\u001b[0;34m\u001b[0m\u001b[0m\n",
      "\u001b[0;32m~/.pyenv/versions/3.5.3/envs/jupyter3/lib/python3.5/site-packages/tensorflow/python/client/session.py\u001b[0m in \u001b[0;36mfor_fetch\u001b[0;34m(fetch)\u001b[0m\n\u001b[1;32m    228\u001b[0m     \u001b[0;32mif\u001b[0m \u001b[0mfetch\u001b[0m \u001b[0;32mis\u001b[0m \u001b[0;32mNone\u001b[0m\u001b[0;34m:\u001b[0m\u001b[0;34m\u001b[0m\u001b[0m\n\u001b[1;32m    229\u001b[0m       raise TypeError('Fetch argument %r has invalid type %r' %\n\u001b[0;32m--> 230\u001b[0;31m                       (fetch, type(fetch)))\n\u001b[0m\u001b[1;32m    231\u001b[0m     \u001b[0;32melif\u001b[0m \u001b[0misinstance\u001b[0m\u001b[0;34m(\u001b[0m\u001b[0mfetch\u001b[0m\u001b[0;34m,\u001b[0m \u001b[0;34m(\u001b[0m\u001b[0mlist\u001b[0m\u001b[0;34m,\u001b[0m \u001b[0mtuple\u001b[0m\u001b[0;34m)\u001b[0m\u001b[0;34m)\u001b[0m\u001b[0;34m:\u001b[0m\u001b[0;34m\u001b[0m\u001b[0m\n\u001b[1;32m    232\u001b[0m       \u001b[0;31m# NOTE(touts): This is also the code path for namedtuples.\u001b[0m\u001b[0;34m\u001b[0m\u001b[0;34m\u001b[0m\u001b[0m\n",
      "\u001b[0;31mTypeError\u001b[0m: Fetch argument None has invalid type <class 'NoneType'>"
     ]
    }
   ],
   "source": [
    "episodes=5\n",
    "steps=environment_test.gym.src.steps*episodes\n",
    "runner_test.run(\n",
    "    episodes=episodes,\n",
    "    timesteps=steps,\n",
    "    deterministic=True,\n",
    "    episode_finished=EpisodeFinished(\n",
    "        log_intv=1,\n",
    "#         steps=steps*1e9,\n",
    "#         mean_of=1,\n",
    "#         log_dir=log_dir,\n",
    "#         session=runner.agent.model.session,\n",
    "    )\n",
    "#     episode_finished= lambda x:True\n",
    ")"
   ]
  },
  {
   "cell_type": "code",
   "execution_count": null,
   "metadata": {
    "ExecuteTime": {
     "end_time": "2017-11-12T02:02:13.709446Z",
     "start_time": "2017-11-12T02:02:13.646315Z"
    }
   },
   "outputs": [],
   "source": []
  },
  {
   "cell_type": "code",
   "execution_count": 34,
   "metadata": {
    "ExecuteTime": {
     "end_time": "2017-11-12T02:30:41.423613Z",
     "start_time": "2017-11-12T02:30:40.433034Z"
    }
   },
   "outputs": [
    {
     "name": "stderr",
     "output_type": "stream",
     "text": [
      "WARNING:root:The liveplot callback only work when matplotlib is using the nbAgg backend. Execute 'matplotlib.use('nbAgg', force=True)'' or '%matplotlib notebook'\n",
      "[2017-11-12 10:30:40,489] The liveplot callback only work when matplotlib is using the nbAgg backend. Execute 'matplotlib.use('nbAgg', force=True)'' or '%matplotlib notebook'\n",
      "WARNING:root:The liveplot callback only work when matplotlib is using the nbAgg backend. Execute 'matplotlib.use('nbAgg', force=True)'' or '%matplotlib notebook'\n",
      "[2017-11-12 10:30:40,641] The liveplot callback only work when matplotlib is using the nbAgg backend. Execute 'matplotlib.use('nbAgg', force=True)'' or '%matplotlib notebook'\n",
      "WARNING:root:The liveplot callback only work when matplotlib is using the nbAgg backend. Execute 'matplotlib.use('nbAgg', force=True)'' or '%matplotlib notebook'\n",
      "[2017-11-12 10:30:40,800] The liveplot callback only work when matplotlib is using the nbAgg backend. Execute 'matplotlib.use('nbAgg', force=True)'' or '%matplotlib notebook'\n"
     ]
    },
    {
     "data": {
      "image/png": "[encoded data removed]",
      "text/plain": [
       "<matplotlib.figure.Figure at 0x7fb0b2bf35c0>"
      ]
     },
     "metadata": {},
     "output_type": "display_data"
    },
    {
     "data": {
      "image/png": "[encoded data removed]",
      "text/plain": [
       "<matplotlib.figure.Figure at 0x7fb0b239ae10>"
      ]
     },
     "metadata": {},
     "output_type": "display_data"
    },
    {
     "data": {
      "image/png": "[encoded data removed]",
      "text/plain": [
       "<matplotlib.figure.Figure at 0x7fb0b250eeb8>"
      ]
     },
     "metadata": {},
     "output_type": "display_data"
    }
   ],
   "source": [
    "%matplotlib inline\n",
    "environment_test.gym.render('notebook', close=True)\n",
    "environment_test.gym.render('notebook')"
   ]
  },
  {
   "cell_type": "code",
   "execution_count": null,
   "metadata": {
    "collapsed": true
   },
   "outputs": [],
   "source": []
  }
 ],
 "metadata": {
  "kernelspec": {
   "display_name": "jupyter3",
   "language": "python",
   "name": "jupyter3"
  },
  "language_info": {
   "codemirror_mode": {
    "name": "ipython",
    "version": 3
   },
   "file_extension": ".py",
   "mimetype": "text/x-python",
   "name": "python",
   "nbconvert_exporter": "python",
   "pygments_lexer": "ipython3",
   "version": "3.5.3"
  },
  "toc": {
   "colors": {
    "hover_highlight": "#DAA520",
    "navigate_num": "#000000",
    "navigate_text": "#333333",
    "running_highlight": "#FF0000",
    "selected_highlight": "#FFD700",
    "sidebar_border": "#EEEEEE",
    "wrapper_background": "#FFFFFF"
   },
   "moveMenuLeft": true,
   "nav_menu": {
    "height": "146px",
    "width": "252px"
   },
   "navigate_menu": true,
   "number_sections": true,
   "sideBar": true,
   "threshold": 4,
   "toc_cell": false,
   "toc_section_display": "block",
   "toc_window_display": false,
   "widenNotebook": false
  }
 },
 "nbformat": 4,
 "nbformat_minor": 2
}
