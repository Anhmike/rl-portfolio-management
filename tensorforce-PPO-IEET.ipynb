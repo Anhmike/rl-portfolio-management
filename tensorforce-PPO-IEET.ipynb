{
 "cells": [
  {
   "cell_type": "markdown",
   "metadata": {},
   "source": [
    "Uses tensorforce tensorforce-0.3.0\n",
    "\n",
    "Took 8 million steps over about a day to warm up. Got 1.6e-4 which is about 25% a month, 25x a year.\n"
   ]
  },
  {
   "cell_type": "code",
   "execution_count": 1,
   "metadata": {
    "ExecuteTime": {
     "end_time": "2018-02-18T03:40:58.293911Z",
     "start_time": "2018-02-18T03:40:56.891664Z"
    }
   },
   "outputs": [
    {
     "name": "stderr",
     "output_type": "stream",
     "text": [
      "/home/wassname/.pyenv/versions/3.5.3/envs/jupyter3/lib/python3.5/site-packages/h5py/__init__.py:34: FutureWarning: Conversion of the second argument of issubdtype from `float` to `np.floating` is deprecated. In future, it will be treated as `np.float64 == np.dtype(float).type`.\n",
      "  from ._conv import register_converters as _register_converters\n"
     ]
    }
   ],
   "source": [
    "# plotting\n",
    "%matplotlib inline\n",
    "from matplotlib import pyplot as plt\n",
    "import seaborn as sns\n",
    "plt.style.use('ggplot')\n",
    "\n",
    "# numeric\n",
    "import numpy as np\n",
    "from numpy import random\n",
    "import pandas as pd\n",
    "import tensorflow as tf\n",
    "\n",
    "# util\n",
    "from collections import Counter\n",
    "import pdb\n",
    "import glob\n",
    "import time\n",
    "import tempfile\n",
    "import itertools\n",
    "from tqdm import tqdm_notebook as tqdm\n",
    "import datetime\n",
    "\n",
    "# logging\n",
    "import logging\n",
    "logger = log = logging.getLogger(__name__)\n",
    "# log.setLevel(logging.INFO)\n",
    "logging.basicConfig()\n",
    "log.info('%s logger started.', __name__)"
   ]
  },
  {
   "cell_type": "code",
   "execution_count": 2,
   "metadata": {
    "ExecuteTime": {
     "end_time": "2018-02-18T03:40:58.322951Z",
     "start_time": "2018-02-18T03:40:58.299400Z"
    }
   },
   "outputs": [],
   "source": [
    "import gym\n",
    "from gym import error, spaces, utils\n",
    "from gym.utils import seeding"
   ]
  },
  {
   "cell_type": "code",
   "execution_count": 3,
   "metadata": {
    "ExecuteTime": {
     "end_time": "2018-02-18T03:40:58.353574Z",
     "start_time": "2018-02-18T03:40:58.324393Z"
    }
   },
   "outputs": [],
   "source": [
    "import os\n",
    "os.sys.path.append(os.path.abspath('.'))\n",
    "%reload_ext autoreload\n",
    "%autoreload 2"
   ]
  },
  {
   "cell_type": "code",
   "execution_count": 4,
   "metadata": {
    "ExecuteTime": {
     "end_time": "2018-02-18T03:40:58.383646Z",
     "start_time": "2018-02-18T03:40:58.354997Z"
    }
   },
   "outputs": [
    {
     "data": {
      "text/plain": [
       "'./outputs/tensorforce-PPO/tensorforce_PPO_crypto-20180218_03-40-58'"
      ]
     },
     "execution_count": 4,
     "metadata": {},
     "output_type": "execute_result"
    }
   ],
   "source": [
    "# params\n",
    "window_length = 50\n",
    "cash_bias = 0.0\n",
    "batch_size=128\n",
    "import datetime\n",
    "ts = datetime.datetime.utcnow().strftime('%Y%m%d_%H-%M-%S')\n",
    "save_path = './outputs/tensorforce-PPO/tensorforce_PPO_crypto-%s' % ts\n",
    "# save_path = './outputs/tensorforce-PPO/tensorforce_PPO_crypto_20171105_06-50-31'\n",
    "save_path"
   ]
  },
  {
   "cell_type": "code",
   "execution_count": null,
   "metadata": {},
   "outputs": [],
   "source": []
  },
  {
   "cell_type": "code",
   "execution_count": 5,
   "metadata": {
    "ExecuteTime": {
     "end_time": "2018-02-18T03:40:58.423293Z",
     "start_time": "2018-02-18T03:40:58.396364Z"
    }
   },
   "outputs": [
    {
     "data": {
      "text/plain": [
       "'logs/tensorforce_PPO_crypto-20180218_03-40-58/run-20180218_03-40-58'"
      ]
     },
     "execution_count": 5,
     "metadata": {},
     "output_type": "execute_result"
    }
   ],
   "source": [
    "log_dir = os.path.join('logs', os.path.splitext(os.path.basename(save_path))[0], 'run-' + ts)\n",
    "try:\n",
    "    os.makedirs(log_dir)\n",
    "except OSError:\n",
    "    pass\n",
    "log_dir"
   ]
  },
  {
   "cell_type": "markdown",
   "metadata": {},
   "source": [
    "# Enviroment\n",
    "\n",
    "We will wrap out environment so we can modify the inputs, outputs, and attributes for tensorforce.\n",
    "\n",
    "- tensorforce doesn't like dual outputs so we will concat them\n",
    "- we need to softmax the weights since tensorforce doesn't do this"
   ]
  },
  {
   "cell_type": "code",
   "execution_count": 6,
   "metadata": {
    "ExecuteTime": {
     "end_time": "2018-02-18T03:40:58.489589Z",
     "start_time": "2018-02-18T03:40:58.425433Z"
    }
   },
   "outputs": [],
   "source": [
    "from rl_portfolio_management.environments.portfolio import PortfolioEnv\n",
    "from rl_portfolio_management.wrappers import SoftmaxActions, ConcatStates"
   ]
  },
  {
   "cell_type": "code",
   "execution_count": 7,
   "metadata": {
    "ExecuteTime": {
     "end_time": "2018-02-18T03:40:58.521651Z",
     "start_time": "2018-02-18T03:40:58.491162Z"
    }
   },
   "outputs": [],
   "source": [
    "# tensorforce need us to use this wrapper, passing in a registered gym id\n",
    "# this lets us pass in an object instead of registering it\n",
    "from tensorforce.contrib.openai_gym import OpenAIGym\n",
    "class TFOpenAIGymCust(OpenAIGym):\n",
    "    def __init__(self, gym_id, gym):\n",
    "        self.gym_id = gym_id\n",
    "        self.gym = gym\n",
    "        self.visualize = False"
   ]
  },
  {
   "cell_type": "code",
   "execution_count": 8,
   "metadata": {
    "ExecuteTime": {
     "end_time": "2018-02-18T03:40:58.581686Z",
     "start_time": "2018-02-18T03:40:58.523305Z"
    }
   },
   "outputs": [
    {
     "data": {
      "text/plain": [
       "[0]"
      ]
     },
     "execution_count": 8,
     "metadata": {},
     "output_type": "execute_result"
    }
   ],
   "source": [
    "df_train = pd.read_hdf('./data/poloniex_30m.hf',key='train')\n",
    "env = PortfolioEnv(\n",
    "    df=df_train,\n",
    "    steps=40, \n",
    "    scale=True, \n",
    "    trading_cost=0.0025, \n",
    "    window_length = window_length,\n",
    "    output_mode='EIIE',\n",
    "    random_reset=False\n",
    "#     random_reset=False,\n",
    ")\n",
    "# wrap it in a few wrappers\n",
    "env = ConcatStates(env)\n",
    "env = SoftmaxActions(env)\n",
    "environment = TFOpenAIGymCust('CryptoPortfolioEIIE-v0', env)\n",
    "\n",
    "env.seed(0)"
   ]
  },
  {
   "cell_type": "code",
   "execution_count": 9,
   "metadata": {
    "ExecuteTime": {
     "end_time": "2018-02-18T03:40:58.607417Z",
     "start_time": "2018-02-18T03:40:58.583137Z"
    }
   },
   "outputs": [
    {
     "data": {
      "text/plain": [
       "Box(3, 51, 4)"
      ]
     },
     "execution_count": 9,
     "metadata": {},
     "output_type": "execute_result"
    }
   ],
   "source": [
    "environment.gym.observation_space"
   ]
  },
  {
   "cell_type": "code",
   "execution_count": 10,
   "metadata": {
    "ExecuteTime": {
     "end_time": "2018-02-18T03:40:58.638472Z",
     "start_time": "2018-02-18T03:40:58.611589Z"
    }
   },
   "outputs": [
    {
     "data": {
      "text/plain": [
       "(3, 51, 4)"
      ]
     },
     "execution_count": 10,
     "metadata": {},
     "output_type": "execute_result"
    }
   ],
   "source": [
    "# sanity check out environment is working\n",
    "state = environment.reset()\n",
    "state, reward, done=environment.execute(env.action_space.sample())\n",
    "state.shape"
   ]
  },
  {
   "cell_type": "code",
   "execution_count": 11,
   "metadata": {
    "ExecuteTime": {
     "end_time": "2018-02-18T03:40:58.669200Z",
     "start_time": "2018-02-18T03:40:58.640199Z"
    }
   },
   "outputs": [
    {
     "data": {
      "text/plain": [
       "(3, 51, 4)"
      ]
     },
     "execution_count": 11,
     "metadata": {},
     "output_type": "execute_result"
    }
   ],
   "source": [
    "# sanity check out environment is working\n",
    "state = env.reset()\n",
    "state, reward, done, info=env.step(env.action_space.sample())\n",
    "state.shape"
   ]
  },
  {
   "cell_type": "markdown",
   "metadata": {
    "ExecuteTime": {
     "end_time": "2017-07-16T04:41:21.116729Z",
     "start_time": "2017-07-16T12:41:21.086620+08:00"
    }
   },
   "source": [
    "# Model\n",
    "\n",
    "Derived from  https://github.com/reinforceio/tensorforce/blob/0d07fadec03f76537a2431e17c51cd759d53b5e9/tensorforce/core/networks/layers.py#L90\n",
    "\n",
    "Implemented as per CNN version of https://arxiv.org/abs/1706.10059 "
   ]
  },
  {
   "cell_type": "code",
   "execution_count": 12,
   "metadata": {
    "ExecuteTime": {
     "end_time": "2018-02-18T03:40:59.199877Z",
     "start_time": "2018-02-18T03:40:58.670658Z"
    }
   },
   "outputs": [],
   "source": [
    "# from tensorforce import Configuration\n",
    "from tensorforce.agents import PPOAgent\n",
    "from tensorforce.core.networks import LayeredNetwork, layers, Network, network"
   ]
  },
  {
   "cell_type": "code",
   "execution_count": null,
   "metadata": {
    "ExecuteTime": {
     "end_time": "2017-11-05T08:59:45.251938Z",
     "start_time": "2017-11-05T08:59:45.184678Z"
    }
   },
   "outputs": [],
   "source": []
  },
  {
   "cell_type": "code",
   "execution_count": 13,
   "metadata": {
    "ExecuteTime": {
     "end_time": "2018-02-18T03:40:59.627949Z",
     "start_time": "2018-02-18T03:40:59.201437Z"
    }
   },
   "outputs": [],
   "source": [
    "from tensorforce.core.networks import Layer, Conv2d, Nonlinearity\n",
    "class EIIE(Layer):\n",
    "    \"\"\"\n",
    "    EIIE layer\n",
    "    \"\"\"\n",
    "\n",
    "    def __init__(self,\n",
    "                 size=20,\n",
    "                 bias=True,\n",
    "                 activation='relu',\n",
    "                 l2_regularization=0.0,\n",
    "                 l1_regularization=0.0,\n",
    "                 scope='EIIE',\n",
    "                 summary_labels=()):\n",
    "        self.size = size\n",
    "        # Expectation is broadcast back over advantage values so output is of size 1\n",
    "        self.conv1 = Conv2d(\n",
    "            size=3,\n",
    "            bias=bias,\n",
    "            stride=(1,1),\n",
    "            window=(1,3),\n",
    "            padding='VALID',\n",
    "            l2_regularization=l2_regularization,\n",
    "            l1_regularization=l1_regularization,\n",
    "            summary_labels=summary_labels)\n",
    "        self.conv2 = Conv2d(\n",
    "            size=size,\n",
    "            bias=bias,\n",
    "            stride=(1,window_length-2-1),\n",
    "            window=(1,window_length-2-1),\n",
    "            padding='VALID',\n",
    "            l2_regularization=l2_regularization,\n",
    "            l1_regularization=l1_regularization,\n",
    "            summary_labels=summary_labels)\n",
    "        self.conv3 = Conv2d(\n",
    "            size=1,\n",
    "            bias=bias,\n",
    "            stride=(1,1),\n",
    "            window=(1,1),\n",
    "            l2_regularization=l2_regularization,\n",
    "            l1_regularization=l1_regularization,\n",
    "            summary_labels=summary_labels)\n",
    "        self.nonlinearity = Nonlinearity(\n",
    "            name=activation, summary_labels=summary_labels)\n",
    "        self.nonlinearity2 = Nonlinearity(\n",
    "            name=activation, summary_labels=summary_labels)\n",
    "        super(EIIE, self).__init__(\n",
    "            scope=scope, summary_labels=summary_labels)\n",
    "\n",
    "    def tf_apply(self, x0, update):\n",
    "        # where window_size=50, actions=4 (giving the 3), data cols=5\n",
    "        # x0 = (None,3,50,5)\n",
    "        # x = (None,3,49,5)\n",
    "        # x = (None,3,1,1)\n",
    "        # conv1 => (None,3, 47,3)\n",
    "        # conv2 => (None,3, 1, 20)\n",
    "        # concat=> (None,3, 1, 21)\n",
    "        # conv3 => (None,3, 1, 1)\n",
    "        # concat=> (None,2, 1, 1)\n",
    "\n",
    "        w0 = x0[:,:,:1,:1]\n",
    "        x = x0[:,:,1:,:]\n",
    "        \n",
    "        x = self.conv1.apply(x, update=update)\n",
    "        x = self.nonlinearity.apply(x=x, update=update)\n",
    "        \n",
    "        x = self.conv2.apply(x, update=update)\n",
    "        x = self.nonlinearity2.apply(x=x, update=update)\n",
    "        \n",
    "        x = tf.concat([x, w0], 3)\n",
    "        x = self.conv3.apply(x, update=update)\n",
    "        \n",
    "        # concat on cash_bias\n",
    "        cash_bias_int = 0\n",
    "        # FIXME not sure how to make shape with a flexible size in tensorflow but this works for now\n",
    "        # cash_bias = tf.ones(shape=(batch_size,1,1,1)) * cash_bias_int\n",
    "        cash_bias = x[:,:1,:1,:1]*0 \n",
    "        x = tf.concat([cash_bias, x], 1)\n",
    "\n",
    "        if 'activations' in self.summary_labels:\n",
    "            summary = tf.summary.histogram(name='activations', values=x)\n",
    "            self.summaries.append(summary)\n",
    "\n",
    "        return x\n",
    "\n",
    "    def tf_regularization_loss(self):\n",
    "        if super(EIIE, self).tf_regularization_loss() is None:\n",
    "            losses = list()\n",
    "        else:\n",
    "            losses = [super(EIIE, self).tf_regularization_loss()]\n",
    "\n",
    "        if self.conv1.regularization_loss() is not None:\n",
    "            losses.append(self.conv1.regularization_loss())\n",
    "        if self.conv2.regularization_loss() is not None:\n",
    "            losses.append(self.conv2.regularization_loss())\n",
    "        if self.conv1.regularization_loss() is not None:\n",
    "            losses.append(self.conv3.regularization_loss())\n",
    "\n",
    "        if len(losses) > 0:\n",
    "            return tf.add_n(inputs=losses)\n",
    "        else:\n",
    "            return None\n",
    "\n",
    "    def get_variables(self, include_non_trainable=False):\n",
    "        layer_variables = super(EIIE, self).get_variables(\n",
    "            include_non_trainable=include_non_trainable)\n",
    "\n",
    "        layer_variables += self.conv1.get_variables(\n",
    "            include_non_trainable=include_non_trainable)\n",
    "        layer_variables += self.conv2.get_variables(\n",
    "            include_non_trainable=include_non_trainable)\n",
    "        layer_variables += self.conv3.get_variables(\n",
    "            include_non_trainable=include_non_trainable)\n",
    "\n",
    "        layer_variables += self.nonlinearity.get_variables(\n",
    "            include_non_trainable=include_non_trainable)\n",
    "        layer_variables += self.nonlinearity.get_variables(\n",
    "            include_non_trainable=include_non_trainable)\n",
    "\n",
    "        return layer_variables\n",
    "    \n",
    "# Add our custom layer\n",
    "layers['EIIE'] = EIIE\n",
    "\n",
    "# Network as list of layers\n",
    "network_spec = [\n",
    "    dict(type='EIIE', \n",
    "        l1_regularization=1e-8,\n",
    "        l2_regularization=1e-8),\n",
    "    dict(type='flatten')\n",
    "]"
   ]
  },
  {
   "cell_type": "code",
   "execution_count": 14,
   "metadata": {
    "ExecuteTime": {
     "end_time": "2018-02-18T03:40:59.670761Z",
     "start_time": "2018-02-18T03:40:59.629859Z"
    }
   },
   "outputs": [],
   "source": [
    "# also add a custom baseline\n",
    "from tensorforce.core.baselines import NetworkBaseline\n",
    "from tensorforce.core.baselines import baselines\n",
    "\n",
    "\n",
    "class EIIEBaseline(NetworkBaseline):\n",
    "    \"\"\"\n",
    "    CNN baseline (single-state) consisting of convolutional layers followed by dense layers.\n",
    "    \"\"\"\n",
    "\n",
    "    def __init__(self, layers_spec, scope='eiie-baseline', summary_labels=()):\n",
    "        \"\"\"\n",
    "        CNN baseline.\n",
    "        Args:\n",
    "            conv_sizes: List of convolutional layer sizes\n",
    "            dense_sizes: List of dense layer sizes\n",
    "        \"\"\"\n",
    "\n",
    "        super(EIIEBaseline, self).__init__(layers_spec, scope, summary_labels)\n",
    "        \n",
    "# Add our custom baseline\n",
    "baselines['EIIE']=EIIEBaseline"
   ]
  },
  {
   "cell_type": "markdown",
   "metadata": {},
   "source": [
    "# Agent\n"
   ]
  },
  {
   "cell_type": "code",
   "execution_count": 15,
   "metadata": {
    "ExecuteTime": {
     "end_time": "2018-02-18T03:41:21.372825Z",
     "start_time": "2018-02-18T03:40:59.672340Z"
    },
    "scrolled": true
   },
   "outputs": [
    {
     "name": "stdout",
     "output_type": "stream",
     "text": [
      "INFO:tensorflow:Create CheckpointSaverHook.\n"
     ]
    },
    {
     "name": "stderr",
     "output_type": "stream",
     "text": [
      "INFO:tensorflow:Create CheckpointSaverHook.\n",
      "[2018-02-18 11:41:12,530] Create CheckpointSaverHook.\n"
     ]
    },
    {
     "name": "stdout",
     "output_type": "stream",
     "text": [
      "INFO:tensorflow:Saving checkpoints for 0 into ./outputs/tensorforce-PPO/tensorforce_PPO_crypto-20180218_03-40-58/model.ckpt.\n"
     ]
    },
    {
     "name": "stderr",
     "output_type": "stream",
     "text": [
      "INFO:tensorflow:Saving checkpoints for 0 into ./outputs/tensorforce-PPO/tensorforce_PPO_crypto-20180218_03-40-58/model.ckpt.\n",
      "[2018-02-18 11:41:19,694] Saving checkpoints for 0 into ./outputs/tensorforce-PPO/tensorforce_PPO_crypto-20180218_03-40-58/model.ckpt.\n"
     ]
    }
   ],
   "source": [
    "explorations_spec=dict(\n",
    "    type=\"epsilon_anneal\",\n",
    "    initial_epsilon=1.0,\n",
    "    final_epsilon= 0.005,\n",
    "    timesteps= int(1e5),\n",
    "    start_timestep=0,\n",
    ")\n",
    "\n",
    "# I want to use a gaussian dist instead of beta, we will apply post processing to scale everything\n",
    "# actions_spec = environment.actions.copy()\n",
    "# del actions_spec[\"min_value\"]\n",
    "# del actions_spec[\"max_value\"]\n",
    "# distributions_spec=dict(action=dict(type='gaussian', mean=0.25, log_stddev=np.log(5e-2)))\n",
    "\n",
    "# Or just use beta:\n",
    "actions_spec = environment.actions.copy()\n",
    "distributions_spec=None\n",
    "\n",
    "# https://github.com/reinforceio/tensorforce/blob/d823809df746c61471e2cba5832ab051581baf7e/docs/summary_spec.md\n",
    "summary_spec = dict(directory=log_dir, \n",
    "                        steps=50,\n",
    "                        labels=[\n",
    "                            'configuration',\n",
    "#                             'gradients_scalar',\n",
    "#                             'regularization',\n",
    "                            'inputs',\n",
    "                            'losses',\n",
    "#                             'variables'\n",
    "                            'total-loss',\n",
    "                        ]\n",
    "                    )\n",
    "agent = PPOAgent(\n",
    "    states_spec=environment.states,\n",
    "    actions_spec=actions_spec,\n",
    "    network_spec=network_spec,\n",
    "    batch_size=4096,\n",
    "    saver_spec = dict(\n",
    "        directory=save_path, \n",
    "        steps=100000, \n",
    "#         basename=os.path.basename(save_path)\n",
    "    ),\n",
    "    # Agent\n",
    "    states_preprocessing_spec=None,\n",
    "    explorations_spec=explorations_spec,\n",
    "    reward_preprocessing_spec=None,\n",
    "    # BatchAgent\n",
    "    keep_last_timestep=True,\n",
    "    # PPOAgent\n",
    "    step_optimizer=dict(\n",
    "        type='adam',\n",
    "        learning_rate=1e-4\n",
    "    ),\n",
    "    optimization_steps=10,\n",
    "    # Model\n",
    "    scope='ppo',\n",
    "    discount=0.99,\n",
    "    # DistributionModel\n",
    "    distributions_spec=distributions_spec,\n",
    "    entropy_regularization=0.01, # 0 and 0.01 in baselines\n",
    "    # PGModel\n",
    "    baseline_mode='states',\n",
    "    baseline=dict(\n",
    "        type=\"EIIE\",\n",
    "        layers_spec=network_spec\n",
    "#         update_batch_size=512,\n",
    "    ), # string indicating the baseline value function (currently 'linear' or 'mlp').\n",
    "    baseline_optimizer=dict(type='adam', learning_rate=3e-4),\n",
    "    gae_lambda=0.97,\n",
    "    # PGLRModel\n",
    "    likelihood_ratio_clipping=0.2,\n",
    "    summary_spec=summary_spec,\n",
    "    distributed_spec=None\n",
    ")"
   ]
  },
  {
   "cell_type": "code",
   "execution_count": null,
   "metadata": {
    "ExecuteTime": {
     "end_time": "2018-01-23T04:19:14.046363Z",
     "start_time": "2018-01-23T04:18:45.267535Z"
    }
   },
   "outputs": [],
   "source": []
  },
  {
   "cell_type": "markdown",
   "metadata": {},
   "source": [
    "# Train\n",
    "\n",
    "## Callbacks"
   ]
  },
  {
   "cell_type": "code",
   "execution_count": 19,
   "metadata": {
    "ExecuteTime": {
     "end_time": "2018-02-18T03:44:27.915241Z",
     "start_time": "2018-02-18T03:44:27.880635Z"
    }
   },
   "outputs": [],
   "source": [
    "from rl_portfolio_management.callbacks.tensorforce import EpisodeFinishedTQDM, EpisodeFinished\n",
    "from rl_portfolio_management.util import MDD, sharpe"
   ]
  },
  {
   "cell_type": "markdown",
   "metadata": {
    "ExecuteTime": {
     "end_time": "2017-10-15T02:19:28.278977Z",
     "start_time": "2017-10-15T02:19:28.132177Z"
    }
   },
   "source": [
    "## Train"
   ]
  },
  {
   "cell_type": "code",
   "execution_count": 20,
   "metadata": {
    "ExecuteTime": {
     "end_time": "2018-02-18T03:44:28.235148Z",
     "start_time": "2018-02-18T03:44:28.200789Z"
    }
   },
   "outputs": [],
   "source": [
    "from tensorforce.execution import Runner\n",
    "runner = Runner(agent=agent, environment=environment)"
   ]
  },
  {
   "cell_type": "code",
   "execution_count": 21,
   "metadata": {
    "ExecuteTime": {
     "end_time": "2018-02-18T03:44:37.795550Z",
     "start_time": "2018-02-18T03:44:28.372331Z"
    },
    "scrolled": true
   },
   "outputs": [
    {
     "data": {
      "application/vnd.jupyter.widget-view+json": {
       "model_id": "7e3ca422f4744cd9b02db8cc40e50627",
       "version_major": 2,
       "version_minor": 0
      },
      "text/html": [
       "<p>Failed to display Jupyter Widget of type <code>HBox</code>.</p>\n",
       "<p>\n",
       "  If you're reading this message in the Jupyter Notebook or JupyterLab Notebook, it may mean\n",
       "  that the widgets JavaScript is still loading. If this message persists, it\n",
       "  likely means that the widgets JavaScript library is either not installed or\n",
       "  not enabled. See the <a href=\"https://ipywidgets.readthedocs.io/en/stable/user_install.html\">Jupyter\n",
       "  Widgets Documentation</a> for setup instructions.\n",
       "</p>\n",
       "<p>\n",
       "  If you're reading this message in another frontend (for example, a static\n",
       "  rendering on GitHub or <a href=\"https://nbviewer.jupyter.org/\">NBViewer</a>),\n",
       "  it may mean that your frontend doesn't currently support widgets.\n",
       "</p>\n"
      ],
      "text/plain": [
       "HBox(children=(IntProgress(value=0, max=12000000), HTML(value='')))"
      ]
     },
     "metadata": {},
     "output_type": "display_data"
    },
    {
     "name": "stdout",
     "output_type": "stream",
     "text": [
      "TensorBoardLogger started. Run `tensorboard --logdir=/media/oldhome/wassname/Documents/projects/rl-portfolio-gh/rl-portfolio-management-gh/logs/tensorforce_PPO_crypto-20180218_03-40-58` to visualize\n"
     ]
    },
    {
     "ename": "KeyboardInterrupt",
     "evalue": "",
     "output_type": "error",
     "traceback": [
      "\u001b[0;31m---------------------------------------------------------------------------\u001b[0m",
      "\u001b[0;31mKeyboardInterrupt\u001b[0m                         Traceback (most recent call last)",
      "\u001b[0;32m<ipython-input-21-c4353544343c>\u001b[0m in \u001b[0;36m<module>\u001b[0;34m()\u001b[0m\n\u001b[1;32m     10\u001b[0m         \u001b[0mmean_of\u001b[0m\u001b[0;34m=\u001b[0m\u001b[0;36m1000\u001b[0m\u001b[0;34m,\u001b[0m\u001b[0;34m\u001b[0m\u001b[0m\n\u001b[1;32m     11\u001b[0m         \u001b[0mlog_dir\u001b[0m\u001b[0;34m=\u001b[0m\u001b[0mlog_dir\u001b[0m\u001b[0;34m,\u001b[0m\u001b[0;34m\u001b[0m\u001b[0m\n\u001b[0;32m---> 12\u001b[0;31m         \u001b[0msession\u001b[0m\u001b[0;34m=\u001b[0m\u001b[0mrunner\u001b[0m\u001b[0;34m.\u001b[0m\u001b[0magent\u001b[0m\u001b[0;34m.\u001b[0m\u001b[0mmodel\u001b[0m\u001b[0;34m.\u001b[0m\u001b[0msession\u001b[0m\u001b[0;34m,\u001b[0m\u001b[0;34m\u001b[0m\u001b[0m\n\u001b[0m\u001b[1;32m     13\u001b[0m     )\n\u001b[1;32m     14\u001b[0m )\n",
      "\u001b[0;32m~/.pyenv/versions/3.5.3/envs/jupyter3/lib/python3.5/site-packages/tensorforce/execution/runner.py\u001b[0m in \u001b[0;36mrun\u001b[0;34m(self, timesteps, episodes, max_episode_timesteps, deterministic, episode_finished)\u001b[0m\n\u001b[1;32m    110\u001b[0m             \u001b[0;31m# timestep (within episode) loop\u001b[0m\u001b[0;34m\u001b[0m\u001b[0;34m\u001b[0m\u001b[0m\n\u001b[1;32m    111\u001b[0m             \u001b[0;32mwhile\u001b[0m \u001b[0;32mTrue\u001b[0m\u001b[0;34m:\u001b[0m\u001b[0;34m\u001b[0m\u001b[0m\n\u001b[0;32m--> 112\u001b[0;31m                 \u001b[0maction\u001b[0m \u001b[0;34m=\u001b[0m \u001b[0mself\u001b[0m\u001b[0;34m.\u001b[0m\u001b[0magent\u001b[0m\u001b[0;34m.\u001b[0m\u001b[0mact\u001b[0m\u001b[0;34m(\u001b[0m\u001b[0mstates\u001b[0m\u001b[0;34m=\u001b[0m\u001b[0mstate\u001b[0m\u001b[0;34m,\u001b[0m \u001b[0mdeterministic\u001b[0m\u001b[0;34m=\u001b[0m\u001b[0mdeterministic\u001b[0m\u001b[0;34m)\u001b[0m\u001b[0;34m\u001b[0m\u001b[0m\n\u001b[0m\u001b[1;32m    113\u001b[0m \u001b[0;34m\u001b[0m\u001b[0m\n\u001b[1;32m    114\u001b[0m                 \u001b[0;32mif\u001b[0m \u001b[0mself\u001b[0m\u001b[0;34m.\u001b[0m\u001b[0mrepeat_actions\u001b[0m \u001b[0;34m>\u001b[0m \u001b[0;36m1\u001b[0m\u001b[0;34m:\u001b[0m\u001b[0;34m\u001b[0m\u001b[0m\n",
      "\u001b[0;32m~/.pyenv/versions/3.5.3/envs/jupyter3/lib/python3.5/site-packages/tensorforce/agents/agent.py\u001b[0m in \u001b[0;36mact\u001b[0;34m(self, states, deterministic)\u001b[0m\n\u001b[1;32m    143\u001b[0m             \u001b[0mstates\u001b[0m\u001b[0;34m=\u001b[0m\u001b[0mself\u001b[0m\u001b[0;34m.\u001b[0m\u001b[0mcurrent_states\u001b[0m\u001b[0;34m,\u001b[0m\u001b[0;34m\u001b[0m\u001b[0m\n\u001b[1;32m    144\u001b[0m             \u001b[0minternals\u001b[0m\u001b[0;34m=\u001b[0m\u001b[0mself\u001b[0m\u001b[0;34m.\u001b[0m\u001b[0mcurrent_internals\u001b[0m\u001b[0;34m,\u001b[0m\u001b[0;34m\u001b[0m\u001b[0m\n\u001b[0;32m--> 145\u001b[0;31m             \u001b[0mdeterministic\u001b[0m\u001b[0;34m=\u001b[0m\u001b[0mdeterministic\u001b[0m\u001b[0;34m\u001b[0m\u001b[0m\n\u001b[0m\u001b[1;32m    146\u001b[0m         )\n\u001b[1;32m    147\u001b[0m \u001b[0;34m\u001b[0m\u001b[0m\n",
      "\u001b[0;32m~/.pyenv/versions/3.5.3/envs/jupyter3/lib/python3.5/site-packages/tensorforce/models/model.py\u001b[0m in \u001b[0;36mact\u001b[0;34m(self, states, internals, deterministic)\u001b[0m\n\u001b[1;32m   1266\u001b[0m         \u001b[0mfeed_dict\u001b[0m\u001b[0;34m[\u001b[0m\u001b[0mself\u001b[0m\u001b[0;34m.\u001b[0m\u001b[0mupdate_input\u001b[0m\u001b[0;34m]\u001b[0m \u001b[0;34m=\u001b[0m \u001b[0;32mFalse\u001b[0m\u001b[0;34m\u001b[0m\u001b[0m\n\u001b[1;32m   1267\u001b[0m \u001b[0;34m\u001b[0m\u001b[0m\n\u001b[0;32m-> 1268\u001b[0;31m         \u001b[0mactions\u001b[0m\u001b[0;34m,\u001b[0m \u001b[0minternals\u001b[0m\u001b[0;34m,\u001b[0m \u001b[0mtimestep\u001b[0m \u001b[0;34m=\u001b[0m \u001b[0mself\u001b[0m\u001b[0;34m.\u001b[0m\u001b[0mmonitored_session\u001b[0m\u001b[0;34m.\u001b[0m\u001b[0mrun\u001b[0m\u001b[0;34m(\u001b[0m\u001b[0mfetches\u001b[0m\u001b[0;34m=\u001b[0m\u001b[0mfetches\u001b[0m\u001b[0;34m,\u001b[0m \u001b[0mfeed_dict\u001b[0m\u001b[0;34m=\u001b[0m\u001b[0mfeed_dict\u001b[0m\u001b[0;34m)\u001b[0m\u001b[0;34m\u001b[0m\u001b[0m\n\u001b[0m\u001b[1;32m   1269\u001b[0m \u001b[0;34m\u001b[0m\u001b[0m\n\u001b[1;32m   1270\u001b[0m         \u001b[0;31m# Extract the first (and only) action/internal from the batch to make return values non-batched\u001b[0m\u001b[0;34m\u001b[0m\u001b[0;34m\u001b[0m\u001b[0m\n",
      "\u001b[0;32m~/.pyenv/versions/3.5.3/envs/jupyter3/lib/python3.5/site-packages/tensorflow/python/training/monitored_session.py\u001b[0m in \u001b[0;36mrun\u001b[0;34m(self, fetches, feed_dict, options, run_metadata)\u001b[0m\n\u001b[1;32m    519\u001b[0m                           \u001b[0mfeed_dict\u001b[0m\u001b[0;34m=\u001b[0m\u001b[0mfeed_dict\u001b[0m\u001b[0;34m,\u001b[0m\u001b[0;34m\u001b[0m\u001b[0m\n\u001b[1;32m    520\u001b[0m                           \u001b[0moptions\u001b[0m\u001b[0;34m=\u001b[0m\u001b[0moptions\u001b[0m\u001b[0;34m,\u001b[0m\u001b[0;34m\u001b[0m\u001b[0m\n\u001b[0;32m--> 521\u001b[0;31m                           run_metadata=run_metadata)\n\u001b[0m\u001b[1;32m    522\u001b[0m \u001b[0;34m\u001b[0m\u001b[0m\n\u001b[1;32m    523\u001b[0m   \u001b[0;32mdef\u001b[0m \u001b[0mshould_stop\u001b[0m\u001b[0;34m(\u001b[0m\u001b[0mself\u001b[0m\u001b[0;34m)\u001b[0m\u001b[0;34m:\u001b[0m\u001b[0;34m\u001b[0m\u001b[0m\n",
      "\u001b[0;32m~/.pyenv/versions/3.5.3/envs/jupyter3/lib/python3.5/site-packages/tensorflow/python/training/monitored_session.py\u001b[0m in \u001b[0;36mrun\u001b[0;34m(self, *args, **kwargs)\u001b[0m\n\u001b[1;32m    950\u001b[0m   \u001b[0;32mdef\u001b[0m \u001b[0mrun\u001b[0m\u001b[0;34m(\u001b[0m\u001b[0mself\u001b[0m\u001b[0;34m,\u001b[0m \u001b[0;34m*\u001b[0m\u001b[0margs\u001b[0m\u001b[0;34m,\u001b[0m \u001b[0;34m**\u001b[0m\u001b[0mkwargs\u001b[0m\u001b[0;34m)\u001b[0m\u001b[0;34m:\u001b[0m\u001b[0;34m\u001b[0m\u001b[0m\n\u001b[1;32m    951\u001b[0m     \u001b[0;32mtry\u001b[0m\u001b[0;34m:\u001b[0m\u001b[0;34m\u001b[0m\u001b[0m\n\u001b[0;32m--> 952\u001b[0;31m       \u001b[0;32mreturn\u001b[0m \u001b[0mself\u001b[0m\u001b[0;34m.\u001b[0m\u001b[0m_sess\u001b[0m\u001b[0;34m.\u001b[0m\u001b[0mrun\u001b[0m\u001b[0;34m(\u001b[0m\u001b[0;34m*\u001b[0m\u001b[0margs\u001b[0m\u001b[0;34m,\u001b[0m \u001b[0;34m**\u001b[0m\u001b[0mkwargs\u001b[0m\u001b[0;34m)\u001b[0m\u001b[0;34m\u001b[0m\u001b[0m\n\u001b[0m\u001b[1;32m    953\u001b[0m     \u001b[0;32mexcept\u001b[0m \u001b[0m_PREEMPTION_ERRORS\u001b[0m\u001b[0;34m:\u001b[0m\u001b[0;34m\u001b[0m\u001b[0m\n\u001b[1;32m    954\u001b[0m       \u001b[0;32mraise\u001b[0m\u001b[0;34m\u001b[0m\u001b[0m\n",
      "\u001b[0;32m~/.pyenv/versions/3.5.3/envs/jupyter3/lib/python3.5/site-packages/tensorflow/python/training/monitored_session.py\u001b[0m in \u001b[0;36mrun\u001b[0;34m(self, fetches, feed_dict, options, run_metadata)\u001b[0m\n\u001b[1;32m   1022\u001b[0m                                   \u001b[0mfeed_dict\u001b[0m\u001b[0;34m=\u001b[0m\u001b[0mfeed_dict\u001b[0m\u001b[0;34m,\u001b[0m\u001b[0;34m\u001b[0m\u001b[0m\n\u001b[1;32m   1023\u001b[0m                                   \u001b[0moptions\u001b[0m\u001b[0;34m=\u001b[0m\u001b[0moptions\u001b[0m\u001b[0;34m,\u001b[0m\u001b[0;34m\u001b[0m\u001b[0m\n\u001b[0;32m-> 1024\u001b[0;31m                                   run_metadata=run_metadata)\n\u001b[0m\u001b[1;32m   1025\u001b[0m \u001b[0;34m\u001b[0m\u001b[0m\n\u001b[1;32m   1026\u001b[0m     \u001b[0;32mfor\u001b[0m \u001b[0mhook\u001b[0m \u001b[0;32min\u001b[0m \u001b[0mself\u001b[0m\u001b[0;34m.\u001b[0m\u001b[0m_hooks\u001b[0m\u001b[0;34m:\u001b[0m\u001b[0;34m\u001b[0m\u001b[0m\n",
      "\u001b[0;32m~/.pyenv/versions/3.5.3/envs/jupyter3/lib/python3.5/site-packages/tensorflow/python/training/monitored_session.py\u001b[0m in \u001b[0;36mrun\u001b[0;34m(self, *args, **kwargs)\u001b[0m\n\u001b[1;32m    825\u001b[0m \u001b[0;34m\u001b[0m\u001b[0m\n\u001b[1;32m    826\u001b[0m   \u001b[0;32mdef\u001b[0m \u001b[0mrun\u001b[0m\u001b[0;34m(\u001b[0m\u001b[0mself\u001b[0m\u001b[0;34m,\u001b[0m \u001b[0;34m*\u001b[0m\u001b[0margs\u001b[0m\u001b[0;34m,\u001b[0m \u001b[0;34m**\u001b[0m\u001b[0mkwargs\u001b[0m\u001b[0;34m)\u001b[0m\u001b[0;34m:\u001b[0m\u001b[0;34m\u001b[0m\u001b[0m\n\u001b[0;32m--> 827\u001b[0;31m     \u001b[0;32mreturn\u001b[0m \u001b[0mself\u001b[0m\u001b[0;34m.\u001b[0m\u001b[0m_sess\u001b[0m\u001b[0;34m.\u001b[0m\u001b[0mrun\u001b[0m\u001b[0;34m(\u001b[0m\u001b[0;34m*\u001b[0m\u001b[0margs\u001b[0m\u001b[0;34m,\u001b[0m \u001b[0;34m**\u001b[0m\u001b[0mkwargs\u001b[0m\u001b[0;34m)\u001b[0m\u001b[0;34m\u001b[0m\u001b[0m\n\u001b[0m\u001b[1;32m    828\u001b[0m \u001b[0;34m\u001b[0m\u001b[0m\n\u001b[1;32m    829\u001b[0m \u001b[0;34m\u001b[0m\u001b[0m\n",
      "\u001b[0;32m~/.pyenv/versions/3.5.3/envs/jupyter3/lib/python3.5/site-packages/tensorflow/python/client/session.py\u001b[0m in \u001b[0;36mrun\u001b[0;34m(self, fetches, feed_dict, options, run_metadata)\u001b[0m\n\u001b[1;32m    887\u001b[0m     \u001b[0;32mtry\u001b[0m\u001b[0;34m:\u001b[0m\u001b[0;34m\u001b[0m\u001b[0m\n\u001b[1;32m    888\u001b[0m       result = self._run(None, fetches, feed_dict, options_ptr,\n\u001b[0;32m--> 889\u001b[0;31m                          run_metadata_ptr)\n\u001b[0m\u001b[1;32m    890\u001b[0m       \u001b[0;32mif\u001b[0m \u001b[0mrun_metadata\u001b[0m\u001b[0;34m:\u001b[0m\u001b[0;34m\u001b[0m\u001b[0m\n\u001b[1;32m    891\u001b[0m         \u001b[0mproto_data\u001b[0m \u001b[0;34m=\u001b[0m \u001b[0mtf_session\u001b[0m\u001b[0;34m.\u001b[0m\u001b[0mTF_GetBuffer\u001b[0m\u001b[0;34m(\u001b[0m\u001b[0mrun_metadata_ptr\u001b[0m\u001b[0;34m)\u001b[0m\u001b[0;34m\u001b[0m\u001b[0m\n",
      "\u001b[0;32m~/.pyenv/versions/3.5.3/envs/jupyter3/lib/python3.5/site-packages/tensorflow/python/client/session.py\u001b[0m in \u001b[0;36m_run\u001b[0;34m(self, handle, fetches, feed_dict, options, run_metadata)\u001b[0m\n\u001b[1;32m   1118\u001b[0m     \u001b[0;32mif\u001b[0m \u001b[0mfinal_fetches\u001b[0m \u001b[0;32mor\u001b[0m \u001b[0mfinal_targets\u001b[0m \u001b[0;32mor\u001b[0m \u001b[0;34m(\u001b[0m\u001b[0mhandle\u001b[0m \u001b[0;32mand\u001b[0m \u001b[0mfeed_dict_tensor\u001b[0m\u001b[0;34m)\u001b[0m\u001b[0;34m:\u001b[0m\u001b[0;34m\u001b[0m\u001b[0m\n\u001b[1;32m   1119\u001b[0m       results = self._do_run(handle, final_targets, final_fetches,\n\u001b[0;32m-> 1120\u001b[0;31m                              feed_dict_tensor, options, run_metadata)\n\u001b[0m\u001b[1;32m   1121\u001b[0m     \u001b[0;32melse\u001b[0m\u001b[0;34m:\u001b[0m\u001b[0;34m\u001b[0m\u001b[0m\n\u001b[1;32m   1122\u001b[0m       \u001b[0mresults\u001b[0m \u001b[0;34m=\u001b[0m \u001b[0;34m[\u001b[0m\u001b[0;34m]\u001b[0m\u001b[0;34m\u001b[0m\u001b[0m\n",
      "\u001b[0;32m~/.pyenv/versions/3.5.3/envs/jupyter3/lib/python3.5/site-packages/tensorflow/python/client/session.py\u001b[0m in \u001b[0;36m_do_run\u001b[0;34m(self, handle, target_list, fetch_list, feed_dict, options, run_metadata)\u001b[0m\n\u001b[1;32m   1315\u001b[0m     \u001b[0;32mif\u001b[0m \u001b[0mhandle\u001b[0m \u001b[0;32mis\u001b[0m \u001b[0;32mNone\u001b[0m\u001b[0;34m:\u001b[0m\u001b[0;34m\u001b[0m\u001b[0m\n\u001b[1;32m   1316\u001b[0m       return self._do_call(_run_fn, self._session, feeds, fetches, targets,\n\u001b[0;32m-> 1317\u001b[0;31m                            options, run_metadata)\n\u001b[0m\u001b[1;32m   1318\u001b[0m     \u001b[0;32melse\u001b[0m\u001b[0;34m:\u001b[0m\u001b[0;34m\u001b[0m\u001b[0m\n\u001b[1;32m   1319\u001b[0m       \u001b[0;32mreturn\u001b[0m \u001b[0mself\u001b[0m\u001b[0;34m.\u001b[0m\u001b[0m_do_call\u001b[0m\u001b[0;34m(\u001b[0m\u001b[0m_prun_fn\u001b[0m\u001b[0;34m,\u001b[0m \u001b[0mself\u001b[0m\u001b[0;34m.\u001b[0m\u001b[0m_session\u001b[0m\u001b[0;34m,\u001b[0m \u001b[0mhandle\u001b[0m\u001b[0;34m,\u001b[0m \u001b[0mfeeds\u001b[0m\u001b[0;34m,\u001b[0m \u001b[0mfetches\u001b[0m\u001b[0;34m)\u001b[0m\u001b[0;34m\u001b[0m\u001b[0m\n",
      "\u001b[0;32m~/.pyenv/versions/3.5.3/envs/jupyter3/lib/python3.5/site-packages/tensorflow/python/client/session.py\u001b[0m in \u001b[0;36m_do_call\u001b[0;34m(self, fn, *args)\u001b[0m\n\u001b[1;32m   1321\u001b[0m   \u001b[0;32mdef\u001b[0m \u001b[0m_do_call\u001b[0m\u001b[0;34m(\u001b[0m\u001b[0mself\u001b[0m\u001b[0;34m,\u001b[0m \u001b[0mfn\u001b[0m\u001b[0;34m,\u001b[0m \u001b[0;34m*\u001b[0m\u001b[0margs\u001b[0m\u001b[0;34m)\u001b[0m\u001b[0;34m:\u001b[0m\u001b[0;34m\u001b[0m\u001b[0m\n\u001b[1;32m   1322\u001b[0m     \u001b[0;32mtry\u001b[0m\u001b[0;34m:\u001b[0m\u001b[0;34m\u001b[0m\u001b[0m\n\u001b[0;32m-> 1323\u001b[0;31m       \u001b[0;32mreturn\u001b[0m \u001b[0mfn\u001b[0m\u001b[0;34m(\u001b[0m\u001b[0;34m*\u001b[0m\u001b[0margs\u001b[0m\u001b[0;34m)\u001b[0m\u001b[0;34m\u001b[0m\u001b[0m\n\u001b[0m\u001b[1;32m   1324\u001b[0m     \u001b[0;32mexcept\u001b[0m \u001b[0merrors\u001b[0m\u001b[0;34m.\u001b[0m\u001b[0mOpError\u001b[0m \u001b[0;32mas\u001b[0m \u001b[0me\u001b[0m\u001b[0;34m:\u001b[0m\u001b[0;34m\u001b[0m\u001b[0m\n\u001b[1;32m   1325\u001b[0m       \u001b[0mmessage\u001b[0m \u001b[0;34m=\u001b[0m \u001b[0mcompat\u001b[0m\u001b[0;34m.\u001b[0m\u001b[0mas_text\u001b[0m\u001b[0;34m(\u001b[0m\u001b[0me\u001b[0m\u001b[0;34m.\u001b[0m\u001b[0mmessage\u001b[0m\u001b[0;34m)\u001b[0m\u001b[0;34m\u001b[0m\u001b[0m\n",
      "\u001b[0;32m~/.pyenv/versions/3.5.3/envs/jupyter3/lib/python3.5/site-packages/tensorflow/python/client/session.py\u001b[0m in \u001b[0;36m_run_fn\u001b[0;34m(session, feed_dict, fetch_list, target_list, options, run_metadata)\u001b[0m\n\u001b[1;32m   1300\u001b[0m           return tf_session.TF_Run(session, options,\n\u001b[1;32m   1301\u001b[0m                                    \u001b[0mfeed_dict\u001b[0m\u001b[0;34m,\u001b[0m \u001b[0mfetch_list\u001b[0m\u001b[0;34m,\u001b[0m \u001b[0mtarget_list\u001b[0m\u001b[0;34m,\u001b[0m\u001b[0;34m\u001b[0m\u001b[0m\n\u001b[0;32m-> 1302\u001b[0;31m                                    status, run_metadata)\n\u001b[0m\u001b[1;32m   1303\u001b[0m \u001b[0;34m\u001b[0m\u001b[0m\n\u001b[1;32m   1304\u001b[0m     \u001b[0;32mdef\u001b[0m \u001b[0m_prun_fn\u001b[0m\u001b[0;34m(\u001b[0m\u001b[0msession\u001b[0m\u001b[0;34m,\u001b[0m \u001b[0mhandle\u001b[0m\u001b[0;34m,\u001b[0m \u001b[0mfeed_dict\u001b[0m\u001b[0;34m,\u001b[0m \u001b[0mfetch_list\u001b[0m\u001b[0;34m)\u001b[0m\u001b[0;34m:\u001b[0m\u001b[0;34m\u001b[0m\u001b[0m\n",
      "\u001b[0;31mKeyboardInterrupt\u001b[0m: "
     ]
    }
   ],
   "source": [
    "%matplotlib notebook\n",
    "steps=12e6\n",
    "env._plot = env._plot2 = env._plot3 = None\n",
    "episodes = int(steps / 30)\n",
    "runner.run(\n",
    "    timesteps=steps,\n",
    "    episode_finished=EpisodeFinishedTQDM(\n",
    "        log_intv=1000,\n",
    "        steps=steps,\n",
    "        mean_of=1000,\n",
    "        log_dir=log_dir,\n",
    "        session=runner.agent.model.session,\n",
    "    )\n",
    ")"
   ]
  },
  {
   "cell_type": "code",
   "execution_count": null,
   "metadata": {
    "ExecuteTime": {
     "end_time": "2018-02-18T03:16:32.900463Z",
     "start_time": "2018-02-18T03:16:32.860502Z"
    }
   },
   "outputs": [],
   "source": []
  },
  {
   "cell_type": "markdown",
   "metadata": {
    "ExecuteTime": {
     "end_time": "2017-11-12T06:07:24.082729Z",
     "start_time": "2017-11-12T06:07:24.038681Z"
    },
    "collapsed": true
   },
   "source": [
    "# History"
   ]
  },
  {
   "cell_type": "code",
   "execution_count": 24,
   "metadata": {
    "ExecuteTime": {
     "end_time": "2018-02-18T03:45:56.528419Z",
     "start_time": "2018-02-18T03:45:56.027827Z"
    }
   },
   "outputs": [
    {
     "data": {
      "application/vnd.jupyter.widget-view+json": {
       "model_id": "c0c5628c14584fad938cf4b7d4bf22c6",
       "version_major": 2,
       "version_minor": 0
      },
      "text/html": [
       "<p>Failed to display Jupyter Widget of type <code>HBox</code>.</p>\n",
       "<p>\n",
       "  If you're reading this message in the Jupyter Notebook or JupyterLab Notebook, it may mean\n",
       "  that the widgets JavaScript is still loading. If this message persists, it\n",
       "  likely means that the widgets JavaScript library is either not installed or\n",
       "  not enabled. See the <a href=\"https://ipywidgets.readthedocs.io/en/stable/user_install.html\">Jupyter\n",
       "  Widgets Documentation</a> for setup instructions.\n",
       "</p>\n",
       "<p>\n",
       "  If you're reading this message in another frontend (for example, a static\n",
       "  rendering on GitHub or <a href=\"https://nbviewer.jupyter.org/\">NBViewer</a>),\n",
       "  it may mean that your frontend doesn't currently support widgets.\n",
       "</p>\n"
      ],
      "text/plain": [
       "HBox(children=(IntProgress(value=1, bar_style='info', max=1), HTML(value='')))"
      ]
     },
     "metadata": {},
     "output_type": "display_data"
    },
    {
     "data": {
      "application/vnd.jupyter.widget-view+json": {
       "model_id": "640e58923dc446ef9b64282fa13c1535",
       "version_major": 2,
       "version_minor": 0
      },
      "text/html": [
       "<p>Failed to display Jupyter Widget of type <code>HBox</code>.</p>\n",
       "<p>\n",
       "  If you're reading this message in the Jupyter Notebook or JupyterLab Notebook, it may mean\n",
       "  that the widgets JavaScript is still loading. If this message persists, it\n",
       "  likely means that the widgets JavaScript library is either not installed or\n",
       "  not enabled. See the <a href=\"https://ipywidgets.readthedocs.io/en/stable/user_install.html\">Jupyter\n",
       "  Widgets Documentation</a> for setup instructions.\n",
       "</p>\n",
       "<p>\n",
       "  If you're reading this message in another frontend (for example, a static\n",
       "  rendering on GitHub or <a href=\"https://nbviewer.jupyter.org/\">NBViewer</a>),\n",
       "  it may mean that your frontend doesn't currently support widgets.\n",
       "</p>\n"
      ],
      "text/plain": [
       "HBox(children=(IntProgress(value=1, bar_style='info', max=1), HTML(value='')))"
      ]
     },
     "metadata": {},
     "output_type": "display_data"
    },
    {
     "data": {
      "application/vnd.jupyter.widget-view+json": {
       "model_id": "5e02f23c58e8404aa5818c6e38a6cd13",
       "version_major": 2,
       "version_minor": 0
      },
      "text/html": [
       "<p>Failed to display Jupyter Widget of type <code>HBox</code>.</p>\n",
       "<p>\n",
       "  If you're reading this message in the Jupyter Notebook or JupyterLab Notebook, it may mean\n",
       "  that the widgets JavaScript is still loading. If this message persists, it\n",
       "  likely means that the widgets JavaScript library is either not installed or\n",
       "  not enabled. See the <a href=\"https://ipywidgets.readthedocs.io/en/stable/user_install.html\">Jupyter\n",
       "  Widgets Documentation</a> for setup instructions.\n",
       "</p>\n",
       "<p>\n",
       "  If you're reading this message in another frontend (for example, a static\n",
       "  rendering on GitHub or <a href=\"https://nbviewer.jupyter.org/\">NBViewer</a>),\n",
       "  it may mean that your frontend doesn't currently support widgets.\n",
       "</p>\n"
      ],
      "text/plain": [
       "HBox(children=(IntProgress(value=1, bar_style='info', max=1), HTML(value='')))"
      ]
     },
     "metadata": {},
     "output_type": "display_data"
    },
    {
     "name": "stdout",
     "output_type": "stream",
     "text": [
      "data ended early <class 'tensorflow.python.framework.errors_impl.DataLossError'>\n"
     ]
    }
   ],
   "source": [
    "# read tensorboard history, might be slow\n",
    "import collections\n",
    "import glob\n",
    "from tensorflow.python.summary import summary_iterator\n",
    "event_paths = glob.glob(os.path.join(log_dir, \"event*\"))\n",
    "data = collections.defaultdict(dict)\n",
    "for file in event_paths:\n",
    "    event_reader = summary_iterator.summary_iterator(file)\n",
    "    try:\n",
    "        for event in tqdm(event_reader):\n",
    "            try:\n",
    "                step=event.step\n",
    "                name=event.summary.value[0].tag\n",
    "                val=event.summary.value[0].simple_value\n",
    "                data[step][name]=val\n",
    "            except:\n",
    "                pass\n",
    "    except tf.errors.DataLossError as e:\n",
    "        print('data ended early', tf.errors.DataLossError)\n",
    "        \n",
    "        "
   ]
  },
  {
   "cell_type": "code",
   "execution_count": null,
   "metadata": {
    "ExecuteTime": {
     "end_time": "2017-11-12T06:06:52.676576Z",
     "start_time": "2017-11-12T06:06:52.632828Z"
    }
   },
   "outputs": [],
   "source": []
  },
  {
   "cell_type": "code",
   "execution_count": 25,
   "metadata": {
    "ExecuteTime": {
     "end_time": "2018-02-18T03:46:02.702738Z",
     "start_time": "2018-02-18T03:46:02.423448Z"
    }
   },
   "outputs": [
    {
     "data": {
      "application/javascript": [
       "/* Put everything inside the global mpl namespace */\n",
       "window.mpl = {};\n",
       "\n",
       "\n",
       "mpl.get_websocket_type = function() {\n",
       "    if (typeof(WebSocket) !== 'undefined') {\n",
       "        return WebSocket;\n",
       "    } else if (typeof(MozWebSocket) !== 'undefined') {\n",
       "        return MozWebSocket;\n",
       "    } else {\n",
       "        alert('Your browser does not have WebSocket support.' +\n",
       "              'Please try Chrome, Safari or Firefox ≥ 6. ' +\n",
       "              'Firefox 4 and 5 are also supported but you ' +\n",
       "              'have to enable WebSockets in about:config.');\n",
       "    };\n",
       "}\n",
       "\n",
       "mpl.figure = function(figure_id, websocket, ondownload, parent_element) {\n",
       "    this.id = figure_id;\n",
       "\n",
       "    this.ws = websocket;\n",
       "\n",
       "    this.supports_binary = (this.ws.binaryType != undefined);\n",
       "\n",
       "    if (!this.supports_binary) {\n",
       "        var warnings = document.getElementById(\"mpl-warnings\");\n",
       "        if (warnings) {\n",
       "            warnings.style.display = 'block';\n",
       "            warnings.textContent = (\n",
       "                \"This browser does not support binary websocket messages. \" +\n",
       "                    \"Performance may be slow.\");\n",
       "        }\n",
       "    }\n",
       "\n",
       "    this.imageObj = new Image();\n",
       "\n",
       "    this.context = undefined;\n",
       "    this.message = undefined;\n",
       "    this.canvas = undefined;\n",
       "    this.rubberband_canvas = undefined;\n",
       "    this.rubberband_context = undefined;\n",
       "    this.format_dropdown = undefined;\n",
       "\n",
       "    this.image_mode = 'full';\n",
       "\n",
       "    this.root = $('<div/>');\n",
       "    this._root_extra_style(this.root)\n",
       "    this.root.attr('style', 'display: inline-block');\n",
       "\n",
       "    $(parent_element).append(this.root);\n",
       "\n",
       "    this._init_header(this);\n",
       "    this._init_canvas(this);\n",
       "    this._init_toolbar(this);\n",
       "\n",
       "    var fig = this;\n",
       "\n",
       "    this.waiting = false;\n",
       "\n",
       "    this.ws.onopen =  function () {\n",
       "            fig.send_message(\"supports_binary\", {value: fig.supports_binary});\n",
       "            fig.send_message(\"send_image_mode\", {});\n",
       "            if (mpl.ratio != 1) {\n",
       "                fig.send_message(\"set_dpi_ratio\", {'dpi_ratio': mpl.ratio});\n",
       "            }\n",
       "            fig.send_message(\"refresh\", {});\n",
       "        }\n",
       "\n",
       "    this.imageObj.onload = function() {\n",
       "            if (fig.image_mode == 'full') {\n",
       "                // Full images could contain transparency (where diff images\n",
       "                // almost always do), so we need to clear the canvas so that\n",
       "                // there is no ghosting.\n",
       "                fig.context.clearRect(0, 0, fig.canvas.width, fig.canvas.height);\n",
       "            }\n",
       "            fig.context.drawImage(fig.imageObj, 0, 0);\n",
       "        };\n",
       "\n",
       "    this.imageObj.onunload = function() {\n",
       "        fig.ws.close();\n",
       "    }\n",
       "\n",
       "    this.ws.onmessage = this._make_on_message_function(this);\n",
       "\n",
       "    this.ondownload = ondownload;\n",
       "}\n",
       "\n",
       "mpl.figure.prototype._init_header = function() {\n",
       "    var titlebar = $(\n",
       "        '<div class=\"ui-dialog-titlebar ui-widget-header ui-corner-all ' +\n",
       "        'ui-helper-clearfix\"/>');\n",
       "    var titletext = $(\n",
       "        '<div class=\"ui-dialog-title\" style=\"width: 100%; ' +\n",
       "        'text-align: center; padding: 3px;\"/>');\n",
       "    titlebar.append(titletext)\n",
       "    this.root.append(titlebar);\n",
       "    this.header = titletext[0];\n",
       "}\n",
       "\n",
       "\n",
       "\n",
       "mpl.figure.prototype._canvas_extra_style = function(canvas_div) {\n",
       "\n",
       "}\n",
       "\n",
       "\n",
       "mpl.figure.prototype._root_extra_style = function(canvas_div) {\n",
       "\n",
       "}\n",
       "\n",
       "mpl.figure.prototype._init_canvas = function() {\n",
       "    var fig = this;\n",
       "\n",
       "    var canvas_div = $('<div/>');\n",
       "\n",
       "    canvas_div.attr('style', 'position: relative; clear: both; outline: 0');\n",
       "\n",
       "    function canvas_keyboard_event(event) {\n",
       "        return fig.key_event(event, event['data']);\n",
       "    }\n",
       "\n",
       "    canvas_div.keydown('key_press', canvas_keyboard_event);\n",
       "    canvas_div.keyup('key_release', canvas_keyboard_event);\n",
       "    this.canvas_div = canvas_div\n",
       "    this._canvas_extra_style(canvas_div)\n",
       "    this.root.append(canvas_div);\n",
       "\n",
       "    var canvas = $('<canvas/>');\n",
       "    canvas.addClass('mpl-canvas');\n",
       "    canvas.attr('style', \"left: 0; top: 0; z-index: 0; outline: 0\")\n",
       "\n",
       "    this.canvas = canvas[0];\n",
       "    this.context = canvas[0].getContext(\"2d\");\n",
       "\n",
       "    var backingStore = this.context.backingStorePixelRatio ||\n",
       "\tthis.context.webkitBackingStorePixelRatio ||\n",
       "\tthis.context.mozBackingStorePixelRatio ||\n",
       "\tthis.context.msBackingStorePixelRatio ||\n",
       "\tthis.context.oBackingStorePixelRatio ||\n",
       "\tthis.context.backingStorePixelRatio || 1;\n",
       "\n",
       "    mpl.ratio = (window.devicePixelRatio || 1) / backingStore;\n",
       "\n",
       "    var rubberband = $('<canvas/>');\n",
       "    rubberband.attr('style', \"position: absolute; left: 0; top: 0; z-index: 1;\")\n",
       "\n",
       "    var pass_mouse_events = true;\n",
       "\n",
       "    canvas_div.resizable({\n",
       "        start: function(event, ui) {\n",
       "            pass_mouse_events = false;\n",
       "        },\n",
       "        resize: function(event, ui) {\n",
       "            fig.request_resize(ui.size.width, ui.size.height);\n",
       "        },\n",
       "        stop: function(event, ui) {\n",
       "            pass_mouse_events = true;\n",
       "            fig.request_resize(ui.size.width, ui.size.height);\n",
       "        },\n",
       "    });\n",
       "\n",
       "    function mouse_event_fn(event) {\n",
       "        if (pass_mouse_events)\n",
       "            return fig.mouse_event(event, event['data']);\n",
       "    }\n",
       "\n",
       "    rubberband.mousedown('button_press', mouse_event_fn);\n",
       "    rubberband.mouseup('button_release', mouse_event_fn);\n",
       "    // Throttle sequential mouse events to 1 every 20ms.\n",
       "    rubberband.mousemove('motion_notify', mouse_event_fn);\n",
       "\n",
       "    rubberband.mouseenter('figure_enter', mouse_event_fn);\n",
       "    rubberband.mouseleave('figure_leave', mouse_event_fn);\n",
       "\n",
       "    canvas_div.on(\"wheel\", function (event) {\n",
       "        event = event.originalEvent;\n",
       "        event['data'] = 'scroll'\n",
       "        if (event.deltaY < 0) {\n",
       "            event.step = 1;\n",
       "        } else {\n",
       "            event.step = -1;\n",
       "        }\n",
       "        mouse_event_fn(event);\n",
       "    });\n",
       "\n",
       "    canvas_div.append(canvas);\n",
       "    canvas_div.append(rubberband);\n",
       "\n",
       "    this.rubberband = rubberband;\n",
       "    this.rubberband_canvas = rubberband[0];\n",
       "    this.rubberband_context = rubberband[0].getContext(\"2d\");\n",
       "    this.rubberband_context.strokeStyle = \"#000000\";\n",
       "\n",
       "    this._resize_canvas = function(width, height) {\n",
       "        // Keep the size of the canvas, canvas container, and rubber band\n",
       "        // canvas in synch.\n",
       "        canvas_div.css('width', width)\n",
       "        canvas_div.css('height', height)\n",
       "\n",
       "        canvas.attr('width', width * mpl.ratio);\n",
       "        canvas.attr('height', height * mpl.ratio);\n",
       "        canvas.attr('style', 'width: ' + width + 'px; height: ' + height + 'px;');\n",
       "\n",
       "        rubberband.attr('width', width);\n",
       "        rubberband.attr('height', height);\n",
       "    }\n",
       "\n",
       "    // Set the figure to an initial 600x600px, this will subsequently be updated\n",
       "    // upon first draw.\n",
       "    this._resize_canvas(600, 600);\n",
       "\n",
       "    // Disable right mouse context menu.\n",
       "    $(this.rubberband_canvas).bind(\"contextmenu\",function(e){\n",
       "        return false;\n",
       "    });\n",
       "\n",
       "    function set_focus () {\n",
       "        canvas.focus();\n",
       "        canvas_div.focus();\n",
       "    }\n",
       "\n",
       "    window.setTimeout(set_focus, 100);\n",
       "}\n",
       "\n",
       "mpl.figure.prototype._init_toolbar = function() {\n",
       "    var fig = this;\n",
       "\n",
       "    var nav_element = $('<div/>')\n",
       "    nav_element.attr('style', 'width: 100%');\n",
       "    this.root.append(nav_element);\n",
       "\n",
       "    // Define a callback function for later on.\n",
       "    function toolbar_event(event) {\n",
       "        return fig.toolbar_button_onclick(event['data']);\n",
       "    }\n",
       "    function toolbar_mouse_event(event) {\n",
       "        return fig.toolbar_button_onmouseover(event['data']);\n",
       "    }\n",
       "\n",
       "    for(var toolbar_ind in mpl.toolbar_items) {\n",
       "        var name = mpl.toolbar_items[toolbar_ind][0];\n",
       "        var tooltip = mpl.toolbar_items[toolbar_ind][1];\n",
       "        var image = mpl.toolbar_items[toolbar_ind][2];\n",
       "        var method_name = mpl.toolbar_items[toolbar_ind][3];\n",
       "\n",
       "        if (!name) {\n",
       "            // put a spacer in here.\n",
       "            continue;\n",
       "        }\n",
       "        var button = $('<button/>');\n",
       "        button.addClass('ui-button ui-widget ui-state-default ui-corner-all ' +\n",
       "                        'ui-button-icon-only');\n",
       "        button.attr('role', 'button');\n",
       "        button.attr('aria-disabled', 'false');\n",
       "        button.click(method_name, toolbar_event);\n",
       "        button.mouseover(tooltip, toolbar_mouse_event);\n",
       "\n",
       "        var icon_img = $('<span/>');\n",
       "        icon_img.addClass('ui-button-icon-primary ui-icon');\n",
       "        icon_img.addClass(image);\n",
       "        icon_img.addClass('ui-corner-all');\n",
       "\n",
       "        var tooltip_span = $('<span/>');\n",
       "        tooltip_span.addClass('ui-button-text');\n",
       "        tooltip_span.html(tooltip);\n",
       "\n",
       "        button.append(icon_img);\n",
       "        button.append(tooltip_span);\n",
       "\n",
       "        nav_element.append(button);\n",
       "    }\n",
       "\n",
       "    var fmt_picker_span = $('<span/>');\n",
       "\n",
       "    var fmt_picker = $('<select/>');\n",
       "    fmt_picker.addClass('mpl-toolbar-option ui-widget ui-widget-content');\n",
       "    fmt_picker_span.append(fmt_picker);\n",
       "    nav_element.append(fmt_picker_span);\n",
       "    this.format_dropdown = fmt_picker[0];\n",
       "\n",
       "    for (var ind in mpl.extensions) {\n",
       "        var fmt = mpl.extensions[ind];\n",
       "        var option = $(\n",
       "            '<option/>', {selected: fmt === mpl.default_extension}).html(fmt);\n",
       "        fmt_picker.append(option)\n",
       "    }\n",
       "\n",
       "    // Add hover states to the ui-buttons\n",
       "    $( \".ui-button\" ).hover(\n",
       "        function() { $(this).addClass(\"ui-state-hover\");},\n",
       "        function() { $(this).removeClass(\"ui-state-hover\");}\n",
       "    );\n",
       "\n",
       "    var status_bar = $('<span class=\"mpl-message\"/>');\n",
       "    nav_element.append(status_bar);\n",
       "    this.message = status_bar[0];\n",
       "}\n",
       "\n",
       "mpl.figure.prototype.request_resize = function(x_pixels, y_pixels) {\n",
       "    // Request matplotlib to resize the figure. Matplotlib will then trigger a resize in the client,\n",
       "    // which will in turn request a refresh of the image.\n",
       "    this.send_message('resize', {'width': x_pixels, 'height': y_pixels});\n",
       "}\n",
       "\n",
       "mpl.figure.prototype.send_message = function(type, properties) {\n",
       "    properties['type'] = type;\n",
       "    properties['figure_id'] = this.id;\n",
       "    this.ws.send(JSON.stringify(properties));\n",
       "}\n",
       "\n",
       "mpl.figure.prototype.send_draw_message = function() {\n",
       "    if (!this.waiting) {\n",
       "        this.waiting = true;\n",
       "        this.ws.send(JSON.stringify({type: \"draw\", figure_id: this.id}));\n",
       "    }\n",
       "}\n",
       "\n",
       "\n",
       "mpl.figure.prototype.handle_save = function(fig, msg) {\n",
       "    var format_dropdown = fig.format_dropdown;\n",
       "    var format = format_dropdown.options[format_dropdown.selectedIndex].value;\n",
       "    fig.ondownload(fig, format);\n",
       "}\n",
       "\n",
       "\n",
       "mpl.figure.prototype.handle_resize = function(fig, msg) {\n",
       "    var size = msg['size'];\n",
       "    if (size[0] != fig.canvas.width || size[1] != fig.canvas.height) {\n",
       "        fig._resize_canvas(size[0], size[1]);\n",
       "        fig.send_message(\"refresh\", {});\n",
       "    };\n",
       "}\n",
       "\n",
       "mpl.figure.prototype.handle_rubberband = function(fig, msg) {\n",
       "    var x0 = msg['x0'] / mpl.ratio;\n",
       "    var y0 = (fig.canvas.height - msg['y0']) / mpl.ratio;\n",
       "    var x1 = msg['x1'] / mpl.ratio;\n",
       "    var y1 = (fig.canvas.height - msg['y1']) / mpl.ratio;\n",
       "    x0 = Math.floor(x0) + 0.5;\n",
       "    y0 = Math.floor(y0) + 0.5;\n",
       "    x1 = Math.floor(x1) + 0.5;\n",
       "    y1 = Math.floor(y1) + 0.5;\n",
       "    var min_x = Math.min(x0, x1);\n",
       "    var min_y = Math.min(y0, y1);\n",
       "    var width = Math.abs(x1 - x0);\n",
       "    var height = Math.abs(y1 - y0);\n",
       "\n",
       "    fig.rubberband_context.clearRect(\n",
       "        0, 0, fig.canvas.width, fig.canvas.height);\n",
       "\n",
       "    fig.rubberband_context.strokeRect(min_x, min_y, width, height);\n",
       "}\n",
       "\n",
       "mpl.figure.prototype.handle_figure_label = function(fig, msg) {\n",
       "    // Updates the figure title.\n",
       "    fig.header.textContent = msg['label'];\n",
       "}\n",
       "\n",
       "mpl.figure.prototype.handle_cursor = function(fig, msg) {\n",
       "    var cursor = msg['cursor'];\n",
       "    switch(cursor)\n",
       "    {\n",
       "    case 0:\n",
       "        cursor = 'pointer';\n",
       "        break;\n",
       "    case 1:\n",
       "        cursor = 'default';\n",
       "        break;\n",
       "    case 2:\n",
       "        cursor = 'crosshair';\n",
       "        break;\n",
       "    case 3:\n",
       "        cursor = 'move';\n",
       "        break;\n",
       "    }\n",
       "    fig.rubberband_canvas.style.cursor = cursor;\n",
       "}\n",
       "\n",
       "mpl.figure.prototype.handle_message = function(fig, msg) {\n",
       "    fig.message.textContent = msg['message'];\n",
       "}\n",
       "\n",
       "mpl.figure.prototype.handle_draw = function(fig, msg) {\n",
       "    // Request the server to send over a new figure.\n",
       "    fig.send_draw_message();\n",
       "}\n",
       "\n",
       "mpl.figure.prototype.handle_image_mode = function(fig, msg) {\n",
       "    fig.image_mode = msg['mode'];\n",
       "}\n",
       "\n",
       "mpl.figure.prototype.updated_canvas_event = function() {\n",
       "    // Called whenever the canvas gets updated.\n",
       "    this.send_message(\"ack\", {});\n",
       "}\n",
       "\n",
       "// A function to construct a web socket function for onmessage handling.\n",
       "// Called in the figure constructor.\n",
       "mpl.figure.prototype._make_on_message_function = function(fig) {\n",
       "    return function socket_on_message(evt) {\n",
       "        if (evt.data instanceof Blob) {\n",
       "            /* FIXME: We get \"Resource interpreted as Image but\n",
       "             * transferred with MIME type text/plain:\" errors on\n",
       "             * Chrome.  But how to set the MIME type?  It doesn't seem\n",
       "             * to be part of the websocket stream */\n",
       "            evt.data.type = \"image/png\";\n",
       "\n",
       "            /* Free the memory for the previous frames */\n",
       "            if (fig.imageObj.src) {\n",
       "                (window.URL || window.webkitURL).revokeObjectURL(\n",
       "                    fig.imageObj.src);\n",
       "            }\n",
       "\n",
       "            fig.imageObj.src = (window.URL || window.webkitURL).createObjectURL(\n",
       "                evt.data);\n",
       "            fig.updated_canvas_event();\n",
       "            fig.waiting = false;\n",
       "            return;\n",
       "        }\n",
       "        else if (typeof evt.data === 'string' && evt.data.slice(0, 21) == \"data:image/png;base64\") {\n",
       "            fig.imageObj.src = evt.data;\n",
       "            fig.updated_canvas_event();\n",
       "            fig.waiting = false;\n",
       "            return;\n",
       "        }\n",
       "\n",
       "        var msg = JSON.parse(evt.data);\n",
       "        var msg_type = msg['type'];\n",
       "\n",
       "        // Call the  \"handle_{type}\" callback, which takes\n",
       "        // the figure and JSON message as its only arguments.\n",
       "        try {\n",
       "            var callback = fig[\"handle_\" + msg_type];\n",
       "        } catch (e) {\n",
       "            console.log(\"No handler for the '\" + msg_type + \"' message type: \", msg);\n",
       "            return;\n",
       "        }\n",
       "\n",
       "        if (callback) {\n",
       "            try {\n",
       "                // console.log(\"Handling '\" + msg_type + \"' message: \", msg);\n",
       "                callback(fig, msg);\n",
       "            } catch (e) {\n",
       "                console.log(\"Exception inside the 'handler_\" + msg_type + \"' callback:\", e, e.stack, msg);\n",
       "            }\n",
       "        }\n",
       "    };\n",
       "}\n",
       "\n",
       "// from http://stackoverflow.com/questions/1114465/getting-mouse-location-in-canvas\n",
       "mpl.findpos = function(e) {\n",
       "    //this section is from http://www.quirksmode.org/js/events_properties.html\n",
       "    var targ;\n",
       "    if (!e)\n",
       "        e = window.event;\n",
       "    if (e.target)\n",
       "        targ = e.target;\n",
       "    else if (e.srcElement)\n",
       "        targ = e.srcElement;\n",
       "    if (targ.nodeType == 3) // defeat Safari bug\n",
       "        targ = targ.parentNode;\n",
       "\n",
       "    // jQuery normalizes the pageX and pageY\n",
       "    // pageX,Y are the mouse positions relative to the document\n",
       "    // offset() returns the position of the element relative to the document\n",
       "    var x = e.pageX - $(targ).offset().left;\n",
       "    var y = e.pageY - $(targ).offset().top;\n",
       "\n",
       "    return {\"x\": x, \"y\": y};\n",
       "};\n",
       "\n",
       "/*\n",
       " * return a copy of an object with only non-object keys\n",
       " * we need this to avoid circular references\n",
       " * http://stackoverflow.com/a/24161582/3208463\n",
       " */\n",
       "function simpleKeys (original) {\n",
       "  return Object.keys(original).reduce(function (obj, key) {\n",
       "    if (typeof original[key] !== 'object')\n",
       "        obj[key] = original[key]\n",
       "    return obj;\n",
       "  }, {});\n",
       "}\n",
       "\n",
       "mpl.figure.prototype.mouse_event = function(event, name) {\n",
       "    var canvas_pos = mpl.findpos(event)\n",
       "\n",
       "    if (name === 'button_press')\n",
       "    {\n",
       "        this.canvas.focus();\n",
       "        this.canvas_div.focus();\n",
       "    }\n",
       "\n",
       "    var x = canvas_pos.x * mpl.ratio;\n",
       "    var y = canvas_pos.y * mpl.ratio;\n",
       "\n",
       "    this.send_message(name, {x: x, y: y, button: event.button,\n",
       "                             step: event.step,\n",
       "                             guiEvent: simpleKeys(event)});\n",
       "\n",
       "    /* This prevents the web browser from automatically changing to\n",
       "     * the text insertion cursor when the button is pressed.  We want\n",
       "     * to control all of the cursor setting manually through the\n",
       "     * 'cursor' event from matplotlib */\n",
       "    event.preventDefault();\n",
       "    return false;\n",
       "}\n",
       "\n",
       "mpl.figure.prototype._key_event_extra = function(event, name) {\n",
       "    // Handle any extra behaviour associated with a key event\n",
       "}\n",
       "\n",
       "mpl.figure.prototype.key_event = function(event, name) {\n",
       "\n",
       "    // Prevent repeat events\n",
       "    if (name == 'key_press')\n",
       "    {\n",
       "        if (event.which === this._key)\n",
       "            return;\n",
       "        else\n",
       "            this._key = event.which;\n",
       "    }\n",
       "    if (name == 'key_release')\n",
       "        this._key = null;\n",
       "\n",
       "    var value = '';\n",
       "    if (event.ctrlKey && event.which != 17)\n",
       "        value += \"ctrl+\";\n",
       "    if (event.altKey && event.which != 18)\n",
       "        value += \"alt+\";\n",
       "    if (event.shiftKey && event.which != 16)\n",
       "        value += \"shift+\";\n",
       "\n",
       "    value += 'k';\n",
       "    value += event.which.toString();\n",
       "\n",
       "    this._key_event_extra(event, name);\n",
       "\n",
       "    this.send_message(name, {key: value,\n",
       "                             guiEvent: simpleKeys(event)});\n",
       "    return false;\n",
       "}\n",
       "\n",
       "mpl.figure.prototype.toolbar_button_onclick = function(name) {\n",
       "    if (name == 'download') {\n",
       "        this.handle_save(this, null);\n",
       "    } else {\n",
       "        this.send_message(\"toolbar_button\", {name: name});\n",
       "    }\n",
       "};\n",
       "\n",
       "mpl.figure.prototype.toolbar_button_onmouseover = function(tooltip) {\n",
       "    this.message.textContent = tooltip;\n",
       "};\n",
       "mpl.toolbar_items = [[\"Home\", \"Reset original view\", \"fa fa-home icon-home\", \"home\"], [\"Back\", \"Back to  previous view\", \"fa fa-arrow-left icon-arrow-left\", \"back\"], [\"Forward\", \"Forward to next view\", \"fa fa-arrow-right icon-arrow-right\", \"forward\"], [\"\", \"\", \"\", \"\"], [\"Pan\", \"Pan axes with left mouse, zoom with right\", \"fa fa-arrows icon-move\", \"pan\"], [\"Zoom\", \"Zoom to rectangle\", \"fa fa-square-o icon-check-empty\", \"zoom\"], [\"\", \"\", \"\", \"\"], [\"Download\", \"Download plot\", \"fa fa-floppy-o icon-save\", \"download\"]];\n",
       "\n",
       "mpl.extensions = [\"eps\", \"jpeg\", \"pdf\", \"png\", \"ps\", \"raw\", \"svg\", \"tif\"];\n",
       "\n",
       "mpl.default_extension = \"png\";var comm_websocket_adapter = function(comm) {\n",
       "    // Create a \"websocket\"-like object which calls the given IPython comm\n",
       "    // object with the appropriate methods. Currently this is a non binary\n",
       "    // socket, so there is still some room for performance tuning.\n",
       "    var ws = {};\n",
       "\n",
       "    ws.close = function() {\n",
       "        comm.close()\n",
       "    };\n",
       "    ws.send = function(m) {\n",
       "        //console.log('sending', m);\n",
       "        comm.send(m);\n",
       "    };\n",
       "    // Register the callback with on_msg.\n",
       "    comm.on_msg(function(msg) {\n",
       "        //console.log('receiving', msg['content']['data'], msg);\n",
       "        // Pass the mpl event to the overriden (by mpl) onmessage function.\n",
       "        ws.onmessage(msg['content']['data'])\n",
       "    });\n",
       "    return ws;\n",
       "}\n",
       "\n",
       "mpl.mpl_figure_comm = function(comm, msg) {\n",
       "    // This is the function which gets called when the mpl process\n",
       "    // starts-up an IPython Comm through the \"matplotlib\" channel.\n",
       "\n",
       "    var id = msg.content.data.id;\n",
       "    // Get hold of the div created by the display call when the Comm\n",
       "    // socket was opened in Python.\n",
       "    var element = $(\"#\" + id);\n",
       "    var ws_proxy = comm_websocket_adapter(comm)\n",
       "\n",
       "    function ondownload(figure, format) {\n",
       "        window.open(figure.imageObj.src);\n",
       "    }\n",
       "\n",
       "    var fig = new mpl.figure(id, ws_proxy,\n",
       "                           ondownload,\n",
       "                           element.get(0));\n",
       "\n",
       "    // Call onopen now - mpl needs it, as it is assuming we've passed it a real\n",
       "    // web socket which is closed, not our websocket->open comm proxy.\n",
       "    ws_proxy.onopen();\n",
       "\n",
       "    fig.parent_element = element.get(0);\n",
       "    fig.cell_info = mpl.find_output_cell(\"<div id='\" + id + \"'></div>\");\n",
       "    if (!fig.cell_info) {\n",
       "        console.error(\"Failed to find cell for figure\", id, fig);\n",
       "        return;\n",
       "    }\n",
       "\n",
       "    var output_index = fig.cell_info[2]\n",
       "    var cell = fig.cell_info[0];\n",
       "\n",
       "};\n",
       "\n",
       "mpl.figure.prototype.handle_close = function(fig, msg) {\n",
       "    var width = fig.canvas.width/mpl.ratio\n",
       "    fig.root.unbind('remove')\n",
       "\n",
       "    // Update the output cell to use the data from the current canvas.\n",
       "    fig.push_to_output();\n",
       "    var dataURL = fig.canvas.toDataURL();\n",
       "    // Re-enable the keyboard manager in IPython - without this line, in FF,\n",
       "    // the notebook keyboard shortcuts fail.\n",
       "    IPython.keyboard_manager.enable()\n",
       "    $(fig.parent_element).html('<img src=\"' + dataURL + '\" width=\"' + width + '\">');\n",
       "    fig.close_ws(fig, msg);\n",
       "}\n",
       "\n",
       "mpl.figure.prototype.close_ws = function(fig, msg){\n",
       "    fig.send_message('closing', msg);\n",
       "    // fig.ws.close()\n",
       "}\n",
       "\n",
       "mpl.figure.prototype.push_to_output = function(remove_interactive) {\n",
       "    // Turn the data on the canvas into data in the output cell.\n",
       "    var width = this.canvas.width/mpl.ratio\n",
       "    var dataURL = this.canvas.toDataURL();\n",
       "    this.cell_info[1]['text/html'] = '<img src=\"' + dataURL + '\" width=\"' + width + '\">';\n",
       "}\n",
       "\n",
       "mpl.figure.prototype.updated_canvas_event = function() {\n",
       "    // Tell IPython that the notebook contents must change.\n",
       "    IPython.notebook.set_dirty(true);\n",
       "    this.send_message(\"ack\", {});\n",
       "    var fig = this;\n",
       "    // Wait a second, then push the new image to the DOM so\n",
       "    // that it is saved nicely (might be nice to debounce this).\n",
       "    setTimeout(function () { fig.push_to_output() }, 1000);\n",
       "}\n",
       "\n",
       "mpl.figure.prototype._init_toolbar = function() {\n",
       "    var fig = this;\n",
       "\n",
       "    var nav_element = $('<div/>')\n",
       "    nav_element.attr('style', 'width: 100%');\n",
       "    this.root.append(nav_element);\n",
       "\n",
       "    // Define a callback function for later on.\n",
       "    function toolbar_event(event) {\n",
       "        return fig.toolbar_button_onclick(event['data']);\n",
       "    }\n",
       "    function toolbar_mouse_event(event) {\n",
       "        return fig.toolbar_button_onmouseover(event['data']);\n",
       "    }\n",
       "\n",
       "    for(var toolbar_ind in mpl.toolbar_items){\n",
       "        var name = mpl.toolbar_items[toolbar_ind][0];\n",
       "        var tooltip = mpl.toolbar_items[toolbar_ind][1];\n",
       "        var image = mpl.toolbar_items[toolbar_ind][2];\n",
       "        var method_name = mpl.toolbar_items[toolbar_ind][3];\n",
       "\n",
       "        if (!name) { continue; };\n",
       "\n",
       "        var button = $('<button class=\"btn btn-default\" href=\"#\" title=\"' + name + '\"><i class=\"fa ' + image + ' fa-lg\"></i></button>');\n",
       "        button.click(method_name, toolbar_event);\n",
       "        button.mouseover(tooltip, toolbar_mouse_event);\n",
       "        nav_element.append(button);\n",
       "    }\n",
       "\n",
       "    // Add the status bar.\n",
       "    var status_bar = $('<span class=\"mpl-message\" style=\"text-align:right; float: right;\"/>');\n",
       "    nav_element.append(status_bar);\n",
       "    this.message = status_bar[0];\n",
       "\n",
       "    // Add the close button to the window.\n",
       "    var buttongrp = $('<div class=\"btn-group inline pull-right\"></div>');\n",
       "    var button = $('<button class=\"btn btn-mini btn-primary\" href=\"#\" title=\"Stop Interaction\"><i class=\"fa fa-power-off icon-remove icon-large\"></i></button>');\n",
       "    button.click(function (evt) { fig.handle_close(fig, {}); } );\n",
       "    button.mouseover('Stop Interaction', toolbar_mouse_event);\n",
       "    buttongrp.append(button);\n",
       "    var titlebar = this.root.find($('.ui-dialog-titlebar'));\n",
       "    titlebar.prepend(buttongrp);\n",
       "}\n",
       "\n",
       "mpl.figure.prototype._root_extra_style = function(el){\n",
       "    var fig = this\n",
       "    el.on(\"remove\", function(){\n",
       "\tfig.close_ws(fig, {});\n",
       "    });\n",
       "}\n",
       "\n",
       "mpl.figure.prototype._canvas_extra_style = function(el){\n",
       "    // this is important to make the div 'focusable\n",
       "    el.attr('tabindex', 0)\n",
       "    // reach out to IPython and tell the keyboard manager to turn it's self\n",
       "    // off when our div gets focus\n",
       "\n",
       "    // location in version 3\n",
       "    if (IPython.notebook.keyboard_manager) {\n",
       "        IPython.notebook.keyboard_manager.register_events(el);\n",
       "    }\n",
       "    else {\n",
       "        // location in version 2\n",
       "        IPython.keyboard_manager.register_events(el);\n",
       "    }\n",
       "\n",
       "}\n",
       "\n",
       "mpl.figure.prototype._key_event_extra = function(event, name) {\n",
       "    var manager = IPython.notebook.keyboard_manager;\n",
       "    if (!manager)\n",
       "        manager = IPython.keyboard_manager;\n",
       "\n",
       "    // Check for shift+enter\n",
       "    if (event.shiftKey && event.which == 13) {\n",
       "        this.canvas_div.blur();\n",
       "        event.shiftKey = false;\n",
       "        // Send a \"J\" for go to next cell\n",
       "        event.which = 74;\n",
       "        event.keyCode = 74;\n",
       "        manager.command_mode();\n",
       "        manager.handle_keydown(event);\n",
       "    }\n",
       "}\n",
       "\n",
       "mpl.figure.prototype.handle_save = function(fig, msg) {\n",
       "    fig.ondownload(fig, null);\n",
       "}\n",
       "\n",
       "\n",
       "mpl.find_output_cell = function(html_output) {\n",
       "    // Return the cell and output element which can be found *uniquely* in the notebook.\n",
       "    // Note - this is a bit hacky, but it is done because the \"notebook_saving.Notebook\"\n",
       "    // IPython event is triggered only after the cells have been serialised, which for\n",
       "    // our purposes (turning an active figure into a static one), is too late.\n",
       "    var cells = IPython.notebook.get_cells();\n",
       "    var ncells = cells.length;\n",
       "    for (var i=0; i<ncells; i++) {\n",
       "        var cell = cells[i];\n",
       "        if (cell.cell_type === 'code'){\n",
       "            for (var j=0; j<cell.output_area.outputs.length; j++) {\n",
       "                var data = cell.output_area.outputs[j];\n",
       "                if (data.data) {\n",
       "                    // IPython >= 3 moved mimebundle to data attribute of output\n",
       "                    data = data.data;\n",
       "                }\n",
       "                if (data['text/html'] == html_output) {\n",
       "                    return [cell, data, j];\n",
       "                }\n",
       "            }\n",
       "        }\n",
       "    }\n",
       "}\n",
       "\n",
       "// Register the function which deals with the matplotlib target/channel.\n",
       "// The kernel may be null if the page has been refreshed.\n",
       "if (IPython.notebook.kernel != null) {\n",
       "    IPython.notebook.kernel.comm_manager.register_target('matplotlib', mpl.mpl_figure_comm);\n",
       "}\n"
      ],
      "text/plain": [
       "<IPython.core.display.Javascript object>"
      ]
     },
     "metadata": {},
     "output_type": "display_data"
    },
    {
     "data": {
      "text/html": [
       "<img src=\"data:image/png;base64,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\" width=\"575.4545329819043\">"
      ],
      "text/plain": [
       "<IPython.core.display.HTML object>"
      ]
     },
     "metadata": {},
     "output_type": "display_data"
    },
    {
     "data": {
      "text/plain": [
       "<matplotlib.axes._subplots.AxesSubplot at 0x7f0519a505c0>"
      ]
     },
     "execution_count": 25,
     "metadata": {},
     "output_type": "execute_result"
    }
   ],
   "source": [
    "# View history\n",
    "df = pd.DataFrame(data).T\n",
    "df\n",
    "\n",
    "df[\"steps\"]=df.index\n",
    "plt.figure(figsize=(8,8))\n",
    "sns.regplot(x=\"steps\", y=\"reward\", data=df, order=1)"
   ]
  },
  {
   "cell_type": "code",
   "execution_count": null,
   "metadata": {
    "ExecuteTime": {
     "end_time": "2018-02-18T03:44:26.480850Z",
     "start_time": "2018-02-18T03:40:56.686Z"
    }
   },
   "outputs": [],
   "source": []
  },
  {
   "cell_type": "markdown",
   "metadata": {
    "ExecuteTime": {
     "end_time": "2017-11-11T14:18:45.083902Z",
     "start_time": "2017-11-11T14:18:45.054430Z"
    }
   },
   "source": [
    "# Test"
   ]
  },
  {
   "cell_type": "code",
   "execution_count": 26,
   "metadata": {
    "ExecuteTime": {
     "end_time": "2018-02-18T03:46:08.738197Z",
     "start_time": "2018-02-18T03:46:08.679680Z"
    }
   },
   "outputs": [
    {
     "data": {
      "text/plain": [
       "[0]"
      ]
     },
     "execution_count": 26,
     "metadata": {},
     "output_type": "execute_result"
    }
   ],
   "source": [
    "df_test = pd.read_hdf('./data/poloniex_30m.hf',key='test')\n",
    "env_test = PortfolioEnv(\n",
    "    df=df_test,\n",
    "    steps=48*7, # run for a week at a time\n",
    "    scale=True, \n",
    "    trading_cost=0.0025, \n",
    "    window_length = window_length,\n",
    "    output_mode='EIIE',\n",
    ")\n",
    "# wrap it in a few wrappers\n",
    "env_test = ConcatStates(env_test)\n",
    "env_test = SoftmaxActions(env_test)\n",
    "environment_test = TFOpenAIGymCust('CryptoPortfolioEIIETest-v0', env_test)\n",
    "\n",
    "env_test.seed(0)"
   ]
  },
  {
   "cell_type": "code",
   "execution_count": 28,
   "metadata": {
    "ExecuteTime": {
     "end_time": "2018-02-18T03:46:15.152037Z",
     "start_time": "2018-02-18T03:46:15.121405Z"
    }
   },
   "outputs": [],
   "source": [
    "runner_test = Runner(agent=agent, environment=environment_test)"
   ]
  },
  {
   "cell_type": "code",
   "execution_count": 29,
   "metadata": {
    "ExecuteTime": {
     "end_time": "2018-02-18T03:46:16.163751Z",
     "start_time": "2018-02-18T03:46:16.123875Z"
    }
   },
   "outputs": [],
   "source": [
    "def episode_finished(r):\n",
    "    print(\"Finished episode {ep} after {ts} timesteps (reward: {reward})\".format(ep=r.episode, ts=r.episode_timestep,\n",
    "                                                                                 reward=r.episode_rewards[-1]))\n",
    "    return True"
   ]
  },
  {
   "cell_type": "code",
   "execution_count": 30,
   "metadata": {
    "ExecuteTime": {
     "end_time": "2018-02-18T03:46:20.275606Z",
     "start_time": "2018-02-18T03:46:16.487849Z"
    },
    "scrolled": true
   },
   "outputs": [
    {
     "name": "stdout",
     "output_type": "stream",
     "text": [
      "Finished episode 679 after 336 timesteps (reward: -0.00012633957333756395)\n",
      "INFO:tensorflow:Saving checkpoints for 27480 into ./outputs/tensorforce-PPO/tensorforce_PPO_crypto-20180218_03-40-58/model.ckpt.\n"
     ]
    },
    {
     "name": "stderr",
     "output_type": "stream",
     "text": [
      "INFO:tensorflow:Saving checkpoints for 27480 into ./outputs/tensorforce-PPO/tensorforce_PPO_crypto-20180218_03-40-58/model.ckpt.\n",
      "[2018-02-18 11:46:18,991] Saving checkpoints for 27480 into ./outputs/tensorforce-PPO/tensorforce_PPO_crypto-20180218_03-40-58/model.ckpt.\n"
     ]
    }
   ],
   "source": [
    "episodes=1\n",
    "steps=environment_test.gym.env.env.src.steps*episodes\n",
    "runner_test.run(\n",
    "    episodes=episodes,\n",
    "    timesteps=steps,\n",
    "    deterministic=True,\n",
    "    episode_finished=episode_finished,\n",
    ")"
   ]
  },
  {
   "cell_type": "code",
   "execution_count": 31,
   "metadata": {
    "ExecuteTime": {
     "end_time": "2018-02-18T03:46:23.606579Z",
     "start_time": "2018-02-18T03:46:22.823756Z"
    }
   },
   "outputs": [
    {
     "name": "stderr",
     "output_type": "stream",
     "text": [
      "WARNING:root:The liveplot callback only work when matplotlib is using the nbAgg backend. Execute 'matplotlib.use('nbAgg', force=True)'' or '%matplotlib notebook'\n",
      "[2018-02-18 11:46:22,866] The liveplot callback only work when matplotlib is using the nbAgg backend. Execute 'matplotlib.use('nbAgg', force=True)'' or '%matplotlib notebook'\n",
      "WARNING:root:The liveplot callback only work when matplotlib is using the nbAgg backend. Execute 'matplotlib.use('nbAgg', force=True)'' or '%matplotlib notebook'\n",
      "[2018-02-18 11:46:23,040] The liveplot callback only work when matplotlib is using the nbAgg backend. Execute 'matplotlib.use('nbAgg', force=True)'' or '%matplotlib notebook'\n",
      "WARNING:root:The liveplot callback only work when matplotlib is using the nbAgg backend. Execute 'matplotlib.use('nbAgg', force=True)'' or '%matplotlib notebook'\n",
      "[2018-02-18 11:46:23,143] The liveplot callback only work when matplotlib is using the nbAgg backend. Execute 'matplotlib.use('nbAgg', force=True)'' or '%matplotlib notebook'\n"
     ]
    },
    {
     "data": {
      "image/png": "[encoded data removed]",
      "text/plain": [
       "<matplotlib.figure.Figure at 0x7f0519a506d8>"
      ]
     },
     "metadata": {},
     "output_type": "display_data"
    },
    {
     "data": {
      "image/png": "[encoded data removed]",
      "text/plain": [
       "<matplotlib.figure.Figure at 0x7f050edd0b70>"
      ]
     },
     "metadata": {},
     "output_type": "display_data"
    },
    {
     "data": {
      "image/png": "[encoded data removed]",
      "text/plain": [
       "<matplotlib.figure.Figure at 0x7f050ed4f8d0>"
      ]
     },
     "metadata": {},
     "output_type": "display_data"
    }
   ],
   "source": [
    "# plot\n",
    "%matplotlib inline\n",
    "env_test.unwrapped.render('notebook', close=True)\n",
    "env_test.unwrapped.render('notebook')"
   ]
  },
  {
   "cell_type": "code",
   "execution_count": null,
   "metadata": {
    "ExecuteTime": {
     "end_time": "2018-02-18T03:17:22.315566Z",
     "start_time": "2018-02-18T03:17:21.636748Z"
    }
   },
   "outputs": [],
   "source": []
  },
  {
   "cell_type": "code",
   "execution_count": null,
   "metadata": {},
   "outputs": [],
   "source": []
  }
 ],
 "metadata": {
  "kernelspec": {
   "display_name": "jupyter3",
   "language": "python",
   "name": "jupyter3"
  },
  "language_info": {
   "codemirror_mode": {
    "name": "ipython",
    "version": 3
   },
   "file_extension": ".py",
   "mimetype": "text/x-python",
   "name": "python",
   "nbconvert_exporter": "python",
   "pygments_lexer": "ipython3",
   "version": "3.5.3"
  },
  "toc": {
   "colors": {
    "hover_highlight": "#DAA520",
    "navigate_num": "#000000",
    "navigate_text": "#333333",
    "running_highlight": "#FF0000",
    "selected_highlight": "#FFD700",
    "sidebar_border": "#EEEEEE",
    "wrapper_background": "#FFFFFF"
   },
   "moveMenuLeft": true,
   "nav_menu": {
    "height": "146px",
    "width": "252px"
   },
   "navigate_menu": true,
   "number_sections": true,
   "sideBar": true,
   "threshold": 4,
   "toc_cell": false,
   "toc_section_display": "block",
   "toc_window_display": true,
   "widenNotebook": false
  },
  "varInspector": {
   "cols": {
    "lenName": 16,
    "lenType": 16,
    "lenVar": 40
   },
   "kernels_config": {
    "python": {
     "delete_cmd_postfix": "",
     "delete_cmd_prefix": "del ",
     "library": "var_list.py",
     "varRefreshCmd": "print(var_dic_list())"
    },
    "r": {
     "delete_cmd_postfix": ") ",
     "delete_cmd_prefix": "rm(",
     "library": "var_list.r",
     "varRefreshCmd": "cat(var_dic_list()) "
    }
   },
   "types_to_exclude": [
    "module",
    "function",
    "builtin_function_or_method",
    "instance",
    "_Feature"
   ],
   "window_display": false
  }
 },
 "nbformat": 4,
 "nbformat_minor": 2
}
