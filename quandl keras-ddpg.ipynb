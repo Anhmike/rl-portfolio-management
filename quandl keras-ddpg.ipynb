{
 "cells": [
  {
   "cell_type": "markdown",
   "metadata": {},
   "source": [
    "https://github.com/hackthemarket/gym-trading/blob/master/gym_trading/envs/TradingEnv.ipynb\n",
    "\n",
    "TODO:\n",
    "- test data, val data\n",
    "- multiple stocks?\n",
    "- bitcoin data env?\n",
    "    - quandl bter (200 results) bitfinex (26), BCHARTs\n",
    "- finanical metrics e.g. \n",
    "    - http://www.cs.utexas.edu/~ai-lab/pubs/AMEC04-plat.pdf sharpes\n",
    "    - return\n",
    "    - dummy score\n",
    "        - all buy, all hold, all sell\n",
    "        - random etc\n",
    "    - quantopians\n",
    "- add more observational data\n",
    "    - [x] the last few steps - add memmory\n",
    "    - [ ] sentiment? e.g. https://www.quandl.com/data/NS1-FinSentS-Web-News-Sentiment\n",
    "    - [ ] overall stock market e.g. https://www.quandl.com/data/UMICH/SOC4-University-of-Michigan-Consumer-Survey-Index-of-Consumer-Sentiment-Within-Regions\n",
    "- replay https://github.com/matthiasplappert/keras-rl/issues/40\n",
    "- or try openai baseline with tensorflow\n",
    "- model\n",
    "    - cnn\n",
    "    - lstm\n",
    "- unit tests\n",
    "    - env should give poor result with random steps, only buys, only holds\n",
    "    - model should overfit on small amount of data\n",
    "    \n",
    "- [x] pretraining? helps a lot. Lets the keras-rl beat the market by a few percent initially\n",
    " bugs:\n",
    " - [x] seems to be discontinuities causing huge navs e.g. 1e51\n",
    " \n",
    " \n",
    " regression vs classification\n",
    " \n",
    " window length and memory\n",
    " \n",
    " experience replay\n",
    " \n",
    " I used [arXiv:1612.01277](https://arxiv.org/abs/1706.10059) paper a lot for understanding the problem and ideas for model design."
   ]
  },
  {
   "cell_type": "code",
   "execution_count": null,
   "metadata": {
    "ExecuteTime": {
     "end_time": "2017-06-27T10:14:01.147406Z",
     "start_time": "2017-06-27T18:14:01.142926+08:00"
    },
    "collapsed": true
   },
   "outputs": [],
   "source": []
  },
  {
   "cell_type": "code",
   "execution_count": 1,
   "metadata": {
    "ExecuteTime": {
     "end_time": "2017-07-15T09:03:04.042640Z",
     "start_time": "2017-07-15T17:03:03.310635+08:00"
    }
   },
   "outputs": [
    {
     "name": "stderr",
     "output_type": "stream",
     "text": [
      "INFO:__main__:__main__ logger started.\n"
     ]
    }
   ],
   "source": [
    "# plotting\n",
    "%matplotlib inline\n",
    "from matplotlib import pyplot as plt\n",
    "import seaborn as sns\n",
    "plt.style.use('fivethirtyeight')\n",
    "\n",
    "# numeric\n",
    "import quandl\n",
    "import numpy as np\n",
    "from numpy import random\n",
    "import pandas as pd\n",
    "\n",
    "# utils\n",
    "from tqdm import tqdm_notebook as tqdm\n",
    "from collections import Counter\n",
    "import pdb\n",
    "import tempfile\n",
    "import logging\n",
    "import time\n",
    "\n",
    "# logging\n",
    "logger = log = logging.getLogger(__name__)\n",
    "log.setLevel(logging.INFO)\n",
    "logging.basicConfig()\n",
    "log.info('%s logger started.', __name__)"
   ]
  },
  {
   "cell_type": "code",
   "execution_count": 30,
   "metadata": {
    "ExecuteTime": {
     "end_time": "2017-07-15T09:09:14.499539Z",
     "start_time": "2017-07-15T17:09:14.474272+08:00"
    }
   },
   "outputs": [],
   "source": [
    "# reinforcement learning\n",
    "import gym\n",
    "from gym import error, spaces, utils\n",
    "from gym.utils import seeding\n",
    "\n",
    "from keras.models import Sequential\n",
    "from keras.layers import Flatten, Dense, Activation, BatchNormalization\n",
    "from keras.optimizers import Adam\n",
    "from keras.layers.advanced_activations import LeakyReLU\n",
    "from keras.models import Sequential\n",
    "from keras.layers import Flatten, Dense, Activation, BatchNormalization, Conv1D, InputLayer, Dropout, regularizers, Conv2D, Reshape\n",
    "from keras.optimizers import Adam\n",
    "from keras.layers.advanced_activations import LeakyReLU\n",
    "from keras.activations import relu"
   ]
  },
  {
   "cell_type": "code",
   "execution_count": null,
   "metadata": {
    "ExecuteTime": {
     "end_time": "2017-07-12T07:24:50.874995Z",
     "start_time": "2017-07-12T15:24:50.872400+08:00"
    },
    "collapsed": true
   },
   "outputs": [],
   "source": []
  },
  {
   "cell_type": "code",
   "execution_count": 3,
   "metadata": {
    "ExecuteTime": {
     "end_time": "2017-07-15T09:03:23.074963Z",
     "start_time": "2017-07-15T17:03:23.042298+08:00"
    },
    "collapsed": true
   },
   "outputs": [],
   "source": [
    "import os\n",
    "os.sys.path.append(os.path.abspath('.'))\n",
    "%reload_ext autoreload\n",
    "%autoreload 2\n",
    "\n",
    "# from src.callbacks.rl_callbacks import ReduceLROnPlateau, TrainIntervalLoggerTQDMNotebook"
   ]
  },
  {
   "cell_type": "markdown",
   "metadata": {},
   "source": [
    "# Environment\n",
    "\n",
    "Day trading over 256 days. We scale and augument the training data.\n",
    "\n",
    "You can see the base environment class [here](https://github.com/openai/gym/blob/master/gym/core.py#L13) and openai's nice docs [here](https://gym.openai.com/docs)\n"
   ]
  },
  {
   "cell_type": "code",
   "execution_count": 4,
   "metadata": {
    "ExecuteTime": {
     "end_time": "2017-07-15T09:03:27.514277Z",
     "start_time": "2017-07-15T17:03:27.479712+08:00"
    }
   },
   "outputs": [],
   "source": [
    "from src.environments.portfolio import PortfolioEnv"
   ]
  },
  {
   "cell_type": "code",
   "execution_count": 5,
   "metadata": {
    "ExecuteTime": {
     "end_time": "2017-07-15T09:03:40.344002Z",
     "start_time": "2017-07-15T17:03:39.814516+08:00"
    }
   },
   "outputs": [],
   "source": [
    "df_train = pd.read_hdf('./data/poliniex_30m.hf',key='train')\n",
    "env = PortfolioEnv(\n",
    "    df=df_train,\n",
    "    steps=128, \n",
    "    scale=True, \n",
    "    augument=0.0005    \n",
    ")\n",
    "env.seed = 0   \n",
    "\n",
    "df_test = pd.read_hdf('./data/poliniex_30m.hf',key='test')\n",
    "env_test = PortfolioEnv(\n",
    "    df=df_test,\n",
    "    steps=128, \n",
    "    scale=True, \n",
    "    augument=0.00)\n",
    "env_test.seed = 0  "
   ]
  },
  {
   "cell_type": "markdown",
   "metadata": {
    "ExecuteTime": {
     "end_time": "2017-07-12T01:21:05.703397Z",
     "start_time": "2017-07-12T09:21:05.644167+08:00"
    }
   },
   "source": [
    "## SELU?\n",
    "\n",
    "I tried SELU but it didn't help, It's mean to replace batchnorm and ELU with less parameters\n",
    "there have been varied reports for it [reddit discussion]( https://www.reddit.com/r/MachineLearning/comments/6g5tg1/r_selfnormalizing_neural_networks_improved_elu/)"
   ]
  },
  {
   "cell_type": "code",
   "execution_count": 6,
   "metadata": {
    "ExecuteTime": {
     "end_time": "2017-07-15T09:03:42.492618Z",
     "start_time": "2017-07-15T17:03:42.468784+08:00"
    },
    "collapsed": true
   },
   "outputs": [],
   "source": [
    " \n",
    "# from keras import backend as K\n",
    "# def selu(x):\n",
    "#     \"\"\"Scaled Exponential Linear Unit. (Klambauer et al., 2017)\n",
    "#     # Arguments\n",
    "#         x: A tensor or variable to compute the activation function for.\n",
    "#     # References\n",
    "#         - [Self-Normalizing Neural Networks](https://arxiv.org/abs/1706.02515)\n",
    "#     \"\"\"\n",
    "#     alpha = 1.6732632423543772848170429916717\n",
    "#     scale = 1.0507009873554804934193349852946\n",
    "#     return scale * K.elu(x, alpha)"
   ]
  },
  {
   "cell_type": "markdown",
   "metadata": {
    "ExecuteTime": {
     "end_time": "2017-07-04T01:42:37.345932Z",
     "start_time": "2017-07-04T09:42:37.328860+08:00"
    },
    "collapsed": true
   },
   "source": [
    "# Model\n",
    "\n",
    "arXiv:1612.01277 indicated that CNN's are just as effective. That's great because I like them, they are fast so I can try more things and see the results faster. So we will be using a CNN model.\n"
   ]
  },
  {
   "cell_type": "code",
   "execution_count": 29,
   "metadata": {
    "ExecuteTime": {
     "end_time": "2017-07-15T09:08:32.470130Z",
     "start_time": "2017-07-15T17:08:32.403066+08:00"
    }
   },
   "outputs": [
    {
     "data": {
      "text/plain": [
       "(6, 8)"
      ]
     },
     "execution_count": 29,
     "metadata": {},
     "output_type": "execute_result"
    }
   ],
   "source": [
    "env.reset().shape"
   ]
  },
  {
   "cell_type": "code",
   "execution_count": 24,
   "metadata": {
    "ExecuteTime": {
     "end_time": "2017-07-15T09:07:22.869809Z",
     "start_time": "2017-07-15T17:07:22.847074+08:00"
    }
   },
   "outputs": [
    {
     "data": {
      "text/plain": [
       "(42, 6, 8)"
      ]
     },
     "execution_count": 24,
     "metadata": {},
     "output_type": "execute_result"
    }
   ],
   "source": [
    "(window_length,)+env.observation_space.shape"
   ]
  },
  {
   "cell_type": "markdown",
   "metadata": {},
   "source": [
    "# Pretrain the Q model as a normal classification problem\n",
    "\n",
    "We can pretrain on a regular (non-rl) classification problem. This might not be as elegant as end-to-end training but it helps with speed. \n",
    "\n",
    "It also helps me quickly test how a model fit's the data (can it overfit, how much does it generalize?). So it's a good sanity check."
   ]
  },
  {
   "cell_type": "code",
   "execution_count": 33,
   "metadata": {
    "ExecuteTime": {
     "end_time": "2017-07-15T09:09:32.682339Z",
     "start_time": "2017-07-15T17:09:32.656728+08:00"
    },
    "collapsed": true
   },
   "outputs": [],
   "source": [
    "# augument the data to compensate for the low quantity\n",
    "def random_shift(x, fraction):\n",
    "    min_x, max_x = np.min(x), np.max(x)\n",
    "    m = np.random.uniform(-fraction, fraction, size=x.shape) + 1\n",
    "    c = np.random.uniform(-fraction, fraction, size=x.shape) * x.std()\n",
    "    return np.clip(x * m + c, min_x, max_x)\n",
    "\n",
    "def X_shift(X, fraction):\n",
    "    X = X.copy()\n",
    "    for i in range(X.shape[1]):\n",
    "        x = X[:,:,i]\n",
    "        X[:,:,i] = random_shift(x, fraction)\n",
    "    return X"
   ]
  },
  {
   "cell_type": "code",
   "execution_count": 159,
   "metadata": {
    "ExecuteTime": {
     "end_time": "2017-07-15T10:34:17.352100Z",
     "start_time": "2017-07-15T18:34:17.228730+08:00"
    }
   },
   "outputs": [
    {
     "name": "stdout",
     "output_type": "stream",
     "text": [
      "_________________________________________________________________\n",
      "Layer (type)                 Output Shape              Param #   \n",
      "=================================================================\n",
      "input_10 (InputLayer)        (None, 42, 6, 8)          0         \n",
      "_________________________________________________________________\n",
      "flatten_26 (Flatten)         (None, 2016)              0         \n",
      "_________________________________________________________________\n",
      "dense_95 (Dense)             (None, 16)                32272     \n",
      "_________________________________________________________________\n",
      "activation_89 (Activation)   (None, 16)                0         \n",
      "_________________________________________________________________\n",
      "dense_96 (Dense)             (None, 16)                272       \n",
      "_________________________________________________________________\n",
      "activation_90 (Activation)   (None, 16)                0         \n",
      "_________________________________________________________________\n",
      "dense_97 (Dense)             (None, 16)                272       \n",
      "_________________________________________________________________\n",
      "activation_91 (Activation)   (None, 16)                0         \n",
      "_________________________________________________________________\n",
      "dense_98 (Dense)             (None, 6)                 102       \n",
      "_________________________________________________________________\n",
      "activation_92 (Activation)   (None, 6)                 0         \n",
      "=================================================================\n",
      "Total params: 32,918\n",
      "Trainable params: 32,918\n",
      "Non-trainable params: 0\n",
      "_________________________________________________________________\n",
      "None\n",
      "____________________________________________________________________________________________________\n",
      "Layer (type)                     Output Shape          Param #     Connected to                     \n",
      "====================================================================================================\n",
      "observation_input (InputLayer)   (None, 42, 6, 8)      0                                            \n",
      "____________________________________________________________________________________________________\n",
      "action_input (InputLayer)        (None, 6)             0                                            \n",
      "____________________________________________________________________________________________________\n",
      "flatten_27 (Flatten)             (None, 2016)          0           observation_input[0][0]          \n",
      "____________________________________________________________________________________________________\n",
      "concatenate_2 (Concatenate)      (None, 2022)          0           action_input[0][0]               \n",
      "                                                                   flatten_27[0][0]                 \n",
      "____________________________________________________________________________________________________\n",
      "dense_99 (Dense)                 (None, 32)            64736       concatenate_2[0][0]              \n",
      "____________________________________________________________________________________________________\n",
      "activation_93 (Activation)       (None, 32)            0           dense_99[0][0]                   \n",
      "____________________________________________________________________________________________________\n",
      "dense_100 (Dense)                (None, 32)            1056        activation_93[0][0]              \n",
      "____________________________________________________________________________________________________\n",
      "activation_94 (Activation)       (None, 32)            0           dense_100[0][0]                  \n",
      "____________________________________________________________________________________________________\n",
      "dense_101 (Dense)                (None, 32)            1056        activation_94[0][0]              \n",
      "____________________________________________________________________________________________________\n",
      "activation_95 (Activation)       (None, 32)            0           dense_101[0][0]                  \n",
      "____________________________________________________________________________________________________\n",
      "dense_102 (Dense)                (None, 1)             33          activation_95[0][0]              \n",
      "____________________________________________________________________________________________________\n",
      "activation_96 (Activation)       (None, 1)             0           dense_102[0][0]                  \n",
      "====================================================================================================\n",
      "Total params: 66,881\n",
      "Trainable params: 66,881\n",
      "Non-trainable params: 0\n",
      "____________________________________________________________________________________________________\n",
      "None\n"
     ]
    }
   ],
   "source": [
    "from keras.layers import Input, merge\n",
    "from keras.layers import concatenate\n",
    "from keras.models import Model\n",
    "# Next, we build a very simple model.\n",
    "actor = Sequential()\n",
    "actor.add(InputLayer(input_shape=(window_length,) + env.observation_space.shape))\n",
    "actor.add(Flatten())\n",
    "actor.add(Dense(16))\n",
    "actor.add(Activation('relu'))\n",
    "actor.add(Dense(16))\n",
    "actor.add(Activation('relu'))\n",
    "actor.add(Dense(16))\n",
    "actor.add(Activation('relu'))\n",
    "actor.add(Dense(nb_actions))\n",
    "actor.add(Activation('softmax'))\n",
    "print(actor.summary())\n",
    "\n",
    "action_input = Input(shape=(nb_actions,), name='action_input')\n",
    "observation_input = Input(shape=(window_length,) + env.observation_space.shape, name='observation_input')\n",
    "flattened_observation = Flatten()(observation_input)\n",
    "x = concatenate([action_input, flattened_observation])\n",
    "x = Dense(32)(x)\n",
    "x = Activation('relu')(x)\n",
    "x = Dense(32)(x)\n",
    "x = Activation('relu')(x)\n",
    "x = Dense(32)(x)\n",
    "x = Activation('relu')(x)\n",
    "x = Dense(1)(x)\n",
    "x = Activation('linear')(x)\n",
    "critic = Model(inputs=[action_input, observation_input], outputs=x)\n",
    "print(critic.summary())"
   ]
  },
  {
   "cell_type": "code",
   "execution_count": null,
   "metadata": {
    "collapsed": true
   },
   "outputs": [],
   "source": []
  },
  {
   "cell_type": "code",
   "execution_count": 160,
   "metadata": {
    "ExecuteTime": {
     "end_time": "2017-07-15T10:34:23.815873Z",
     "start_time": "2017-07-15T18:34:22.140436+08:00"
    }
   },
   "outputs": [
    {
     "data": {
      "text/plain": [
       "<rl.agents.ddpg.DDPGAgent at 0x7f07b0450438>"
      ]
     },
     "execution_count": 160,
     "metadata": {},
     "output_type": "execute_result"
    }
   ],
   "source": [
    "from rl.agents.ddpg import DDPGAgent\n",
    "from rl.policy import BoltzmannQPolicy, EpsGreedyQPolicy, LinearAnnealedPolicy\n",
    "from rl.memory import SequentialMemory\n",
    "from rl.random import OrnsteinUhlenbeckProcess\n",
    "\n",
    "# Get the environment and extract the number of actions.\n",
    "np.random.seed(0)\n",
    "\n",
    "# Finally, we configure and compile our agent. You can use every built-in Keras optimizer and\n",
    "# even the metrics!\n",
    "\n",
    "memory = SequentialMemory(limit=1000, window_length=window_length)\n",
    "random_process = OrnsteinUhlenbeckProcess(\n",
    "    size=nb_actions, theta=.15, mu=0., sigma=.3)\n",
    "agent = DDPGAgent(\n",
    "    nb_actions=nb_actions,\n",
    "    actor=actor,\n",
    "    critic=critic,\n",
    "    critic_action_input=action_input,\n",
    "    random_process=random_process,\n",
    "    memory=memory,\n",
    "    \n",
    "    nb_steps_warmup_critic=100,\n",
    "    nb_steps_warmup_actor=100,    \n",
    "    gamma=.99,\n",
    "    target_model_update=1e-3\n",
    ")\n",
    "agent.compile(Adam(lr=1e-3), metrics=['mse'])\n",
    "agent"
   ]
  },
  {
   "cell_type": "code",
   "execution_count": null,
   "metadata": {
    "collapsed": true
   },
   "outputs": [],
   "source": []
  },
  {
   "cell_type": "code",
   "execution_count": 161,
   "metadata": {
    "ExecuteTime": {
     "end_time": "2017-07-15T10:34:25.201963Z",
     "start_time": "2017-07-15T18:34:25.180724+08:00"
    },
    "collapsed": true
   },
   "outputs": [],
   "source": [
    "from src.callbacks.keras_rl_callbacks import TrainIntervalLoggerTQDMNotebook"
   ]
  },
  {
   "cell_type": "code",
   "execution_count": 187,
   "metadata": {
    "ExecuteTime": {
     "end_time": "2017-07-15T21:33:37.137111Z",
     "start_time": "2017-07-15T22:57:38.308601+08:00"
    },
    "scrolled": true
   },
   "outputs": [
    {
     "name": "stdout",
     "output_type": "stream",
     "text": [
      "Training for 900000 steps ...\n",
      "Interval 1 (0 steps performed)\n",
      "10000/10000 [==============================] - 246s - reward: -2.0639e-04   \n",
      "78 episodes - episode_reward: -0.027 [-0.185, 0.110] - loss: 0.000 - mean_squared_error: 0.000 - mean_q: 0.000 - log_reward: 0.000 - portfolio_value: 1.000 - returns: 1.000 - rate_of_return: 0.000 - cost: 0.000 - steps: 0.000\n",
      "\n",
      "Interval 2 (10000 steps performed)\n",
      "10000/10000 [==============================] - 245s - reward: -2.2035e-04   \n",
      "78 episodes - episode_reward: -0.028 [-0.255, 0.292] - loss: 0.000 - mean_squared_error: 0.000 - mean_q: -0.002 - log_reward: 0.000 - portfolio_value: 1.000 - returns: 0.999 - rate_of_return: 0.000 - cost: 0.000 - steps: 0.000\n",
      "\n",
      "Interval 3 (20000 steps performed)\n",
      "10000/10000 [==============================] - 241s - reward: 3.2417e-04   \n",
      "78 episodes - episode_reward: 0.042 [-0.183, 5.335] - loss: 0.002 - mean_squared_error: 0.003 - mean_q: 0.000 - log_reward: 0.000 - portfolio_value: 1.000 - returns: 1.000 - rate_of_return: 0.000 - cost: 0.000 - steps: 0.000\n",
      "\n",
      "Interval 4 (30000 steps performed)\n",
      "10000/10000 [==============================] - 275s - reward: 0.0010   \n",
      "78 episodes - episode_reward: 0.129 [-0.221, 9.350] - loss: 0.004 - mean_squared_error: 0.009 - mean_q: 0.008 - log_reward: 0.000 - portfolio_value: 1.000 - returns: 1.000 - rate_of_return: 0.000 - cost: 0.000 - steps: 0.000\n",
      "\n",
      "Interval 5 (40000 steps performed)\n",
      "10000/10000 [==============================] - 271s - reward: -2.1880e-04    ETA: 0s - rew\n",
      "78 episodes - episode_reward: -0.028 [-0.248, 0.161] - loss: 0.000 - mean_squared_error: 0.000 - mean_q: 0.008 - log_reward: 0.000 - portfolio_value: 1.000 - returns: 1.000 - rate_of_return: 0.000 - cost: 0.000 - steps: 0.000\n",
      "\n",
      "Interval 6 (50000 steps performed)\n",
      "10000/10000 [==============================] - 305s - reward: 1.1233e-06   \n",
      "78 episodes - episode_reward: 0.000 [-0.178, 1.062] - loss: 0.000 - mean_squared_error: 0.001 - mean_q: 0.005 - log_reward: 0.000 - portfolio_value: 1.000 - returns: 0.997 - rate_of_return: 0.000 - cost: 0.000 - steps: 0.000\n",
      "\n",
      "Interval 7 (60000 steps performed)\n",
      "10000/10000 [==============================] - 305s - reward: 7.6975e-04   \n",
      "78 episodes - episode_reward: 0.098 [-0.238, 4.758] - loss: 0.002 - mean_squared_error: 0.005 - mean_q: 0.012 - log_reward: 0.000 - portfolio_value: 1.000 - returns: 1.001 - rate_of_return: 0.000 - cost: 0.000 - steps: 0.000\n",
      "\n",
      "Interval 8 (70000 steps performed)\n",
      "10000/10000 [==============================] - 310s - reward: 4.7067e-04   \n",
      "79 episodes - episode_reward: 0.059 [-0.251, 6.651] - loss: 0.002 - mean_squared_error: 0.004 - mean_q: 0.014 - log_reward: 0.000 - portfolio_value: 1.000 - returns: 1.001 - rate_of_return: 0.000 - cost: 0.000 - steps: 0.000\n",
      "\n",
      "Interval 9 (80000 steps performed)\n",
      "10000/10000 [==============================] - 309s - reward: -1.8256e-04   \n",
      "78 episodes - episode_reward: -0.023 [-0.199, 0.207] - loss: 0.000 - mean_squared_error: 0.001 - mean_q: 0.011 - log_reward: 0.000 - portfolio_value: 1.000 - returns: 1.001 - rate_of_return: 0.000 - cost: 0.000 - steps: 0.000\n",
      "\n",
      "Interval 10 (90000 steps performed)\n",
      "10000/10000 [==============================] - 308s - reward: -2.0015e-04   \n",
      "78 episodes - episode_reward: -0.026 [-0.146, 0.064] - loss: 0.000 - mean_squared_error: 0.000 - mean_q: 0.008 - log_reward: 0.000 - portfolio_value: 1.000 - returns: 0.999 - rate_of_return: 0.000 - cost: 0.000 - steps: 0.000\n",
      "\n",
      "Interval 11 (100000 steps performed)\n",
      "10000/10000 [==============================] - 309s - reward: 5.6647e-04   \n",
      "78 episodes - episode_reward: 0.073 [-0.254, 8.211] - loss: 0.002 - mean_squared_error: 0.005 - mean_q: 0.005 - log_reward: 0.000 - portfolio_value: 1.000 - returns: 1.000 - rate_of_return: 0.000 - cost: 0.000 - steps: 0.000\n",
      "\n",
      "Interval 12 (110000 steps performed)\n",
      "10000/10000 [==============================] - 309s - reward: -1.2790e-04   \n",
      "78 episodes - episode_reward: -0.017 [-0.198, 0.438] - loss: 0.000 - mean_squared_error: 0.000 - mean_q: 0.007 - log_reward: 0.000 - portfolio_value: 1.000 - returns: 1.001 - rate_of_return: 0.000 - cost: 0.000 - steps: 0.000\n",
      "\n",
      "Interval 13 (120000 steps performed)\n",
      "10000/10000 [==============================] - 310s - reward: -1.2215e-04   \n",
      "78 episodes - episode_reward: -0.018 [-0.200, 0.096] - loss: 0.000 - mean_squared_error: 0.000 - mean_q: 0.005 - log_reward: 0.000 - portfolio_value: 1.000 - returns: 1.000 - rate_of_return: 0.000 - cost: 0.000 - steps: 0.000\n",
      "\n",
      "Interval 14 (130000 steps performed)\n",
      "10000/10000 [==============================] - 307s - reward: 7.8952e-04   \n",
      "78 episodes - episode_reward: 0.104 [-0.182, 8.972] - loss: 0.004 - mean_squared_error: 0.007 - mean_q: 0.010 - log_reward: 0.000 - portfolio_value: 1.000 - returns: 1.000 - rate_of_return: 0.000 - cost: 0.000 - steps: 0.000\n",
      "\n",
      "Interval 15 (140000 steps performed)\n",
      "10000/10000 [==============================] - 307s - reward: -1.1444e-04   \n",
      "78 episodes - episode_reward: -0.015 [-0.770, 0.383] - loss: 0.000 - mean_squared_error: 0.000 - mean_q: 0.008 - log_reward: 0.000 - portfolio_value: 1.000 - returns: 1.002 - rate_of_return: 0.000 - cost: 0.000 - steps: 0.000\n",
      "\n",
      "Interval 16 (150000 steps performed)\n",
      "10000/10000 [==============================] - 311s - reward: -1.9351e-04   \n",
      "79 episodes - episode_reward: -0.024 [-0.223, 0.141] - loss: 0.000 - mean_squared_error: 0.000 - mean_q: 0.005 - log_reward: 0.000 - portfolio_value: 1.000 - returns: 1.000 - rate_of_return: 0.000 - cost: 0.000 - steps: 0.000\n",
      "\n",
      "Interval 17 (160000 steps performed)\n",
      "10000/10000 [==============================] - 310s - reward: 0.0012   \n",
      "78 episodes - episode_reward: 0.150 [-0.244, 9.207] - loss: 0.005 - mean_squared_error: 0.009 - mean_q: 0.012 - log_reward: 0.000 - portfolio_value: 1.000 - returns: 1.001 - rate_of_return: 0.000 - cost: 0.000 - steps: 0.000\n",
      "\n",
      "Interval 18 (170000 steps performed)\n",
      "10000/10000 [==============================] - 310s - reward: -1.7878e-04    ETA: 0s\n",
      "78 episodes - episode_reward: -0.022 [-0.356, 0.235] - loss: 0.000 - mean_squared_error: 0.000 - mean_q: 0.009 - log_reward: 0.000 - portfolio_value: 1.000 - returns: 1.050 - rate_of_return: 0.000 - cost: 0.000 - steps: 0.000\n",
      "\n",
      "Interval 19 (180000 steps performed)\n",
      "10000/10000 [==============================] - 309s - reward: 0.0011   \n",
      "78 episodes - episode_reward: 0.139 [-0.150, 6.626] - loss: 0.004 - mean_squared_error: 0.008 - mean_q: 0.010 - log_reward: 0.000 - portfolio_value: 1.000 - returns: 1.000 - rate_of_return: 0.000 - cost: 0.000 - steps: 0.000\n",
      "\n",
      "Interval 20 (190000 steps performed)\n",
      "10000/10000 [==============================] - 309s - reward: 1.6042e-05   \n",
      "78 episodes - episode_reward: 0.002 [-0.176, 1.814] - loss: 0.000 - mean_squared_error: 0.000 - mean_q: 0.016 - log_reward: 0.000 - portfolio_value: 1.000 - returns: 0.999 - rate_of_return: 0.000 - cost: 0.000 - steps: 0.000\n",
      "\n",
      "Interval 21 (200000 steps performed)\n",
      "10000/10000 [==============================] - 309s - reward: -1.0386e-04   \n",
      "78 episodes - episode_reward: -0.014 [-0.149, 0.445] - loss: 0.000 - mean_squared_error: 0.000 - mean_q: 0.012 - log_reward: 0.000 - portfolio_value: 1.000 - returns: 1.000 - rate_of_return: 0.000 - cost: 0.000 - steps: 0.000\n",
      "\n",
      "Interval 22 (210000 steps performed)\n",
      "10000/10000 [==============================] - 309s - reward: -1.2359e-04   \n",
      "78 episodes - episode_reward: -0.015 [-0.345, 0.731] - loss: 0.000 - mean_squared_error: 0.001 - mean_q: 0.009 - log_reward: 0.000 - portfolio_value: 1.000 - returns: 1.003 - rate_of_return: 0.000 - cost: 0.000 - steps: 0.000\n",
      "\n",
      "Interval 23 (220000 steps performed)\n",
      "10000/10000 [==============================] - 306s - reward: -8.8479e-05    ETA: 0s - reward: -8.8398\n",
      "78 episodes - episode_reward: -0.012 [-0.168, 1.433] - loss: 0.000 - mean_squared_error: 0.000 - mean_q: 0.006 - log_reward: 0.000 - portfolio_value: 1.000 - returns: 0.999 - rate_of_return: 0.000 - cost: 0.000 - steps: 0.000\n",
      "\n",
      "Interval 24 (230000 steps performed)\n",
      "10000/10000 [==============================] - 308s - reward: -1.0805e-04   \n"
     ]
    },
    {
     "name": "stdout",
     "output_type": "stream",
     "text": [
      "79 episodes - episode_reward: -0.014 [-0.143, 0.413] - loss: 0.000 - mean_squared_error: 0.000 - mean_q: 0.004 - log_reward: 0.000 - portfolio_value: 1.000 - returns: 1.001 - rate_of_return: 0.000 - cost: 0.000 - steps: 0.000\n",
      "\n",
      "Interval 25 (240000 steps performed)\n",
      "10000/10000 [==============================] - 248s - reward: -1.0241e-04   \n",
      "78 episodes - episode_reward: -0.014 [-0.211, 0.295] - loss: 0.000 - mean_squared_error: 0.000 - mean_q: 0.003 - log_reward: 0.000 - portfolio_value: 1.000 - returns: 1.000 - rate_of_return: 0.000 - cost: 0.000 - steps: 0.000\n",
      "\n",
      "Interval 26 (250000 steps performed)\n",
      "10000/10000 [==============================] - 248s - reward: -1.4630e-04   \n",
      "78 episodes - episode_reward: -0.018 [-0.115, 0.319] - loss: 0.000 - mean_squared_error: 0.000 - mean_q: 0.001 - log_reward: 0.000 - portfolio_value: 1.000 - returns: 1.000 - rate_of_return: 0.000 - cost: 0.000 - steps: 0.000\n",
      "\n",
      "Interval 27 (260000 steps performed)\n",
      "10000/10000 [==============================] - 248s - reward: 2.7261e-04   \n",
      "78 episodes - episode_reward: 0.035 [-0.290, 4.486] - loss: 0.001 - mean_squared_error: 0.001 - mean_q: 0.000 - log_reward: 0.000 - portfolio_value: 1.000 - returns: 1.001 - rate_of_return: 0.000 - cost: 0.000 - steps: 0.000\n",
      "\n",
      "Interval 28 (270000 steps performed)\n",
      "10000/10000 [==============================] - 249s - reward: -1.7229e-04   \n",
      "78 episodes - episode_reward: -0.021 [-0.264, 0.382] - loss: 0.000 - mean_squared_error: 0.001 - mean_q: 0.001 - log_reward: 0.000 - portfolio_value: 1.000 - returns: 1.001 - rate_of_return: 0.000 - cost: 0.000 - steps: 0.000\n",
      "\n",
      "Interval 29 (280000 steps performed)\n",
      "10000/10000 [==============================] - 248s - reward: -1.3250e-04   \n",
      "78 episodes - episode_reward: -0.022 [-0.331, 0.328] - loss: 0.000 - mean_squared_error: 0.000 - mean_q: -0.001 - log_reward: 0.000 - portfolio_value: 1.000 - returns: 1.001 - rate_of_return: 0.000 - cost: 0.000 - steps: 0.000\n",
      "\n",
      "Interval 30 (290000 steps performed)\n",
      "10000/10000 [==============================] - 249s - reward: -1.3904e-04   \n",
      "78 episodes - episode_reward: -0.013 [-0.161, 0.116] - loss: 0.000 - mean_squared_error: 0.000 - mean_q: -0.002 - log_reward: 0.000 - portfolio_value: 1.000 - returns: 1.001 - rate_of_return: 0.000 - cost: 0.000 - steps: 0.000\n",
      "\n",
      "Interval 31 (300000 steps performed)\n",
      "10000/10000 [==============================] - 250s - reward: 0.0012   - ETA: 0s \n",
      "78 episodes - episode_reward: 0.157 [-0.253, 9.114] - loss: 0.006 - mean_squared_error: 0.011 - mean_q: 0.002 - log_reward: 0.000 - portfolio_value: 1.000 - returns: 1.000 - rate_of_return: 0.000 - cost: 0.000 - steps: 0.000\n",
      "\n",
      "Interval 32 (310000 steps performed)\n",
      "10000/10000 [==============================] - 250s - reward: -1.8848e-04   \n",
      "79 episodes - episode_reward: -0.024 [-0.373, 0.445] - loss: 0.006 - mean_squared_error: 0.013 - mean_q: 0.010 - log_reward: 0.000 - portfolio_value: 1.000 - returns: 1.002 - rate_of_return: 0.000 - cost: 0.000 - steps: 0.000\n",
      "\n",
      "Interval 33 (320000 steps performed)\n",
      "10000/10000 [==============================] - 251s - reward: -7.9566e-05   \n",
      "78 episodes - episode_reward: -0.010 [-0.150, 0.312] - loss: 0.000 - mean_squared_error: 0.000 - mean_q: 0.007 - log_reward: 0.000 - portfolio_value: 1.000 - returns: 1.000 - rate_of_return: 0.000 - cost: 0.000 - steps: 0.000\n",
      "\n",
      "Interval 34 (330000 steps performed)\n",
      "10000/10000 [==============================] - 252s - reward: 8.6628e-04   \n",
      "78 episodes - episode_reward: 0.111 [-0.146, 9.847] - loss: 0.005 - mean_squared_error: 0.010 - mean_q: 0.008 - log_reward: 0.000 - portfolio_value: 1.000 - returns: 0.999 - rate_of_return: 0.000 - cost: 0.000 - steps: 0.000\n",
      "\n",
      "Interval 35 (340000 steps performed)\n",
      "10000/10000 [==============================] - 252s - reward: -1.5725e-04   \n",
      "78 episodes - episode_reward: -0.020 [-0.282, 0.324] - loss: 0.000 - mean_squared_error: 0.000 - mean_q: 0.011 - log_reward: 0.000 - portfolio_value: 1.000 - returns: 0.999 - rate_of_return: 0.000 - cost: 0.000 - steps: 0.000\n",
      "\n",
      "Interval 36 (350000 steps performed)\n",
      "10000/10000 [==============================] - 253s - reward: -1.5033e-04   \n",
      "78 episodes - episode_reward: -0.019 [-0.230, 0.856] - loss: 0.000 - mean_squared_error: 0.000 - mean_q: 0.008 - log_reward: 0.000 - portfolio_value: 1.000 - returns: 1.001 - rate_of_return: 0.000 - cost: 0.000 - steps: 0.000\n",
      "\n",
      "Interval 37 (360000 steps performed)\n",
      "10000/10000 [==============================] - 253s - reward: 2.7008e-04   \n",
      "78 episodes - episode_reward: 0.035 [-0.171, 3.808] - loss: 0.001 - mean_squared_error: 0.002 - mean_q: 0.007 - log_reward: 0.000 - portfolio_value: 1.000 - returns: 1.000 - rate_of_return: 0.000 - cost: 0.000 - steps: 0.000\n",
      "\n",
      "Interval 38 (370000 steps performed)\n",
      "10000/10000 [==============================] - 253s - reward: 4.8595e-04   \n",
      "78 episodes - episode_reward: 0.062 [-0.135, 6.289] - loss: 0.003 - mean_squared_error: 0.006 - mean_q: 0.012 - log_reward: 0.000 - portfolio_value: 1.000 - returns: 1.000 - rate_of_return: 0.000 - cost: 0.000 - steps: 0.000\n",
      "\n",
      "Interval 39 (380000 steps performed)\n",
      "10000/10000 [==============================] - 254s - reward: -2.0588e-04    E\n",
      "78 episodes - episode_reward: -0.026 [-0.279, 0.408] - loss: 0.000 - mean_squared_error: 0.000 - mean_q: 0.011 - log_reward: 0.000 - portfolio_value: 1.000 - returns: 1.001 - rate_of_return: 0.000 - cost: 0.000 - steps: 0.000\n",
      "\n",
      "Interval 40 (390000 steps performed)\n",
      "10000/10000 [==============================] - 255s - reward: 0.0012   \n",
      "79 episodes - episode_reward: 0.146 [-0.320, 9.557] - loss: 0.005 - mean_squared_error: 0.009 - mean_q: 0.017 - log_reward: 0.000 - portfolio_value: 1.000 - returns: 1.000 - rate_of_return: 0.000 - cost: 0.000 - steps: 0.000\n",
      "\n",
      "Interval 41 (400000 steps performed)\n",
      "10000/10000 [==============================] - 254s - reward: -2.8024e-04   \n",
      "78 episodes - episode_reward: -0.036 [-1.003, 0.260] - loss: 0.000 - mean_squared_error: 0.000 - mean_q: 0.014 - log_reward: 0.000 - portfolio_value: 1.000 - returns: 1.000 - rate_of_return: 0.000 - cost: 0.000 - steps: 0.000\n",
      "\n",
      "Interval 42 (410000 steps performed)\n",
      "10000/10000 [==============================] - 255s - reward: 2.2842e-04   - ETA: 1s -\n",
      "78 episodes - episode_reward: 0.031 [-0.284, 4.100] - loss: 0.001 - mean_squared_error: 0.001 - mean_q: 0.010 - log_reward: 0.000 - portfolio_value: 1.000 - returns: 1.000 - rate_of_return: 0.000 - cost: 0.000 - steps: 0.000\n",
      "\n",
      "Interval 43 (420000 steps performed)\n",
      "10000/10000 [==============================] - 254s - reward: -1.7068e-04    ETA: \n",
      "78 episodes - episode_reward: -0.024 [-0.309, 0.177] - loss: 0.000 - mean_squared_error: 0.001 - mean_q: 0.009 - log_reward: 0.000 - portfolio_value: 1.000 - returns: 1.000 - rate_of_return: 0.000 - cost: 0.000 - steps: 0.000\n",
      "\n",
      "Interval 44 (430000 steps performed)\n",
      "10000/10000 [==============================] - 254s - reward: -1.4452e-04   \n",
      "78 episodes - episode_reward: -0.019 [-0.160, 0.227] - loss: 0.000 - mean_squared_error: 0.000 - mean_q: 0.007 - log_reward: 0.000 - portfolio_value: 1.000 - returns: 0.999 - rate_of_return: 0.000 - cost: 0.000 - steps: 0.000\n",
      "\n",
      "Interval 45 (440000 steps performed)\n",
      "10000/10000 [==============================] - 255s - reward: -1.8597e-04   \n",
      "78 episodes - episode_reward: -0.023 [-0.639, 0.620] - loss: 0.000 - mean_squared_error: 0.000 - mean_q: 0.004 - log_reward: 0.000 - portfolio_value: 1.000 - returns: 0.999 - rate_of_return: 0.000 - cost: 0.000 - steps: 0.000\n",
      "\n",
      "Interval 46 (450000 steps performed)\n",
      "10000/10000 [==============================] - 255s - reward: -1.7147e-04   \n",
      "78 episodes - episode_reward: -0.023 [-0.216, 0.332] - loss: 0.000 - mean_squared_error: 0.000 - mean_q: 0.002 - log_reward: 0.000 - portfolio_value: 1.000 - returns: 0.999 - rate_of_return: 0.000 - cost: 0.000 - steps: 0.000\n",
      "\n",
      "Interval 47 (460000 steps performed)\n",
      "10000/10000 [==============================] - 258s - reward: -1.1064e-04   \n",
      "78 episodes - episode_reward: -0.012 [-0.155, 0.323] - loss: 0.000 - mean_squared_error: 0.001 - mean_q: -0.000 - log_reward: 0.000 - portfolio_value: 1.000 - returns: 1.000 - rate_of_return: 0.000 - cost: 0.000 - steps: 0.000\n",
      "\n",
      "Interval 48 (470000 steps performed)\n"
     ]
    },
    {
     "name": "stdout",
     "output_type": "stream",
     "text": [
      "10000/10000 [==============================] - 249s - reward: -2.5934e-04   \n",
      "79 episodes - episode_reward: -0.035 [-0.254, 0.161] - loss: 0.000 - mean_squared_error: 0.000 - mean_q: -0.001 - log_reward: 0.000 - portfolio_value: 1.000 - returns: 1.000 - rate_of_return: 0.000 - cost: 0.000 - steps: 0.000\n",
      "\n",
      "Interval 49 (480000 steps performed)\n",
      "10000/10000 [==============================] - 249s - reward: -1.3015e-04   \n",
      "78 episodes - episode_reward: -0.017 [-0.223, 0.366] - loss: 0.000 - mean_squared_error: 0.000 - mean_q: -0.003 - log_reward: 0.000 - portfolio_value: 1.000 - returns: 1.000 - rate_of_return: 0.000 - cost: 0.000 - steps: 0.000\n",
      "\n",
      "Interval 50 (490000 steps performed)\n",
      "10000/10000 [==============================] - 250s - reward: 1.9390e-04   \n",
      "78 episodes - episode_reward: 0.026 [-0.173, 0.927] - loss: 0.001 - mean_squared_error: 0.002 - mean_q: -0.001 - log_reward: 0.000 - portfolio_value: 1.000 - returns: 0.999 - rate_of_return: 0.000 - cost: 0.000 - steps: 0.000\n",
      "\n",
      "Interval 51 (500000 steps performed)\n",
      "10000/10000 [==============================] - 247s - reward: -4.6792e-05   \n",
      "78 episodes - episode_reward: -0.007 [-0.294, 0.373] - loss: 0.000 - mean_squared_error: 0.000 - mean_q: -0.001 - log_reward: 0.000 - portfolio_value: 1.000 - returns: 1.000 - rate_of_return: 0.000 - cost: 0.000 - steps: 0.000\n",
      "\n",
      "Interval 52 (510000 steps performed)\n",
      "10000/10000 [==============================] - 247s - reward: 8.8362e-04   \n",
      "78 episodes - episode_reward: 0.114 [-0.184, 5.755] - loss: 0.002 - mean_squared_error: 0.004 - mean_q: 0.005 - log_reward: 0.000 - portfolio_value: 1.000 - returns: 0.999 - rate_of_return: 0.000 - cost: 0.000 - steps: 0.000\n",
      "\n",
      "Interval 53 (520000 steps performed)\n",
      "10000/10000 [==============================] - 248s - reward: 4.2279e-04   \n",
      "78 episodes - episode_reward: 0.054 [-0.323, 5.816] - loss: 0.002 - mean_squared_error: 0.004 - mean_q: 0.005 - log_reward: 0.000 - portfolio_value: 1.000 - returns: 1.000 - rate_of_return: 0.000 - cost: 0.000 - steps: 0.000\n",
      "\n",
      "Interval 54 (530000 steps performed)\n",
      "10000/10000 [==============================] - 248s - reward: 2.2306e-04   \n",
      "78 episodes - episode_reward: 0.029 [-0.207, 2.957] - loss: 0.001 - mean_squared_error: 0.001 - mean_q: 0.008 - log_reward: 0.000 - portfolio_value: 1.000 - returns: 0.999 - rate_of_return: 0.000 - cost: 0.000 - steps: 0.000\n",
      "\n",
      "Interval 55 (540000 steps performed)\n",
      "10000/10000 [==============================] - 249s - reward: -1.0078e-04   \n",
      "78 episodes - episode_reward: -0.014 [-0.108, 0.222] - loss: 0.000 - mean_squared_error: 0.000 - mean_q: 0.007 - log_reward: 0.000 - portfolio_value: 1.000 - returns: 1.001 - rate_of_return: 0.000 - cost: 0.000 - steps: 0.000\n",
      "\n",
      "Interval 56 (550000 steps performed)\n",
      "10000/10000 [==============================] - 249s - reward: -3.1549e-04   \n",
      "79 episodes - episode_reward: -0.040 [-0.275, 0.116] - loss: 0.000 - mean_squared_error: 0.000 - mean_q: 0.004 - log_reward: 0.000 - portfolio_value: 1.000 - returns: 0.999 - rate_of_return: 0.000 - cost: 0.000 - steps: 0.000\n",
      "\n",
      "Interval 57 (560000 steps performed)\n",
      "10000/10000 [==============================] - 250s - reward: 7.2630e-04   \n",
      "78 episodes - episode_reward: 0.093 [-0.199, 9.157] - loss: 0.001 - mean_squared_error: 0.002 - mean_q: 0.001 - log_reward: 0.000 - portfolio_value: 1.000 - returns: 1.001 - rate_of_return: 0.000 - cost: 0.000 - steps: 0.000\n",
      "\n",
      "Interval 58 (570000 steps performed)\n",
      "10000/10000 [==============================] - 251s - reward: 5.2455e-04   \n",
      "78 episodes - episode_reward: 0.068 [-0.460, 6.660] - loss: 0.006 - mean_squared_error: 0.011 - mean_q: 0.009 - log_reward: 0.000 - portfolio_value: 1.000 - returns: 1.000 - rate_of_return: 0.000 - cost: 0.000 - steps: 0.000\n",
      "\n",
      "Interval 59 (580000 steps performed)\n",
      "10000/10000 [==============================] - 252s - reward: -6.2829e-05   \n",
      "78 episodes - episode_reward: -0.009 [-0.332, 0.903] - loss: 0.000 - mean_squared_error: 0.001 - mean_q: 0.011 - log_reward: 0.000 - portfolio_value: 1.000 - returns: 1.001 - rate_of_return: 0.000 - cost: 0.000 - steps: 0.000\n",
      "\n",
      "Interval 60 (590000 steps performed)\n",
      "10000/10000 [==============================] - 252s - reward: -1.1523e-04   \n",
      "78 episodes - episode_reward: -0.014 [-0.315, 0.444] - loss: 0.000 - mean_squared_error: 0.000 - mean_q: 0.009 - log_reward: 0.000 - portfolio_value: 1.000 - returns: 1.000 - rate_of_return: 0.000 - cost: 0.000 - steps: 0.000\n",
      "\n",
      "Interval 61 (600000 steps performed)\n",
      "10000/10000 [==============================] - 251s - reward: -7.9947e-05   \n",
      "78 episodes - episode_reward: -0.009 [-0.317, 0.204] - loss: 0.000 - mean_squared_error: 0.000 - mean_q: 0.006 - log_reward: 0.000 - portfolio_value: 1.000 - returns: 0.999 - rate_of_return: 0.000 - cost: 0.000 - steps: 0.000\n",
      "\n",
      "Interval 62 (610000 steps performed)\n",
      "10000/10000 [==============================] - 252s - reward: 4.3906e-04   \n",
      "78 episodes - episode_reward: 0.055 [-0.353, 4.870] - loss: 0.001 - mean_squared_error: 0.002 - mean_q: 0.008 - log_reward: 0.000 - portfolio_value: 1.000 - returns: 0.999 - rate_of_return: 0.000 - cost: 0.000 - steps: 0.000\n",
      "\n",
      "Interval 63 (620000 steps performed)\n",
      "10000/10000 [==============================] - 252s - reward: -9.6117e-05   \n",
      "78 episodes - episode_reward: -0.013 [-0.334, 0.601] - loss: 0.000 - mean_squared_error: 0.001 - mean_q: 0.007 - log_reward: 0.000 - portfolio_value: 1.000 - returns: 1.001 - rate_of_return: 0.000 - cost: 0.000 - steps: 0.000\n",
      "\n",
      "Interval 64 (630000 steps performed)\n",
      "10000/10000 [==============================] - 253s - reward: 8.6704e-04   \n",
      "79 episodes - episode_reward: 0.110 [-0.417, 6.321] - loss: 0.004 - mean_squared_error: 0.007 - mean_q: 0.013 - log_reward: 0.000 - portfolio_value: 1.000 - returns: 1.001 - rate_of_return: 0.000 - cost: 0.000 - steps: 0.000\n",
      "\n",
      "Interval 65 (640000 steps performed)\n",
      "10000/10000 [==============================] - 253s - reward: 3.3548e-04   \n",
      "78 episodes - episode_reward: 0.043 [-0.245, 4.134] - loss: 0.001 - mean_squared_error: 0.002 - mean_q: 0.016 - log_reward: 0.000 - portfolio_value: 1.000 - returns: 1.000 - rate_of_return: 0.000 - cost: 0.000 - steps: 0.000\n",
      "\n",
      "Interval 66 (650000 steps performed)\n",
      "10000/10000 [==============================] - 254s - reward: -1.5578e-04   \n",
      "78 episodes - episode_reward: -0.020 [-0.228, 0.253] - loss: 0.000 - mean_squared_error: 0.000 - mean_q: 0.015 - log_reward: 0.000 - portfolio_value: 1.000 - returns: 1.000 - rate_of_return: 0.000 - cost: 0.000 - steps: 0.000\n",
      "\n",
      "Interval 67 (660000 steps performed)\n",
      "10000/10000 [==============================] - 255s - reward: -3.0199e-05   \n",
      "78 episodes - episode_reward: -0.004 [-0.228, 0.563] - loss: 0.000 - mean_squared_error: 0.001 - mean_q: 0.012 - log_reward: 0.000 - portfolio_value: 1.000 - returns: 0.999 - rate_of_return: 0.000 - cost: 0.000 - steps: 0.000\n",
      "\n",
      "Interval 68 (670000 steps performed)\n",
      "10000/10000 [==============================] - 256s - reward: -4.8632e-05   \n",
      "78 episodes - episode_reward: -0.006 [-0.201, 1.407] - loss: 0.000 - mean_squared_error: 0.000 - mean_q: 0.009 - log_reward: 0.000 - portfolio_value: 1.000 - returns: 1.000 - rate_of_return: 0.000 - cost: 0.000 - steps: 0.000\n",
      "\n",
      "Interval 69 (680000 steps performed)\n",
      "10000/10000 [==============================] - 254s - reward: 2.7966e-04   \n",
      "78 episodes - episode_reward: 0.036 [-0.156, 4.029] - loss: 0.001 - mean_squared_error: 0.002 - mean_q: 0.009 - log_reward: 0.000 - portfolio_value: 1.000 - returns: 0.999 - rate_of_return: 0.000 - cost: 0.000 - steps: 0.000\n",
      "\n",
      "Interval 70 (690000 steps performed)\n",
      "10000/10000 [==============================] - 256s - reward: 3.8604e-04   \n",
      "78 episodes - episode_reward: 0.049 [-0.470, 6.391] - loss: 0.003 - mean_squared_error: 0.006 - mean_q: 0.014 - log_reward: 0.000 - portfolio_value: 1.000 - returns: 1.001 - rate_of_return: 0.000 - cost: 0.000 - steps: 0.000\n",
      "\n",
      "Interval 71 (700000 steps performed)\n",
      "10000/10000 [==============================] - 256s - reward: -1.0247e-04   \n",
      "78 episodes - episode_reward: -0.013 [-0.237, 0.278] - loss: 0.000 - mean_squared_error: 0.000 - mean_q: 0.013 - log_reward: 0.000 - portfolio_value: 1.000 - returns: 1.000 - rate_of_return: 0.000 - cost: 0.000 - steps: 0.000\n",
      "\n",
      "Interval 72 (710000 steps performed)\n"
     ]
    },
    {
     "name": "stdout",
     "output_type": "stream",
     "text": [
      "10000/10000 [==============================] - 245s - reward: 2.2093e-04   \n",
      "79 episodes - episode_reward: 0.027 [-0.164, 4.378] - loss: 0.001 - mean_squared_error: 0.002 - mean_q: 0.010 - log_reward: 0.000 - portfolio_value: 1.000 - returns: 1.001 - rate_of_return: 0.000 - cost: 0.000 - steps: 0.000\n",
      "\n",
      "Interval 73 (720000 steps performed)\n",
      "10000/10000 [==============================] - 245s - reward: -1.7273e-04   \n",
      "78 episodes - episode_reward: -0.022 [-0.174, 0.174] - loss: 0.000 - mean_squared_error: 0.000 - mean_q: 0.009 - log_reward: 0.000 - portfolio_value: 1.000 - returns: 1.000 - rate_of_return: 0.000 - cost: 0.000 - steps: 0.000\n",
      "\n",
      "Interval 74 (730000 steps performed)\n",
      "10000/10000 [==============================] - 247s - reward: -1.4076e-04   \n",
      "78 episodes - episode_reward: -0.018 [-0.178, 0.343] - loss: 0.000 - mean_squared_error: 0.000 - mean_q: 0.006 - log_reward: 0.000 - portfolio_value: 1.000 - returns: 0.999 - rate_of_return: 0.000 - cost: 0.000 - steps: 0.000\n",
      "\n",
      "Interval 75 (740000 steps performed)\n",
      "10000/10000 [==============================] - 247s - reward: 0.0013   \n",
      "78 episodes - episode_reward: 0.170 [-0.162, 10.344] - loss: 0.003 - mean_squared_error: 0.005 - mean_q: 0.004 - log_reward: 0.000 - portfolio_value: 1.000 - returns: 1.001 - rate_of_return: 0.000 - cost: 0.000 - steps: 0.000\n",
      "\n",
      "Interval 76 (750000 steps performed)\n",
      "10000/10000 [==============================] - 247s - reward: 4.9826e-04   \n",
      "78 episodes - episode_reward: 0.065 [-0.230, 6.242] - loss: 0.006 - mean_squared_error: 0.012 - mean_q: 0.020 - log_reward: 0.000 - portfolio_value: 1.000 - returns: 1.001 - rate_of_return: 0.000 - cost: 0.000 - steps: 0.000\n",
      "\n",
      "Interval 77 (760000 steps performed)\n",
      "10000/10000 [==============================] - 248s - reward: 0.0011   \n",
      "78 episodes - episode_reward: 0.145 [-0.277, 8.379] - loss: 0.005 - mean_squared_error: 0.009 - mean_q: 0.027 - log_reward: 0.000 - portfolio_value: 1.000 - returns: 1.001 - rate_of_return: 0.000 - cost: 0.000 - steps: 0.000\n",
      "\n",
      "Interval 78 (770000 steps performed)\n",
      "10000/10000 [==============================] - 248s - reward: -1.5455e-04   \n",
      "78 episodes - episode_reward: -0.021 [-0.190, 0.429] - loss: 0.000 - mean_squared_error: 0.001 - mean_q: 0.024 - log_reward: 0.000 - portfolio_value: 1.000 - returns: 0.999 - rate_of_return: 0.000 - cost: 0.000 - steps: 0.000\n",
      "\n",
      "Interval 79 (780000 steps performed)\n",
      "10000/10000 [==============================] - 248s - reward: -3.7612e-05   \n",
      "78 episodes - episode_reward: -0.005 [-0.183, 0.301] - loss: 0.000 - mean_squared_error: 0.000 - mean_q: 0.018 - log_reward: 0.000 - portfolio_value: 1.000 - returns: 1.001 - rate_of_return: 0.000 - cost: 0.000 - steps: 0.000\n",
      "\n",
      "Interval 80 (790000 steps performed)\n",
      "10000/10000 [==============================] - 249s - reward: -1.0749e-04   \n",
      "79 episodes - episode_reward: -0.013 [-0.200, 0.522] - loss: 0.000 - mean_squared_error: 0.000 - mean_q: 0.014 - log_reward: 0.000 - portfolio_value: 1.000 - returns: 0.999 - rate_of_return: 0.000 - cost: 0.000 - steps: 0.000\n",
      "\n",
      "Interval 81 (800000 steps performed)\n",
      "10000/10000 [==============================] - 250s - reward: -1.6914e-04   \n",
      "78 episodes - episode_reward: -0.021 [-0.210, 0.290] - loss: 0.000 - mean_squared_error: 0.000 - mean_q: 0.011 - log_reward: 0.000 - portfolio_value: 1.000 - returns: 0.999 - rate_of_return: 0.000 - cost: 0.000 - steps: 0.000\n",
      "\n",
      "Interval 82 (810000 steps performed)\n",
      "10000/10000 [==============================] - 251s - reward: 3.5397e-04   \n",
      "78 episodes - episode_reward: 0.045 [-0.271, 5.485] - loss: 0.002 - mean_squared_error: 0.003 - mean_q: 0.009 - log_reward: 0.000 - portfolio_value: 1.000 - returns: 1.000 - rate_of_return: 0.000 - cost: 0.000 - steps: 0.000\n",
      "\n",
      "Interval 83 (820000 steps performed)\n",
      "10000/10000 [==============================] - 252s - reward: 3.3687e-04   \n",
      "78 episodes - episode_reward: 0.043 [-0.205, 5.780] - loss: 0.001 - mean_squared_error: 0.001 - mean_q: 0.010 - log_reward: 0.000 - portfolio_value: 1.000 - returns: 1.001 - rate_of_return: 0.000 - cost: 0.000 - steps: 0.000\n",
      "\n",
      "Interval 84 (830000 steps performed)\n",
      "10000/10000 [==============================] - 251s - reward: -2.8534e-04   \n",
      "78 episodes - episode_reward: -0.036 [-0.356, 0.273] - loss: 0.002 - mean_squared_error: 0.004 - mean_q: 0.013 - log_reward: 0.000 - portfolio_value: 1.000 - returns: 0.999 - rate_of_return: 0.000 - cost: 0.000 - steps: 0.000\n",
      "\n",
      "Interval 85 (840000 steps performed)\n",
      "10000/10000 [==============================] - 251s - reward: -1.9479e-04   \n",
      "78 episodes - episode_reward: -0.025 [-0.225, 0.189] - loss: 0.003 - mean_squared_error: 0.005 - mean_q: 0.009 - log_reward: 0.000 - portfolio_value: 1.000 - returns: 1.000 - rate_of_return: 0.000 - cost: 0.000 - steps: 0.000\n",
      "\n",
      "Interval 86 (850000 steps performed)\n",
      "10000/10000 [==============================] - 252s - reward: 2.7574e-04   \n",
      "78 episodes - episode_reward: 0.035 [-0.193, 4.721] - loss: 0.001 - mean_squared_error: 0.002 - mean_q: 0.011 - log_reward: 0.000 - portfolio_value: 1.000 - returns: 1.000 - rate_of_return: 0.000 - cost: 0.000 - steps: 0.000\n",
      "\n",
      "Interval 87 (860000 steps performed)\n",
      "10000/10000 [==============================] - 253s - reward: -2.0779e-04   \n",
      "78 episodes - episode_reward: -0.027 [-0.171, 0.178] - loss: 0.000 - mean_squared_error: 0.000 - mean_q: 0.007 - log_reward: 0.000 - portfolio_value: 1.000 - returns: 1.000 - rate_of_return: 0.000 - cost: 0.000 - steps: 0.000\n",
      "\n",
      "Interval 88 (870000 steps performed)\n",
      "10000/10000 [==============================] - 253s - reward: -1.1235e-04   \n",
      "79 episodes - episode_reward: -0.014 [-0.158, 0.409] - loss: 0.000 - mean_squared_error: 0.001 - mean_q: 0.004 - log_reward: 0.000 - portfolio_value: 1.000 - returns: 1.000 - rate_of_return: 0.000 - cost: 0.000 - steps: 0.000\n",
      "\n",
      "Interval 89 (880000 steps performed)\n",
      "10000/10000 [==============================] - 252s - reward: -1.4044e-04   \n",
      "78 episodes - episode_reward: -0.018 [-0.134, 0.365] - loss: 0.000 - mean_squared_error: 0.000 - mean_q: 0.002 - log_reward: 0.000 - portfolio_value: 1.000 - returns: 1.000 - rate_of_return: 0.000 - cost: 0.000 - steps: 0.000\n",
      "\n",
      "Interval 90 (890000 steps performed)\n",
      "10000/10000 [==============================] - 253s - reward: 2.0121e-04   \n",
      "done, took 23758.722 seconds\n"
     ]
    }
   ],
   "source": [
    "# Okay, now it's time to learn something! We visualize the training here for show, but this\n",
    "# slows down training quite a lot. You can always safely abort the training prematurely using\n",
    "# Ctrl + C.\n",
    "history = agent.fit(env, \n",
    "                  nb_steps=900000, \n",
    "                  visualize=False, \n",
    "                  verbose=1,\n",
    "                  callbacks=[\n",
    "#                       TrainIntervalLoggerTQDMNotebook(),\n",
    "#                       ReduceLROnPlateau(monitor='episode_reward', patience = 150)\n",
    "                    ]\n",
    "                 )\n",
    "\n",
    "# After training is done, we save the final weights.\n",
    "agent.save_weights('outputs/agent_{}_weights.h5f'.format('portfolio-ddpg-keras-rl'), overwrite=True)"
   ]
  },
  {
   "cell_type": "code",
   "execution_count": 188,
   "metadata": {
    "ExecuteTime": {
     "end_time": "2017-07-15T22:07:19.253027Z",
     "start_time": "2017-07-16T06:07:19.171484+08:00"
    }
   },
   "outputs": [],
   "source": [
    "agent.save_weights('outputs/agent_{}_weights.h5f'.format('portfolio-ddpg-keras-rl'), overwrite=True)"
   ]
  },
  {
   "cell_type": "code",
   "execution_count": null,
   "metadata": {
    "ExecuteTime": {
     "end_time": "2017-07-15T14:57:23.732325Z",
     "start_time": "2017-07-15T22:57:23.578361+08:00"
    }
   },
   "outputs": [],
   "source": []
  },
  {
   "cell_type": "code",
   "execution_count": 189,
   "metadata": {
    "ExecuteTime": {
     "end_time": "2017-07-15T22:07:25.878062Z",
     "start_time": "2017-07-16T06:07:20.733011+08:00"
    }
   },
   "outputs": [
    {
     "name": "stdout",
     "output_type": "stream",
     "text": [
      "Testing for 10 episodes ...\n",
      "Episode 1: reward: 0.024, steps: 128\n",
      "Episode 2: reward: -0.000, steps: 128\n",
      "Episode 3: reward: -0.024, steps: 128\n",
      "Episode 4: reward: -0.311, steps: 128\n",
      "Episode 5: reward: 0.020, steps: 128\n",
      "Episode 6: reward: 0.093, steps: 128\n",
      "Episode 7: reward: -0.097, steps: 128\n",
      "Episode 8: reward: -0.033, steps: 128\n",
      "Episode 9: reward: -0.113, steps: 128\n",
      "Episode 10: reward: -0.065, steps: 128\n"
     ]
    },
    {
     "data": {
      "text/plain": [
       "<keras.callbacks.History at 0x7f0796069630>"
      ]
     },
     "execution_count": 189,
     "metadata": {},
     "output_type": "execute_result"
    }
   ],
   "source": [
    "# Finally, evaluate our algorithm for 5 episodes.\n",
    "agent.test(env_test, nb_episodes=10, visualize=False)"
   ]
  },
  {
   "cell_type": "code",
   "execution_count": 190,
   "metadata": {
    "ExecuteTime": {
     "end_time": "2017-07-15T22:07:28.889416Z",
     "start_time": "2017-07-16T06:07:27.803211+08:00"
    }
   },
   "outputs": [
    {
     "data": {
      "image/png": "[encoded data removed]",
      "text/plain": [
       "<matplotlib.figure.Figure at 0x7f079e987da0>"
      ]
     },
     "metadata": {},
     "output_type": "display_data"
    }
   ],
   "source": [
    "# history\n",
    "df_hist = pd.DataFrame(history.history)\n",
    "df_hist\n",
    "df_hist['episodes'] = df_hist.index\n",
    "\n",
    "g = sns.jointplot(x=\"episodes\", y=\"episode_reward\", data=df_hist, kind=\"reg\", size=10)\n",
    "plt.show()\n",
    "\n",
    "\n",
    "# g = sns.jointplot(x=\"episodes\", y=\"rewards\", data=history, kind=\"reg\")"
   ]
  },
  {
   "cell_type": "markdown",
   "metadata": {},
   "source": [
    "# visualise\n",
    "\n",
    "ideally a price with colored actions? like https://hackernoon.com/the-self-learning-quant-d3329fcc9915"
   ]
  },
  {
   "cell_type": "markdown",
   "metadata": {
    "ExecuteTime": {
     "end_time": "2017-07-01T03:02:19.820742Z",
     "start_time": "2017-07-01T11:02:19.740692+08:00"
    }
   },
   "source": [
    "# dummy metrics"
   ]
  },
  {
   "cell_type": "code",
   "execution_count": null,
   "metadata": {
    "ExecuteTime": {
     "end_time": "2017-07-12T05:43:10.780067Z",
     "start_time": "2017-07-12T05:42:52.587Z"
    },
    "collapsed": true
   },
   "outputs": [],
   "source": []
  },
  {
   "cell_type": "code",
   "execution_count": null,
   "metadata": {
    "ExecuteTime": {
     "end_time": "2017-07-12T05:43:10.781457Z",
     "start_time": "2017-07-12T05:42:52.589Z"
    },
    "collapsed": true,
    "scrolled": false
   },
   "outputs": [],
   "source": [
    "from sklearn.dummy import DummyClassifier, DummyRegressor\n",
    "from sklearn.model_selection import train_test_split\n",
    "\n",
    "\n",
    "X_flat = X_train.reshape((len(X_train),-1))\n",
    "X_train_f, X_test_f, y_train_f, y_test_f = train_test_split(X_flat, y_train, test_size=0.2, random_state=0)\n",
    "\n",
    "def test_env(env, model, memory):\n",
    "    obs = env.reset()\n",
    "    state = memory.get_recent_state(obs)\n",
    "    for t in range(env.days):\n",
    "        x_batch = np.array([state])\n",
    "        x_flat = x_batch.reshape((len(x_batch),-1))\n",
    "        x_flat[np.isnan(x_flat)]=0\n",
    "        y_pred = model.predict(x_flat)\n",
    "        action = y_pred.argmax(1)\n",
    "        obs, rew, done, info = env.step(action[0])\n",
    "        state = memory.get_recent_state(obs)\n",
    "    \n",
    "    df_test = env.sim.to_df()\n",
    "    end = df_test.iloc[-1]\n",
    "    gain = end.bod_nav - end.mkt_nav    \n",
    "    return gain\n",
    "\n",
    "dummy_scores = []\n",
    "for strategy in ['most_frequent', 'uniform', 'prior', 'stratified']:\n",
    "    memory = Memory(window_length=window_length)\n",
    "    clf = DummyClassifier(strategy=strategy)\n",
    "    clf.fit(X_train, y_train)\n",
    "    gain = test_env(env_test, clf, memory)\n",
    "    df=env_test.sim.to_df()\n",
    "    print('{:20.20s}: {: 3.2%} /day NAV gain above market'.format(strategy, (df.mkt_nav-df.bod_nav).mean()))\n",
    "    \n",
    "    plot_env(env_test, title=strategy)  \n",
    "\n",
    "for strategy in ['mean', 'median']:\n",
    "    memory = Memory(window_length=window_length)\n",
    "    clf=DummyRegressor(strategy=strategy)\n",
    "    clf.fit(X_train, y_train)\n",
    "    gain = test_env(env_test, clf, memory)\n",
    "    df=env_test.sim.to_df()\n",
    "    print('{:20.20s}: {: 3.2%} /day NAV gain above market'.format(strategy, (df.mkt_nav-df.bod_nav).mean()))\n",
    "    \n",
    "    plot_env(env_test, title=strategy)  "
   ]
  },
  {
   "cell_type": "code",
   "execution_count": null,
   "metadata": {
    "ExecuteTime": {
     "end_time": "2017-07-12T05:43:10.782763Z",
     "start_time": "2017-07-12T05:42:52.591Z"
    },
    "collapsed": true
   },
   "outputs": [],
   "source": [
    "plot_env(env_test)"
   ]
  },
  {
   "cell_type": "code",
   "execution_count": null,
   "metadata": {
    "collapsed": true
   },
   "outputs": [],
   "source": []
  }
 ],
 "metadata": {
  "kernelspec": {
   "display_name": "jupyter3",
   "language": "python",
   "name": "jupyter3"
  },
  "language_info": {
   "codemirror_mode": {
    "name": "ipython",
    "version": 3
   },
   "file_extension": ".py",
   "mimetype": "text/x-python",
   "name": "python",
   "nbconvert_exporter": "python",
   "pygments_lexer": "ipython3",
   "version": "3.6.0"
  }
 },
 "nbformat": 4,
 "nbformat_minor": 2
}
